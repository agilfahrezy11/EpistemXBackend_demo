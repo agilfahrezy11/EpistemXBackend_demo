{
 "cells": [
  {
   "cell_type": "markdown",
   "id": "17b9b0c0",
   "metadata": {},
   "source": [
    "## Library Import"
   ]
  },
  {
   "cell_type": "code",
   "execution_count": null,
   "id": "feed6d67",
   "metadata": {},
   "outputs": [],
   "source": [
    "import ee\n",
    "ee.Authenticate()\n",
    "ee.Initialize()\n",
    "\n",
    "\n",
    "\n"
   ]
  },
  {
   "cell_type": "code",
   "execution_count": null,
   "id": "11c80818",
   "metadata": {},
   "outputs": [],
   "source": [
    "import geemap\n",
    "import numpy as np\n",
    "import matplotlib as plt\n",
    "import pandas as pd\n",
    "import epistemx.module_1"
   ]
  },
  {
   "cell_type": "markdown",
   "id": "591492f9",
   "metadata": {},
   "source": [
    "## Helper Functions"
   ]
  },
  {
   "cell_type": "code",
   "execution_count": null,
   "id": "7da205d0",
   "metadata": {},
   "outputs": [],
   "source": [
    "#############################  Area of Interest  ###########################\n",
    "def get_aoi_from_gaul(country=\"Indonesia\", province=\"Sumatera Selatan\"):\n",
    "    \"\"\"\n",
    "    Get Area of Interest geometry from GAUL administrative boundaries.\n",
    "    \n",
    "    Parameters:\n",
    "    -----------\n",
    "    country : str\n",
    "        Country name (default: \"Indonesia\")\n",
    "    province : str\n",
    "        Province/state name (default: \"Sumatera Selatan\")\n",
    "        \n",
    "    Returns:\n",
    "    --------\n",
    "    ee.Geometry : Area of interest geometry\n",
    "    \"\"\"\n",
    "    admin = ee.FeatureCollection(\"FAO/GAUL/2015/level1\")\n",
    "    aoi_fc = admin.filter(ee.Filter.eq('ADM0_NAME', country)).filter(\n",
    "        ee.Filter.eq('ADM1_NAME', province)\n",
    "    )\n",
    "    return aoi_fc.geometry()"
   ]
  },
  {
   "cell_type": "code",
   "execution_count": null,
   "id": "3027fb75",
   "metadata": {},
   "outputs": [],
   "source": [
    "# --- Area of Interest (AOI) ---\n",
    "# Set the country and province for the AOI using GAUL admin boundaries\n",
    "COUNTRY = \"Indonesia\"\n",
    "PROVINCE = \"Sumatera Selatan\"\n",
    "aoi = get_aoi_from_gaul(country=COUNTRY, province=PROVINCE)\n",
    "#Alternatively, used geemap_shp_to_ee to directly used shapefile in your local machine\n",
    "#Intialize the relfectance class data function\n",
    "optical_reflectance = Reflectance_Data()\n",
    "#define the start and end date for imagery collection\n",
    "start = '2017-01-01'\n",
    "end = '2018-12-31'\n",
    "#get the image collection and corresponding statistics\n",
    "landsat_data, stats = optical_reflectance.get_optical_data(aoi, start, end, optical_data='L8_SR', \n",
    "                                                           cloud_cover=40, compute_detailed_stats=False)\n",
    "#visualization parameter\n",
    "l8_sr_visparam = {\n",
    "    'min': 0,\n",
    "    'max': 0.4,\n",
    "    'gamma': [0.95, 1.1, 1],\n",
    "    'bands':['NIR', 'RED', 'GREEN']\n",
    "}\n",
    "#create mosaic between image collection, sort them based on the cloud cover property, and clip based on AOI\n",
    "mosaic_landsat = landsat_data.sort('CLOUD_COVER_LAND').mosaic().clip(aoi)\n",
    "#Add the data to the map\n",
    "Map = geemap.Map()\n",
    "Map.addLayer(mosaic_landsat, l8_sr_visparam, 'L8 SR Mosaic')\n",
    "Map \n",
    "# set center of the map in the area of interest\n",
    "Map.centerObject(aoi, 7)\n",
    "# adding the data\n",
    "Map.addLayer(landsat_data, l8_sr_visparam, 'L8 SR Image Collection')"
   ]
  }
 ],
 "metadata": {
  "kernelspec": {
   "display_name": "epistemx",
   "language": "python",
   "name": "python3"
  },
  "language_info": {
   "codemirror_mode": {
    "name": "ipython",
    "version": 3
   },
   "file_extension": ".py",
   "mimetype": "text/x-python",
   "name": "python",
   "nbconvert_exporter": "python",
   "pygments_lexer": "ipython3",
   "version": "3.9.23"
  }
 },
 "nbformat": 4,
 "nbformat_minor": 5
}
