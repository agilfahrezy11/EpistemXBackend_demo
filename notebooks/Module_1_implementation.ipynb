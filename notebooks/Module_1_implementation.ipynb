{
 "cells": [
  {
   "cell_type": "markdown",
   "id": "17b9b0c0",
   "metadata": {},
   "source": [
    "# Demonstration of EPISTEM-x Module \n",
    "This notebook contain the implementation of the source code for each module in the EPISTEM land cover mapping framework"
   ]
  },
  {
   "cell_type": "markdown",
   "id": "ed875980",
   "metadata": {},
   "source": [
    "## Library import and earth engine initialization\n",
    "If you have earth engine account you could used that to authenticate and initialize the earth engine. However, if you did not have the account, service account initialization is avaliable"
   ]
  },
  {
   "cell_type": "code",
   "execution_count": null,
   "id": "d131ed9b",
   "metadata": {},
   "outputs": [
    {
     "data": {
      "text/html": [
       "\n",
       "            <style>\n",
       "                .geemap-dark {\n",
       "                    --jp-widgets-color: white;\n",
       "                    --jp-widgets-label-color: white;\n",
       "                    --jp-ui-font-color1: white;\n",
       "                    --jp-layout-color2: #454545;\n",
       "                    background-color: #383838;\n",
       "                }\n",
       "\n",
       "                .geemap-dark .jupyter-button {\n",
       "                    --jp-layout-color3: #383838;\n",
       "                }\n",
       "\n",
       "                .geemap-colab {\n",
       "                    background-color: var(--colab-primary-surface-color, white);\n",
       "                }\n",
       "\n",
       "                .geemap-colab .jupyter-button {\n",
       "                    --jp-layout-color3: var(--colab-primary-surface-color, white);\n",
       "                }\n",
       "            </style>\n",
       "            "
      ],
      "text/plain": [
       "<IPython.core.display.HTML object>"
      ]
     },
     "metadata": {},
     "output_type": "display_data"
    },
    {
     "name": "stderr",
     "output_type": "stream",
     "text": [
      "2025-10-27 10:10:12,471 - epistemx.ee_config - INFO - Starting manual Earth Engine authentication...\n"
     ]
    },
    {
     "name": "stdout",
     "output_type": "stream",
     "text": [
      "\n",
      "    MANUAL EARTH ENGINE AUTHENTICATION STEPS:\n",
      "    \n",
      "    1. Install the Earth Engine Python API (if not already installed):\n",
      "       pip install earthengine-api\n",
      "    \n",
      "    2. Run authentication in your terminal/command prompt:\n",
      "       earthengine authenticate\n",
      "    \n",
      "    3. This will open a web browser. Sign in with your Google account that has Earth Engine access.\n",
      "    \n",
      "    4. Copy the authorization code from the browser and paste it in the terminal.\n",
      "    \n",
      "    5. Alternatively, you can authenticate programmatically by calling:\n",
      "       from epistemx.ee_config import authenticate_manually\n",
      "       authenticate_manually()\n",
      "    \n",
      "    6. If you don't have Earth Engine access, sign up at:\n",
      "       https://earthengine.google.com/\n",
      "    \n",
      "    For more details, visit: https://developers.google.com/earth-engine/guides/python_install\n",
      "    \n"
     ]
    },
    {
     "data": {
      "text/html": [
       "<p>To authorize access needed by Earth Engine, open the following\n",
       "        URL in a web browser and follow the instructions:</p>\n",
       "        <p><a href=https://code.earthengine.google.com/client-auth?scopes=https%3A//www.googleapis.com/auth/earthengine%20https%3A//www.googleapis.com/auth/cloud-platform%20https%3A//www.googleapis.com/auth/drive%20https%3A//www.googleapis.com/auth/devstorage.full_control&request_id=gGbR7jOuit-B4zyGPZbIDqNf_035SyAUQUqptJavCU4&tc=IF4Vm4qPadbeJbHJUQ3RpOU1LkxIECIMoV7fMSRYwUI&cc=eo04r6jVsxWE3p9lh030Go1LFqxwjJQ_xuu6SWRGr3w>https://code.earthengine.google.com/client-auth?scopes=https%3A//www.googleapis.com/auth/earthengine%20https%3A//www.googleapis.com/auth/cloud-platform%20https%3A//www.googleapis.com/auth/drive%20https%3A//www.googleapis.com/auth/devstorage.full_control&request_id=gGbR7jOuit-B4zyGPZbIDqNf_035SyAUQUqptJavCU4&tc=IF4Vm4qPadbeJbHJUQ3RpOU1LkxIECIMoV7fMSRYwUI&cc=eo04r6jVsxWE3p9lh030Go1LFqxwjJQ_xuu6SWRGr3w</a></p>\n",
       "        <p>The authorization workflow will generate a code, which you should paste in the box below.</p>\n",
       "        "
      ],
      "text/plain": [
       "<IPython.core.display.HTML object>"
      ]
     },
     "metadata": {},
     "output_type": "display_data"
    },
    {
     "name": "stderr",
     "output_type": "stream",
     "text": [
      "2025-10-27 10:10:34,919 - epistemx.ee_config - ERROR - Manual authentication failed: Cannot authenticate: Invalid request.\n"
     ]
    },
    {
     "data": {
      "text/plain": [
       "False"
      ]
     },
     "execution_count": 11,
     "metadata": {},
     "output_type": "execute_result"
    }
   ],
   "source": [
    "import ee \n",
    "import epistemx\n",
    "\n",
    "#Option 1: Manual authenticate using personal account\n",
    "#Instructions for manual authentication\n",
    "epistemx.print_auth_instructions()\n",
    "#uncomment the below line and follow earth engine authentication process\n",
    "#epistemx.authenticate_manually()\n",
    "\n",
    "#Option 2: Autheticate using service account (json file)\n",
    "service_account_path = '../auth/earth-engine-451407-4045e13555ee.json'\n",
    "success = epistemx.initialize_with_service_account(service_account_path)\n",
    "\n",
    "if success:\n",
    "    print(\"Earth Engine initialized with service account successfully!\")\n",
    "else:\n",
    "    print(\"Service account initialization failed. Try to authenticate earth engine manually\")\n",
    "\n",
    "#Check authentication status\n",
    "status = epistemx.get_auth_status()\n",
    "print(f\"Initialized: {status['initialized']}\")\n",
    "print(f\"Authenticated: {status['authenticated']}\")\n",
    "if status['project']:\n",
    "    print(f\"Project: {status['project']}\")"
   ]
  },
  {
   "cell_type": "code",
   "execution_count": null,
   "id": "87e17a13",
   "metadata": {},
   "outputs": [],
   "source": [
    "#!python -m pip install ../epistemx --quiet\n",
    "import geemap\n",
    "from epistemx.module_1 import Reflectance_Data, Reflectance_Stats\n",
    "from epistemx.helpers import get_aoi_from_gaul"
   ]
  },
  {
   "cell_type": "markdown",
   "id": "77a1466e",
   "metadata": {},
   "source": [
    "## Module 1: Acquisition of Near-Cloud-Free Satellite Imagery"
   ]
  },
  {
   "cell_type": "markdown",
   "id": "5114ef38",
   "metadata": {},
   "source": [
    "### System Response 1.1: Area of Interest Definition"
   ]
  },
  {
   "cell_type": "code",
   "execution_count": null,
   "id": "d8507432",
   "metadata": {},
   "outputs": [],
   "source": [
    "#Set the country and province for the AOI using GAUL admin boundaries\n",
    "aoi = get_aoi_from_gaul(country=\"Indonesia\", province=\"Sumatera Selatan\")\n",
    "#Alternatively, used geemap_shp_to_ee to directly used shapefile in your local machine"
   ]
  },
  {
   "cell_type": "markdown",
   "id": "186e3a9f",
   "metadata": {},
   "source": [
    "### System Response 1.2: Search and Filter Imagery\n",
    "The EPISTEM source code supports Landsat mission data, ranging from Landsat 1 to Landsat 9. For Landsat 1 - 3, the avaliable data is corrected radiance reflectance. The Landsat 5-9 used here is collection 2 surface reflectance (SR) analysis ready data.\n",
    "\n",
    "The retrival logic used here is as follow:\n",
    "1. Retrive multispectral bands (band 1 - 7) from landsat collection 2 SR data (if avaliable)\n",
    "2. Retrive thermal band from landsat collection 2 TOA data \n",
    "3. Create temporal composite for each data \n",
    "4. Stacked the final two data into a earth engine image (ee.image)"
   ]
  },
  {
   "cell_type": "code",
   "execution_count": null,
   "id": "3027fb75",
   "metadata": {},
   "outputs": [
    {
     "data": {
      "text/html": [
       "\n",
       "            <style>\n",
       "                .geemap-dark {\n",
       "                    --jp-widgets-color: white;\n",
       "                    --jp-widgets-label-color: white;\n",
       "                    --jp-ui-font-color1: white;\n",
       "                    --jp-layout-color2: #454545;\n",
       "                    background-color: #383838;\n",
       "                }\n",
       "\n",
       "                .geemap-dark .jupyter-button {\n",
       "                    --jp-layout-color3: #383838;\n",
       "                }\n",
       "\n",
       "                .geemap-colab {\n",
       "                    background-color: var(--colab-primary-surface-color, white);\n",
       "                }\n",
       "\n",
       "                .geemap-colab .jupyter-button {\n",
       "                    --jp-layout-color3: var(--colab-primary-surface-color, white);\n",
       "                }\n",
       "            </style>\n",
       "            "
      ],
      "text/plain": [
       "<IPython.core.display.HTML object>"
      ]
     },
     "metadata": {},
     "output_type": "display_data"
    },
    {
     "name": "stderr",
     "output_type": "stream",
     "text": [
      "2025-10-27 10:04:00,850 - Reflectance_Data - INFO - ReflectanceData initialized.\n",
      "2025-10-27 10:04:00,851 - Reflectance_Data - INFO - Starting data fetch for Landsat 8 Operational Land Imager Surface Reflectance\n",
      "2025-10-27 10:04:00,852 - Reflectance_Data - INFO - Date range: 2017-01-01 to 2017-12-31\n",
      "2025-10-27 10:04:00,852 - Reflectance_Data - INFO - Cloud cover threshold: 40%\n",
      "2025-10-27 10:04:00,853 - Reflectance_Data - INFO - detailed statistics will not be computed\n",
      "2025-10-27 10:04:00,854 - Reflectance_Stats - INFO - Reflectance Stats initialized.\n",
      "2025-10-27 10:04:00,855 - Reflectance_Data - INFO - Filtered collection created (use compute_detailed_stats=True for more information)\n"
     ]
    }
   ],
   "source": [
    "#========== FIRST RETRIVE THE MULTISPECTRAL BAND===========\n",
    "#Intialize the relfectance class data function\n",
    "optical_reflectance = Reflectance_Data()\n",
    "#define the start and end date for imagery collection\n",
    "start = '2017-01-01'\n",
    "end = '2017-12-31'\n",
    "#get the image collection and corresponding statistics\n",
    "landsat_data, meta = optical_reflectance.get_optical_data(aoi, start, end, optical_data='L8_SR', \n",
    "                                                           cloud_cover=40, compute_detailed_stats=False)\n",
    "#create mosaic between image collection, and clip based on AOI\n",
    "mosaic_landsat = landsat_data.mosaic().clip(aoi)\n",
    "#Alternatively you can use temporal aggregation (ee reducer) to create mode cloudless imagery\n",
    "median_landsat = landsat_data.median().clip(aoi)\n",
    "#visualization parameter\n",
    "l8_sr_visparam = {'min': 0,'max': 0.4,'gamma': [0.95, 1.1, 1],'bands':['NIR', 'RED', 'GREEN']}\n",
    "#Add the data to the map\n",
    "Map = geemap.Map()\n",
    "Map.addLayer(mosaic_landsat, l8_sr_visparam, 'L8 SR Mosaic')\n",
    "Map.addLayer(median_landsat, l8_sr_visparam, 'L8 SR Median')\n",
    "Map.addLayer(landsat_data, l8_sr_visparam, 'L8 SR Image Collection')\n",
    "# set center of the map in the area of interest\n",
    "Map.centerObject(aoi, 7)"
   ]
  },
  {
   "cell_type": "code",
   "execution_count": 9,
   "id": "62243459",
   "metadata": {},
   "outputs": [
    {
     "data": {
      "text/html": [
       "\n",
       "            <style>\n",
       "                .geemap-dark {\n",
       "                    --jp-widgets-color: white;\n",
       "                    --jp-widgets-label-color: white;\n",
       "                    --jp-ui-font-color1: white;\n",
       "                    --jp-layout-color2: #454545;\n",
       "                    background-color: #383838;\n",
       "                }\n",
       "\n",
       "                .geemap-dark .jupyter-button {\n",
       "                    --jp-layout-color3: #383838;\n",
       "                }\n",
       "\n",
       "                .geemap-colab {\n",
       "                    background-color: var(--colab-primary-surface-color, white);\n",
       "                }\n",
       "\n",
       "                .geemap-colab .jupyter-button {\n",
       "                    --jp-layout-color3: var(--colab-primary-surface-color, white);\n",
       "                }\n",
       "            </style>\n",
       "            "
      ],
      "text/plain": [
       "<IPython.core.display.HTML object>"
      ]
     },
     "metadata": {},
     "output_type": "display_data"
    },
    {
     "name": "stderr",
     "output_type": "stream",
     "text": [
      "2025-10-27 10:04:27,967 - Reflectance_Stats - INFO - Reflectance Stats initialized.\n",
      "2025-10-27 10:04:27,968 - Reflectance_Data - INFO - Starting thermal data fetch for Landsat 8 Top-of-atmosphere reflectance\n",
      "2025-10-27 10:04:27,970 - Reflectance_Data - INFO - Date range: 2017-01-01 to 2017-12-31\n",
      "2025-10-27 10:04:27,971 - Reflectance_Data - INFO - Cloud cover threshold: 40%\n",
      "2025-10-27 10:04:27,971 - Reflectance_Data - INFO - Fast mode enabled - detailed statistics will not be computed\n",
      "2025-10-27 10:04:27,972 - Reflectance_Data - INFO - Filtered collection created (use compute_detailed_stats=True for detailed info)\n"
     ]
    },
    {
     "data": {
      "application/vnd.jupyter.widget-view+json": {
       "model_id": "82eaf42234724761bdb3bd12be595f75",
       "version_major": 2,
       "version_minor": 0
      },
      "text/plain": [
       "Map(bottom=134342.0, center=[-4.075233901391136, 105.94665527343751], controls=(WidgetControl(options=['positi…"
      ]
     },
     "execution_count": 9,
     "metadata": {},
     "output_type": "execute_result"
    }
   ],
   "source": [
    "#retive thermal bands from TOA\n",
    "thermal_bands, thermal_stats = optical_reflectance.get_thermal_bands(aoi, start, end, cloud_cover=40, compute_detailed_stats=False)\n",
    "median_thermal = thermal_bands.median().clip(aoi)\n",
    "thermal_vis = {\n",
    "    'min': 286,\n",
    "    'max': 300,\n",
    "    'gammma': 0.4\n",
    "}\n",
    "#stacked all landsat bands\n",
    "stacked_landsat = median_landsat.addBands(median_thermal)\n",
    "#visualize the thermal bands and multispectral bands\n",
    "Map.addLayer(median_thermal, thermal_vis, \"Thermal Bands\")\n",
    "Map"
   ]
  },
  {
   "cell_type": "markdown",
   "id": "f6d9542d",
   "metadata": {},
   "source": [
    "### Image retrival report (optional)"
   ]
  },
  {
   "cell_type": "code",
   "execution_count": 10,
   "id": "5dcdcd22",
   "metadata": {},
   "outputs": [
    {
     "data": {
      "text/html": [
       "\n",
       "            <style>\n",
       "                .geemap-dark {\n",
       "                    --jp-widgets-color: white;\n",
       "                    --jp-widgets-label-color: white;\n",
       "                    --jp-ui-font-color1: white;\n",
       "                    --jp-layout-color2: #454545;\n",
       "                    background-color: #383838;\n",
       "                }\n",
       "\n",
       "                .geemap-dark .jupyter-button {\n",
       "                    --jp-layout-color3: #383838;\n",
       "                }\n",
       "\n",
       "                .geemap-colab {\n",
       "                    background-color: var(--colab-primary-surface-color, white);\n",
       "                }\n",
       "\n",
       "                .geemap-colab .jupyter-button {\n",
       "                    --jp-layout-color3: var(--colab-primary-surface-color, white);\n",
       "                }\n",
       "            </style>\n",
       "            "
      ],
      "text/plain": [
       "<IPython.core.display.HTML object>"
      ]
     },
     "metadata": {},
     "output_type": "display_data"
    },
    {
     "name": "stderr",
     "output_type": "stream",
     "text": [
      "2025-10-27 10:04:43,696 - Reflectance_Stats - INFO - Reflectance Stats initialized.\n"
     ]
    },
    {
     "name": "stdout",
     "output_type": "stream",
     "text": [
      "============================================================\n",
      "           Landsat Data Collection Retrival Report\n",
      "============================================================\n",
      "Total Images Found: 53\n",
      "Date Range: 2017-01-13 to 2017-12-17\n",
      "Unique WRS Tiles: 10\n",
      "\n",
      "Scene Cloud Cover Statistics:\n",
      "------------------------------\n",
      "Average Cloud Cover: 26.8%\n",
      "Minimum Cloud Cover: 2.9%\n",
      "Maximum Cloud Cover: 40.0%\n",
      "\n",
      "WRS Path/Row Tiles:\n",
      "------------------------------\n",
      "Path 123/Row 062\n",
      "Path 123/Row 063\n",
      "Path 124/Row 061\n",
      "Path 124/Row 062\n",
      "Path 124/Row 063\n",
      "Path 124/Row 064\n",
      "Path 125/Row 061\n",
      "Path 125/Row 062\n",
      "Path 125/Row 063\n",
      "Path 126/Row 062\n",
      "\n",
      "Available Acqusition Date:\n",
      "------------------------------\n",
      "Date range: 2017-01-13 to 2017-12-17\n",
      "(53 total acquisition dates)\n",
      "\n",
      "Scene IDs (first 10):\n",
      "------------------------------\n",
      "• LC08_123062_20170405\n",
      "• LC08_123062_20170421\n",
      "• LC08_123062_20170726\n",
      "• LC08_123062_20170912\n",
      "• LC08_123062_20171014\n",
      "• LC08_123062_20171217\n",
      "• LC08_123063_20170710\n",
      "• LC08_123063_20170827\n",
      "• LC08_123063_20170912\n",
      "• LC08_123063_20171030\n",
      "... and 43 more scenes\n",
      "\n",
      "============================================================\n"
     ]
    }
   ],
   "source": [
    "#intialize the statistic class\n",
    "stats = Reflectance_Stats()\n",
    "#get the retrival report and automatically print them\n",
    "retrival_report = stats.get_collection_statistics(landsat_data, print_report=True)"
   ]
  },
  {
   "cell_type": "markdown",
   "id": "cb839e51",
   "metadata": {},
   "source": [
    "### System Response 1.3: Imagery Download"
   ]
  },
  {
   "cell_type": "code",
   "execution_count": null,
   "id": "49d212e5",
   "metadata": {},
   "outputs": [],
   "source": [
    "export_task = ee.batch.Export.image.toDrive(\n",
    "    image=stacked_landsat,\n",
    "    description='Landsat_Median_composite_2017_Sumsel',\n",
    "    folder='Earth Engine',\n",
    "    fileNamePrefix='Landsat_Median_composite_2017_Sumsel',\n",
    "    scale=30,\n",
    "    region=aoi,  # or aoi.geometry()\n",
    "    maxPixels=1e13\n",
    ")\n",
    "export_task.start()\n",
    "import time\n",
    "\n",
    "while export_task.active():\n",
    "    print('Exporting... (status: {})'.format(export_task.status()['state']))\n",
    "    time.sleep(10)\n",
    "\n",
    "print('Export complete (status: {})'.format(export_task.status()['state']))"
   ]
  },
  {
   "cell_type": "markdown",
   "id": "1d798e32",
   "metadata": {},
   "source": [
    "## Module 2:  Land-cover classification Scheme"
   ]
  },
  {
   "cell_type": "code",
   "execution_count": null,
   "id": "1174bdf1",
   "metadata": {},
   "outputs": [],
   "source": []
  }
 ],
 "metadata": {
  "kernelspec": {
   "display_name": "Python 3",
   "language": "python",
   "name": "python3"
  },
  "language_info": {
   "codemirror_mode": {
    "name": "ipython",
    "version": 3
   },
   "file_extension": ".py",
   "mimetype": "text/x-python",
   "name": "python",
   "nbconvert_exporter": "python",
   "pygments_lexer": "ipython3",
   "version": "3.13.9"
  }
 },
 "nbformat": 4,
 "nbformat_minor": 5
}
