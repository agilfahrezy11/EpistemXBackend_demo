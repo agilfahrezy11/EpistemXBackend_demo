{
 "cells": [
  {
   "cell_type": "markdown",
   "id": "17b9b0c0",
   "metadata": {},
   "source": [
    "## Required Library Import"
   ]
  },
  {
   "cell_type": "code",
   "execution_count": 1,
   "id": "feed6d67",
   "metadata": {},
   "outputs": [
    {
     "data": {
      "text/html": [
       "<p>To authorize access needed by Earth Engine, open the following\n",
       "        URL in a web browser and follow the instructions:</p>\n",
       "        <p><a href=https://code.earthengine.google.com/client-auth?scopes=https%3A//www.googleapis.com/auth/earthengine%20https%3A//www.googleapis.com/auth/cloud-platform%20https%3A//www.googleapis.com/auth/drive%20https%3A//www.googleapis.com/auth/devstorage.full_control&request_id=wekTN9trcC0wsOSlmodX7-WIx5QBk2Vy8VFivOisZmk&tc=dtH1R9C_0EcILNnrkmrJSMIsE0lkemGmhTU8AZNInC0&cc=YZkSLgSfuVCQPKsu8yfAwXTlYx_-GVj87Pi2xRMwrd4>https://code.earthengine.google.com/client-auth?scopes=https%3A//www.googleapis.com/auth/earthengine%20https%3A//www.googleapis.com/auth/cloud-platform%20https%3A//www.googleapis.com/auth/drive%20https%3A//www.googleapis.com/auth/devstorage.full_control&request_id=wekTN9trcC0wsOSlmodX7-WIx5QBk2Vy8VFivOisZmk&tc=dtH1R9C_0EcILNnrkmrJSMIsE0lkemGmhTU8AZNInC0&cc=YZkSLgSfuVCQPKsu8yfAwXTlYx_-GVj87Pi2xRMwrd4</a></p>\n",
       "        <p>The authorization workflow will generate a code, which you should paste in the box below.</p>\n",
       "        "
      ],
      "text/plain": [
       "<IPython.core.display.HTML object>"
      ]
     },
     "metadata": {},
     "output_type": "display_data"
    },
    {
     "ename": "EEException",
     "evalue": "Cannot authenticate: Invalid request.",
     "output_type": "error",
     "traceback": [
      "\u001b[31m---------------------------------------------------------------------------\u001b[39m",
      "\u001b[31mEEException\u001b[39m                               Traceback (most recent call last)",
      "\u001b[36mCell\u001b[39m\u001b[36m \u001b[39m\u001b[32mIn[1]\u001b[39m\u001b[32m, line 2\u001b[39m\n\u001b[32m      1\u001b[39m \u001b[38;5;28;01mimport\u001b[39;00m\u001b[38;5;250m \u001b[39m\u001b[34;01mee\u001b[39;00m\n\u001b[32m----> \u001b[39m\u001b[32m2\u001b[39m \u001b[43mee\u001b[49m\u001b[43m.\u001b[49m\u001b[43mAuthenticate\u001b[49m\u001b[43m(\u001b[49m\u001b[43m)\u001b[49m\n\u001b[32m      3\u001b[39m ee.Initialize()\n",
      "\u001b[36mFile \u001b[39m\u001b[32m~\\AppData\\Local\\Packages\\PythonSoftwareFoundation.Python.3.13_qbz5n2kfra8p0\\LocalCache\\local-packages\\Python313\\site-packages\\ee\\__init__.py:159\u001b[39m, in \u001b[36mAuthenticate\u001b[39m\u001b[34m(authorization_code, quiet, code_verifier, auth_mode, scopes, force)\u001b[39m\n\u001b[32m    128\u001b[39m \u001b[38;5;28;01mdef\u001b[39;00m\u001b[38;5;250m \u001b[39m\u001b[34mAuthenticate\u001b[39m(\n\u001b[32m    129\u001b[39m     authorization_code: Optional[\u001b[38;5;28mstr\u001b[39m] = \u001b[38;5;28;01mNone\u001b[39;00m,\n\u001b[32m    130\u001b[39m     quiet: Optional[\u001b[38;5;28mbool\u001b[39m] = \u001b[38;5;28;01mNone\u001b[39;00m,\n\u001b[32m   (...)\u001b[39m\u001b[32m    134\u001b[39m     force: \u001b[38;5;28mbool\u001b[39m = \u001b[38;5;28;01mFalse\u001b[39;00m,\n\u001b[32m    135\u001b[39m ) -> Optional[\u001b[38;5;28mbool\u001b[39m]:\n\u001b[32m    136\u001b[39m \u001b[38;5;250m  \u001b[39m\u001b[33;03m\"\"\"Prompts the user to authorize access to Earth Engine via OAuth2.\u001b[39;00m\n\u001b[32m    137\u001b[39m \n\u001b[32m    138\u001b[39m \u001b[33;03m  Args:\u001b[39;00m\n\u001b[32m   (...)\u001b[39m\u001b[32m    157\u001b[39m \u001b[33;03m    True if we found valid credentials and didn't run the auth flow.\u001b[39;00m\n\u001b[32m    158\u001b[39m \u001b[33;03m  \"\"\"\u001b[39;00m\n\u001b[32m--> \u001b[39m\u001b[32m159\u001b[39m   \u001b[38;5;28;01mreturn\u001b[39;00m \u001b[43moauth\u001b[49m\u001b[43m.\u001b[49m\u001b[43mauthenticate\u001b[49m\u001b[43m(\u001b[49m\u001b[43mauthorization_code\u001b[49m\u001b[43m,\u001b[49m\u001b[43m \u001b[49m\u001b[43mquiet\u001b[49m\u001b[43m,\u001b[49m\u001b[43m \u001b[49m\u001b[43mcode_verifier\u001b[49m\u001b[43m,\u001b[49m\u001b[43m \u001b[49m\u001b[43mauth_mode\u001b[49m\u001b[43m,\u001b[49m\n\u001b[32m    160\u001b[39m \u001b[43m                            \u001b[49m\u001b[43mscopes\u001b[49m\u001b[43m,\u001b[49m\u001b[43m \u001b[49m\u001b[43mforce\u001b[49m\u001b[43m)\u001b[49m\n",
      "\u001b[36mFile \u001b[39m\u001b[32m~\\AppData\\Local\\Packages\\PythonSoftwareFoundation.Python.3.13_qbz5n2kfra8p0\\LocalCache\\local-packages\\Python313\\site-packages\\ee\\oauth.py:553\u001b[39m, in \u001b[36mauthenticate\u001b[39m\u001b[34m(cli_authorization_code, quiet, cli_code_verifier, auth_mode, scopes, force)\u001b[39m\n\u001b[32m    550\u001b[39m \u001b[38;5;28;01mif\u001b[39;00m flow.display_instructions(quiet):\n\u001b[32m    551\u001b[39m   _open_new_browser(flow.auth_url)\n\u001b[32m--> \u001b[39m\u001b[32m553\u001b[39m \u001b[43mflow\u001b[49m\u001b[43m.\u001b[49m\u001b[43msave_code\u001b[49m\u001b[43m(\u001b[49m\u001b[43m)\u001b[49m\n",
      "\u001b[36mFile \u001b[39m\u001b[32m~\\AppData\\Local\\Packages\\PythonSoftwareFoundation.Python.3.13_qbz5n2kfra8p0\\LocalCache\\local-packages\\Python313\\site-packages\\ee\\oauth.py:603\u001b[39m, in \u001b[36mFlow.save_code\u001b[39m\u001b[34m(self, code)\u001b[39m\n\u001b[32m    601\u001b[39m   redirect_uri = \u001b[38;5;28mself\u001b[39m.server.url\n\u001b[32m    602\u001b[39m   code = \u001b[38;5;28mself\u001b[39m.server.fetch_code()  \u001b[38;5;66;03m# Waits for oauth callback\u001b[39;00m\n\u001b[32m--> \u001b[39m\u001b[32m603\u001b[39m \u001b[43m_obtain_and_write_token\u001b[49m\u001b[43m(\u001b[49m\u001b[43mcode\u001b[49m\u001b[43m,\u001b[49m\u001b[43m \u001b[49m\u001b[38;5;28;43mself\u001b[39;49m\u001b[43m.\u001b[49m\u001b[43mcode_verifier\u001b[49m\u001b[43m,\u001b[49m\u001b[43m \u001b[49m\u001b[38;5;28;43mself\u001b[39;49m\u001b[43m.\u001b[49m\u001b[43mscopes\u001b[49m\u001b[43m,\u001b[49m\u001b[43m \u001b[49m\u001b[43mredirect_uri\u001b[49m\u001b[43m)\u001b[49m\n",
      "\u001b[36mFile \u001b[39m\u001b[32m~\\AppData\\Local\\Packages\\PythonSoftwareFoundation.Python.3.13_qbz5n2kfra8p0\\LocalCache\\local-packages\\Python313\\site-packages\\ee\\oauth.py:270\u001b[39m, in \u001b[36m_obtain_and_write_token\u001b[39m\u001b[34m(auth_code, code_verifier, scopes, redirect_uri)\u001b[39m\n\u001b[32m    267\u001b[39m fetched_info = json.loads(\n\u001b[32m    268\u001b[39m     urllib.request.urlopen(fetch_client).read().decode())\n\u001b[32m    269\u001b[39m \u001b[38;5;28;01mif\u001b[39;00m \u001b[33m'\u001b[39m\u001b[33merror\u001b[39m\u001b[33m'\u001b[39m \u001b[38;5;129;01min\u001b[39;00m fetched_info:\n\u001b[32m--> \u001b[39m\u001b[32m270\u001b[39m   \u001b[38;5;28;01mraise\u001b[39;00m ee_exception.EEException(\n\u001b[32m    271\u001b[39m       \u001b[33m'\u001b[39m\u001b[33mCannot authenticate: \u001b[39m\u001b[38;5;132;01m%s\u001b[39;00m\u001b[33m'\u001b[39m % fetched_info[\u001b[33m'\u001b[39m\u001b[33merror\u001b[39m\u001b[33m'\u001b[39m]\n\u001b[32m    272\u001b[39m   )\n\u001b[32m    273\u001b[39m client_info = {k: fetched_info[k] \u001b[38;5;28;01mfor\u001b[39;00m k \u001b[38;5;129;01min\u001b[39;00m [\u001b[33m'\u001b[39m\u001b[33mclient_id\u001b[39m\u001b[33m'\u001b[39m, \u001b[33m'\u001b[39m\u001b[33mclient_secret\u001b[39m\u001b[33m'\u001b[39m]}\n\u001b[32m    274\u001b[39m scopes = fetched_info.get(\u001b[33m'\u001b[39m\u001b[33mscopes\u001b[39m\u001b[33m'\u001b[39m) \u001b[38;5;129;01mor\u001b[39;00m scopes\n",
      "\u001b[31mEEException\u001b[39m: Cannot authenticate: Invalid request."
     ]
    }
   ],
   "source": [
    "import ee\n",
    "ee.Authenticate()\n",
    "ee.Initialize()"
   ]
  },
  {
   "cell_type": "code",
   "execution_count": 3,
   "id": "11c80818",
   "metadata": {},
   "outputs": [
    {
     "name": "stderr",
     "output_type": "stream",
     "text": [
      "2025-10-03 10:15:37,982 - numexpr.utils - INFO - NumExpr defaulting to 12 threads.\n"
     ]
    }
   ],
   "source": [
    "import geemap\n",
    "from epistemx.module_1 import Reflectance_Data, Reflectance_Stats\n",
    "from epistemx.helpers import get_aoi_from_gaul"
   ]
  },
  {
   "cell_type": "markdown",
   "id": "77a1466e",
   "metadata": {},
   "source": [
    "## Image Collection Retrival"
   ]
  },
  {
   "cell_type": "markdown",
   "id": "5114ef38",
   "metadata": {},
   "source": [
    "### Multispectral Bands"
   ]
  },
  {
   "cell_type": "code",
   "execution_count": null,
   "id": "3027fb75",
   "metadata": {},
   "outputs": [
    {
     "data": {
      "text/html": [
       "\n",
       "            <style>\n",
       "                .geemap-dark {\n",
       "                    --jp-widgets-color: white;\n",
       "                    --jp-widgets-label-color: white;\n",
       "                    --jp-ui-font-color1: white;\n",
       "                    --jp-layout-color2: #454545;\n",
       "                    background-color: #383838;\n",
       "                }\n",
       "\n",
       "                .geemap-dark .jupyter-button {\n",
       "                    --jp-layout-color3: #383838;\n",
       "                }\n",
       "\n",
       "                .geemap-colab {\n",
       "                    background-color: var(--colab-primary-surface-color, white);\n",
       "                }\n",
       "\n",
       "                .geemap-colab .jupyter-button {\n",
       "                    --jp-layout-color3: var(--colab-primary-surface-color, white);\n",
       "                }\n",
       "            </style>\n",
       "            "
      ],
      "text/plain": [
       "<IPython.core.display.HTML object>"
      ]
     },
     "metadata": {},
     "output_type": "display_data"
    },
    {
     "name": "stderr",
     "output_type": "stream",
     "text": [
      "2025-10-03 10:25:36,894 - Reflectance_Data - INFO - ReflectanceData initialized.\n",
      "2025-10-03 10:25:36,895 - Reflectance_Data - INFO - Starting data fetch for Landsat 8 Operational Land Imager Surface Reflectance\n",
      "2025-10-03 10:25:36,896 - Reflectance_Data - INFO - Date range: 2017-01-01 to 2017-12-31\n",
      "2025-10-03 10:25:36,896 - Reflectance_Data - INFO - Cloud cover threshold: 40%\n",
      "2025-10-03 10:25:36,897 - Reflectance_Data - INFO - detailed statistics will not be computed\n",
      "2025-10-03 10:25:36,899 - Reflectance_Stats - INFO - Reflectance Stats initialized.\n",
      "2025-10-03 10:25:36,899 - Reflectance_Data - INFO - Filtered collection created (use compute_detailed_stats=True for more information)\n"
     ]
    },
    {
     "data": {
      "application/vnd.jupyter.widget-view+json": {
       "model_id": "764ea517b6354b4a8bb2e9d251f4d1bd",
       "version_major": 2,
       "version_minor": 0
      },
      "text/plain": [
       "Map(center=[-3.2210694545062024, 104.16355582426586], controls=(WidgetControl(options=['position', 'transparen…"
      ]
     },
     "execution_count": 9,
     "metadata": {},
     "output_type": "execute_result"
    }
   ],
   "source": [
    "# --- Area of Interest (AOI) ---\n",
    "#Set the country and province for the AOI using GAUL admin boundaries\n",
    "aoi = get_aoi_from_gaul(country=\"Indonesia\", province=\"Sumatera Selatan\")\n",
    "#Alternatively, used geemap_shp_to_ee to directly used shapefile in your local machine\n",
    "#Intialize the relfectance class data function\n",
    "optical_reflectance = Reflectance_Data()\n",
    "#define the start and end date for imagery collection\n",
    "start = '2017-01-01'\n",
    "end = '2017-12-31'\n",
    "#get the image collection and corresponding statistics\n",
    "landsat_data, meta = optical_reflectance.get_optical_data(aoi, start, end, optical_data='L8_SR', \n",
    "                                                           cloud_cover=40, compute_detailed_stats=False)\n",
    "#visualization parameter\n",
    "l8_sr_visparam = {\n",
    "    'min': 0,\n",
    "    'max': 0.4,\n",
    "    'gamma': [0.95, 1.1, 1],\n",
    "    'bands':['NIR', 'RED', 'GREEN']\n",
    "}\n",
    "#create mosaic between image collection, and clip based on AOI\n",
    "mosaic_landsat = landsat_data.mosaic().clip(aoi)\n",
    "#Alternatively you can use temporal aggregation (ee reducer) to create mode cloudless imagery\n",
    "median_landsat = landsat_data.median().clip(aoi)\n",
    "#Add the data to the map\n",
    "Map = geemap.Map()\n",
    "Map.addLayer(mosaic_landsat, l8_sr_visparam, 'L8 SR Mosaic')\n",
    "Map.addLayer(median_landsat, l8_sr_visparam, 'L8 SR Median')\n",
    "Map.addLayer(landsat_data, l8_sr_visparam, 'L8 SR Image Collection')\n",
    "# set center of the map in the area of interest\n",
    "Map.centerObject(aoi, 7)"
   ]
  },
  {
   "cell_type": "markdown",
   "id": "3cc11bb0",
   "metadata": {},
   "source": [
    "### Thermal Band"
   ]
  },
  {
   "cell_type": "code",
   "execution_count": null,
   "id": "62243459",
   "metadata": {},
   "outputs": [
    {
     "ename": "NameError",
     "evalue": "name 'optical_reflectance' is not defined",
     "output_type": "error",
     "traceback": [
      "\u001b[31m---------------------------------------------------------------------------\u001b[39m",
      "\u001b[31mNameError\u001b[39m                                 Traceback (most recent call last)",
      "\u001b[36mCell\u001b[39m\u001b[36m \u001b[39m\u001b[32mIn[1]\u001b[39m\u001b[32m, line 1\u001b[39m\n\u001b[32m----> \u001b[39m\u001b[32m1\u001b[39m thermal_bands, thermal_stats = \u001b[43moptical_reflectance\u001b[49m.get_thermal_bands(aoi, start, end, cloud_cover=\u001b[32m40\u001b[39m, compute_detailed_stats=\u001b[38;5;28;01mFalse\u001b[39;00m)\n",
      "\u001b[31mNameError\u001b[39m: name 'optical_reflectance' is not defined"
     ]
    }
   ],
   "source": [
    "#retive thermal bands from TOA\n",
    "thermal_bands, thermal_stats = optical_reflectance.get_thermal_bands(aoi, start, end, cloud_cover=40, compute_detailed_stats=False)\n",
    "median_thermal = thermal_bands.median().clip(aoi)\n",
    "thermal_vis = {\n",
    "    'min': 286,\n",
    "    'max': 300,\n",
    "    'gammma': 0.4\n",
    "}\n",
    "#stacked all landsat bands\n",
    "stacked_landsat = median_landsat.addBands(median_thermal)\n",
    "#visualize the thermal bands and multispectral bands\n",
    "Map.addLayer(median_thermal, thermal_vis, \"Thermal Bands\")\n",
    "Map"
   ]
  },
  {
   "cell_type": "markdown",
   "id": "8d49c620",
   "metadata": {},
   "source": [
    "## Image Retrival Report"
   ]
  },
  {
   "cell_type": "code",
   "execution_count": 10,
   "id": "5dcdcd22",
   "metadata": {},
   "outputs": [
    {
     "data": {
      "text/html": [
       "\n",
       "            <style>\n",
       "                .geemap-dark {\n",
       "                    --jp-widgets-color: white;\n",
       "                    --jp-widgets-label-color: white;\n",
       "                    --jp-ui-font-color1: white;\n",
       "                    --jp-layout-color2: #454545;\n",
       "                    background-color: #383838;\n",
       "                }\n",
       "\n",
       "                .geemap-dark .jupyter-button {\n",
       "                    --jp-layout-color3: #383838;\n",
       "                }\n",
       "\n",
       "                .geemap-colab {\n",
       "                    background-color: var(--colab-primary-surface-color, white);\n",
       "                }\n",
       "\n",
       "                .geemap-colab .jupyter-button {\n",
       "                    --jp-layout-color3: var(--colab-primary-surface-color, white);\n",
       "                }\n",
       "            </style>\n",
       "            "
      ],
      "text/plain": [
       "<IPython.core.display.HTML object>"
      ]
     },
     "metadata": {},
     "output_type": "display_data"
    },
    {
     "name": "stderr",
     "output_type": "stream",
     "text": [
      "2025-10-03 10:29:23,288 - Reflectance_Stats - INFO - Reflectance Stats initialized.\n"
     ]
    },
    {
     "name": "stdout",
     "output_type": "stream",
     "text": [
      "============================================================\n",
      "           Landsat Data Collection Retrival Report\n",
      "============================================================\n",
      "Total Images Found: 53\n",
      "Date Range: 2017-01-13 to 2017-12-17\n",
      "Unique WRS Tiles: 10\n",
      "\n",
      "Scene Cloud Cover Statistics:\n",
      "------------------------------\n",
      "Average Cloud Cover: 26.8%\n",
      "Minimum Cloud Cover: 2.9%\n",
      "Maximum Cloud Cover: 40.0%\n",
      "\n",
      "WRS Path/Row Tiles:\n",
      "------------------------------\n",
      "Path 123/Row 062\n",
      "Path 123/Row 063\n",
      "Path 124/Row 061\n",
      "Path 124/Row 062\n",
      "Path 124/Row 063\n",
      "Path 124/Row 064\n",
      "Path 125/Row 061\n",
      "Path 125/Row 062\n",
      "Path 125/Row 063\n",
      "Path 126/Row 062\n",
      "\n",
      "Available Acqusition Date:\n",
      "------------------------------\n",
      "Date range: 2017-01-13 to 2017-12-17\n",
      "(53 total acquisition dates)\n",
      "\n",
      "Scene IDs (first 10):\n",
      "------------------------------\n",
      "• LC08_123062_20170405\n",
      "• LC08_123062_20170421\n",
      "• LC08_123062_20170726\n",
      "• LC08_123062_20170912\n",
      "• LC08_123062_20171014\n",
      "• LC08_123062_20171217\n",
      "• LC08_123063_20170710\n",
      "• LC08_123063_20170827\n",
      "• LC08_123063_20170912\n",
      "• LC08_123063_20171030\n",
      "... and 43 more scenes\n",
      "\n",
      "============================================================\n"
     ]
    }
   ],
   "source": [
    "#intialize the statistic class\n",
    "stats = Reflectance_Stats()\n",
    "#get the retrival report and automatically print them\n",
    "retrival_report = stats.get_collection_statistics(landsat_data, print_report=True)"
   ]
  }
 ],
 "metadata": {
  "kernelspec": {
   "display_name": "Python 3",
   "language": "python",
   "name": "python3"
  },
  "language_info": {
   "codemirror_mode": {
    "name": "ipython",
    "version": 3
   },
   "file_extension": ".py",
   "mimetype": "text/x-python",
   "name": "python",
   "nbconvert_exporter": "python",
   "pygments_lexer": "ipython3",
   "version": "3.13.9"
  }
 },
 "nbformat": 4,
 "nbformat_minor": 5
}
