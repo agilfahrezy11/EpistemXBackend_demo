{
 "cells": [
  {
   "cell_type": "markdown",
   "id": "17b9b0c0",
   "metadata": {},
   "source": [
    "## Required Library Import"
   ]
  },
  {
   "cell_type": "code",
   "execution_count": 1,
   "id": "feed6d67",
   "metadata": {},
   "outputs": [],
   "source": [
    "import ee\n",
    "ee.Authenticate()\n",
    "ee.Initialize()"
   ]
  },
  {
   "cell_type": "code",
   "execution_count": 2,
   "id": "11c80818",
   "metadata": {},
   "outputs": [],
   "source": [
    "import geemap\n",
    "from epistemx.module_1 import Reflectance_Data, Reflectance_Stats\n",
    "from epistemx.helpers import get_aoi_from_gaul"
   ]
  },
  {
   "cell_type": "markdown",
   "id": "77a1466e",
   "metadata": {},
   "source": [
    "## Image Collection Retrival"
   ]
  },
  {
   "cell_type": "markdown",
   "id": "5114ef38",
   "metadata": {},
   "source": [
    "### Multispectral Bands"
   ]
  },
  {
   "cell_type": "code",
   "execution_count": 3,
   "id": "3027fb75",
   "metadata": {},
   "outputs": [
    {
     "data": {
      "text/html": [
       "\n",
       "            <style>\n",
       "                .geemap-dark {\n",
       "                    --jp-widgets-color: white;\n",
       "                    --jp-widgets-label-color: white;\n",
       "                    --jp-ui-font-color1: white;\n",
       "                    --jp-layout-color2: #454545;\n",
       "                    background-color: #383838;\n",
       "                }\n",
       "\n",
       "                .geemap-dark .jupyter-button {\n",
       "                    --jp-layout-color3: #383838;\n",
       "                }\n",
       "\n",
       "                .geemap-colab {\n",
       "                    background-color: var(--colab-primary-surface-color, white);\n",
       "                }\n",
       "\n",
       "                .geemap-colab .jupyter-button {\n",
       "                    --jp-layout-color3: var(--colab-primary-surface-color, white);\n",
       "                }\n",
       "            </style>\n",
       "            "
      ],
      "text/plain": [
       "<IPython.core.display.HTML object>"
      ]
     },
     "metadata": {},
     "output_type": "display_data"
    },
    {
     "name": "stderr",
     "output_type": "stream",
     "text": [
      "2025-10-23 13:29:29,763 - Reflectance_Data - INFO - ReflectanceData initialized.\n",
      "2025-10-23 13:29:29,764 - Reflectance_Data - INFO - Starting data fetch for Landsat 8 Operational Land Imager Surface Reflectance\n",
      "2025-10-23 13:29:29,765 - Reflectance_Data - INFO - Date range: 2017-01-01 to 2017-12-31\n",
      "2025-10-23 13:29:29,766 - Reflectance_Data - INFO - Cloud cover threshold: 40%\n",
      "2025-10-23 13:29:29,767 - Reflectance_Data - INFO - detailed statistics will not be computed\n",
      "2025-10-23 13:29:29,768 - Reflectance_Stats - INFO - Reflectance Stats initialized.\n",
      "2025-10-23 13:29:29,769 - Reflectance_Data - INFO - Filtered collection created (use compute_detailed_stats=True for more information)\n"
     ]
    }
   ],
   "source": [
    "# --- Area of Interest (AOI) ---\n",
    "#Set the country and province for the AOI using GAUL admin boundaries\n",
    "aoi = get_aoi_from_gaul(country=\"Indonesia\", province=\"Sumatera Selatan\")\n",
    "#Alternatively, used geemap_shp_to_ee to directly used shapefile in your local machine\n",
    "#Intialize the relfectance class data function\n",
    "optical_reflectance = Reflectance_Data()\n",
    "#define the start and end date for imagery collection\n",
    "start = '2017-01-01'\n",
    "end = '2017-12-31'\n",
    "#get the image collection and corresponding statistics\n",
    "landsat_data, meta = optical_reflectance.get_optical_data(aoi, start, end, optical_data='L8_SR', \n",
    "                                                           cloud_cover=40, compute_detailed_stats=False)\n",
    "#visualization parameter\n",
    "l8_sr_visparam = {\n",
    "    'min': 0,\n",
    "    'max': 0.4,\n",
    "    'gamma': [0.95, 1.1, 1],\n",
    "    'bands':['NIR', 'RED', 'GREEN']\n",
    "}\n",
    "#create mosaic between image collection, and clip based on AOI\n",
    "mosaic_landsat = landsat_data.mosaic().clip(aoi)\n",
    "#Alternatively you can use temporal aggregation (ee reducer) to create mode cloudless imagery\n",
    "median_landsat = landsat_data.median().clip(aoi)\n",
    "#Add the data to the map\n",
    "Map = geemap.Map()\n",
    "Map.addLayer(mosaic_landsat, l8_sr_visparam, 'L8 SR Mosaic')\n",
    "Map.addLayer(median_landsat, l8_sr_visparam, 'L8 SR Median')\n",
    "Map.addLayer(landsat_data, l8_sr_visparam, 'L8 SR Image Collection')\n",
    "# set center of the map in the area of interest\n",
    "Map.centerObject(aoi, 7)"
   ]
  },
  {
   "cell_type": "markdown",
   "id": "3cc11bb0",
   "metadata": {},
   "source": [
    "### Thermal Band"
   ]
  },
  {
   "cell_type": "code",
   "execution_count": 4,
   "id": "62243459",
   "metadata": {},
   "outputs": [
    {
     "data": {
      "text/html": [
       "\n",
       "            <style>\n",
       "                .geemap-dark {\n",
       "                    --jp-widgets-color: white;\n",
       "                    --jp-widgets-label-color: white;\n",
       "                    --jp-ui-font-color1: white;\n",
       "                    --jp-layout-color2: #454545;\n",
       "                    background-color: #383838;\n",
       "                }\n",
       "\n",
       "                .geemap-dark .jupyter-button {\n",
       "                    --jp-layout-color3: #383838;\n",
       "                }\n",
       "\n",
       "                .geemap-colab {\n",
       "                    background-color: var(--colab-primary-surface-color, white);\n",
       "                }\n",
       "\n",
       "                .geemap-colab .jupyter-button {\n",
       "                    --jp-layout-color3: var(--colab-primary-surface-color, white);\n",
       "                }\n",
       "            </style>\n",
       "            "
      ],
      "text/plain": [
       "<IPython.core.display.HTML object>"
      ]
     },
     "metadata": {},
     "output_type": "display_data"
    },
    {
     "name": "stderr",
     "output_type": "stream",
     "text": [
      "2025-10-23 13:29:35,109 - Reflectance_Stats - INFO - Reflectance Stats initialized.\n",
      "2025-10-23 13:29:35,109 - Reflectance_Data - INFO - Starting thermal data fetch for Landsat 8 Top-of-atmosphere reflectance\n",
      "2025-10-23 13:29:35,110 - Reflectance_Data - INFO - Date range: 2017-01-01 to 2017-12-31\n",
      "2025-10-23 13:29:35,111 - Reflectance_Data - INFO - Cloud cover threshold: 40%\n",
      "2025-10-23 13:29:35,111 - Reflectance_Data - INFO - Fast mode enabled - detailed statistics will not be computed\n",
      "2025-10-23 13:29:35,112 - Reflectance_Data - INFO - Filtered collection created (use compute_detailed_stats=True for detailed info)\n"
     ]
    },
    {
     "data": {
      "application/vnd.jupyter.widget-view+json": {
       "model_id": "f5bb09e683214147bdd627f88bda9c8d",
       "version_major": 2,
       "version_minor": 0
      },
      "text/plain": [
       "Map(center=[-3.2210694545062024, 104.16355582426586], controls=(WidgetControl(options=['position', 'transparen…"
      ]
     },
     "execution_count": 4,
     "metadata": {},
     "output_type": "execute_result"
    }
   ],
   "source": [
    "#retive thermal bands from TOA\n",
    "thermal_bands, thermal_stats = optical_reflectance.get_thermal_bands(aoi, start, end, cloud_cover=40, compute_detailed_stats=False)\n",
    "median_thermal = thermal_bands.median().clip(aoi)\n",
    "thermal_vis = {\n",
    "    'min': 286,\n",
    "    'max': 300,\n",
    "    'gammma': 0.4\n",
    "}\n",
    "#stacked all landsat bands\n",
    "stacked_landsat = median_landsat.addBands(median_thermal)\n",
    "#visualize the thermal bands and multispectral bands\n",
    "Map.addLayer(median_thermal, thermal_vis, \"Thermal Bands\")\n",
    "Map"
   ]
  },
  {
   "cell_type": "markdown",
   "id": "8d49c620",
   "metadata": {},
   "source": [
    "## Image Retrival Report"
   ]
  },
  {
   "cell_type": "code",
   "execution_count": 10,
   "id": "5dcdcd22",
   "metadata": {},
   "outputs": [
    {
     "data": {
      "text/html": [
       "\n",
       "            <style>\n",
       "                .geemap-dark {\n",
       "                    --jp-widgets-color: white;\n",
       "                    --jp-widgets-label-color: white;\n",
       "                    --jp-ui-font-color1: white;\n",
       "                    --jp-layout-color2: #454545;\n",
       "                    background-color: #383838;\n",
       "                }\n",
       "\n",
       "                .geemap-dark .jupyter-button {\n",
       "                    --jp-layout-color3: #383838;\n",
       "                }\n",
       "\n",
       "                .geemap-colab {\n",
       "                    background-color: var(--colab-primary-surface-color, white);\n",
       "                }\n",
       "\n",
       "                .geemap-colab .jupyter-button {\n",
       "                    --jp-layout-color3: var(--colab-primary-surface-color, white);\n",
       "                }\n",
       "            </style>\n",
       "            "
      ],
      "text/plain": [
       "<IPython.core.display.HTML object>"
      ]
     },
     "metadata": {},
     "output_type": "display_data"
    },
    {
     "name": "stderr",
     "output_type": "stream",
     "text": [
      "2025-10-03 10:29:23,288 - Reflectance_Stats - INFO - Reflectance Stats initialized.\n"
     ]
    },
    {
     "name": "stdout",
     "output_type": "stream",
     "text": [
      "============================================================\n",
      "           Landsat Data Collection Retrival Report\n",
      "============================================================\n",
      "Total Images Found: 53\n",
      "Date Range: 2017-01-13 to 2017-12-17\n",
      "Unique WRS Tiles: 10\n",
      "\n",
      "Scene Cloud Cover Statistics:\n",
      "------------------------------\n",
      "Average Cloud Cover: 26.8%\n",
      "Minimum Cloud Cover: 2.9%\n",
      "Maximum Cloud Cover: 40.0%\n",
      "\n",
      "WRS Path/Row Tiles:\n",
      "------------------------------\n",
      "Path 123/Row 062\n",
      "Path 123/Row 063\n",
      "Path 124/Row 061\n",
      "Path 124/Row 062\n",
      "Path 124/Row 063\n",
      "Path 124/Row 064\n",
      "Path 125/Row 061\n",
      "Path 125/Row 062\n",
      "Path 125/Row 063\n",
      "Path 126/Row 062\n",
      "\n",
      "Available Acqusition Date:\n",
      "------------------------------\n",
      "Date range: 2017-01-13 to 2017-12-17\n",
      "(53 total acquisition dates)\n",
      "\n",
      "Scene IDs (first 10):\n",
      "------------------------------\n",
      "• LC08_123062_20170405\n",
      "• LC08_123062_20170421\n",
      "• LC08_123062_20170726\n",
      "• LC08_123062_20170912\n",
      "• LC08_123062_20171014\n",
      "• LC08_123062_20171217\n",
      "• LC08_123063_20170710\n",
      "• LC08_123063_20170827\n",
      "• LC08_123063_20170912\n",
      "• LC08_123063_20171030\n",
      "... and 43 more scenes\n",
      "\n",
      "============================================================\n"
     ]
    }
   ],
   "source": [
    "#intialize the statistic class\n",
    "stats = Reflectance_Stats()\n",
    "#get the retrival report and automatically print them\n",
    "retrival_report = stats.get_collection_statistics(landsat_data, print_report=True)"
   ]
  }
 ],
 "metadata": {
  "kernelspec": {
   "display_name": "3.11.9",
   "language": "python",
   "name": "python3"
  },
  "language_info": {
   "codemirror_mode": {
    "name": "ipython",
    "version": 3
   },
   "file_extension": ".py",
   "mimetype": "text/x-python",
   "name": "python",
   "nbconvert_exporter": "python",
   "pygments_lexer": "ipython3",
   "version": "3.11.9"
  }
 },
 "nbformat": 4,
 "nbformat_minor": 5
}
