{
 "cells": [
  {
   "cell_type": "markdown",
   "id": "17b9b0c0",
   "metadata": {},
   "source": [
    "# Demonstration of EPISTEM-x Module \n",
    "This notebook contain the implementation of the source code for each module in the EPISTEM land cover mapping framework"
   ]
  },
  {
   "cell_type": "markdown",
   "id": "ed875980",
   "metadata": {},
   "source": [
    "## Library import and earth engine initialization\n",
    "If you have earth engine account you could used that to authenticate and initialize the earth engine. However, if you did not have the account, service account initialization is avaliable"
   ]
  },
  {
   "cell_type": "code",
   "execution_count": 1,
   "id": "1be9d7e5",
   "metadata": {},
   "outputs": [],
   "source": [
    "#This code is used if the notebook is implemented in github codespace. Just remove the (#)\n",
    "#!python -m pip install ../epistemx --quiet"
   ]
  },
  {
   "cell_type": "code",
   "execution_count": 1,
   "id": "d131ed9b",
   "metadata": {},
   "outputs": [
    {
     "name": "stdout",
     "output_type": "stream",
     "text": [
      "Earth Engine initialized successfully\n",
      "\n",
      "    EARTH ENGINE AUTHENTICATION NOTES:\n",
      "    \n",
      "    1. Make sure you already have a google cloud project that has enable the Earth Engine API and registered to \n",
      "       commercial or non-commercial use. For more information visit: https://developers.google.com/earth-engine/guides/access \n",
      "    \n",
      "    2. you can authenticate programmatically by calling: from epistemx.ee_config import authenticate_manually\n",
      "       authenticate_manually()\n",
      "    \n",
      "    3. This will open a web browser. Sign in with your Google account that has Earth Engine access.\n",
      "    \n",
      "    4. Copy the authorization code from the browser and paste it in the terminal.\n",
      "    \n",
      "    \n",
      "    For more details, visit: https://developers.google.com/earth-engine/guides/python_install\n",
      "    \n"
     ]
    },
    {
     "name": "stderr",
     "output_type": "stream",
     "text": [
      "Service account initialization failed: ('invalid_grant: Invalid JWT Signature.', {'error': 'invalid_grant', 'error_description': 'Invalid JWT Signature.'})\n"
     ]
    },
    {
     "name": "stdout",
     "output_type": "stream",
     "text": [
      "Service account initialization failed. Try to authenticate earth engine manually\n",
      "Initialized: True\n",
      "Authenticated: True\n",
      "Project: projects/ee-agilakbarfahrezi/assets/AOICImanukhulu\n"
     ]
    }
   ],
   "source": [
    "import ee \n",
    "import epistemx\n",
    "\n",
    "#Option 1: Manual authenticate using personal account\n",
    "#Instructions for manual authentication\n",
    "epistemx.print_auth_instructions()\n",
    "#uncomment the below line and follow earth engine authentication process\n",
    "#epistemx.authenticate_manually()\n",
    "\n",
    "#Option 2: Autheticate using service account (json file)\n",
    "service_account_path = '../auth/ee-rg2icraf-ecab9c534f91.json'\n",
    "success = epistemx.initialize_with_service_account(service_account_path)\n",
    "\n",
    "if success:\n",
    "    print(\"Earth Engine initialized with service account successfully!\")\n",
    "else:\n",
    "    print(\"Service account initialization failed. Try to authenticate earth engine manually\")\n",
    "\n",
    "#Check authentication status\n",
    "status = epistemx.get_auth_status()\n",
    "print(f\"Initialized: {status['initialized']}\")\n",
    "print(f\"Authenticated: {status['authenticated']}\")\n",
    "if status['project']:\n",
    "    print(f\"Project: {status['project']}\")"
   ]
  },
  {
   "cell_type": "code",
   "execution_count": 2,
   "id": "87e17a13",
   "metadata": {},
   "outputs": [],
   "source": [
    "#!python -m pip install ../epistemx --quiet\n",
    "import geemap\n",
    "from epistemx.module_1 import Reflectance_Data, Reflectance_Stats\n",
    "from epistemx.helpers import get_aoi_from_gaul"
   ]
  },
  {
   "cell_type": "markdown",
   "id": "77a1466e",
   "metadata": {},
   "source": [
    "## Module 1: Acquisition of Near-Cloud-Free Satellite Imagery"
   ]
  },
  {
   "cell_type": "markdown",
   "id": "5114ef38",
   "metadata": {},
   "source": [
    "### System Response 1.1: Area of Interest Definition"
   ]
  },
  {
   "cell_type": "code",
   "execution_count": 3,
   "id": "d8507432",
   "metadata": {},
   "outputs": [
    {
     "data": {
      "text/html": [
       "\n",
       "            <style>\n",
       "                .geemap-dark {\n",
       "                    --jp-widgets-color: white;\n",
       "                    --jp-widgets-label-color: white;\n",
       "                    --jp-ui-font-color1: white;\n",
       "                    --jp-layout-color2: #454545;\n",
       "                    background-color: #383838;\n",
       "                }\n",
       "\n",
       "                .geemap-dark .jupyter-button {\n",
       "                    --jp-layout-color3: #383838;\n",
       "                }\n",
       "\n",
       "                .geemap-colab {\n",
       "                    background-color: var(--colab-primary-surface-color, white);\n",
       "                }\n",
       "\n",
       "                .geemap-colab .jupyter-button {\n",
       "                    --jp-layout-color3: var(--colab-primary-surface-color, white);\n",
       "                }\n",
       "            </style>\n",
       "            "
      ],
      "text/plain": [
       "<IPython.core.display.HTML object>"
      ]
     },
     "metadata": {},
     "output_type": "display_data"
    }
   ],
   "source": [
    "#Set the country and province for the AOI using GAUL admin boundaries\n",
    "aoi = get_aoi_from_gaul(country=\"Indonesia\", province=\"Sumatera Selatan\")\n",
    "#Alternatively, used geemap_shp_to_ee to directly used shapefile in your local machine"
   ]
  },
  {
   "cell_type": "markdown",
   "id": "186e3a9f",
   "metadata": {},
   "source": [
    "### System Response 1.2: Search and Filter Imagery\n",
    "The EPISTEM source code supports Landsat mission data, ranging from Landsat 1 to Landsat 9. For Landsat 1 - 3, the avaliable data is corrected radiance reflectance. The Landsat 5-9 used here is collection 2 surface reflectance (SR) analysis ready data.\n",
    "\n",
    "The retrival logic used here is as follow:\n",
    "1. Retrive multispectral bands (band 1 - 7) from landsat collection 2 SR data (if avaliable)\n",
    "2. Retrive thermal band from landsat collection 2 TOA data \n",
    "3. Create temporal composite for each data \n",
    "4. Stacked the final two data into a earth engine image (ee.image)"
   ]
  },
  {
   "cell_type": "code",
   "execution_count": 4,
   "id": "3027fb75",
   "metadata": {},
   "outputs": [
    {
     "data": {
      "text/html": [
       "\n",
       "            <style>\n",
       "                .geemap-dark {\n",
       "                    --jp-widgets-color: white;\n",
       "                    --jp-widgets-label-color: white;\n",
       "                    --jp-ui-font-color1: white;\n",
       "                    --jp-layout-color2: #454545;\n",
       "                    background-color: #383838;\n",
       "                }\n",
       "\n",
       "                .geemap-dark .jupyter-button {\n",
       "                    --jp-layout-color3: #383838;\n",
       "                }\n",
       "\n",
       "                .geemap-colab {\n",
       "                    background-color: var(--colab-primary-surface-color, white);\n",
       "                }\n",
       "\n",
       "                .geemap-colab .jupyter-button {\n",
       "                    --jp-layout-color3: var(--colab-primary-surface-color, white);\n",
       "                }\n",
       "            </style>\n",
       "            "
      ],
      "text/plain": [
       "<IPython.core.display.HTML object>"
      ]
     },
     "metadata": {},
     "output_type": "display_data"
    },
    {
     "name": "stderr",
     "output_type": "stream",
     "text": [
      "2025-10-28 00:26:45,152 - Reflectance_Data - INFO - ReflectanceData initialized.\n",
      "2025-10-28 00:26:45,154 - Reflectance_Data - INFO - Starting data fetch for Landsat 8 Operational Land Imager Surface Reflectance\n",
      "2025-10-28 00:26:45,155 - Reflectance_Data - INFO - Date range: 2017-01-01 to 2017-12-31\n",
      "2025-10-28 00:26:45,156 - Reflectance_Data - INFO - Cloud cover threshold: 40%\n",
      "2025-10-28 00:26:45,157 - Reflectance_Data - INFO - detailed statistics will not be computed\n",
      "2025-10-28 00:26:45,158 - Reflectance_Stats - INFO - Reflectance Stats initialized.\n",
      "2025-10-28 00:26:45,159 - Reflectance_Data - INFO - Filtered collection created (use compute_detailed_stats=True for more information)\n"
     ]
    }
   ],
   "source": [
    "#========== FIRST RETRIVE THE MULTISPECTRAL BAND===========\n",
    "#Intialize the relfectance class data function\n",
    "optical_reflectance = Reflectance_Data()\n",
    "#define the start and end date for imagery collection\n",
    "start = '2017-01-01'\n",
    "end = '2017-12-31'\n",
    "#get the image collection and corresponding statistics\n",
    "landsat_data, meta = optical_reflectance.get_optical_data(aoi, start, end, optical_data='L8_SR', \n",
    "                                                           cloud_cover=40, compute_detailed_stats=False)\n",
    "#create mosaic between image collection, and clip based on AOI\n",
    "mosaic_landsat = landsat_data.mosaic().clip(aoi)\n",
    "#Alternatively you can use temporal aggregation (ee reducer) to create mode cloudless imagery\n",
    "median_landsat = landsat_data.median().clip(aoi)\n",
    "#visualization parameter\n",
    "l8_sr_visparam = {'min': 0,'max': 0.4,'gamma': [0.95, 1.1, 1],'bands':['NIR', 'RED', 'GREEN']}\n",
    "#Add the data to the map\n",
    "Map = geemap.Map()\n",
    "Map.addLayer(mosaic_landsat, l8_sr_visparam, 'L8 SR Mosaic')\n",
    "Map.addLayer(median_landsat, l8_sr_visparam, 'L8 SR Median')\n",
    "Map.addLayer(landsat_data, l8_sr_visparam, 'L8 SR Image Collection')\n",
    "# set center of the map in the area of interest\n",
    "Map.centerObject(aoi, 7)"
   ]
  },
  {
   "cell_type": "code",
   "execution_count": 5,
   "id": "62243459",
   "metadata": {},
   "outputs": [
    {
     "data": {
      "text/html": [
       "\n",
       "            <style>\n",
       "                .geemap-dark {\n",
       "                    --jp-widgets-color: white;\n",
       "                    --jp-widgets-label-color: white;\n",
       "                    --jp-ui-font-color1: white;\n",
       "                    --jp-layout-color2: #454545;\n",
       "                    background-color: #383838;\n",
       "                }\n",
       "\n",
       "                .geemap-dark .jupyter-button {\n",
       "                    --jp-layout-color3: #383838;\n",
       "                }\n",
       "\n",
       "                .geemap-colab {\n",
       "                    background-color: var(--colab-primary-surface-color, white);\n",
       "                }\n",
       "\n",
       "                .geemap-colab .jupyter-button {\n",
       "                    --jp-layout-color3: var(--colab-primary-surface-color, white);\n",
       "                }\n",
       "            </style>\n",
       "            "
      ],
      "text/plain": [
       "<IPython.core.display.HTML object>"
      ]
     },
     "metadata": {},
     "output_type": "display_data"
    },
    {
     "name": "stderr",
     "output_type": "stream",
     "text": [
      "2025-10-28 00:26:52,457 - Reflectance_Stats - INFO - Reflectance Stats initialized.\n",
      "2025-10-28 00:26:52,458 - Reflectance_Data - INFO - Starting thermal data fetch for Landsat 8 Top-of-atmosphere reflectance\n",
      "2025-10-28 00:26:52,460 - Reflectance_Data - INFO - Date range: 2017-01-01 to 2017-12-31\n",
      "2025-10-28 00:26:52,461 - Reflectance_Data - INFO - Cloud cover threshold: 40%\n",
      "2025-10-28 00:26:52,462 - Reflectance_Data - INFO - Fast mode enabled - detailed statistics will not be computed\n",
      "2025-10-28 00:26:52,464 - Reflectance_Data - INFO - Filtered collection created (use compute_detailed_stats=True for detailed info)\n"
     ]
    },
    {
     "data": {
      "application/vnd.jupyter.widget-view+json": {
       "model_id": "67989e4e2c0b4a3788fdc29cfa55addd",
       "version_major": 2,
       "version_minor": 0
      },
      "text/plain": [
       "Map(center=[-3.2210694545062024, 104.16355582426586], controls=(WidgetControl(options=['position', 'transparen…"
      ]
     },
     "execution_count": 5,
     "metadata": {},
     "output_type": "execute_result"
    }
   ],
   "source": [
    "#retive thermal bands from TOA\n",
    "thermal_bands, thermal_stats = optical_reflectance.get_thermal_bands(aoi, start, end, cloud_cover=40, compute_detailed_stats=False)\n",
    "median_thermal = thermal_bands.median().clip(aoi)\n",
    "thermal_vis = {\n",
    "    'min': 286,\n",
    "    'max': 300,\n",
    "    'gammma': 0.4\n",
    "}\n",
    "#stacked all landsat bands\n",
    "stacked_landsat = median_landsat.addBands(median_thermal)\n",
    "#visualize the thermal bands and multispectral bands\n",
    "Map.addLayer(median_thermal, thermal_vis, \"Thermal Bands\")\n",
    "Map"
   ]
  },
  {
   "cell_type": "markdown",
   "id": "f6d9542d",
   "metadata": {},
   "source": [
    "### Image retrival report (optional)"
   ]
  },
  {
   "cell_type": "code",
   "execution_count": 6,
   "id": "5dcdcd22",
   "metadata": {},
   "outputs": [
    {
     "data": {
      "text/html": [
       "\n",
       "            <style>\n",
       "                .geemap-dark {\n",
       "                    --jp-widgets-color: white;\n",
       "                    --jp-widgets-label-color: white;\n",
       "                    --jp-ui-font-color1: white;\n",
       "                    --jp-layout-color2: #454545;\n",
       "                    background-color: #383838;\n",
       "                }\n",
       "\n",
       "                .geemap-dark .jupyter-button {\n",
       "                    --jp-layout-color3: #383838;\n",
       "                }\n",
       "\n",
       "                .geemap-colab {\n",
       "                    background-color: var(--colab-primary-surface-color, white);\n",
       "                }\n",
       "\n",
       "                .geemap-colab .jupyter-button {\n",
       "                    --jp-layout-color3: var(--colab-primary-surface-color, white);\n",
       "                }\n",
       "            </style>\n",
       "            "
      ],
      "text/plain": [
       "<IPython.core.display.HTML object>"
      ]
     },
     "metadata": {},
     "output_type": "display_data"
    },
    {
     "name": "stderr",
     "output_type": "stream",
     "text": [
      "2025-10-28 00:26:54,501 - Reflectance_Stats - INFO - Reflectance Stats initialized.\n"
     ]
    },
    {
     "name": "stdout",
     "output_type": "stream",
     "text": [
      "============================================================\n",
      "           Landsat Data Collection Retrival Report\n",
      "============================================================\n",
      "Total Images Found: 53\n",
      "Date Range: 2017-01-13 to 2017-12-17\n",
      "Unique WRS Tiles: 10\n",
      "\n",
      "Scene Cloud Cover Statistics:\n",
      "------------------------------\n",
      "Average Cloud Cover: 26.8%\n",
      "Minimum Cloud Cover: 2.9%\n",
      "Maximum Cloud Cover: 40.0%\n",
      "\n",
      "WRS Path/Row Tiles:\n",
      "------------------------------\n",
      "Path 123/Row 062\n",
      "Path 123/Row 063\n",
      "Path 124/Row 061\n",
      "Path 124/Row 062\n",
      "Path 124/Row 063\n",
      "Path 124/Row 064\n",
      "Path 125/Row 061\n",
      "Path 125/Row 062\n",
      "Path 125/Row 063\n",
      "Path 126/Row 062\n",
      "\n",
      "Available Acqusition Date:\n",
      "------------------------------\n",
      "Date range: 2017-01-13 to 2017-12-17\n",
      "(53 total acquisition dates)\n",
      "\n",
      "Scene IDs (first 10):\n",
      "------------------------------\n",
      "• LC08_123062_20170405\n",
      "• LC08_123062_20170421\n",
      "• LC08_123062_20170726\n",
      "• LC08_123062_20170912\n",
      "• LC08_123062_20171014\n",
      "• LC08_123062_20171217\n",
      "• LC08_123063_20170710\n",
      "• LC08_123063_20170827\n",
      "• LC08_123063_20170912\n",
      "• LC08_123063_20171030\n",
      "... and 43 more scenes\n",
      "\n",
      "============================================================\n"
     ]
    }
   ],
   "source": [
    "#intialize the statistic class\n",
    "stats = Reflectance_Stats()\n",
    "#get the retrival report and automatically print them\n",
    "retrival_report = stats.get_collection_statistics(landsat_data, print_report=True)"
   ]
  },
  {
   "cell_type": "markdown",
   "id": "cb839e51",
   "metadata": {},
   "source": [
    "### System Response 1.3: Imagery Download"
   ]
  },
  {
   "cell_type": "code",
   "execution_count": null,
   "id": "49d212e5",
   "metadata": {},
   "outputs": [],
   "source": [
    "export_task = ee.batch.Export.image.toDrive(\n",
    "    image=stacked_landsat,\n",
    "    description='Landsat_Median_composite_2017_Sumsel',\n",
    "    folder='Earth Engine',\n",
    "    fileNamePrefix='Landsat_Median_composite_2017_Sumsel',\n",
    "    scale=30,\n",
    "    region=aoi,  # or aoi.geometry()\n",
    "    maxPixels=1e13\n",
    ")\n",
    "export_task.start()\n",
    "import time\n",
    "\n",
    "while export_task.active():\n",
    "    print('Exporting... (status: {})'.format(export_task.status()['state']))\n",
    "    time.sleep(10)\n",
    "\n",
    "print('Export complete (status: {})'.format(export_task.status()['state']))"
   ]
  },
  {
   "cell_type": "markdown",
   "id": "1d798e32",
   "metadata": {},
   "source": [
    "## Module 2:  Land-cover classification Scheme\n",
    "Three approach are provided to handle classification scheme:\n",
    "1. Upload a csv file \n",
    "2. Manual input the classification scheme\n",
    "3. Use default classification scheme (RESTORE+ project)"
   ]
  },
  {
   "cell_type": "markdown",
   "id": "e534c2be",
   "metadata": {},
   "source": [
    "### Import the module"
   ]
  },
  {
   "cell_type": "code",
   "execution_count": 7,
   "id": "2240e73f",
   "metadata": {},
   "outputs": [
    {
     "data": {
      "text/html": [
       "\n",
       "            <style>\n",
       "                .geemap-dark {\n",
       "                    --jp-widgets-color: white;\n",
       "                    --jp-widgets-label-color: white;\n",
       "                    --jp-ui-font-color1: white;\n",
       "                    --jp-layout-color2: #454545;\n",
       "                    background-color: #383838;\n",
       "                }\n",
       "\n",
       "                .geemap-dark .jupyter-button {\n",
       "                    --jp-layout-color3: #383838;\n",
       "                }\n",
       "\n",
       "                .geemap-colab {\n",
       "                    background-color: var(--colab-primary-surface-color, white);\n",
       "                }\n",
       "\n",
       "                .geemap-colab .jupyter-button {\n",
       "                    --jp-layout-color3: var(--colab-primary-surface-color, white);\n",
       "                }\n",
       "            </style>\n",
       "            "
      ],
      "text/plain": [
       "<IPython.core.display.HTML object>"
      ]
     },
     "metadata": {},
     "output_type": "display_data"
    },
    {
     "name": "stdout",
     "output_type": "stream",
     "text": [
      "Land Cover Classification Scheme Manager initialized!\n",
      "Current class count: 0\n",
      "No classes defined yet.\n"
     ]
    }
   ],
   "source": [
    "from epistemx.module_2 import LULC_Scheme_Manager\n",
    "#Initialize the LULC Scheme Manager\n",
    "manager = LULC_Scheme_Manager()\n",
    "print(\"Land Cover Classification Scheme Manager initialized!\")\n",
    "print(f\"Current class count: {manager.get_class_count()}\")\n",
    "#Temporary function to display the classiifcation scheme in notebook\n",
    "#Display current classification scheme\n",
    "def display_classification_scheme(manager):\n",
    "    \"\"\"Display the current classification scheme in a readable format\"\"\"\n",
    "    if not manager.has_classes():\n",
    "        print(\"No classes defined yet.\")\n",
    "        return\n",
    "    \n",
    "    print(\"\\n=== Current Classification Scheme ===\")\n",
    "    df = manager.get_dataframe()\n",
    "    print(df.to_string(index=False))\n",
    "    \n",
    "    return df\n",
    "\n",
    "# Display the scheme\n",
    "df = display_classification_scheme(manager)"
   ]
  },
  {
   "cell_type": "markdown",
   "id": "72d08dfb",
   "metadata": {},
   "source": [
    "### System Response 2.1a: Upload Classification Scheme"
   ]
  },
  {
   "cell_type": "code",
   "execution_count": 8,
   "id": "2c972c28",
   "metadata": {},
   "outputs": [
    {
     "data": {
      "text/html": [
       "\n",
       "            <style>\n",
       "                .geemap-dark {\n",
       "                    --jp-widgets-color: white;\n",
       "                    --jp-widgets-label-color: white;\n",
       "                    --jp-ui-font-color1: white;\n",
       "                    --jp-layout-color2: #454545;\n",
       "                    background-color: #383838;\n",
       "                }\n",
       "\n",
       "                .geemap-dark .jupyter-button {\n",
       "                    --jp-layout-color3: #383838;\n",
       "                }\n",
       "\n",
       "                .geemap-colab {\n",
       "                    background-color: var(--colab-primary-surface-color, white);\n",
       "                }\n",
       "\n",
       "                .geemap-colab .jupyter-button {\n",
       "                    --jp-layout-color3: var(--colab-primary-surface-color, white);\n",
       "                }\n",
       "            </style>\n",
       "            "
      ],
      "text/plain": [
       "<IPython.core.display.HTML object>"
      ]
     },
     "metadata": {},
     "output_type": "display_data"
    },
    {
     "name": "stdout",
     "output_type": "stream",
     "text": [
      "=== CSV Upload Process ===\n",
      "Loaded CSV:\n",
      "    ﻿No                       Class_name  Class_id\n",
      "0     1               Rubber monoculture        15\n",
      "1     2                       Settlement        16\n",
      "2     3             Oil palm monoculture        11\n",
      "3     4                       Water Body        19\n",
      "4     5                Acacia plantation         1\n",
      "5     6                       Rice Field        13\n",
      "6     7                     Mixed Garden        10\n",
      "7     8                Rubber agroforest        14\n",
      "8     9   Logged Over Forest Low Density         8\n",
      "9    10                            Shrub        17\n",
      "10   11                            Grass         6\n",
      "11   12         Logged over swamp forest         9\n",
      "12   13  Logged over forest-high density         7\n",
      "13   14                Coffee Agroforest         5\n",
      "14   15              Coconut monoculture         4\n",
      "15   16                      Other Crops        12\n",
      "16   17                     Cleared Land         3\n",
      "17   18                   Tea plantation        18\n",
      "18   19                             Cane         2\n",
      "\n",
      "Auto-detected columns:\n",
      "ID column: Class_id\n",
      "Name column: Class_name\n",
      "Color column: None\n"
     ]
    }
   ],
   "source": [
    "import pandas as pd\n",
    "#Reset manager for CSV upload example\n",
    "manager = LULC_Scheme_Manager()\n",
    "#path to csv \n",
    "csv_path = \"../test_data/Example_Classification_scheme.csv\"\n",
    "\n",
    "print(\"=== CSV Upload Process ===\")\n",
    "\n",
    "# Load the CSV\n",
    "df = pd.read_csv(csv_path, sep=None, engine=\"python\")\n",
    "print(\"Loaded CSV:\")\n",
    "print(df)\n",
    "\n",
    "# Auto-detect columns\n",
    "id_col, name_col, color_col = manager.auto_detect_csv_columns(df)\n",
    "print(f\"\\nAuto-detected columns:\")\n",
    "print(f\"ID column: {id_col}\")\n",
    "print(f\"Name column: {name_col}\")\n",
    "print(f\"Color column: {color_col}\")"
   ]
  },
  {
   "cell_type": "code",
   "execution_count": 11,
   "id": "dccbff10",
   "metadata": {},
   "outputs": [
    {
     "data": {
      "text/html": [
       "\n",
       "            <style>\n",
       "                .geemap-dark {\n",
       "                    --jp-widgets-color: white;\n",
       "                    --jp-widgets-label-color: white;\n",
       "                    --jp-ui-font-color1: white;\n",
       "                    --jp-layout-color2: #454545;\n",
       "                    background-color: #383838;\n",
       "                }\n",
       "\n",
       "                .geemap-dark .jupyter-button {\n",
       "                    --jp-layout-color3: #383838;\n",
       "                }\n",
       "\n",
       "                .geemap-colab {\n",
       "                    background-color: var(--colab-primary-surface-color, white);\n",
       "                }\n",
       "\n",
       "                .geemap-colab .jupyter-button {\n",
       "                    --jp-layout-color3: var(--colab-primary-surface-color, white);\n",
       "                }\n",
       "            </style>\n",
       "            "
      ],
      "text/plain": [
       "<IPython.core.display.HTML object>"
      ]
     },
     "metadata": {},
     "output_type": "display_data"
    },
    {
     "name": "stdout",
     "output_type": "stream",
     "text": [
      "✅ Successfully loaded 19 classes from CSV with auto-generated colors\n",
      "✅ Classification scheme created with 19 classes\n",
      "\n",
      "=== Current Classification Scheme ===\n",
      " ID                Land Cover Class Color Palette\n",
      "  1               Acacia plantation       #FFEAA7\n",
      "  2                            Cane       #AED6F1\n",
      "  3                    Cleared Land       #F9E79F\n",
      "  4             Coconut monoculture       #D7BDE2\n",
      "  5               Coffee Agroforest       #85C1E9\n",
      "  6                           Grass       #F8C471\n",
      "  7 Logged over forest-high density       #F1948A\n",
      "  8  Logged Over Forest Low Density       #BB8FCE\n",
      "  9        Logged over swamp forest       #82E0AA\n",
      " 10                    Mixed Garden       #98D8C8\n",
      " 11            Oil palm monoculture       #45B7D1\n",
      " 12                     Other Crops       #A3E4D7\n",
      " 13                      Rice Field       #DDA0DD\n",
      " 14               Rubber agroforest       #F7DC6F\n",
      " 15              Rubber monoculture       #FF6B6B\n",
      " 16                      Settlement       #4ECDC4\n",
      " 17                           Shrub       #85C1E9\n",
      " 18                  Tea plantation       #D5A6BD\n",
      " 19                      Water Body       #96CEB4\n"
     ]
    },
    {
     "data": {
      "text/html": [
       "<div>\n",
       "<style scoped>\n",
       "    .dataframe tbody tr th:only-of-type {\n",
       "        vertical-align: middle;\n",
       "    }\n",
       "\n",
       "    .dataframe tbody tr th {\n",
       "        vertical-align: top;\n",
       "    }\n",
       "\n",
       "    .dataframe thead th {\n",
       "        text-align: right;\n",
       "    }\n",
       "</style>\n",
       "<table border=\"1\" class=\"dataframe\">\n",
       "  <thead>\n",
       "    <tr style=\"text-align: right;\">\n",
       "      <th></th>\n",
       "      <th>ID</th>\n",
       "      <th>Land Cover Class</th>\n",
       "      <th>Color Palette</th>\n",
       "    </tr>\n",
       "  </thead>\n",
       "  <tbody>\n",
       "    <tr>\n",
       "      <th>0</th>\n",
       "      <td>1</td>\n",
       "      <td>Acacia plantation</td>\n",
       "      <td>#FFEAA7</td>\n",
       "    </tr>\n",
       "    <tr>\n",
       "      <th>1</th>\n",
       "      <td>2</td>\n",
       "      <td>Cane</td>\n",
       "      <td>#AED6F1</td>\n",
       "    </tr>\n",
       "    <tr>\n",
       "      <th>2</th>\n",
       "      <td>3</td>\n",
       "      <td>Cleared Land</td>\n",
       "      <td>#F9E79F</td>\n",
       "    </tr>\n",
       "    <tr>\n",
       "      <th>3</th>\n",
       "      <td>4</td>\n",
       "      <td>Coconut monoculture</td>\n",
       "      <td>#D7BDE2</td>\n",
       "    </tr>\n",
       "    <tr>\n",
       "      <th>4</th>\n",
       "      <td>5</td>\n",
       "      <td>Coffee Agroforest</td>\n",
       "      <td>#85C1E9</td>\n",
       "    </tr>\n",
       "    <tr>\n",
       "      <th>5</th>\n",
       "      <td>6</td>\n",
       "      <td>Grass</td>\n",
       "      <td>#F8C471</td>\n",
       "    </tr>\n",
       "    <tr>\n",
       "      <th>6</th>\n",
       "      <td>7</td>\n",
       "      <td>Logged over forest-high density</td>\n",
       "      <td>#F1948A</td>\n",
       "    </tr>\n",
       "    <tr>\n",
       "      <th>7</th>\n",
       "      <td>8</td>\n",
       "      <td>Logged Over Forest Low Density</td>\n",
       "      <td>#BB8FCE</td>\n",
       "    </tr>\n",
       "    <tr>\n",
       "      <th>8</th>\n",
       "      <td>9</td>\n",
       "      <td>Logged over swamp forest</td>\n",
       "      <td>#82E0AA</td>\n",
       "    </tr>\n",
       "    <tr>\n",
       "      <th>9</th>\n",
       "      <td>10</td>\n",
       "      <td>Mixed Garden</td>\n",
       "      <td>#98D8C8</td>\n",
       "    </tr>\n",
       "    <tr>\n",
       "      <th>10</th>\n",
       "      <td>11</td>\n",
       "      <td>Oil palm monoculture</td>\n",
       "      <td>#45B7D1</td>\n",
       "    </tr>\n",
       "    <tr>\n",
       "      <th>11</th>\n",
       "      <td>12</td>\n",
       "      <td>Other Crops</td>\n",
       "      <td>#A3E4D7</td>\n",
       "    </tr>\n",
       "    <tr>\n",
       "      <th>12</th>\n",
       "      <td>13</td>\n",
       "      <td>Rice Field</td>\n",
       "      <td>#DDA0DD</td>\n",
       "    </tr>\n",
       "    <tr>\n",
       "      <th>13</th>\n",
       "      <td>14</td>\n",
       "      <td>Rubber agroforest</td>\n",
       "      <td>#F7DC6F</td>\n",
       "    </tr>\n",
       "    <tr>\n",
       "      <th>14</th>\n",
       "      <td>15</td>\n",
       "      <td>Rubber monoculture</td>\n",
       "      <td>#FF6B6B</td>\n",
       "    </tr>\n",
       "    <tr>\n",
       "      <th>15</th>\n",
       "      <td>16</td>\n",
       "      <td>Settlement</td>\n",
       "      <td>#4ECDC4</td>\n",
       "    </tr>\n",
       "    <tr>\n",
       "      <th>16</th>\n",
       "      <td>17</td>\n",
       "      <td>Shrub</td>\n",
       "      <td>#85C1E9</td>\n",
       "    </tr>\n",
       "    <tr>\n",
       "      <th>17</th>\n",
       "      <td>18</td>\n",
       "      <td>Tea plantation</td>\n",
       "      <td>#D5A6BD</td>\n",
       "    </tr>\n",
       "    <tr>\n",
       "      <th>18</th>\n",
       "      <td>19</td>\n",
       "      <td>Water Body</td>\n",
       "      <td>#96CEB4</td>\n",
       "    </tr>\n",
       "  </tbody>\n",
       "</table>\n",
       "</div>"
      ],
      "text/plain": [
       "    ID                 Land Cover Class Color Palette\n",
       "0    1                Acacia plantation       #FFEAA7\n",
       "1    2                             Cane       #AED6F1\n",
       "2    3                     Cleared Land       #F9E79F\n",
       "3    4              Coconut monoculture       #D7BDE2\n",
       "4    5                Coffee Agroforest       #85C1E9\n",
       "5    6                            Grass       #F8C471\n",
       "6    7  Logged over forest-high density       #F1948A\n",
       "7    8   Logged Over Forest Low Density       #BB8FCE\n",
       "8    9         Logged over swamp forest       #82E0AA\n",
       "9   10                     Mixed Garden       #98D8C8\n",
       "10  11             Oil palm monoculture       #45B7D1\n",
       "11  12                      Other Crops       #A3E4D7\n",
       "12  13                       Rice Field       #DDA0DD\n",
       "13  14                Rubber agroforest       #F7DC6F\n",
       "14  15               Rubber monoculture       #FF6B6B\n",
       "15  16                       Settlement       #4ECDC4\n",
       "16  17                            Shrub       #85C1E9\n",
       "17  18                   Tea plantation       #D5A6BD\n",
       "18  19                       Water Body       #96CEB4"
      ]
     },
     "execution_count": 11,
     "metadata": {},
     "output_type": "execute_result"
    }
   ],
   "source": [
    "# Process CSV upload\n",
    "success, message = manager.process_csv_upload(df, id_col, name_col, color_col)\n",
    "if success:\n",
    "    print(f\"✅ {message}\")\n",
    "    \n",
    "    # Finalize the upload\n",
    "    success, message = manager.finalize_csv_upload()\n",
    "    if success:\n",
    "        print(f\"✅ {message}\")\n",
    "    else:\n",
    "        print(f\"❌ {message}\")\n",
    "else:\n",
    "    print(f\"❌ {message}\")\n",
    "\n",
    "# Display the loaded scheme\n",
    "display_classification_scheme(manager)"
   ]
  },
  {
   "cell_type": "markdown",
   "id": "fa1d8b9f",
   "metadata": {},
   "source": [
    "### System Response 2.1b: Manual Scheme Definition"
   ]
  },
  {
   "cell_type": "code",
   "execution_count": null,
   "id": "458a8020",
   "metadata": {},
   "outputs": [
    {
     "name": "stdout",
     "output_type": "stream",
     "text": [
      "=== Manual Class Addition ===\n",
      "✅ Class 'Hutan Lahan Kering' (ID: 1) added successfully!\n",
      "✅ Class 'Pertanian Lahan Kering' (ID: 2) added successfully!\n",
      "✅ Class 'Permukiman' (ID: 3) added successfully!\n",
      "✅ Class 'Badan Air' (ID: 4) added successfully!\n",
      "✅ Class 'Pertanian Lahan Basah' (ID: 5) added successfully!\n",
      "\n",
      "Total classes: 5\n"
     ]
    }
   ],
   "source": [
    "#Reset manager for manual input example\n",
    "manager = LULC_Scheme_Manager()\n",
    "#Manually add the class\n",
    "print(\"=== Manual Class Addition ===\")\n",
    "\n",
    "#Example of class to add\n",
    "classes_to_add = [\n",
    "    (1, \"Hutan Lahan Kering\", \"#0E6D0E\"),\n",
    "    (2, \"Pertanian Lahan Kering\", \"#E8F800\"),\n",
    "    (3, \"Permukiman\", \"#F81D00\"),\n",
    "    (4, \"Badan Air\", \"#1512F3\"),\n",
    "    (5, \"Pertanian Lahan Basah\", \"#\")\n",
    "]\n",
    "\n",
    "for class_id, class_name, color_code in classes_to_add:\n",
    "    success, message = manager.add_class(class_id, class_name, color_code)\n",
    "    if success:\n",
    "        print(f\"✅ {message}\")\n",
    "    else:\n",
    "        print(f\"❌ {message}\")\n",
    "\n",
    "print(f\"\\nTotal classes: {manager.get_class_count()}\")"
   ]
  },
  {
   "cell_type": "code",
   "execution_count": null,
   "id": "213558d3",
   "metadata": {},
   "outputs": [
    {
     "name": "stdout",
     "output_type": "stream",
     "text": [
      "=== Editing a Class ===\n",
      "Editing class: {'ID': 1, 'Class Name': 'Hutan Lahan Kering', 'Color Code': '#0E6D0E'}\n",
      "✅ Class 'HUtan Lahan Rendah' (ID: 1) updated successfully!\n",
      "\n",
      "=== Current Classification Scheme ===\n",
      " ID       Land Cover Class Color Palette\n",
      "  1     HUtan Lahan Rendah       #004D00\n",
      "  2 Pertanian Lahan Kering       #E8F800\n",
      "  3             Permukiman       #F81D00\n",
      "  4              Badan Air       #1512F3\n",
      "  5  Pertanian Lahan Basah             #\n"
     ]
    },
    {
     "data": {
      "text/html": [
       "<div>\n",
       "<style scoped>\n",
       "    .dataframe tbody tr th:only-of-type {\n",
       "        vertical-align: middle;\n",
       "    }\n",
       "\n",
       "    .dataframe tbody tr th {\n",
       "        vertical-align: top;\n",
       "    }\n",
       "\n",
       "    .dataframe thead th {\n",
       "        text-align: right;\n",
       "    }\n",
       "</style>\n",
       "<table border=\"1\" class=\"dataframe\">\n",
       "  <thead>\n",
       "    <tr style=\"text-align: right;\">\n",
       "      <th></th>\n",
       "      <th>ID</th>\n",
       "      <th>Land Cover Class</th>\n",
       "      <th>Color Palette</th>\n",
       "    </tr>\n",
       "  </thead>\n",
       "  <tbody>\n",
       "    <tr>\n",
       "      <th>0</th>\n",
       "      <td>1</td>\n",
       "      <td>HUtan Lahan Rendah</td>\n",
       "      <td>#004D00</td>\n",
       "    </tr>\n",
       "    <tr>\n",
       "      <th>1</th>\n",
       "      <td>2</td>\n",
       "      <td>Pertanian Lahan Kering</td>\n",
       "      <td>#E8F800</td>\n",
       "    </tr>\n",
       "    <tr>\n",
       "      <th>2</th>\n",
       "      <td>3</td>\n",
       "      <td>Permukiman</td>\n",
       "      <td>#F81D00</td>\n",
       "    </tr>\n",
       "    <tr>\n",
       "      <th>3</th>\n",
       "      <td>4</td>\n",
       "      <td>Badan Air</td>\n",
       "      <td>#1512F3</td>\n",
       "    </tr>\n",
       "    <tr>\n",
       "      <th>4</th>\n",
       "      <td>5</td>\n",
       "      <td>Pertanian Lahan Basah</td>\n",
       "      <td>#</td>\n",
       "    </tr>\n",
       "  </tbody>\n",
       "</table>\n",
       "</div>"
      ],
      "text/plain": [
       "   ID        Land Cover Class Color Palette\n",
       "0   1      HUtan Lahan Rendah       #004D00\n",
       "1   2  Pertanian Lahan Kering       #E8F800\n",
       "2   3              Permukiman       #F81D00\n",
       "3   4               Badan Air       #1512F3\n",
       "4   5   Pertanian Lahan Basah             #"
      ]
     },
     "execution_count": 11,
     "metadata": {},
     "output_type": "execute_result"
    }
   ],
   "source": [
    "# Example: Edit an existing class\n",
    "print(\"=== Editing a Class ===\")\n",
    "\n",
    "# Edit the first class (index 0)\n",
    "class_to_edit = manager.edit_class(0)\n",
    "if class_to_edit:\n",
    "    print(f\"Editing class: {class_to_edit}\")\n",
    "    \n",
    "    # Update the class with new information\n",
    "    success, message = manager.add_class(1, \"HUtan Lahan Rendah\", \"#004D00\")\n",
    "    if success:\n",
    "        print(f\"✅ {message}\")\n",
    "    else:\n",
    "        print(f\"❌ {message}\")\n",
    "\n",
    "# Display updated scheme\n",
    "display_classification_scheme(manager)"
   ]
  },
  {
   "cell_type": "markdown",
   "id": "704bb924",
   "metadata": {},
   "source": [
    "### System Response 2.1c: Template Classification Scheme"
   ]
  },
  {
   "cell_type": "code",
   "execution_count": null,
   "id": "11b2702d",
   "metadata": {},
   "outputs": [
    {
     "name": "stdout",
     "output_type": "stream",
     "text": [
      "=== Available Default Schemes ===\n",
      "\n",
      "RESTORE+ Project: 10 classes\n",
      "  - ID 1: Natural Forest (#0E6D0E)\n",
      "  - ID 2: Agroforestry (#F08306)\n",
      "  - ID 3: Monoculture Plantation (#38E638)\n",
      "  - ID 4: Grassland or Savanna (#80DD80)\n",
      "  - ID 5: Shrub (#5F972A)\n",
      "  - ID 6: Paddy Field (#777907)\n",
      "  - ID 7: Cropland (Palawija, Horticulture) (#E8F800)\n",
      "  - ID 8: Settlement (#F81D00)\n",
      "  - ID 9: Cleared Land (#E9B970)\n",
      "  - ID 10: Waterbody (#1512F3)\n"
     ]
    }
   ],
   "source": [
    "# Reset manager for default scheme example\n",
    "manager = LULC_Scheme_Manager()\n",
    "\n",
    "print(\"=== Available Default Schemes ===\")\n",
    "default_schemes = manager.get_default_schemes()\n",
    "\n",
    "for scheme_name, classes in default_schemes.items():\n",
    "    print(f\"\\n{scheme_name}: {len(classes)} classes\")\n",
    "    for class_data in classes:\n",
    "        print(f\"  - ID {class_data['ID']}: {class_data['Class Name']} ({class_data['Color Code']})\")"
   ]
  },
  {
   "cell_type": "code",
   "execution_count": 10,
   "id": "982940ad",
   "metadata": {},
   "outputs": [
    {
     "data": {
      "text/html": [
       "\n",
       "            <style>\n",
       "                .geemap-dark {\n",
       "                    --jp-widgets-color: white;\n",
       "                    --jp-widgets-label-color: white;\n",
       "                    --jp-ui-font-color1: white;\n",
       "                    --jp-layout-color2: #454545;\n",
       "                    background-color: #383838;\n",
       "                }\n",
       "\n",
       "                .geemap-dark .jupyter-button {\n",
       "                    --jp-layout-color3: #383838;\n",
       "                }\n",
       "\n",
       "                .geemap-colab {\n",
       "                    background-color: var(--colab-primary-surface-color, white);\n",
       "                }\n",
       "\n",
       "                .geemap-colab .jupyter-button {\n",
       "                    --jp-layout-color3: var(--colab-primary-surface-color, white);\n",
       "                }\n",
       "            </style>\n",
       "            "
      ],
      "text/plain": [
       "<IPython.core.display.HTML object>"
      ]
     },
     "metadata": {},
     "output_type": "display_data"
    },
    {
     "name": "stdout",
     "output_type": "stream",
     "text": [
      "✅ Loaded RESTORE+ Project with 10 classes\n",
      "\n",
      "=== Current Classification Scheme ===\n",
      " ID                  Land Cover Class Color Palette\n",
      "  1                    Natural Forest       #0E6D0E\n",
      "  2                      Agroforestry       #F08306\n",
      "  3            Monoculture Plantation       #38E638\n",
      "  4              Grassland or Savanna       #80DD80\n",
      "  5                             Shrub       #5F972A\n",
      "  6                       Paddy Field       #777907\n",
      "  7 Cropland (Palawija, Horticulture)       #E8F800\n",
      "  8                        Settlement       #F81D00\n",
      "  9                      Cleared Land       #E9B970\n",
      " 10                         Waterbody       #1512F3\n"
     ]
    },
    {
     "data": {
      "text/html": [
       "<div>\n",
       "<style scoped>\n",
       "    .dataframe tbody tr th:only-of-type {\n",
       "        vertical-align: middle;\n",
       "    }\n",
       "\n",
       "    .dataframe tbody tr th {\n",
       "        vertical-align: top;\n",
       "    }\n",
       "\n",
       "    .dataframe thead th {\n",
       "        text-align: right;\n",
       "    }\n",
       "</style>\n",
       "<table border=\"1\" class=\"dataframe\">\n",
       "  <thead>\n",
       "    <tr style=\"text-align: right;\">\n",
       "      <th></th>\n",
       "      <th>ID</th>\n",
       "      <th>Land Cover Class</th>\n",
       "      <th>Color Palette</th>\n",
       "    </tr>\n",
       "  </thead>\n",
       "  <tbody>\n",
       "    <tr>\n",
       "      <th>0</th>\n",
       "      <td>1</td>\n",
       "      <td>Natural Forest</td>\n",
       "      <td>#0E6D0E</td>\n",
       "    </tr>\n",
       "    <tr>\n",
       "      <th>1</th>\n",
       "      <td>2</td>\n",
       "      <td>Agroforestry</td>\n",
       "      <td>#F08306</td>\n",
       "    </tr>\n",
       "    <tr>\n",
       "      <th>2</th>\n",
       "      <td>3</td>\n",
       "      <td>Monoculture Plantation</td>\n",
       "      <td>#38E638</td>\n",
       "    </tr>\n",
       "    <tr>\n",
       "      <th>3</th>\n",
       "      <td>4</td>\n",
       "      <td>Grassland or Savanna</td>\n",
       "      <td>#80DD80</td>\n",
       "    </tr>\n",
       "    <tr>\n",
       "      <th>4</th>\n",
       "      <td>5</td>\n",
       "      <td>Shrub</td>\n",
       "      <td>#5F972A</td>\n",
       "    </tr>\n",
       "    <tr>\n",
       "      <th>5</th>\n",
       "      <td>6</td>\n",
       "      <td>Paddy Field</td>\n",
       "      <td>#777907</td>\n",
       "    </tr>\n",
       "    <tr>\n",
       "      <th>6</th>\n",
       "      <td>7</td>\n",
       "      <td>Cropland (Palawija, Horticulture)</td>\n",
       "      <td>#E8F800</td>\n",
       "    </tr>\n",
       "    <tr>\n",
       "      <th>7</th>\n",
       "      <td>8</td>\n",
       "      <td>Settlement</td>\n",
       "      <td>#F81D00</td>\n",
       "    </tr>\n",
       "    <tr>\n",
       "      <th>8</th>\n",
       "      <td>9</td>\n",
       "      <td>Cleared Land</td>\n",
       "      <td>#E9B970</td>\n",
       "    </tr>\n",
       "    <tr>\n",
       "      <th>9</th>\n",
       "      <td>10</td>\n",
       "      <td>Waterbody</td>\n",
       "      <td>#1512F3</td>\n",
       "    </tr>\n",
       "  </tbody>\n",
       "</table>\n",
       "</div>"
      ],
      "text/plain": [
       "   ID                   Land Cover Class Color Palette\n",
       "0   1                     Natural Forest       #0E6D0E\n",
       "1   2                       Agroforestry       #F08306\n",
       "2   3             Monoculture Plantation       #38E638\n",
       "3   4               Grassland or Savanna       #80DD80\n",
       "4   5                              Shrub       #5F972A\n",
       "5   6                        Paddy Field       #777907\n",
       "6   7  Cropland (Palawija, Horticulture)       #E8F800\n",
       "7   8                         Settlement       #F81D00\n",
       "8   9                       Cleared Land       #E9B970\n",
       "9  10                          Waterbody       #1512F3"
      ]
     },
     "execution_count": 10,
     "metadata": {},
     "output_type": "execute_result"
    }
   ],
   "source": [
    "# Load the RESTORE+ default scheme\n",
    "scheme_name = \"RESTORE+ Project\"\n",
    "success, message = manager.load_default_scheme(scheme_name)\n",
    "\n",
    "if success:\n",
    "    print(f\"✅ {message}\")\n",
    "else:\n",
    "    print(f\"❌ {message}\")\n",
    "\n",
    "# Display the loaded scheme\n",
    "display_classification_scheme(manager)"
   ]
  },
  {
   "cell_type": "markdown",
   "id": "fdfc2278",
   "metadata": {},
   "source": [
    "### System Response 2.2: Download classification scheme"
   ]
  },
  {
   "cell_type": "code",
   "execution_count": 12,
   "id": "fecc7b3e",
   "metadata": {},
   "outputs": [
    {
     "data": {
      "text/html": [
       "\n",
       "            <style>\n",
       "                .geemap-dark {\n",
       "                    --jp-widgets-color: white;\n",
       "                    --jp-widgets-label-color: white;\n",
       "                    --jp-ui-font-color1: white;\n",
       "                    --jp-layout-color2: #454545;\n",
       "                    background-color: #383838;\n",
       "                }\n",
       "\n",
       "                .geemap-dark .jupyter-button {\n",
       "                    --jp-layout-color3: #383838;\n",
       "                }\n",
       "\n",
       "                .geemap-colab {\n",
       "                    background-color: var(--colab-primary-surface-color, white);\n",
       "                }\n",
       "\n",
       "                .geemap-colab .jupyter-button {\n",
       "                    --jp-layout-color3: var(--colab-primary-surface-color, white);\n",
       "                }\n",
       "            </style>\n",
       "            "
      ],
      "text/plain": [
       "<IPython.core.display.HTML object>"
      ]
     },
     "metadata": {},
     "output_type": "display_data"
    },
    {
     "name": "stdout",
     "output_type": "stream",
     "text": [
      "=== Export Classification Scheme ===\n",
      "Classification DataFrame:\n",
      "    ID                 Land Cover Class Color Palette\n",
      "0    1                Acacia plantation       #FFEAA7\n",
      "1    2                             Cane       #AED6F1\n",
      "2    3                     Cleared Land       #F9E79F\n",
      "3    4              Coconut monoculture       #D7BDE2\n",
      "4    5                Coffee Agroforest       #85C1E9\n",
      "5    6                            Grass       #F8C471\n",
      "6    7  Logged over forest-high density       #F1948A\n",
      "7    8   Logged Over Forest Low Density       #BB8FCE\n",
      "8    9         Logged over swamp forest       #82E0AA\n",
      "9   10                     Mixed Garden       #98D8C8\n",
      "10  11             Oil palm monoculture       #45B7D1\n",
      "11  12                      Other Crops       #A3E4D7\n",
      "12  13                       Rice Field       #DDA0DD\n",
      "13  14                Rubber agroforest       #F7DC6F\n",
      "14  15               Rubber monoculture       #FF6B6B\n",
      "15  16                       Settlement       #4ECDC4\n",
      "16  17                            Shrub       #85C1E9\n",
      "17  18                   Tea plantation       #D5A6BD\n",
      "18  19                       Water Body       #96CEB4\n",
      "\n",
      "✅ Classification scheme saved to: ../Selected_LC_Classification_Scheme.csv\n"
     ]
    }
   ],
   "source": [
    "print(\"=== Export Classification Scheme ===\")\n",
    "#Convert the selected  classification scheme manager to dataframe\n",
    "classification_df = manager.get_dataframe()\n",
    "print(\"Classification DataFrame:\")\n",
    "print(classification_df)\n",
    "#Save the file\n",
    "output_path = '../Selected_LC_Classification_Scheme.csv'\n",
    "classification_df.to_csv(output_path, index=False)\n",
    "print(f\"\\n✅ Classification scheme saved to: {output_path}\")"
   ]
  },
  {
   "cell_type": "markdown",
   "id": "449588c3",
   "metadata": {},
   "source": [
    "# Module 3: Generate Region Of Interest\n",
    "Three methods to generate ROI are supported in EPISTEM platform:\n",
    "1. **Upload Training Data** - Upload your own shapefile\n",
    "2. **On-screen Sampling** - Create samples using interactive map\n",
    "3. **Default Reference Data** - Use Epistem's default training data"
   ]
  },
  {
   "cell_type": "markdown",
   "id": "4acdddc0",
   "metadata": {},
   "source": [
    "## Library Import and Setup"
   ]
  },
  {
   "cell_type": "code",
   "execution_count": 13,
   "id": "3617c8b8",
   "metadata": {},
   "outputs": [
    {
     "data": {
      "text/html": [
       "\n",
       "            <style>\n",
       "                .geemap-dark {\n",
       "                    --jp-widgets-color: white;\n",
       "                    --jp-widgets-label-color: white;\n",
       "                    --jp-ui-font-color1: white;\n",
       "                    --jp-layout-color2: #454545;\n",
       "                    background-color: #383838;\n",
       "                }\n",
       "\n",
       "                .geemap-dark .jupyter-button {\n",
       "                    --jp-layout-color3: #383838;\n",
       "                }\n",
       "\n",
       "                .geemap-colab {\n",
       "                    background-color: var(--colab-primary-surface-color, white);\n",
       "                }\n",
       "\n",
       "                .geemap-colab .jupyter-button {\n",
       "                    --jp-layout-color3: var(--colab-primary-surface-color, white);\n",
       "                }\n",
       "            </style>\n",
       "            "
      ],
      "text/plain": [
       "<IPython.core.display.HTML object>"
      ]
     },
     "metadata": {},
     "output_type": "display_data"
    }
   ],
   "source": [
    "#import the library\n",
    "import pandas as pd\n",
    "import geopandas as gpd\n",
    "\n",
    "#import module source code\n",
    "from epistemx.module_3 import InputCheck, SyncTrainData, SplitTrainData, LULCSamplingTool\n",
    "from epistemx.ee_config import initialize_earth_engine"
   ]
  },
  {
   "cell_type": "code",
   "execution_count": 17,
   "id": "4579da72",
   "metadata": {},
   "outputs": [
    {
     "data": {
      "text/html": [
       "\n",
       "            <style>\n",
       "                .geemap-dark {\n",
       "                    --jp-widgets-color: white;\n",
       "                    --jp-widgets-label-color: white;\n",
       "                    --jp-ui-font-color1: white;\n",
       "                    --jp-layout-color2: #454545;\n",
       "                    background-color: #383838;\n",
       "                }\n",
       "\n",
       "                .geemap-dark .jupyter-button {\n",
       "                    --jp-layout-color3: #383838;\n",
       "                }\n",
       "\n",
       "                .geemap-colab {\n",
       "                    background-color: var(--colab-primary-surface-color, white);\n",
       "                }\n",
       "\n",
       "                .geemap-colab .jupyter-button {\n",
       "                    --jp-layout-color3: var(--colab-primary-surface-color, white);\n",
       "                }\n",
       "            </style>\n",
       "            "
      ],
      "text/plain": [
       "<IPython.core.display.HTML object>"
      ]
     },
     "metadata": {},
     "output_type": "display_data"
    },
    {
     "name": "stdout",
     "output_type": "stream",
     "text": [
      "Selected method: upload\n",
      "Upload your shapefile by specifying file path\n"
     ]
    }
   ],
   "source": [
    "collection_method = 'upload' #can be change\n",
    "\n",
    "print(f\"Selected method: {collection_method}\")\n",
    "\n",
    "if collection_method == 'upload':\n",
    "    print(\"Upload your shapefile by specifying file path\")\n",
    "elif collection_method == 'sampling':\n",
    "    print(\"create training samples using onscreen sampling\")\n",
    "elif collection_method == 'reference':\n",
    "    print(\"📚 use default Epistem reference data\")\n",
    "else:\n",
    "    print(\"❌ Invalid method. Please choose 'upload', 'interactive', or 'reference'\")"
   ]
  },
  {
   "cell_type": "markdown",
   "id": "2df1d02e",
   "metadata": {},
   "source": [
    "## System Response 3.1 Prerequisite Check"
   ]
  },
  {
   "cell_type": "code",
   "execution_count": 18,
   "id": "d956b21d",
   "metadata": {},
   "outputs": [
    {
     "data": {
      "text/html": [
       "\n",
       "            <style>\n",
       "                .geemap-dark {\n",
       "                    --jp-widgets-color: white;\n",
       "                    --jp-widgets-label-color: white;\n",
       "                    --jp-ui-font-color1: white;\n",
       "                    --jp-layout-color2: #454545;\n",
       "                    background-color: #383838;\n",
       "                }\n",
       "\n",
       "                .geemap-dark .jupyter-button {\n",
       "                    --jp-layout-color3: #383838;\n",
       "                }\n",
       "\n",
       "                .geemap-colab {\n",
       "                    background-color: var(--colab-primary-surface-color, white);\n",
       "                }\n",
       "\n",
       "                .geemap-colab .jupyter-button {\n",
       "                    --jp-layout-color3: var(--colab-primary-surface-color, white);\n",
       "                }\n",
       "            </style>\n",
       "            "
      ],
      "text/plain": [
       "<IPython.core.display.HTML object>"
      ]
     },
     "metadata": {},
     "output_type": "display_data"
    },
    {
     "name": "stdout",
     "output_type": "stream",
     "text": [
      "=== Checking Prerequisites ===\n",
      "✅ AOI from Module 1 is available\n",
      "✅ Classification scheme from Module 2 is available\n",
      "   - Number of classes: 19\n",
      "\n",
      "✅ All prerequisites met! You can proceed with training data collection.\n"
     ]
    }
   ],
   "source": [
    "print(\"=== Checking Prerequisites ===\")\n",
    "#Load from previous module\n",
    "#From Module 1 - AOI data\n",
    "try:\n",
    "    AOI = aoi\n",
    "    print(\"✅ AOI from Module 1 is available\")\n",
    "    aoi_available = True\n",
    "except:\n",
    "    print(\"❌ AOI data not available, please run Module 1 first\")\n",
    "    aoi_available = False\n",
    "\n",
    "#From Module 2 - Classification scheme\n",
    "try:\n",
    "    \n",
    "    # For demonstration, create sample classification scheme\n",
    "    LULCTable = classification_df\n",
    "    print(\"✅ Classification scheme from Module 2 is available\")\n",
    "    print(f\"   - Number of classes: {len(LULCTable)}\")\n",
    "    scheme_available = True\n",
    "except:\n",
    "    print(\"❌ Classification scheme not available, please run Module 2 first\")\n",
    "    scheme_available = False\n",
    "\n",
    "if aoi_available and scheme_available:\n",
    "    print(\"\\n✅ All prerequisites met! You can proceed with training data collection.\")\n",
    "else:\n",
    "    print(\"\\n❌ Prerequisites not met. Please complete previous modules first.\")"
   ]
  },
  {
   "cell_type": "markdown",
   "id": "92cede0c",
   "metadata": {},
   "source": [
    "## System Response 3.2 ROI Upload and content Verification"
   ]
  },
  {
   "cell_type": "code",
   "execution_count": 24,
   "id": "18591fc8",
   "metadata": {},
   "outputs": [
    {
     "data": {
      "text/html": [
       "\n",
       "            <style>\n",
       "                .geemap-dark {\n",
       "                    --jp-widgets-color: white;\n",
       "                    --jp-widgets-label-color: white;\n",
       "                    --jp-ui-font-color1: white;\n",
       "                    --jp-layout-color2: #454545;\n",
       "                    background-color: #383838;\n",
       "                }\n",
       "\n",
       "                .geemap-dark .jupyter-button {\n",
       "                    --jp-layout-color3: #383838;\n",
       "                }\n",
       "\n",
       "                .geemap-colab {\n",
       "                    background-color: var(--colab-primary-surface-color, white);\n",
       "                }\n",
       "\n",
       "                .geemap-colab .jupyter-button {\n",
       "                    --jp-layout-color3: var(--colab-primary-surface-color, white);\n",
       "                }\n",
       "            </style>\n",
       "            "
      ],
      "text/plain": [
       "<IPython.core.display.HTML object>"
      ]
     },
     "metadata": {},
     "output_type": "display_data"
    },
    {
     "name": "stdout",
     "output_type": "stream",
     "text": [
      "Skipping upload method...\n"
     ]
    }
   ],
   "source": [
    "if collection_method == 'upload':\n",
    "    # Specify path to your training data shapefile\n",
    "    training_shp_path = '../test_data/Evaluation_Sumsel_data.shp'  # Update this path\n",
    "    # Specify the field name that contains class information\n",
    "    TrainField = 'LULC_ID'\n",
    "    try:\n",
    "        print(\"Loading training data from shapefile...\")\n",
    "        # Load and process training data\n",
    "        TrainDataDict = SyncTrainData.LoadTrainData(\n",
    "            landcover_df=LULCTable,\n",
    "            aoi_geometry=AOI,\n",
    "            training_shp_path=training_shp_path\n",
    "        )\n",
    "        #Clas containing LULC ID\n",
    "        TrainDataDict = SyncTrainData.SetClassField(TrainDataDict, TrainField)\n",
    "        \n",
    "        #Validating the class\n",
    "        TrainDataDict = SyncTrainData.ValidClass(TrainDataDict, class_col_index=1)\n",
    "        \n",
    "        #Check sufficiency\n",
    "        TrainDataDict = SyncTrainData.CheckSufficiency(TrainDataDict, min_samples=20)\n",
    "        \n",
    "        #Make sure the ROI is within the AOI\n",
    "        TrainDataDict = SyncTrainData.FilterTrainAoi(TrainDataDict)\n",
    "        \n",
    "        # Create summary table\n",
    "        table_df, total_samples, insufficient_df = SyncTrainData.TrainDataRaw(\n",
    "            training_data=TrainDataDict.get('training_data'),\n",
    "            landcover_df=TrainDataDict.get('landcover_df'),\n",
    "            class_field=TrainDataDict.get('class_field')\n",
    "        )\n",
    "        \n",
    "        print(\"✅ Training data loaded and processed successfully!\")\n",
    "        print(f\"Total samples: {total_samples}\")\n",
    "        \n",
    "        # Display summary table\n",
    "        display(table_df)\n",
    "        \n",
    "        # Store final training data\n",
    "        TrainDataFinal = TrainDataDict.get('training_data')\n",
    "    except Exception as e:\n",
    "        print(f\"❌ Error loading training data: {e}\")\n",
    "        print(\"Please check your file path and field name.\")\n",
    "else:\n",
    "    print(\"Skipping upload method...\")"
   ]
  },
  {
   "cell_type": "code",
   "execution_count": 22,
   "id": "e36a8b9d",
   "metadata": {},
   "outputs": [
    {
     "data": {
      "text/html": [
       "\n",
       "            <style>\n",
       "                .geemap-dark {\n",
       "                    --jp-widgets-color: white;\n",
       "                    --jp-widgets-label-color: white;\n",
       "                    --jp-ui-font-color1: white;\n",
       "                    --jp-layout-color2: #454545;\n",
       "                    background-color: #383838;\n",
       "                }\n",
       "\n",
       "                .geemap-dark .jupyter-button {\n",
       "                    --jp-layout-color3: #383838;\n",
       "                }\n",
       "\n",
       "                .geemap-colab {\n",
       "                    background-color: var(--colab-primary-surface-color, white);\n",
       "                }\n",
       "\n",
       "                .geemap-colab .jupyter-button {\n",
       "                    --jp-layout-color3: var(--colab-primary-surface-color, white);\n",
       "                }\n",
       "            </style>\n",
       "            "
      ],
      "text/plain": [
       "<IPython.core.display.HTML object>"
      ]
     },
     "metadata": {},
     "output_type": "display_data"
    },
    {
     "name": "stdout",
     "output_type": "stream",
     "text": [
      "Initializing Interactive Sampling Tool...\n"
     ]
    },
    {
     "data": {
      "application/vnd.jupyter.widget-view+json": {
       "model_id": "b1f8e4ef60b743a9b86ccb57bbfebcbb",
       "version_major": 2,
       "version_minor": 0
      },
      "text/plain": [
       "HTML(value='\\n        <style>\\n        .jupyter-widgets.widget-container.widget-box.widget-vbox .jupyter-widge…"
      ]
     },
     "metadata": {},
     "output_type": "display_data"
    },
    {
     "name": "stdout",
     "output_type": "stream",
     "text": [
      "✅ Sampling tool initialized!\n",
      "\n",
      "Instructions:\n",
      "1. Select a class from the dropdown\n",
      "2. Click 'Set Active Class'\n",
      "3. Click on the map to add points\n",
      "4. Use 'Update Data' to refresh the summary\n",
      "5. Use 'Export to Shapefile' when done\n"
     ]
    }
   ],
   "source": [
    "collection_method = 'sampling'\n",
    "if collection_method == 'sampling':\n",
    "    print(\"Initializing Interactive Sampling Tool...\")\n",
    "    \n",
    "    # Create sampling tool\n",
    "    sampling_tool = LULCSamplingTool(\n",
    "        lulc_dataframe=LULCTable,\n",
    "        aoi_ee_featurecollection=AOI\n",
    "    )\n",
    "    \n",
    "    print(\"✅ Sampling tool initialized!\")\n",
    "    print(\"\\nInstructions:\")\n",
    "    print(\"1. Select a class from the dropdown\")\n",
    "    print(\"2. Click 'Set Active Class'\")\n",
    "    print(\"3. Click on the map to add points\")\n",
    "    print(\"4. Use 'Update Data' to refresh the summary\")\n",
    "    print(\"5. Use 'Export to Shapefile' when done\")\n",
    "    \n",
    "else:\n",
    "    print(\"Skipping interactive sampling method...\")"
   ]
  },
  {
   "cell_type": "code",
   "execution_count": 23,
   "id": "38ff9917",
   "metadata": {},
   "outputs": [
    {
     "data": {
      "text/html": [
       "\n",
       "            <style>\n",
       "                .geemap-dark {\n",
       "                    --jp-widgets-color: white;\n",
       "                    --jp-widgets-label-color: white;\n",
       "                    --jp-ui-font-color1: white;\n",
       "                    --jp-layout-color2: #454545;\n",
       "                    background-color: #383838;\n",
       "                }\n",
       "\n",
       "                .geemap-dark .jupyter-button {\n",
       "                    --jp-layout-color3: #383838;\n",
       "                }\n",
       "\n",
       "                .geemap-colab {\n",
       "                    background-color: var(--colab-primary-surface-color, white);\n",
       "                }\n",
       "\n",
       "                .geemap-colab .jupyter-button {\n",
       "                    --jp-layout-color3: var(--colab-primary-surface-color, white);\n",
       "                }\n",
       "            </style>\n",
       "            "
      ],
      "text/plain": [
       "<IPython.core.display.HTML object>"
      ]
     },
     "metadata": {},
     "output_type": "display_data"
    },
    {
     "name": "stdout",
     "output_type": "stream",
     "text": [
      "Getting training data from sampling tool...\n",
      "❌ No training data collected. Please use the sampling tool above.\n"
     ]
    }
   ],
   "source": [
    "if collection_method == 'sampling':\n",
    "    # After sampling, get the training data\n",
    "    print(\"Getting training data from sampling tool...\")\n",
    "    \n",
    "    if len(sampling_tool.training_data) > 0:\n",
    "        # Convert to GeoDataFrame\n",
    "        from shapely.geometry import Point\n",
    "        \n",
    "        geometries = [Point(item['longitude'], item['latitude']) for item in sampling_tool.training_data]\n",
    "        \n",
    "        training_points = []\n",
    "        for item in sampling_tool.training_data:\n",
    "            training_points.append({\n",
    "                'kelas': item['class_id'],\n",
    "                'LULC_Type': item['class_type'],\n",
    "                'latitude': item['latitude'],\n",
    "                'longitude': item['longitude']\n",
    "            })\n",
    "        \n",
    "        TrainDataFinal = gpd.GeoDataFrame(training_points, geometry=geometries, crs='EPSG:4326')\n",
    "        \n",
    "        print(f\"✅ Collected {len(TrainDataFinal)} training samples!\")\n",
    "        \n",
    "        # Display summary\n",
    "        summary = TrainDataFinal.groupby('LULC_Type').size().reset_index(name='Count')\n",
    "        print(\"\\nSampling Summary:\")\n",
    "        display(summary)\n",
    "        \n",
    "    else:\n",
    "        print(\"❌ No training data collected. Please use the sampling tool above.\")\n",
    "        TrainDataFinal = None\n",
    "else:\n",
    "    print(\"Interactive sampling not selected.\")"
   ]
  },
  {
   "cell_type": "markdown",
   "id": "dc33b8ee",
   "metadata": {},
   "source": []
  },
  {
   "cell_type": "code",
   "execution_count": 26,
   "id": "d623126b",
   "metadata": {},
   "outputs": [
    {
     "data": {
      "text/html": [
       "\n",
       "            <style>\n",
       "                .geemap-dark {\n",
       "                    --jp-widgets-color: white;\n",
       "                    --jp-widgets-label-color: white;\n",
       "                    --jp-ui-font-color1: white;\n",
       "                    --jp-layout-color2: #454545;\n",
       "                    background-color: #383838;\n",
       "                }\n",
       "\n",
       "                .geemap-dark .jupyter-button {\n",
       "                    --jp-layout-color3: #383838;\n",
       "                }\n",
       "\n",
       "                .geemap-colab {\n",
       "                    background-color: var(--colab-primary-surface-color, white);\n",
       "                }\n",
       "\n",
       "                .geemap-colab .jupyter-button {\n",
       "                    --jp-layout-color3: var(--colab-primary-surface-color, white);\n",
       "                }\n",
       "            </style>\n",
       "            "
      ],
      "text/plain": [
       "<IPython.core.display.HTML object>"
      ]
     },
     "metadata": {},
     "output_type": "display_data"
    },
    {
     "name": "stdout",
     "output_type": "stream",
     "text": [
      "Loading default reference training data...\n",
      "Loading reference training data from Earth Engine...\n",
      "[INFO] Large FeatureCollection detected (39003 inside AOI)\n",
      "Processing and validating reference data...\n",
      "✅ Reference training data loaded and processed successfully!\n",
      "Total samples: 39003\n"
     ]
    },
    {
     "data": {
      "text/html": [
       "<div>\n",
       "<style scoped>\n",
       "    .dataframe tbody tr th:only-of-type {\n",
       "        vertical-align: middle;\n",
       "    }\n",
       "\n",
       "    .dataframe tbody tr th {\n",
       "        vertical-align: top;\n",
       "    }\n",
       "\n",
       "    .dataframe thead th {\n",
       "        text-align: right;\n",
       "    }\n",
       "</style>\n",
       "<table border=\"1\" class=\"dataframe\">\n",
       "  <thead>\n",
       "    <tr style=\"text-align: right;\">\n",
       "      <th></th>\n",
       "      <th>ID</th>\n",
       "      <th>LULC_class</th>\n",
       "      <th>Sample_Count</th>\n",
       "      <th>Percentage</th>\n",
       "      <th>Status</th>\n",
       "    </tr>\n",
       "  </thead>\n",
       "  <tbody>\n",
       "    <tr>\n",
       "      <th>0</th>\n",
       "      <td>1</td>\n",
       "      <td>Acacia plantation</td>\n",
       "      <td>916</td>\n",
       "      <td>2.348537</td>\n",
       "      <td>Sufficient</td>\n",
       "    </tr>\n",
       "    <tr>\n",
       "      <th>1</th>\n",
       "      <td>2</td>\n",
       "      <td>Cane</td>\n",
       "      <td>684</td>\n",
       "      <td>1.753711</td>\n",
       "      <td>Sufficient</td>\n",
       "    </tr>\n",
       "    <tr>\n",
       "      <th>2</th>\n",
       "      <td>3</td>\n",
       "      <td>Cleared Land</td>\n",
       "      <td>9467</td>\n",
       "      <td>24.272492</td>\n",
       "      <td>Sufficient</td>\n",
       "    </tr>\n",
       "    <tr>\n",
       "      <th>3</th>\n",
       "      <td>4</td>\n",
       "      <td>Coconut monoculture</td>\n",
       "      <td>1089</td>\n",
       "      <td>2.792093</td>\n",
       "      <td>Sufficient</td>\n",
       "    </tr>\n",
       "    <tr>\n",
       "      <th>4</th>\n",
       "      <td>5</td>\n",
       "      <td>Coffee Agroforest</td>\n",
       "      <td>0</td>\n",
       "      <td>0.000000</td>\n",
       "      <td>No Samples</td>\n",
       "    </tr>\n",
       "    <tr>\n",
       "      <th>5</th>\n",
       "      <td>6</td>\n",
       "      <td>Grass</td>\n",
       "      <td>374</td>\n",
       "      <td>0.958901</td>\n",
       "      <td>Sufficient</td>\n",
       "    </tr>\n",
       "    <tr>\n",
       "      <th>6</th>\n",
       "      <td>7</td>\n",
       "      <td>Logged over forest-high density</td>\n",
       "      <td>1879</td>\n",
       "      <td>4.817578</td>\n",
       "      <td>Sufficient</td>\n",
       "    </tr>\n",
       "    <tr>\n",
       "      <th>7</th>\n",
       "      <td>8</td>\n",
       "      <td>Logged Over Forest Low Density</td>\n",
       "      <td>2057</td>\n",
       "      <td>5.273953</td>\n",
       "      <td>Sufficient</td>\n",
       "    </tr>\n",
       "    <tr>\n",
       "      <th>8</th>\n",
       "      <td>9</td>\n",
       "      <td>Logged over swamp forest</td>\n",
       "      <td>4690</td>\n",
       "      <td>12.024716</td>\n",
       "      <td>Sufficient</td>\n",
       "    </tr>\n",
       "    <tr>\n",
       "      <th>9</th>\n",
       "      <td>10</td>\n",
       "      <td>Mixed Garden</td>\n",
       "      <td>637</td>\n",
       "      <td>1.633208</td>\n",
       "      <td>Sufficient</td>\n",
       "    </tr>\n",
       "    <tr>\n",
       "      <th>10</th>\n",
       "      <td>11</td>\n",
       "      <td>Oil palm monoculture</td>\n",
       "      <td>3775</td>\n",
       "      <td>9.678743</td>\n",
       "      <td>Sufficient</td>\n",
       "    </tr>\n",
       "    <tr>\n",
       "      <th>11</th>\n",
       "      <td>12</td>\n",
       "      <td>Other Crops</td>\n",
       "      <td>4695</td>\n",
       "      <td>12.037536</td>\n",
       "      <td>Sufficient</td>\n",
       "    </tr>\n",
       "    <tr>\n",
       "      <th>12</th>\n",
       "      <td>13</td>\n",
       "      <td>Rice Field</td>\n",
       "      <td>4043</td>\n",
       "      <td>10.365869</td>\n",
       "      <td>Sufficient</td>\n",
       "    </tr>\n",
       "    <tr>\n",
       "      <th>13</th>\n",
       "      <td>14</td>\n",
       "      <td>Rubber agroforest</td>\n",
       "      <td>1632</td>\n",
       "      <td>4.184294</td>\n",
       "      <td>Sufficient</td>\n",
       "    </tr>\n",
       "    <tr>\n",
       "      <th>14</th>\n",
       "      <td>15</td>\n",
       "      <td>Rubber monoculture</td>\n",
       "      <td>1360</td>\n",
       "      <td>3.486911</td>\n",
       "      <td>Sufficient</td>\n",
       "    </tr>\n",
       "    <tr>\n",
       "      <th>15</th>\n",
       "      <td>16</td>\n",
       "      <td>Settlement</td>\n",
       "      <td>648</td>\n",
       "      <td>1.661411</td>\n",
       "      <td>Sufficient</td>\n",
       "    </tr>\n",
       "    <tr>\n",
       "      <th>16</th>\n",
       "      <td>17</td>\n",
       "      <td>Shrub</td>\n",
       "      <td>1057</td>\n",
       "      <td>2.710048</td>\n",
       "      <td>Sufficient</td>\n",
       "    </tr>\n",
       "    <tr>\n",
       "      <th>17</th>\n",
       "      <td>18</td>\n",
       "      <td>Tea plantation</td>\n",
       "      <td>0</td>\n",
       "      <td>0.000000</td>\n",
       "      <td>No Samples</td>\n",
       "    </tr>\n",
       "    <tr>\n",
       "      <th>18</th>\n",
       "      <td>19</td>\n",
       "      <td>Water Body</td>\n",
       "      <td>0</td>\n",
       "      <td>0.000000</td>\n",
       "      <td>No Samples</td>\n",
       "    </tr>\n",
       "  </tbody>\n",
       "</table>\n",
       "</div>"
      ],
      "text/plain": [
       "    ID                       LULC_class  Sample_Count  Percentage      Status\n",
       "0    1                Acacia plantation           916    2.348537  Sufficient\n",
       "1    2                             Cane           684    1.753711  Sufficient\n",
       "2    3                     Cleared Land          9467   24.272492  Sufficient\n",
       "3    4              Coconut monoculture          1089    2.792093  Sufficient\n",
       "4    5                Coffee Agroforest             0    0.000000  No Samples\n",
       "5    6                            Grass           374    0.958901  Sufficient\n",
       "6    7  Logged over forest-high density          1879    4.817578  Sufficient\n",
       "7    8   Logged Over Forest Low Density          2057    5.273953  Sufficient\n",
       "8    9         Logged over swamp forest          4690   12.024716  Sufficient\n",
       "9   10                     Mixed Garden           637    1.633208  Sufficient\n",
       "10  11             Oil palm monoculture          3775    9.678743  Sufficient\n",
       "11  12                      Other Crops          4695   12.037536  Sufficient\n",
       "12  13                       Rice Field          4043   10.365869  Sufficient\n",
       "13  14                Rubber agroforest          1632    4.184294  Sufficient\n",
       "14  15               Rubber monoculture          1360    3.486911  Sufficient\n",
       "15  16                       Settlement           648    1.661411  Sufficient\n",
       "16  17                            Shrub          1057    2.710048  Sufficient\n",
       "17  18                   Tea plantation             0    0.000000  No Samples\n",
       "18  19                       Water Body             0    0.000000  No Samples"
      ]
     },
     "metadata": {},
     "output_type": "display_data"
    },
    {
     "name": "stdout",
     "output_type": "stream",
     "text": [
      "\n",
      "Validation Results:\n",
      "- Total points loaded: 39003\n",
      "- Points after class filter: 39003\n",
      "- Valid points (within AOI): 39003\n",
      "- Invalid classes: 0\n"
     ]
    }
   ],
   "source": [
    "collection_method = 'reference'\n",
    "if collection_method == 'reference':\n",
    "    print(\"Loading default reference training data...\")\n",
    "    \n",
    "    # Default training data path\n",
    "    TrainEePath = 'projects/ee-rg2icraf/assets/Indonesia_lulc_Sample'\n",
    "    TrainField = 'kelas'\n",
    "    \n",
    "    try:\n",
    "        print(\"Loading reference training data from Earth Engine...\")\n",
    "        \n",
    "        # Load training data\n",
    "        TrainDataDict = SyncTrainData.LoadTrainData(\n",
    "            landcover_df=LULCTable,\n",
    "            aoi_geometry=AOI,\n",
    "            training_ee_path=TrainEePath\n",
    "        )\n",
    "        \n",
    "        print(\"Processing and validating reference data...\")\n",
    "        \n",
    "        # Set class field\n",
    "        TrainDataDict = SyncTrainData.SetClassField(TrainDataDict, TrainField)\n",
    "        \n",
    "        # Validate classes\n",
    "        TrainDataDict = SyncTrainData.ValidClass(TrainDataDict, class_col_index=0)\n",
    "        \n",
    "        # Check sufficiency\n",
    "        TrainDataDict = SyncTrainData.CheckSufficiency(TrainDataDict, min_samples=20)\n",
    "        \n",
    "        # Filter by AOI\n",
    "        TrainDataDict = SyncTrainData.FilterTrainAoi(TrainDataDict)\n",
    "        \n",
    "        # Create summary table\n",
    "        table_df, total_samples, insufficient_df = SyncTrainData.TrainDataRaw(\n",
    "            training_data=TrainDataDict.get('training_data'),\n",
    "            landcover_df=TrainDataDict.get('landcover_df'),\n",
    "            class_field=TrainDataDict.get('class_field')\n",
    "        )\n",
    "        \n",
    "        print(\"✅ Reference training data loaded and processed successfully!\")\n",
    "        print(f\"Total samples: {total_samples}\")\n",
    "        \n",
    "        # Display summary table\n",
    "        display(table_df)\n",
    "        \n",
    "        # Store final training data\n",
    "        TrainDataFinal = TrainDataDict.get('training_data')\n",
    "        \n",
    "        # Show validation results\n",
    "        vr = TrainDataDict.get('validation_results', {})\n",
    "        print(f\"\\nValidation Results:\")\n",
    "        print(f\"- Total points loaded: {vr.get('total_points', 'N/A')}\")\n",
    "        print(f\"- Points after class filter: {vr.get('points_after_class_filter', 'N/A')}\")\n",
    "        print(f\"- Valid points (within AOI): {vr.get('valid_points', 'N/A')}\")\n",
    "        print(f\"- Invalid classes: {len(vr.get('invalid_classes', []))}\")\n",
    "        \n",
    "    except Exception as e:\n",
    "        print(f\"❌ Error loading reference data: {e}\")\n",
    "        TrainDataFinal = None\n",
    "        \n",
    "else:\n",
    "    print(\"Reference data method not selected.\")"
   ]
  }
 ],
 "metadata": {
  "kernelspec": {
   "display_name": "Python 3",
   "language": "python",
   "name": "python3"
  },
  "language_info": {
   "codemirror_mode": {
    "name": "ipython",
    "version": 3
   },
   "file_extension": ".py",
   "mimetype": "text/x-python",
   "name": "python",
   "nbconvert_exporter": "python",
   "pygments_lexer": "ipython3",
   "version": "3.11.9"
  }
 },
 "nbformat": 4,
 "nbformat_minor": 5
}
