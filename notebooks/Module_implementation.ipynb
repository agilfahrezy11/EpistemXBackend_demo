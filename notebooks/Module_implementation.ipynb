{
 "cells": [
  {
   "cell_type": "markdown",
   "id": "17b9b0c0",
   "metadata": {},
   "source": [
    "# Demonstration of EPISTEM-x Module \n",
    "This notebook contain the implementation of the source code for each module in the EPISTEM land cover mapping framework"
   ]
  },
  {
   "cell_type": "markdown",
   "id": "ed875980",
   "metadata": {},
   "source": [
    "## Library import and earth engine initialization\n",
    "If you have earth engine account you could used that to authenticate and initialize the earth engine. However, if you did not have the account, service account initialization is avaliable"
   ]
  },
  {
   "cell_type": "code",
   "execution_count": 1,
   "id": "1be9d7e5",
   "metadata": {},
   "outputs": [
    {
     "name": "stdout",
     "output_type": "stream",
     "text": [
      "\u001b[33m  WARNING: The script watchmedo is installed in '/usr/local/python/3.12.1/bin' which is not on PATH.\n",
      "  Consider adding this directory to PATH or, if you prefer to suppress this warning, use --no-warn-script-location.\u001b[0m\u001b[33m\n",
      "\u001b[0m\u001b[33m  WARNING: The script tqdm is installed in '/usr/local/python/3.12.1/bin' which is not on PATH.\n",
      "  Consider adding this directory to PATH or, if you prefer to suppress this warning, use --no-warn-script-location.\u001b[0m\u001b[33m\n",
      "\u001b[0m\u001b[33m  WARNING: The script scooby is installed in '/usr/local/python/3.12.1/bin' which is not on PATH.\n",
      "  Consider adding this directory to PATH or, if you prefer to suppress this warning, use --no-warn-script-location.\u001b[0m\u001b[33m\n",
      "\u001b[0m\u001b[33m  WARNING: The script pyproj is installed in '/usr/local/python/3.12.1/bin' which is not on PATH.\n",
      "  Consider adding this directory to PATH or, if you prefer to suppress this warning, use --no-warn-script-location.\u001b[0m\u001b[33m\n",
      "\u001b[0m\u001b[33m  WARNING: The scripts futurize and pasteurize are installed in '/usr/local/python/3.12.1/bin' which is not on PATH.\n",
      "  Consider adding this directory to PATH or, if you prefer to suppress this warning, use --no-warn-script-location.\u001b[0m\u001b[33m\n",
      "\u001b[0m\u001b[33m  WARNING: The script whitebox is installed in '/usr/local/python/3.12.1/bin' which is not on PATH.\n",
      "  Consider adding this directory to PATH or, if you prefer to suppress this warning, use --no-warn-script-location.\u001b[0m\u001b[33m\n",
      "\u001b[0m\u001b[33m  WARNING: The scripts pyrsa-decrypt, pyrsa-encrypt, pyrsa-keygen, pyrsa-priv2pub, pyrsa-sign and pyrsa-verify are installed in '/usr/local/python/3.12.1/bin' which is not on PATH.\n",
      "  Consider adding this directory to PATH or, if you prefer to suppress this warning, use --no-warn-script-location.\u001b[0m\u001b[33m\n",
      "\u001b[0m\u001b[33m  WARNING: The script geocode is installed in '/usr/local/python/3.12.1/bin' which is not on PATH.\n",
      "  Consider adding this directory to PATH or, if you prefer to suppress this warning, use --no-warn-script-location.\u001b[0m\u001b[33m\n",
      "\u001b[0m\u001b[33m  WARNING: The script gdown is installed in '/usr/local/python/3.12.1/bin' which is not on PATH.\n",
      "  Consider adding this directory to PATH or, if you prefer to suppress this warning, use --no-warn-script-location.\u001b[0m\u001b[33m\n",
      "\u001b[0m\u001b[33m  WARNING: The script streamlit is installed in '/usr/local/python/3.12.1/bin' which is not on PATH.\n",
      "  Consider adding this directory to PATH or, if you prefer to suppress this warning, use --no-warn-script-location.\u001b[0m\u001b[33m\n",
      "\u001b[0m\u001b[33m  WARNING: The script stac-client is installed in '/usr/local/python/3.12.1/bin' which is not on PATH.\n",
      "  Consider adding this directory to PATH or, if you prefer to suppress this warning, use --no-warn-script-location.\u001b[0m\u001b[33m\n",
      "\u001b[0m\u001b[33m  WARNING: The scripts leafmap, view-raster and view-vector are installed in '/usr/local/python/3.12.1/bin' which is not on PATH.\n",
      "  Consider adding this directory to PATH or, if you prefer to suppress this warning, use --no-warn-script-location.\u001b[0m\u001b[33m\n",
      "\u001b[0m\u001b[33m  WARNING: The script earthengine is installed in '/usr/local/python/3.12.1/bin' which is not on PATH.\n",
      "  Consider adding this directory to PATH or, if you prefer to suppress this warning, use --no-warn-script-location.\u001b[0m\u001b[33m\n",
      "\u001b[0m\u001b[33m  WARNING: The script geemap is installed in '/usr/local/python/3.12.1/bin' which is not on PATH.\n",
      "  Consider adding this directory to PATH or, if you prefer to suppress this warning, use --no-warn-script-location.\u001b[0m\u001b[33m\n",
      "\u001b[0m\n",
      "\u001b[1m[\u001b[0m\u001b[34;49mnotice\u001b[0m\u001b[1;39;49m]\u001b[0m\u001b[39;49m A new release of pip is available: \u001b[0m\u001b[31;49m25.1.1\u001b[0m\u001b[39;49m -> \u001b[0m\u001b[32;49m25.3\u001b[0m\n",
      "\u001b[1m[\u001b[0m\u001b[34;49mnotice\u001b[0m\u001b[1;39;49m]\u001b[0m\u001b[39;49m To update, run: \u001b[0m\u001b[32;49mpython -m pip install --upgrade pip\u001b[0m\n"
     ]
    }
   ],
   "source": [
    "#This code is used if the notebook is implemented in github codespace. Just remove the (#)\n",
    "!python -m pip install .. --quiet"
   ]
  },
  {
   "cell_type": "code",
   "execution_count": 1,
   "id": "d131ed9b",
   "metadata": {},
   "outputs": [
    {
     "name": "stdout",
     "output_type": "stream",
     "text": [
      "Earth Engine initialized successfully\n",
      "\n",
      "    EARTH ENGINE AUTHENTICATION NOTES:\n",
      "    \n",
      "    1. Make sure you already have a google cloud project that has enable the Earth Engine API and registered to \n",
      "       commercial or non-commercial use. For more information visit: https://developers.google.com/earth-engine/guides/access \n",
      "    \n",
      "    2. you can authenticate programmatically by calling: from epistemx.ee_config import authenticate_manually\n",
      "       authenticate_manually()\n",
      "    \n",
      "    3. This will open a web browser. Sign in with your Google account that has Earth Engine access.\n",
      "    \n",
      "    4. Copy the authorization code from the browser and paste it in the terminal.\n",
      "    \n",
      "    \n",
      "    For more details, visit: https://developers.google.com/earth-engine/guides/python_install\n",
      "    \n"
     ]
    },
    {
     "name": "stderr",
     "output_type": "stream",
     "text": [
      "Service account initialization failed: ('invalid_grant: Invalid JWT Signature.', {'error': 'invalid_grant', 'error_description': 'Invalid JWT Signature.'})\n"
     ]
    },
    {
     "name": "stdout",
     "output_type": "stream",
     "text": [
      "Service account initialization failed. Try to authenticate earth engine manually\n",
      "Initialized: True\n",
      "Authenticated: True\n",
      "Project: projects/398749169520/assets/AEF_Test_AOI\n"
     ]
    }
   ],
   "source": [
    "import ee \n",
    "import epistemx\n",
    "\n",
    "#Option 1: Manual authenticate using personal account\n",
    "#Instructions for manual authentication\n",
    "epistemx.print_auth_instructions()\n",
    "#uncomment the below line and follow earth engine authentication process\n",
    "epistemx.authenticate_manually()\n",
    "\n",
    "#Option 2: Autheticate using service account (json file)\n",
    "service_account_path = '../auth/ee-rg2icraf-ecab9c534f91.json'\n",
    "success = epistemx.initialize_with_service_account(service_account_path)\n",
    "\n",
    "if success:\n",
    "    print(\"Earth Engine initialized with service account successfully!\")\n",
    "else:\n",
    "    print(\"Service account initialization failed. Try to authenticate earth engine manually\")\n",
    "\n",
    "#Check authentication status\n",
    "status = epistemx.get_auth_status()\n",
    "print(f\"Initialized: {status['initialized']}\")\n",
    "print(f\"Authenticated: {status['authenticated']}\")\n",
    "if status['project']:\n",
    "    print(f\"Project: {status['project']}\")"
   ]
  },
  {
   "cell_type": "code",
   "execution_count": 2,
   "id": "87e17a13",
   "metadata": {},
   "outputs": [],
   "source": [
    "import geemap\n",
    "from epistemx.module_1 import Reflectance_Data, Reflectance_Stats\n",
    "from epistemx.helpers import get_aoi_from_gaul"
   ]
  },
  {
   "cell_type": "markdown",
   "id": "77a1466e",
   "metadata": {},
   "source": [
    "## Module 1: Acquisition of Near-Cloud-Free Satellite Imagery"
   ]
  },
  {
   "cell_type": "markdown",
   "id": "5114ef38",
   "metadata": {},
   "source": [
    "### System Response 1.1: Area of Interest Definition"
   ]
  },
  {
   "cell_type": "code",
   "execution_count": 3,
   "id": "d8507432",
   "metadata": {},
   "outputs": [
    {
     "data": {
      "text/html": [
       "\n",
       "            <style>\n",
       "                .geemap-dark {\n",
       "                    --jp-widgets-color: white;\n",
       "                    --jp-widgets-label-color: white;\n",
       "                    --jp-ui-font-color1: white;\n",
       "                    --jp-layout-color2: #454545;\n",
       "                    background-color: #383838;\n",
       "                }\n",
       "\n",
       "                .geemap-dark .jupyter-button {\n",
       "                    --jp-layout-color3: #383838;\n",
       "                }\n",
       "\n",
       "                .geemap-colab {\n",
       "                    background-color: var(--colab-primary-surface-color, white);\n",
       "                }\n",
       "\n",
       "                .geemap-colab .jupyter-button {\n",
       "                    --jp-layout-color3: var(--colab-primary-surface-color, white);\n",
       "                }\n",
       "            </style>\n",
       "            "
      ],
      "text/plain": [
       "<IPython.core.display.HTML object>"
      ]
     },
     "metadata": {},
     "output_type": "display_data"
    }
   ],
   "source": [
    "#Set the country and province for the AOI using GAUL admin boundaries\n",
    "aoi = get_aoi_from_gaul(country=\"Indonesia\", province=\"Sumatera Selatan\")\n",
    "#Alternatively, used geemap_shp_to_ee to directly used shapefile in your local machine"
   ]
  },
  {
   "cell_type": "markdown",
   "id": "186e3a9f",
   "metadata": {},
   "source": [
    "### System Response 1.2: Search and Filter Imagery\n",
    "The EPISTEM source code supports Landsat mission data, ranging from Landsat 1 to Landsat 9. For Landsat 1 - 3, the avaliable data is corrected radiance reflectance. The Landsat 5-9 used here is collection 2 surface reflectance (SR) analysis ready data.\n",
    "\n",
    "The retrival logic used here is as follow:\n",
    "1. Retrive multispectral bands (band 1 - 7) from landsat collection 2 SR data (if avaliable)\n",
    "2. Retrive thermal band from landsat collection 2 TOA data \n",
    "3. Create temporal composite for each data \n",
    "4. Stacked the final two data into a earth engine image (ee.image)"
   ]
  },
  {
   "cell_type": "code",
   "execution_count": 4,
   "id": "3027fb75",
   "metadata": {},
   "outputs": [
    {
     "data": {
      "text/html": [
       "\n",
       "            <style>\n",
       "                .geemap-dark {\n",
       "                    --jp-widgets-color: white;\n",
       "                    --jp-widgets-label-color: white;\n",
       "                    --jp-ui-font-color1: white;\n",
       "                    --jp-layout-color2: #454545;\n",
       "                    background-color: #383838;\n",
       "                }\n",
       "\n",
       "                .geemap-dark .jupyter-button {\n",
       "                    --jp-layout-color3: #383838;\n",
       "                }\n",
       "\n",
       "                .geemap-colab {\n",
       "                    background-color: var(--colab-primary-surface-color, white);\n",
       "                }\n",
       "\n",
       "                .geemap-colab .jupyter-button {\n",
       "                    --jp-layout-color3: var(--colab-primary-surface-color, white);\n",
       "                }\n",
       "            </style>\n",
       "            "
      ],
      "text/plain": [
       "<IPython.core.display.HTML object>"
      ]
     },
     "metadata": {},
     "output_type": "display_data"
    },
    {
     "name": "stderr",
     "output_type": "stream",
     "text": [
      "2025-10-28 06:44:46,935 - Reflectance_Data - INFO - ReflectanceData initialized.\n",
      "2025-10-28 06:44:46,936 - Reflectance_Data - INFO - Starting data fetch for Landsat 8 Operational Land Imager Surface Reflectance\n",
      "2025-10-28 06:44:46,937 - Reflectance_Data - INFO - Date range: 2017-01-01 to 2017-12-31\n",
      "2025-10-28 06:44:46,938 - Reflectance_Data - INFO - Cloud cover threshold: 40%\n",
      "2025-10-28 06:44:46,938 - Reflectance_Data - INFO - detailed statistics will not be computed\n",
      "2025-10-28 06:44:46,939 - Reflectance_Stats - INFO - Reflectance Stats initialized.\n",
      "2025-10-28 06:44:46,941 - Reflectance_Data - INFO - Filtered collection created (use compute_detailed_stats=True for more information)\n"
     ]
    }
   ],
   "source": [
    "#========== FIRST RETRIVE THE MULTISPECTRAL BAND===========\n",
    "#Intialize the relfectance class data function\n",
    "optical_reflectance = Reflectance_Data()\n",
    "#define the start and end date for imagery collection\n",
    "start = '2017-01-01'\n",
    "end = '2017-12-31'\n",
    "#get the image collection and corresponding statistics\n",
    "landsat_data, meta = optical_reflectance.get_optical_data(aoi, start, end, optical_data='L8_SR', \n",
    "                                                           cloud_cover=40, compute_detailed_stats=False)\n",
    "#create mosaic between image collection, and clip based on AOI\n",
    "mosaic_landsat = landsat_data.mosaic().clip(aoi)\n",
    "#Alternatively you can use temporal aggregation (ee reducer) to create mode cloudless imagery\n",
    "median_landsat = landsat_data.median().clip(aoi)\n",
    "#visualization parameter\n",
    "l8_sr_visparam = {'min': 0,'max': 0.4,'gamma': [0.95, 1.1, 1],'bands':['NIR', 'RED', 'GREEN']}\n",
    "#Add the data to the map\n",
    "Map = geemap.Map()\n",
    "Map.addLayer(mosaic_landsat, l8_sr_visparam, 'L8 SR Mosaic')\n",
    "Map.addLayer(median_landsat, l8_sr_visparam, 'L8 SR Median')\n",
    "Map.addLayer(landsat_data, l8_sr_visparam, 'L8 SR Image Collection')\n",
    "# set center of the map in the area of interest\n",
    "Map.centerObject(aoi, 7)"
   ]
  },
  {
   "cell_type": "code",
   "execution_count": 5,
   "id": "62243459",
   "metadata": {},
   "outputs": [
    {
     "data": {
      "text/html": [
       "\n",
       "            <style>\n",
       "                .geemap-dark {\n",
       "                    --jp-widgets-color: white;\n",
       "                    --jp-widgets-label-color: white;\n",
       "                    --jp-ui-font-color1: white;\n",
       "                    --jp-layout-color2: #454545;\n",
       "                    background-color: #383838;\n",
       "                }\n",
       "\n",
       "                .geemap-dark .jupyter-button {\n",
       "                    --jp-layout-color3: #383838;\n",
       "                }\n",
       "\n",
       "                .geemap-colab {\n",
       "                    background-color: var(--colab-primary-surface-color, white);\n",
       "                }\n",
       "\n",
       "                .geemap-colab .jupyter-button {\n",
       "                    --jp-layout-color3: var(--colab-primary-surface-color, white);\n",
       "                }\n",
       "            </style>\n",
       "            "
      ],
      "text/plain": [
       "<IPython.core.display.HTML object>"
      ]
     },
     "metadata": {},
     "output_type": "display_data"
    },
    {
     "name": "stderr",
     "output_type": "stream",
     "text": [
      "2025-10-28 06:44:52,915 - Reflectance_Stats - INFO - Reflectance Stats initialized.\n",
      "2025-10-28 06:44:52,921 - Reflectance_Data - INFO - Starting thermal data fetch for Landsat 8 Top-of-atmosphere reflectance\n",
      "2025-10-28 06:44:52,923 - Reflectance_Data - INFO - Date range: 2017-01-01 to 2017-12-31\n",
      "2025-10-28 06:44:52,924 - Reflectance_Data - INFO - Cloud cover threshold: 40%\n",
      "2025-10-28 06:44:52,927 - Reflectance_Data - INFO - Fast mode enabled - detailed statistics will not be computed\n",
      "2025-10-28 06:44:52,928 - Reflectance_Data - INFO - Filtered collection created (use compute_detailed_stats=True for detailed info)\n"
     ]
    },
    {
     "data": {
      "application/vnd.jupyter.widget-view+json": {
       "model_id": "c94c42d692ae450493bee48418088978",
       "version_major": 2,
       "version_minor": 0
      },
      "text/plain": [
       "Map(center=[-3.2210694545062024, 104.16355582426586], controls=(WidgetControl(options=['position', 'transparen…"
      ]
     },
     "execution_count": 5,
     "metadata": {},
     "output_type": "execute_result"
    }
   ],
   "source": [
    "#retive thermal bands from TOA\n",
    "thermal_bands, thermal_stats = optical_reflectance.get_thermal_bands(aoi, start, end, cloud_cover=40, compute_detailed_stats=False)\n",
    "median_thermal = thermal_bands.median().clip(aoi)\n",
    "thermal_vis = {\n",
    "    'min': 286,\n",
    "    'max': 300,\n",
    "    'gammma': 0.4\n",
    "}\n",
    "#stacked all landsat bands\n",
    "stacked_landsat = median_landsat.addBands(median_thermal)\n",
    "#visualize the thermal bands and multispectral bands\n",
    "Map.addLayer(median_thermal, thermal_vis, \"Thermal Bands\")\n",
    "Map"
   ]
  },
  {
   "cell_type": "markdown",
   "id": "f6d9542d",
   "metadata": {},
   "source": [
    "### Image retrival report (optional)"
   ]
  },
  {
   "cell_type": "code",
   "execution_count": 6,
   "id": "5dcdcd22",
   "metadata": {},
   "outputs": [
    {
     "data": {
      "text/html": [
       "\n",
       "            <style>\n",
       "                .geemap-dark {\n",
       "                    --jp-widgets-color: white;\n",
       "                    --jp-widgets-label-color: white;\n",
       "                    --jp-ui-font-color1: white;\n",
       "                    --jp-layout-color2: #454545;\n",
       "                    background-color: #383838;\n",
       "                }\n",
       "\n",
       "                .geemap-dark .jupyter-button {\n",
       "                    --jp-layout-color3: #383838;\n",
       "                }\n",
       "\n",
       "                .geemap-colab {\n",
       "                    background-color: var(--colab-primary-surface-color, white);\n",
       "                }\n",
       "\n",
       "                .geemap-colab .jupyter-button {\n",
       "                    --jp-layout-color3: var(--colab-primary-surface-color, white);\n",
       "                }\n",
       "            </style>\n",
       "            "
      ],
      "text/plain": [
       "<IPython.core.display.HTML object>"
      ]
     },
     "metadata": {},
     "output_type": "display_data"
    },
    {
     "name": "stderr",
     "output_type": "stream",
     "text": [
      "2025-10-28 06:45:06,801 - Reflectance_Stats - INFO - Reflectance Stats initialized.\n"
     ]
    },
    {
     "name": "stdout",
     "output_type": "stream",
     "text": [
      "============================================================\n",
      "           Landsat Data Collection Retrival Report\n",
      "============================================================\n",
      "Total Images Found: 53\n",
      "Date Range: 2017-01-13 to 2017-12-17\n",
      "Unique WRS Tiles: 10\n",
      "\n",
      "Scene Cloud Cover Statistics:\n",
      "------------------------------\n",
      "Average Cloud Cover: 26.8%\n",
      "Minimum Cloud Cover: 2.9%\n",
      "Maximum Cloud Cover: 40.0%\n",
      "\n",
      "WRS Path/Row Tiles:\n",
      "------------------------------\n",
      "Path 123/Row 062\n",
      "Path 123/Row 063\n",
      "Path 124/Row 061\n",
      "Path 124/Row 062\n",
      "Path 124/Row 063\n",
      "Path 124/Row 064\n",
      "Path 125/Row 061\n",
      "Path 125/Row 062\n",
      "Path 125/Row 063\n",
      "Path 126/Row 062\n",
      "\n",
      "Available Acqusition Date:\n",
      "------------------------------\n",
      "Date range: 2017-01-13 to 2017-12-17\n",
      "(53 total acquisition dates)\n",
      "\n",
      "Scene IDs (first 10):\n",
      "------------------------------\n",
      "• LC08_123062_20170405\n",
      "• LC08_123062_20170421\n",
      "• LC08_123062_20170726\n",
      "• LC08_123062_20170912\n",
      "• LC08_123062_20171014\n",
      "• LC08_123062_20171217\n",
      "• LC08_123063_20170710\n",
      "• LC08_123063_20170827\n",
      "• LC08_123063_20170912\n",
      "• LC08_123063_20171030\n",
      "... and 43 more scenes\n",
      "\n",
      "============================================================\n"
     ]
    }
   ],
   "source": [
    "#intialize the statistic class\n",
    "stats = Reflectance_Stats()\n",
    "#get the retrival report and automatically print them\n",
    "retrival_report = stats.get_collection_statistics(landsat_data, print_report=True)"
   ]
  },
  {
   "cell_type": "markdown",
   "id": "cb839e51",
   "metadata": {},
   "source": [
    "### System Response 1.3: Imagery Download"
   ]
  },
  {
   "cell_type": "code",
   "execution_count": null,
   "id": "49d212e5",
   "metadata": {},
   "outputs": [],
   "source": [
    "export_task = ee.batch.Export.image.toDrive(\n",
    "    image=stacked_landsat,\n",
    "    description='Landsat_Median_composite_2017_Sumsel',\n",
    "    folder='Earth Engine',\n",
    "    fileNamePrefix='Landsat_Median_composite_2017_Sumsel',\n",
    "    scale=30,\n",
    "    region=aoi,  # or aoi.geometry()\n",
    "    maxPixels=1e13\n",
    ")\n",
    "export_task.start()\n",
    "import time\n",
    "\n",
    "while export_task.active():\n",
    "    print('Exporting... (status: {})'.format(export_task.status()['state']))\n",
    "    time.sleep(10)\n",
    "\n",
    "print('Export complete (status: {})'.format(export_task.status()['state']))"
   ]
  },
  {
   "cell_type": "markdown",
   "id": "1d798e32",
   "metadata": {},
   "source": [
    "## Module 2:  Land-cover classification Scheme\n",
    "Three approach are provided to handle classification scheme:\n",
    "1. Upload a csv file \n",
    "2. Manual input the classification scheme\n",
    "3. Use default classification scheme (RESTORE+ project)"
   ]
  },
  {
   "cell_type": "markdown",
   "id": "e534c2be",
   "metadata": {},
   "source": [
    "### Import the module"
   ]
  },
  {
   "cell_type": "code",
   "execution_count": 7,
   "id": "2240e73f",
   "metadata": {},
   "outputs": [
    {
     "data": {
      "text/html": [
       "\n",
       "            <style>\n",
       "                .geemap-dark {\n",
       "                    --jp-widgets-color: white;\n",
       "                    --jp-widgets-label-color: white;\n",
       "                    --jp-ui-font-color1: white;\n",
       "                    --jp-layout-color2: #454545;\n",
       "                    background-color: #383838;\n",
       "                }\n",
       "\n",
       "                .geemap-dark .jupyter-button {\n",
       "                    --jp-layout-color3: #383838;\n",
       "                }\n",
       "\n",
       "                .geemap-colab {\n",
       "                    background-color: var(--colab-primary-surface-color, white);\n",
       "                }\n",
       "\n",
       "                .geemap-colab .jupyter-button {\n",
       "                    --jp-layout-color3: var(--colab-primary-surface-color, white);\n",
       "                }\n",
       "            </style>\n",
       "            "
      ],
      "text/plain": [
       "<IPython.core.display.HTML object>"
      ]
     },
     "metadata": {},
     "output_type": "display_data"
    },
    {
     "name": "stdout",
     "output_type": "stream",
     "text": [
      "Land Cover Classification Scheme Manager initialized!\n",
      "Current class count: 0\n",
      "No classes defined yet.\n"
     ]
    }
   ],
   "source": [
    "from epistemx.module_2 import LULC_Scheme_Manager\n",
    "#Initialize the LULC Scheme Manager\n",
    "manager = LULC_Scheme_Manager()\n",
    "print(\"Land Cover Classification Scheme Manager initialized!\")\n",
    "print(f\"Current class count: {manager.get_class_count()}\")\n",
    "#Temporary function to display the classiifcation scheme in notebook\n",
    "#Display current classification scheme\n",
    "def display_classification_scheme(manager):\n",
    "    \"\"\"Display the current classification scheme in a readable format\"\"\"\n",
    "    if not manager.has_classes():\n",
    "        print(\"No classes defined yet.\")\n",
    "        return\n",
    "    \n",
    "    print(\"\\n=== Current Classification Scheme ===\")\n",
    "    df = manager.get_dataframe()\n",
    "    print(df.to_string(index=False))\n",
    "    \n",
    "    return df\n",
    "\n",
    "# Display the scheme\n",
    "df = display_classification_scheme(manager)"
   ]
  },
  {
   "cell_type": "markdown",
   "id": "72d08dfb",
   "metadata": {},
   "source": [
    "### System Response 2.1a: Upload Classification Scheme"
   ]
  },
  {
   "cell_type": "code",
   "execution_count": 8,
   "id": "2c972c28",
   "metadata": {},
   "outputs": [
    {
     "data": {
      "text/html": [
       "\n",
       "            <style>\n",
       "                .geemap-dark {\n",
       "                    --jp-widgets-color: white;\n",
       "                    --jp-widgets-label-color: white;\n",
       "                    --jp-ui-font-color1: white;\n",
       "                    --jp-layout-color2: #454545;\n",
       "                    background-color: #383838;\n",
       "                }\n",
       "\n",
       "                .geemap-dark .jupyter-button {\n",
       "                    --jp-layout-color3: #383838;\n",
       "                }\n",
       "\n",
       "                .geemap-colab {\n",
       "                    background-color: var(--colab-primary-surface-color, white);\n",
       "                }\n",
       "\n",
       "                .geemap-colab .jupyter-button {\n",
       "                    --jp-layout-color3: var(--colab-primary-surface-color, white);\n",
       "                }\n",
       "            </style>\n",
       "            "
      ],
      "text/plain": [
       "<IPython.core.display.HTML object>"
      ]
     },
     "metadata": {},
     "output_type": "display_data"
    },
    {
     "name": "stdout",
     "output_type": "stream",
     "text": [
      "=== CSV Upload Process ===\n",
      "Loaded CSV:\n",
      "    ﻿No                       Class_name  Class_id\n",
      "0     1               Rubber monoculture        15\n",
      "1     2                       Settlement        16\n",
      "2     3             Oil palm monoculture        11\n",
      "3     4                       Water Body        19\n",
      "4     5                Acacia plantation         1\n",
      "5     6                       Rice Field        13\n",
      "6     7                     Mixed Garden        10\n",
      "7     8                Rubber agroforest        14\n",
      "8     9   Logged Over Forest Low Density         8\n",
      "9    10                            Shrub        17\n",
      "10   11                            Grass         6\n",
      "11   12         Logged over swamp forest         9\n",
      "12   13  Logged over forest-high density         7\n",
      "13   14                Coffee Agroforest         5\n",
      "14   15              Coconut monoculture         4\n",
      "15   16                      Other Crops        12\n",
      "16   17                     Cleared Land         3\n",
      "17   18                   Tea plantation        18\n",
      "18   19                             Cane         2\n",
      "\n",
      "Auto-detected columns:\n",
      "ID column: Class_id\n",
      "Name column: Class_name\n",
      "Color column: None\n"
     ]
    }
   ],
   "source": [
    "import pandas as pd\n",
    "#Reset manager for CSV upload example\n",
    "manager = LULC_Scheme_Manager()\n",
    "#path to csv \n",
    "csv_path = \"../test_data/Example_Classification_scheme.csv\"\n",
    "\n",
    "print(\"=== CSV Upload Process ===\")\n",
    "\n",
    "# Load the CSV\n",
    "df = pd.read_csv(csv_path, sep=None, engine=\"python\")\n",
    "print(\"Loaded CSV:\")\n",
    "print(df)\n",
    "\n",
    "# Auto-detect columns\n",
    "id_col, name_col, color_col = manager.auto_detect_csv_columns(df)\n",
    "print(f\"\\nAuto-detected columns:\")\n",
    "print(f\"ID column: {id_col}\")\n",
    "print(f\"Name column: {name_col}\")\n",
    "print(f\"Color column: {color_col}\")"
   ]
  },
  {
   "cell_type": "code",
   "execution_count": 9,
   "id": "dccbff10",
   "metadata": {},
   "outputs": [
    {
     "data": {
      "text/html": [
       "\n",
       "            <style>\n",
       "                .geemap-dark {\n",
       "                    --jp-widgets-color: white;\n",
       "                    --jp-widgets-label-color: white;\n",
       "                    --jp-ui-font-color1: white;\n",
       "                    --jp-layout-color2: #454545;\n",
       "                    background-color: #383838;\n",
       "                }\n",
       "\n",
       "                .geemap-dark .jupyter-button {\n",
       "                    --jp-layout-color3: #383838;\n",
       "                }\n",
       "\n",
       "                .geemap-colab {\n",
       "                    background-color: var(--colab-primary-surface-color, white);\n",
       "                }\n",
       "\n",
       "                .geemap-colab .jupyter-button {\n",
       "                    --jp-layout-color3: var(--colab-primary-surface-color, white);\n",
       "                }\n",
       "            </style>\n",
       "            "
      ],
      "text/plain": [
       "<IPython.core.display.HTML object>"
      ]
     },
     "metadata": {},
     "output_type": "display_data"
    },
    {
     "name": "stdout",
     "output_type": "stream",
     "text": [
      "✅ Successfully loaded 19 classes from CSV with auto-generated colors\n",
      "✅ Classification scheme created with 19 classes\n",
      "\n",
      "=== Current Classification Scheme ===\n",
      " ID                Land Cover Class Color Palette\n",
      "  1               Acacia plantation       #FFEAA7\n",
      "  2                            Cane       #AED6F1\n",
      "  3                    Cleared Land       #F9E79F\n",
      "  4             Coconut monoculture       #D7BDE2\n",
      "  5               Coffee Agroforest       #85C1E9\n",
      "  6                           Grass       #F8C471\n",
      "  7 Logged over forest-high density       #F1948A\n",
      "  8  Logged Over Forest Low Density       #BB8FCE\n",
      "  9        Logged over swamp forest       #82E0AA\n",
      " 10                    Mixed Garden       #98D8C8\n",
      " 11            Oil palm monoculture       #45B7D1\n",
      " 12                     Other Crops       #A3E4D7\n",
      " 13                      Rice Field       #DDA0DD\n",
      " 14               Rubber agroforest       #F7DC6F\n",
      " 15              Rubber monoculture       #FF6B6B\n",
      " 16                      Settlement       #4ECDC4\n",
      " 17                           Shrub       #85C1E9\n",
      " 18                  Tea plantation       #D5A6BD\n",
      " 19                      Water Body       #96CEB4\n"
     ]
    },
    {
     "data": {
      "text/html": [
       "<div>\n",
       "<style scoped>\n",
       "    .dataframe tbody tr th:only-of-type {\n",
       "        vertical-align: middle;\n",
       "    }\n",
       "\n",
       "    .dataframe tbody tr th {\n",
       "        vertical-align: top;\n",
       "    }\n",
       "\n",
       "    .dataframe thead th {\n",
       "        text-align: right;\n",
       "    }\n",
       "</style>\n",
       "<table border=\"1\" class=\"dataframe\">\n",
       "  <thead>\n",
       "    <tr style=\"text-align: right;\">\n",
       "      <th></th>\n",
       "      <th>ID</th>\n",
       "      <th>Land Cover Class</th>\n",
       "      <th>Color Palette</th>\n",
       "    </tr>\n",
       "  </thead>\n",
       "  <tbody>\n",
       "    <tr>\n",
       "      <th>0</th>\n",
       "      <td>1</td>\n",
       "      <td>Acacia plantation</td>\n",
       "      <td>#FFEAA7</td>\n",
       "    </tr>\n",
       "    <tr>\n",
       "      <th>1</th>\n",
       "      <td>2</td>\n",
       "      <td>Cane</td>\n",
       "      <td>#AED6F1</td>\n",
       "    </tr>\n",
       "    <tr>\n",
       "      <th>2</th>\n",
       "      <td>3</td>\n",
       "      <td>Cleared Land</td>\n",
       "      <td>#F9E79F</td>\n",
       "    </tr>\n",
       "    <tr>\n",
       "      <th>3</th>\n",
       "      <td>4</td>\n",
       "      <td>Coconut monoculture</td>\n",
       "      <td>#D7BDE2</td>\n",
       "    </tr>\n",
       "    <tr>\n",
       "      <th>4</th>\n",
       "      <td>5</td>\n",
       "      <td>Coffee Agroforest</td>\n",
       "      <td>#85C1E9</td>\n",
       "    </tr>\n",
       "    <tr>\n",
       "      <th>5</th>\n",
       "      <td>6</td>\n",
       "      <td>Grass</td>\n",
       "      <td>#F8C471</td>\n",
       "    </tr>\n",
       "    <tr>\n",
       "      <th>6</th>\n",
       "      <td>7</td>\n",
       "      <td>Logged over forest-high density</td>\n",
       "      <td>#F1948A</td>\n",
       "    </tr>\n",
       "    <tr>\n",
       "      <th>7</th>\n",
       "      <td>8</td>\n",
       "      <td>Logged Over Forest Low Density</td>\n",
       "      <td>#BB8FCE</td>\n",
       "    </tr>\n",
       "    <tr>\n",
       "      <th>8</th>\n",
       "      <td>9</td>\n",
       "      <td>Logged over swamp forest</td>\n",
       "      <td>#82E0AA</td>\n",
       "    </tr>\n",
       "    <tr>\n",
       "      <th>9</th>\n",
       "      <td>10</td>\n",
       "      <td>Mixed Garden</td>\n",
       "      <td>#98D8C8</td>\n",
       "    </tr>\n",
       "    <tr>\n",
       "      <th>10</th>\n",
       "      <td>11</td>\n",
       "      <td>Oil palm monoculture</td>\n",
       "      <td>#45B7D1</td>\n",
       "    </tr>\n",
       "    <tr>\n",
       "      <th>11</th>\n",
       "      <td>12</td>\n",
       "      <td>Other Crops</td>\n",
       "      <td>#A3E4D7</td>\n",
       "    </tr>\n",
       "    <tr>\n",
       "      <th>12</th>\n",
       "      <td>13</td>\n",
       "      <td>Rice Field</td>\n",
       "      <td>#DDA0DD</td>\n",
       "    </tr>\n",
       "    <tr>\n",
       "      <th>13</th>\n",
       "      <td>14</td>\n",
       "      <td>Rubber agroforest</td>\n",
       "      <td>#F7DC6F</td>\n",
       "    </tr>\n",
       "    <tr>\n",
       "      <th>14</th>\n",
       "      <td>15</td>\n",
       "      <td>Rubber monoculture</td>\n",
       "      <td>#FF6B6B</td>\n",
       "    </tr>\n",
       "    <tr>\n",
       "      <th>15</th>\n",
       "      <td>16</td>\n",
       "      <td>Settlement</td>\n",
       "      <td>#4ECDC4</td>\n",
       "    </tr>\n",
       "    <tr>\n",
       "      <th>16</th>\n",
       "      <td>17</td>\n",
       "      <td>Shrub</td>\n",
       "      <td>#85C1E9</td>\n",
       "    </tr>\n",
       "    <tr>\n",
       "      <th>17</th>\n",
       "      <td>18</td>\n",
       "      <td>Tea plantation</td>\n",
       "      <td>#D5A6BD</td>\n",
       "    </tr>\n",
       "    <tr>\n",
       "      <th>18</th>\n",
       "      <td>19</td>\n",
       "      <td>Water Body</td>\n",
       "      <td>#96CEB4</td>\n",
       "    </tr>\n",
       "  </tbody>\n",
       "</table>\n",
       "</div>"
      ],
      "text/plain": [
       "    ID                 Land Cover Class Color Palette\n",
       "0    1                Acacia plantation       #FFEAA7\n",
       "1    2                             Cane       #AED6F1\n",
       "2    3                     Cleared Land       #F9E79F\n",
       "3    4              Coconut monoculture       #D7BDE2\n",
       "4    5                Coffee Agroforest       #85C1E9\n",
       "5    6                            Grass       #F8C471\n",
       "6    7  Logged over forest-high density       #F1948A\n",
       "7    8   Logged Over Forest Low Density       #BB8FCE\n",
       "8    9         Logged over swamp forest       #82E0AA\n",
       "9   10                     Mixed Garden       #98D8C8\n",
       "10  11             Oil palm monoculture       #45B7D1\n",
       "11  12                      Other Crops       #A3E4D7\n",
       "12  13                       Rice Field       #DDA0DD\n",
       "13  14                Rubber agroforest       #F7DC6F\n",
       "14  15               Rubber monoculture       #FF6B6B\n",
       "15  16                       Settlement       #4ECDC4\n",
       "16  17                            Shrub       #85C1E9\n",
       "17  18                   Tea plantation       #D5A6BD\n",
       "18  19                       Water Body       #96CEB4"
      ]
     },
     "execution_count": 9,
     "metadata": {},
     "output_type": "execute_result"
    }
   ],
   "source": [
    "# Process CSV upload\n",
    "success, message = manager.process_csv_upload(df, id_col, name_col, color_col)\n",
    "if success:\n",
    "    print(f\"✅ {message}\")\n",
    "    \n",
    "    # Finalize the upload\n",
    "    success, message = manager.finalize_csv_upload()\n",
    "    if success:\n",
    "        print(f\"✅ {message}\")\n",
    "    else:\n",
    "        print(f\"❌ {message}\")\n",
    "else:\n",
    "    print(f\"❌ {message}\")\n",
    "\n",
    "# Display the loaded scheme\n",
    "display_classification_scheme(manager)"
   ]
  },
  {
   "cell_type": "markdown",
   "id": "fa1d8b9f",
   "metadata": {},
   "source": [
    "### System Response 2.1b: Manual Scheme Definition"
   ]
  },
  {
   "cell_type": "code",
   "execution_count": null,
   "id": "458a8020",
   "metadata": {},
   "outputs": [],
   "source": [
    "#Reset manager for manual input example\n",
    "manager = LULC_Scheme_Manager()\n",
    "#Manually add the class\n",
    "print(\"=== Manual Class Addition ===\")\n",
    "\n",
    "#Example of class to add\n",
    "classes_to_add = [\n",
    "    (1, \"Hutan Lahan Kering\", \"#0E6D0E\"),\n",
    "    (2, \"Pertanian Lahan Kering\", \"#E8F800\"),\n",
    "    (3, \"Permukiman\", \"#F81D00\"),\n",
    "    (4, \"Badan Air\", \"#1512F3\"),\n",
    "    (5, \"Pertanian Lahan Basah\", \"#\")\n",
    "]\n",
    "\n",
    "for class_id, class_name, color_code in classes_to_add:\n",
    "    success, message = manager.add_class(class_id, class_name, color_code)\n",
    "    if success:\n",
    "        print(f\"✅ {message}\")\n",
    "    else:\n",
    "        print(f\"❌ {message}\")\n",
    "\n",
    "print(f\"\\nTotal classes: {manager.get_class_count()}\")"
   ]
  },
  {
   "cell_type": "code",
   "execution_count": null,
   "id": "213558d3",
   "metadata": {},
   "outputs": [],
   "source": [
    "# Example: Edit an existing class\n",
    "print(\"=== Editing a Class ===\")\n",
    "\n",
    "# Edit the first class (index 0)\n",
    "class_to_edit = manager.edit_class(0)\n",
    "if class_to_edit:\n",
    "    print(f\"Editing class: {class_to_edit}\")\n",
    "    \n",
    "    # Update the class with new information\n",
    "    success, message = manager.add_class(1, \"HUtan Lahan Rendah\", \"#004D00\")\n",
    "    if success:\n",
    "        print(f\"✅ {message}\")\n",
    "    else:\n",
    "        print(f\"❌ {message}\")\n",
    "\n",
    "# Display updated scheme\n",
    "display_classification_scheme(manager)"
   ]
  },
  {
   "cell_type": "markdown",
   "id": "704bb924",
   "metadata": {},
   "source": [
    "### System Response 2.1c: Template Classification Scheme"
   ]
  },
  {
   "cell_type": "code",
   "execution_count": null,
   "id": "11b2702d",
   "metadata": {},
   "outputs": [],
   "source": [
    "# Reset manager for default scheme example\n",
    "manager = LULC_Scheme_Manager()\n",
    "\n",
    "print(\"=== Available Default Schemes ===\")\n",
    "default_schemes = manager.get_default_schemes()\n",
    "\n",
    "for scheme_name, classes in default_schemes.items():\n",
    "    print(f\"\\n{scheme_name}: {len(classes)} classes\")\n",
    "    for class_data in classes:\n",
    "        print(f\"  - ID {class_data['ID']}: {class_data['Class Name']} ({class_data['Color Code']})\")"
   ]
  },
  {
   "cell_type": "code",
   "execution_count": null,
   "id": "982940ad",
   "metadata": {},
   "outputs": [],
   "source": [
    "# Load the RESTORE+ default scheme\n",
    "scheme_name = \"RESTORE+ Project\"\n",
    "success, message = manager.load_default_scheme(scheme_name)\n",
    "\n",
    "if success:\n",
    "    print(f\"✅ {message}\")\n",
    "else:\n",
    "    print(f\"❌ {message}\")\n",
    "\n",
    "# Display the loaded scheme\n",
    "display_classification_scheme(manager)"
   ]
  },
  {
   "cell_type": "markdown",
   "id": "fdfc2278",
   "metadata": {},
   "source": [
    "### System Response 2.2: Download classification scheme"
   ]
  },
  {
   "cell_type": "code",
   "execution_count": 15,
   "id": "fecc7b3e",
   "metadata": {},
   "outputs": [
    {
     "data": {
      "text/html": [
       "\n",
       "            <style>\n",
       "                .geemap-dark {\n",
       "                    --jp-widgets-color: white;\n",
       "                    --jp-widgets-label-color: white;\n",
       "                    --jp-ui-font-color1: white;\n",
       "                    --jp-layout-color2: #454545;\n",
       "                    background-color: #383838;\n",
       "                }\n",
       "\n",
       "                .geemap-dark .jupyter-button {\n",
       "                    --jp-layout-color3: #383838;\n",
       "                }\n",
       "\n",
       "                .geemap-colab {\n",
       "                    background-color: var(--colab-primary-surface-color, white);\n",
       "                }\n",
       "\n",
       "                .geemap-colab .jupyter-button {\n",
       "                    --jp-layout-color3: var(--colab-primary-surface-color, white);\n",
       "                }\n",
       "            </style>\n",
       "            "
      ],
      "text/plain": [
       "<IPython.core.display.HTML object>"
      ]
     },
     "metadata": {},
     "output_type": "display_data"
    },
    {
     "name": "stdout",
     "output_type": "stream",
     "text": [
      "=== Export Classification Scheme ===\n",
      "Classification DataFrame:\n",
      "    ID                 Land Cover Class Color Palette\n",
      "0    1                Acacia plantation       #FFEAA7\n",
      "1    2                             Cane       #AED6F1\n",
      "2    3                     Cleared Land       #F9E79F\n",
      "3    4              Coconut monoculture       #D7BDE2\n",
      "4    5                Coffee Agroforest       #85C1E9\n",
      "5    6                            Grass       #F8C471\n",
      "6    7  Logged over forest-high density       #F1948A\n",
      "7    8   Logged Over Forest Low Density       #BB8FCE\n",
      "8    9         Logged over swamp forest       #82E0AA\n",
      "9   10                     Mixed Garden       #98D8C8\n",
      "10  11             Oil palm monoculture       #45B7D1\n",
      "11  12                      Other Crops       #A3E4D7\n",
      "12  13                       Rice Field       #DDA0DD\n",
      "13  14                Rubber agroforest       #F7DC6F\n",
      "14  15               Rubber monoculture       #FF6B6B\n",
      "15  16                       Settlement       #4ECDC4\n",
      "16  17                            Shrub       #85C1E9\n",
      "17  18                   Tea plantation       #D5A6BD\n",
      "18  19                       Water Body       #96CEB4\n",
      "\n",
      "✅ Classification scheme saved to: ../Selected_LC_Classification_Scheme.csv\n"
     ]
    }
   ],
   "source": [
    "print(\"=== Export Classification Scheme ===\")\n",
    "#Convert the selected  classification scheme manager to dataframe\n",
    "classification_df = manager.get_dataframe()\n",
    "print(\"Classification DataFrame:\")\n",
    "print(classification_df)\n",
    "#Save the file\n",
    "output_path = '../Selected_LC_Classification_Scheme.csv'\n",
    "classification_df.to_csv(output_path, index=False)\n",
    "print(f\"\\n✅ Classification scheme saved to: {output_path}\")"
   ]
  },
  {
   "cell_type": "markdown",
   "id": "449588c3",
   "metadata": {},
   "source": [
    "# Module 3: Generate Region Of Interest\n",
    "Three methods to generate ROI are supported in EPISTEM platform:\n",
    "1. **Upload Training Data** - Upload your own shapefile\n",
    "2. **On-screen Sampling** - Create samples using interactive map\n",
    "3. **Default Reference Data** - Use Epistem's default training data"
   ]
  },
  {
   "cell_type": "markdown",
   "id": "4acdddc0",
   "metadata": {},
   "source": [
    "## Library Import and Setup"
   ]
  },
  {
   "cell_type": "markdown",
   "id": "2df1d02e",
   "metadata": {},
   "source": [
    "## System Response 3.1 Prerequisite Check"
   ]
  },
  {
   "cell_type": "code",
   "execution_count": 16,
   "id": "d956b21d",
   "metadata": {},
   "outputs": [
    {
     "data": {
      "text/html": [
       "\n",
       "            <style>\n",
       "                .geemap-dark {\n",
       "                    --jp-widgets-color: white;\n",
       "                    --jp-widgets-label-color: white;\n",
       "                    --jp-ui-font-color1: white;\n",
       "                    --jp-layout-color2: #454545;\n",
       "                    background-color: #383838;\n",
       "                }\n",
       "\n",
       "                .geemap-dark .jupyter-button {\n",
       "                    --jp-layout-color3: #383838;\n",
       "                }\n",
       "\n",
       "                .geemap-colab {\n",
       "                    background-color: var(--colab-primary-surface-color, white);\n",
       "                }\n",
       "\n",
       "                .geemap-colab .jupyter-button {\n",
       "                    --jp-layout-color3: var(--colab-primary-surface-color, white);\n",
       "                }\n",
       "            </style>\n",
       "            "
      ],
      "text/plain": [
       "<IPython.core.display.HTML object>"
      ]
     },
     "metadata": {},
     "output_type": "display_data"
    },
    {
     "name": "stdout",
     "output_type": "stream",
     "text": [
      "=== Checking Prerequisites ===\n",
      "✅ AOI from Module 1 is available\n",
      "✅ Classification scheme from Module 2 is available\n",
      "   - Number of classes: 19\n",
      "\n",
      "✅ All prerequisites met! You can proceed with training data collection.\n"
     ]
    }
   ],
   "source": [
    "print(\"=== Checking Prerequisites ===\")\n",
    "#Load from previous module\n",
    "#From Module 1 - AOI data\n",
    "try:\n",
    "    AOI = aoi\n",
    "    print(\"✅ AOI from Module 1 is available\")\n",
    "    aoi_available = True\n",
    "except:\n",
    "    print(\"❌ AOI data not available, please run Module 1 first\")\n",
    "    aoi_available = False\n",
    "\n",
    "#From Module 2 - Classification scheme\n",
    "try:\n",
    "    \n",
    "    # For demonstration, create sample classification scheme\n",
    "    LULCTable = classification_df\n",
    "    print(\"✅ Classification scheme from Module 2 is available\")\n",
    "    print(f\"   - Number of classes: {len(LULCTable)}\")\n",
    "    scheme_available = True\n",
    "except:\n",
    "    print(\"❌ Classification scheme not available, please run Module 2 first\")\n",
    "    scheme_available = False\n",
    "\n",
    "if aoi_available and scheme_available:\n",
    "    print(\"\\n✅ All prerequisites met! You can proceed with training data collection.\")\n",
    "else:\n",
    "    print(\"\\n❌ Prerequisites not met. Please complete previous modules first.\")"
   ]
  },
  {
   "cell_type": "markdown",
   "id": "92cede0c",
   "metadata": {},
   "source": [
    "## System Response 3.2 ROI Upload and content Verification"
   ]
  },
  {
   "cell_type": "code",
   "execution_count": 11,
   "id": "ae398a78",
   "metadata": {},
   "outputs": [
    {
     "data": {
      "text/html": [
       "\n",
       "            <style>\n",
       "                .geemap-dark {\n",
       "                    --jp-widgets-color: white;\n",
       "                    --jp-widgets-label-color: white;\n",
       "                    --jp-ui-font-color1: white;\n",
       "                    --jp-layout-color2: #454545;\n",
       "                    background-color: #383838;\n",
       "                }\n",
       "\n",
       "                .geemap-dark .jupyter-button {\n",
       "                    --jp-layout-color3: #383838;\n",
       "                }\n",
       "\n",
       "                .geemap-colab {\n",
       "                    background-color: var(--colab-primary-surface-color, white);\n",
       "                }\n",
       "\n",
       "                .geemap-colab .jupyter-button {\n",
       "                    --jp-layout-color3: var(--colab-primary-surface-color, white);\n",
       "                }\n",
       "            </style>\n",
       "            "
      ],
      "text/plain": [
       "<IPython.core.display.HTML object>"
      ]
     },
     "metadata": {},
     "output_type": "display_data"
    },
    {
     "name": "stderr",
     "output_type": "stream",
     "text": [
      "2025-10-28 06:46:16,891 - matplotlib.font_manager - INFO - generated new fontManager\n"
     ]
    }
   ],
   "source": [
    "# Modul 3a \n",
    "# Import modules and functions\n",
    "import ee\n",
    "import pandas as pd\n",
    "import geopandas as gpd\n",
    "from shapely.geometry import mapping\n",
    "from epistemx.module_3 import InputCheck, SyncTrainData, SplitTrainData, LULCSamplingTool"
   ]
  },
  {
   "cell_type": "code",
   "execution_count": null,
   "id": "7411b55c",
   "metadata": {},
   "outputs": [
    {
     "data": {
      "text/html": [
       "\n",
       "            <style>\n",
       "                .geemap-dark {\n",
       "                    --jp-widgets-color: white;\n",
       "                    --jp-widgets-label-color: white;\n",
       "                    --jp-ui-font-color1: white;\n",
       "                    --jp-layout-color2: #454545;\n",
       "                    background-color: #383838;\n",
       "                }\n",
       "\n",
       "                .geemap-dark .jupyter-button {\n",
       "                    --jp-layout-color3: #383838;\n",
       "                }\n",
       "\n",
       "                .geemap-colab {\n",
       "                    background-color: var(--colab-primary-surface-color, white);\n",
       "                }\n",
       "\n",
       "                .geemap-colab .jupyter-button {\n",
       "                    --jp-layout-color3: var(--colab-primary-surface-color, white);\n",
       "                }\n",
       "            </style>\n",
       "            "
      ],
      "text/plain": [
       "<IPython.core.display.HTML object>"
      ]
     },
     "metadata": {},
     "output_type": "display_data"
    }
   ],
   "source": [
    "# ----- Data Input -----\n",
    "# 1. Decision to upload data\n",
    "UploadTrainData = True # set as 'true' to upload your own training data shapefile\n",
    "# set as 'false' to either add train data by sampling on screen or use default training data\n",
    "\n",
    "# 2. Training data file path (if UploadTrainData is true)\n",
    "TrainVectPath  = '../test_data/Training_Sumsel_Data.shp'\n",
    "TrainField = 'ID' \n",
    "        # Load and process training data\n",
    "TrainDataDict = SyncTrainData.LoadTrainData(\n",
    "            landcover_df=LULCTable,\n",
    "            aoi_geometry=AOI,\n",
    "            training_shp_path=TrainVectPath\n",
    "        )"
   ]
  },
  {
   "cell_type": "code",
   "execution_count": 18,
   "id": "f745ae9d",
   "metadata": {},
   "outputs": [
    {
     "data": {
      "text/html": [
       "\n",
       "            <style>\n",
       "                .geemap-dark {\n",
       "                    --jp-widgets-color: white;\n",
       "                    --jp-widgets-label-color: white;\n",
       "                    --jp-ui-font-color1: white;\n",
       "                    --jp-layout-color2: #454545;\n",
       "                    background-color: #383838;\n",
       "                }\n",
       "\n",
       "                .geemap-dark .jupyter-button {\n",
       "                    --jp-layout-color3: #383838;\n",
       "                }\n",
       "\n",
       "                .geemap-colab {\n",
       "                    background-color: var(--colab-primary-surface-color, white);\n",
       "                }\n",
       "\n",
       "                .geemap-colab .jupyter-button {\n",
       "                    --jp-layout-color3: var(--colab-primary-surface-color, white);\n",
       "                }\n",
       "            </style>\n",
       "            "
      ],
      "text/plain": [
       "<IPython.core.display.HTML object>"
      ]
     },
     "metadata": {},
     "output_type": "display_data"
    },
    {
     "name": "stdout",
     "output_type": "stream",
     "text": [
      "INFO: Added 'Land Cover Class' column to training data\n",
      "INFO: Validation complete. 1622 valid training points remain.\n",
      "======================================================================\n",
      "TRAINING DATA SUMMARY\n",
      "======================================================================\n",
      "Total training points loaded     : 1622\n",
      "Points after class filtering     : 1622\n",
      "Valid points (inside AOI)        : 1622\n",
      "Invalid classes found            : 0\n",
      "Points outside AOI               : 0\n",
      "======================================================================\n"
     ]
    },
    {
     "data": {
      "text/html": [
       "<div>\n",
       "<style scoped>\n",
       "    .dataframe tbody tr th:only-of-type {\n",
       "        vertical-align: middle;\n",
       "    }\n",
       "\n",
       "    .dataframe tbody tr th {\n",
       "        vertical-align: top;\n",
       "    }\n",
       "\n",
       "    .dataframe thead th {\n",
       "        text-align: right;\n",
       "    }\n",
       "</style>\n",
       "<table border=\"1\" class=\"dataframe\">\n",
       "  <thead>\n",
       "    <tr style=\"text-align: right;\">\n",
       "      <th></th>\n",
       "      <th>ID</th>\n",
       "      <th>LULC_class</th>\n",
       "      <th>Sample_Count</th>\n",
       "      <th>Percentage</th>\n",
       "      <th>Status</th>\n",
       "    </tr>\n",
       "  </thead>\n",
       "  <tbody>\n",
       "    <tr>\n",
       "      <th>0</th>\n",
       "      <td>1</td>\n",
       "      <td>Acacia plantation</td>\n",
       "      <td>29</td>\n",
       "      <td>1.79%</td>\n",
       "      <td>Sufficient</td>\n",
       "    </tr>\n",
       "    <tr>\n",
       "      <th>1</th>\n",
       "      <td>2</td>\n",
       "      <td>Cane</td>\n",
       "      <td>22</td>\n",
       "      <td>1.36%</td>\n",
       "      <td>Sufficient</td>\n",
       "    </tr>\n",
       "    <tr>\n",
       "      <th>2</th>\n",
       "      <td>3</td>\n",
       "      <td>Cleared Land</td>\n",
       "      <td>14</td>\n",
       "      <td>0.86%</td>\n",
       "      <td>Insufficient</td>\n",
       "    </tr>\n",
       "    <tr>\n",
       "      <th>3</th>\n",
       "      <td>4</td>\n",
       "      <td>Coconut monoculture</td>\n",
       "      <td>4</td>\n",
       "      <td>0.25%</td>\n",
       "      <td>Insufficient</td>\n",
       "    </tr>\n",
       "    <tr>\n",
       "      <th>4</th>\n",
       "      <td>5</td>\n",
       "      <td>Coffee Agroforest</td>\n",
       "      <td>31</td>\n",
       "      <td>1.91%</td>\n",
       "      <td>Sufficient</td>\n",
       "    </tr>\n",
       "    <tr>\n",
       "      <th>5</th>\n",
       "      <td>6</td>\n",
       "      <td>Grass</td>\n",
       "      <td>21</td>\n",
       "      <td>1.29%</td>\n",
       "      <td>Sufficient</td>\n",
       "    </tr>\n",
       "    <tr>\n",
       "      <th>6</th>\n",
       "      <td>7</td>\n",
       "      <td>Logged over forest-high density</td>\n",
       "      <td>3</td>\n",
       "      <td>0.18%</td>\n",
       "      <td>Insufficient</td>\n",
       "    </tr>\n",
       "    <tr>\n",
       "      <th>7</th>\n",
       "      <td>8</td>\n",
       "      <td>Logged Over Forest Low Density</td>\n",
       "      <td>33</td>\n",
       "      <td>2.03%</td>\n",
       "      <td>Sufficient</td>\n",
       "    </tr>\n",
       "    <tr>\n",
       "      <th>8</th>\n",
       "      <td>9</td>\n",
       "      <td>Logged over swamp forest</td>\n",
       "      <td>13</td>\n",
       "      <td>0.80%</td>\n",
       "      <td>Insufficient</td>\n",
       "    </tr>\n",
       "    <tr>\n",
       "      <th>9</th>\n",
       "      <td>10</td>\n",
       "      <td>Mixed Garden</td>\n",
       "      <td>125</td>\n",
       "      <td>7.71%</td>\n",
       "      <td>Sufficient</td>\n",
       "    </tr>\n",
       "    <tr>\n",
       "      <th>10</th>\n",
       "      <td>11</td>\n",
       "      <td>Oil palm monoculture</td>\n",
       "      <td>241</td>\n",
       "      <td>14.86%</td>\n",
       "      <td>Sufficient</td>\n",
       "    </tr>\n",
       "    <tr>\n",
       "      <th>11</th>\n",
       "      <td>12</td>\n",
       "      <td>Other Crops</td>\n",
       "      <td>14</td>\n",
       "      <td>0.86%</td>\n",
       "      <td>Insufficient</td>\n",
       "    </tr>\n",
       "    <tr>\n",
       "      <th>12</th>\n",
       "      <td>13</td>\n",
       "      <td>Rice Field</td>\n",
       "      <td>67</td>\n",
       "      <td>4.13%</td>\n",
       "      <td>Sufficient</td>\n",
       "    </tr>\n",
       "    <tr>\n",
       "      <th>13</th>\n",
       "      <td>14</td>\n",
       "      <td>Rubber agroforest</td>\n",
       "      <td>24</td>\n",
       "      <td>1.48%</td>\n",
       "      <td>Sufficient</td>\n",
       "    </tr>\n",
       "    <tr>\n",
       "      <th>14</th>\n",
       "      <td>15</td>\n",
       "      <td>Rubber monoculture</td>\n",
       "      <td>724</td>\n",
       "      <td>44.64%</td>\n",
       "      <td>Sufficient</td>\n",
       "    </tr>\n",
       "    <tr>\n",
       "      <th>15</th>\n",
       "      <td>16</td>\n",
       "      <td>Settlement</td>\n",
       "      <td>194</td>\n",
       "      <td>11.96%</td>\n",
       "      <td>Sufficient</td>\n",
       "    </tr>\n",
       "    <tr>\n",
       "      <th>16</th>\n",
       "      <td>17</td>\n",
       "      <td>Shrub</td>\n",
       "      <td>11</td>\n",
       "      <td>0.68%</td>\n",
       "      <td>Insufficient</td>\n",
       "    </tr>\n",
       "    <tr>\n",
       "      <th>17</th>\n",
       "      <td>18</td>\n",
       "      <td>Tea plantation</td>\n",
       "      <td>5</td>\n",
       "      <td>0.31%</td>\n",
       "      <td>Insufficient</td>\n",
       "    </tr>\n",
       "    <tr>\n",
       "      <th>18</th>\n",
       "      <td>19</td>\n",
       "      <td>Water Body</td>\n",
       "      <td>47</td>\n",
       "      <td>2.90%</td>\n",
       "      <td>Sufficient</td>\n",
       "    </tr>\n",
       "  </tbody>\n",
       "</table>\n",
       "</div>"
      ],
      "text/plain": [
       "    ID                       LULC_class  Sample_Count Percentage        Status\n",
       "0    1                Acacia plantation            29      1.79%    Sufficient\n",
       "1    2                             Cane            22      1.36%    Sufficient\n",
       "2    3                     Cleared Land            14      0.86%  Insufficient\n",
       "3    4              Coconut monoculture             4      0.25%  Insufficient\n",
       "4    5                Coffee Agroforest            31      1.91%    Sufficient\n",
       "5    6                            Grass            21      1.29%    Sufficient\n",
       "6    7  Logged over forest-high density             3      0.18%  Insufficient\n",
       "7    8   Logged Over Forest Low Density            33      2.03%    Sufficient\n",
       "8    9         Logged over swamp forest            13      0.80%  Insufficient\n",
       "9   10                     Mixed Garden           125      7.71%    Sufficient\n",
       "10  11             Oil palm monoculture           241     14.86%    Sufficient\n",
       "11  12                      Other Crops            14      0.86%  Insufficient\n",
       "12  13                       Rice Field            67      4.13%    Sufficient\n",
       "13  14                Rubber agroforest            24      1.48%    Sufficient\n",
       "14  15               Rubber monoculture           724     44.64%    Sufficient\n",
       "15  16                       Settlement           194     11.96%    Sufficient\n",
       "16  17                            Shrub            11      0.68%  Insufficient\n",
       "17  18                   Tea plantation             5      0.31%  Insufficient\n",
       "18  19                       Water Body            47      2.90%    Sufficient"
      ]
     },
     "metadata": {},
     "output_type": "display_data"
    }
   ],
   "source": [
    "# ----- System response 3.2.a -----\n",
    "# Set class field\n",
    "TrainDataDict = SyncTrainData.SetClassField(TrainDataDict, TrainField)\n",
    "\n",
    "# Validate classes\n",
    "TrainDataDict = SyncTrainData.ValidClass(TrainDataDict, 1)\n",
    "\n",
    "    # Check sample sufficiency\n",
    "TrainDataDict = SyncTrainData.CheckSufficiency(TrainDataDict, min_samples=20)\n",
    "\n",
    "    # Filter by AOI\n",
    "TrainDataDict = SyncTrainData.FilterTrainAoi(TrainDataDict)\n",
    "\n",
    "    # Create training data table\n",
    "table_df, total_samples, insufficient_df = SyncTrainData.TrainDataRaw(\n",
    "    training_data=TrainDataDict.get('training_data'),\n",
    "    landcover_df=TrainDataDict.get('landcover_df'),\n",
    "    class_field=TrainDataDict.get('class_field'))\n",
    "\n",
    "#Summary result\n",
    "vr = TrainDataDict.get('validation_results', {})\n",
    "\n",
    "print(\"=\" * 70)\n",
    "print(\"TRAINING DATA SUMMARY\")\n",
    "print(\"=\" * 70)\n",
    "print(f\"Total training points loaded     : {vr.get('total_points', 'N/A')}\")\n",
    "print(f\"Points after class filtering     : {vr.get('points_after_class_filter', 'N/A')}\")\n",
    "print(f\"Valid points (inside AOI)        : {vr.get('valid_points', 'N/A')}\")\n",
    "print(f\"Invalid classes found            : {len(vr.get('invalid_classes', []))}\")\n",
    "print(f\"Points outside AOI               : {len(vr.get('outside_aoi', []))}\")\n",
    "print(\"=\" * 70)\n",
    "\n",
    "    # --- Display the main table ---\n",
    "if table_df is not None and not table_df.empty:\n",
    "        display_df = table_df.copy()\n",
    "        if 'Percentage' in display_df.columns:\n",
    "            display_df['Percentage'] = display_df['Percentage'].apply(\n",
    "                lambda x: f\"{x:.2f}%\" if isinstance(x, (int, float)) else x\n",
    "            )\n",
    "        display(display_df)\n",
    "else:\n",
    "        print(\"No valid training data available to display.\")"
   ]
  },
  {
   "cell_type": "markdown",
   "id": "0c16694e",
   "metadata": {},
   "source": [
    "## System Response 3.2 Default ROI"
   ]
  },
  {
   "cell_type": "code",
   "execution_count": null,
   "id": "4869adce",
   "metadata": {},
   "outputs": [],
   "source": [
    "print(\" Loading default reference training data...\")\n",
    "TrainEePath = 'projects/ee-rg2icraf/assets/Indonesia_lulc_Sample'\n",
    "TrainField = 'kelas'\n",
    "    \n",
    "try:\n",
    "    print(\"Loading reference training data from Earth Engine...\")\n",
    "        \n",
    "        # Load training data\n",
    "    TrainDataDict = SyncTrainData.LoadTrainData(\n",
    "            landcover_df=LULCTable,\n",
    "            aoi_geometry=AOI,\n",
    "            training_ee_path=TrainEePath\n",
    "        )\n",
    "        \n",
    "    print(\"Processing and validating reference data...\")\n",
    "        \n",
    "        # Set class field\n",
    "    TrainDataDict = SyncTrainData.SetClassField(TrainDataDict, TrainField)\n",
    "        \n",
    "        # Validate classes\n",
    "    TrainDataDict = SyncTrainData.ValidClass(TrainDataDict)\n",
    "        \n",
    "        # Check sufficiency\n",
    "    TrainDataDict = SyncTrainData.CheckSufficiency(TrainDataDict, min_samples=20)\n",
    "        \n",
    "        # Filter by AOI\n",
    "    TrainDataDict = SyncTrainData.FilterTrainAoi(TrainDataDict)\n",
    "        \n",
    "        # Create summary table\n",
    "    table_df, total_samples, insufficient_df = SyncTrainData.TrainDataRaw(\n",
    "            training_data=TrainDataDict.get('training_data'),\n",
    "            landcover_df=TrainDataDict.get('landcover_df'),\n",
    "            class_field=TrainDataDict.get('class_field')\n",
    "        )\n",
    "        \n",
    "    print(\"✅ Reference training data loaded and processed successfully!\")\n",
    "    print(f\"Total samples: {total_samples}\")\n",
    "        \n",
    "        # Display summary table\n",
    "    display(table_df)\n",
    "        \n",
    "        # Store final training data\n",
    "    TrainDataFinal = TrainDataDict.get('training_data')\n",
    "        \n",
    "        # Show validation results\n",
    "    vr = TrainDataDict.get('validation_results', {})\n",
    "    print(f\"\\nValidation Results:\")\n",
    "    print(f\"- Total points loaded: {vr.get('total_points', 'N/A')}\")\n",
    "    print(f\"- Points after class filter: {vr.get('points_after_class_filter', 'N/A')}\")\n",
    "    print(f\"- Valid points (within AOI): {vr.get('valid_points', 'N/A')}\")\n",
    "    print(f\"- Invalid classes: {len(vr.get('invalid_classes', []))}\")\n",
    "        \n",
    "except Exception as e:\n",
    "        print(f\"❌ Error loading reference data: {e}\")\n",
    "        TrainDataFinal = None"
   ]
  },
  {
   "cell_type": "markdown",
   "id": "03d699a4",
   "metadata": {},
   "source": [
    "# Module 4: Region of Interest Separability Analysis"
   ]
  },
  {
   "cell_type": "markdown",
   "id": "d5d17795",
   "metadata": {},
   "source": [
    "## Library Import and Setup"
   ]
  },
  {
   "cell_type": "code",
   "execution_count": 21,
   "id": "e1785681",
   "metadata": {},
   "outputs": [
    {
     "data": {
      "text/html": [
       "\n",
       "            <style>\n",
       "                .geemap-dark {\n",
       "                    --jp-widgets-color: white;\n",
       "                    --jp-widgets-label-color: white;\n",
       "                    --jp-ui-font-color1: white;\n",
       "                    --jp-layout-color2: #454545;\n",
       "                    background-color: #383838;\n",
       "                }\n",
       "\n",
       "                .geemap-dark .jupyter-button {\n",
       "                    --jp-layout-color3: #383838;\n",
       "                }\n",
       "\n",
       "                .geemap-colab {\n",
       "                    background-color: var(--colab-primary-surface-color, white);\n",
       "                }\n",
       "\n",
       "                .geemap-colab .jupyter-button {\n",
       "                    --jp-layout-color3: var(--colab-primary-surface-color, white);\n",
       "                }\n",
       "            </style>\n",
       "            "
      ],
      "text/plain": [
       "<IPython.core.display.HTML object>"
      ]
     },
     "metadata": {},
     "output_type": "display_data"
    },
    {
     "name": "stdout",
     "output_type": "stream",
     "text": [
      "Collecting PyCRS\n",
      "  Downloading PyCRS-1.0.2.tar.gz (36 kB)\n",
      "  Installing build dependencies ... \u001b[?25ldone\n",
      "\u001b[?25h  Getting requirements to build wheel ... \u001b[?25ldone\n",
      "\u001b[?25h  Preparing metadata (pyproject.toml) ... \u001b[?25ldone\n",
      "\u001b[?25hBuilding wheels for collected packages: PyCRS\n",
      "  Building wheel for PyCRS (pyproject.toml) ... \u001b[?25ldone\n",
      "\u001b[?25h  Created wheel for PyCRS: filename=pycrs-1.0.2-py3-none-any.whl size=32735 sha256=646f4d59bd22aa4faf5f77d846fb5435812a95eb795e54ac9bb1cd9c6cf0af4c\n",
      "  Stored in directory: /home/codespace/.cache/pip/wheels/b5/4a/72/1ba05f57ddf2cc80ad21a26512097762561d646ff3ff85f729\n",
      "Successfully built PyCRS\n",
      "Installing collected packages: PyCRS\n",
      "Successfully installed PyCRS-1.0.2\n",
      "\n",
      "\u001b[1m[\u001b[0m\u001b[34;49mnotice\u001b[0m\u001b[1;39;49m]\u001b[0m\u001b[39;49m A new release of pip is available: \u001b[0m\u001b[31;49m25.1.1\u001b[0m\u001b[39;49m -> \u001b[0m\u001b[32;49m25.3\u001b[0m\n",
      "\u001b[1m[\u001b[0m\u001b[34;49mnotice\u001b[0m\u001b[1;39;49m]\u001b[0m\u001b[39;49m To update, run: \u001b[0m\u001b[32;49mpython3 -m pip install --upgrade pip\u001b[0m\n"
     ]
    }
   ],
   "source": [
    "#Import the sample quality functions\n",
    "from epistemx.module_4 import sample_quality\n",
    "from epistemx.module_4_part2 import spectral_plotter\n",
    "!pip install PyCRS"
   ]
  },
  {
   "cell_type": "markdown",
   "id": "7b1fdf5b",
   "metadata": {},
   "source": [
    "## System Response 4.1 Computing Separability Analysis"
   ]
  },
  {
   "cell_type": "code",
   "execution_count": 22,
   "id": "7fcd6b98",
   "metadata": {},
   "outputs": [
    {
     "data": {
      "text/html": [
       "\n",
       "            <style>\n",
       "                .geemap-dark {\n",
       "                    --jp-widgets-color: white;\n",
       "                    --jp-widgets-label-color: white;\n",
       "                    --jp-ui-font-color1: white;\n",
       "                    --jp-layout-color2: #454545;\n",
       "                    background-color: #383838;\n",
       "                }\n",
       "\n",
       "                .geemap-dark .jupyter-button {\n",
       "                    --jp-layout-color3: #383838;\n",
       "                }\n",
       "\n",
       "                .geemap-colab {\n",
       "                    background-color: var(--colab-primary-surface-color, white);\n",
       "                }\n",
       "\n",
       "                .geemap-colab .jupyter-button {\n",
       "                    --jp-layout-color3: var(--colab-primary-surface-color, white);\n",
       "                }\n",
       "            </style>\n",
       "            "
      ],
      "text/plain": [
       "<IPython.core.display.HTML object>"
      ]
     },
     "metadata": {},
     "output_type": "display_data"
    },
    {
     "name": "stdout",
     "output_type": "stream",
     "text": [
      "Extracted spectral values for 1619 samples across 19 classes\n"
     ]
    },
    {
     "data": {
      "text/html": [
       "<div>\n",
       "<style scoped>\n",
       "    .dataframe tbody tr th:only-of-type {\n",
       "        vertical-align: middle;\n",
       "    }\n",
       "\n",
       "    .dataframe tbody tr th {\n",
       "        vertical-align: top;\n",
       "    }\n",
       "\n",
       "    .dataframe thead th {\n",
       "        text-align: right;\n",
       "    }\n",
       "</style>\n",
       "<table border=\"1\" class=\"dataframe\">\n",
       "  <thead>\n",
       "    <tr style=\"text-align: right;\">\n",
       "      <th></th>\n",
       "      <th>ID</th>\n",
       "      <th>LC_Name</th>\n",
       "      <th>Sample_Count</th>\n",
       "      <th>Proportion</th>\n",
       "      <th>Percentage</th>\n",
       "    </tr>\n",
       "  </thead>\n",
       "  <tbody>\n",
       "    <tr>\n",
       "      <th>0</th>\n",
       "      <td>1</td>\n",
       "      <td>Acacia plantation</td>\n",
       "      <td>29</td>\n",
       "      <td>0.0179</td>\n",
       "      <td>1.79</td>\n",
       "    </tr>\n",
       "    <tr>\n",
       "      <th>1</th>\n",
       "      <td>10</td>\n",
       "      <td>Mixed Garden</td>\n",
       "      <td>125</td>\n",
       "      <td>0.0771</td>\n",
       "      <td>7.71</td>\n",
       "    </tr>\n",
       "    <tr>\n",
       "      <th>2</th>\n",
       "      <td>11</td>\n",
       "      <td>Oil palm monoculture</td>\n",
       "      <td>241</td>\n",
       "      <td>0.1486</td>\n",
       "      <td>14.86</td>\n",
       "    </tr>\n",
       "    <tr>\n",
       "      <th>3</th>\n",
       "      <td>12</td>\n",
       "      <td>Other Crops</td>\n",
       "      <td>14</td>\n",
       "      <td>0.0086</td>\n",
       "      <td>0.86</td>\n",
       "    </tr>\n",
       "    <tr>\n",
       "      <th>4</th>\n",
       "      <td>13</td>\n",
       "      <td>Rice Field</td>\n",
       "      <td>67</td>\n",
       "      <td>0.0413</td>\n",
       "      <td>4.13</td>\n",
       "    </tr>\n",
       "    <tr>\n",
       "      <th>5</th>\n",
       "      <td>14</td>\n",
       "      <td>Rubber agroforest</td>\n",
       "      <td>24</td>\n",
       "      <td>0.0148</td>\n",
       "      <td>1.48</td>\n",
       "    </tr>\n",
       "    <tr>\n",
       "      <th>6</th>\n",
       "      <td>15</td>\n",
       "      <td>Rubber monoculture</td>\n",
       "      <td>724</td>\n",
       "      <td>0.4464</td>\n",
       "      <td>44.64</td>\n",
       "    </tr>\n",
       "    <tr>\n",
       "      <th>7</th>\n",
       "      <td>16</td>\n",
       "      <td>Settlement</td>\n",
       "      <td>194</td>\n",
       "      <td>0.1196</td>\n",
       "      <td>11.96</td>\n",
       "    </tr>\n",
       "    <tr>\n",
       "      <th>8</th>\n",
       "      <td>17</td>\n",
       "      <td>Shrub</td>\n",
       "      <td>11</td>\n",
       "      <td>0.0068</td>\n",
       "      <td>0.68</td>\n",
       "    </tr>\n",
       "    <tr>\n",
       "      <th>9</th>\n",
       "      <td>18</td>\n",
       "      <td>Tea plantation</td>\n",
       "      <td>5</td>\n",
       "      <td>0.0031</td>\n",
       "      <td>0.31</td>\n",
       "    </tr>\n",
       "    <tr>\n",
       "      <th>10</th>\n",
       "      <td>19</td>\n",
       "      <td>Water Body</td>\n",
       "      <td>47</td>\n",
       "      <td>0.0290</td>\n",
       "      <td>2.90</td>\n",
       "    </tr>\n",
       "    <tr>\n",
       "      <th>11</th>\n",
       "      <td>2</td>\n",
       "      <td>Cane</td>\n",
       "      <td>22</td>\n",
       "      <td>0.0136</td>\n",
       "      <td>1.36</td>\n",
       "    </tr>\n",
       "    <tr>\n",
       "      <th>12</th>\n",
       "      <td>3</td>\n",
       "      <td>Cleared Land</td>\n",
       "      <td>14</td>\n",
       "      <td>0.0086</td>\n",
       "      <td>0.86</td>\n",
       "    </tr>\n",
       "    <tr>\n",
       "      <th>13</th>\n",
       "      <td>4</td>\n",
       "      <td>Coconut monoculture</td>\n",
       "      <td>4</td>\n",
       "      <td>0.0025</td>\n",
       "      <td>0.25</td>\n",
       "    </tr>\n",
       "    <tr>\n",
       "      <th>14</th>\n",
       "      <td>5</td>\n",
       "      <td>Coffee Agroforest</td>\n",
       "      <td>31</td>\n",
       "      <td>0.0191</td>\n",
       "      <td>1.91</td>\n",
       "    </tr>\n",
       "    <tr>\n",
       "      <th>15</th>\n",
       "      <td>6</td>\n",
       "      <td>Grass</td>\n",
       "      <td>21</td>\n",
       "      <td>0.0129</td>\n",
       "      <td>1.29</td>\n",
       "    </tr>\n",
       "    <tr>\n",
       "      <th>16</th>\n",
       "      <td>7</td>\n",
       "      <td>Logged over forest-high density</td>\n",
       "      <td>3</td>\n",
       "      <td>0.0018</td>\n",
       "      <td>0.18</td>\n",
       "    </tr>\n",
       "    <tr>\n",
       "      <th>17</th>\n",
       "      <td>8</td>\n",
       "      <td>Logged Over Forest Low Density</td>\n",
       "      <td>33</td>\n",
       "      <td>0.0203</td>\n",
       "      <td>2.03</td>\n",
       "    </tr>\n",
       "    <tr>\n",
       "      <th>18</th>\n",
       "      <td>9</td>\n",
       "      <td>Logged over swamp forest</td>\n",
       "      <td>13</td>\n",
       "      <td>0.0080</td>\n",
       "      <td>0.80</td>\n",
       "    </tr>\n",
       "  </tbody>\n",
       "</table>\n",
       "</div>"
      ],
      "text/plain": [
       "    ID                          LC_Name  Sample_Count  Proportion  Percentage\n",
       "0    1                Acacia plantation            29      0.0179        1.79\n",
       "1   10                     Mixed Garden           125      0.0771        7.71\n",
       "2   11             Oil palm monoculture           241      0.1486       14.86\n",
       "3   12                      Other Crops            14      0.0086        0.86\n",
       "4   13                       Rice Field            67      0.0413        4.13\n",
       "5   14                Rubber agroforest            24      0.0148        1.48\n",
       "6   15               Rubber monoculture           724      0.4464       44.64\n",
       "7   16                       Settlement           194      0.1196       11.96\n",
       "8   17                            Shrub            11      0.0068        0.68\n",
       "9   18                   Tea plantation             5      0.0031        0.31\n",
       "10  19                       Water Body            47      0.0290        2.90\n",
       "11   2                             Cane            22      0.0136        1.36\n",
       "12   3                     Cleared Land            14      0.0086        0.86\n",
       "13   4              Coconut monoculture             4      0.0025        0.25\n",
       "14   5                Coffee Agroforest            31      0.0191        1.91\n",
       "15   6                            Grass            21      0.0129        1.29\n",
       "16   7  Logged over forest-high density             3      0.0018        0.18\n",
       "17   8   Logged Over Forest Low Density            33      0.0203        2.03\n",
       "18   9         Logged over swamp forest            13      0.0080        0.80"
      ]
     },
     "metadata": {},
     "output_type": "display_data"
    }
   ],
   "source": [
    "roi_path = '../test_data/Training_Sumsel_Data.shp'\n",
    "labeled_roi = geemap.shp_to_ee('../test_data/Training_Sumsel_Data.shp')\n",
    "# labeled_roi = geemap.gdf_to_ee(TrainDataFinal)\n",
    "\n",
    "#Conduct the analysis\n",
    "analyzer = sample_quality(training_data=labeled_roi, \n",
    "    image= stacked_landsat, \n",
    "    class_property='ID',           # Column with numeric IDs (1, 2, 3, etc.)\n",
    "    region= aoi,\n",
    "    class_name_property='LC_Name'          # Column with names ('Forest', 'Urban', 'Water', etc.)\n",
    ")\n",
    "# Extract spectral values\n",
    "pixel_extract = analyzer.extract_spectral_values(scale=30, max_pixels_per_class=5000)\n",
    "samples_statistic = analyzer.sample_stats()\n",
    "sample_df = analyzer.get_sample_stats_df()\n",
    "display(sample_df)\n",
    "#Sample statistic"
   ]
  },
  {
   "cell_type": "code",
   "execution_count": 23,
   "id": "6f87c8bb",
   "metadata": {},
   "outputs": [
    {
     "data": {
      "text/html": [
       "\n",
       "            <style>\n",
       "                .geemap-dark {\n",
       "                    --jp-widgets-color: white;\n",
       "                    --jp-widgets-label-color: white;\n",
       "                    --jp-ui-font-color1: white;\n",
       "                    --jp-layout-color2: #454545;\n",
       "                    background-color: #383838;\n",
       "                }\n",
       "\n",
       "                .geemap-dark .jupyter-button {\n",
       "                    --jp-layout-color3: #383838;\n",
       "                }\n",
       "\n",
       "                .geemap-colab {\n",
       "                    background-color: var(--colab-primary-surface-color, white);\n",
       "                }\n",
       "\n",
       "                .geemap-colab .jupyter-button {\n",
       "                    --jp-layout-color3: var(--colab-primary-surface-color, white);\n",
       "                }\n",
       "            </style>\n",
       "            "
      ],
      "text/plain": [
       "<IPython.core.display.HTML object>"
      ]
     },
     "metadata": {},
     "output_type": "display_data"
    },
    {
     "data": {
      "text/html": [
       "<div>\n",
       "<style scoped>\n",
       "    .dataframe tbody tr th:only-of-type {\n",
       "        vertical-align: middle;\n",
       "    }\n",
       "\n",
       "    .dataframe tbody tr th {\n",
       "        vertical-align: top;\n",
       "    }\n",
       "\n",
       "    .dataframe thead th {\n",
       "        text-align: right;\n",
       "    }\n",
       "</style>\n",
       "<table border=\"1\" class=\"dataframe\">\n",
       "  <thead>\n",
       "    <tr style=\"text-align: right;\">\n",
       "      <th></th>\n",
       "      <th>ID</th>\n",
       "      <th>LC_Name</th>\n",
       "      <th>Band</th>\n",
       "      <th>Mean</th>\n",
       "      <th>Std</th>\n",
       "      <th>Min</th>\n",
       "      <th>Max</th>\n",
       "      <th>Median</th>\n",
       "      <th>Count</th>\n",
       "    </tr>\n",
       "  </thead>\n",
       "  <tbody>\n",
       "    <tr>\n",
       "      <th>0</th>\n",
       "      <td>1</td>\n",
       "      <td>Acacia plantation</td>\n",
       "      <td>AEROSOL</td>\n",
       "      <td>0.03</td>\n",
       "      <td>0.02</td>\n",
       "      <td>-0.04</td>\n",
       "      <td>0.05</td>\n",
       "      <td>0.03</td>\n",
       "      <td>29</td>\n",
       "    </tr>\n",
       "    <tr>\n",
       "      <th>1</th>\n",
       "      <td>1</td>\n",
       "      <td>Acacia plantation</td>\n",
       "      <td>BLUE</td>\n",
       "      <td>0.03</td>\n",
       "      <td>0.02</td>\n",
       "      <td>-0.03</td>\n",
       "      <td>0.07</td>\n",
       "      <td>0.03</td>\n",
       "      <td>29</td>\n",
       "    </tr>\n",
       "    <tr>\n",
       "      <th>2</th>\n",
       "      <td>1</td>\n",
       "      <td>Acacia plantation</td>\n",
       "      <td>GREEN</td>\n",
       "      <td>0.07</td>\n",
       "      <td>0.02</td>\n",
       "      <td>0.04</td>\n",
       "      <td>0.11</td>\n",
       "      <td>0.07</td>\n",
       "      <td>29</td>\n",
       "    </tr>\n",
       "    <tr>\n",
       "      <th>3</th>\n",
       "      <td>1</td>\n",
       "      <td>Acacia plantation</td>\n",
       "      <td>NIR</td>\n",
       "      <td>0.32</td>\n",
       "      <td>0.05</td>\n",
       "      <td>0.23</td>\n",
       "      <td>0.44</td>\n",
       "      <td>0.33</td>\n",
       "      <td>29</td>\n",
       "    </tr>\n",
       "    <tr>\n",
       "      <th>4</th>\n",
       "      <td>1</td>\n",
       "      <td>Acacia plantation</td>\n",
       "      <td>RED</td>\n",
       "      <td>0.07</td>\n",
       "      <td>0.03</td>\n",
       "      <td>0.02</td>\n",
       "      <td>0.15</td>\n",
       "      <td>0.07</td>\n",
       "      <td>29</td>\n",
       "    </tr>\n",
       "    <tr>\n",
       "      <th>...</th>\n",
       "      <td>...</td>\n",
       "      <td>...</td>\n",
       "      <td>...</td>\n",
       "      <td>...</td>\n",
       "      <td>...</td>\n",
       "      <td>...</td>\n",
       "      <td>...</td>\n",
       "      <td>...</td>\n",
       "      <td>...</td>\n",
       "    </tr>\n",
       "    <tr>\n",
       "      <th>147</th>\n",
       "      <td>19</td>\n",
       "      <td>Water Body</td>\n",
       "      <td>NIR</td>\n",
       "      <td>0.20</td>\n",
       "      <td>0.09</td>\n",
       "      <td>0.07</td>\n",
       "      <td>0.38</td>\n",
       "      <td>0.20</td>\n",
       "      <td>47</td>\n",
       "    </tr>\n",
       "    <tr>\n",
       "      <th>148</th>\n",
       "      <td>19</td>\n",
       "      <td>Water Body</td>\n",
       "      <td>RED</td>\n",
       "      <td>0.08</td>\n",
       "      <td>0.02</td>\n",
       "      <td>0.03</td>\n",
       "      <td>0.11</td>\n",
       "      <td>0.07</td>\n",
       "      <td>47</td>\n",
       "    </tr>\n",
       "    <tr>\n",
       "      <th>149</th>\n",
       "      <td>19</td>\n",
       "      <td>Water Body</td>\n",
       "      <td>SWIR1</td>\n",
       "      <td>0.13</td>\n",
       "      <td>0.05</td>\n",
       "      <td>0.02</td>\n",
       "      <td>0.23</td>\n",
       "      <td>0.14</td>\n",
       "      <td>47</td>\n",
       "    </tr>\n",
       "    <tr>\n",
       "      <th>150</th>\n",
       "      <td>19</td>\n",
       "      <td>Water Body</td>\n",
       "      <td>SWIR2</td>\n",
       "      <td>0.08</td>\n",
       "      <td>0.03</td>\n",
       "      <td>0.02</td>\n",
       "      <td>0.17</td>\n",
       "      <td>0.08</td>\n",
       "      <td>47</td>\n",
       "    </tr>\n",
       "    <tr>\n",
       "      <th>151</th>\n",
       "      <td>19</td>\n",
       "      <td>Water Body</td>\n",
       "      <td>THERMAL</td>\n",
       "      <td>295.88</td>\n",
       "      <td>1.86</td>\n",
       "      <td>290.73</td>\n",
       "      <td>299.10</td>\n",
       "      <td>295.73</td>\n",
       "      <td>47</td>\n",
       "    </tr>\n",
       "  </tbody>\n",
       "</table>\n",
       "<p>152 rows × 9 columns</p>\n",
       "</div>"
      ],
      "text/plain": [
       "     ID            LC_Name     Band    Mean   Std     Min     Max  Median  \\\n",
       "0     1  Acacia plantation  AEROSOL    0.03  0.02   -0.04    0.05    0.03   \n",
       "1     1  Acacia plantation     BLUE    0.03  0.02   -0.03    0.07    0.03   \n",
       "2     1  Acacia plantation    GREEN    0.07  0.02    0.04    0.11    0.07   \n",
       "3     1  Acacia plantation      NIR    0.32  0.05    0.23    0.44    0.33   \n",
       "4     1  Acacia plantation      RED    0.07  0.03    0.02    0.15    0.07   \n",
       "..   ..                ...      ...     ...   ...     ...     ...     ...   \n",
       "147  19         Water Body      NIR    0.20  0.09    0.07    0.38    0.20   \n",
       "148  19         Water Body      RED    0.08  0.02    0.03    0.11    0.07   \n",
       "149  19         Water Body    SWIR1    0.13  0.05    0.02    0.23    0.14   \n",
       "150  19         Water Body    SWIR2    0.08  0.03    0.02    0.17    0.08   \n",
       "151  19         Water Body  THERMAL  295.88  1.86  290.73  299.10  295.73   \n",
       "\n",
       "     Count  \n",
       "0       29  \n",
       "1       29  \n",
       "2       29  \n",
       "3       29  \n",
       "4       29  \n",
       "..     ...  \n",
       "147     47  \n",
       "148     47  \n",
       "149     47  \n",
       "150     47  \n",
       "151     47  \n",
       "\n",
       "[152 rows x 9 columns]"
      ]
     },
     "metadata": {},
     "output_type": "display_data"
    }
   ],
   "source": [
    "#Sample statistic (pixel value extracted from the imagery)\n",
    "pixel_stats = analyzer.sample_pixel_stats(pixel_extract)\n",
    "pixel_stats_df = analyzer.get_sample_pixel_stats_df(pixel_extract)\n",
    "display(pixel_stats_df)"
   ]
  },
  {
   "cell_type": "code",
   "execution_count": 24,
   "id": "fb8effda",
   "metadata": {},
   "outputs": [
    {
     "data": {
      "text/html": [
       "\n",
       "            <style>\n",
       "                .geemap-dark {\n",
       "                    --jp-widgets-color: white;\n",
       "                    --jp-widgets-label-color: white;\n",
       "                    --jp-ui-font-color1: white;\n",
       "                    --jp-layout-color2: #454545;\n",
       "                    background-color: #383838;\n",
       "                }\n",
       "\n",
       "                .geemap-dark .jupyter-button {\n",
       "                    --jp-layout-color3: #383838;\n",
       "                }\n",
       "\n",
       "                .geemap-colab {\n",
       "                    background-color: var(--colab-primary-surface-color, white);\n",
       "                }\n",
       "\n",
       "                .geemap-colab .jupyter-button {\n",
       "                    --jp-layout-color3: var(--colab-primary-surface-color, white);\n",
       "                }\n",
       "            </style>\n",
       "            "
      ],
      "text/plain": [
       "<IPython.core.display.HTML object>"
      ]
     },
     "metadata": {},
     "output_type": "display_data"
    },
    {
     "data": {
      "text/html": [
       "<div>\n",
       "<style scoped>\n",
       "    .dataframe tbody tr th:only-of-type {\n",
       "        vertical-align: middle;\n",
       "    }\n",
       "\n",
       "    .dataframe tbody tr th {\n",
       "        vertical-align: top;\n",
       "    }\n",
       "\n",
       "    .dataframe thead th {\n",
       "        text-align: right;\n",
       "    }\n",
       "</style>\n",
       "<table border=\"1\" class=\"dataframe\">\n",
       "  <thead>\n",
       "    <tr style=\"text-align: right;\">\n",
       "      <th></th>\n",
       "      <th>Class1_ID</th>\n",
       "      <th>Class1_Name</th>\n",
       "      <th>Class2_ID</th>\n",
       "      <th>Class2_Name</th>\n",
       "      <th>TD_Distance</th>\n",
       "      <th>Separability_Level</th>\n",
       "    </tr>\n",
       "  </thead>\n",
       "  <tbody>\n",
       "    <tr>\n",
       "      <th>0</th>\n",
       "      <td>15</td>\n",
       "      <td>Rubber monoculture</td>\n",
       "      <td>11</td>\n",
       "      <td>Oil palm monoculture</td>\n",
       "      <td>0.609</td>\n",
       "      <td>Class confusions</td>\n",
       "    </tr>\n",
       "    <tr>\n",
       "      <th>1</th>\n",
       "      <td>11</td>\n",
       "      <td>Oil palm monoculture</td>\n",
       "      <td>15</td>\n",
       "      <td>Rubber monoculture</td>\n",
       "      <td>0.609</td>\n",
       "      <td>Class confusions</td>\n",
       "    </tr>\n",
       "    <tr>\n",
       "      <th>2</th>\n",
       "      <td>19</td>\n",
       "      <td>Water Body</td>\n",
       "      <td>13</td>\n",
       "      <td>Rice Field</td>\n",
       "      <td>0.718</td>\n",
       "      <td>Class confusions</td>\n",
       "    </tr>\n",
       "    <tr>\n",
       "      <th>3</th>\n",
       "      <td>13</td>\n",
       "      <td>Rice Field</td>\n",
       "      <td>19</td>\n",
       "      <td>Water Body</td>\n",
       "      <td>0.718</td>\n",
       "      <td>Class confusions</td>\n",
       "    </tr>\n",
       "    <tr>\n",
       "      <th>4</th>\n",
       "      <td>10</td>\n",
       "      <td>Mixed Garden</td>\n",
       "      <td>15</td>\n",
       "      <td>Rubber monoculture</td>\n",
       "      <td>0.728</td>\n",
       "      <td>Class confusions</td>\n",
       "    </tr>\n",
       "    <tr>\n",
       "      <th>...</th>\n",
       "      <td>...</td>\n",
       "      <td>...</td>\n",
       "      <td>...</td>\n",
       "      <td>...</td>\n",
       "      <td>...</td>\n",
       "      <td>...</td>\n",
       "    </tr>\n",
       "    <tr>\n",
       "      <th>337</th>\n",
       "      <td>18</td>\n",
       "      <td>Tea plantation</td>\n",
       "      <td>13</td>\n",
       "      <td>Rice Field</td>\n",
       "      <td>2.000</td>\n",
       "      <td>Good Separability</td>\n",
       "    </tr>\n",
       "    <tr>\n",
       "      <th>338</th>\n",
       "      <td>18</td>\n",
       "      <td>Tea plantation</td>\n",
       "      <td>1</td>\n",
       "      <td>Acacia plantation</td>\n",
       "      <td>2.000</td>\n",
       "      <td>Good Separability</td>\n",
       "    </tr>\n",
       "    <tr>\n",
       "      <th>339</th>\n",
       "      <td>16</td>\n",
       "      <td>Settlement</td>\n",
       "      <td>18</td>\n",
       "      <td>Tea plantation</td>\n",
       "      <td>2.000</td>\n",
       "      <td>Good Separability</td>\n",
       "    </tr>\n",
       "    <tr>\n",
       "      <th>340</th>\n",
       "      <td>16</td>\n",
       "      <td>Settlement</td>\n",
       "      <td>4</td>\n",
       "      <td>Coconut monoculture</td>\n",
       "      <td>2.000</td>\n",
       "      <td>Good Separability</td>\n",
       "    </tr>\n",
       "    <tr>\n",
       "      <th>341</th>\n",
       "      <td>16</td>\n",
       "      <td>Settlement</td>\n",
       "      <td>7</td>\n",
       "      <td>Logged over forest-high density</td>\n",
       "      <td>2.000</td>\n",
       "      <td>Good Separability</td>\n",
       "    </tr>\n",
       "  </tbody>\n",
       "</table>\n",
       "<p>342 rows × 6 columns</p>\n",
       "</div>"
      ],
      "text/plain": [
       "    Class1_ID           Class1_Name Class2_ID  \\\n",
       "0          15    Rubber monoculture        11   \n",
       "1          11  Oil palm monoculture        15   \n",
       "2          19            Water Body        13   \n",
       "3          13            Rice Field        19   \n",
       "4          10          Mixed Garden        15   \n",
       "..        ...                   ...       ...   \n",
       "337        18        Tea plantation        13   \n",
       "338        18        Tea plantation         1   \n",
       "339        16            Settlement        18   \n",
       "340        16            Settlement         4   \n",
       "341        16            Settlement         7   \n",
       "\n",
       "                         Class2_Name  TD_Distance Separability_Level  \n",
       "0               Oil palm monoculture        0.609   Class confusions  \n",
       "1                 Rubber monoculture        0.609   Class confusions  \n",
       "2                         Rice Field        0.718   Class confusions  \n",
       "3                         Water Body        0.718   Class confusions  \n",
       "4                 Rubber monoculture        0.728   Class confusions  \n",
       "..                               ...          ...                ...  \n",
       "337                       Rice Field        2.000  Good Separability  \n",
       "338                Acacia plantation        2.000  Good Separability  \n",
       "339                   Tea plantation        2.000  Good Separability  \n",
       "340              Coconut monoculture        2.000  Good Separability  \n",
       "341  Logged over forest-high density        2.000  Good Separability  \n",
       "\n",
       "[342 rows x 6 columns]"
      ]
     },
     "metadata": {},
     "output_type": "display_data"
    }
   ],
   "source": [
    "#Perform separability Analysis (iether using Transformed Divergence or Jeffries Matutista )\n",
    "separability_analysis = analyzer.get_separability_df(pixel_extract, method='TD')\n",
    "display(separability_analysis)"
   ]
  },
  {
   "cell_type": "code",
   "execution_count": 25,
   "id": "e4dad481",
   "metadata": {},
   "outputs": [
    {
     "data": {
      "text/html": [
       "\n",
       "            <style>\n",
       "                .geemap-dark {\n",
       "                    --jp-widgets-color: white;\n",
       "                    --jp-widgets-label-color: white;\n",
       "                    --jp-ui-font-color1: white;\n",
       "                    --jp-layout-color2: #454545;\n",
       "                    background-color: #383838;\n",
       "                }\n",
       "\n",
       "                .geemap-dark .jupyter-button {\n",
       "                    --jp-layout-color3: #383838;\n",
       "                }\n",
       "\n",
       "                .geemap-colab {\n",
       "                    background-color: var(--colab-primary-surface-color, white);\n",
       "                }\n",
       "\n",
       "                .geemap-colab .jupyter-button {\n",
       "                    --jp-layout-color3: var(--colab-primary-surface-color, white);\n",
       "                }\n",
       "            </style>\n",
       "            "
      ],
      "text/plain": [
       "<IPython.core.display.HTML object>"
      ]
     },
     "metadata": {},
     "output_type": "display_data"
    },
    {
     "data": {
      "text/html": [
       "<div>\n",
       "<style scoped>\n",
       "    .dataframe tbody tr th:only-of-type {\n",
       "        vertical-align: middle;\n",
       "    }\n",
       "\n",
       "    .dataframe tbody tr th {\n",
       "        vertical-align: top;\n",
       "    }\n",
       "\n",
       "    .dataframe thead th {\n",
       "        text-align: right;\n",
       "    }\n",
       "</style>\n",
       "<table border=\"1\" class=\"dataframe\">\n",
       "  <thead>\n",
       "    <tr style=\"text-align: right;\">\n",
       "      <th></th>\n",
       "      <th>Class1_ID</th>\n",
       "      <th>Class1_Name</th>\n",
       "      <th>Class2_ID</th>\n",
       "      <th>Class2_Name</th>\n",
       "      <th>JM_Distance</th>\n",
       "      <th>Separability_Level</th>\n",
       "      <th>Interpretation</th>\n",
       "    </tr>\n",
       "  </thead>\n",
       "  <tbody>\n",
       "    <tr>\n",
       "      <th>0</th>\n",
       "      <td>15</td>\n",
       "      <td>Rubber monoculture</td>\n",
       "      <td>11</td>\n",
       "      <td>Oil palm monoculture</td>\n",
       "      <td>0.568</td>\n",
       "      <td>Class confusions</td>\n",
       "      <td>Class confusions</td>\n",
       "    </tr>\n",
       "    <tr>\n",
       "      <th>1</th>\n",
       "      <td>11</td>\n",
       "      <td>Oil palm monoculture</td>\n",
       "      <td>15</td>\n",
       "      <td>Rubber monoculture</td>\n",
       "      <td>0.568</td>\n",
       "      <td>Class confusions</td>\n",
       "      <td>Class confusions</td>\n",
       "    </tr>\n",
       "    <tr>\n",
       "      <th>2</th>\n",
       "      <td>13</td>\n",
       "      <td>Rice Field</td>\n",
       "      <td>19</td>\n",
       "      <td>Water Body</td>\n",
       "      <td>0.620</td>\n",
       "      <td>Class confusions</td>\n",
       "      <td>Class confusions</td>\n",
       "    </tr>\n",
       "    <tr>\n",
       "      <th>3</th>\n",
       "      <td>19</td>\n",
       "      <td>Water Body</td>\n",
       "      <td>13</td>\n",
       "      <td>Rice Field</td>\n",
       "      <td>0.620</td>\n",
       "      <td>Class confusions</td>\n",
       "      <td>Class confusions</td>\n",
       "    </tr>\n",
       "    <tr>\n",
       "      <th>4</th>\n",
       "      <td>15</td>\n",
       "      <td>Rubber monoculture</td>\n",
       "      <td>10</td>\n",
       "      <td>Mixed Garden</td>\n",
       "      <td>0.639</td>\n",
       "      <td>Class confusions</td>\n",
       "      <td>Class confusions</td>\n",
       "    </tr>\n",
       "    <tr>\n",
       "      <th>5</th>\n",
       "      <td>10</td>\n",
       "      <td>Mixed Garden</td>\n",
       "      <td>15</td>\n",
       "      <td>Rubber monoculture</td>\n",
       "      <td>0.639</td>\n",
       "      <td>Class confusions</td>\n",
       "      <td>Class confusions</td>\n",
       "    </tr>\n",
       "    <tr>\n",
       "      <th>6</th>\n",
       "      <td>8</td>\n",
       "      <td>Logged Over Forest Low Density</td>\n",
       "      <td>10</td>\n",
       "      <td>Mixed Garden</td>\n",
       "      <td>0.646</td>\n",
       "      <td>Class confusions</td>\n",
       "      <td>Class confusions</td>\n",
       "    </tr>\n",
       "    <tr>\n",
       "      <th>7</th>\n",
       "      <td>10</td>\n",
       "      <td>Mixed Garden</td>\n",
       "      <td>8</td>\n",
       "      <td>Logged Over Forest Low Density</td>\n",
       "      <td>0.646</td>\n",
       "      <td>Class confusions</td>\n",
       "      <td>Class confusions</td>\n",
       "    </tr>\n",
       "    <tr>\n",
       "      <th>8</th>\n",
       "      <td>13</td>\n",
       "      <td>Rice Field</td>\n",
       "      <td>10</td>\n",
       "      <td>Mixed Garden</td>\n",
       "      <td>0.714</td>\n",
       "      <td>Class confusions</td>\n",
       "      <td>Class confusions</td>\n",
       "    </tr>\n",
       "    <tr>\n",
       "      <th>9</th>\n",
       "      <td>10</td>\n",
       "      <td>Mixed Garden</td>\n",
       "      <td>13</td>\n",
       "      <td>Rice Field</td>\n",
       "      <td>0.714</td>\n",
       "      <td>Class confusions</td>\n",
       "      <td>Class confusions</td>\n",
       "    </tr>\n",
       "  </tbody>\n",
       "</table>\n",
       "</div>"
      ],
      "text/plain": [
       "  Class1_ID                     Class1_Name Class2_ID  \\\n",
       "0        15              Rubber monoculture        11   \n",
       "1        11            Oil palm monoculture        15   \n",
       "2        13                      Rice Field        19   \n",
       "3        19                      Water Body        13   \n",
       "4        15              Rubber monoculture        10   \n",
       "5        10                    Mixed Garden        15   \n",
       "6         8  Logged Over Forest Low Density        10   \n",
       "7        10                    Mixed Garden         8   \n",
       "8        13                      Rice Field        10   \n",
       "9        10                    Mixed Garden        13   \n",
       "\n",
       "                      Class2_Name  JM_Distance Separability_Level  \\\n",
       "0            Oil palm monoculture        0.568   Class confusions   \n",
       "1              Rubber monoculture        0.568   Class confusions   \n",
       "2                      Water Body        0.620   Class confusions   \n",
       "3                      Rice Field        0.620   Class confusions   \n",
       "4                    Mixed Garden        0.639   Class confusions   \n",
       "5              Rubber monoculture        0.639   Class confusions   \n",
       "6                    Mixed Garden        0.646   Class confusions   \n",
       "7  Logged Over Forest Low Density        0.646   Class confusions   \n",
       "8                    Mixed Garden        0.714   Class confusions   \n",
       "9                      Rice Field        0.714   Class confusions   \n",
       "\n",
       "     Interpretation  \n",
       "0  Class confusions  \n",
       "1  Class confusions  \n",
       "2  Class confusions  \n",
       "3  Class confusions  \n",
       "4  Class confusions  \n",
       "5  Class confusions  \n",
       "6  Class confusions  \n",
       "7  Class confusions  \n",
       "8  Class confusions  \n",
       "9  Class confusions  "
      ]
     },
     "metadata": {},
     "output_type": "display_data"
    }
   ],
   "source": [
    "#Get the lowest separability\n",
    "lowest_sep = analyzer.lowest_separability(pixel_extract)\n",
    "display(lowest_sep)"
   ]
  },
  {
   "cell_type": "code",
   "execution_count": 26,
   "id": "3347eecf",
   "metadata": {},
   "outputs": [
    {
     "data": {
      "text/html": [
       "\n",
       "            <style>\n",
       "                .geemap-dark {\n",
       "                    --jp-widgets-color: white;\n",
       "                    --jp-widgets-label-color: white;\n",
       "                    --jp-ui-font-color1: white;\n",
       "                    --jp-layout-color2: #454545;\n",
       "                    background-color: #383838;\n",
       "                }\n",
       "\n",
       "                .geemap-dark .jupyter-button {\n",
       "                    --jp-layout-color3: #383838;\n",
       "                }\n",
       "\n",
       "                .geemap-colab {\n",
       "                    background-color: var(--colab-primary-surface-color, white);\n",
       "                }\n",
       "\n",
       "                .geemap-colab .jupyter-button {\n",
       "                    --jp-layout-color3: var(--colab-primary-surface-color, white);\n",
       "                }\n",
       "            </style>\n",
       "            "
      ],
      "text/plain": [
       "<IPython.core.display.HTML object>"
      ]
     },
     "metadata": {},
     "output_type": "display_data"
    },
    {
     "name": "stdout",
     "output_type": "stream",
     "text": [
      "Overall Separability Statistics:\n"
     ]
    },
    {
     "data": {
      "text/html": [
       "<div>\n",
       "<style scoped>\n",
       "    .dataframe tbody tr th:only-of-type {\n",
       "        vertical-align: middle;\n",
       "    }\n",
       "\n",
       "    .dataframe tbody tr th {\n",
       "        vertical-align: top;\n",
       "    }\n",
       "\n",
       "    .dataframe thead th {\n",
       "        text-align: right;\n",
       "    }\n",
       "</style>\n",
       "<table border=\"1\" class=\"dataframe\">\n",
       "  <thead>\n",
       "    <tr style=\"text-align: right;\">\n",
       "      <th></th>\n",
       "      <th>Total Pairs</th>\n",
       "      <th>Good Separability Pairs</th>\n",
       "      <th>Weak Separability Pairs</th>\n",
       "      <th>Worst Separability Pairs</th>\n",
       "    </tr>\n",
       "  </thead>\n",
       "  <tbody>\n",
       "    <tr>\n",
       "      <th>0</th>\n",
       "      <td>342</td>\n",
       "      <td>108</td>\n",
       "      <td>202</td>\n",
       "      <td>32</td>\n",
       "    </tr>\n",
       "  </tbody>\n",
       "</table>\n",
       "</div>"
      ],
      "text/plain": [
       "   Total Pairs  Good Separability Pairs  Weak Separability Pairs  \\\n",
       "0          342                      108                      202   \n",
       "\n",
       "   Worst Separability Pairs  \n",
       "0                        32  "
      ]
     },
     "metadata": {},
     "output_type": "display_data"
    }
   ],
   "source": [
    "# Overall separability summary\n",
    "sep_summary = analyzer.sum_separability(pixel_extract)\n",
    "print(\"Overall Separability Statistics:\")\n",
    "display(sep_summary)"
   ]
  },
  {
   "cell_type": "markdown",
   "id": "8f8d291b",
   "metadata": {},
   "source": [
    "## System Response 4.2 Sample Visualization"
   ]
  },
  {
   "cell_type": "code",
   "execution_count": 27,
   "id": "36d23c90",
   "metadata": {},
   "outputs": [
    {
     "data": {
      "text/html": [
       "\n",
       "            <style>\n",
       "                .geemap-dark {\n",
       "                    --jp-widgets-color: white;\n",
       "                    --jp-widgets-label-color: white;\n",
       "                    --jp-ui-font-color1: white;\n",
       "                    --jp-layout-color2: #454545;\n",
       "                    background-color: #383838;\n",
       "                }\n",
       "\n",
       "                .geemap-dark .jupyter-button {\n",
       "                    --jp-layout-color3: #383838;\n",
       "                }\n",
       "\n",
       "                .geemap-colab {\n",
       "                    background-color: var(--colab-primary-surface-color, white);\n",
       "                }\n",
       "\n",
       "                .geemap-colab .jupyter-button {\n",
       "                    --jp-layout-color3: var(--colab-primary-surface-color, white);\n",
       "                }\n",
       "            </style>\n",
       "            "
      ],
      "text/plain": [
       "<IPython.core.display.HTML object>"
      ]
     },
     "metadata": {},
     "output_type": "display_data"
    },
    {
     "data": {
      "application/vnd.plotly.v1+json": {
       "config": {
        "plotlyServerURL": "https://plot.ly"
       },
       "data": [
        {
         "alignmentgroup": "True",
         "customdata": {
          "bdata": "Dw8PDw8PDw8PDw8PDw8PDw8PDw8PDw8PDw8PDw8PDw8PDw8PDw8PDw8PDw8PDw8PDw8PDw8PDw8PDw8PDw8PDw8PDw8PDw8PDw8PDw8PDw8PDw8PDw8PDw8PDw8PDw8PDw8PDw8PDw8PDw8PDw8PDw8PDw8PDw8PDw8PDw8PDw8PDw8PDw8PDw8PDw8PDw8PDw8PDw8PDw8PDw8PDw8PDw8PDw8PDw8PDw8PDw8PDw8PDw8PDw8PDw8PDw8PDw8PDw8PDw8PDw8PDw8PDw8PDw8PDw8PDw8PDw8PDw8PDw8PDw8PDw8PDw8PDw8PDw8PDw8PDw8PDw8PDw8PDw8PDw8PDw8PDw8PDw8PDw8PDw8PDw8PDw8PDw8PDw8PDw8PDw8PDw8PDw8PDw8PDw8PDw8PDw8PDw8PDw8PDw8PDw8PDw8PDw8PDw8PDw8PDw8PDw8PDw8PDw8PDw8PDw8PDw8PDw8PDw8PDw8PDw8PDw8PDw8PDw8PDw8PDw8PDw8PDw8PDw8PDw8PDw8PDw8PDw8PDw8PDw8PDw8PDw8PDw8PDw8PDw8PDw8PDw8PDw8PDw8PDw8PDw8PDw8PDw8PDw8PDw8PDw8PDw8PDw8PDw8PDw8PDw8PDw8PDw8PDw8PDw8PDw8PDw8PDw8PDw8PDw8PDw8PDw8PDw8PDw8PDw8PDw8PDw8PDw8PDw8PDw8PDw8PDw8PDw8PDw8PDw8PDw8PDw8PDw8PDw8PDw8PDw8PDw8PDw8PDw8PDw8PDw8PDw8PDw8PDw8PDw8PDw8PDw8PDw8PDw8PDw8PDw8PDw8PDw8PDw8PDw8PDw8PDw8PDw8PDw8PDw8PDw8PDw8PDw8PDw8PDw8PDw8PDw8PDw8PDw8PDw8PDw8PDw8PDw8PDw8PDw8PDw8PDw8PDw8PDw8PDw8PDw8PDw8PDw8PDw8PDw8PDw8PDw8PDw8PDw8PDw8P",
          "dtype": "i1",
          "shape": "723, 1"
         },
         "hovertemplate": "<b>%{x}</b><br>AEROSOL: %{y:.4f}<br><extra></extra>",
         "legendgroup": "Rubber monoculture(ID: 15)",
         "marker": {
          "color": "#636efa"
         },
         "name": "Rubber monoculture(ID: 15)",
         "notched": false,
         "offsetgroup": "Rubber monoculture(ID: 15)",
         "orientation": "v",
         "showlegend": true,
         "type": "box",
         "x": [
          "Rubber monoculture(ID: 15)",
          "Rubber monoculture(ID: 15)",
          "Rubber monoculture(ID: 15)",
          "Rubber monoculture(ID: 15)",
          "Rubber monoculture(ID: 15)",
          "Rubber monoculture(ID: 15)",
          "Rubber monoculture(ID: 15)",
          "Rubber monoculture(ID: 15)",
          "Rubber monoculture(ID: 15)",
          "Rubber monoculture(ID: 15)",
          "Rubber monoculture(ID: 15)",
          "Rubber monoculture(ID: 15)",
          "Rubber monoculture(ID: 15)",
          "Rubber monoculture(ID: 15)",
          "Rubber monoculture(ID: 15)",
          "Rubber monoculture(ID: 15)",
          "Rubber monoculture(ID: 15)",
          "Rubber monoculture(ID: 15)",
          "Rubber monoculture(ID: 15)",
          "Rubber monoculture(ID: 15)",
          "Rubber monoculture(ID: 15)",
          "Rubber monoculture(ID: 15)",
          "Rubber monoculture(ID: 15)",
          "Rubber monoculture(ID: 15)",
          "Rubber monoculture(ID: 15)",
          "Rubber monoculture(ID: 15)",
          "Rubber monoculture(ID: 15)",
          "Rubber monoculture(ID: 15)",
          "Rubber monoculture(ID: 15)",
          "Rubber monoculture(ID: 15)",
          "Rubber monoculture(ID: 15)",
          "Rubber monoculture(ID: 15)",
          "Rubber monoculture(ID: 15)",
          "Rubber monoculture(ID: 15)",
          "Rubber monoculture(ID: 15)",
          "Rubber monoculture(ID: 15)",
          "Rubber monoculture(ID: 15)",
          "Rubber monoculture(ID: 15)",
          "Rubber monoculture(ID: 15)",
          "Rubber monoculture(ID: 15)",
          "Rubber monoculture(ID: 15)",
          "Rubber monoculture(ID: 15)",
          "Rubber monoculture(ID: 15)",
          "Rubber monoculture(ID: 15)",
          "Rubber monoculture(ID: 15)",
          "Rubber monoculture(ID: 15)",
          "Rubber monoculture(ID: 15)",
          "Rubber monoculture(ID: 15)",
          "Rubber monoculture(ID: 15)",
          "Rubber monoculture(ID: 15)",
          "Rubber monoculture(ID: 15)",
          "Rubber monoculture(ID: 15)",
          "Rubber monoculture(ID: 15)",
          "Rubber monoculture(ID: 15)",
          "Rubber monoculture(ID: 15)",
          "Rubber monoculture(ID: 15)",
          "Rubber monoculture(ID: 15)",
          "Rubber monoculture(ID: 15)",
          "Rubber monoculture(ID: 15)",
          "Rubber monoculture(ID: 15)",
          "Rubber monoculture(ID: 15)",
          "Rubber monoculture(ID: 15)",
          "Rubber monoculture(ID: 15)",
          "Rubber monoculture(ID: 15)",
          "Rubber monoculture(ID: 15)",
          "Rubber monoculture(ID: 15)",
          "Rubber monoculture(ID: 15)",
          "Rubber monoculture(ID: 15)",
          "Rubber monoculture(ID: 15)",
          "Rubber monoculture(ID: 15)",
          "Rubber monoculture(ID: 15)",
          "Rubber monoculture(ID: 15)",
          "Rubber monoculture(ID: 15)",
          "Rubber monoculture(ID: 15)",
          "Rubber monoculture(ID: 15)",
          "Rubber monoculture(ID: 15)",
          "Rubber monoculture(ID: 15)",
          "Rubber monoculture(ID: 15)",
          "Rubber monoculture(ID: 15)",
          "Rubber monoculture(ID: 15)",
          "Rubber monoculture(ID: 15)",
          "Rubber monoculture(ID: 15)",
          "Rubber monoculture(ID: 15)",
          "Rubber monoculture(ID: 15)",
          "Rubber monoculture(ID: 15)",
          "Rubber monoculture(ID: 15)",
          "Rubber monoculture(ID: 15)",
          "Rubber monoculture(ID: 15)",
          "Rubber monoculture(ID: 15)",
          "Rubber monoculture(ID: 15)",
          "Rubber monoculture(ID: 15)",
          "Rubber monoculture(ID: 15)",
          "Rubber monoculture(ID: 15)",
          "Rubber monoculture(ID: 15)",
          "Rubber monoculture(ID: 15)",
          "Rubber monoculture(ID: 15)",
          "Rubber monoculture(ID: 15)",
          "Rubber monoculture(ID: 15)",
          "Rubber monoculture(ID: 15)",
          "Rubber monoculture(ID: 15)",
          "Rubber monoculture(ID: 15)",
          "Rubber monoculture(ID: 15)",
          "Rubber monoculture(ID: 15)",
          "Rubber monoculture(ID: 15)",
          "Rubber monoculture(ID: 15)",
          "Rubber monoculture(ID: 15)",
          "Rubber monoculture(ID: 15)",
          "Rubber monoculture(ID: 15)",
          "Rubber monoculture(ID: 15)",
          "Rubber monoculture(ID: 15)",
          "Rubber monoculture(ID: 15)",
          "Rubber monoculture(ID: 15)",
          "Rubber monoculture(ID: 15)",
          "Rubber monoculture(ID: 15)",
          "Rubber monoculture(ID: 15)",
          "Rubber monoculture(ID: 15)",
          "Rubber monoculture(ID: 15)",
          "Rubber monoculture(ID: 15)",
          "Rubber monoculture(ID: 15)",
          "Rubber monoculture(ID: 15)",
          "Rubber monoculture(ID: 15)",
          "Rubber monoculture(ID: 15)",
          "Rubber monoculture(ID: 15)",
          "Rubber monoculture(ID: 15)",
          "Rubber monoculture(ID: 15)",
          "Rubber monoculture(ID: 15)",
          "Rubber monoculture(ID: 15)",
          "Rubber monoculture(ID: 15)",
          "Rubber monoculture(ID: 15)",
          "Rubber monoculture(ID: 15)",
          "Rubber monoculture(ID: 15)",
          "Rubber monoculture(ID: 15)",
          "Rubber monoculture(ID: 15)",
          "Rubber monoculture(ID: 15)",
          "Rubber monoculture(ID: 15)",
          "Rubber monoculture(ID: 15)",
          "Rubber monoculture(ID: 15)",
          "Rubber monoculture(ID: 15)",
          "Rubber monoculture(ID: 15)",
          "Rubber monoculture(ID: 15)",
          "Rubber monoculture(ID: 15)",
          "Rubber monoculture(ID: 15)",
          "Rubber monoculture(ID: 15)",
          "Rubber monoculture(ID: 15)",
          "Rubber monoculture(ID: 15)",
          "Rubber monoculture(ID: 15)",
          "Rubber monoculture(ID: 15)",
          "Rubber monoculture(ID: 15)",
          "Rubber monoculture(ID: 15)",
          "Rubber monoculture(ID: 15)",
          "Rubber monoculture(ID: 15)",
          "Rubber monoculture(ID: 15)",
          "Rubber monoculture(ID: 15)",
          "Rubber monoculture(ID: 15)",
          "Rubber monoculture(ID: 15)",
          "Rubber monoculture(ID: 15)",
          "Rubber monoculture(ID: 15)",
          "Rubber monoculture(ID: 15)",
          "Rubber monoculture(ID: 15)",
          "Rubber monoculture(ID: 15)",
          "Rubber monoculture(ID: 15)",
          "Rubber monoculture(ID: 15)",
          "Rubber monoculture(ID: 15)",
          "Rubber monoculture(ID: 15)",
          "Rubber monoculture(ID: 15)",
          "Rubber monoculture(ID: 15)",
          "Rubber monoculture(ID: 15)",
          "Rubber monoculture(ID: 15)",
          "Rubber monoculture(ID: 15)",
          "Rubber monoculture(ID: 15)",
          "Rubber monoculture(ID: 15)",
          "Rubber monoculture(ID: 15)",
          "Rubber monoculture(ID: 15)",
          "Rubber monoculture(ID: 15)",
          "Rubber monoculture(ID: 15)",
          "Rubber monoculture(ID: 15)",
          "Rubber monoculture(ID: 15)",
          "Rubber monoculture(ID: 15)",
          "Rubber monoculture(ID: 15)",
          "Rubber monoculture(ID: 15)",
          "Rubber monoculture(ID: 15)",
          "Rubber monoculture(ID: 15)",
          "Rubber monoculture(ID: 15)",
          "Rubber monoculture(ID: 15)",
          "Rubber monoculture(ID: 15)",
          "Rubber monoculture(ID: 15)",
          "Rubber monoculture(ID: 15)",
          "Rubber monoculture(ID: 15)",
          "Rubber monoculture(ID: 15)",
          "Rubber monoculture(ID: 15)",
          "Rubber monoculture(ID: 15)",
          "Rubber monoculture(ID: 15)",
          "Rubber monoculture(ID: 15)",
          "Rubber monoculture(ID: 15)",
          "Rubber monoculture(ID: 15)",
          "Rubber monoculture(ID: 15)",
          "Rubber monoculture(ID: 15)",
          "Rubber monoculture(ID: 15)",
          "Rubber monoculture(ID: 15)",
          "Rubber monoculture(ID: 15)",
          "Rubber monoculture(ID: 15)",
          "Rubber monoculture(ID: 15)",
          "Rubber monoculture(ID: 15)",
          "Rubber monoculture(ID: 15)",
          "Rubber monoculture(ID: 15)",
          "Rubber monoculture(ID: 15)",
          "Rubber monoculture(ID: 15)",
          "Rubber monoculture(ID: 15)",
          "Rubber monoculture(ID: 15)",
          "Rubber monoculture(ID: 15)",
          "Rubber monoculture(ID: 15)",
          "Rubber monoculture(ID: 15)",
          "Rubber monoculture(ID: 15)",
          "Rubber monoculture(ID: 15)",
          "Rubber monoculture(ID: 15)",
          "Rubber monoculture(ID: 15)",
          "Rubber monoculture(ID: 15)",
          "Rubber monoculture(ID: 15)",
          "Rubber monoculture(ID: 15)",
          "Rubber monoculture(ID: 15)",
          "Rubber monoculture(ID: 15)",
          "Rubber monoculture(ID: 15)",
          "Rubber monoculture(ID: 15)",
          "Rubber monoculture(ID: 15)",
          "Rubber monoculture(ID: 15)",
          "Rubber monoculture(ID: 15)",
          "Rubber monoculture(ID: 15)",
          "Rubber monoculture(ID: 15)",
          "Rubber monoculture(ID: 15)",
          "Rubber monoculture(ID: 15)",
          "Rubber monoculture(ID: 15)",
          "Rubber monoculture(ID: 15)",
          "Rubber monoculture(ID: 15)",
          "Rubber monoculture(ID: 15)",
          "Rubber monoculture(ID: 15)",
          "Rubber monoculture(ID: 15)",
          "Rubber monoculture(ID: 15)",
          "Rubber monoculture(ID: 15)",
          "Rubber monoculture(ID: 15)",
          "Rubber monoculture(ID: 15)",
          "Rubber monoculture(ID: 15)",
          "Rubber monoculture(ID: 15)",
          "Rubber monoculture(ID: 15)",
          "Rubber monoculture(ID: 15)",
          "Rubber monoculture(ID: 15)",
          "Rubber monoculture(ID: 15)",
          "Rubber monoculture(ID: 15)",
          "Rubber monoculture(ID: 15)",
          "Rubber monoculture(ID: 15)",
          "Rubber monoculture(ID: 15)",
          "Rubber monoculture(ID: 15)",
          "Rubber monoculture(ID: 15)",
          "Rubber monoculture(ID: 15)",
          "Rubber monoculture(ID: 15)",
          "Rubber monoculture(ID: 15)",
          "Rubber monoculture(ID: 15)",
          "Rubber monoculture(ID: 15)",
          "Rubber monoculture(ID: 15)",
          "Rubber monoculture(ID: 15)",
          "Rubber monoculture(ID: 15)",
          "Rubber monoculture(ID: 15)",
          "Rubber monoculture(ID: 15)",
          "Rubber monoculture(ID: 15)",
          "Rubber monoculture(ID: 15)",
          "Rubber monoculture(ID: 15)",
          "Rubber monoculture(ID: 15)",
          "Rubber monoculture(ID: 15)",
          "Rubber monoculture(ID: 15)",
          "Rubber monoculture(ID: 15)",
          "Rubber monoculture(ID: 15)",
          "Rubber monoculture(ID: 15)",
          "Rubber monoculture(ID: 15)",
          "Rubber monoculture(ID: 15)",
          "Rubber monoculture(ID: 15)",
          "Rubber monoculture(ID: 15)",
          "Rubber monoculture(ID: 15)",
          "Rubber monoculture(ID: 15)",
          "Rubber monoculture(ID: 15)",
          "Rubber monoculture(ID: 15)",
          "Rubber monoculture(ID: 15)",
          "Rubber monoculture(ID: 15)",
          "Rubber monoculture(ID: 15)",
          "Rubber monoculture(ID: 15)",
          "Rubber monoculture(ID: 15)",
          "Rubber monoculture(ID: 15)",
          "Rubber monoculture(ID: 15)",
          "Rubber monoculture(ID: 15)",
          "Rubber monoculture(ID: 15)",
          "Rubber monoculture(ID: 15)",
          "Rubber monoculture(ID: 15)",
          "Rubber monoculture(ID: 15)",
          "Rubber monoculture(ID: 15)",
          "Rubber monoculture(ID: 15)",
          "Rubber monoculture(ID: 15)",
          "Rubber monoculture(ID: 15)",
          "Rubber monoculture(ID: 15)",
          "Rubber monoculture(ID: 15)",
          "Rubber monoculture(ID: 15)",
          "Rubber monoculture(ID: 15)",
          "Rubber monoculture(ID: 15)",
          "Rubber monoculture(ID: 15)",
          "Rubber monoculture(ID: 15)",
          "Rubber monoculture(ID: 15)",
          "Rubber monoculture(ID: 15)",
          "Rubber monoculture(ID: 15)",
          "Rubber monoculture(ID: 15)",
          "Rubber monoculture(ID: 15)",
          "Rubber monoculture(ID: 15)",
          "Rubber monoculture(ID: 15)",
          "Rubber monoculture(ID: 15)",
          "Rubber monoculture(ID: 15)",
          "Rubber monoculture(ID: 15)",
          "Rubber monoculture(ID: 15)",
          "Rubber monoculture(ID: 15)",
          "Rubber monoculture(ID: 15)",
          "Rubber monoculture(ID: 15)",
          "Rubber monoculture(ID: 15)",
          "Rubber monoculture(ID: 15)",
          "Rubber monoculture(ID: 15)",
          "Rubber monoculture(ID: 15)",
          "Rubber monoculture(ID: 15)",
          "Rubber monoculture(ID: 15)",
          "Rubber monoculture(ID: 15)",
          "Rubber monoculture(ID: 15)",
          "Rubber monoculture(ID: 15)",
          "Rubber monoculture(ID: 15)",
          "Rubber monoculture(ID: 15)",
          "Rubber monoculture(ID: 15)",
          "Rubber monoculture(ID: 15)",
          "Rubber monoculture(ID: 15)",
          "Rubber monoculture(ID: 15)",
          "Rubber monoculture(ID: 15)",
          "Rubber monoculture(ID: 15)",
          "Rubber monoculture(ID: 15)",
          "Rubber monoculture(ID: 15)",
          "Rubber monoculture(ID: 15)",
          "Rubber monoculture(ID: 15)",
          "Rubber monoculture(ID: 15)",
          "Rubber monoculture(ID: 15)",
          "Rubber monoculture(ID: 15)",
          "Rubber monoculture(ID: 15)",
          "Rubber monoculture(ID: 15)",
          "Rubber monoculture(ID: 15)",
          "Rubber monoculture(ID: 15)",
          "Rubber monoculture(ID: 15)",
          "Rubber monoculture(ID: 15)",
          "Rubber monoculture(ID: 15)",
          "Rubber monoculture(ID: 15)",
          "Rubber monoculture(ID: 15)",
          "Rubber monoculture(ID: 15)",
          "Rubber monoculture(ID: 15)",
          "Rubber monoculture(ID: 15)",
          "Rubber monoculture(ID: 15)",
          "Rubber monoculture(ID: 15)",
          "Rubber monoculture(ID: 15)",
          "Rubber monoculture(ID: 15)",
          "Rubber monoculture(ID: 15)",
          "Rubber monoculture(ID: 15)",
          "Rubber monoculture(ID: 15)",
          "Rubber monoculture(ID: 15)",
          "Rubber monoculture(ID: 15)",
          "Rubber monoculture(ID: 15)",
          "Rubber monoculture(ID: 15)",
          "Rubber monoculture(ID: 15)",
          "Rubber monoculture(ID: 15)",
          "Rubber monoculture(ID: 15)",
          "Rubber monoculture(ID: 15)",
          "Rubber monoculture(ID: 15)",
          "Rubber monoculture(ID: 15)",
          "Rubber monoculture(ID: 15)",
          "Rubber monoculture(ID: 15)",
          "Rubber monoculture(ID: 15)",
          "Rubber monoculture(ID: 15)",
          "Rubber monoculture(ID: 15)",
          "Rubber monoculture(ID: 15)",
          "Rubber monoculture(ID: 15)",
          "Rubber monoculture(ID: 15)",
          "Rubber monoculture(ID: 15)",
          "Rubber monoculture(ID: 15)",
          "Rubber monoculture(ID: 15)",
          "Rubber monoculture(ID: 15)",
          "Rubber monoculture(ID: 15)",
          "Rubber monoculture(ID: 15)",
          "Rubber monoculture(ID: 15)",
          "Rubber monoculture(ID: 15)",
          "Rubber monoculture(ID: 15)",
          "Rubber monoculture(ID: 15)",
          "Rubber monoculture(ID: 15)",
          "Rubber monoculture(ID: 15)",
          "Rubber monoculture(ID: 15)",
          "Rubber monoculture(ID: 15)",
          "Rubber monoculture(ID: 15)",
          "Rubber monoculture(ID: 15)",
          "Rubber monoculture(ID: 15)",
          "Rubber monoculture(ID: 15)",
          "Rubber monoculture(ID: 15)",
          "Rubber monoculture(ID: 15)",
          "Rubber monoculture(ID: 15)",
          "Rubber monoculture(ID: 15)",
          "Rubber monoculture(ID: 15)",
          "Rubber monoculture(ID: 15)",
          "Rubber monoculture(ID: 15)",
          "Rubber monoculture(ID: 15)",
          "Rubber monoculture(ID: 15)",
          "Rubber monoculture(ID: 15)",
          "Rubber monoculture(ID: 15)",
          "Rubber monoculture(ID: 15)",
          "Rubber monoculture(ID: 15)",
          "Rubber monoculture(ID: 15)",
          "Rubber monoculture(ID: 15)",
          "Rubber monoculture(ID: 15)",
          "Rubber monoculture(ID: 15)",
          "Rubber monoculture(ID: 15)",
          "Rubber monoculture(ID: 15)",
          "Rubber monoculture(ID: 15)",
          "Rubber monoculture(ID: 15)",
          "Rubber monoculture(ID: 15)",
          "Rubber monoculture(ID: 15)",
          "Rubber monoculture(ID: 15)",
          "Rubber monoculture(ID: 15)",
          "Rubber monoculture(ID: 15)",
          "Rubber monoculture(ID: 15)",
          "Rubber monoculture(ID: 15)",
          "Rubber monoculture(ID: 15)",
          "Rubber monoculture(ID: 15)",
          "Rubber monoculture(ID: 15)",
          "Rubber monoculture(ID: 15)",
          "Rubber monoculture(ID: 15)",
          "Rubber monoculture(ID: 15)",
          "Rubber monoculture(ID: 15)",
          "Rubber monoculture(ID: 15)",
          "Rubber monoculture(ID: 15)",
          "Rubber monoculture(ID: 15)",
          "Rubber monoculture(ID: 15)",
          "Rubber monoculture(ID: 15)",
          "Rubber monoculture(ID: 15)",
          "Rubber monoculture(ID: 15)",
          "Rubber monoculture(ID: 15)",
          "Rubber monoculture(ID: 15)",
          "Rubber monoculture(ID: 15)",
          "Rubber monoculture(ID: 15)",
          "Rubber monoculture(ID: 15)",
          "Rubber monoculture(ID: 15)",
          "Rubber monoculture(ID: 15)",
          "Rubber monoculture(ID: 15)",
          "Rubber monoculture(ID: 15)",
          "Rubber monoculture(ID: 15)",
          "Rubber monoculture(ID: 15)",
          "Rubber monoculture(ID: 15)",
          "Rubber monoculture(ID: 15)",
          "Rubber monoculture(ID: 15)",
          "Rubber monoculture(ID: 15)",
          "Rubber monoculture(ID: 15)",
          "Rubber monoculture(ID: 15)",
          "Rubber monoculture(ID: 15)",
          "Rubber monoculture(ID: 15)",
          "Rubber monoculture(ID: 15)",
          "Rubber monoculture(ID: 15)",
          "Rubber monoculture(ID: 15)",
          "Rubber monoculture(ID: 15)",
          "Rubber monoculture(ID: 15)",
          "Rubber monoculture(ID: 15)",
          "Rubber monoculture(ID: 15)",
          "Rubber monoculture(ID: 15)",
          "Rubber monoculture(ID: 15)",
          "Rubber monoculture(ID: 15)",
          "Rubber monoculture(ID: 15)",
          "Rubber monoculture(ID: 15)",
          "Rubber monoculture(ID: 15)",
          "Rubber monoculture(ID: 15)",
          "Rubber monoculture(ID: 15)",
          "Rubber monoculture(ID: 15)",
          "Rubber monoculture(ID: 15)",
          "Rubber monoculture(ID: 15)",
          "Rubber monoculture(ID: 15)",
          "Rubber monoculture(ID: 15)",
          "Rubber monoculture(ID: 15)",
          "Rubber monoculture(ID: 15)",
          "Rubber monoculture(ID: 15)",
          "Rubber monoculture(ID: 15)",
          "Rubber monoculture(ID: 15)",
          "Rubber monoculture(ID: 15)",
          "Rubber monoculture(ID: 15)",
          "Rubber monoculture(ID: 15)",
          "Rubber monoculture(ID: 15)",
          "Rubber monoculture(ID: 15)",
          "Rubber monoculture(ID: 15)",
          "Rubber monoculture(ID: 15)",
          "Rubber monoculture(ID: 15)",
          "Rubber monoculture(ID: 15)",
          "Rubber monoculture(ID: 15)",
          "Rubber monoculture(ID: 15)",
          "Rubber monoculture(ID: 15)",
          "Rubber monoculture(ID: 15)",
          "Rubber monoculture(ID: 15)",
          "Rubber monoculture(ID: 15)",
          "Rubber monoculture(ID: 15)",
          "Rubber monoculture(ID: 15)",
          "Rubber monoculture(ID: 15)",
          "Rubber monoculture(ID: 15)",
          "Rubber monoculture(ID: 15)",
          "Rubber monoculture(ID: 15)",
          "Rubber monoculture(ID: 15)",
          "Rubber monoculture(ID: 15)",
          "Rubber monoculture(ID: 15)",
          "Rubber monoculture(ID: 15)",
          "Rubber monoculture(ID: 15)",
          "Rubber monoculture(ID: 15)",
          "Rubber monoculture(ID: 15)",
          "Rubber monoculture(ID: 15)",
          "Rubber monoculture(ID: 15)",
          "Rubber monoculture(ID: 15)",
          "Rubber monoculture(ID: 15)",
          "Rubber monoculture(ID: 15)",
          "Rubber monoculture(ID: 15)",
          "Rubber monoculture(ID: 15)",
          "Rubber monoculture(ID: 15)",
          "Rubber monoculture(ID: 15)",
          "Rubber monoculture(ID: 15)",
          "Rubber monoculture(ID: 15)",
          "Rubber monoculture(ID: 15)",
          "Rubber monoculture(ID: 15)",
          "Rubber monoculture(ID: 15)",
          "Rubber monoculture(ID: 15)",
          "Rubber monoculture(ID: 15)",
          "Rubber monoculture(ID: 15)",
          "Rubber monoculture(ID: 15)",
          "Rubber monoculture(ID: 15)",
          "Rubber monoculture(ID: 15)",
          "Rubber monoculture(ID: 15)",
          "Rubber monoculture(ID: 15)",
          "Rubber monoculture(ID: 15)",
          "Rubber monoculture(ID: 15)",
          "Rubber monoculture(ID: 15)",
          "Rubber monoculture(ID: 15)",
          "Rubber monoculture(ID: 15)",
          "Rubber monoculture(ID: 15)",
          "Rubber monoculture(ID: 15)",
          "Rubber monoculture(ID: 15)",
          "Rubber monoculture(ID: 15)",
          "Rubber monoculture(ID: 15)",
          "Rubber monoculture(ID: 15)",
          "Rubber monoculture(ID: 15)",
          "Rubber monoculture(ID: 15)",
          "Rubber monoculture(ID: 15)",
          "Rubber monoculture(ID: 15)",
          "Rubber monoculture(ID: 15)",
          "Rubber monoculture(ID: 15)",
          "Rubber monoculture(ID: 15)",
          "Rubber monoculture(ID: 15)",
          "Rubber monoculture(ID: 15)",
          "Rubber monoculture(ID: 15)",
          "Rubber monoculture(ID: 15)",
          "Rubber monoculture(ID: 15)",
          "Rubber monoculture(ID: 15)",
          "Rubber monoculture(ID: 15)",
          "Rubber monoculture(ID: 15)",
          "Rubber monoculture(ID: 15)",
          "Rubber monoculture(ID: 15)",
          "Rubber monoculture(ID: 15)",
          "Rubber monoculture(ID: 15)",
          "Rubber monoculture(ID: 15)",
          "Rubber monoculture(ID: 15)",
          "Rubber monoculture(ID: 15)",
          "Rubber monoculture(ID: 15)",
          "Rubber monoculture(ID: 15)",
          "Rubber monoculture(ID: 15)",
          "Rubber monoculture(ID: 15)",
          "Rubber monoculture(ID: 15)",
          "Rubber monoculture(ID: 15)",
          "Rubber monoculture(ID: 15)",
          "Rubber monoculture(ID: 15)",
          "Rubber monoculture(ID: 15)",
          "Rubber monoculture(ID: 15)",
          "Rubber monoculture(ID: 15)",
          "Rubber monoculture(ID: 15)",
          "Rubber monoculture(ID: 15)",
          "Rubber monoculture(ID: 15)",
          "Rubber monoculture(ID: 15)",
          "Rubber monoculture(ID: 15)",
          "Rubber monoculture(ID: 15)",
          "Rubber monoculture(ID: 15)",
          "Rubber monoculture(ID: 15)",
          "Rubber monoculture(ID: 15)",
          "Rubber monoculture(ID: 15)",
          "Rubber monoculture(ID: 15)",
          "Rubber monoculture(ID: 15)",
          "Rubber monoculture(ID: 15)",
          "Rubber monoculture(ID: 15)",
          "Rubber monoculture(ID: 15)",
          "Rubber monoculture(ID: 15)",
          "Rubber monoculture(ID: 15)",
          "Rubber monoculture(ID: 15)",
          "Rubber monoculture(ID: 15)",
          "Rubber monoculture(ID: 15)",
          "Rubber monoculture(ID: 15)",
          "Rubber monoculture(ID: 15)",
          "Rubber monoculture(ID: 15)",
          "Rubber monoculture(ID: 15)",
          "Rubber monoculture(ID: 15)",
          "Rubber monoculture(ID: 15)",
          "Rubber monoculture(ID: 15)",
          "Rubber monoculture(ID: 15)",
          "Rubber monoculture(ID: 15)",
          "Rubber monoculture(ID: 15)",
          "Rubber monoculture(ID: 15)",
          "Rubber monoculture(ID: 15)",
          "Rubber monoculture(ID: 15)",
          "Rubber monoculture(ID: 15)",
          "Rubber monoculture(ID: 15)",
          "Rubber monoculture(ID: 15)",
          "Rubber monoculture(ID: 15)",
          "Rubber monoculture(ID: 15)",
          "Rubber monoculture(ID: 15)",
          "Rubber monoculture(ID: 15)",
          "Rubber monoculture(ID: 15)",
          "Rubber monoculture(ID: 15)",
          "Rubber monoculture(ID: 15)",
          "Rubber monoculture(ID: 15)",
          "Rubber monoculture(ID: 15)",
          "Rubber monoculture(ID: 15)",
          "Rubber monoculture(ID: 15)",
          "Rubber monoculture(ID: 15)",
          "Rubber monoculture(ID: 15)",
          "Rubber monoculture(ID: 15)",
          "Rubber monoculture(ID: 15)",
          "Rubber monoculture(ID: 15)",
          "Rubber monoculture(ID: 15)",
          "Rubber monoculture(ID: 15)",
          "Rubber monoculture(ID: 15)",
          "Rubber monoculture(ID: 15)",
          "Rubber monoculture(ID: 15)",
          "Rubber monoculture(ID: 15)",
          "Rubber monoculture(ID: 15)",
          "Rubber monoculture(ID: 15)",
          "Rubber monoculture(ID: 15)",
          "Rubber monoculture(ID: 15)",
          "Rubber monoculture(ID: 15)",
          "Rubber monoculture(ID: 15)",
          "Rubber monoculture(ID: 15)",
          "Rubber monoculture(ID: 15)",
          "Rubber monoculture(ID: 15)",
          "Rubber monoculture(ID: 15)",
          "Rubber monoculture(ID: 15)",
          "Rubber monoculture(ID: 15)",
          "Rubber monoculture(ID: 15)",
          "Rubber monoculture(ID: 15)",
          "Rubber monoculture(ID: 15)",
          "Rubber monoculture(ID: 15)",
          "Rubber monoculture(ID: 15)",
          "Rubber monoculture(ID: 15)",
          "Rubber monoculture(ID: 15)",
          "Rubber monoculture(ID: 15)",
          "Rubber monoculture(ID: 15)",
          "Rubber monoculture(ID: 15)",
          "Rubber monoculture(ID: 15)",
          "Rubber monoculture(ID: 15)",
          "Rubber monoculture(ID: 15)",
          "Rubber monoculture(ID: 15)",
          "Rubber monoculture(ID: 15)",
          "Rubber monoculture(ID: 15)",
          "Rubber monoculture(ID: 15)",
          "Rubber monoculture(ID: 15)",
          "Rubber monoculture(ID: 15)",
          "Rubber monoculture(ID: 15)",
          "Rubber monoculture(ID: 15)",
          "Rubber monoculture(ID: 15)",
          "Rubber monoculture(ID: 15)",
          "Rubber monoculture(ID: 15)",
          "Rubber monoculture(ID: 15)",
          "Rubber monoculture(ID: 15)",
          "Rubber monoculture(ID: 15)",
          "Rubber monoculture(ID: 15)",
          "Rubber monoculture(ID: 15)",
          "Rubber monoculture(ID: 15)",
          "Rubber monoculture(ID: 15)",
          "Rubber monoculture(ID: 15)",
          "Rubber monoculture(ID: 15)",
          "Rubber monoculture(ID: 15)",
          "Rubber monoculture(ID: 15)",
          "Rubber monoculture(ID: 15)",
          "Rubber monoculture(ID: 15)",
          "Rubber monoculture(ID: 15)",
          "Rubber monoculture(ID: 15)",
          "Rubber monoculture(ID: 15)",
          "Rubber monoculture(ID: 15)",
          "Rubber monoculture(ID: 15)",
          "Rubber monoculture(ID: 15)",
          "Rubber monoculture(ID: 15)",
          "Rubber monoculture(ID: 15)",
          "Rubber monoculture(ID: 15)",
          "Rubber monoculture(ID: 15)",
          "Rubber monoculture(ID: 15)",
          "Rubber monoculture(ID: 15)",
          "Rubber monoculture(ID: 15)",
          "Rubber monoculture(ID: 15)",
          "Rubber monoculture(ID: 15)",
          "Rubber monoculture(ID: 15)",
          "Rubber monoculture(ID: 15)",
          "Rubber monoculture(ID: 15)",
          "Rubber monoculture(ID: 15)",
          "Rubber monoculture(ID: 15)",
          "Rubber monoculture(ID: 15)",
          "Rubber monoculture(ID: 15)",
          "Rubber monoculture(ID: 15)",
          "Rubber monoculture(ID: 15)",
          "Rubber monoculture(ID: 15)",
          "Rubber monoculture(ID: 15)",
          "Rubber monoculture(ID: 15)",
          "Rubber monoculture(ID: 15)",
          "Rubber monoculture(ID: 15)",
          "Rubber monoculture(ID: 15)",
          "Rubber monoculture(ID: 15)",
          "Rubber monoculture(ID: 15)",
          "Rubber monoculture(ID: 15)",
          "Rubber monoculture(ID: 15)",
          "Rubber monoculture(ID: 15)",
          "Rubber monoculture(ID: 15)",
          "Rubber monoculture(ID: 15)",
          "Rubber monoculture(ID: 15)",
          "Rubber monoculture(ID: 15)",
          "Rubber monoculture(ID: 15)",
          "Rubber monoculture(ID: 15)"
         ],
         "x0": " ",
         "xaxis": "x",
         "y": {
          "bdata": "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",
          "dtype": "f8"
         },
         "y0": " ",
         "yaxis": "y"
        },
        {
         "alignmentgroup": "True",
         "customdata": {
          "bdata": "EBAQEBAQEBAQEBAQEBAQEBAQEBAQEBAQEBAQEBAQEBAQEBAQEBAQEBAQEBAQEBAQEBAQEBAQEBAQEBAQEBAQEBAQEBAQEBAQEBAQEBAQEBAQEBAQEBAQEBAQEBAQEBAQEBAQEBAQEBAQEBAQEBAQEBAQEBAQEBAQEBAQEBAQEBAQEBAQEBAQEBAQEBAQEBAQEBAQEBAQEBAQEBAQEBAQEBAQEBAQEBAQEBAQEBAQEBAQEBAQEBAQEBAQEBAQEBAQEBA=",
          "dtype": "i1",
          "shape": "194, 1"
         },
         "hovertemplate": "<b>%{x}</b><br>AEROSOL: %{y:.4f}<br><extra></extra>",
         "legendgroup": "Settlement(ID: 16)",
         "marker": {
          "color": "#EF553B"
         },
         "name": "Settlement(ID: 16)",
         "notched": false,
         "offsetgroup": "Settlement(ID: 16)",
         "orientation": "v",
         "showlegend": true,
         "type": "box",
         "x": [
          "Settlement(ID: 16)",
          "Settlement(ID: 16)",
          "Settlement(ID: 16)",
          "Settlement(ID: 16)",
          "Settlement(ID: 16)",
          "Settlement(ID: 16)",
          "Settlement(ID: 16)",
          "Settlement(ID: 16)",
          "Settlement(ID: 16)",
          "Settlement(ID: 16)",
          "Settlement(ID: 16)",
          "Settlement(ID: 16)",
          "Settlement(ID: 16)",
          "Settlement(ID: 16)",
          "Settlement(ID: 16)",
          "Settlement(ID: 16)",
          "Settlement(ID: 16)",
          "Settlement(ID: 16)",
          "Settlement(ID: 16)",
          "Settlement(ID: 16)",
          "Settlement(ID: 16)",
          "Settlement(ID: 16)",
          "Settlement(ID: 16)",
          "Settlement(ID: 16)",
          "Settlement(ID: 16)",
          "Settlement(ID: 16)",
          "Settlement(ID: 16)",
          "Settlement(ID: 16)",
          "Settlement(ID: 16)",
          "Settlement(ID: 16)",
          "Settlement(ID: 16)",
          "Settlement(ID: 16)",
          "Settlement(ID: 16)",
          "Settlement(ID: 16)",
          "Settlement(ID: 16)",
          "Settlement(ID: 16)",
          "Settlement(ID: 16)",
          "Settlement(ID: 16)",
          "Settlement(ID: 16)",
          "Settlement(ID: 16)",
          "Settlement(ID: 16)",
          "Settlement(ID: 16)",
          "Settlement(ID: 16)",
          "Settlement(ID: 16)",
          "Settlement(ID: 16)",
          "Settlement(ID: 16)",
          "Settlement(ID: 16)",
          "Settlement(ID: 16)",
          "Settlement(ID: 16)",
          "Settlement(ID: 16)",
          "Settlement(ID: 16)",
          "Settlement(ID: 16)",
          "Settlement(ID: 16)",
          "Settlement(ID: 16)",
          "Settlement(ID: 16)",
          "Settlement(ID: 16)",
          "Settlement(ID: 16)",
          "Settlement(ID: 16)",
          "Settlement(ID: 16)",
          "Settlement(ID: 16)",
          "Settlement(ID: 16)",
          "Settlement(ID: 16)",
          "Settlement(ID: 16)",
          "Settlement(ID: 16)",
          "Settlement(ID: 16)",
          "Settlement(ID: 16)",
          "Settlement(ID: 16)",
          "Settlement(ID: 16)",
          "Settlement(ID: 16)",
          "Settlement(ID: 16)",
          "Settlement(ID: 16)",
          "Settlement(ID: 16)",
          "Settlement(ID: 16)",
          "Settlement(ID: 16)",
          "Settlement(ID: 16)",
          "Settlement(ID: 16)",
          "Settlement(ID: 16)",
          "Settlement(ID: 16)",
          "Settlement(ID: 16)",
          "Settlement(ID: 16)",
          "Settlement(ID: 16)",
          "Settlement(ID: 16)",
          "Settlement(ID: 16)",
          "Settlement(ID: 16)",
          "Settlement(ID: 16)",
          "Settlement(ID: 16)",
          "Settlement(ID: 16)",
          "Settlement(ID: 16)",
          "Settlement(ID: 16)",
          "Settlement(ID: 16)",
          "Settlement(ID: 16)",
          "Settlement(ID: 16)",
          "Settlement(ID: 16)",
          "Settlement(ID: 16)",
          "Settlement(ID: 16)",
          "Settlement(ID: 16)",
          "Settlement(ID: 16)",
          "Settlement(ID: 16)",
          "Settlement(ID: 16)",
          "Settlement(ID: 16)",
          "Settlement(ID: 16)",
          "Settlement(ID: 16)",
          "Settlement(ID: 16)",
          "Settlement(ID: 16)",
          "Settlement(ID: 16)",
          "Settlement(ID: 16)",
          "Settlement(ID: 16)",
          "Settlement(ID: 16)",
          "Settlement(ID: 16)",
          "Settlement(ID: 16)",
          "Settlement(ID: 16)",
          "Settlement(ID: 16)",
          "Settlement(ID: 16)",
          "Settlement(ID: 16)",
          "Settlement(ID: 16)",
          "Settlement(ID: 16)",
          "Settlement(ID: 16)",
          "Settlement(ID: 16)",
          "Settlement(ID: 16)",
          "Settlement(ID: 16)",
          "Settlement(ID: 16)",
          "Settlement(ID: 16)",
          "Settlement(ID: 16)",
          "Settlement(ID: 16)",
          "Settlement(ID: 16)",
          "Settlement(ID: 16)",
          "Settlement(ID: 16)",
          "Settlement(ID: 16)",
          "Settlement(ID: 16)",
          "Settlement(ID: 16)",
          "Settlement(ID: 16)",
          "Settlement(ID: 16)",
          "Settlement(ID: 16)",
          "Settlement(ID: 16)",
          "Settlement(ID: 16)",
          "Settlement(ID: 16)",
          "Settlement(ID: 16)",
          "Settlement(ID: 16)",
          "Settlement(ID: 16)",
          "Settlement(ID: 16)",
          "Settlement(ID: 16)",
          "Settlement(ID: 16)",
          "Settlement(ID: 16)",
          "Settlement(ID: 16)",
          "Settlement(ID: 16)",
          "Settlement(ID: 16)",
          "Settlement(ID: 16)",
          "Settlement(ID: 16)",
          "Settlement(ID: 16)",
          "Settlement(ID: 16)",
          "Settlement(ID: 16)",
          "Settlement(ID: 16)",
          "Settlement(ID: 16)",
          "Settlement(ID: 16)",
          "Settlement(ID: 16)",
          "Settlement(ID: 16)",
          "Settlement(ID: 16)",
          "Settlement(ID: 16)",
          "Settlement(ID: 16)",
          "Settlement(ID: 16)",
          "Settlement(ID: 16)",
          "Settlement(ID: 16)",
          "Settlement(ID: 16)",
          "Settlement(ID: 16)",
          "Settlement(ID: 16)",
          "Settlement(ID: 16)",
          "Settlement(ID: 16)",
          "Settlement(ID: 16)",
          "Settlement(ID: 16)",
          "Settlement(ID: 16)",
          "Settlement(ID: 16)",
          "Settlement(ID: 16)",
          "Settlement(ID: 16)",
          "Settlement(ID: 16)",
          "Settlement(ID: 16)",
          "Settlement(ID: 16)",
          "Settlement(ID: 16)",
          "Settlement(ID: 16)",
          "Settlement(ID: 16)",
          "Settlement(ID: 16)",
          "Settlement(ID: 16)",
          "Settlement(ID: 16)",
          "Settlement(ID: 16)",
          "Settlement(ID: 16)",
          "Settlement(ID: 16)",
          "Settlement(ID: 16)",
          "Settlement(ID: 16)",
          "Settlement(ID: 16)",
          "Settlement(ID: 16)",
          "Settlement(ID: 16)",
          "Settlement(ID: 16)",
          "Settlement(ID: 16)",
          "Settlement(ID: 16)",
          "Settlement(ID: 16)"
         ],
         "x0": " ",
         "xaxis": "x",
         "y": {
          "bdata": "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",
          "dtype": "f8"
         },
         "y0": " ",
         "yaxis": "y"
        },
        {
         "alignmentgroup": "True",
         "customdata": {
          "bdata": "CwsLCwsLCwsLCwsLCwsLCwsLCwsLCwsLCwsLCwsLCwsLCwsLCwsLCwsLCwsLCwsLCwsLCwsLCwsLCwsLCwsLCwsLCwsLCwsLCwsLCwsLCwsLCwsLCwsLCwsLCwsLCwsLCwsLCwsLCwsLCwsLCwsLCwsLCwsLCwsLCwsLCwsLCwsLCwsLCwsLCwsLCwsLCwsLCwsLCwsLCwsLCwsLCwsLCwsLCwsLCwsLCwsLCwsLCwsLCwsLCwsLCwsLCwsLCwsLCwsLCwsLCwsLCwsLCwsLCwsLCwsLCwsLCwsLCwsLCwsLCwsLCwsLCwsLCwsLCwsLCw==",
          "dtype": "i1",
          "shape": "241, 1"
         },
         "hovertemplate": "<b>%{x}</b><br>AEROSOL: %{y:.4f}<br><extra></extra>",
         "legendgroup": "Oil palm monoculture(ID: 11)",
         "marker": {
          "color": "#00cc96"
         },
         "name": "Oil palm monoculture(ID: 11)",
         "notched": false,
         "offsetgroup": "Oil palm monoculture(ID: 11)",
         "orientation": "v",
         "showlegend": true,
         "type": "box",
         "x": [
          "Oil palm monoculture(ID: 11)",
          "Oil palm monoculture(ID: 11)",
          "Oil palm monoculture(ID: 11)",
          "Oil palm monoculture(ID: 11)",
          "Oil palm monoculture(ID: 11)",
          "Oil palm monoculture(ID: 11)",
          "Oil palm monoculture(ID: 11)",
          "Oil palm monoculture(ID: 11)",
          "Oil palm monoculture(ID: 11)",
          "Oil palm monoculture(ID: 11)",
          "Oil palm monoculture(ID: 11)",
          "Oil palm monoculture(ID: 11)",
          "Oil palm monoculture(ID: 11)",
          "Oil palm monoculture(ID: 11)",
          "Oil palm monoculture(ID: 11)",
          "Oil palm monoculture(ID: 11)",
          "Oil palm monoculture(ID: 11)",
          "Oil palm monoculture(ID: 11)",
          "Oil palm monoculture(ID: 11)",
          "Oil palm monoculture(ID: 11)",
          "Oil palm monoculture(ID: 11)",
          "Oil palm monoculture(ID: 11)",
          "Oil palm monoculture(ID: 11)",
          "Oil palm monoculture(ID: 11)",
          "Oil palm monoculture(ID: 11)",
          "Oil palm monoculture(ID: 11)",
          "Oil palm monoculture(ID: 11)",
          "Oil palm monoculture(ID: 11)",
          "Oil palm monoculture(ID: 11)",
          "Oil palm monoculture(ID: 11)",
          "Oil palm monoculture(ID: 11)",
          "Oil palm monoculture(ID: 11)",
          "Oil palm monoculture(ID: 11)",
          "Oil palm monoculture(ID: 11)",
          "Oil palm monoculture(ID: 11)",
          "Oil palm monoculture(ID: 11)",
          "Oil palm monoculture(ID: 11)",
          "Oil palm monoculture(ID: 11)",
          "Oil palm monoculture(ID: 11)",
          "Oil palm monoculture(ID: 11)",
          "Oil palm monoculture(ID: 11)",
          "Oil palm monoculture(ID: 11)",
          "Oil palm monoculture(ID: 11)",
          "Oil palm monoculture(ID: 11)",
          "Oil palm monoculture(ID: 11)",
          "Oil palm monoculture(ID: 11)",
          "Oil palm monoculture(ID: 11)",
          "Oil palm monoculture(ID: 11)",
          "Oil palm monoculture(ID: 11)",
          "Oil palm monoculture(ID: 11)",
          "Oil palm monoculture(ID: 11)",
          "Oil palm monoculture(ID: 11)",
          "Oil palm monoculture(ID: 11)",
          "Oil palm monoculture(ID: 11)",
          "Oil palm monoculture(ID: 11)",
          "Oil palm monoculture(ID: 11)",
          "Oil palm monoculture(ID: 11)",
          "Oil palm monoculture(ID: 11)",
          "Oil palm monoculture(ID: 11)",
          "Oil palm monoculture(ID: 11)",
          "Oil palm monoculture(ID: 11)",
          "Oil palm monoculture(ID: 11)",
          "Oil palm monoculture(ID: 11)",
          "Oil palm monoculture(ID: 11)",
          "Oil palm monoculture(ID: 11)",
          "Oil palm monoculture(ID: 11)",
          "Oil palm monoculture(ID: 11)",
          "Oil palm monoculture(ID: 11)",
          "Oil palm monoculture(ID: 11)",
          "Oil palm monoculture(ID: 11)",
          "Oil palm monoculture(ID: 11)",
          "Oil palm monoculture(ID: 11)",
          "Oil palm monoculture(ID: 11)",
          "Oil palm monoculture(ID: 11)",
          "Oil palm monoculture(ID: 11)",
          "Oil palm monoculture(ID: 11)",
          "Oil palm monoculture(ID: 11)",
          "Oil palm monoculture(ID: 11)",
          "Oil palm monoculture(ID: 11)",
          "Oil palm monoculture(ID: 11)",
          "Oil palm monoculture(ID: 11)",
          "Oil palm monoculture(ID: 11)",
          "Oil palm monoculture(ID: 11)",
          "Oil palm monoculture(ID: 11)",
          "Oil palm monoculture(ID: 11)",
          "Oil palm monoculture(ID: 11)",
          "Oil palm monoculture(ID: 11)",
          "Oil palm monoculture(ID: 11)",
          "Oil palm monoculture(ID: 11)",
          "Oil palm monoculture(ID: 11)",
          "Oil palm monoculture(ID: 11)",
          "Oil palm monoculture(ID: 11)",
          "Oil palm monoculture(ID: 11)",
          "Oil palm monoculture(ID: 11)",
          "Oil palm monoculture(ID: 11)",
          "Oil palm monoculture(ID: 11)",
          "Oil palm monoculture(ID: 11)",
          "Oil palm monoculture(ID: 11)",
          "Oil palm monoculture(ID: 11)",
          "Oil palm monoculture(ID: 11)",
          "Oil palm monoculture(ID: 11)",
          "Oil palm monoculture(ID: 11)",
          "Oil palm monoculture(ID: 11)",
          "Oil palm monoculture(ID: 11)",
          "Oil palm monoculture(ID: 11)",
          "Oil palm monoculture(ID: 11)",
          "Oil palm monoculture(ID: 11)",
          "Oil palm monoculture(ID: 11)",
          "Oil palm monoculture(ID: 11)",
          "Oil palm monoculture(ID: 11)",
          "Oil palm monoculture(ID: 11)",
          "Oil palm monoculture(ID: 11)",
          "Oil palm monoculture(ID: 11)",
          "Oil palm monoculture(ID: 11)",
          "Oil palm monoculture(ID: 11)",
          "Oil palm monoculture(ID: 11)",
          "Oil palm monoculture(ID: 11)",
          "Oil palm monoculture(ID: 11)",
          "Oil palm monoculture(ID: 11)",
          "Oil palm monoculture(ID: 11)",
          "Oil palm monoculture(ID: 11)",
          "Oil palm monoculture(ID: 11)",
          "Oil palm monoculture(ID: 11)",
          "Oil palm monoculture(ID: 11)",
          "Oil palm monoculture(ID: 11)",
          "Oil palm monoculture(ID: 11)",
          "Oil palm monoculture(ID: 11)",
          "Oil palm monoculture(ID: 11)",
          "Oil palm monoculture(ID: 11)",
          "Oil palm monoculture(ID: 11)",
          "Oil palm monoculture(ID: 11)",
          "Oil palm monoculture(ID: 11)",
          "Oil palm monoculture(ID: 11)",
          "Oil palm monoculture(ID: 11)",
          "Oil palm monoculture(ID: 11)",
          "Oil palm monoculture(ID: 11)",
          "Oil palm monoculture(ID: 11)",
          "Oil palm monoculture(ID: 11)",
          "Oil palm monoculture(ID: 11)",
          "Oil palm monoculture(ID: 11)",
          "Oil palm monoculture(ID: 11)",
          "Oil palm monoculture(ID: 11)",
          "Oil palm monoculture(ID: 11)",
          "Oil palm monoculture(ID: 11)",
          "Oil palm monoculture(ID: 11)",
          "Oil palm monoculture(ID: 11)",
          "Oil palm monoculture(ID: 11)",
          "Oil palm monoculture(ID: 11)",
          "Oil palm monoculture(ID: 11)",
          "Oil palm monoculture(ID: 11)",
          "Oil palm monoculture(ID: 11)",
          "Oil palm monoculture(ID: 11)",
          "Oil palm monoculture(ID: 11)",
          "Oil palm monoculture(ID: 11)",
          "Oil palm monoculture(ID: 11)",
          "Oil palm monoculture(ID: 11)",
          "Oil palm monoculture(ID: 11)",
          "Oil palm monoculture(ID: 11)",
          "Oil palm monoculture(ID: 11)",
          "Oil palm monoculture(ID: 11)",
          "Oil palm monoculture(ID: 11)",
          "Oil palm monoculture(ID: 11)",
          "Oil palm monoculture(ID: 11)",
          "Oil palm monoculture(ID: 11)",
          "Oil palm monoculture(ID: 11)",
          "Oil palm monoculture(ID: 11)",
          "Oil palm monoculture(ID: 11)",
          "Oil palm monoculture(ID: 11)",
          "Oil palm monoculture(ID: 11)",
          "Oil palm monoculture(ID: 11)",
          "Oil palm monoculture(ID: 11)",
          "Oil palm monoculture(ID: 11)",
          "Oil palm monoculture(ID: 11)",
          "Oil palm monoculture(ID: 11)",
          "Oil palm monoculture(ID: 11)",
          "Oil palm monoculture(ID: 11)",
          "Oil palm monoculture(ID: 11)",
          "Oil palm monoculture(ID: 11)",
          "Oil palm monoculture(ID: 11)",
          "Oil palm monoculture(ID: 11)",
          "Oil palm monoculture(ID: 11)",
          "Oil palm monoculture(ID: 11)",
          "Oil palm monoculture(ID: 11)",
          "Oil palm monoculture(ID: 11)",
          "Oil palm monoculture(ID: 11)",
          "Oil palm monoculture(ID: 11)",
          "Oil palm monoculture(ID: 11)",
          "Oil palm monoculture(ID: 11)",
          "Oil palm monoculture(ID: 11)",
          "Oil palm monoculture(ID: 11)",
          "Oil palm monoculture(ID: 11)",
          "Oil palm monoculture(ID: 11)",
          "Oil palm monoculture(ID: 11)",
          "Oil palm monoculture(ID: 11)",
          "Oil palm monoculture(ID: 11)",
          "Oil palm monoculture(ID: 11)",
          "Oil palm monoculture(ID: 11)",
          "Oil palm monoculture(ID: 11)",
          "Oil palm monoculture(ID: 11)",
          "Oil palm monoculture(ID: 11)",
          "Oil palm monoculture(ID: 11)",
          "Oil palm monoculture(ID: 11)",
          "Oil palm monoculture(ID: 11)",
          "Oil palm monoculture(ID: 11)",
          "Oil palm monoculture(ID: 11)",
          "Oil palm monoculture(ID: 11)",
          "Oil palm monoculture(ID: 11)",
          "Oil palm monoculture(ID: 11)",
          "Oil palm monoculture(ID: 11)",
          "Oil palm monoculture(ID: 11)",
          "Oil palm monoculture(ID: 11)",
          "Oil palm monoculture(ID: 11)",
          "Oil palm monoculture(ID: 11)",
          "Oil palm monoculture(ID: 11)",
          "Oil palm monoculture(ID: 11)",
          "Oil palm monoculture(ID: 11)",
          "Oil palm monoculture(ID: 11)",
          "Oil palm monoculture(ID: 11)",
          "Oil palm monoculture(ID: 11)",
          "Oil palm monoculture(ID: 11)",
          "Oil palm monoculture(ID: 11)",
          "Oil palm monoculture(ID: 11)",
          "Oil palm monoculture(ID: 11)",
          "Oil palm monoculture(ID: 11)",
          "Oil palm monoculture(ID: 11)",
          "Oil palm monoculture(ID: 11)",
          "Oil palm monoculture(ID: 11)",
          "Oil palm monoculture(ID: 11)",
          "Oil palm monoculture(ID: 11)",
          "Oil palm monoculture(ID: 11)",
          "Oil palm monoculture(ID: 11)",
          "Oil palm monoculture(ID: 11)",
          "Oil palm monoculture(ID: 11)",
          "Oil palm monoculture(ID: 11)",
          "Oil palm monoculture(ID: 11)",
          "Oil palm monoculture(ID: 11)",
          "Oil palm monoculture(ID: 11)",
          "Oil palm monoculture(ID: 11)",
          "Oil palm monoculture(ID: 11)",
          "Oil palm monoculture(ID: 11)",
          "Oil palm monoculture(ID: 11)"
         ],
         "x0": " ",
         "xaxis": "x",
         "y": {
          "bdata": "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",
          "dtype": "f8"
         },
         "y0": " ",
         "yaxis": "y"
        },
        {
         "alignmentgroup": "True",
         "customdata": {
          "bdata": "ExMTExMTExMTExMTExMTExMTExMTExMTExMTExMTExMTExMTExMTExMTExMTExM=",
          "dtype": "i1",
          "shape": "47, 1"
         },
         "hovertemplate": "<b>%{x}</b><br>AEROSOL: %{y:.4f}<br><extra></extra>",
         "legendgroup": "Water Body(ID: 19)",
         "marker": {
          "color": "#ab63fa"
         },
         "name": "Water Body(ID: 19)",
         "notched": false,
         "offsetgroup": "Water Body(ID: 19)",
         "orientation": "v",
         "showlegend": true,
         "type": "box",
         "x": [
          "Water Body(ID: 19)",
          "Water Body(ID: 19)",
          "Water Body(ID: 19)",
          "Water Body(ID: 19)",
          "Water Body(ID: 19)",
          "Water Body(ID: 19)",
          "Water Body(ID: 19)",
          "Water Body(ID: 19)",
          "Water Body(ID: 19)",
          "Water Body(ID: 19)",
          "Water Body(ID: 19)",
          "Water Body(ID: 19)",
          "Water Body(ID: 19)",
          "Water Body(ID: 19)",
          "Water Body(ID: 19)",
          "Water Body(ID: 19)",
          "Water Body(ID: 19)",
          "Water Body(ID: 19)",
          "Water Body(ID: 19)",
          "Water Body(ID: 19)",
          "Water Body(ID: 19)",
          "Water Body(ID: 19)",
          "Water Body(ID: 19)",
          "Water Body(ID: 19)",
          "Water Body(ID: 19)",
          "Water Body(ID: 19)",
          "Water Body(ID: 19)",
          "Water Body(ID: 19)",
          "Water Body(ID: 19)",
          "Water Body(ID: 19)",
          "Water Body(ID: 19)",
          "Water Body(ID: 19)",
          "Water Body(ID: 19)",
          "Water Body(ID: 19)",
          "Water Body(ID: 19)",
          "Water Body(ID: 19)",
          "Water Body(ID: 19)",
          "Water Body(ID: 19)",
          "Water Body(ID: 19)",
          "Water Body(ID: 19)",
          "Water Body(ID: 19)",
          "Water Body(ID: 19)",
          "Water Body(ID: 19)",
          "Water Body(ID: 19)",
          "Water Body(ID: 19)",
          "Water Body(ID: 19)",
          "Water Body(ID: 19)"
         ],
         "x0": " ",
         "xaxis": "x",
         "y": {
          "bdata": "VFxV9l0RpD8gVKnZA62YP4i/JmvUQ6Q/+BkXDoRkoT+4ek563/iWP1RcVfZdEaQ/SLVPx2MGpj/S+8bXnlmiP6BinL8JhZw/gKSIDKt4iz+oZWt9kdCiP5RNucK7XKg/zPj3GRcOoD++8bVnlgSmPwzgLZCg+Jk/UPwYc9cSqD8Ab4EExY+dPxDDR8SUSJI/dF5jl6jepj+I+fIC7KOLP3goCvSJPKU/WN3qOel9mz9M0ZFc/kOiP+hDF9S3zKU/WNO84xQdlT/yWZ4Hd2epP4DF4cyv5pg/INbiUwCMnz8gXtcv2A2fP8AYyol2FZo/GFsIclDCnD+I61G4HoWbP1DRkVz+Q54/bOwS1VsDmz9wyhXe5SKqP3KPpQ9dUKU/iIBDqFKzpz965A8GnnulP9Cytb5IaJs/TBB1H4DUmj/0qzlAMEenPxhbCHJQwqA/nJj1Yignoj84pYP1fw6XP0ATYcPTK5E/6DBfXoB9pD905bM8D+6WPw==",
          "dtype": "f8"
         },
         "y0": " ",
         "yaxis": "y"
        },
        {
         "alignmentgroup": "True",
         "customdata": {
          "bdata": "AQEBAQEBAQEBAQEBAQEBAQEBAQEBAQEBAQEBAQE=",
          "dtype": "i1",
          "shape": "29, 1"
         },
         "hovertemplate": "<b>%{x}</b><br>AEROSOL: %{y:.4f}<br><extra></extra>",
         "legendgroup": "Acacia plantation(ID: 1)",
         "marker": {
          "color": "#FFA15A"
         },
         "name": "Acacia plantation(ID: 1)",
         "notched": false,
         "offsetgroup": "Acacia plantation(ID: 1)",
         "orientation": "v",
         "showlegend": true,
         "type": "box",
         "x": [
          "Acacia plantation(ID: 1)",
          "Acacia plantation(ID: 1)",
          "Acacia plantation(ID: 1)",
          "Acacia plantation(ID: 1)",
          "Acacia plantation(ID: 1)",
          "Acacia plantation(ID: 1)",
          "Acacia plantation(ID: 1)",
          "Acacia plantation(ID: 1)",
          "Acacia plantation(ID: 1)",
          "Acacia plantation(ID: 1)",
          "Acacia plantation(ID: 1)",
          "Acacia plantation(ID: 1)",
          "Acacia plantation(ID: 1)",
          "Acacia plantation(ID: 1)",
          "Acacia plantation(ID: 1)",
          "Acacia plantation(ID: 1)",
          "Acacia plantation(ID: 1)",
          "Acacia plantation(ID: 1)",
          "Acacia plantation(ID: 1)",
          "Acacia plantation(ID: 1)",
          "Acacia plantation(ID: 1)",
          "Acacia plantation(ID: 1)",
          "Acacia plantation(ID: 1)",
          "Acacia plantation(ID: 1)",
          "Acacia plantation(ID: 1)",
          "Acacia plantation(ID: 1)",
          "Acacia plantation(ID: 1)",
          "Acacia plantation(ID: 1)",
          "Acacia plantation(ID: 1)"
         ],
         "x0": " ",
         "xaxis": "x",
         "y": {
          "bdata": "2NglqrcGoj9kKCfaVUiVP6COxwxUxpc/yVnY0w5/pb+WrfVFQlukP0QEHEKVmqE/4Oo56X3jkz9An8iTpGueP+DRxhFr8Zk/6FyKq8q+mz9Mjjulg/WTPyquKvuuCKA/sFWCxeHMnz/eoSjQJ/KqP2j8+4wLB5o/oBmLprOTmT8IaCJseHqZPxx8YTJVMKA/vA6cM6K0kz/gBdhHp66MP0g8oGzKFZY/4BCq1OyBlj9IrWnecYqOP0xsPq4NFaM/QsU4fxMKpT9iC0EOSpinP+jB3Vm77Zo/cL9DUaBPlD9IsdzSakiUPw==",
          "dtype": "f8"
         },
         "y0": " ",
         "yaxis": "y"
        },
        {
         "alignmentgroup": "True",
         "customdata": {
          "bdata": "DQ0NDQ0NDQ0NDQ0NDQ0NDQ0NDQ0NDQ0NDQ0NDQ0NDQ0NDQ0NDQ0NDQ0NDQ0NDQ0NDQ0NDQ0NDQ0NDQ0NDQ0NDQ0NDQ==",
          "dtype": "i1",
          "shape": "67, 1"
         },
         "hovertemplate": "<b>%{x}</b><br>AEROSOL: %{y:.4f}<br><extra></extra>",
         "legendgroup": "Rice Field(ID: 13)",
         "marker": {
          "color": "#19d3f3"
         },
         "name": "Rice Field(ID: 13)",
         "notched": false,
         "offsetgroup": "Rice Field(ID: 13)",
         "orientation": "v",
         "showlegend": true,
         "type": "box",
         "x": [
          "Rice Field(ID: 13)",
          "Rice Field(ID: 13)",
          "Rice Field(ID: 13)",
          "Rice Field(ID: 13)",
          "Rice Field(ID: 13)",
          "Rice Field(ID: 13)",
          "Rice Field(ID: 13)",
          "Rice Field(ID: 13)",
          "Rice Field(ID: 13)",
          "Rice Field(ID: 13)",
          "Rice Field(ID: 13)",
          "Rice Field(ID: 13)",
          "Rice Field(ID: 13)",
          "Rice Field(ID: 13)",
          "Rice Field(ID: 13)",
          "Rice Field(ID: 13)",
          "Rice Field(ID: 13)",
          "Rice Field(ID: 13)",
          "Rice Field(ID: 13)",
          "Rice Field(ID: 13)",
          "Rice Field(ID: 13)",
          "Rice Field(ID: 13)",
          "Rice Field(ID: 13)",
          "Rice Field(ID: 13)",
          "Rice Field(ID: 13)",
          "Rice Field(ID: 13)",
          "Rice Field(ID: 13)",
          "Rice Field(ID: 13)",
          "Rice Field(ID: 13)",
          "Rice Field(ID: 13)",
          "Rice Field(ID: 13)",
          "Rice Field(ID: 13)",
          "Rice Field(ID: 13)",
          "Rice Field(ID: 13)",
          "Rice Field(ID: 13)",
          "Rice Field(ID: 13)",
          "Rice Field(ID: 13)",
          "Rice Field(ID: 13)",
          "Rice Field(ID: 13)",
          "Rice Field(ID: 13)",
          "Rice Field(ID: 13)",
          "Rice Field(ID: 13)",
          "Rice Field(ID: 13)",
          "Rice Field(ID: 13)",
          "Rice Field(ID: 13)",
          "Rice Field(ID: 13)",
          "Rice Field(ID: 13)",
          "Rice Field(ID: 13)",
          "Rice Field(ID: 13)",
          "Rice Field(ID: 13)",
          "Rice Field(ID: 13)",
          "Rice Field(ID: 13)",
          "Rice Field(ID: 13)",
          "Rice Field(ID: 13)",
          "Rice Field(ID: 13)",
          "Rice Field(ID: 13)",
          "Rice Field(ID: 13)",
          "Rice Field(ID: 13)",
          "Rice Field(ID: 13)",
          "Rice Field(ID: 13)",
          "Rice Field(ID: 13)",
          "Rice Field(ID: 13)",
          "Rice Field(ID: 13)",
          "Rice Field(ID: 13)",
          "Rice Field(ID: 13)",
          "Rice Field(ID: 13)",
          "Rice Field(ID: 13)"
         ],
         "x0": " ",
         "xaxis": "x",
         "y": {
          "bdata": "4LhTOlj/nz9AuDtrt12YP6gJou4DkJo/cBKDwMqhnT+YIOo+AKmdPxgTm49rQ6k/pO1fWWlSoj8QkWEVb2SeP55BQ/8EF6E/mGTkLOxpoT/o3sMlx52mP/SmIhXGFqQ/9JNqn47Hoj9oImx4eqWgP+Ydp+hILqM/gMXhzK/mmD/QHmgFhqyePzi0yHa+n6Q/jF2iemtgpz/YFwltOZeaP5DLf0i/fZ0/KEnXTL7ZoD+QuMfShy6gP0TT2cngKKM/MM07TtGRjD90sP7PYb6kP1A1QdR9AJI/mKc65Ga4kT98J2a9GMqVPyDkg57Nqo8/cBKDwMqhnT9wuiwmNh+rP76HS447paM/dhppqbwdpz+g/UgRGVahP4AXfQVpxpY/JC2VtyOcpD/QV5BmLJqwPyBxj6UPXaQ/zAuwj05doT+cS3FV2XexPxhbCHJQwpw/NJNvtrkxpT8Qa/EpAMabP9iizAaZZJw/oBov3SQGgT94r1qZ8EuVP4ASZtr+lYU/WJ4Hd2ftoj8MKT+p9umgP3bIzXADPqk/8Lp+wW7Ylj8k6ZrJN9ukP5BS0O0ljZE/JI3ROqqaoD+ayTfb3JigP0bmkT8YeKQ/wKONI9bimz/gLZCg+DGeP9jr3R/vVZ8/mLcjnBa8kD+6ZvLNNjekP0CQgxJm2oY/WMAEbt3Nkz+0ccRafAqgP7Cd76fGS5c/SDygbMoVlj8=",
          "dtype": "f8"
         },
         "y0": " ",
         "yaxis": "y"
        },
        {
         "alignmentgroup": "True",
         "customdata": {
          "bdata": "CgoKCgoKCgoKCgoKCgoKCgoKCgoKCgoKCgoKCgoKCgoKCgoKCgoKCgoKCgoKCgoKCgoKCgoKCgoKCgoKCgoKCgoKCgoKCgoKCgoKCgoKCgoKCgoKCgoKCgoKCgoKCgoKCgoKCgoKCgoKCgoKCgoKCgoKCgoKCgoKCgoKCgo=",
          "dtype": "i1",
          "shape": "125, 1"
         },
         "hovertemplate": "<b>%{x}</b><br>AEROSOL: %{y:.4f}<br><extra></extra>",
         "legendgroup": "Mixed Garden(ID: 10)",
         "marker": {
          "color": "#FF6692"
         },
         "name": "Mixed Garden(ID: 10)",
         "notched": false,
         "offsetgroup": "Mixed Garden(ID: 10)",
         "orientation": "v",
         "showlegend": true,
         "type": "box",
         "x": [
          "Mixed Garden(ID: 10)",
          "Mixed Garden(ID: 10)",
          "Mixed Garden(ID: 10)",
          "Mixed Garden(ID: 10)",
          "Mixed Garden(ID: 10)",
          "Mixed Garden(ID: 10)",
          "Mixed Garden(ID: 10)",
          "Mixed Garden(ID: 10)",
          "Mixed Garden(ID: 10)",
          "Mixed Garden(ID: 10)",
          "Mixed Garden(ID: 10)",
          "Mixed Garden(ID: 10)",
          "Mixed Garden(ID: 10)",
          "Mixed Garden(ID: 10)",
          "Mixed Garden(ID: 10)",
          "Mixed Garden(ID: 10)",
          "Mixed Garden(ID: 10)",
          "Mixed Garden(ID: 10)",
          "Mixed Garden(ID: 10)",
          "Mixed Garden(ID: 10)",
          "Mixed Garden(ID: 10)",
          "Mixed Garden(ID: 10)",
          "Mixed Garden(ID: 10)",
          "Mixed Garden(ID: 10)",
          "Mixed Garden(ID: 10)",
          "Mixed Garden(ID: 10)",
          "Mixed Garden(ID: 10)",
          "Mixed Garden(ID: 10)",
          "Mixed Garden(ID: 10)",
          "Mixed Garden(ID: 10)",
          "Mixed Garden(ID: 10)",
          "Mixed Garden(ID: 10)",
          "Mixed Garden(ID: 10)",
          "Mixed Garden(ID: 10)",
          "Mixed Garden(ID: 10)",
          "Mixed Garden(ID: 10)",
          "Mixed Garden(ID: 10)",
          "Mixed Garden(ID: 10)",
          "Mixed Garden(ID: 10)",
          "Mixed Garden(ID: 10)",
          "Mixed Garden(ID: 10)",
          "Mixed Garden(ID: 10)",
          "Mixed Garden(ID: 10)",
          "Mixed Garden(ID: 10)",
          "Mixed Garden(ID: 10)",
          "Mixed Garden(ID: 10)",
          "Mixed Garden(ID: 10)",
          "Mixed Garden(ID: 10)",
          "Mixed Garden(ID: 10)",
          "Mixed Garden(ID: 10)",
          "Mixed Garden(ID: 10)",
          "Mixed Garden(ID: 10)",
          "Mixed Garden(ID: 10)",
          "Mixed Garden(ID: 10)",
          "Mixed Garden(ID: 10)",
          "Mixed Garden(ID: 10)",
          "Mixed Garden(ID: 10)",
          "Mixed Garden(ID: 10)",
          "Mixed Garden(ID: 10)",
          "Mixed Garden(ID: 10)",
          "Mixed Garden(ID: 10)",
          "Mixed Garden(ID: 10)",
          "Mixed Garden(ID: 10)",
          "Mixed Garden(ID: 10)",
          "Mixed Garden(ID: 10)",
          "Mixed Garden(ID: 10)",
          "Mixed Garden(ID: 10)",
          "Mixed Garden(ID: 10)",
          "Mixed Garden(ID: 10)",
          "Mixed Garden(ID: 10)",
          "Mixed Garden(ID: 10)",
          "Mixed Garden(ID: 10)",
          "Mixed Garden(ID: 10)",
          "Mixed Garden(ID: 10)",
          "Mixed Garden(ID: 10)",
          "Mixed Garden(ID: 10)",
          "Mixed Garden(ID: 10)",
          "Mixed Garden(ID: 10)",
          "Mixed Garden(ID: 10)",
          "Mixed Garden(ID: 10)",
          "Mixed Garden(ID: 10)",
          "Mixed Garden(ID: 10)",
          "Mixed Garden(ID: 10)",
          "Mixed Garden(ID: 10)",
          "Mixed Garden(ID: 10)",
          "Mixed Garden(ID: 10)",
          "Mixed Garden(ID: 10)",
          "Mixed Garden(ID: 10)",
          "Mixed Garden(ID: 10)",
          "Mixed Garden(ID: 10)",
          "Mixed Garden(ID: 10)",
          "Mixed Garden(ID: 10)",
          "Mixed Garden(ID: 10)",
          "Mixed Garden(ID: 10)",
          "Mixed Garden(ID: 10)",
          "Mixed Garden(ID: 10)",
          "Mixed Garden(ID: 10)",
          "Mixed Garden(ID: 10)",
          "Mixed Garden(ID: 10)",
          "Mixed Garden(ID: 10)",
          "Mixed Garden(ID: 10)",
          "Mixed Garden(ID: 10)",
          "Mixed Garden(ID: 10)",
          "Mixed Garden(ID: 10)",
          "Mixed Garden(ID: 10)",
          "Mixed Garden(ID: 10)",
          "Mixed Garden(ID: 10)",
          "Mixed Garden(ID: 10)",
          "Mixed Garden(ID: 10)",
          "Mixed Garden(ID: 10)",
          "Mixed Garden(ID: 10)",
          "Mixed Garden(ID: 10)",
          "Mixed Garden(ID: 10)",
          "Mixed Garden(ID: 10)",
          "Mixed Garden(ID: 10)",
          "Mixed Garden(ID: 10)",
          "Mixed Garden(ID: 10)",
          "Mixed Garden(ID: 10)",
          "Mixed Garden(ID: 10)",
          "Mixed Garden(ID: 10)",
          "Mixed Garden(ID: 10)",
          "Mixed Garden(ID: 10)",
          "Mixed Garden(ID: 10)",
          "Mixed Garden(ID: 10)",
          "Mixed Garden(ID: 10)"
         ],
         "x0": " ",
         "xaxis": "x",
         "y": {
          "bdata": "UDblCu9ynT9WJvxSP2+iPwqd19glqqk/sHJoke18qz8cFmpN846rP0DxY8xdS6A/dFQ1QdR9oD/AUpYhjnWtP0CfyJOka54/OHr83qY/qz98VwT/W8miPxj/PuPCgZg/wH0dOGdEmT+ktDf4wmSaP7jpz36kiKA/8Lg2VIzzhz/oOo20VN6qP9AKDFnd6pE/0N7gC5Oplj9QVz7L8+COP9TKhF/q56M/FcstrYbEsD/Idr6fGi+VP+DIPPIHA58/GOyGbYsylz8QI4RHG0eoPzylg/V/DrA/0mUxsfm4pD9oK/aX3ZOXP5gSSfQyiqM/hM5r7BLVkz+a5h2n6EioP/S0w1+TNaI/AG+BBMWPoT+AxeHMr+aYP6ARpb3BF64/4NHGEWvxmT9YrUz4pX6SP2CXqN4a2Jo/DIRkARO4lT8MoUrNHmihP7jpz36kiKA/dFQ1QdR9oD9kqmBUUiegPxxClZo90KY/oBABh1Clnj9Yngd3Z+2eP+D98V61Mq8/7F9ZaVIKnj/QZtXnaiuWP0g8oGzKFZY/LGowDcNHoD8QI4RHG0eoP+TB3Vm77Zo/QN6rVib8mj+gyJOkayarPwT6RJ4kXaM/NHaJ6q2BmT9IMxZNZyebP6wvEtpyLqE/kOTyH9Jvlz9AguLHmLuWP1i3ek5635g/4P3UeOkmcT8IhQg4hCqlP6QsQxzr4po/uGeWBKiplT9k83FtqBijPzBt/8pKk54/DOVEuwopoT9WKxN+qZ+lP0CbVZ+rrZA/hFrTvOMUpT/I155ZEqCgP6jKviuC/50/yF1LyAc9mz+8xi5RvTWgP9BkjXqIRoc/qEiFsYUglz9kRGlv8IWrPxAGnnsPl5w/GIF4Xb9gnz80rOKNzCObP3ww8Nx7uJA/4JOHhVrTrD/UDn9N1qijP+Bsc2N6wpo/+AZfmEwVoD84kst/SL+VP3SAYI4ev5c/JDs2AvG6oj/0PLg7a7ehP4SZtn9lpaE/aOwS1VsDmz9AMEeP39uYP+4ljdE6qqg/ZPNxbagYnz/A7J48LNSiP0jhehSuR50/RHwnZr0Yoj+QCmMLQQ6aP6xCyk+qfZ4/zNsRTgtelD889x4uOe6UP7B3f7xXrZQ/GGSSkbOwlz/gq1Ym/FKXP1xV9l0R/Js/Vib8Uj9voj+Mf59x4UCYPz4/jBAebaY/nDws1JrmmT+8xi5RvTWgPyiDo+TVOZY/+vIC7KNTqT8Q6bevA+eUP2AyVTAqqZs/GG7A54cRoj8Y0xOWeECdP6BZEqCmlqU/1OJTAIxnqD/E3LWEfNCfP8RkqmBUUp8/7IFWYMjqkj/00akrn+WpPw==",
          "dtype": "f8"
         },
         "y0": " ",
         "yaxis": "y"
        },
        {
         "alignmentgroup": "True",
         "customdata": {
          "bdata": "Dg4ODg4ODg4ODg4ODg4ODg4ODg4ODg4O",
          "dtype": "i1",
          "shape": "24, 1"
         },
         "hovertemplate": "<b>%{x}</b><br>AEROSOL: %{y:.4f}<br><extra></extra>",
         "legendgroup": "Rubber agroforest(ID: 14)",
         "marker": {
          "color": "#B6E880"
         },
         "name": "Rubber agroforest(ID: 14)",
         "notched": false,
         "offsetgroup": "Rubber agroforest(ID: 14)",
         "orientation": "v",
         "showlegend": true,
         "type": "box",
         "x": [
          "Rubber agroforest(ID: 14)",
          "Rubber agroforest(ID: 14)",
          "Rubber agroforest(ID: 14)",
          "Rubber agroforest(ID: 14)",
          "Rubber agroforest(ID: 14)",
          "Rubber agroforest(ID: 14)",
          "Rubber agroforest(ID: 14)",
          "Rubber agroforest(ID: 14)",
          "Rubber agroforest(ID: 14)",
          "Rubber agroforest(ID: 14)",
          "Rubber agroforest(ID: 14)",
          "Rubber agroforest(ID: 14)",
          "Rubber agroforest(ID: 14)",
          "Rubber agroforest(ID: 14)",
          "Rubber agroforest(ID: 14)",
          "Rubber agroforest(ID: 14)",
          "Rubber agroforest(ID: 14)",
          "Rubber agroforest(ID: 14)",
          "Rubber agroforest(ID: 14)",
          "Rubber agroforest(ID: 14)",
          "Rubber agroforest(ID: 14)",
          "Rubber agroforest(ID: 14)",
          "Rubber agroforest(ID: 14)",
          "Rubber agroforest(ID: 14)"
         ],
         "x0": " ",
         "xaxis": "x",
         "y": {
          "bdata": "SJkNMsnIqT+6IvjfSnakP5J0zeSbbaA/QlvOpbiqoj9kWMUbmUeeP8QbmUf+YJw/YHE486s5mD/AGMqJdhWaP/CUDtb/OZQ/CJRNucK7lD9wWvCiryCVP5DtfD81XpI/EK/rF+yGjT/oCUs8oGySP4CG/gkuVpw/QK1p3nGKjj8gXtcv2A2jPzC/mgMEc5w/4PjaM0sCrD80yCQjZ2GXPyhEwCFUqZk/vFetTPillj8A8kbmkT8ov1hpUgq6vaw/",
          "dtype": "f8"
         },
         "y0": " ",
         "yaxis": "y"
        },
        {
         "alignmentgroup": "True",
         "customdata": {
          "bdata": "CAgICAgICAgICAgICAgICAgICAgICAgICAgICAgICAgI",
          "dtype": "i1",
          "shape": "33, 1"
         },
         "hovertemplate": "<b>%{x}</b><br>AEROSOL: %{y:.4f}<br><extra></extra>",
         "legendgroup": "Logged Over Forest Low Density(ID: 8)",
         "marker": {
          "color": "#FF97FF"
         },
         "name": "Logged Over Forest Low Density(ID: 8)",
         "notched": false,
         "offsetgroup": "Logged Over Forest Low Density(ID: 8)",
         "orientation": "v",
         "showlegend": true,
         "type": "box",
         "x": [
          "Logged Over Forest Low Density(ID: 8)",
          "Logged Over Forest Low Density(ID: 8)",
          "Logged Over Forest Low Density(ID: 8)",
          "Logged Over Forest Low Density(ID: 8)",
          "Logged Over Forest Low Density(ID: 8)",
          "Logged Over Forest Low Density(ID: 8)",
          "Logged Over Forest Low Density(ID: 8)",
          "Logged Over Forest Low Density(ID: 8)",
          "Logged Over Forest Low Density(ID: 8)",
          "Logged Over Forest Low Density(ID: 8)",
          "Logged Over Forest Low Density(ID: 8)",
          "Logged Over Forest Low Density(ID: 8)",
          "Logged Over Forest Low Density(ID: 8)",
          "Logged Over Forest Low Density(ID: 8)",
          "Logged Over Forest Low Density(ID: 8)",
          "Logged Over Forest Low Density(ID: 8)",
          "Logged Over Forest Low Density(ID: 8)",
          "Logged Over Forest Low Density(ID: 8)",
          "Logged Over Forest Low Density(ID: 8)",
          "Logged Over Forest Low Density(ID: 8)",
          "Logged Over Forest Low Density(ID: 8)",
          "Logged Over Forest Low Density(ID: 8)",
          "Logged Over Forest Low Density(ID: 8)",
          "Logged Over Forest Low Density(ID: 8)",
          "Logged Over Forest Low Density(ID: 8)",
          "Logged Over Forest Low Density(ID: 8)",
          "Logged Over Forest Low Density(ID: 8)",
          "Logged Over Forest Low Density(ID: 8)",
          "Logged Over Forest Low Density(ID: 8)",
          "Logged Over Forest Low Density(ID: 8)",
          "Logged Over Forest Low Density(ID: 8)",
          "Logged Over Forest Low Density(ID: 8)",
          "Logged Over Forest Low Density(ID: 8)"
         ],
         "x0": " ",
         "xaxis": "x",
         "y": {
          "bdata": "OK+xS1RvnT+Yu5aQD3qePxjTE5Z4QJ0/iLX4FADjmT8skKD4MeaeP6Bx4UBIFpA/wIdLjjulnz8A93XgnBGdP/Dg7qzddpk/0MsolltalT8sajANw0egP/B7m/7sR5o/bFrwoq8glT/YheY6jbSUP9DyPLg7a6c/eAskKH6MmT94lufB3VmbP9SMRdPZyZg/EE4LXvQVlD+ItfgUAOOZP1B+Uu3T8ZQ/2PoioS3nkj+gtDf4wmSaP0BD/wQXK5o/DDLJyFnYlz8skKD4MeaiP3CKjuTyH54/EMzR4/c2pz/2Bl+YTBWgP5i7lpAPeqI/4gFlU67wpj80/n3GhQOZP7C61XPS+6I/",
          "dtype": "f8"
         },
         "y0": " ",
         "yaxis": "y"
        },
        {
         "alignmentgroup": "True",
         "customdata": {
          "bdata": "ERERERERERERERE=",
          "dtype": "i1",
          "shape": "11, 1"
         },
         "hovertemplate": "<b>%{x}</b><br>AEROSOL: %{y:.4f}<br><extra></extra>",
         "legendgroup": "Shrub(ID: 17)",
         "marker": {
          "color": "#FECB52"
         },
         "name": "Shrub(ID: 17)",
         "notched": false,
         "offsetgroup": "Shrub(ID: 17)",
         "orientation": "v",
         "showlegend": true,
         "type": "box",
         "x": [
          "Shrub(ID: 17)",
          "Shrub(ID: 17)",
          "Shrub(ID: 17)",
          "Shrub(ID: 17)",
          "Shrub(ID: 17)",
          "Shrub(ID: 17)",
          "Shrub(ID: 17)",
          "Shrub(ID: 17)",
          "Shrub(ID: 17)",
          "Shrub(ID: 17)",
          "Shrub(ID: 17)"
         ],
         "x0": " ",
         "xaxis": "x",
         "y": {
          "bdata": "CLEzhc5rnD/QUnk7wmmjP/ByEd+JWaM/SM7Cnnb4mz+oD11Q3zKTPzgyj/zBwIs/wEhoy7kUsT8gWcAEbt2NPyigibDh6Z0/sHMMyF7vjj+gq63YX3afPw==",
          "dtype": "f8"
         },
         "y0": " ",
         "yaxis": "y"
        },
        {
         "alignmentgroup": "True",
         "customdata": {
          "bdata": "BgYGBgYGBgYGBgYGBgYGBgYGBgYG",
          "dtype": "i1",
          "shape": "21, 1"
         },
         "hovertemplate": "<b>%{x}</b><br>AEROSOL: %{y:.4f}<br><extra></extra>",
         "legendgroup": "Grass(ID: 6)",
         "marker": {
          "color": "#636efa"
         },
         "name": "Grass(ID: 6)",
         "notched": false,
         "offsetgroup": "Grass(ID: 6)",
         "orientation": "v",
         "showlegend": true,
         "type": "box",
         "x": [
          "Grass(ID: 6)",
          "Grass(ID: 6)",
          "Grass(ID: 6)",
          "Grass(ID: 6)",
          "Grass(ID: 6)",
          "Grass(ID: 6)",
          "Grass(ID: 6)",
          "Grass(ID: 6)",
          "Grass(ID: 6)",
          "Grass(ID: 6)",
          "Grass(ID: 6)",
          "Grass(ID: 6)",
          "Grass(ID: 6)",
          "Grass(ID: 6)",
          "Grass(ID: 6)",
          "Grass(ID: 6)",
          "Grass(ID: 6)",
          "Grass(ID: 6)",
          "Grass(ID: 6)",
          "Grass(ID: 6)",
          "Grass(ID: 6)"
         ],
         "x0": " ",
         "xaxis": "x",
         "y": {
          "bdata": "nPS+8bVnpj9wKa4q+66IPwDLSpNS0KU/yLCKNzKPqD/Yo3A9CterP+g6jbRU3qo/qKROQBNhmz8i1uJTAIyjP9hQMc7fhJ4/EL2MYrmlmT+WrfVFQlukP6DqkJvhBpw/2D15WKg1nT+Ij4gpkUSXP3z7OnDOiJo/XhH8byU7oD/g0cYRa/GZPyhO7ncoCqQ/WJ4Hd2ftnj/InC6Lic2XP8xm1edqK5Y/",
          "dtype": "f8"
         },
         "y0": " ",
         "yaxis": "y"
        },
        {
         "alignmentgroup": "True",
         "customdata": {
          "bdata": "CQkJCQkJCQkJCQkJCQ==",
          "dtype": "i1",
          "shape": "13, 1"
         },
         "hovertemplate": "<b>%{x}</b><br>AEROSOL: %{y:.4f}<br><extra></extra>",
         "legendgroup": "Logged over swamp forest(ID: 9)",
         "marker": {
          "color": "#EF553B"
         },
         "name": "Logged over swamp forest(ID: 9)",
         "notched": false,
         "offsetgroup": "Logged over swamp forest(ID: 9)",
         "orientation": "v",
         "showlegend": true,
         "type": "box",
         "x": [
          "Logged over swamp forest(ID: 9)",
          "Logged over swamp forest(ID: 9)",
          "Logged over swamp forest(ID: 9)",
          "Logged over swamp forest(ID: 9)",
          "Logged over swamp forest(ID: 9)",
          "Logged over swamp forest(ID: 9)",
          "Logged over swamp forest(ID: 9)",
          "Logged over swamp forest(ID: 9)",
          "Logged over swamp forest(ID: 9)",
          "Logged over swamp forest(ID: 9)",
          "Logged over swamp forest(ID: 9)",
          "Logged over swamp forest(ID: 9)",
          "Logged over swamp forest(ID: 9)"
         ],
         "x0": " ",
         "xaxis": "x",
         "y": {
          "bdata": "bOLkfoeilD/Qlc/yPLiTP+jZrPpcbaM/TNGRXP5Dnj+4s3bbheaaPyaloNtLGqU/mHyzzY3ppT/snjws1JqaPwBcyY6NQKA/KE7udygKpD9MFYxK6gSiP/DXZI16iJ4/CJRNucK7lD8=",
          "dtype": "f8"
         },
         "y0": " ",
         "yaxis": "y"
        },
        {
         "alignmentgroup": "True",
         "customdata": {
          "bdata": "BwcH",
          "dtype": "i1",
          "shape": "3, 1"
         },
         "hovertemplate": "<b>%{x}</b><br>AEROSOL: %{y:.4f}<br><extra></extra>",
         "legendgroup": "Logged over forest-high density(ID: 7)",
         "marker": {
          "color": "#00cc96"
         },
         "name": "Logged over forest-high density(ID: 7)",
         "notched": false,
         "offsetgroup": "Logged over forest-high density(ID: 7)",
         "orientation": "v",
         "showlegend": true,
         "type": "box",
         "x": [
          "Logged over forest-high density(ID: 7)",
          "Logged over forest-high density(ID: 7)",
          "Logged over forest-high density(ID: 7)"
         ],
         "x0": " ",
         "xaxis": "x",
         "y": {
          "bdata": "CF+YTBWMnj/AfR04Z0SZP7CnHf6arKE/",
          "dtype": "f8"
         },
         "y0": " ",
         "yaxis": "y"
        },
        {
         "alignmentgroup": "True",
         "customdata": {
          "bdata": "BQUFBQUFBQUFBQUFBQUFBQUFBQUFBQUFBQUFBQUF",
          "dtype": "i1",
          "shape": "30, 1"
         },
         "hovertemplate": "<b>%{x}</b><br>AEROSOL: %{y:.4f}<br><extra></extra>",
         "legendgroup": "Coffee Agroforest(ID: 5)",
         "marker": {
          "color": "#ab63fa"
         },
         "name": "Coffee Agroforest(ID: 5)",
         "notched": false,
         "offsetgroup": "Coffee Agroforest(ID: 5)",
         "orientation": "v",
         "showlegend": true,
         "type": "box",
         "x": [
          "Coffee Agroforest(ID: 5)",
          "Coffee Agroforest(ID: 5)",
          "Coffee Agroforest(ID: 5)",
          "Coffee Agroforest(ID: 5)",
          "Coffee Agroforest(ID: 5)",
          "Coffee Agroforest(ID: 5)",
          "Coffee Agroforest(ID: 5)",
          "Coffee Agroforest(ID: 5)",
          "Coffee Agroforest(ID: 5)",
          "Coffee Agroforest(ID: 5)",
          "Coffee Agroforest(ID: 5)",
          "Coffee Agroforest(ID: 5)",
          "Coffee Agroforest(ID: 5)",
          "Coffee Agroforest(ID: 5)",
          "Coffee Agroforest(ID: 5)",
          "Coffee Agroforest(ID: 5)",
          "Coffee Agroforest(ID: 5)",
          "Coffee Agroforest(ID: 5)",
          "Coffee Agroforest(ID: 5)",
          "Coffee Agroforest(ID: 5)",
          "Coffee Agroforest(ID: 5)",
          "Coffee Agroforest(ID: 5)",
          "Coffee Agroforest(ID: 5)",
          "Coffee Agroforest(ID: 5)",
          "Coffee Agroforest(ID: 5)",
          "Coffee Agroforest(ID: 5)",
          "Coffee Agroforest(ID: 5)",
          "Coffee Agroforest(ID: 5)",
          "Coffee Agroforest(ID: 5)",
          "Coffee Agroforest(ID: 5)"
         ],
         "x0": " ",
         "xaxis": "x",
         "y": {
          "bdata": "3IXmOo20lD8oUmFsIciJPx5LH7qgvqE/6Ojxe5v+rD84JO6x9KGbP6Tap+MxA50/qJGWytsRmj+w3NJqSNyTP6CReeQPBm4/IA6EZAETeL+Qo8fvbfqLP6iiBtMwfIw/KMed0sH6hz8wzTtO0ZGMP9glqrcGtoo/4Iwo7Q2+gD+AeohGdxB7P8B78rBQa2o/wHvysFBraj/wBwPPvYeDP4gvTKYKRo0/xJOkaybfnD/gEKrU7IGWP/izHykiw5I/EGHD0ytllT9IFjCBW3eTP/BKWYY41o0/4LhTOlj/nz/YPXlYqDWdP0jXTL7Z5pY/",
          "dtype": "f8"
         },
         "y0": " ",
         "yaxis": "y"
        },
        {
         "alignmentgroup": "True",
         "customdata": {
          "bdata": "BAQEBA==",
          "dtype": "i1",
          "shape": "4, 1"
         },
         "hovertemplate": "<b>%{x}</b><br>AEROSOL: %{y:.4f}<br><extra></extra>",
         "legendgroup": "Coconut monoculture(ID: 4)",
         "marker": {
          "color": "#FFA15A"
         },
         "name": "Coconut monoculture(ID: 4)",
         "notched": false,
         "offsetgroup": "Coconut monoculture(ID: 4)",
         "orientation": "v",
         "showlegend": true,
         "type": "box",
         "x": [
          "Coconut monoculture(ID: 4)",
          "Coconut monoculture(ID: 4)",
          "Coconut monoculture(ID: 4)",
          "Coconut monoculture(ID: 4)"
         ],
         "x0": " ",
         "xaxis": "x",
         "y": {
          "bdata": "sGg6OxkcpT8Anx9GCI+qP1jiAWVTrqI/PDp15bM8nz8=",
          "dtype": "f8"
         },
         "y0": " ",
         "yaxis": "y"
        },
        {
         "alignmentgroup": "True",
         "customdata": {
          "bdata": "DAwMDAwMDAwMDAwMDAw=",
          "dtype": "i1",
          "shape": "14, 1"
         },
         "hovertemplate": "<b>%{x}</b><br>AEROSOL: %{y:.4f}<br><extra></extra>",
         "legendgroup": "Other Crops(ID: 12)",
         "marker": {
          "color": "#19d3f3"
         },
         "name": "Other Crops(ID: 12)",
         "notched": false,
         "offsetgroup": "Other Crops(ID: 12)",
         "orientation": "v",
         "showlegend": true,
         "type": "box",
         "x": [
          "Other Crops(ID: 12)",
          "Other Crops(ID: 12)",
          "Other Crops(ID: 12)",
          "Other Crops(ID: 12)",
          "Other Crops(ID: 12)",
          "Other Crops(ID: 12)",
          "Other Crops(ID: 12)",
          "Other Crops(ID: 12)",
          "Other Crops(ID: 12)",
          "Other Crops(ID: 12)",
          "Other Crops(ID: 12)",
          "Other Crops(ID: 12)",
          "Other Crops(ID: 12)",
          "Other Crops(ID: 12)"
         ],
         "x0": " ",
         "xaxis": "x",
         "y": {
          "bdata": "eBA7U+i8oD9gS8gHPZuVP+B/K9mxEaA/IEsfuqC+oT8QqtTsgVaYP5i7lpAPep4/ALLXuz/egz+wcmiR7XyrP6A7iJ0pdI6/cHWOAdnrjT+qeCPzyB+kP7wi+N9KdqQ/qCxDHOvimj/kAWVTrvCmPw==",
          "dtype": "f8"
         },
         "y0": " ",
         "yaxis": "y"
        },
        {
         "alignmentgroup": "True",
         "customdata": {
          "bdata": "AwMDAwMDAwMDAwMDAwM=",
          "dtype": "i1",
          "shape": "14, 1"
         },
         "hovertemplate": "<b>%{x}</b><br>AEROSOL: %{y:.4f}<br><extra></extra>",
         "legendgroup": "Cleared Land(ID: 3)",
         "marker": {
          "color": "#FF6692"
         },
         "name": "Cleared Land(ID: 3)",
         "notched": false,
         "offsetgroup": "Cleared Land(ID: 3)",
         "orientation": "v",
         "showlegend": true,
         "type": "box",
         "x": [
          "Cleared Land(ID: 3)",
          "Cleared Land(ID: 3)",
          "Cleared Land(ID: 3)",
          "Cleared Land(ID: 3)",
          "Cleared Land(ID: 3)",
          "Cleared Land(ID: 3)",
          "Cleared Land(ID: 3)",
          "Cleared Land(ID: 3)",
          "Cleared Land(ID: 3)",
          "Cleared Land(ID: 3)",
          "Cleared Land(ID: 3)",
          "Cleared Land(ID: 3)",
          "Cleared Land(ID: 3)",
          "Cleared Land(ID: 3)"
         ],
         "x0": " ",
         "xaxis": "x",
         "y": {
          "bdata": "cM6I0t7goT9q3nGKjuSgP3wxlBPtKqA/aGFPO/w1mT/QHcTOFDqTPxhIUPwYc5s/oGKcvwmFnD9g83FtqBifPwjOGVHaG6g/sJRliGNdnD84+MJkqmCkP9xGA3gLJJg/LH3ogvqWoT/kriXkg56ZPw==",
          "dtype": "f8"
         },
         "y0": " ",
         "yaxis": "y"
        },
        {
         "alignmentgroup": "True",
         "customdata": {
          "bdata": "EhISEhI=",
          "dtype": "i1",
          "shape": "5, 1"
         },
         "hovertemplate": "<b>%{x}</b><br>AEROSOL: %{y:.4f}<br><extra></extra>",
         "legendgroup": "Tea plantation(ID: 18)",
         "marker": {
          "color": "#B6E880"
         },
         "name": "Tea plantation(ID: 18)",
         "notched": false,
         "offsetgroup": "Tea plantation(ID: 18)",
         "orientation": "v",
         "showlegend": true,
         "type": "box",
         "x": [
          "Tea plantation(ID: 18)",
          "Tea plantation(ID: 18)",
          "Tea plantation(ID: 18)",
          "Tea plantation(ID: 18)",
          "Tea plantation(ID: 18)"
         ],
         "x0": " ",
         "xaxis": "x",
         "y": {
          "bdata": "KIwtBDkokT+opfJ2hNOCPzQRNjy9Upo/cOrKZ3kejD8gAMYzaOh/Pw==",
          "dtype": "f8"
         },
         "y0": " ",
         "yaxis": "y"
        },
        {
         "alignmentgroup": "True",
         "customdata": {
          "bdata": "AgICAgICAgICAgICAgICAgICAgIC",
          "dtype": "i1",
          "shape": "21, 1"
         },
         "hovertemplate": "<b>%{x}</b><br>AEROSOL: %{y:.4f}<br><extra></extra>",
         "legendgroup": "Cane(ID: 2)",
         "marker": {
          "color": "#FF97FF"
         },
         "name": "Cane(ID: 2)",
         "notched": false,
         "offsetgroup": "Cane(ID: 2)",
         "orientation": "v",
         "showlegend": true,
         "type": "box",
         "x": [
          "Cane(ID: 2)",
          "Cane(ID: 2)",
          "Cane(ID: 2)",
          "Cane(ID: 2)",
          "Cane(ID: 2)",
          "Cane(ID: 2)",
          "Cane(ID: 2)",
          "Cane(ID: 2)",
          "Cane(ID: 2)",
          "Cane(ID: 2)",
          "Cane(ID: 2)",
          "Cane(ID: 2)",
          "Cane(ID: 2)",
          "Cane(ID: 2)",
          "Cane(ID: 2)",
          "Cane(ID: 2)",
          "Cane(ID: 2)",
          "Cane(ID: 2)",
          "Cane(ID: 2)",
          "Cane(ID: 2)",
          "Cane(ID: 2)"
         ],
         "x0": " ",
         "xaxis": "x",
         "y": {
          "bdata": "3P6VlSalpD+wnpPeN76mP4BlpUkp6KA/cKvnpPeNjz+gWRKgppalP9j6IqEt55I/OFSM8zehqD9IPKBsyhWWP2Ysms5OBqc/0nmNXaJ6sD9Yngd3Z+2eP1DHYwYq45c/1PvG155Zoj+waDo7GRylPwhe9BWkGa0/aPz7jAsHmj9UXFX2XRGkP8TJ/Q5FgZ4/EojX9Qt2pz9YTGw+rg2lP0xZhjjWxaE/",
          "dtype": "f8"
         },
         "y0": " ",
         "yaxis": "y"
        }
       ],
       "layout": {
        "boxmode": "overlay",
        "height": 500,
        "hovermode": "closest",
        "legend": {
         "title": {
          "text": "Class"
         },
         "tracegroupgap": 0
        },
        "showlegend": false,
        "template": {
         "data": {
          "bar": [
           {
            "error_x": {
             "color": "#2a3f5f"
            },
            "error_y": {
             "color": "#2a3f5f"
            },
            "marker": {
             "line": {
              "color": "white",
              "width": 0.5
             },
             "pattern": {
              "fillmode": "overlay",
              "size": 10,
              "solidity": 0.2
             }
            },
            "type": "bar"
           }
          ],
          "barpolar": [
           {
            "marker": {
             "line": {
              "color": "white",
              "width": 0.5
             },
             "pattern": {
              "fillmode": "overlay",
              "size": 10,
              "solidity": 0.2
             }
            },
            "type": "barpolar"
           }
          ],
          "carpet": [
           {
            "aaxis": {
             "endlinecolor": "#2a3f5f",
             "gridcolor": "#C8D4E3",
             "linecolor": "#C8D4E3",
             "minorgridcolor": "#C8D4E3",
             "startlinecolor": "#2a3f5f"
            },
            "baxis": {
             "endlinecolor": "#2a3f5f",
             "gridcolor": "#C8D4E3",
             "linecolor": "#C8D4E3",
             "minorgridcolor": "#C8D4E3",
             "startlinecolor": "#2a3f5f"
            },
            "type": "carpet"
           }
          ],
          "choropleth": [
           {
            "colorbar": {
             "outlinewidth": 0,
             "ticks": ""
            },
            "type": "choropleth"
           }
          ],
          "contour": [
           {
            "colorbar": {
             "outlinewidth": 0,
             "ticks": ""
            },
            "colorscale": [
             [
              0,
              "#0d0887"
             ],
             [
              0.1111111111111111,
              "#46039f"
             ],
             [
              0.2222222222222222,
              "#7201a8"
             ],
             [
              0.3333333333333333,
              "#9c179e"
             ],
             [
              0.4444444444444444,
              "#bd3786"
             ],
             [
              0.5555555555555556,
              "#d8576b"
             ],
             [
              0.6666666666666666,
              "#ed7953"
             ],
             [
              0.7777777777777778,
              "#fb9f3a"
             ],
             [
              0.8888888888888888,
              "#fdca26"
             ],
             [
              1,
              "#f0f921"
             ]
            ],
            "type": "contour"
           }
          ],
          "contourcarpet": [
           {
            "colorbar": {
             "outlinewidth": 0,
             "ticks": ""
            },
            "type": "contourcarpet"
           }
          ],
          "heatmap": [
           {
            "colorbar": {
             "outlinewidth": 0,
             "ticks": ""
            },
            "colorscale": [
             [
              0,
              "#0d0887"
             ],
             [
              0.1111111111111111,
              "#46039f"
             ],
             [
              0.2222222222222222,
              "#7201a8"
             ],
             [
              0.3333333333333333,
              "#9c179e"
             ],
             [
              0.4444444444444444,
              "#bd3786"
             ],
             [
              0.5555555555555556,
              "#d8576b"
             ],
             [
              0.6666666666666666,
              "#ed7953"
             ],
             [
              0.7777777777777778,
              "#fb9f3a"
             ],
             [
              0.8888888888888888,
              "#fdca26"
             ],
             [
              1,
              "#f0f921"
             ]
            ],
            "type": "heatmap"
           }
          ],
          "histogram": [
           {
            "marker": {
             "pattern": {
              "fillmode": "overlay",
              "size": 10,
              "solidity": 0.2
             }
            },
            "type": "histogram"
           }
          ],
          "histogram2d": [
           {
            "colorbar": {
             "outlinewidth": 0,
             "ticks": ""
            },
            "colorscale": [
             [
              0,
              "#0d0887"
             ],
             [
              0.1111111111111111,
              "#46039f"
             ],
             [
              0.2222222222222222,
              "#7201a8"
             ],
             [
              0.3333333333333333,
              "#9c179e"
             ],
             [
              0.4444444444444444,
              "#bd3786"
             ],
             [
              0.5555555555555556,
              "#d8576b"
             ],
             [
              0.6666666666666666,
              "#ed7953"
             ],
             [
              0.7777777777777778,
              "#fb9f3a"
             ],
             [
              0.8888888888888888,
              "#fdca26"
             ],
             [
              1,
              "#f0f921"
             ]
            ],
            "type": "histogram2d"
           }
          ],
          "histogram2dcontour": [
           {
            "colorbar": {
             "outlinewidth": 0,
             "ticks": ""
            },
            "colorscale": [
             [
              0,
              "#0d0887"
             ],
             [
              0.1111111111111111,
              "#46039f"
             ],
             [
              0.2222222222222222,
              "#7201a8"
             ],
             [
              0.3333333333333333,
              "#9c179e"
             ],
             [
              0.4444444444444444,
              "#bd3786"
             ],
             [
              0.5555555555555556,
              "#d8576b"
             ],
             [
              0.6666666666666666,
              "#ed7953"
             ],
             [
              0.7777777777777778,
              "#fb9f3a"
             ],
             [
              0.8888888888888888,
              "#fdca26"
             ],
             [
              1,
              "#f0f921"
             ]
            ],
            "type": "histogram2dcontour"
           }
          ],
          "mesh3d": [
           {
            "colorbar": {
             "outlinewidth": 0,
             "ticks": ""
            },
            "type": "mesh3d"
           }
          ],
          "parcoords": [
           {
            "line": {
             "colorbar": {
              "outlinewidth": 0,
              "ticks": ""
             }
            },
            "type": "parcoords"
           }
          ],
          "pie": [
           {
            "automargin": true,
            "type": "pie"
           }
          ],
          "scatter": [
           {
            "fillpattern": {
             "fillmode": "overlay",
             "size": 10,
             "solidity": 0.2
            },
            "type": "scatter"
           }
          ],
          "scatter3d": [
           {
            "line": {
             "colorbar": {
              "outlinewidth": 0,
              "ticks": ""
             }
            },
            "marker": {
             "colorbar": {
              "outlinewidth": 0,
              "ticks": ""
             }
            },
            "type": "scatter3d"
           }
          ],
          "scattercarpet": [
           {
            "marker": {
             "colorbar": {
              "outlinewidth": 0,
              "ticks": ""
             }
            },
            "type": "scattercarpet"
           }
          ],
          "scattergeo": [
           {
            "marker": {
             "colorbar": {
              "outlinewidth": 0,
              "ticks": ""
             }
            },
            "type": "scattergeo"
           }
          ],
          "scattergl": [
           {
            "marker": {
             "colorbar": {
              "outlinewidth": 0,
              "ticks": ""
             }
            },
            "type": "scattergl"
           }
          ],
          "scattermap": [
           {
            "marker": {
             "colorbar": {
              "outlinewidth": 0,
              "ticks": ""
             }
            },
            "type": "scattermap"
           }
          ],
          "scattermapbox": [
           {
            "marker": {
             "colorbar": {
              "outlinewidth": 0,
              "ticks": ""
             }
            },
            "type": "scattermapbox"
           }
          ],
          "scatterpolar": [
           {
            "marker": {
             "colorbar": {
              "outlinewidth": 0,
              "ticks": ""
             }
            },
            "type": "scatterpolar"
           }
          ],
          "scatterpolargl": [
           {
            "marker": {
             "colorbar": {
              "outlinewidth": 0,
              "ticks": ""
             }
            },
            "type": "scatterpolargl"
           }
          ],
          "scatterternary": [
           {
            "marker": {
             "colorbar": {
              "outlinewidth": 0,
              "ticks": ""
             }
            },
            "type": "scatterternary"
           }
          ],
          "surface": [
           {
            "colorbar": {
             "outlinewidth": 0,
             "ticks": ""
            },
            "colorscale": [
             [
              0,
              "#0d0887"
             ],
             [
              0.1111111111111111,
              "#46039f"
             ],
             [
              0.2222222222222222,
              "#7201a8"
             ],
             [
              0.3333333333333333,
              "#9c179e"
             ],
             [
              0.4444444444444444,
              "#bd3786"
             ],
             [
              0.5555555555555556,
              "#d8576b"
             ],
             [
              0.6666666666666666,
              "#ed7953"
             ],
             [
              0.7777777777777778,
              "#fb9f3a"
             ],
             [
              0.8888888888888888,
              "#fdca26"
             ],
             [
              1,
              "#f0f921"
             ]
            ],
            "type": "surface"
           }
          ],
          "table": [
           {
            "cells": {
             "fill": {
              "color": "#EBF0F8"
             },
             "line": {
              "color": "white"
             }
            },
            "header": {
             "fill": {
              "color": "#C8D4E3"
             },
             "line": {
              "color": "white"
             }
            },
            "type": "table"
           }
          ]
         },
         "layout": {
          "annotationdefaults": {
           "arrowcolor": "#2a3f5f",
           "arrowhead": 0,
           "arrowwidth": 1
          },
          "autotypenumbers": "strict",
          "coloraxis": {
           "colorbar": {
            "outlinewidth": 0,
            "ticks": ""
           }
          },
          "colorscale": {
           "diverging": [
            [
             0,
             "#8e0152"
            ],
            [
             0.1,
             "#c51b7d"
            ],
            [
             0.2,
             "#de77ae"
            ],
            [
             0.3,
             "#f1b6da"
            ],
            [
             0.4,
             "#fde0ef"
            ],
            [
             0.5,
             "#f7f7f7"
            ],
            [
             0.6,
             "#e6f5d0"
            ],
            [
             0.7,
             "#b8e186"
            ],
            [
             0.8,
             "#7fbc41"
            ],
            [
             0.9,
             "#4d9221"
            ],
            [
             1,
             "#276419"
            ]
           ],
           "sequential": [
            [
             0,
             "#0d0887"
            ],
            [
             0.1111111111111111,
             "#46039f"
            ],
            [
             0.2222222222222222,
             "#7201a8"
            ],
            [
             0.3333333333333333,
             "#9c179e"
            ],
            [
             0.4444444444444444,
             "#bd3786"
            ],
            [
             0.5555555555555556,
             "#d8576b"
            ],
            [
             0.6666666666666666,
             "#ed7953"
            ],
            [
             0.7777777777777778,
             "#fb9f3a"
            ],
            [
             0.8888888888888888,
             "#fdca26"
            ],
            [
             1,
             "#f0f921"
            ]
           ],
           "sequentialminus": [
            [
             0,
             "#0d0887"
            ],
            [
             0.1111111111111111,
             "#46039f"
            ],
            [
             0.2222222222222222,
             "#7201a8"
            ],
            [
             0.3333333333333333,
             "#9c179e"
            ],
            [
             0.4444444444444444,
             "#bd3786"
            ],
            [
             0.5555555555555556,
             "#d8576b"
            ],
            [
             0.6666666666666666,
             "#ed7953"
            ],
            [
             0.7777777777777778,
             "#fb9f3a"
            ],
            [
             0.8888888888888888,
             "#fdca26"
            ],
            [
             1,
             "#f0f921"
            ]
           ]
          },
          "colorway": [
           "#636efa",
           "#EF553B",
           "#00cc96",
           "#ab63fa",
           "#FFA15A",
           "#19d3f3",
           "#FF6692",
           "#B6E880",
           "#FF97FF",
           "#FECB52"
          ],
          "font": {
           "color": "#2a3f5f"
          },
          "geo": {
           "bgcolor": "white",
           "lakecolor": "white",
           "landcolor": "white",
           "showlakes": true,
           "showland": true,
           "subunitcolor": "#C8D4E3"
          },
          "hoverlabel": {
           "align": "left"
          },
          "hovermode": "closest",
          "mapbox": {
           "style": "light"
          },
          "paper_bgcolor": "white",
          "plot_bgcolor": "white",
          "polar": {
           "angularaxis": {
            "gridcolor": "#EBF0F8",
            "linecolor": "#EBF0F8",
            "ticks": ""
           },
           "bgcolor": "white",
           "radialaxis": {
            "gridcolor": "#EBF0F8",
            "linecolor": "#EBF0F8",
            "ticks": ""
           }
          },
          "scene": {
           "xaxis": {
            "backgroundcolor": "white",
            "gridcolor": "#DFE8F3",
            "gridwidth": 2,
            "linecolor": "#EBF0F8",
            "showbackground": true,
            "ticks": "",
            "zerolinecolor": "#EBF0F8"
           },
           "yaxis": {
            "backgroundcolor": "white",
            "gridcolor": "#DFE8F3",
            "gridwidth": 2,
            "linecolor": "#EBF0F8",
            "showbackground": true,
            "ticks": "",
            "zerolinecolor": "#EBF0F8"
           },
           "zaxis": {
            "backgroundcolor": "white",
            "gridcolor": "#DFE8F3",
            "gridwidth": 2,
            "linecolor": "#EBF0F8",
            "showbackground": true,
            "ticks": "",
            "zerolinecolor": "#EBF0F8"
           }
          },
          "shapedefaults": {
           "line": {
            "color": "#2a3f5f"
           }
          },
          "ternary": {
           "aaxis": {
            "gridcolor": "#DFE8F3",
            "linecolor": "#A2B1C6",
            "ticks": ""
           },
           "baxis": {
            "gridcolor": "#DFE8F3",
            "linecolor": "#A2B1C6",
            "ticks": ""
           },
           "bgcolor": "white",
           "caxis": {
            "gridcolor": "#DFE8F3",
            "linecolor": "#A2B1C6",
            "ticks": ""
           }
          },
          "title": {
           "x": 0.05
          },
          "xaxis": {
           "automargin": true,
           "gridcolor": "#EBF0F8",
           "linecolor": "#EBF0F8",
           "ticks": "",
           "title": {
            "standoff": 15
           },
           "zerolinecolor": "#EBF0F8",
           "zerolinewidth": 2
          },
          "yaxis": {
           "automargin": true,
           "gridcolor": "#EBF0F8",
           "linecolor": "#EBF0F8",
           "ticks": "",
           "title": {
            "standoff": 15
           },
           "zerolinecolor": "#EBF0F8",
           "zerolinewidth": 2
          }
         }
        },
        "title": {
         "text": "Boxplot of AEROSOL by Class"
        },
        "xaxis": {
         "anchor": "y",
         "categoryarray": [
          "Rubber monoculture(ID: 15)",
          "Settlement(ID: 16)",
          "Oil palm monoculture(ID: 11)",
          "Water Body(ID: 19)",
          "Acacia plantation(ID: 1)",
          "Rice Field(ID: 13)",
          "Mixed Garden(ID: 10)",
          "Rubber agroforest(ID: 14)",
          "Logged Over Forest Low Density(ID: 8)",
          "Shrub(ID: 17)",
          "Grass(ID: 6)",
          "Logged over swamp forest(ID: 9)",
          "Logged over forest-high density(ID: 7)",
          "Coffee Agroforest(ID: 5)",
          "Coconut monoculture(ID: 4)",
          "Other Crops(ID: 12)",
          "Cleared Land(ID: 3)",
          "Tea plantation(ID: 18)",
          "Cane(ID: 2)"
         ],
         "categoryorder": "array",
         "domain": [
          0,
          1
         ],
         "tickangle": -45,
         "title": {
          "text": "Class"
         }
        },
        "yaxis": {
         "anchor": "x",
         "domain": [
          0,
          1
         ],
         "title": {
          "text": "AEROSOL Reflectance"
         }
        }
       }
      }
     },
     "metadata": {},
     "output_type": "display_data"
    },
    {
     "data": {
      "application/vnd.plotly.v1+json": {
       "config": {
        "plotlyServerURL": "https://plot.ly"
       },
       "data": [
        {
         "alignmentgroup": "True",
         "customdata": {
          "bdata": "Dw8PDw8PDw8PDw8PDw8PDw8PDw8PDw8PDw8PDw8PDw8PDw8PDw8PDw8PDw8PDw8PDw8PDw8PDw8PDw8PDw8PDw8PDw8PDw8PDw8PDw8PDw8PDw8PDw8PDw8PDw8PDw8PDw8PDw8PDw8PDw8PDw8PDw8PDw8PDw8PDw8PDw8PDw8PDw8PDw8PDw8PDw8PDw8PDw8PDw8PDw8PDw8PDw8PDw8PDw8PDw8PDw8PDw8PDw8PDw8PDw8PDw8PDw8PDw8PDw8PDw8PDw8PDw8PDw8PDw8PDw8PDw8PDw8PDw8PDw8PDw8PDw8PDw8PDw8PDw8PDw8PDw8PDw8PDw8PDw8PDw8PDw8PDw8PDw8PDw8PDw8PDw8PDw8PDw8PDw8PDw8PDw8PDw8PDw8PDw8PDw8PDw8PDw8PDw8PDw8PDw8PDw8PDw8PDw8PDw8PDw8PDw8PDw8PDw8PDw8PDw8PDw8PDw8PDw8PDw8PDw8PDw8PDw8PDw8PDw8PDw8PDw8PDw8PDw8PDw8PDw8PDw8PDw8PDw8PDw8PDw8PDw8PDw8PDw8PDw8PDw8PDw8PDw8PDw8PDw8PDw8PDw8PDw8PDw8PDw8PDw8PDw8PDw8PDw8PDw8PDw8PDw8PDw8PDw8PDw8PDw8PDw8PDw8PDw8PDw8PDw8PDw8PDw8PDw8PDw8PDw8PDw8PDw8PDw8PDw8PDw8PDw8PDw8PDw8PDw8PDw8PDw8PDw8PDw8PDw8PDw8PDw8PDw8PDw8PDw8PDw8PDw8PDw8PDw8PDw8PDw8PDw8PDw8PDw8PDw8PDw8PDw8PDw8PDw8PDw8PDw8PDw8PDw8PDw8PDw8PDw8PDw8PDw8PDw8PDw8PDw8PDw8PDw8PDw8PDw8PDw8PDw8PDw8PDw8PDw8PDw8PDw8PDw8PDw8PDw8PDw8PDw8PDw8PDw8PDw8PDw8PDw8PDw8PDw8PDw8PDw8P",
          "dtype": "i1",
          "shape": "723, 1"
         },
         "hovertemplate": "<b>%{x}</b><br>BLUE: %{y:.4f}<br><extra></extra>",
         "legendgroup": "Rubber monoculture(ID: 15)",
         "marker": {
          "color": "#636efa"
         },
         "name": "Rubber monoculture(ID: 15)",
         "notched": false,
         "offsetgroup": "Rubber monoculture(ID: 15)",
         "orientation": "v",
         "showlegend": true,
         "type": "box",
         "x": [
          "Rubber monoculture(ID: 15)",
          "Rubber monoculture(ID: 15)",
          "Rubber monoculture(ID: 15)",
          "Rubber monoculture(ID: 15)",
          "Rubber monoculture(ID: 15)",
          "Rubber monoculture(ID: 15)",
          "Rubber monoculture(ID: 15)",
          "Rubber monoculture(ID: 15)",
          "Rubber monoculture(ID: 15)",
          "Rubber monoculture(ID: 15)",
          "Rubber monoculture(ID: 15)",
          "Rubber monoculture(ID: 15)",
          "Rubber monoculture(ID: 15)",
          "Rubber monoculture(ID: 15)",
          "Rubber monoculture(ID: 15)",
          "Rubber monoculture(ID: 15)",
          "Rubber monoculture(ID: 15)",
          "Rubber monoculture(ID: 15)",
          "Rubber monoculture(ID: 15)",
          "Rubber monoculture(ID: 15)",
          "Rubber monoculture(ID: 15)",
          "Rubber monoculture(ID: 15)",
          "Rubber monoculture(ID: 15)",
          "Rubber monoculture(ID: 15)",
          "Rubber monoculture(ID: 15)",
          "Rubber monoculture(ID: 15)",
          "Rubber monoculture(ID: 15)",
          "Rubber monoculture(ID: 15)",
          "Rubber monoculture(ID: 15)",
          "Rubber monoculture(ID: 15)",
          "Rubber monoculture(ID: 15)",
          "Rubber monoculture(ID: 15)",
          "Rubber monoculture(ID: 15)",
          "Rubber monoculture(ID: 15)",
          "Rubber monoculture(ID: 15)",
          "Rubber monoculture(ID: 15)",
          "Rubber monoculture(ID: 15)",
          "Rubber monoculture(ID: 15)",
          "Rubber monoculture(ID: 15)",
          "Rubber monoculture(ID: 15)",
          "Rubber monoculture(ID: 15)",
          "Rubber monoculture(ID: 15)",
          "Rubber monoculture(ID: 15)",
          "Rubber monoculture(ID: 15)",
          "Rubber monoculture(ID: 15)",
          "Rubber monoculture(ID: 15)",
          "Rubber monoculture(ID: 15)",
          "Rubber monoculture(ID: 15)",
          "Rubber monoculture(ID: 15)",
          "Rubber monoculture(ID: 15)",
          "Rubber monoculture(ID: 15)",
          "Rubber monoculture(ID: 15)",
          "Rubber monoculture(ID: 15)",
          "Rubber monoculture(ID: 15)",
          "Rubber monoculture(ID: 15)",
          "Rubber monoculture(ID: 15)",
          "Rubber monoculture(ID: 15)",
          "Rubber monoculture(ID: 15)",
          "Rubber monoculture(ID: 15)",
          "Rubber monoculture(ID: 15)",
          "Rubber monoculture(ID: 15)",
          "Rubber monoculture(ID: 15)",
          "Rubber monoculture(ID: 15)",
          "Rubber monoculture(ID: 15)",
          "Rubber monoculture(ID: 15)",
          "Rubber monoculture(ID: 15)",
          "Rubber monoculture(ID: 15)",
          "Rubber monoculture(ID: 15)",
          "Rubber monoculture(ID: 15)",
          "Rubber monoculture(ID: 15)",
          "Rubber monoculture(ID: 15)",
          "Rubber monoculture(ID: 15)",
          "Rubber monoculture(ID: 15)",
          "Rubber monoculture(ID: 15)",
          "Rubber monoculture(ID: 15)",
          "Rubber monoculture(ID: 15)",
          "Rubber monoculture(ID: 15)",
          "Rubber monoculture(ID: 15)",
          "Rubber monoculture(ID: 15)",
          "Rubber monoculture(ID: 15)",
          "Rubber monoculture(ID: 15)",
          "Rubber monoculture(ID: 15)",
          "Rubber monoculture(ID: 15)",
          "Rubber monoculture(ID: 15)",
          "Rubber monoculture(ID: 15)",
          "Rubber monoculture(ID: 15)",
          "Rubber monoculture(ID: 15)",
          "Rubber monoculture(ID: 15)",
          "Rubber monoculture(ID: 15)",
          "Rubber monoculture(ID: 15)",
          "Rubber monoculture(ID: 15)",
          "Rubber monoculture(ID: 15)",
          "Rubber monoculture(ID: 15)",
          "Rubber monoculture(ID: 15)",
          "Rubber monoculture(ID: 15)",
          "Rubber monoculture(ID: 15)",
          "Rubber monoculture(ID: 15)",
          "Rubber monoculture(ID: 15)",
          "Rubber monoculture(ID: 15)",
          "Rubber monoculture(ID: 15)",
          "Rubber monoculture(ID: 15)",
          "Rubber monoculture(ID: 15)",
          "Rubber monoculture(ID: 15)",
          "Rubber monoculture(ID: 15)",
          "Rubber monoculture(ID: 15)",
          "Rubber monoculture(ID: 15)",
          "Rubber monoculture(ID: 15)",
          "Rubber monoculture(ID: 15)",
          "Rubber monoculture(ID: 15)",
          "Rubber monoculture(ID: 15)",
          "Rubber monoculture(ID: 15)",
          "Rubber monoculture(ID: 15)",
          "Rubber monoculture(ID: 15)",
          "Rubber monoculture(ID: 15)",
          "Rubber monoculture(ID: 15)",
          "Rubber monoculture(ID: 15)",
          "Rubber monoculture(ID: 15)",
          "Rubber monoculture(ID: 15)",
          "Rubber monoculture(ID: 15)",
          "Rubber monoculture(ID: 15)",
          "Rubber monoculture(ID: 15)",
          "Rubber monoculture(ID: 15)",
          "Rubber monoculture(ID: 15)",
          "Rubber monoculture(ID: 15)",
          "Rubber monoculture(ID: 15)",
          "Rubber monoculture(ID: 15)",
          "Rubber monoculture(ID: 15)",
          "Rubber monoculture(ID: 15)",
          "Rubber monoculture(ID: 15)",
          "Rubber monoculture(ID: 15)",
          "Rubber monoculture(ID: 15)",
          "Rubber monoculture(ID: 15)",
          "Rubber monoculture(ID: 15)",
          "Rubber monoculture(ID: 15)",
          "Rubber monoculture(ID: 15)",
          "Rubber monoculture(ID: 15)",
          "Rubber monoculture(ID: 15)",
          "Rubber monoculture(ID: 15)",
          "Rubber monoculture(ID: 15)",
          "Rubber monoculture(ID: 15)",
          "Rubber monoculture(ID: 15)",
          "Rubber monoculture(ID: 15)",
          "Rubber monoculture(ID: 15)",
          "Rubber monoculture(ID: 15)",
          "Rubber monoculture(ID: 15)",
          "Rubber monoculture(ID: 15)",
          "Rubber monoculture(ID: 15)",
          "Rubber monoculture(ID: 15)",
          "Rubber monoculture(ID: 15)",
          "Rubber monoculture(ID: 15)",
          "Rubber monoculture(ID: 15)",
          "Rubber monoculture(ID: 15)",
          "Rubber monoculture(ID: 15)",
          "Rubber monoculture(ID: 15)",
          "Rubber monoculture(ID: 15)",
          "Rubber monoculture(ID: 15)",
          "Rubber monoculture(ID: 15)",
          "Rubber monoculture(ID: 15)",
          "Rubber monoculture(ID: 15)",
          "Rubber monoculture(ID: 15)",
          "Rubber monoculture(ID: 15)",
          "Rubber monoculture(ID: 15)",
          "Rubber monoculture(ID: 15)",
          "Rubber monoculture(ID: 15)",
          "Rubber monoculture(ID: 15)",
          "Rubber monoculture(ID: 15)",
          "Rubber monoculture(ID: 15)",
          "Rubber monoculture(ID: 15)",
          "Rubber monoculture(ID: 15)",
          "Rubber monoculture(ID: 15)",
          "Rubber monoculture(ID: 15)",
          "Rubber monoculture(ID: 15)",
          "Rubber monoculture(ID: 15)",
          "Rubber monoculture(ID: 15)",
          "Rubber monoculture(ID: 15)",
          "Rubber monoculture(ID: 15)",
          "Rubber monoculture(ID: 15)",
          "Rubber monoculture(ID: 15)",
          "Rubber monoculture(ID: 15)",
          "Rubber monoculture(ID: 15)",
          "Rubber monoculture(ID: 15)",
          "Rubber monoculture(ID: 15)",
          "Rubber monoculture(ID: 15)",
          "Rubber monoculture(ID: 15)",
          "Rubber monoculture(ID: 15)",
          "Rubber monoculture(ID: 15)",
          "Rubber monoculture(ID: 15)",
          "Rubber monoculture(ID: 15)",
          "Rubber monoculture(ID: 15)",
          "Rubber monoculture(ID: 15)",
          "Rubber monoculture(ID: 15)",
          "Rubber monoculture(ID: 15)",
          "Rubber monoculture(ID: 15)",
          "Rubber monoculture(ID: 15)",
          "Rubber monoculture(ID: 15)",
          "Rubber monoculture(ID: 15)",
          "Rubber monoculture(ID: 15)",
          "Rubber monoculture(ID: 15)",
          "Rubber monoculture(ID: 15)",
          "Rubber monoculture(ID: 15)",
          "Rubber monoculture(ID: 15)",
          "Rubber monoculture(ID: 15)",
          "Rubber monoculture(ID: 15)",
          "Rubber monoculture(ID: 15)",
          "Rubber monoculture(ID: 15)",
          "Rubber monoculture(ID: 15)",
          "Rubber monoculture(ID: 15)",
          "Rubber monoculture(ID: 15)",
          "Rubber monoculture(ID: 15)",
          "Rubber monoculture(ID: 15)",
          "Rubber monoculture(ID: 15)",
          "Rubber monoculture(ID: 15)",
          "Rubber monoculture(ID: 15)",
          "Rubber monoculture(ID: 15)",
          "Rubber monoculture(ID: 15)",
          "Rubber monoculture(ID: 15)",
          "Rubber monoculture(ID: 15)",
          "Rubber monoculture(ID: 15)",
          "Rubber monoculture(ID: 15)",
          "Rubber monoculture(ID: 15)",
          "Rubber monoculture(ID: 15)",
          "Rubber monoculture(ID: 15)",
          "Rubber monoculture(ID: 15)",
          "Rubber monoculture(ID: 15)",
          "Rubber monoculture(ID: 15)",
          "Rubber monoculture(ID: 15)",
          "Rubber monoculture(ID: 15)",
          "Rubber monoculture(ID: 15)",
          "Rubber monoculture(ID: 15)",
          "Rubber monoculture(ID: 15)",
          "Rubber monoculture(ID: 15)",
          "Rubber monoculture(ID: 15)",
          "Rubber monoculture(ID: 15)",
          "Rubber monoculture(ID: 15)",
          "Rubber monoculture(ID: 15)",
          "Rubber monoculture(ID: 15)",
          "Rubber monoculture(ID: 15)",
          "Rubber monoculture(ID: 15)",
          "Rubber monoculture(ID: 15)",
          "Rubber monoculture(ID: 15)",
          "Rubber monoculture(ID: 15)",
          "Rubber monoculture(ID: 15)",
          "Rubber monoculture(ID: 15)",
          "Rubber monoculture(ID: 15)",
          "Rubber monoculture(ID: 15)",
          "Rubber monoculture(ID: 15)",
          "Rubber monoculture(ID: 15)",
          "Rubber monoculture(ID: 15)",
          "Rubber monoculture(ID: 15)",
          "Rubber monoculture(ID: 15)",
          "Rubber monoculture(ID: 15)",
          "Rubber monoculture(ID: 15)",
          "Rubber monoculture(ID: 15)",
          "Rubber monoculture(ID: 15)",
          "Rubber monoculture(ID: 15)",
          "Rubber monoculture(ID: 15)",
          "Rubber monoculture(ID: 15)",
          "Rubber monoculture(ID: 15)",
          "Rubber monoculture(ID: 15)",
          "Rubber monoculture(ID: 15)",
          "Rubber monoculture(ID: 15)",
          "Rubber monoculture(ID: 15)",
          "Rubber monoculture(ID: 15)",
          "Rubber monoculture(ID: 15)",
          "Rubber monoculture(ID: 15)",
          "Rubber monoculture(ID: 15)",
          "Rubber monoculture(ID: 15)",
          "Rubber monoculture(ID: 15)",
          "Rubber monoculture(ID: 15)",
          "Rubber monoculture(ID: 15)",
          "Rubber monoculture(ID: 15)",
          "Rubber monoculture(ID: 15)",
          "Rubber monoculture(ID: 15)",
          "Rubber monoculture(ID: 15)",
          "Rubber monoculture(ID: 15)",
          "Rubber monoculture(ID: 15)",
          "Rubber monoculture(ID: 15)",
          "Rubber monoculture(ID: 15)",
          "Rubber monoculture(ID: 15)",
          "Rubber monoculture(ID: 15)",
          "Rubber monoculture(ID: 15)",
          "Rubber monoculture(ID: 15)",
          "Rubber monoculture(ID: 15)",
          "Rubber monoculture(ID: 15)",
          "Rubber monoculture(ID: 15)",
          "Rubber monoculture(ID: 15)",
          "Rubber monoculture(ID: 15)",
          "Rubber monoculture(ID: 15)",
          "Rubber monoculture(ID: 15)",
          "Rubber monoculture(ID: 15)",
          "Rubber monoculture(ID: 15)",
          "Rubber monoculture(ID: 15)",
          "Rubber monoculture(ID: 15)",
          "Rubber monoculture(ID: 15)",
          "Rubber monoculture(ID: 15)",
          "Rubber monoculture(ID: 15)",
          "Rubber monoculture(ID: 15)",
          "Rubber monoculture(ID: 15)",
          "Rubber monoculture(ID: 15)",
          "Rubber monoculture(ID: 15)",
          "Rubber monoculture(ID: 15)",
          "Rubber monoculture(ID: 15)",
          "Rubber monoculture(ID: 15)",
          "Rubber monoculture(ID: 15)",
          "Rubber monoculture(ID: 15)",
          "Rubber monoculture(ID: 15)",
          "Rubber monoculture(ID: 15)",
          "Rubber monoculture(ID: 15)",
          "Rubber monoculture(ID: 15)",
          "Rubber monoculture(ID: 15)",
          "Rubber monoculture(ID: 15)",
          "Rubber monoculture(ID: 15)",
          "Rubber monoculture(ID: 15)",
          "Rubber monoculture(ID: 15)",
          "Rubber monoculture(ID: 15)",
          "Rubber monoculture(ID: 15)",
          "Rubber monoculture(ID: 15)",
          "Rubber monoculture(ID: 15)",
          "Rubber monoculture(ID: 15)",
          "Rubber monoculture(ID: 15)",
          "Rubber monoculture(ID: 15)",
          "Rubber monoculture(ID: 15)",
          "Rubber monoculture(ID: 15)",
          "Rubber monoculture(ID: 15)",
          "Rubber monoculture(ID: 15)",
          "Rubber monoculture(ID: 15)",
          "Rubber monoculture(ID: 15)",
          "Rubber monoculture(ID: 15)",
          "Rubber monoculture(ID: 15)",
          "Rubber monoculture(ID: 15)",
          "Rubber monoculture(ID: 15)",
          "Rubber monoculture(ID: 15)",
          "Rubber monoculture(ID: 15)",
          "Rubber monoculture(ID: 15)",
          "Rubber monoculture(ID: 15)",
          "Rubber monoculture(ID: 15)",
          "Rubber monoculture(ID: 15)",
          "Rubber monoculture(ID: 15)",
          "Rubber monoculture(ID: 15)",
          "Rubber monoculture(ID: 15)",
          "Rubber monoculture(ID: 15)",
          "Rubber monoculture(ID: 15)",
          "Rubber monoculture(ID: 15)",
          "Rubber monoculture(ID: 15)",
          "Rubber monoculture(ID: 15)",
          "Rubber monoculture(ID: 15)",
          "Rubber monoculture(ID: 15)",
          "Rubber monoculture(ID: 15)",
          "Rubber monoculture(ID: 15)",
          "Rubber monoculture(ID: 15)",
          "Rubber monoculture(ID: 15)",
          "Rubber monoculture(ID: 15)",
          "Rubber monoculture(ID: 15)",
          "Rubber monoculture(ID: 15)",
          "Rubber monoculture(ID: 15)",
          "Rubber monoculture(ID: 15)",
          "Rubber monoculture(ID: 15)",
          "Rubber monoculture(ID: 15)",
          "Rubber monoculture(ID: 15)",
          "Rubber monoculture(ID: 15)",
          "Rubber monoculture(ID: 15)",
          "Rubber monoculture(ID: 15)",
          "Rubber monoculture(ID: 15)",
          "Rubber monoculture(ID: 15)",
          "Rubber monoculture(ID: 15)",
          "Rubber monoculture(ID: 15)",
          "Rubber monoculture(ID: 15)",
          "Rubber monoculture(ID: 15)",
          "Rubber monoculture(ID: 15)",
          "Rubber monoculture(ID: 15)",
          "Rubber monoculture(ID: 15)",
          "Rubber monoculture(ID: 15)",
          "Rubber monoculture(ID: 15)",
          "Rubber monoculture(ID: 15)",
          "Rubber monoculture(ID: 15)",
          "Rubber monoculture(ID: 15)",
          "Rubber monoculture(ID: 15)",
          "Rubber monoculture(ID: 15)",
          "Rubber monoculture(ID: 15)",
          "Rubber monoculture(ID: 15)",
          "Rubber monoculture(ID: 15)",
          "Rubber monoculture(ID: 15)",
          "Rubber monoculture(ID: 15)",
          "Rubber monoculture(ID: 15)",
          "Rubber monoculture(ID: 15)",
          "Rubber monoculture(ID: 15)",
          "Rubber monoculture(ID: 15)",
          "Rubber monoculture(ID: 15)",
          "Rubber monoculture(ID: 15)",
          "Rubber monoculture(ID: 15)",
          "Rubber monoculture(ID: 15)",
          "Rubber monoculture(ID: 15)",
          "Rubber monoculture(ID: 15)",
          "Rubber monoculture(ID: 15)",
          "Rubber monoculture(ID: 15)",
          "Rubber monoculture(ID: 15)",
          "Rubber monoculture(ID: 15)",
          "Rubber monoculture(ID: 15)",
          "Rubber monoculture(ID: 15)",
          "Rubber monoculture(ID: 15)",
          "Rubber monoculture(ID: 15)",
          "Rubber monoculture(ID: 15)",
          "Rubber monoculture(ID: 15)",
          "Rubber monoculture(ID: 15)",
          "Rubber monoculture(ID: 15)",
          "Rubber monoculture(ID: 15)",
          "Rubber monoculture(ID: 15)",
          "Rubber monoculture(ID: 15)",
          "Rubber monoculture(ID: 15)",
          "Rubber monoculture(ID: 15)",
          "Rubber monoculture(ID: 15)",
          "Rubber monoculture(ID: 15)",
          "Rubber monoculture(ID: 15)",
          "Rubber monoculture(ID: 15)",
          "Rubber monoculture(ID: 15)",
          "Rubber monoculture(ID: 15)",
          "Rubber monoculture(ID: 15)",
          "Rubber monoculture(ID: 15)",
          "Rubber monoculture(ID: 15)",
          "Rubber monoculture(ID: 15)",
          "Rubber monoculture(ID: 15)",
          "Rubber monoculture(ID: 15)",
          "Rubber monoculture(ID: 15)",
          "Rubber monoculture(ID: 15)",
          "Rubber monoculture(ID: 15)",
          "Rubber monoculture(ID: 15)",
          "Rubber monoculture(ID: 15)",
          "Rubber monoculture(ID: 15)",
          "Rubber monoculture(ID: 15)",
          "Rubber monoculture(ID: 15)",
          "Rubber monoculture(ID: 15)",
          "Rubber monoculture(ID: 15)",
          "Rubber monoculture(ID: 15)",
          "Rubber monoculture(ID: 15)",
          "Rubber monoculture(ID: 15)",
          "Rubber monoculture(ID: 15)",
          "Rubber monoculture(ID: 15)",
          "Rubber monoculture(ID: 15)",
          "Rubber monoculture(ID: 15)",
          "Rubber monoculture(ID: 15)",
          "Rubber monoculture(ID: 15)",
          "Rubber monoculture(ID: 15)",
          "Rubber monoculture(ID: 15)",
          "Rubber monoculture(ID: 15)",
          "Rubber monoculture(ID: 15)",
          "Rubber monoculture(ID: 15)",
          "Rubber monoculture(ID: 15)",
          "Rubber monoculture(ID: 15)",
          "Rubber monoculture(ID: 15)",
          "Rubber monoculture(ID: 15)",
          "Rubber monoculture(ID: 15)",
          "Rubber monoculture(ID: 15)",
          "Rubber monoculture(ID: 15)",
          "Rubber monoculture(ID: 15)",
          "Rubber monoculture(ID: 15)",
          "Rubber monoculture(ID: 15)",
          "Rubber monoculture(ID: 15)",
          "Rubber monoculture(ID: 15)",
          "Rubber monoculture(ID: 15)",
          "Rubber monoculture(ID: 15)",
          "Rubber monoculture(ID: 15)",
          "Rubber monoculture(ID: 15)",
          "Rubber monoculture(ID: 15)",
          "Rubber monoculture(ID: 15)",
          "Rubber monoculture(ID: 15)",
          "Rubber monoculture(ID: 15)",
          "Rubber monoculture(ID: 15)",
          "Rubber monoculture(ID: 15)",
          "Rubber monoculture(ID: 15)",
          "Rubber monoculture(ID: 15)",
          "Rubber monoculture(ID: 15)",
          "Rubber monoculture(ID: 15)",
          "Rubber monoculture(ID: 15)",
          "Rubber monoculture(ID: 15)",
          "Rubber monoculture(ID: 15)",
          "Rubber monoculture(ID: 15)",
          "Rubber monoculture(ID: 15)",
          "Rubber monoculture(ID: 15)",
          "Rubber monoculture(ID: 15)",
          "Rubber monoculture(ID: 15)",
          "Rubber monoculture(ID: 15)",
          "Rubber monoculture(ID: 15)",
          "Rubber monoculture(ID: 15)",
          "Rubber monoculture(ID: 15)",
          "Rubber monoculture(ID: 15)",
          "Rubber monoculture(ID: 15)",
          "Rubber monoculture(ID: 15)",
          "Rubber monoculture(ID: 15)",
          "Rubber monoculture(ID: 15)",
          "Rubber monoculture(ID: 15)",
          "Rubber monoculture(ID: 15)",
          "Rubber monoculture(ID: 15)",
          "Rubber monoculture(ID: 15)",
          "Rubber monoculture(ID: 15)",
          "Rubber monoculture(ID: 15)",
          "Rubber monoculture(ID: 15)",
          "Rubber monoculture(ID: 15)",
          "Rubber monoculture(ID: 15)",
          "Rubber monoculture(ID: 15)",
          "Rubber monoculture(ID: 15)",
          "Rubber monoculture(ID: 15)",
          "Rubber monoculture(ID: 15)",
          "Rubber monoculture(ID: 15)",
          "Rubber monoculture(ID: 15)",
          "Rubber monoculture(ID: 15)",
          "Rubber monoculture(ID: 15)",
          "Rubber monoculture(ID: 15)",
          "Rubber monoculture(ID: 15)",
          "Rubber monoculture(ID: 15)",
          "Rubber monoculture(ID: 15)",
          "Rubber monoculture(ID: 15)",
          "Rubber monoculture(ID: 15)",
          "Rubber monoculture(ID: 15)",
          "Rubber monoculture(ID: 15)",
          "Rubber monoculture(ID: 15)",
          "Rubber monoculture(ID: 15)",
          "Rubber monoculture(ID: 15)",
          "Rubber monoculture(ID: 15)",
          "Rubber monoculture(ID: 15)",
          "Rubber monoculture(ID: 15)",
          "Rubber monoculture(ID: 15)",
          "Rubber monoculture(ID: 15)",
          "Rubber monoculture(ID: 15)",
          "Rubber monoculture(ID: 15)",
          "Rubber monoculture(ID: 15)",
          "Rubber monoculture(ID: 15)",
          "Rubber monoculture(ID: 15)",
          "Rubber monoculture(ID: 15)",
          "Rubber monoculture(ID: 15)",
          "Rubber monoculture(ID: 15)",
          "Rubber monoculture(ID: 15)",
          "Rubber monoculture(ID: 15)",
          "Rubber monoculture(ID: 15)",
          "Rubber monoculture(ID: 15)",
          "Rubber monoculture(ID: 15)",
          "Rubber monoculture(ID: 15)",
          "Rubber monoculture(ID: 15)",
          "Rubber monoculture(ID: 15)",
          "Rubber monoculture(ID: 15)",
          "Rubber monoculture(ID: 15)",
          "Rubber monoculture(ID: 15)",
          "Rubber monoculture(ID: 15)",
          "Rubber monoculture(ID: 15)",
          "Rubber monoculture(ID: 15)",
          "Rubber monoculture(ID: 15)",
          "Rubber monoculture(ID: 15)",
          "Rubber monoculture(ID: 15)",
          "Rubber monoculture(ID: 15)",
          "Rubber monoculture(ID: 15)",
          "Rubber monoculture(ID: 15)",
          "Rubber monoculture(ID: 15)",
          "Rubber monoculture(ID: 15)",
          "Rubber monoculture(ID: 15)",
          "Rubber monoculture(ID: 15)",
          "Rubber monoculture(ID: 15)",
          "Rubber monoculture(ID: 15)",
          "Rubber monoculture(ID: 15)",
          "Rubber monoculture(ID: 15)",
          "Rubber monoculture(ID: 15)",
          "Rubber monoculture(ID: 15)",
          "Rubber monoculture(ID: 15)",
          "Rubber monoculture(ID: 15)",
          "Rubber monoculture(ID: 15)",
          "Rubber monoculture(ID: 15)",
          "Rubber monoculture(ID: 15)",
          "Rubber monoculture(ID: 15)",
          "Rubber monoculture(ID: 15)",
          "Rubber monoculture(ID: 15)",
          "Rubber monoculture(ID: 15)",
          "Rubber monoculture(ID: 15)",
          "Rubber monoculture(ID: 15)",
          "Rubber monoculture(ID: 15)",
          "Rubber monoculture(ID: 15)",
          "Rubber monoculture(ID: 15)",
          "Rubber monoculture(ID: 15)",
          "Rubber monoculture(ID: 15)",
          "Rubber monoculture(ID: 15)",
          "Rubber monoculture(ID: 15)",
          "Rubber monoculture(ID: 15)",
          "Rubber monoculture(ID: 15)",
          "Rubber monoculture(ID: 15)",
          "Rubber monoculture(ID: 15)",
          "Rubber monoculture(ID: 15)",
          "Rubber monoculture(ID: 15)",
          "Rubber monoculture(ID: 15)",
          "Rubber monoculture(ID: 15)",
          "Rubber monoculture(ID: 15)",
          "Rubber monoculture(ID: 15)",
          "Rubber monoculture(ID: 15)",
          "Rubber monoculture(ID: 15)",
          "Rubber monoculture(ID: 15)",
          "Rubber monoculture(ID: 15)",
          "Rubber monoculture(ID: 15)",
          "Rubber monoculture(ID: 15)",
          "Rubber monoculture(ID: 15)",
          "Rubber monoculture(ID: 15)",
          "Rubber monoculture(ID: 15)",
          "Rubber monoculture(ID: 15)",
          "Rubber monoculture(ID: 15)",
          "Rubber monoculture(ID: 15)",
          "Rubber monoculture(ID: 15)",
          "Rubber monoculture(ID: 15)",
          "Rubber monoculture(ID: 15)",
          "Rubber monoculture(ID: 15)",
          "Rubber monoculture(ID: 15)",
          "Rubber monoculture(ID: 15)",
          "Rubber monoculture(ID: 15)",
          "Rubber monoculture(ID: 15)",
          "Rubber monoculture(ID: 15)",
          "Rubber monoculture(ID: 15)",
          "Rubber monoculture(ID: 15)",
          "Rubber monoculture(ID: 15)",
          "Rubber monoculture(ID: 15)",
          "Rubber monoculture(ID: 15)",
          "Rubber monoculture(ID: 15)",
          "Rubber monoculture(ID: 15)",
          "Rubber monoculture(ID: 15)",
          "Rubber monoculture(ID: 15)",
          "Rubber monoculture(ID: 15)",
          "Rubber monoculture(ID: 15)",
          "Rubber monoculture(ID: 15)",
          "Rubber monoculture(ID: 15)",
          "Rubber monoculture(ID: 15)",
          "Rubber monoculture(ID: 15)",
          "Rubber monoculture(ID: 15)",
          "Rubber monoculture(ID: 15)",
          "Rubber monoculture(ID: 15)",
          "Rubber monoculture(ID: 15)",
          "Rubber monoculture(ID: 15)",
          "Rubber monoculture(ID: 15)",
          "Rubber monoculture(ID: 15)",
          "Rubber monoculture(ID: 15)",
          "Rubber monoculture(ID: 15)",
          "Rubber monoculture(ID: 15)",
          "Rubber monoculture(ID: 15)",
          "Rubber monoculture(ID: 15)",
          "Rubber monoculture(ID: 15)",
          "Rubber monoculture(ID: 15)",
          "Rubber monoculture(ID: 15)",
          "Rubber monoculture(ID: 15)",
          "Rubber monoculture(ID: 15)",
          "Rubber monoculture(ID: 15)",
          "Rubber monoculture(ID: 15)",
          "Rubber monoculture(ID: 15)",
          "Rubber monoculture(ID: 15)",
          "Rubber monoculture(ID: 15)",
          "Rubber monoculture(ID: 15)",
          "Rubber monoculture(ID: 15)",
          "Rubber monoculture(ID: 15)",
          "Rubber monoculture(ID: 15)",
          "Rubber monoculture(ID: 15)",
          "Rubber monoculture(ID: 15)",
          "Rubber monoculture(ID: 15)",
          "Rubber monoculture(ID: 15)",
          "Rubber monoculture(ID: 15)",
          "Rubber monoculture(ID: 15)",
          "Rubber monoculture(ID: 15)",
          "Rubber monoculture(ID: 15)",
          "Rubber monoculture(ID: 15)",
          "Rubber monoculture(ID: 15)",
          "Rubber monoculture(ID: 15)",
          "Rubber monoculture(ID: 15)",
          "Rubber monoculture(ID: 15)",
          "Rubber monoculture(ID: 15)",
          "Rubber monoculture(ID: 15)",
          "Rubber monoculture(ID: 15)",
          "Rubber monoculture(ID: 15)",
          "Rubber monoculture(ID: 15)",
          "Rubber monoculture(ID: 15)",
          "Rubber monoculture(ID: 15)",
          "Rubber monoculture(ID: 15)",
          "Rubber monoculture(ID: 15)",
          "Rubber monoculture(ID: 15)",
          "Rubber monoculture(ID: 15)",
          "Rubber monoculture(ID: 15)",
          "Rubber monoculture(ID: 15)",
          "Rubber monoculture(ID: 15)",
          "Rubber monoculture(ID: 15)",
          "Rubber monoculture(ID: 15)",
          "Rubber monoculture(ID: 15)",
          "Rubber monoculture(ID: 15)",
          "Rubber monoculture(ID: 15)",
          "Rubber monoculture(ID: 15)",
          "Rubber monoculture(ID: 15)",
          "Rubber monoculture(ID: 15)",
          "Rubber monoculture(ID: 15)",
          "Rubber monoculture(ID: 15)",
          "Rubber monoculture(ID: 15)",
          "Rubber monoculture(ID: 15)",
          "Rubber monoculture(ID: 15)",
          "Rubber monoculture(ID: 15)",
          "Rubber monoculture(ID: 15)",
          "Rubber monoculture(ID: 15)",
          "Rubber monoculture(ID: 15)",
          "Rubber monoculture(ID: 15)",
          "Rubber monoculture(ID: 15)",
          "Rubber monoculture(ID: 15)",
          "Rubber monoculture(ID: 15)",
          "Rubber monoculture(ID: 15)",
          "Rubber monoculture(ID: 15)",
          "Rubber monoculture(ID: 15)",
          "Rubber monoculture(ID: 15)",
          "Rubber monoculture(ID: 15)",
          "Rubber monoculture(ID: 15)",
          "Rubber monoculture(ID: 15)",
          "Rubber monoculture(ID: 15)",
          "Rubber monoculture(ID: 15)",
          "Rubber monoculture(ID: 15)",
          "Rubber monoculture(ID: 15)",
          "Rubber monoculture(ID: 15)",
          "Rubber monoculture(ID: 15)",
          "Rubber monoculture(ID: 15)",
          "Rubber monoculture(ID: 15)",
          "Rubber monoculture(ID: 15)",
          "Rubber monoculture(ID: 15)",
          "Rubber monoculture(ID: 15)",
          "Rubber monoculture(ID: 15)",
          "Rubber monoculture(ID: 15)",
          "Rubber monoculture(ID: 15)",
          "Rubber monoculture(ID: 15)",
          "Rubber monoculture(ID: 15)",
          "Rubber monoculture(ID: 15)",
          "Rubber monoculture(ID: 15)"
         ],
         "x0": " ",
         "xaxis": "x",
         "y": {
          "bdata": "gJ9x4UBIlj8IHxFTIomWP5ClD11Q35o/sPm4NlSMmz94lufB3VmbP7BVgsXhzKM/aEjcY+lDnz+kdVQ1QdShP/ZdEfxvJaE/UDblCu9ynT+iKNAn8iSnP+S4UzpY/58/kAHZ690fnz8AZVOu8C6XP5yiI7n8h6g/+ujUlc/yoj9ktI6qJoimP7xh26LMBqE/2OvdH+9Vnz+If59x4UCYP1hl3xXB/5o/QGDl0CLbpT8kUwWjkjqxP4zzN6EQAaU/wD46deWzoD8MT6+UZYijP2hhTzv8NZk/YB+duvJZmj9gH5268lmaPxjTE5Z4QJ0/HIF4Xb9goz+4quy7IvijP3wxlBPtKqA/AFzJjo1AoD9Yi08BMJ6hP9r5fmq8dKE/fHkB9tGpkz9orS8S2nKeP2DzcW2oGJ8/cJ1GWipvnz/sTKHzGrugP7CUZYhjXZw/mPp5U5EKmz/YKsHicOabPyBnYU87/Jk/3F7SGK2joD+AxeHMr+aYP+CvyRr1EKk/8ICyKVd4oT9UgsXhzK+mP9RNYhBYOaA/uqXVkLjHoD/UTWIQWDmgP8BR8uocA6I/XiS05VyKoT/EtkWZDTKhP3hA2ZQrvKk/OF0WE5uPoz/EJced0sGmP6SIDKt4I58/Jo3ROqqaoD++6CtIMxarP/gsz4O7s54/DOpb5nRZpD/A4nDmV3OYP+hlFMstrZY/sJRliGNdnD8wkKD4MeaeP1SCxeHMr6Y/eKbQeY1dmj/ACOHRxhGbPxLVWwNbJaI/6FyKq8q+mz/Y5sb0hCWgPwg89x4uOZ4/uPJZngd3lz/wSlmGONaNPwhVavZAK5g/voI0Y9F0oD+AvFetTPidP3hTkQpjC5E/QrKACdy6oz8QBp57D5ecPwzXo3A9Cp8/aCv2l92Tlz8IA8+9h0uaPxCq1OyBVpg/OMgkI2dhlz+IJHoZxXKjP9y1hHzQs6E/RMSUSKKXlT/Qb18HzhmRP3Akl/+QfpM/3KLMBplkoD/8boEExY+dP/zjvWplwps/xP9WsmMjnL+QI9biUwCUP7RxxFp8Cpw/qLcGtkqwoD9gsBu2LcquPyJxj6UPXaQ/WJ4Hd2ftoj9+qZ83FamgP0D7kSIyrKY/XOZ0WUxslj/o501FKoyhP9g9eVioNaE/aJBJRs7Clj8IVWr2QCuYP+iuJeSDnpk//GGE8Gjjrj/QxhFr8SmsP7j8h/Tb16E/mNh8XBsqqj8A1XjpJjGsP4SxhSAHJbA/1GpI3GPppz+YBKipZWulP1TejnBa8Ko/fGZJgJpatj9KcVXZd0WmP/ZdEfxvJaE/6oL6ljldoj8Yt9EA3gKlP54CYDyDhqQ/2G0Xmus0qj+MnIU97fCjP0h7gy9Mpqw/VsGopE5Aoz8U4/xNKESgP0CVmj3QCpg/zFMdcjPclD/QBfUtc7qoP3ZZTGw+rqM/EGHD0ytllT+QZ9DQP8GFP+AQqtTsgZY/iHYVUn5SnT9EF9S3zOmiP3AbDeAtkJg/uD/eq1YmrD9EzsKedvibP5gNMsnIWZw/LP8h/fZ1qD/Q3uALk6mWP4Ahq1s9J6E/pA9dUN8ykz9MtKuQ8pOWP4Ahq1s9J50/qFEP0egOkj/2tMNfkzWiP9y1hHzQs6E/SJhp+1dWmj8oYabtX1mlPxQsDmd+NaM/4Mg88gcDnz8g71UrE36ZPyDmywuwj54/LGowDcNHnD8YNZiG4SOaP6hIhbGFIJc/jNtoAG+BnD8Y2c73U+OVPzj3Hi457pQ/7EeKyLCKsj/QCgxZ3eqrP+B+h6JAn5A/jNtoAG+BnD9gFW9kHvmTPzCs4o3MI5s/eEoH6/8clj8YwFsgQfGbPxCv6xfsho0/uMzpspjYlD/EhqdXyjKUPwyOklfnGKA/qAmi7gOQmj9A3qtWJvyaP0CMEB5tHKE/cKyL22gAkz+4MT1hiQeUP1BFKowtBJE/oM2qz9VWlD+Qy39Iv32dP3AlOzYC8Z4/iD3t8NdkmT+kABjPoKGfP2RFDaZh+KA/jKUPXVDfmj8oajANw0ecP1Cu8C4X8Z0/1MVtNIC3oD9WKxN+qZ+lPwi6vaQxWpc/7Eyh8xq7oD9czQGCOXqcPyBLH7qgvp0/QOc1donqlT+gWG5pNSSWP9i7P96rVpY/ONGuQspPkj+g4GJFDaaVPyD430p2bJQ/JCh+jLlroT/8kSIyrOKhP/z//////5c/XLG/7J48pD9Q5EnSNZOjPywrTUpBt58/sC8S2nIunT9kD7QCQ1abP7iWkA96NpM/Ml9egH10pD8gFcYWghycP7gPQGoTJ58/5B2n6Egunz/UpBR0e0mhP3hn7bYLzZ0/sF4M5US7mj+ARxtHrMWfP3iNXaJ6a6Q/yLkUV5V9nz9AguLHmLuWP+4gdqbQeaU/7NPxmIHKkD8kFcYWghygP2xRZoNMMpo/ECOERxtHqD9UpMLYQpCXP/BBz2bV56Q/XkGasWg6qT+YhT3t8NecP6g1zTtO0ZU/1PvG155Zoj8YOQt72uGrP4ichT3t8J8/UHXIzXADmj9UE0TdByChP9jYJaq3Bp4/mKjeGtgqoT8AHebLC7CjPwD3deCcEZ0/vGHboswGnT+oft5UpMKYP9xGA3gLJJg/OHaJ6q2BmT8GTODW3TyhP5BmLJrOTqI/mCDqPgCpnT8Qlxx3SgeXP0CoUrMHWpk/gIb+CS5WnD+wutVz0vuiPyACDqFKzZo/sJRliGNdoD+4lzRG66iiP6Zh+IiYEqs/qmqCqPsAsD+ulGWIY12gP8hLN4lBYKk/LD4FwHgGpT8odF5jl6imP3BBfcucLps/omKcvwmFoD/AHD1+b9OrP1iQZiyazqQ/RGlv8IXJoD/oHafoSC6fPwDgT42XbjK/qAmi7gOQmj84+MJkqmCkPxAPKJtyhZc/3BFOC170pT/gx5i7lpCTP5AANbVsrZM/uPJZngd3lz9AMEeP39uYPwhfmEwVjKI/5LhTOlj/oz/wIHam0HmlP7SJk/sdiqQ/EAaeew+XoD/ErBdDOdGWP7gos0EmGZk/UJEKYwtBlj9IRs7CnnacP5hfzQGCOZo/GCWvzjEgmz9oSNxj6UOfPxTtKqT8pKY/2BcJbTmXmj+Yzk4GR8mjPxw4Z0Rpb5w/DOAtkKD4mT/4fmq8dJOcP1DaG3xhMpk/WOZ0WUxslj/M+PcZFw6gP6jKviuC/50/WkdVE0TdoT/MplzhXS6eP7AfKSLDKp4/NGxblNkgkz+4quy7IvifP8pUwaikTqQ/mHyzzY3ppT8ybf/KSpOiPyR/MPDce6I/UKVmD7QCpz8Ab4EExY+hP0j9vKlIhZk/iJyFPe3wnz+wne+nxkuXPzwnvW987Z0/7JCb4QZ8oD9g4Ln3cMmhP7jM6bKY2JQ/GtMTlnhAoT+8IvjfSnakP1gvhnKiXZk/eDGUE+0qnD9Qx2MGKuOXP+Ayp8tiYqU//ACkNnFypz/ACYUIOISqP1Su8C4X8Z0/UFc+y/Pgjj/Mwp52+GuaP3YQO1PovKA/YOC593DJoT9g4Ln3cMmhP0QzFk1nJ5s/EMNHxJRIkj8I8BZIUPyYP3CdRloqb58/CjNt/8pKpz+M5PIf0m+XP9DQP8HFioo/JI3ROqqanD8YWwhyUMKgP0bY8PRKWaY/MKzijcwjmz/aVUj5SbWlP+QPBp57D6U/jNE6qpoglj9wEoPAyqGhPzCyne+nxpM/+Ol4zEBllD+ABMWPMXeVP0TElEiil5U/kEf+YOC5hz+06c9+pIicP+D42jNLAqw/uPJZngd3lz/WITfDDfikPyB7vfvjvao/kKmCUUmdrD94eqUsQxyfPzBzuiwmNpc/KE1KQbeXlD/A4nDmV3OYP4A+kSdJ16g/iNtoAG+BnD9Q5EnSNZOjP4DeVKTC2JI/EIRkARO4lT9AeVioNc2bPzDYDdsWZZY/QB2PGaiMlz/Idr6fGi+VP+CrVib8Upc/+GGE8GjjlD8m5IOezaqhPxDQRNjw9Jo/kCPW4lMAlD/0/dR46SalP6COxwxUxpc/qOMxA5Xxlz8w/n3GhQOZP+RJ0jWTb5o/wAjh0cYRmz/gEKrU7IGWP/SX3ZOHhZY//EgRGVbxmj8uUb01sFWmPzzkZrgBn5M/eMxAZfz7nD9QAtTUsrWOPxakGYums6M/3GxzY3rCmj+0HykiwyqeP3AbDeAtkJg/mM5OBkfJnz80CKwcWmSfP0CygAncup8/SKHzGrtElT8gSx+6oL6dP3g3T3XIzZQ/MI/8wcBzkz8kFCLgEKqQPxz+mqxRD6c/k5GzsKcdsj/s3R/vVSuXP/jQBfUtc5o/5ArvchHfoT+gmPViKCeeP+h4zEBl/Jc/eJbnwd1Zmz80Y9F0djKYPyDDKt7IPKI/oGKcvwmFoD/gLZCg+DGiP24csRafAqg/pFhuaTUklj+cRloqb0ekPzD+fcaFA5k/oh6i0R3EoD/owd1Zu+2aPywOZ341B5g/oKaWrfVFoD+4KLNBJhmZP+DIPPIHA58/kG+2uTE9mT+InIU97fCfP8Q4fxMKEag/WKeRlsrbmT82QdR9AFKnP4ySV+cYkJk/xNKHLqhvmT/IJCNnYU+XP7yzdtuF5po/CI6SV+cYnD+MEB5tHLGSPxTshm2LMpc/gBghPNo4pj8Qa/EpAMabP0jhehSuR6E/aHQHsTOFmj+g6pCb4QagP+gAwRw9fpc/qNqn4zEDnT/YFwltOZeaPyjo9pLGaJU/ONGuQspPkj9wGw3gLZCYP07RkVz+Q6I/zPj3GRcOoD+w+bg2VIybPy7iOzHrxaA/xAjh0cYRmz8gSx+6oL6dP/DXZI16iJ4/4C2QoPgxnj84iUFg5dCaP1BJnYAmwp4/iGfQ0D/BrT/2Bl+YTBWgP4hjXdxGA6A/OgZkr3d/oj8Y0xOWeECdPywrTUpBt58/AAAAAAAAmD/YFwltOZeaP6CrrdhfdqM/cIqO5PIfnj/uG197ZkmiP8QI4dHGEZs/TP28qUiFmT8o6PaSxmiVPxAGnnsPl5w/QrKACdy6oz9IsdzSakiUPwzXo3A9Cp8//If029eBlz8wCVBTy9auPzgC8bp+wao/Bnx+GCE8qj9UwaikTkCjPxKI1/ULdqc/OBQF+kSenD8gcY+lD12kPxLtKqT8pKY/lNQJaCJsmD8IILWJk/ulP9aeWRKgpqg/NjemJyzxoD9ks+pztRWXP047/DVZo6Q/CPAWSFD8mD8k4BCq1OypP5gDBHP0+JU/MKzijcwjmz/QJ/Ik6ZqZP6Bx4UBIFpA/YFRSJ6CJkD/wwwjh0caRP9An8iTpmpk/GFsIclDCoD/89nXgnBGhP8Bz7+GS45I/eDGUE+0qnD/+YOC593CjP1Dt0/GYgZo/7Eyh8xq7oD8gFcYWghycP/g1WaMeopk/HIF4Xb9gnz9QVz7L8+COPxg5C3va4as/qMq+K4L/nT/Ev8+4cCCYPwRR9wFIbaQ/yEs3iUFgqT+wutVz0vuePyApIsMq3qw/AFzJjo1AoD8E+kSeJF2jP9wtkKD4MZ4/aGFPO/w1mT9QrvAuF/GdP8SsF0M50ZY/DHva4a/Jmj8UvYxiuaWZP9AOf03WqJ8/IBXGFoIcnD943/jaM0uePzxwzojS3qQ/cFFmg0wymj9kr3d/vFejP+xCc51GWpY/RKhSswdamT/8P4f58gKkP4DF4cyv5pg/oM2qz9VWlD+eXinLEMeoPxiuR+F6FKo/yNKHLqhvmT8skKD4MeaePxzmywuwj54/MPXzpiIVnj/UCWgibHigP8RafAqA8Zg/XJTZIJOMmD/ACOHRxhGbPyCA1CZO7pM/dIBgjh6/lz8kg6Pk1TmWP0CoUrMHWpk/zOU/pN++mj+gMv59xoWTPyBUqdkDrZg/fDoeM1AZlz8Us14M5USTP4gzv5oDBJM/zBQ6r7FLmD+UeEDZlCuUP7j8h/Tb150/rFEP0egOkj+g/UgRGVahP6g/+5EiMpw/PMJpwYu+nj8EKuPfZ1ysPzwUBfpEnqA/qBPQRNjwpD/YR6eufJanPyC1iZP7HaQ/4NpQMc7flD9Q8uocA7KhPyDDKt7IPKI/uPyH9NvXoT/I0ocuqG+ZP3ivWpnwS5U/6IL6ljldoj90uiwmNh+rP5yFPe3w16A/INbiUwCMnz+m7V9ZaVKiP5gNMsnIWaA/yNKHLqhvmT94cHfWbruYP3jVyoRf6pc/MBfxnZj1kj+E61G4HoWbPzBaR1UTRKE/Ypy/CYUIoj/8HObLC7CfP6D9SBEZVqE/sEfhehSupT+A4seYu5akP1gDWyVYHJ4/kCdJ10y+pT+km8QgsHKkP4h/n3HhQJg/jInNx7Whoj/q7GRwlLykP+jB3Vm77Zo/eAKaCBuenj/QMSB7vfujP3h6pSxDHKM/QGlv8IXJnD88J71vfO2dP0j0Morllp4/wGSqYFRSnz9oSNxj6UOfP5J0zeSbbaA/+CzPg7uznj8UoKaWrfWRP8wV3uUivqc/gATFjzF3lT/40AX1LXOaP6jU7IFWYKg/smg6OxkcpT/IQGX8+4yTP+D3Nv3Zj5w/KDqSy39Ikz+IdhVSflKdP8CQ1a2ek5o/5G9CIQIOnT/fq1Ym/FKwP7Tpz36kiJw/8Btfe2ZJoj8ACYofY+6SP8iTpGsm36A/gEcbR6zFnz/gByC1iZObP1TjpZvEIK4/MrYQ5KCEpT8YxXJLqyGjP8wLsI9OXZ0/mnecoiO5oj+0DHGsi9ucP7z7471qZZI/lJUmpaDbmz8Ab4EExY+hP4ichT3t8J8/8ODurN12mT8qb0c4LXijPxzmywuwj6I/MKzijcwjmz9kO99PjZeWP6SRlsrbEZo/iBHCo40jnj88J71vfO2hP8S/z7hwIJg/oP1IERlWoT+wOJz51RyYPyIa3UHsTKM/nIU97fDXoD+8NbBVgsWlPzKFzmvsEqc/5O0IpwUvlj94ptB5jV2aP/B7m/7sR5o/EOAtkKD4mT+Ehv4JLlagP8CHS447pZ8/OEpenWNAoj9CrWnecYqgPxSkGYums6M/ILByaJHtnD/oTKHzGrucP1xortNIS50/ppat9UVCoT94eqUsQxyjP3wdOGdEaak/PNUhN8MNpD/AYDdsW5SrPxAEVg4tso0/UKVmD7QCpz9UP28qUmGYP7BLVG8NbJk/sB8pIsMqnj+YVkPiHkufPxBdUN8yp6E/zse1oWKcoT+wlGWIY12gPxg5C3va4as/hOtRuB6Fmz8k8iTpmsmbP5TeN772zKI/vtnmxvSEoT9UMCqpE9CoP9AYraOqCao/PCe9b3ztnT+oZWt9kdCeP+DIPPIHA58/SD1EozuIpT8YJa/OMSCbP2COHr+36Z8/+NGpK5/lqT/89nXgnBGdP34Facai6aQ/3JiesMQDlj8QYmcKndekP6BYbmk1JJY/vNnmxvSEoT8Yt9EA3gKlP8he7/54r6o/kMt/SL99nT9waJHtfD+tP2L9n8N8eak/7LH0oQvqmz9w9Zz0vvGVP1gE/1vJjq0/zK/mAMEcmT98REyJJHqhP8AI4dHGEZs/YBVvZB75kz+QpQ9dUN+aPwyOklfnGJw/3LWEfNCznT/AfR04Z0SZP7Dc0mpI3JM/bD6uDRXjmD8E54wo7Q2iP+hztRX7y64/GPa0w1+TnT8IX5hMFYyiP/DXZI16iJ4/hD3t8NdkmT/w12SNeoiiP4ichT3t8J8/",
          "dtype": "f8"
         },
         "y0": " ",
         "yaxis": "y"
        },
        {
         "alignmentgroup": "True",
         "customdata": {
          "bdata": "EBAQEBAQEBAQEBAQEBAQEBAQEBAQEBAQEBAQEBAQEBAQEBAQEBAQEBAQEBAQEBAQEBAQEBAQEBAQEBAQEBAQEBAQEBAQEBAQEBAQEBAQEBAQEBAQEBAQEBAQEBAQEBAQEBAQEBAQEBAQEBAQEBAQEBAQEBAQEBAQEBAQEBAQEBAQEBAQEBAQEBAQEBAQEBAQEBAQEBAQEBAQEBAQEBAQEBAQEBAQEBAQEBAQEBAQEBAQEBAQEBAQEBAQEBAQEBAQEBA=",
          "dtype": "i1",
          "shape": "194, 1"
         },
         "hovertemplate": "<b>%{x}</b><br>BLUE: %{y:.4f}<br><extra></extra>",
         "legendgroup": "Settlement(ID: 16)",
         "marker": {
          "color": "#EF553B"
         },
         "name": "Settlement(ID: 16)",
         "notched": false,
         "offsetgroup": "Settlement(ID: 16)",
         "orientation": "v",
         "showlegend": true,
         "type": "box",
         "x": [
          "Settlement(ID: 16)",
          "Settlement(ID: 16)",
          "Settlement(ID: 16)",
          "Settlement(ID: 16)",
          "Settlement(ID: 16)",
          "Settlement(ID: 16)",
          "Settlement(ID: 16)",
          "Settlement(ID: 16)",
          "Settlement(ID: 16)",
          "Settlement(ID: 16)",
          "Settlement(ID: 16)",
          "Settlement(ID: 16)",
          "Settlement(ID: 16)",
          "Settlement(ID: 16)",
          "Settlement(ID: 16)",
          "Settlement(ID: 16)",
          "Settlement(ID: 16)",
          "Settlement(ID: 16)",
          "Settlement(ID: 16)",
          "Settlement(ID: 16)",
          "Settlement(ID: 16)",
          "Settlement(ID: 16)",
          "Settlement(ID: 16)",
          "Settlement(ID: 16)",
          "Settlement(ID: 16)",
          "Settlement(ID: 16)",
          "Settlement(ID: 16)",
          "Settlement(ID: 16)",
          "Settlement(ID: 16)",
          "Settlement(ID: 16)",
          "Settlement(ID: 16)",
          "Settlement(ID: 16)",
          "Settlement(ID: 16)",
          "Settlement(ID: 16)",
          "Settlement(ID: 16)",
          "Settlement(ID: 16)",
          "Settlement(ID: 16)",
          "Settlement(ID: 16)",
          "Settlement(ID: 16)",
          "Settlement(ID: 16)",
          "Settlement(ID: 16)",
          "Settlement(ID: 16)",
          "Settlement(ID: 16)",
          "Settlement(ID: 16)",
          "Settlement(ID: 16)",
          "Settlement(ID: 16)",
          "Settlement(ID: 16)",
          "Settlement(ID: 16)",
          "Settlement(ID: 16)",
          "Settlement(ID: 16)",
          "Settlement(ID: 16)",
          "Settlement(ID: 16)",
          "Settlement(ID: 16)",
          "Settlement(ID: 16)",
          "Settlement(ID: 16)",
          "Settlement(ID: 16)",
          "Settlement(ID: 16)",
          "Settlement(ID: 16)",
          "Settlement(ID: 16)",
          "Settlement(ID: 16)",
          "Settlement(ID: 16)",
          "Settlement(ID: 16)",
          "Settlement(ID: 16)",
          "Settlement(ID: 16)",
          "Settlement(ID: 16)",
          "Settlement(ID: 16)",
          "Settlement(ID: 16)",
          "Settlement(ID: 16)",
          "Settlement(ID: 16)",
          "Settlement(ID: 16)",
          "Settlement(ID: 16)",
          "Settlement(ID: 16)",
          "Settlement(ID: 16)",
          "Settlement(ID: 16)",
          "Settlement(ID: 16)",
          "Settlement(ID: 16)",
          "Settlement(ID: 16)",
          "Settlement(ID: 16)",
          "Settlement(ID: 16)",
          "Settlement(ID: 16)",
          "Settlement(ID: 16)",
          "Settlement(ID: 16)",
          "Settlement(ID: 16)",
          "Settlement(ID: 16)",
          "Settlement(ID: 16)",
          "Settlement(ID: 16)",
          "Settlement(ID: 16)",
          "Settlement(ID: 16)",
          "Settlement(ID: 16)",
          "Settlement(ID: 16)",
          "Settlement(ID: 16)",
          "Settlement(ID: 16)",
          "Settlement(ID: 16)",
          "Settlement(ID: 16)",
          "Settlement(ID: 16)",
          "Settlement(ID: 16)",
          "Settlement(ID: 16)",
          "Settlement(ID: 16)",
          "Settlement(ID: 16)",
          "Settlement(ID: 16)",
          "Settlement(ID: 16)",
          "Settlement(ID: 16)",
          "Settlement(ID: 16)",
          "Settlement(ID: 16)",
          "Settlement(ID: 16)",
          "Settlement(ID: 16)",
          "Settlement(ID: 16)",
          "Settlement(ID: 16)",
          "Settlement(ID: 16)",
          "Settlement(ID: 16)",
          "Settlement(ID: 16)",
          "Settlement(ID: 16)",
          "Settlement(ID: 16)",
          "Settlement(ID: 16)",
          "Settlement(ID: 16)",
          "Settlement(ID: 16)",
          "Settlement(ID: 16)",
          "Settlement(ID: 16)",
          "Settlement(ID: 16)",
          "Settlement(ID: 16)",
          "Settlement(ID: 16)",
          "Settlement(ID: 16)",
          "Settlement(ID: 16)",
          "Settlement(ID: 16)",
          "Settlement(ID: 16)",
          "Settlement(ID: 16)",
          "Settlement(ID: 16)",
          "Settlement(ID: 16)",
          "Settlement(ID: 16)",
          "Settlement(ID: 16)",
          "Settlement(ID: 16)",
          "Settlement(ID: 16)",
          "Settlement(ID: 16)",
          "Settlement(ID: 16)",
          "Settlement(ID: 16)",
          "Settlement(ID: 16)",
          "Settlement(ID: 16)",
          "Settlement(ID: 16)",
          "Settlement(ID: 16)",
          "Settlement(ID: 16)",
          "Settlement(ID: 16)",
          "Settlement(ID: 16)",
          "Settlement(ID: 16)",
          "Settlement(ID: 16)",
          "Settlement(ID: 16)",
          "Settlement(ID: 16)",
          "Settlement(ID: 16)",
          "Settlement(ID: 16)",
          "Settlement(ID: 16)",
          "Settlement(ID: 16)",
          "Settlement(ID: 16)",
          "Settlement(ID: 16)",
          "Settlement(ID: 16)",
          "Settlement(ID: 16)",
          "Settlement(ID: 16)",
          "Settlement(ID: 16)",
          "Settlement(ID: 16)",
          "Settlement(ID: 16)",
          "Settlement(ID: 16)",
          "Settlement(ID: 16)",
          "Settlement(ID: 16)",
          "Settlement(ID: 16)",
          "Settlement(ID: 16)",
          "Settlement(ID: 16)",
          "Settlement(ID: 16)",
          "Settlement(ID: 16)",
          "Settlement(ID: 16)",
          "Settlement(ID: 16)",
          "Settlement(ID: 16)",
          "Settlement(ID: 16)",
          "Settlement(ID: 16)",
          "Settlement(ID: 16)",
          "Settlement(ID: 16)",
          "Settlement(ID: 16)",
          "Settlement(ID: 16)",
          "Settlement(ID: 16)",
          "Settlement(ID: 16)",
          "Settlement(ID: 16)",
          "Settlement(ID: 16)",
          "Settlement(ID: 16)",
          "Settlement(ID: 16)",
          "Settlement(ID: 16)",
          "Settlement(ID: 16)",
          "Settlement(ID: 16)",
          "Settlement(ID: 16)",
          "Settlement(ID: 16)",
          "Settlement(ID: 16)",
          "Settlement(ID: 16)",
          "Settlement(ID: 16)",
          "Settlement(ID: 16)",
          "Settlement(ID: 16)",
          "Settlement(ID: 16)",
          "Settlement(ID: 16)",
          "Settlement(ID: 16)"
         ],
         "x0": " ",
         "xaxis": "x",
         "y": {
          "bdata": "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",
          "dtype": "f8"
         },
         "y0": " ",
         "yaxis": "y"
        },
        {
         "alignmentgroup": "True",
         "customdata": {
          "bdata": "CwsLCwsLCwsLCwsLCwsLCwsLCwsLCwsLCwsLCwsLCwsLCwsLCwsLCwsLCwsLCwsLCwsLCwsLCwsLCwsLCwsLCwsLCwsLCwsLCwsLCwsLCwsLCwsLCwsLCwsLCwsLCwsLCwsLCwsLCwsLCwsLCwsLCwsLCwsLCwsLCwsLCwsLCwsLCwsLCwsLCwsLCwsLCwsLCwsLCwsLCwsLCwsLCwsLCwsLCwsLCwsLCwsLCwsLCwsLCwsLCwsLCwsLCwsLCwsLCwsLCwsLCwsLCwsLCwsLCwsLCwsLCwsLCwsLCwsLCwsLCwsLCwsLCwsLCwsLCwsLCw==",
          "dtype": "i1",
          "shape": "241, 1"
         },
         "hovertemplate": "<b>%{x}</b><br>BLUE: %{y:.4f}<br><extra></extra>",
         "legendgroup": "Oil palm monoculture(ID: 11)",
         "marker": {
          "color": "#00cc96"
         },
         "name": "Oil palm monoculture(ID: 11)",
         "notched": false,
         "offsetgroup": "Oil palm monoculture(ID: 11)",
         "orientation": "v",
         "showlegend": true,
         "type": "box",
         "x": [
          "Oil palm monoculture(ID: 11)",
          "Oil palm monoculture(ID: 11)",
          "Oil palm monoculture(ID: 11)",
          "Oil palm monoculture(ID: 11)",
          "Oil palm monoculture(ID: 11)",
          "Oil palm monoculture(ID: 11)",
          "Oil palm monoculture(ID: 11)",
          "Oil palm monoculture(ID: 11)",
          "Oil palm monoculture(ID: 11)",
          "Oil palm monoculture(ID: 11)",
          "Oil palm monoculture(ID: 11)",
          "Oil palm monoculture(ID: 11)",
          "Oil palm monoculture(ID: 11)",
          "Oil palm monoculture(ID: 11)",
          "Oil palm monoculture(ID: 11)",
          "Oil palm monoculture(ID: 11)",
          "Oil palm monoculture(ID: 11)",
          "Oil palm monoculture(ID: 11)",
          "Oil palm monoculture(ID: 11)",
          "Oil palm monoculture(ID: 11)",
          "Oil palm monoculture(ID: 11)",
          "Oil palm monoculture(ID: 11)",
          "Oil palm monoculture(ID: 11)",
          "Oil palm monoculture(ID: 11)",
          "Oil palm monoculture(ID: 11)",
          "Oil palm monoculture(ID: 11)",
          "Oil palm monoculture(ID: 11)",
          "Oil palm monoculture(ID: 11)",
          "Oil palm monoculture(ID: 11)",
          "Oil palm monoculture(ID: 11)",
          "Oil palm monoculture(ID: 11)",
          "Oil palm monoculture(ID: 11)",
          "Oil palm monoculture(ID: 11)",
          "Oil palm monoculture(ID: 11)",
          "Oil palm monoculture(ID: 11)",
          "Oil palm monoculture(ID: 11)",
          "Oil palm monoculture(ID: 11)",
          "Oil palm monoculture(ID: 11)",
          "Oil palm monoculture(ID: 11)",
          "Oil palm monoculture(ID: 11)",
          "Oil palm monoculture(ID: 11)",
          "Oil palm monoculture(ID: 11)",
          "Oil palm monoculture(ID: 11)",
          "Oil palm monoculture(ID: 11)",
          "Oil palm monoculture(ID: 11)",
          "Oil palm monoculture(ID: 11)",
          "Oil palm monoculture(ID: 11)",
          "Oil palm monoculture(ID: 11)",
          "Oil palm monoculture(ID: 11)",
          "Oil palm monoculture(ID: 11)",
          "Oil palm monoculture(ID: 11)",
          "Oil palm monoculture(ID: 11)",
          "Oil palm monoculture(ID: 11)",
          "Oil palm monoculture(ID: 11)",
          "Oil palm monoculture(ID: 11)",
          "Oil palm monoculture(ID: 11)",
          "Oil palm monoculture(ID: 11)",
          "Oil palm monoculture(ID: 11)",
          "Oil palm monoculture(ID: 11)",
          "Oil palm monoculture(ID: 11)",
          "Oil palm monoculture(ID: 11)",
          "Oil palm monoculture(ID: 11)",
          "Oil palm monoculture(ID: 11)",
          "Oil palm monoculture(ID: 11)",
          "Oil palm monoculture(ID: 11)",
          "Oil palm monoculture(ID: 11)",
          "Oil palm monoculture(ID: 11)",
          "Oil palm monoculture(ID: 11)",
          "Oil palm monoculture(ID: 11)",
          "Oil palm monoculture(ID: 11)",
          "Oil palm monoculture(ID: 11)",
          "Oil palm monoculture(ID: 11)",
          "Oil palm monoculture(ID: 11)",
          "Oil palm monoculture(ID: 11)",
          "Oil palm monoculture(ID: 11)",
          "Oil palm monoculture(ID: 11)",
          "Oil palm monoculture(ID: 11)",
          "Oil palm monoculture(ID: 11)",
          "Oil palm monoculture(ID: 11)",
          "Oil palm monoculture(ID: 11)",
          "Oil palm monoculture(ID: 11)",
          "Oil palm monoculture(ID: 11)",
          "Oil palm monoculture(ID: 11)",
          "Oil palm monoculture(ID: 11)",
          "Oil palm monoculture(ID: 11)",
          "Oil palm monoculture(ID: 11)",
          "Oil palm monoculture(ID: 11)",
          "Oil palm monoculture(ID: 11)",
          "Oil palm monoculture(ID: 11)",
          "Oil palm monoculture(ID: 11)",
          "Oil palm monoculture(ID: 11)",
          "Oil palm monoculture(ID: 11)",
          "Oil palm monoculture(ID: 11)",
          "Oil palm monoculture(ID: 11)",
          "Oil palm monoculture(ID: 11)",
          "Oil palm monoculture(ID: 11)",
          "Oil palm monoculture(ID: 11)",
          "Oil palm monoculture(ID: 11)",
          "Oil palm monoculture(ID: 11)",
          "Oil palm monoculture(ID: 11)",
          "Oil palm monoculture(ID: 11)",
          "Oil palm monoculture(ID: 11)",
          "Oil palm monoculture(ID: 11)",
          "Oil palm monoculture(ID: 11)",
          "Oil palm monoculture(ID: 11)",
          "Oil palm monoculture(ID: 11)",
          "Oil palm monoculture(ID: 11)",
          "Oil palm monoculture(ID: 11)",
          "Oil palm monoculture(ID: 11)",
          "Oil palm monoculture(ID: 11)",
          "Oil palm monoculture(ID: 11)",
          "Oil palm monoculture(ID: 11)",
          "Oil palm monoculture(ID: 11)",
          "Oil palm monoculture(ID: 11)",
          "Oil palm monoculture(ID: 11)",
          "Oil palm monoculture(ID: 11)",
          "Oil palm monoculture(ID: 11)",
          "Oil palm monoculture(ID: 11)",
          "Oil palm monoculture(ID: 11)",
          "Oil palm monoculture(ID: 11)",
          "Oil palm monoculture(ID: 11)",
          "Oil palm monoculture(ID: 11)",
          "Oil palm monoculture(ID: 11)",
          "Oil palm monoculture(ID: 11)",
          "Oil palm monoculture(ID: 11)",
          "Oil palm monoculture(ID: 11)",
          "Oil palm monoculture(ID: 11)",
          "Oil palm monoculture(ID: 11)",
          "Oil palm monoculture(ID: 11)",
          "Oil palm monoculture(ID: 11)",
          "Oil palm monoculture(ID: 11)",
          "Oil palm monoculture(ID: 11)",
          "Oil palm monoculture(ID: 11)",
          "Oil palm monoculture(ID: 11)",
          "Oil palm monoculture(ID: 11)",
          "Oil palm monoculture(ID: 11)",
          "Oil palm monoculture(ID: 11)",
          "Oil palm monoculture(ID: 11)",
          "Oil palm monoculture(ID: 11)",
          "Oil palm monoculture(ID: 11)",
          "Oil palm monoculture(ID: 11)",
          "Oil palm monoculture(ID: 11)",
          "Oil palm monoculture(ID: 11)",
          "Oil palm monoculture(ID: 11)",
          "Oil palm monoculture(ID: 11)",
          "Oil palm monoculture(ID: 11)",
          "Oil palm monoculture(ID: 11)",
          "Oil palm monoculture(ID: 11)",
          "Oil palm monoculture(ID: 11)",
          "Oil palm monoculture(ID: 11)",
          "Oil palm monoculture(ID: 11)",
          "Oil palm monoculture(ID: 11)",
          "Oil palm monoculture(ID: 11)",
          "Oil palm monoculture(ID: 11)",
          "Oil palm monoculture(ID: 11)",
          "Oil palm monoculture(ID: 11)",
          "Oil palm monoculture(ID: 11)",
          "Oil palm monoculture(ID: 11)",
          "Oil palm monoculture(ID: 11)",
          "Oil palm monoculture(ID: 11)",
          "Oil palm monoculture(ID: 11)",
          "Oil palm monoculture(ID: 11)",
          "Oil palm monoculture(ID: 11)",
          "Oil palm monoculture(ID: 11)",
          "Oil palm monoculture(ID: 11)",
          "Oil palm monoculture(ID: 11)",
          "Oil palm monoculture(ID: 11)",
          "Oil palm monoculture(ID: 11)",
          "Oil palm monoculture(ID: 11)",
          "Oil palm monoculture(ID: 11)",
          "Oil palm monoculture(ID: 11)",
          "Oil palm monoculture(ID: 11)",
          "Oil palm monoculture(ID: 11)",
          "Oil palm monoculture(ID: 11)",
          "Oil palm monoculture(ID: 11)",
          "Oil palm monoculture(ID: 11)",
          "Oil palm monoculture(ID: 11)",
          "Oil palm monoculture(ID: 11)",
          "Oil palm monoculture(ID: 11)",
          "Oil palm monoculture(ID: 11)",
          "Oil palm monoculture(ID: 11)",
          "Oil palm monoculture(ID: 11)",
          "Oil palm monoculture(ID: 11)",
          "Oil palm monoculture(ID: 11)",
          "Oil palm monoculture(ID: 11)",
          "Oil palm monoculture(ID: 11)",
          "Oil palm monoculture(ID: 11)",
          "Oil palm monoculture(ID: 11)",
          "Oil palm monoculture(ID: 11)",
          "Oil palm monoculture(ID: 11)",
          "Oil palm monoculture(ID: 11)",
          "Oil palm monoculture(ID: 11)",
          "Oil palm monoculture(ID: 11)",
          "Oil palm monoculture(ID: 11)",
          "Oil palm monoculture(ID: 11)",
          "Oil palm monoculture(ID: 11)",
          "Oil palm monoculture(ID: 11)",
          "Oil palm monoculture(ID: 11)",
          "Oil palm monoculture(ID: 11)",
          "Oil palm monoculture(ID: 11)",
          "Oil palm monoculture(ID: 11)",
          "Oil palm monoculture(ID: 11)",
          "Oil palm monoculture(ID: 11)",
          "Oil palm monoculture(ID: 11)",
          "Oil palm monoculture(ID: 11)",
          "Oil palm monoculture(ID: 11)",
          "Oil palm monoculture(ID: 11)",
          "Oil palm monoculture(ID: 11)",
          "Oil palm monoculture(ID: 11)",
          "Oil palm monoculture(ID: 11)",
          "Oil palm monoculture(ID: 11)",
          "Oil palm monoculture(ID: 11)",
          "Oil palm monoculture(ID: 11)",
          "Oil palm monoculture(ID: 11)",
          "Oil palm monoculture(ID: 11)",
          "Oil palm monoculture(ID: 11)",
          "Oil palm monoculture(ID: 11)",
          "Oil palm monoculture(ID: 11)",
          "Oil palm monoculture(ID: 11)",
          "Oil palm monoculture(ID: 11)",
          "Oil palm monoculture(ID: 11)",
          "Oil palm monoculture(ID: 11)",
          "Oil palm monoculture(ID: 11)",
          "Oil palm monoculture(ID: 11)",
          "Oil palm monoculture(ID: 11)",
          "Oil palm monoculture(ID: 11)",
          "Oil palm monoculture(ID: 11)",
          "Oil palm monoculture(ID: 11)",
          "Oil palm monoculture(ID: 11)",
          "Oil palm monoculture(ID: 11)",
          "Oil palm monoculture(ID: 11)",
          "Oil palm monoculture(ID: 11)",
          "Oil palm monoculture(ID: 11)",
          "Oil palm monoculture(ID: 11)",
          "Oil palm monoculture(ID: 11)",
          "Oil palm monoculture(ID: 11)",
          "Oil palm monoculture(ID: 11)",
          "Oil palm monoculture(ID: 11)",
          "Oil palm monoculture(ID: 11)",
          "Oil palm monoculture(ID: 11)",
          "Oil palm monoculture(ID: 11)"
         ],
         "x0": " ",
         "xaxis": "x",
         "y": {
          "bdata": "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",
          "dtype": "f8"
         },
         "y0": " ",
         "yaxis": "y"
        },
        {
         "alignmentgroup": "True",
         "customdata": {
          "bdata": "ExMTExMTExMTExMTExMTExMTExMTExMTExMTExMTExMTExMTExMTExMTExMTExM=",
          "dtype": "i1",
          "shape": "47, 1"
         },
         "hovertemplate": "<b>%{x}</b><br>BLUE: %{y:.4f}<br><extra></extra>",
         "legendgroup": "Water Body(ID: 19)",
         "marker": {
          "color": "#ab63fa"
         },
         "name": "Water Body(ID: 19)",
         "notched": false,
         "offsetgroup": "Water Body(ID: 19)",
         "orientation": "v",
         "showlegend": true,
         "type": "box",
         "x": [
          "Water Body(ID: 19)",
          "Water Body(ID: 19)",
          "Water Body(ID: 19)",
          "Water Body(ID: 19)",
          "Water Body(ID: 19)",
          "Water Body(ID: 19)",
          "Water Body(ID: 19)",
          "Water Body(ID: 19)",
          "Water Body(ID: 19)",
          "Water Body(ID: 19)",
          "Water Body(ID: 19)",
          "Water Body(ID: 19)",
          "Water Body(ID: 19)",
          "Water Body(ID: 19)",
          "Water Body(ID: 19)",
          "Water Body(ID: 19)",
          "Water Body(ID: 19)",
          "Water Body(ID: 19)",
          "Water Body(ID: 19)",
          "Water Body(ID: 19)",
          "Water Body(ID: 19)",
          "Water Body(ID: 19)",
          "Water Body(ID: 19)",
          "Water Body(ID: 19)",
          "Water Body(ID: 19)",
          "Water Body(ID: 19)",
          "Water Body(ID: 19)",
          "Water Body(ID: 19)",
          "Water Body(ID: 19)",
          "Water Body(ID: 19)",
          "Water Body(ID: 19)",
          "Water Body(ID: 19)",
          "Water Body(ID: 19)",
          "Water Body(ID: 19)",
          "Water Body(ID: 19)",
          "Water Body(ID: 19)",
          "Water Body(ID: 19)",
          "Water Body(ID: 19)",
          "Water Body(ID: 19)",
          "Water Body(ID: 19)",
          "Water Body(ID: 19)",
          "Water Body(ID: 19)",
          "Water Body(ID: 19)",
          "Water Body(ID: 19)",
          "Water Body(ID: 19)",
          "Water Body(ID: 19)",
          "Water Body(ID: 19)"
         ],
         "x0": " ",
         "xaxis": "x",
         "y": {
          "bdata": "JJf/kH77pj9eaK7TSEuhPxzw+WGE8Kg/yAImcOtupj+46c9+pIigPySX/5B++6Y/+ORhodY0qz8kiV5GsdyoP4KQLGACt6Y/RLHc0mpIlD84ud+hKNCnP0zzjlN0JK0/YI4ev7fpoz8cOQt72uGrPwRM4NbdPJ0/iM5r7BLVrT9YeJeL+E6gPxzTE5Z4QKE/WBe30QDerj9UpMLYQpCXP4guqG+Z06k/xBIPKJtypT8khEcbR6ylP7BfsBu2Lao/1J/9SBEZmj8q6PaSxmivP5wg6j4AqZ0/AAouVtRgoj825QrvchGjP3jMQGX8+5w/1HPS+8bXoj+Qy39Iv32hP6IjufyH9KM/DKZh+IiYpD+MSuoENBGwP+Yn1T4dj6k/yIRf6udNrT+WtyOcFryqP4yJzce1oaI/2D15WKg1oT/AL/XzpiKtP9aLoZxoV6c/8EbmkT8YqD+0HykiwyqeP+D98V61MpU/+ORhodY0qz9ai08BMJ6hPw==",
          "dtype": "f8"
         },
         "y0": " ",
         "yaxis": "y"
        },
        {
         "alignmentgroup": "True",
         "customdata": {
          "bdata": "AQEBAQEBAQEBAQEBAQEBAQEBAQEBAQEBAQEBAQE=",
          "dtype": "i1",
          "shape": "29, 1"
         },
         "hovertemplate": "<b>%{x}</b><br>BLUE: %{y:.4f}<br><extra></extra>",
         "legendgroup": "Acacia plantation(ID: 1)",
         "marker": {
          "color": "#FFA15A"
         },
         "name": "Acacia plantation(ID: 1)",
         "notched": false,
         "offsetgroup": "Acacia plantation(ID: 1)",
         "orientation": "v",
         "showlegend": true,
         "type": "box",
         "x": [
          "Acacia plantation(ID: 1)",
          "Acacia plantation(ID: 1)",
          "Acacia plantation(ID: 1)",
          "Acacia plantation(ID: 1)",
          "Acacia plantation(ID: 1)",
          "Acacia plantation(ID: 1)",
          "Acacia plantation(ID: 1)",
          "Acacia plantation(ID: 1)",
          "Acacia plantation(ID: 1)",
          "Acacia plantation(ID: 1)",
          "Acacia plantation(ID: 1)",
          "Acacia plantation(ID: 1)",
          "Acacia plantation(ID: 1)",
          "Acacia plantation(ID: 1)",
          "Acacia plantation(ID: 1)",
          "Acacia plantation(ID: 1)",
          "Acacia plantation(ID: 1)",
          "Acacia plantation(ID: 1)",
          "Acacia plantation(ID: 1)",
          "Acacia plantation(ID: 1)",
          "Acacia plantation(ID: 1)",
          "Acacia plantation(ID: 1)",
          "Acacia plantation(ID: 1)",
          "Acacia plantation(ID: 1)",
          "Acacia plantation(ID: 1)",
          "Acacia plantation(ID: 1)",
          "Acacia plantation(ID: 1)",
          "Acacia plantation(ID: 1)",
          "Acacia plantation(ID: 1)"
         ],
         "x0": " ",
         "xaxis": "x",
         "y": {
          "bdata": "7Khqgqj7pD+Chv4JLlagPygrTUpBt58/4GPpQxfUm790GmmpvB2nP7TNjekJS6Q/uCizQSYZmT9M0ZFc/kOiP6LMBplk5KI/qAAYz6Choz/MFDqvsUuYP74wmSoYlaI/5Pc2/dmPoD/4iJgSSfSwPxzmywuwj6I/yC5RvTWwnT/SDn9N1qijP/5zmC8vwKQ/GK2jqgmimj+YTBWMSuqYP4isbvWc9J4/aIe/JmvUmz9EJhk5C3uSP0wao3VUNaU/rkz4pX7eqD9M7ncoCvSpPwRM4NbdPKE/OO6UDtb/mT8AZVOu8C6XPw==",
          "dtype": "f8"
         },
         "y0": " ",
         "yaxis": "y"
        },
        {
         "alignmentgroup": "True",
         "customdata": {
          "bdata": "DQ0NDQ0NDQ0NDQ0NDQ0NDQ0NDQ0NDQ0NDQ0NDQ0NDQ0NDQ0NDQ0NDQ0NDQ0NDQ0NDQ0NDQ0NDQ0NDQ0NDQ0NDQ0NDQ==",
          "dtype": "i1",
          "shape": "67, 1"
         },
         "hovertemplate": "<b>%{x}</b><br>BLUE: %{y:.4f}<br><extra></extra>",
         "legendgroup": "Rice Field(ID: 13)",
         "marker": {
          "color": "#19d3f3"
         },
         "name": "Rice Field(ID: 13)",
         "notched": false,
         "offsetgroup": "Rice Field(ID: 13)",
         "orientation": "v",
         "showlegend": true,
         "type": "box",
         "x": [
          "Rice Field(ID: 13)",
          "Rice Field(ID: 13)",
          "Rice Field(ID: 13)",
          "Rice Field(ID: 13)",
          "Rice Field(ID: 13)",
          "Rice Field(ID: 13)",
          "Rice Field(ID: 13)",
          "Rice Field(ID: 13)",
          "Rice Field(ID: 13)",
          "Rice Field(ID: 13)",
          "Rice Field(ID: 13)",
          "Rice Field(ID: 13)",
          "Rice Field(ID: 13)",
          "Rice Field(ID: 13)",
          "Rice Field(ID: 13)",
          "Rice Field(ID: 13)",
          "Rice Field(ID: 13)",
          "Rice Field(ID: 13)",
          "Rice Field(ID: 13)",
          "Rice Field(ID: 13)",
          "Rice Field(ID: 13)",
          "Rice Field(ID: 13)",
          "Rice Field(ID: 13)",
          "Rice Field(ID: 13)",
          "Rice Field(ID: 13)",
          "Rice Field(ID: 13)",
          "Rice Field(ID: 13)",
          "Rice Field(ID: 13)",
          "Rice Field(ID: 13)",
          "Rice Field(ID: 13)",
          "Rice Field(ID: 13)",
          "Rice Field(ID: 13)",
          "Rice Field(ID: 13)",
          "Rice Field(ID: 13)",
          "Rice Field(ID: 13)",
          "Rice Field(ID: 13)",
          "Rice Field(ID: 13)",
          "Rice Field(ID: 13)",
          "Rice Field(ID: 13)",
          "Rice Field(ID: 13)",
          "Rice Field(ID: 13)",
          "Rice Field(ID: 13)",
          "Rice Field(ID: 13)",
          "Rice Field(ID: 13)",
          "Rice Field(ID: 13)",
          "Rice Field(ID: 13)",
          "Rice Field(ID: 13)",
          "Rice Field(ID: 13)",
          "Rice Field(ID: 13)",
          "Rice Field(ID: 13)",
          "Rice Field(ID: 13)",
          "Rice Field(ID: 13)",
          "Rice Field(ID: 13)",
          "Rice Field(ID: 13)",
          "Rice Field(ID: 13)",
          "Rice Field(ID: 13)",
          "Rice Field(ID: 13)",
          "Rice Field(ID: 13)",
          "Rice Field(ID: 13)",
          "Rice Field(ID: 13)",
          "Rice Field(ID: 13)",
          "Rice Field(ID: 13)",
          "Rice Field(ID: 13)",
          "Rice Field(ID: 13)",
          "Rice Field(ID: 13)",
          "Rice Field(ID: 13)",
          "Rice Field(ID: 13)"
         ],
         "x0": " ",
         "xaxis": "x",
         "y": {
          "bdata": "1GAaho+IoT8ooImw4emdP7j8h/Tb16E/ECwOZ341nz9cA1slWByiP3ADPj+MEK4/oNEdxM4Upj9ge2ZJgJqiP2TCL/XzpqQ/mruWkA96oj/qSC7/If2oP3Qaaam8Hac/ZAtBDkqYpz9MB+v/HOajP4qO5PIf0qU/6G9CIQIOoT8k1uJTAIyjP+jxe5v+7Kc/8EbmkT8YqD9AjBAebRyhP4BlpUkp6KA/oswGmWTkoj+UjJyFPe2kP2RwlLw6x6Y/sBIsDmd+lT/UakjcY+mnP8g329yYnpg/4NHGEWvxmT/8LM+Du7OeP+hvQiECDqE/BPpEniRdoz+Q8pNqn46vPySqtwa2Sqg/PPceLjnurj/sVs9J7xunP/wsz4O7s54/+Fxtxf6yqz/g4AuTqYKxP5KRs7CnHag/aCyazk4Gpz9wTE9Y4gG7P9iZQuc1dqU/yEs3iUFgqT8QGVbxRuahP+DurN12oaU/IA3gLZCgiD/8n8N8eQGgP7B3f7xXrZQ/BGnGounsqD/AWyBB8WOoP5J++zpwzrA/mCDqPgCpnT+OxwxUxr+pP0iP39v0Z58/dMO2RZkNpj9KtU/HYwamPyavzjEge6s/XGiu00hLoT/MuRRXlX2jP0hL5e0Ip6M/uMzpspjYlD/EOH8TChGoPwjm6PF7m5I/QN6rVib8mj8AMJ5BQ/+kP6i3BrZKsKA/YM0Bgjl6oD8=",
          "dtype": "f8"
         },
         "y0": " ",
         "yaxis": "y"
        },
        {
         "alignmentgroup": "True",
         "customdata": {
          "bdata": "CgoKCgoKCgoKCgoKCgoKCgoKCgoKCgoKCgoKCgoKCgoKCgoKCgoKCgoKCgoKCgoKCgoKCgoKCgoKCgoKCgoKCgoKCgoKCgoKCgoKCgoKCgoKCgoKCgoKCgoKCgoKCgoKCgoKCgoKCgoKCgoKCgoKCgoKCgoKCgoKCgoKCgo=",
          "dtype": "i1",
          "shape": "125, 1"
         },
         "hovertemplate": "<b>%{x}</b><br>BLUE: %{y:.4f}<br><extra></extra>",
         "legendgroup": "Mixed Garden(ID: 10)",
         "marker": {
          "color": "#FF6692"
         },
         "name": "Mixed Garden(ID: 10)",
         "notched": false,
         "offsetgroup": "Mixed Garden(ID: 10)",
         "orientation": "v",
         "showlegend": true,
         "type": "box",
         "x": [
          "Mixed Garden(ID: 10)",
          "Mixed Garden(ID: 10)",
          "Mixed Garden(ID: 10)",
          "Mixed Garden(ID: 10)",
          "Mixed Garden(ID: 10)",
          "Mixed Garden(ID: 10)",
          "Mixed Garden(ID: 10)",
          "Mixed Garden(ID: 10)",
          "Mixed Garden(ID: 10)",
          "Mixed Garden(ID: 10)",
          "Mixed Garden(ID: 10)",
          "Mixed Garden(ID: 10)",
          "Mixed Garden(ID: 10)",
          "Mixed Garden(ID: 10)",
          "Mixed Garden(ID: 10)",
          "Mixed Garden(ID: 10)",
          "Mixed Garden(ID: 10)",
          "Mixed Garden(ID: 10)",
          "Mixed Garden(ID: 10)",
          "Mixed Garden(ID: 10)",
          "Mixed Garden(ID: 10)",
          "Mixed Garden(ID: 10)",
          "Mixed Garden(ID: 10)",
          "Mixed Garden(ID: 10)",
          "Mixed Garden(ID: 10)",
          "Mixed Garden(ID: 10)",
          "Mixed Garden(ID: 10)",
          "Mixed Garden(ID: 10)",
          "Mixed Garden(ID: 10)",
          "Mixed Garden(ID: 10)",
          "Mixed Garden(ID: 10)",
          "Mixed Garden(ID: 10)",
          "Mixed Garden(ID: 10)",
          "Mixed Garden(ID: 10)",
          "Mixed Garden(ID: 10)",
          "Mixed Garden(ID: 10)",
          "Mixed Garden(ID: 10)",
          "Mixed Garden(ID: 10)",
          "Mixed Garden(ID: 10)",
          "Mixed Garden(ID: 10)",
          "Mixed Garden(ID: 10)",
          "Mixed Garden(ID: 10)",
          "Mixed Garden(ID: 10)",
          "Mixed Garden(ID: 10)",
          "Mixed Garden(ID: 10)",
          "Mixed Garden(ID: 10)",
          "Mixed Garden(ID: 10)",
          "Mixed Garden(ID: 10)",
          "Mixed Garden(ID: 10)",
          "Mixed Garden(ID: 10)",
          "Mixed Garden(ID: 10)",
          "Mixed Garden(ID: 10)",
          "Mixed Garden(ID: 10)",
          "Mixed Garden(ID: 10)",
          "Mixed Garden(ID: 10)",
          "Mixed Garden(ID: 10)",
          "Mixed Garden(ID: 10)",
          "Mixed Garden(ID: 10)",
          "Mixed Garden(ID: 10)",
          "Mixed Garden(ID: 10)",
          "Mixed Garden(ID: 10)",
          "Mixed Garden(ID: 10)",
          "Mixed Garden(ID: 10)",
          "Mixed Garden(ID: 10)",
          "Mixed Garden(ID: 10)",
          "Mixed Garden(ID: 10)",
          "Mixed Garden(ID: 10)",
          "Mixed Garden(ID: 10)",
          "Mixed Garden(ID: 10)",
          "Mixed Garden(ID: 10)",
          "Mixed Garden(ID: 10)",
          "Mixed Garden(ID: 10)",
          "Mixed Garden(ID: 10)",
          "Mixed Garden(ID: 10)",
          "Mixed Garden(ID: 10)",
          "Mixed Garden(ID: 10)",
          "Mixed Garden(ID: 10)",
          "Mixed Garden(ID: 10)",
          "Mixed Garden(ID: 10)",
          "Mixed Garden(ID: 10)",
          "Mixed Garden(ID: 10)",
          "Mixed Garden(ID: 10)",
          "Mixed Garden(ID: 10)",
          "Mixed Garden(ID: 10)",
          "Mixed Garden(ID: 10)",
          "Mixed Garden(ID: 10)",
          "Mixed Garden(ID: 10)",
          "Mixed Garden(ID: 10)",
          "Mixed Garden(ID: 10)",
          "Mixed Garden(ID: 10)",
          "Mixed Garden(ID: 10)",
          "Mixed Garden(ID: 10)",
          "Mixed Garden(ID: 10)",
          "Mixed Garden(ID: 10)",
          "Mixed Garden(ID: 10)",
          "Mixed Garden(ID: 10)",
          "Mixed Garden(ID: 10)",
          "Mixed Garden(ID: 10)",
          "Mixed Garden(ID: 10)",
          "Mixed Garden(ID: 10)",
          "Mixed Garden(ID: 10)",
          "Mixed Garden(ID: 10)",
          "Mixed Garden(ID: 10)",
          "Mixed Garden(ID: 10)",
          "Mixed Garden(ID: 10)",
          "Mixed Garden(ID: 10)",
          "Mixed Garden(ID: 10)",
          "Mixed Garden(ID: 10)",
          "Mixed Garden(ID: 10)",
          "Mixed Garden(ID: 10)",
          "Mixed Garden(ID: 10)",
          "Mixed Garden(ID: 10)",
          "Mixed Garden(ID: 10)",
          "Mixed Garden(ID: 10)",
          "Mixed Garden(ID: 10)",
          "Mixed Garden(ID: 10)",
          "Mixed Garden(ID: 10)",
          "Mixed Garden(ID: 10)",
          "Mixed Garden(ID: 10)",
          "Mixed Garden(ID: 10)",
          "Mixed Garden(ID: 10)",
          "Mixed Garden(ID: 10)",
          "Mixed Garden(ID: 10)",
          "Mixed Garden(ID: 10)",
          "Mixed Garden(ID: 10)"
         ],
         "x0": " ",
         "xaxis": "x",
         "y": {
          "bdata": "EsKjjSPWoD+OWItPATCkPzhsW5TZIK0/oEW28/3Urj/I2xFOC16uP5SMnIU97aQ/wP9WsmMjpD+gbMoV3uWwP9TFbTSAt6A/cBb2tMNfrz/cY+lDF9SjPyAVxhaCHJw/ANTUsrW+oD/8OnDOiNKgP4i/JmvUQ6Q/cLRxxFp8ij8ouFhRg2mwP2hhTzv8NZk/tOnPfqSInD/MQGX8+4yTP1C9NbBVgqs/SHcQO1Posz8Ymus00lKZP/jaM0sC1KQ/sFWCxeHMnz+QlsrbEU6rP5Q6AU2EDbE/DFnd6jnpqT9Oet/42jOhPzirPldbsak/jNtoAG+BoD++TX/2I0WqPywrTUpBt6M/LH3ogvqWoT9IWYY41sWdPxz+mqxRD7E/YJeo3hrYmj/4NVmjHqKZPwAd5ssLsJ8/7Eyh8xq7nD84XRYTm4+jP7yHS447paM/dJ1GWipvoz+EmbZ/ZaWhP4BkARO4das/dJ1GWipvoz8QGVbxRuahP943vvbMkrI/WvW52or9oz9gMlUwKqmbPzC/mgMEc5w/BJXx7zMupD8AYDyDhv6tPywmNh/XhqA/0IO7s3bboT9ICI82jlivP6T3ja89s6g/+oOB597Doz8iFcYWghygP7QfKSLDKqI/EKFKzR5onT+QZiyazk6eP0A6deWzPJ8/0CWqtwa2ij/45GGh1jSrP2wSg8DKoZ0/SFmGONbFnT/kZrgBnx+mP27A54cRwqM/Ugq6vaQxpj/kGTT0T3CrP7Cd76fGS5c/SJkNMsnIqT+e/UgRGVahP0ywOJz51aI/BOeMKO0Noj/iTulg/Z+hPyCPGaiMf48/CFVq9kArmD8Y7IZtizKwPwhyUMJM258/FJFhFW9koj9gJLTlXIqhPwQcQpWaPZQ/gK0SLA5nrj+YfLPNjemlPwwpP6n26aA/bJp3nKIjoT9c+SzPg7uXP0jOwp52+Js//LeSHRuBpD8QiNf1C3anP3goCvSJPKU/ILByaJHtnD+Ugm4vaYyaP5Axdy0hH6w/YjdsW5TZoj8CQ1a3ek6mP6oOuRluwKE/1LzjFB3JpT9gjh6/t+mfPxwqxvmbUKI/CM11GmmpmD+Ugm4vaYyaP2CXqN4a2Jo/nNzvUBTooT9I/bypSIWZP6xCyk+qfZ4/Zn41BwjmpD/ifyvZsRGgP2RnCp3X2Ks/3nGKjuTyoT9UXFX2XRGkP5iVJqWg25s/PPceLjnurj94uYjvxKybP85wAz4/jKA/LP8h/fZ1qD/cY+lDF9SjP0xFKowtBKs/YPQVpBmLrj88P4wQHm2mP2QGKuPfZ6Q/pJGWytsRmj9e9BWkGYuuPw==",
          "dtype": "f8"
         },
         "y0": " ",
         "yaxis": "y"
        },
        {
         "alignmentgroup": "True",
         "customdata": {
          "bdata": "Dg4ODg4ODg4ODg4ODg4ODg4ODg4ODg4O",
          "dtype": "i1",
          "shape": "24, 1"
         },
         "hovertemplate": "<b>%{x}</b><br>BLUE: %{y:.4f}<br><extra></extra>",
         "legendgroup": "Rubber agroforest(ID: 14)",
         "marker": {
          "color": "#B6E880"
         },
         "name": "Rubber agroforest(ID: 14)",
         "notched": false,
         "offsetgroup": "Rubber agroforest(ID: 14)",
         "orientation": "v",
         "showlegend": true,
         "type": "box",
         "x": [
          "Rubber agroforest(ID: 14)",
          "Rubber agroforest(ID: 14)",
          "Rubber agroforest(ID: 14)",
          "Rubber agroforest(ID: 14)",
          "Rubber agroforest(ID: 14)",
          "Rubber agroforest(ID: 14)",
          "Rubber agroforest(ID: 14)",
          "Rubber agroforest(ID: 14)",
          "Rubber agroforest(ID: 14)",
          "Rubber agroforest(ID: 14)",
          "Rubber agroforest(ID: 14)",
          "Rubber agroforest(ID: 14)",
          "Rubber agroforest(ID: 14)",
          "Rubber agroforest(ID: 14)",
          "Rubber agroforest(ID: 14)",
          "Rubber agroforest(ID: 14)",
          "Rubber agroforest(ID: 14)",
          "Rubber agroforest(ID: 14)",
          "Rubber agroforest(ID: 14)",
          "Rubber agroforest(ID: 14)",
          "Rubber agroforest(ID: 14)",
          "Rubber agroforest(ID: 14)",
          "Rubber agroforest(ID: 14)",
          "Rubber agroforest(ID: 14)"
         ],
         "x0": " ",
         "xaxis": "x",
         "y": {
          "bdata": "uP0rK01KrT/WkLjH0oeqP44G8BZIUKY/QE0tW+uLpD/QLAlQU8ugP1CbOLnfoaA/AMEcPX5vmz+YVkPiHkufP3AbDeAtkJg/4AcgtYmTmz9QUiegibCZP+A2GsBbIJk/yFBOtKuQkj+4jQbwFkiYPyDmywuwj54/eEoH6/8clj+84xQdyeWnP1DkSdI1k58/mFtaDYl7sD8YEvdY+tCZPyDW4lMAjJ8/WN3qOel9mz8wp8tiYvOJPwCWlSaloK8/",
          "dtype": "f8"
         },
         "y0": " ",
         "yaxis": "y"
        },
        {
         "alignmentgroup": "True",
         "customdata": {
          "bdata": "CAgICAgICAgICAgICAgICAgICAgICAgICAgICAgICAgI",
          "dtype": "i1",
          "shape": "33, 1"
         },
         "hovertemplate": "<b>%{x}</b><br>BLUE: %{y:.4f}<br><extra></extra>",
         "legendgroup": "Logged Over Forest Low Density(ID: 8)",
         "marker": {
          "color": "#FF97FF"
         },
         "name": "Logged Over Forest Low Density(ID: 8)",
         "notched": false,
         "offsetgroup": "Logged Over Forest Low Density(ID: 8)",
         "orientation": "v",
         "showlegend": true,
         "type": "box",
         "x": [
          "Logged Over Forest Low Density(ID: 8)",
          "Logged Over Forest Low Density(ID: 8)",
          "Logged Over Forest Low Density(ID: 8)",
          "Logged Over Forest Low Density(ID: 8)",
          "Logged Over Forest Low Density(ID: 8)",
          "Logged Over Forest Low Density(ID: 8)",
          "Logged Over Forest Low Density(ID: 8)",
          "Logged Over Forest Low Density(ID: 8)",
          "Logged Over Forest Low Density(ID: 8)",
          "Logged Over Forest Low Density(ID: 8)",
          "Logged Over Forest Low Density(ID: 8)",
          "Logged Over Forest Low Density(ID: 8)",
          "Logged Over Forest Low Density(ID: 8)",
          "Logged Over Forest Low Density(ID: 8)",
          "Logged Over Forest Low Density(ID: 8)",
          "Logged Over Forest Low Density(ID: 8)",
          "Logged Over Forest Low Density(ID: 8)",
          "Logged Over Forest Low Density(ID: 8)",
          "Logged Over Forest Low Density(ID: 8)",
          "Logged Over Forest Low Density(ID: 8)",
          "Logged Over Forest Low Density(ID: 8)",
          "Logged Over Forest Low Density(ID: 8)",
          "Logged Over Forest Low Density(ID: 8)",
          "Logged Over Forest Low Density(ID: 8)",
          "Logged Over Forest Low Density(ID: 8)",
          "Logged Over Forest Low Density(ID: 8)",
          "Logged Over Forest Low Density(ID: 8)",
          "Logged Over Forest Low Density(ID: 8)",
          "Logged Over Forest Low Density(ID: 8)",
          "Logged Over Forest Low Density(ID: 8)",
          "Logged Over Forest Low Density(ID: 8)",
          "Logged Over Forest Low Density(ID: 8)",
          "Logged Over Forest Low Density(ID: 8)"
         ],
         "x0": " ",
         "xaxis": "x",
         "y": {
          "bdata": "IF7XL9gNoz9sVn2utmKhP4rNx7WhYqI/aNDQP8HFnj8+0AoMWd2gP8ga9RCN7pA/yqZc4V0uoj+oP/uRIjKgP5C4x9KHLqA/QHlYqDXNmz/YmULnNXalP6Tap+MxA50/mF/NAYI5mj8I16NwPQqfPwTFjzF3La0/0A5/Tdaonz/89nXgnBGhPwDBHD1+b5s/iKJAn8iTmD9c8KKvIM2gPwTwFkhQ/Jg/yJwui4nNlz/MC7CPTl2dPxj2tMNfk50/NBE2PL1Smj/kZrgBnx+mPxhgH5268qM/CEs8oGzKqz+2QILix5ihP2iR7Xw/NaY/UFjiAWVTrD9odAexM4WaP6QjufyH9KM/",
          "dtype": "f8"
         },
         "y0": " ",
         "yaxis": "y"
        },
        {
         "alignmentgroup": "True",
         "customdata": {
          "bdata": "ERERERERERERERE=",
          "dtype": "i1",
          "shape": "11, 1"
         },
         "hovertemplate": "<b>%{x}</b><br>BLUE: %{y:.4f}<br><extra></extra>",
         "legendgroup": "Shrub(ID: 17)",
         "marker": {
          "color": "#FECB52"
         },
         "name": "Shrub(ID: 17)",
         "notched": false,
         "offsetgroup": "Shrub(ID: 17)",
         "orientation": "v",
         "showlegend": true,
         "type": "box",
         "x": [
          "Shrub(ID: 17)",
          "Shrub(ID: 17)",
          "Shrub(ID: 17)",
          "Shrub(ID: 17)",
          "Shrub(ID: 17)",
          "Shrub(ID: 17)",
          "Shrub(ID: 17)",
          "Shrub(ID: 17)",
          "Shrub(ID: 17)",
          "Shrub(ID: 17)",
          "Shrub(ID: 17)"
         ],
         "x0": " ",
         "xaxis": "x",
         "y": {
          "bdata": "FJFhFW9koj8kiV5GsdyoP9q/stKkFKg/8HIR34lZnz+cPCzUmuaZP6Ay/n3GhZM/RHi0ccRatD9QGf8+48KVP+Slm8QgsKI/uCizQSYZmT/AUfLqHAOiPw==",
          "dtype": "f8"
         },
         "y0": " ",
         "yaxis": "y"
        },
        {
         "alignmentgroup": "True",
         "customdata": {
          "bdata": "BgYGBgYGBgYGBgYGBgYGBgYGBgYG",
          "dtype": "i1",
          "shape": "21, 1"
         },
         "hovertemplate": "<b>%{x}</b><br>BLUE: %{y:.4f}<br><extra></extra>",
         "legendgroup": "Grass(ID: 6)",
         "marker": {
          "color": "#636efa"
         },
         "name": "Grass(ID: 6)",
         "notched": false,
         "offsetgroup": "Grass(ID: 6)",
         "orientation": "v",
         "showlegend": true,
         "type": "box",
         "x": [
          "Grass(ID: 6)",
          "Grass(ID: 6)",
          "Grass(ID: 6)",
          "Grass(ID: 6)",
          "Grass(ID: 6)",
          "Grass(ID: 6)",
          "Grass(ID: 6)",
          "Grass(ID: 6)",
          "Grass(ID: 6)",
          "Grass(ID: 6)",
          "Grass(ID: 6)",
          "Grass(ID: 6)",
          "Grass(ID: 6)",
          "Grass(ID: 6)",
          "Grass(ID: 6)",
          "Grass(ID: 6)",
          "Grass(ID: 6)",
          "Grass(ID: 6)",
          "Grass(ID: 6)",
          "Grass(ID: 6)",
          "Grass(ID: 6)"
         ],
         "x0": " ",
         "xaxis": "x",
         "y": {
          "bdata": "LP8h/fZ1qD/QyyiWW1qVP3DdzVMdcqs/WqMeotEdsD+c9L7xtWewP9g07zhFR7A/RAQcQpWaoT+UjJyFPe2kP9KpK5/leaQ/KsHicOZXoT+eXinLEMeoP1wWE5uPa6M/RCqMLQQ5pD/oTKHzGrucP/DXZI16iJ4/jDIbZJKRoT+8xi5RvTWgP3jpJjEIrKg/1GpI3GPppz+gEAGHUKWePzwUBfpEnqA/",
          "dtype": "f8"
         },
         "y0": " ",
         "yaxis": "y"
        },
        {
         "alignmentgroup": "True",
         "customdata": {
          "bdata": "CQkJCQkJCQkJCQkJCQ==",
          "dtype": "i1",
          "shape": "13, 1"
         },
         "hovertemplate": "<b>%{x}</b><br>BLUE: %{y:.4f}<br><extra></extra>",
         "legendgroup": "Logged over swamp forest(ID: 9)",
         "marker": {
          "color": "#EF553B"
         },
         "name": "Logged over swamp forest(ID: 9)",
         "notched": false,
         "offsetgroup": "Logged over swamp forest(ID: 9)",
         "orientation": "v",
         "showlegend": true,
         "type": "box",
         "x": [
          "Logged over swamp forest(ID: 9)",
          "Logged over swamp forest(ID: 9)",
          "Logged over swamp forest(ID: 9)",
          "Logged over swamp forest(ID: 9)",
          "Logged over swamp forest(ID: 9)",
          "Logged over swamp forest(ID: 9)",
          "Logged over swamp forest(ID: 9)",
          "Logged over swamp forest(ID: 9)",
          "Logged over swamp forest(ID: 9)",
          "Logged over swamp forest(ID: 9)",
          "Logged over swamp forest(ID: 9)",
          "Logged over swamp forest(ID: 9)",
          "Logged over swamp forest(ID: 9)"
         ],
         "x0": " ",
         "xaxis": "x",
         "y": {
          "bdata": "QKhSswdamT84yCQjZ2GXPy5RvTWwVaY/TtGRXP5Doj84pics8YCmPyavzjEge6s/bLddaK7TqD+QZiyazk6iP/yk2qfjMaM/eA+XHHdKqz9cGyrG+ZumP0QEHEKVmqE/gPs6cM6Imj8=",
          "dtype": "f8"
         },
         "y0": " ",
         "yaxis": "y"
        },
        {
         "alignmentgroup": "True",
         "customdata": {
          "bdata": "BwcH",
          "dtype": "i1",
          "shape": "3, 1"
         },
         "hovertemplate": "<b>%{x}</b><br>BLUE: %{y:.4f}<br><extra></extra>",
         "legendgroup": "Logged over forest-high density(ID: 7)",
         "marker": {
          "color": "#00cc96"
         },
         "name": "Logged over forest-high density(ID: 7)",
         "notched": false,
         "offsetgroup": "Logged over forest-high density(ID: 7)",
         "orientation": "v",
         "showlegend": true,
         "type": "box",
         "x": [
          "Logged over forest-high density(ID: 7)",
          "Logged over forest-high density(ID: 7)",
          "Logged over forest-high density(ID: 7)"
         ],
         "x0": " ",
         "xaxis": "x",
         "y": {
          "bdata": "oh6i0R3EoD+IdhVSflKhP4ychT3t8KM/",
          "dtype": "f8"
         },
         "y0": " ",
         "yaxis": "y"
        },
        {
         "alignmentgroup": "True",
         "customdata": {
          "bdata": "BQUFBQUFBQUFBQUFBQUFBQUFBQUFBQUFBQUFBQUF",
          "dtype": "i1",
          "shape": "30, 1"
         },
         "hovertemplate": "<b>%{x}</b><br>BLUE: %{y:.4f}<br><extra></extra>",
         "legendgroup": "Coffee Agroforest(ID: 5)",
         "marker": {
          "color": "#ab63fa"
         },
         "name": "Coffee Agroforest(ID: 5)",
         "notched": false,
         "offsetgroup": "Coffee Agroforest(ID: 5)",
         "orientation": "v",
         "showlegend": true,
         "type": "box",
         "x": [
          "Coffee Agroforest(ID: 5)",
          "Coffee Agroforest(ID: 5)",
          "Coffee Agroforest(ID: 5)",
          "Coffee Agroforest(ID: 5)",
          "Coffee Agroforest(ID: 5)",
          "Coffee Agroforest(ID: 5)",
          "Coffee Agroforest(ID: 5)",
          "Coffee Agroforest(ID: 5)",
          "Coffee Agroforest(ID: 5)",
          "Coffee Agroforest(ID: 5)",
          "Coffee Agroforest(ID: 5)",
          "Coffee Agroforest(ID: 5)",
          "Coffee Agroforest(ID: 5)",
          "Coffee Agroforest(ID: 5)",
          "Coffee Agroforest(ID: 5)",
          "Coffee Agroforest(ID: 5)",
          "Coffee Agroforest(ID: 5)",
          "Coffee Agroforest(ID: 5)",
          "Coffee Agroforest(ID: 5)",
          "Coffee Agroforest(ID: 5)",
          "Coffee Agroforest(ID: 5)",
          "Coffee Agroforest(ID: 5)",
          "Coffee Agroforest(ID: 5)",
          "Coffee Agroforest(ID: 5)",
          "Coffee Agroforest(ID: 5)",
          "Coffee Agroforest(ID: 5)",
          "Coffee Agroforest(ID: 5)",
          "Coffee Agroforest(ID: 5)",
          "Coffee Agroforest(ID: 5)",
          "Coffee Agroforest(ID: 5)"
         ],
         "x0": " ",
         "xaxis": "x",
         "y": {
          "bdata": "TLSrkPKTlj8EgZVDi2yTP1TUYBqGj6Q/oNEdxM4UsD9I4XoUrkehP3ZUNUHUfaA/yEEJM23/nj8QqtTsgVaYP8he7/54r4I/ABgOhGQBIz8UGLK61XOSP2REaW/whZE/gMr49xkXjj/obp7qkJuRP7gd4bTgRY8/8FpCPujZjD+4EOSghJmGPzCBW3fzVIc/MIFbd/NUhz8YM1AZ/z6LPxxtHLEWn5I/3GPpQxfUnz+kLEMc6+KaP2hq2VpfJJQ/jKUPXVDfmj/AR8SUSKKXPyRKe4MvTJI/XMR3YtaLpT+QuMfShy6gP6AZi6azk5k/",
          "dtype": "f8"
         },
         "y0": " ",
         "yaxis": "y"
        },
        {
         "alignmentgroup": "True",
         "customdata": {
          "bdata": "BAQEBA==",
          "dtype": "i1",
          "shape": "4, 1"
         },
         "hovertemplate": "<b>%{x}</b><br>BLUE: %{y:.4f}<br><extra></extra>",
         "legendgroup": "Coconut monoculture(ID: 4)",
         "marker": {
          "color": "#FFA15A"
         },
         "name": "Coconut monoculture(ID: 4)",
         "notched": false,
         "offsetgroup": "Coconut monoculture(ID: 4)",
         "orientation": "v",
         "showlegend": true,
         "type": "box",
         "x": [
          "Coconut monoculture(ID: 4)",
          "Coconut monoculture(ID: 4)",
          "Coconut monoculture(ID: 4)",
          "Coconut monoculture(ID: 4)"
         ],
         "x0": " ",
         "xaxis": "x",
         "y": {
          "bdata": "eJeL+E7Mqj+wmNh8XBuuP7QkQE0tW6U/MsSxLm6joz8=",
          "dtype": "f8"
         },
         "y0": " ",
         "yaxis": "y"
        },
        {
         "alignmentgroup": "True",
         "customdata": {
          "bdata": "DAwMDAwMDAwMDAwMDAw=",
          "dtype": "i1",
          "shape": "14, 1"
         },
         "hovertemplate": "<b>%{x}</b><br>BLUE: %{y:.4f}<br><extra></extra>",
         "legendgroup": "Other Crops(ID: 12)",
         "marker": {
          "color": "#19d3f3"
         },
         "name": "Other Crops(ID: 12)",
         "notched": false,
         "offsetgroup": "Other Crops(ID: 12)",
         "orientation": "v",
         "showlegend": true,
         "type": "box",
         "x": [
          "Other Crops(ID: 12)",
          "Other Crops(ID: 12)",
          "Other Crops(ID: 12)",
          "Other Crops(ID: 12)",
          "Other Crops(ID: 12)",
          "Other Crops(ID: 12)",
          "Other Crops(ID: 12)",
          "Other Crops(ID: 12)",
          "Other Crops(ID: 12)",
          "Other Crops(ID: 12)",
          "Other Crops(ID: 12)",
          "Other Crops(ID: 12)",
          "Other Crops(ID: 12)",
          "Other Crops(ID: 12)"
         ],
         "x0": " ",
         "xaxis": "x",
         "y": {
          "bdata": "8Btfe2ZJoj8MjpJX5xigP4ychT3t8KM/2Kz6XG3Fpj+gq63YX3ajP8r49xkXDqA/COVEuwopjz8QQGoTJ/evP4BI3GPpQ2c/4AcgtYmTmz9mx0YgXtenP6Tk1TkGZKc/0OgOYmcKoT/gXS7iOzGrPw==",
          "dtype": "f8"
         },
         "y0": " ",
         "yaxis": "y"
        },
        {
         "alignmentgroup": "True",
         "customdata": {
          "bdata": "AwMDAwMDAwMDAwMDAwM=",
          "dtype": "i1",
          "shape": "14, 1"
         },
         "hovertemplate": "<b>%{x}</b><br>BLUE: %{y:.4f}<br><extra></extra>",
         "legendgroup": "Cleared Land(ID: 3)",
         "marker": {
          "color": "#FF6692"
         },
         "name": "Cleared Land(ID: 3)",
         "notched": false,
         "offsetgroup": "Cleared Land(ID: 3)",
         "orientation": "v",
         "showlegend": true,
         "type": "box",
         "x": [
          "Cleared Land(ID: 3)",
          "Cleared Land(ID: 3)",
          "Cleared Land(ID: 3)",
          "Cleared Land(ID: 3)",
          "Cleared Land(ID: 3)",
          "Cleared Land(ID: 3)",
          "Cleared Land(ID: 3)",
          "Cleared Land(ID: 3)",
          "Cleared Land(ID: 3)",
          "Cleared Land(ID: 3)",
          "Cleared Land(ID: 3)",
          "Cleared Land(ID: 3)",
          "Cleared Land(ID: 3)",
          "Cleared Land(ID: 3)"
         ],
         "x0": " ",
         "xaxis": "x",
         "y": {
          "bdata": "2v6VlSalpD+05VyKq8qoP4Ahq1s9J6E/SJhp+1dWmj+436Eo0CeWP7wPQGoTJ58/Imx4eqUsoT8kfzDw3HuiP3DwhclUwaw/kFN0JJf/oD8kl/+QfvumP3wxlBPtKpw/LNmxEYjXpT9Q0ZFc/kOePw==",
          "dtype": "f8"
         },
         "y0": " ",
         "yaxis": "y"
        },
        {
         "alignmentgroup": "True",
         "customdata": {
          "bdata": "EhISEhI=",
          "dtype": "i1",
          "shape": "5, 1"
         },
         "hovertemplate": "<b>%{x}</b><br>BLUE: %{y:.4f}<br><extra></extra>",
         "legendgroup": "Tea plantation(ID: 18)",
         "marker": {
          "color": "#B6E880"
         },
         "name": "Tea plantation(ID: 18)",
         "notched": false,
         "offsetgroup": "Tea plantation(ID: 18)",
         "orientation": "v",
         "showlegend": true,
         "type": "box",
         "x": [
          "Tea plantation(ID: 18)",
          "Tea plantation(ID: 18)",
          "Tea plantation(ID: 18)",
          "Tea plantation(ID: 18)",
          "Tea plantation(ID: 18)"
         ],
         "x0": " ",
         "xaxis": "x",
         "y": {
          "bdata": "GNnO91PjlT8AHEKVmj2UP+xMofMau6A/UGuad5yikz9Y/+cwX16QPw==",
          "dtype": "f8"
         },
         "y0": " ",
         "yaxis": "y"
        },
        {
         "alignmentgroup": "True",
         "customdata": {
          "bdata": "AgICAgICAgICAgICAgICAgICAgIC",
          "dtype": "i1",
          "shape": "21, 1"
         },
         "hovertemplate": "<b>%{x}</b><br>BLUE: %{y:.4f}<br><extra></extra>",
         "legendgroup": "Cane(ID: 2)",
         "marker": {
          "color": "#FF97FF"
         },
         "name": "Cane(ID: 2)",
         "notched": false,
         "offsetgroup": "Cane(ID: 2)",
         "orientation": "v",
         "showlegend": true,
         "type": "box",
         "x": [
          "Cane(ID: 2)",
          "Cane(ID: 2)",
          "Cane(ID: 2)",
          "Cane(ID: 2)",
          "Cane(ID: 2)",
          "Cane(ID: 2)",
          "Cane(ID: 2)",
          "Cane(ID: 2)",
          "Cane(ID: 2)",
          "Cane(ID: 2)",
          "Cane(ID: 2)",
          "Cane(ID: 2)",
          "Cane(ID: 2)",
          "Cane(ID: 2)",
          "Cane(ID: 2)",
          "Cane(ID: 2)",
          "Cane(ID: 2)",
          "Cane(ID: 2)",
          "Cane(ID: 2)",
          "Cane(ID: 2)",
          "Cane(ID: 2)"
         ],
         "x0": " ",
         "xaxis": "x",
         "y": {
          "bdata": "eOkmMQisqD/69xkXDoSsP4Ra07zjFKU/8ODurN12mT9g+IiYEkmwP/g1WaMeopk/0PxqDhDMrT+4w1+TNeqZPzZsW5TZIK0/UIiAQ6hStD8oxvmbUIikPzjlCu9yEZ8/2Kz6XG3Fpj/e5SK+E7OqPxQi4BCq1LE/iBHCo40joj8830+Nl26qP/jaM0sC1KQ/MI/8wcBzrT8QLbKd76euP+DlIr4Ts6o/",
          "dtype": "f8"
         },
         "y0": " ",
         "yaxis": "y"
        }
       ],
       "layout": {
        "boxmode": "overlay",
        "height": 500,
        "hovermode": "closest",
        "legend": {
         "title": {
          "text": "Class"
         },
         "tracegroupgap": 0
        },
        "showlegend": false,
        "template": {
         "data": {
          "bar": [
           {
            "error_x": {
             "color": "#2a3f5f"
            },
            "error_y": {
             "color": "#2a3f5f"
            },
            "marker": {
             "line": {
              "color": "white",
              "width": 0.5
             },
             "pattern": {
              "fillmode": "overlay",
              "size": 10,
              "solidity": 0.2
             }
            },
            "type": "bar"
           }
          ],
          "barpolar": [
           {
            "marker": {
             "line": {
              "color": "white",
              "width": 0.5
             },
             "pattern": {
              "fillmode": "overlay",
              "size": 10,
              "solidity": 0.2
             }
            },
            "type": "barpolar"
           }
          ],
          "carpet": [
           {
            "aaxis": {
             "endlinecolor": "#2a3f5f",
             "gridcolor": "#C8D4E3",
             "linecolor": "#C8D4E3",
             "minorgridcolor": "#C8D4E3",
             "startlinecolor": "#2a3f5f"
            },
            "baxis": {
             "endlinecolor": "#2a3f5f",
             "gridcolor": "#C8D4E3",
             "linecolor": "#C8D4E3",
             "minorgridcolor": "#C8D4E3",
             "startlinecolor": "#2a3f5f"
            },
            "type": "carpet"
           }
          ],
          "choropleth": [
           {
            "colorbar": {
             "outlinewidth": 0,
             "ticks": ""
            },
            "type": "choropleth"
           }
          ],
          "contour": [
           {
            "colorbar": {
             "outlinewidth": 0,
             "ticks": ""
            },
            "colorscale": [
             [
              0,
              "#0d0887"
             ],
             [
              0.1111111111111111,
              "#46039f"
             ],
             [
              0.2222222222222222,
              "#7201a8"
             ],
             [
              0.3333333333333333,
              "#9c179e"
             ],
             [
              0.4444444444444444,
              "#bd3786"
             ],
             [
              0.5555555555555556,
              "#d8576b"
             ],
             [
              0.6666666666666666,
              "#ed7953"
             ],
             [
              0.7777777777777778,
              "#fb9f3a"
             ],
             [
              0.8888888888888888,
              "#fdca26"
             ],
             [
              1,
              "#f0f921"
             ]
            ],
            "type": "contour"
           }
          ],
          "contourcarpet": [
           {
            "colorbar": {
             "outlinewidth": 0,
             "ticks": ""
            },
            "type": "contourcarpet"
           }
          ],
          "heatmap": [
           {
            "colorbar": {
             "outlinewidth": 0,
             "ticks": ""
            },
            "colorscale": [
             [
              0,
              "#0d0887"
             ],
             [
              0.1111111111111111,
              "#46039f"
             ],
             [
              0.2222222222222222,
              "#7201a8"
             ],
             [
              0.3333333333333333,
              "#9c179e"
             ],
             [
              0.4444444444444444,
              "#bd3786"
             ],
             [
              0.5555555555555556,
              "#d8576b"
             ],
             [
              0.6666666666666666,
              "#ed7953"
             ],
             [
              0.7777777777777778,
              "#fb9f3a"
             ],
             [
              0.8888888888888888,
              "#fdca26"
             ],
             [
              1,
              "#f0f921"
             ]
            ],
            "type": "heatmap"
           }
          ],
          "histogram": [
           {
            "marker": {
             "pattern": {
              "fillmode": "overlay",
              "size": 10,
              "solidity": 0.2
             }
            },
            "type": "histogram"
           }
          ],
          "histogram2d": [
           {
            "colorbar": {
             "outlinewidth": 0,
             "ticks": ""
            },
            "colorscale": [
             [
              0,
              "#0d0887"
             ],
             [
              0.1111111111111111,
              "#46039f"
             ],
             [
              0.2222222222222222,
              "#7201a8"
             ],
             [
              0.3333333333333333,
              "#9c179e"
             ],
             [
              0.4444444444444444,
              "#bd3786"
             ],
             [
              0.5555555555555556,
              "#d8576b"
             ],
             [
              0.6666666666666666,
              "#ed7953"
             ],
             [
              0.7777777777777778,
              "#fb9f3a"
             ],
             [
              0.8888888888888888,
              "#fdca26"
             ],
             [
              1,
              "#f0f921"
             ]
            ],
            "type": "histogram2d"
           }
          ],
          "histogram2dcontour": [
           {
            "colorbar": {
             "outlinewidth": 0,
             "ticks": ""
            },
            "colorscale": [
             [
              0,
              "#0d0887"
             ],
             [
              0.1111111111111111,
              "#46039f"
             ],
             [
              0.2222222222222222,
              "#7201a8"
             ],
             [
              0.3333333333333333,
              "#9c179e"
             ],
             [
              0.4444444444444444,
              "#bd3786"
             ],
             [
              0.5555555555555556,
              "#d8576b"
             ],
             [
              0.6666666666666666,
              "#ed7953"
             ],
             [
              0.7777777777777778,
              "#fb9f3a"
             ],
             [
              0.8888888888888888,
              "#fdca26"
             ],
             [
              1,
              "#f0f921"
             ]
            ],
            "type": "histogram2dcontour"
           }
          ],
          "mesh3d": [
           {
            "colorbar": {
             "outlinewidth": 0,
             "ticks": ""
            },
            "type": "mesh3d"
           }
          ],
          "parcoords": [
           {
            "line": {
             "colorbar": {
              "outlinewidth": 0,
              "ticks": ""
             }
            },
            "type": "parcoords"
           }
          ],
          "pie": [
           {
            "automargin": true,
            "type": "pie"
           }
          ],
          "scatter": [
           {
            "fillpattern": {
             "fillmode": "overlay",
             "size": 10,
             "solidity": 0.2
            },
            "type": "scatter"
           }
          ],
          "scatter3d": [
           {
            "line": {
             "colorbar": {
              "outlinewidth": 0,
              "ticks": ""
             }
            },
            "marker": {
             "colorbar": {
              "outlinewidth": 0,
              "ticks": ""
             }
            },
            "type": "scatter3d"
           }
          ],
          "scattercarpet": [
           {
            "marker": {
             "colorbar": {
              "outlinewidth": 0,
              "ticks": ""
             }
            },
            "type": "scattercarpet"
           }
          ],
          "scattergeo": [
           {
            "marker": {
             "colorbar": {
              "outlinewidth": 0,
              "ticks": ""
             }
            },
            "type": "scattergeo"
           }
          ],
          "scattergl": [
           {
            "marker": {
             "colorbar": {
              "outlinewidth": 0,
              "ticks": ""
             }
            },
            "type": "scattergl"
           }
          ],
          "scattermap": [
           {
            "marker": {
             "colorbar": {
              "outlinewidth": 0,
              "ticks": ""
             }
            },
            "type": "scattermap"
           }
          ],
          "scattermapbox": [
           {
            "marker": {
             "colorbar": {
              "outlinewidth": 0,
              "ticks": ""
             }
            },
            "type": "scattermapbox"
           }
          ],
          "scatterpolar": [
           {
            "marker": {
             "colorbar": {
              "outlinewidth": 0,
              "ticks": ""
             }
            },
            "type": "scatterpolar"
           }
          ],
          "scatterpolargl": [
           {
            "marker": {
             "colorbar": {
              "outlinewidth": 0,
              "ticks": ""
             }
            },
            "type": "scatterpolargl"
           }
          ],
          "scatterternary": [
           {
            "marker": {
             "colorbar": {
              "outlinewidth": 0,
              "ticks": ""
             }
            },
            "type": "scatterternary"
           }
          ],
          "surface": [
           {
            "colorbar": {
             "outlinewidth": 0,
             "ticks": ""
            },
            "colorscale": [
             [
              0,
              "#0d0887"
             ],
             [
              0.1111111111111111,
              "#46039f"
             ],
             [
              0.2222222222222222,
              "#7201a8"
             ],
             [
              0.3333333333333333,
              "#9c179e"
             ],
             [
              0.4444444444444444,
              "#bd3786"
             ],
             [
              0.5555555555555556,
              "#d8576b"
             ],
             [
              0.6666666666666666,
              "#ed7953"
             ],
             [
              0.7777777777777778,
              "#fb9f3a"
             ],
             [
              0.8888888888888888,
              "#fdca26"
             ],
             [
              1,
              "#f0f921"
             ]
            ],
            "type": "surface"
           }
          ],
          "table": [
           {
            "cells": {
             "fill": {
              "color": "#EBF0F8"
             },
             "line": {
              "color": "white"
             }
            },
            "header": {
             "fill": {
              "color": "#C8D4E3"
             },
             "line": {
              "color": "white"
             }
            },
            "type": "table"
           }
          ]
         },
         "layout": {
          "annotationdefaults": {
           "arrowcolor": "#2a3f5f",
           "arrowhead": 0,
           "arrowwidth": 1
          },
          "autotypenumbers": "strict",
          "coloraxis": {
           "colorbar": {
            "outlinewidth": 0,
            "ticks": ""
           }
          },
          "colorscale": {
           "diverging": [
            [
             0,
             "#8e0152"
            ],
            [
             0.1,
             "#c51b7d"
            ],
            [
             0.2,
             "#de77ae"
            ],
            [
             0.3,
             "#f1b6da"
            ],
            [
             0.4,
             "#fde0ef"
            ],
            [
             0.5,
             "#f7f7f7"
            ],
            [
             0.6,
             "#e6f5d0"
            ],
            [
             0.7,
             "#b8e186"
            ],
            [
             0.8,
             "#7fbc41"
            ],
            [
             0.9,
             "#4d9221"
            ],
            [
             1,
             "#276419"
            ]
           ],
           "sequential": [
            [
             0,
             "#0d0887"
            ],
            [
             0.1111111111111111,
             "#46039f"
            ],
            [
             0.2222222222222222,
             "#7201a8"
            ],
            [
             0.3333333333333333,
             "#9c179e"
            ],
            [
             0.4444444444444444,
             "#bd3786"
            ],
            [
             0.5555555555555556,
             "#d8576b"
            ],
            [
             0.6666666666666666,
             "#ed7953"
            ],
            [
             0.7777777777777778,
             "#fb9f3a"
            ],
            [
             0.8888888888888888,
             "#fdca26"
            ],
            [
             1,
             "#f0f921"
            ]
           ],
           "sequentialminus": [
            [
             0,
             "#0d0887"
            ],
            [
             0.1111111111111111,
             "#46039f"
            ],
            [
             0.2222222222222222,
             "#7201a8"
            ],
            [
             0.3333333333333333,
             "#9c179e"
            ],
            [
             0.4444444444444444,
             "#bd3786"
            ],
            [
             0.5555555555555556,
             "#d8576b"
            ],
            [
             0.6666666666666666,
             "#ed7953"
            ],
            [
             0.7777777777777778,
             "#fb9f3a"
            ],
            [
             0.8888888888888888,
             "#fdca26"
            ],
            [
             1,
             "#f0f921"
            ]
           ]
          },
          "colorway": [
           "#636efa",
           "#EF553B",
           "#00cc96",
           "#ab63fa",
           "#FFA15A",
           "#19d3f3",
           "#FF6692",
           "#B6E880",
           "#FF97FF",
           "#FECB52"
          ],
          "font": {
           "color": "#2a3f5f"
          },
          "geo": {
           "bgcolor": "white",
           "lakecolor": "white",
           "landcolor": "white",
           "showlakes": true,
           "showland": true,
           "subunitcolor": "#C8D4E3"
          },
          "hoverlabel": {
           "align": "left"
          },
          "hovermode": "closest",
          "mapbox": {
           "style": "light"
          },
          "paper_bgcolor": "white",
          "plot_bgcolor": "white",
          "polar": {
           "angularaxis": {
            "gridcolor": "#EBF0F8",
            "linecolor": "#EBF0F8",
            "ticks": ""
           },
           "bgcolor": "white",
           "radialaxis": {
            "gridcolor": "#EBF0F8",
            "linecolor": "#EBF0F8",
            "ticks": ""
           }
          },
          "scene": {
           "xaxis": {
            "backgroundcolor": "white",
            "gridcolor": "#DFE8F3",
            "gridwidth": 2,
            "linecolor": "#EBF0F8",
            "showbackground": true,
            "ticks": "",
            "zerolinecolor": "#EBF0F8"
           },
           "yaxis": {
            "backgroundcolor": "white",
            "gridcolor": "#DFE8F3",
            "gridwidth": 2,
            "linecolor": "#EBF0F8",
            "showbackground": true,
            "ticks": "",
            "zerolinecolor": "#EBF0F8"
           },
           "zaxis": {
            "backgroundcolor": "white",
            "gridcolor": "#DFE8F3",
            "gridwidth": 2,
            "linecolor": "#EBF0F8",
            "showbackground": true,
            "ticks": "",
            "zerolinecolor": "#EBF0F8"
           }
          },
          "shapedefaults": {
           "line": {
            "color": "#2a3f5f"
           }
          },
          "ternary": {
           "aaxis": {
            "gridcolor": "#DFE8F3",
            "linecolor": "#A2B1C6",
            "ticks": ""
           },
           "baxis": {
            "gridcolor": "#DFE8F3",
            "linecolor": "#A2B1C6",
            "ticks": ""
           },
           "bgcolor": "white",
           "caxis": {
            "gridcolor": "#DFE8F3",
            "linecolor": "#A2B1C6",
            "ticks": ""
           }
          },
          "title": {
           "x": 0.05
          },
          "xaxis": {
           "automargin": true,
           "gridcolor": "#EBF0F8",
           "linecolor": "#EBF0F8",
           "ticks": "",
           "title": {
            "standoff": 15
           },
           "zerolinecolor": "#EBF0F8",
           "zerolinewidth": 2
          },
          "yaxis": {
           "automargin": true,
           "gridcolor": "#EBF0F8",
           "linecolor": "#EBF0F8",
           "ticks": "",
           "title": {
            "standoff": 15
           },
           "zerolinecolor": "#EBF0F8",
           "zerolinewidth": 2
          }
         }
        },
        "title": {
         "text": "Boxplot of BLUE by Class"
        },
        "xaxis": {
         "anchor": "y",
         "categoryarray": [
          "Rubber monoculture(ID: 15)",
          "Settlement(ID: 16)",
          "Oil palm monoculture(ID: 11)",
          "Water Body(ID: 19)",
          "Acacia plantation(ID: 1)",
          "Rice Field(ID: 13)",
          "Mixed Garden(ID: 10)",
          "Rubber agroforest(ID: 14)",
          "Logged Over Forest Low Density(ID: 8)",
          "Shrub(ID: 17)",
          "Grass(ID: 6)",
          "Logged over swamp forest(ID: 9)",
          "Logged over forest-high density(ID: 7)",
          "Coffee Agroforest(ID: 5)",
          "Coconut monoculture(ID: 4)",
          "Other Crops(ID: 12)",
          "Cleared Land(ID: 3)",
          "Tea plantation(ID: 18)",
          "Cane(ID: 2)"
         ],
         "categoryorder": "array",
         "domain": [
          0,
          1
         ],
         "tickangle": -45,
         "title": {
          "text": "Class"
         }
        },
        "yaxis": {
         "anchor": "x",
         "domain": [
          0,
          1
         ],
         "title": {
          "text": "BLUE Reflectance"
         }
        }
       }
      }
     },
     "metadata": {},
     "output_type": "display_data"
    },
    {
     "data": {
      "application/vnd.plotly.v1+json": {
       "config": {
        "plotlyServerURL": "https://plot.ly"
       },
       "data": [
        {
         "alignmentgroup": "True",
         "customdata": {
          "bdata": "Dw8PDw8PDw8PDw8PDw8PDw8PDw8PDw8PDw8PDw8PDw8PDw8PDw8PDw8PDw8PDw8PDw8PDw8PDw8PDw8PDw8PDw8PDw8PDw8PDw8PDw8PDw8PDw8PDw8PDw8PDw8PDw8PDw8PDw8PDw8PDw8PDw8PDw8PDw8PDw8PDw8PDw8PDw8PDw8PDw8PDw8PDw8PDw8PDw8PDw8PDw8PDw8PDw8PDw8PDw8PDw8PDw8PDw8PDw8PDw8PDw8PDw8PDw8PDw8PDw8PDw8PDw8PDw8PDw8PDw8PDw8PDw8PDw8PDw8PDw8PDw8PDw8PDw8PDw8PDw8PDw8PDw8PDw8PDw8PDw8PDw8PDw8PDw8PDw8PDw8PDw8PDw8PDw8PDw8PDw8PDw8PDw8PDw8PDw8PDw8PDw8PDw8PDw8PDw8PDw8PDw8PDw8PDw8PDw8PDw8PDw8PDw8PDw8PDw8PDw8PDw8PDw8PDw8PDw8PDw8PDw8PDw8PDw8PDw8PDw8PDw8PDw8PDw8PDw8PDw8PDw8PDw8PDw8PDw8PDw8PDw8PDw8PDw8PDw8PDw8PDw8PDw8PDw8PDw8PDw8PDw8PDw8PDw8PDw8PDw8PDw8PDw8PDw8PDw8PDw8PDw8PDw8PDw8PDw8PDw8PDw8PDw8PDw8PDw8PDw8PDw8PDw8PDw8PDw8PDw8PDw8PDw8PDw8PDw8PDw8PDw8PDw8PDw8PDw8PDw8PDw8PDw8PDw8PDw8PDw8PDw8PDw8PDw8PDw8PDw8PDw8PDw8PDw8PDw8PDw8PDw8PDw8PDw8PDw8PDw8PDw8PDw8PDw8PDw8PDw8PDw8PDw8PDw8PDw8PDw8PDw8PDw8PDw8PDw8PDw8PDw8PDw8PDw8PDw8PDw8PDw8PDw8PDw8PDw8PDw8PDw8PDw8PDw8PDw8PDw8PDw8PDw8PDw8PDw8PDw8PDw8PDw8PDw8PDw8PDw8PDw8P",
          "dtype": "i1",
          "shape": "723, 1"
         },
         "hovertemplate": "<b>%{x}</b><br>GREEN: %{y:.4f}<br><extra></extra>",
         "legendgroup": "Rubber monoculture(ID: 15)",
         "marker": {
          "color": "#636efa"
         },
         "name": "Rubber monoculture(ID: 15)",
         "notched": false,
         "offsetgroup": "Rubber monoculture(ID: 15)",
         "orientation": "v",
         "showlegend": true,
         "type": "box",
         "x": [
          "Rubber monoculture(ID: 15)",
          "Rubber monoculture(ID: 15)",
          "Rubber monoculture(ID: 15)",
          "Rubber monoculture(ID: 15)",
          "Rubber monoculture(ID: 15)",
          "Rubber monoculture(ID: 15)",
          "Rubber monoculture(ID: 15)",
          "Rubber monoculture(ID: 15)",
          "Rubber monoculture(ID: 15)",
          "Rubber monoculture(ID: 15)",
          "Rubber monoculture(ID: 15)",
          "Rubber monoculture(ID: 15)",
          "Rubber monoculture(ID: 15)",
          "Rubber monoculture(ID: 15)",
          "Rubber monoculture(ID: 15)",
          "Rubber monoculture(ID: 15)",
          "Rubber monoculture(ID: 15)",
          "Rubber monoculture(ID: 15)",
          "Rubber monoculture(ID: 15)",
          "Rubber monoculture(ID: 15)",
          "Rubber monoculture(ID: 15)",
          "Rubber monoculture(ID: 15)",
          "Rubber monoculture(ID: 15)",
          "Rubber monoculture(ID: 15)",
          "Rubber monoculture(ID: 15)",
          "Rubber monoculture(ID: 15)",
          "Rubber monoculture(ID: 15)",
          "Rubber monoculture(ID: 15)",
          "Rubber monoculture(ID: 15)",
          "Rubber monoculture(ID: 15)",
          "Rubber monoculture(ID: 15)",
          "Rubber monoculture(ID: 15)",
          "Rubber monoculture(ID: 15)",
          "Rubber monoculture(ID: 15)",
          "Rubber monoculture(ID: 15)",
          "Rubber monoculture(ID: 15)",
          "Rubber monoculture(ID: 15)",
          "Rubber monoculture(ID: 15)",
          "Rubber monoculture(ID: 15)",
          "Rubber monoculture(ID: 15)",
          "Rubber monoculture(ID: 15)",
          "Rubber monoculture(ID: 15)",
          "Rubber monoculture(ID: 15)",
          "Rubber monoculture(ID: 15)",
          "Rubber monoculture(ID: 15)",
          "Rubber monoculture(ID: 15)",
          "Rubber monoculture(ID: 15)",
          "Rubber monoculture(ID: 15)",
          "Rubber monoculture(ID: 15)",
          "Rubber monoculture(ID: 15)",
          "Rubber monoculture(ID: 15)",
          "Rubber monoculture(ID: 15)",
          "Rubber monoculture(ID: 15)",
          "Rubber monoculture(ID: 15)",
          "Rubber monoculture(ID: 15)",
          "Rubber monoculture(ID: 15)",
          "Rubber monoculture(ID: 15)",
          "Rubber monoculture(ID: 15)",
          "Rubber monoculture(ID: 15)",
          "Rubber monoculture(ID: 15)",
          "Rubber monoculture(ID: 15)",
          "Rubber monoculture(ID: 15)",
          "Rubber monoculture(ID: 15)",
          "Rubber monoculture(ID: 15)",
          "Rubber monoculture(ID: 15)",
          "Rubber monoculture(ID: 15)",
          "Rubber monoculture(ID: 15)",
          "Rubber monoculture(ID: 15)",
          "Rubber monoculture(ID: 15)",
          "Rubber monoculture(ID: 15)",
          "Rubber monoculture(ID: 15)",
          "Rubber monoculture(ID: 15)",
          "Rubber monoculture(ID: 15)",
          "Rubber monoculture(ID: 15)",
          "Rubber monoculture(ID: 15)",
          "Rubber monoculture(ID: 15)",
          "Rubber monoculture(ID: 15)",
          "Rubber monoculture(ID: 15)",
          "Rubber monoculture(ID: 15)",
          "Rubber monoculture(ID: 15)",
          "Rubber monoculture(ID: 15)",
          "Rubber monoculture(ID: 15)",
          "Rubber monoculture(ID: 15)",
          "Rubber monoculture(ID: 15)",
          "Rubber monoculture(ID: 15)",
          "Rubber monoculture(ID: 15)",
          "Rubber monoculture(ID: 15)",
          "Rubber monoculture(ID: 15)",
          "Rubber monoculture(ID: 15)",
          "Rubber monoculture(ID: 15)",
          "Rubber monoculture(ID: 15)",
          "Rubber monoculture(ID: 15)",
          "Rubber monoculture(ID: 15)",
          "Rubber monoculture(ID: 15)",
          "Rubber monoculture(ID: 15)",
          "Rubber monoculture(ID: 15)",
          "Rubber monoculture(ID: 15)",
          "Rubber monoculture(ID: 15)",
          "Rubber monoculture(ID: 15)",
          "Rubber monoculture(ID: 15)",
          "Rubber monoculture(ID: 15)",
          "Rubber monoculture(ID: 15)",
          "Rubber monoculture(ID: 15)",
          "Rubber monoculture(ID: 15)",
          "Rubber monoculture(ID: 15)",
          "Rubber monoculture(ID: 15)",
          "Rubber monoculture(ID: 15)",
          "Rubber monoculture(ID: 15)",
          "Rubber monoculture(ID: 15)",
          "Rubber monoculture(ID: 15)",
          "Rubber monoculture(ID: 15)",
          "Rubber monoculture(ID: 15)",
          "Rubber monoculture(ID: 15)",
          "Rubber monoculture(ID: 15)",
          "Rubber monoculture(ID: 15)",
          "Rubber monoculture(ID: 15)",
          "Rubber monoculture(ID: 15)",
          "Rubber monoculture(ID: 15)",
          "Rubber monoculture(ID: 15)",
          "Rubber monoculture(ID: 15)",
          "Rubber monoculture(ID: 15)",
          "Rubber monoculture(ID: 15)",
          "Rubber monoculture(ID: 15)",
          "Rubber monoculture(ID: 15)",
          "Rubber monoculture(ID: 15)",
          "Rubber monoculture(ID: 15)",
          "Rubber monoculture(ID: 15)",
          "Rubber monoculture(ID: 15)",
          "Rubber monoculture(ID: 15)",
          "Rubber monoculture(ID: 15)",
          "Rubber monoculture(ID: 15)",
          "Rubber monoculture(ID: 15)",
          "Rubber monoculture(ID: 15)",
          "Rubber monoculture(ID: 15)",
          "Rubber monoculture(ID: 15)",
          "Rubber monoculture(ID: 15)",
          "Rubber monoculture(ID: 15)",
          "Rubber monoculture(ID: 15)",
          "Rubber monoculture(ID: 15)",
          "Rubber monoculture(ID: 15)",
          "Rubber monoculture(ID: 15)",
          "Rubber monoculture(ID: 15)",
          "Rubber monoculture(ID: 15)",
          "Rubber monoculture(ID: 15)",
          "Rubber monoculture(ID: 15)",
          "Rubber monoculture(ID: 15)",
          "Rubber monoculture(ID: 15)",
          "Rubber monoculture(ID: 15)",
          "Rubber monoculture(ID: 15)",
          "Rubber monoculture(ID: 15)",
          "Rubber monoculture(ID: 15)",
          "Rubber monoculture(ID: 15)",
          "Rubber monoculture(ID: 15)",
          "Rubber monoculture(ID: 15)",
          "Rubber monoculture(ID: 15)",
          "Rubber monoculture(ID: 15)",
          "Rubber monoculture(ID: 15)",
          "Rubber monoculture(ID: 15)",
          "Rubber monoculture(ID: 15)",
          "Rubber monoculture(ID: 15)",
          "Rubber monoculture(ID: 15)",
          "Rubber monoculture(ID: 15)",
          "Rubber monoculture(ID: 15)",
          "Rubber monoculture(ID: 15)",
          "Rubber monoculture(ID: 15)",
          "Rubber monoculture(ID: 15)",
          "Rubber monoculture(ID: 15)",
          "Rubber monoculture(ID: 15)",
          "Rubber monoculture(ID: 15)",
          "Rubber monoculture(ID: 15)",
          "Rubber monoculture(ID: 15)",
          "Rubber monoculture(ID: 15)",
          "Rubber monoculture(ID: 15)",
          "Rubber monoculture(ID: 15)",
          "Rubber monoculture(ID: 15)",
          "Rubber monoculture(ID: 15)",
          "Rubber monoculture(ID: 15)",
          "Rubber monoculture(ID: 15)",
          "Rubber monoculture(ID: 15)",
          "Rubber monoculture(ID: 15)",
          "Rubber monoculture(ID: 15)",
          "Rubber monoculture(ID: 15)",
          "Rubber monoculture(ID: 15)",
          "Rubber monoculture(ID: 15)",
          "Rubber monoculture(ID: 15)",
          "Rubber monoculture(ID: 15)",
          "Rubber monoculture(ID: 15)",
          "Rubber monoculture(ID: 15)",
          "Rubber monoculture(ID: 15)",
          "Rubber monoculture(ID: 15)",
          "Rubber monoculture(ID: 15)",
          "Rubber monoculture(ID: 15)",
          "Rubber monoculture(ID: 15)",
          "Rubber monoculture(ID: 15)",
          "Rubber monoculture(ID: 15)",
          "Rubber monoculture(ID: 15)",
          "Rubber monoculture(ID: 15)",
          "Rubber monoculture(ID: 15)",
          "Rubber monoculture(ID: 15)",
          "Rubber monoculture(ID: 15)",
          "Rubber monoculture(ID: 15)",
          "Rubber monoculture(ID: 15)",
          "Rubber monoculture(ID: 15)",
          "Rubber monoculture(ID: 15)",
          "Rubber monoculture(ID: 15)",
          "Rubber monoculture(ID: 15)",
          "Rubber monoculture(ID: 15)",
          "Rubber monoculture(ID: 15)",
          "Rubber monoculture(ID: 15)",
          "Rubber monoculture(ID: 15)",
          "Rubber monoculture(ID: 15)",
          "Rubber monoculture(ID: 15)",
          "Rubber monoculture(ID: 15)",
          "Rubber monoculture(ID: 15)",
          "Rubber monoculture(ID: 15)",
          "Rubber monoculture(ID: 15)",
          "Rubber monoculture(ID: 15)",
          "Rubber monoculture(ID: 15)",
          "Rubber monoculture(ID: 15)",
          "Rubber monoculture(ID: 15)",
          "Rubber monoculture(ID: 15)",
          "Rubber monoculture(ID: 15)",
          "Rubber monoculture(ID: 15)",
          "Rubber monoculture(ID: 15)",
          "Rubber monoculture(ID: 15)",
          "Rubber monoculture(ID: 15)",
          "Rubber monoculture(ID: 15)",
          "Rubber monoculture(ID: 15)",
          "Rubber monoculture(ID: 15)",
          "Rubber monoculture(ID: 15)",
          "Rubber monoculture(ID: 15)",
          "Rubber monoculture(ID: 15)",
          "Rubber monoculture(ID: 15)",
          "Rubber monoculture(ID: 15)",
          "Rubber monoculture(ID: 15)",
          "Rubber monoculture(ID: 15)",
          "Rubber monoculture(ID: 15)",
          "Rubber monoculture(ID: 15)",
          "Rubber monoculture(ID: 15)",
          "Rubber monoculture(ID: 15)",
          "Rubber monoculture(ID: 15)",
          "Rubber monoculture(ID: 15)",
          "Rubber monoculture(ID: 15)",
          "Rubber monoculture(ID: 15)",
          "Rubber monoculture(ID: 15)",
          "Rubber monoculture(ID: 15)",
          "Rubber monoculture(ID: 15)",
          "Rubber monoculture(ID: 15)",
          "Rubber monoculture(ID: 15)",
          "Rubber monoculture(ID: 15)",
          "Rubber monoculture(ID: 15)",
          "Rubber monoculture(ID: 15)",
          "Rubber monoculture(ID: 15)",
          "Rubber monoculture(ID: 15)",
          "Rubber monoculture(ID: 15)",
          "Rubber monoculture(ID: 15)",
          "Rubber monoculture(ID: 15)",
          "Rubber monoculture(ID: 15)",
          "Rubber monoculture(ID: 15)",
          "Rubber monoculture(ID: 15)",
          "Rubber monoculture(ID: 15)",
          "Rubber monoculture(ID: 15)",
          "Rubber monoculture(ID: 15)",
          "Rubber monoculture(ID: 15)",
          "Rubber monoculture(ID: 15)",
          "Rubber monoculture(ID: 15)",
          "Rubber monoculture(ID: 15)",
          "Rubber monoculture(ID: 15)",
          "Rubber monoculture(ID: 15)",
          "Rubber monoculture(ID: 15)",
          "Rubber monoculture(ID: 15)",
          "Rubber monoculture(ID: 15)",
          "Rubber monoculture(ID: 15)",
          "Rubber monoculture(ID: 15)",
          "Rubber monoculture(ID: 15)",
          "Rubber monoculture(ID: 15)",
          "Rubber monoculture(ID: 15)",
          "Rubber monoculture(ID: 15)",
          "Rubber monoculture(ID: 15)",
          "Rubber monoculture(ID: 15)",
          "Rubber monoculture(ID: 15)",
          "Rubber monoculture(ID: 15)",
          "Rubber monoculture(ID: 15)",
          "Rubber monoculture(ID: 15)",
          "Rubber monoculture(ID: 15)",
          "Rubber monoculture(ID: 15)",
          "Rubber monoculture(ID: 15)",
          "Rubber monoculture(ID: 15)",
          "Rubber monoculture(ID: 15)",
          "Rubber monoculture(ID: 15)",
          "Rubber monoculture(ID: 15)",
          "Rubber monoculture(ID: 15)",
          "Rubber monoculture(ID: 15)",
          "Rubber monoculture(ID: 15)",
          "Rubber monoculture(ID: 15)",
          "Rubber monoculture(ID: 15)",
          "Rubber monoculture(ID: 15)",
          "Rubber monoculture(ID: 15)",
          "Rubber monoculture(ID: 15)",
          "Rubber monoculture(ID: 15)",
          "Rubber monoculture(ID: 15)",
          "Rubber monoculture(ID: 15)",
          "Rubber monoculture(ID: 15)",
          "Rubber monoculture(ID: 15)",
          "Rubber monoculture(ID: 15)",
          "Rubber monoculture(ID: 15)",
          "Rubber monoculture(ID: 15)",
          "Rubber monoculture(ID: 15)",
          "Rubber monoculture(ID: 15)",
          "Rubber monoculture(ID: 15)",
          "Rubber monoculture(ID: 15)",
          "Rubber monoculture(ID: 15)",
          "Rubber monoculture(ID: 15)",
          "Rubber monoculture(ID: 15)",
          "Rubber monoculture(ID: 15)",
          "Rubber monoculture(ID: 15)",
          "Rubber monoculture(ID: 15)",
          "Rubber monoculture(ID: 15)",
          "Rubber monoculture(ID: 15)",
          "Rubber monoculture(ID: 15)",
          "Rubber monoculture(ID: 15)",
          "Rubber monoculture(ID: 15)",
          "Rubber monoculture(ID: 15)",
          "Rubber monoculture(ID: 15)",
          "Rubber monoculture(ID: 15)",
          "Rubber monoculture(ID: 15)",
          "Rubber monoculture(ID: 15)",
          "Rubber monoculture(ID: 15)",
          "Rubber monoculture(ID: 15)",
          "Rubber monoculture(ID: 15)",
          "Rubber monoculture(ID: 15)",
          "Rubber monoculture(ID: 15)",
          "Rubber monoculture(ID: 15)",
          "Rubber monoculture(ID: 15)",
          "Rubber monoculture(ID: 15)",
          "Rubber monoculture(ID: 15)",
          "Rubber monoculture(ID: 15)",
          "Rubber monoculture(ID: 15)",
          "Rubber monoculture(ID: 15)",
          "Rubber monoculture(ID: 15)",
          "Rubber monoculture(ID: 15)",
          "Rubber monoculture(ID: 15)",
          "Rubber monoculture(ID: 15)",
          "Rubber monoculture(ID: 15)",
          "Rubber monoculture(ID: 15)",
          "Rubber monoculture(ID: 15)",
          "Rubber monoculture(ID: 15)",
          "Rubber monoculture(ID: 15)",
          "Rubber monoculture(ID: 15)",
          "Rubber monoculture(ID: 15)",
          "Rubber monoculture(ID: 15)",
          "Rubber monoculture(ID: 15)",
          "Rubber monoculture(ID: 15)",
          "Rubber monoculture(ID: 15)",
          "Rubber monoculture(ID: 15)",
          "Rubber monoculture(ID: 15)",
          "Rubber monoculture(ID: 15)",
          "Rubber monoculture(ID: 15)",
          "Rubber monoculture(ID: 15)",
          "Rubber monoculture(ID: 15)",
          "Rubber monoculture(ID: 15)",
          "Rubber monoculture(ID: 15)",
          "Rubber monoculture(ID: 15)",
          "Rubber monoculture(ID: 15)",
          "Rubber monoculture(ID: 15)",
          "Rubber monoculture(ID: 15)",
          "Rubber monoculture(ID: 15)",
          "Rubber monoculture(ID: 15)",
          "Rubber monoculture(ID: 15)",
          "Rubber monoculture(ID: 15)",
          "Rubber monoculture(ID: 15)",
          "Rubber monoculture(ID: 15)",
          "Rubber monoculture(ID: 15)",
          "Rubber monoculture(ID: 15)",
          "Rubber monoculture(ID: 15)",
          "Rubber monoculture(ID: 15)",
          "Rubber monoculture(ID: 15)",
          "Rubber monoculture(ID: 15)",
          "Rubber monoculture(ID: 15)",
          "Rubber monoculture(ID: 15)",
          "Rubber monoculture(ID: 15)",
          "Rubber monoculture(ID: 15)",
          "Rubber monoculture(ID: 15)",
          "Rubber monoculture(ID: 15)",
          "Rubber monoculture(ID: 15)",
          "Rubber monoculture(ID: 15)",
          "Rubber monoculture(ID: 15)",
          "Rubber monoculture(ID: 15)",
          "Rubber monoculture(ID: 15)",
          "Rubber monoculture(ID: 15)",
          "Rubber monoculture(ID: 15)",
          "Rubber monoculture(ID: 15)",
          "Rubber monoculture(ID: 15)",
          "Rubber monoculture(ID: 15)",
          "Rubber monoculture(ID: 15)",
          "Rubber monoculture(ID: 15)",
          "Rubber monoculture(ID: 15)",
          "Rubber monoculture(ID: 15)",
          "Rubber monoculture(ID: 15)",
          "Rubber monoculture(ID: 15)",
          "Rubber monoculture(ID: 15)",
          "Rubber monoculture(ID: 15)",
          "Rubber monoculture(ID: 15)",
          "Rubber monoculture(ID: 15)",
          "Rubber monoculture(ID: 15)",
          "Rubber monoculture(ID: 15)",
          "Rubber monoculture(ID: 15)",
          "Rubber monoculture(ID: 15)",
          "Rubber monoculture(ID: 15)",
          "Rubber monoculture(ID: 15)",
          "Rubber monoculture(ID: 15)",
          "Rubber monoculture(ID: 15)",
          "Rubber monoculture(ID: 15)",
          "Rubber monoculture(ID: 15)",
          "Rubber monoculture(ID: 15)",
          "Rubber monoculture(ID: 15)",
          "Rubber monoculture(ID: 15)",
          "Rubber monoculture(ID: 15)",
          "Rubber monoculture(ID: 15)",
          "Rubber monoculture(ID: 15)",
          "Rubber monoculture(ID: 15)",
          "Rubber monoculture(ID: 15)",
          "Rubber monoculture(ID: 15)",
          "Rubber monoculture(ID: 15)",
          "Rubber monoculture(ID: 15)",
          "Rubber monoculture(ID: 15)",
          "Rubber monoculture(ID: 15)",
          "Rubber monoculture(ID: 15)",
          "Rubber monoculture(ID: 15)",
          "Rubber monoculture(ID: 15)",
          "Rubber monoculture(ID: 15)",
          "Rubber monoculture(ID: 15)",
          "Rubber monoculture(ID: 15)",
          "Rubber monoculture(ID: 15)",
          "Rubber monoculture(ID: 15)",
          "Rubber monoculture(ID: 15)",
          "Rubber monoculture(ID: 15)",
          "Rubber monoculture(ID: 15)",
          "Rubber monoculture(ID: 15)",
          "Rubber monoculture(ID: 15)",
          "Rubber monoculture(ID: 15)",
          "Rubber monoculture(ID: 15)",
          "Rubber monoculture(ID: 15)",
          "Rubber monoculture(ID: 15)",
          "Rubber monoculture(ID: 15)",
          "Rubber monoculture(ID: 15)",
          "Rubber monoculture(ID: 15)",
          "Rubber monoculture(ID: 15)",
          "Rubber monoculture(ID: 15)",
          "Rubber monoculture(ID: 15)",
          "Rubber monoculture(ID: 15)",
          "Rubber monoculture(ID: 15)",
          "Rubber monoculture(ID: 15)",
          "Rubber monoculture(ID: 15)",
          "Rubber monoculture(ID: 15)",
          "Rubber monoculture(ID: 15)",
          "Rubber monoculture(ID: 15)",
          "Rubber monoculture(ID: 15)",
          "Rubber monoculture(ID: 15)",
          "Rubber monoculture(ID: 15)",
          "Rubber monoculture(ID: 15)",
          "Rubber monoculture(ID: 15)",
          "Rubber monoculture(ID: 15)",
          "Rubber monoculture(ID: 15)",
          "Rubber monoculture(ID: 15)",
          "Rubber monoculture(ID: 15)",
          "Rubber monoculture(ID: 15)",
          "Rubber monoculture(ID: 15)",
          "Rubber monoculture(ID: 15)",
          "Rubber monoculture(ID: 15)",
          "Rubber monoculture(ID: 15)",
          "Rubber monoculture(ID: 15)",
          "Rubber monoculture(ID: 15)",
          "Rubber monoculture(ID: 15)",
          "Rubber monoculture(ID: 15)",
          "Rubber monoculture(ID: 15)",
          "Rubber monoculture(ID: 15)",
          "Rubber monoculture(ID: 15)",
          "Rubber monoculture(ID: 15)",
          "Rubber monoculture(ID: 15)",
          "Rubber monoculture(ID: 15)",
          "Rubber monoculture(ID: 15)",
          "Rubber monoculture(ID: 15)",
          "Rubber monoculture(ID: 15)",
          "Rubber monoculture(ID: 15)",
          "Rubber monoculture(ID: 15)",
          "Rubber monoculture(ID: 15)",
          "Rubber monoculture(ID: 15)",
          "Rubber monoculture(ID: 15)",
          "Rubber monoculture(ID: 15)",
          "Rubber monoculture(ID: 15)",
          "Rubber monoculture(ID: 15)",
          "Rubber monoculture(ID: 15)",
          "Rubber monoculture(ID: 15)",
          "Rubber monoculture(ID: 15)",
          "Rubber monoculture(ID: 15)",
          "Rubber monoculture(ID: 15)",
          "Rubber monoculture(ID: 15)",
          "Rubber monoculture(ID: 15)",
          "Rubber monoculture(ID: 15)",
          "Rubber monoculture(ID: 15)",
          "Rubber monoculture(ID: 15)",
          "Rubber monoculture(ID: 15)",
          "Rubber monoculture(ID: 15)",
          "Rubber monoculture(ID: 15)",
          "Rubber monoculture(ID: 15)",
          "Rubber monoculture(ID: 15)",
          "Rubber monoculture(ID: 15)",
          "Rubber monoculture(ID: 15)",
          "Rubber monoculture(ID: 15)",
          "Rubber monoculture(ID: 15)",
          "Rubber monoculture(ID: 15)",
          "Rubber monoculture(ID: 15)",
          "Rubber monoculture(ID: 15)",
          "Rubber monoculture(ID: 15)",
          "Rubber monoculture(ID: 15)",
          "Rubber monoculture(ID: 15)",
          "Rubber monoculture(ID: 15)",
          "Rubber monoculture(ID: 15)",
          "Rubber monoculture(ID: 15)",
          "Rubber monoculture(ID: 15)",
          "Rubber monoculture(ID: 15)",
          "Rubber monoculture(ID: 15)",
          "Rubber monoculture(ID: 15)",
          "Rubber monoculture(ID: 15)",
          "Rubber monoculture(ID: 15)",
          "Rubber monoculture(ID: 15)",
          "Rubber monoculture(ID: 15)",
          "Rubber monoculture(ID: 15)",
          "Rubber monoculture(ID: 15)",
          "Rubber monoculture(ID: 15)",
          "Rubber monoculture(ID: 15)",
          "Rubber monoculture(ID: 15)",
          "Rubber monoculture(ID: 15)",
          "Rubber monoculture(ID: 15)",
          "Rubber monoculture(ID: 15)",
          "Rubber monoculture(ID: 15)",
          "Rubber monoculture(ID: 15)",
          "Rubber monoculture(ID: 15)",
          "Rubber monoculture(ID: 15)",
          "Rubber monoculture(ID: 15)",
          "Rubber monoculture(ID: 15)",
          "Rubber monoculture(ID: 15)",
          "Rubber monoculture(ID: 15)",
          "Rubber monoculture(ID: 15)",
          "Rubber monoculture(ID: 15)",
          "Rubber monoculture(ID: 15)",
          "Rubber monoculture(ID: 15)",
          "Rubber monoculture(ID: 15)",
          "Rubber monoculture(ID: 15)",
          "Rubber monoculture(ID: 15)",
          "Rubber monoculture(ID: 15)",
          "Rubber monoculture(ID: 15)",
          "Rubber monoculture(ID: 15)",
          "Rubber monoculture(ID: 15)",
          "Rubber monoculture(ID: 15)",
          "Rubber monoculture(ID: 15)",
          "Rubber monoculture(ID: 15)",
          "Rubber monoculture(ID: 15)",
          "Rubber monoculture(ID: 15)",
          "Rubber monoculture(ID: 15)",
          "Rubber monoculture(ID: 15)",
          "Rubber monoculture(ID: 15)",
          "Rubber monoculture(ID: 15)",
          "Rubber monoculture(ID: 15)",
          "Rubber monoculture(ID: 15)",
          "Rubber monoculture(ID: 15)",
          "Rubber monoculture(ID: 15)",
          "Rubber monoculture(ID: 15)",
          "Rubber monoculture(ID: 15)",
          "Rubber monoculture(ID: 15)",
          "Rubber monoculture(ID: 15)",
          "Rubber monoculture(ID: 15)",
          "Rubber monoculture(ID: 15)",
          "Rubber monoculture(ID: 15)",
          "Rubber monoculture(ID: 15)",
          "Rubber monoculture(ID: 15)",
          "Rubber monoculture(ID: 15)",
          "Rubber monoculture(ID: 15)",
          "Rubber monoculture(ID: 15)",
          "Rubber monoculture(ID: 15)",
          "Rubber monoculture(ID: 15)",
          "Rubber monoculture(ID: 15)",
          "Rubber monoculture(ID: 15)",
          "Rubber monoculture(ID: 15)",
          "Rubber monoculture(ID: 15)",
          "Rubber monoculture(ID: 15)",
          "Rubber monoculture(ID: 15)",
          "Rubber monoculture(ID: 15)",
          "Rubber monoculture(ID: 15)",
          "Rubber monoculture(ID: 15)",
          "Rubber monoculture(ID: 15)",
          "Rubber monoculture(ID: 15)",
          "Rubber monoculture(ID: 15)",
          "Rubber monoculture(ID: 15)",
          "Rubber monoculture(ID: 15)",
          "Rubber monoculture(ID: 15)",
          "Rubber monoculture(ID: 15)",
          "Rubber monoculture(ID: 15)",
          "Rubber monoculture(ID: 15)",
          "Rubber monoculture(ID: 15)",
          "Rubber monoculture(ID: 15)",
          "Rubber monoculture(ID: 15)",
          "Rubber monoculture(ID: 15)",
          "Rubber monoculture(ID: 15)",
          "Rubber monoculture(ID: 15)",
          "Rubber monoculture(ID: 15)",
          "Rubber monoculture(ID: 15)",
          "Rubber monoculture(ID: 15)",
          "Rubber monoculture(ID: 15)",
          "Rubber monoculture(ID: 15)",
          "Rubber monoculture(ID: 15)",
          "Rubber monoculture(ID: 15)",
          "Rubber monoculture(ID: 15)",
          "Rubber monoculture(ID: 15)",
          "Rubber monoculture(ID: 15)",
          "Rubber monoculture(ID: 15)",
          "Rubber monoculture(ID: 15)",
          "Rubber monoculture(ID: 15)",
          "Rubber monoculture(ID: 15)",
          "Rubber monoculture(ID: 15)",
          "Rubber monoculture(ID: 15)",
          "Rubber monoculture(ID: 15)",
          "Rubber monoculture(ID: 15)",
          "Rubber monoculture(ID: 15)",
          "Rubber monoculture(ID: 15)",
          "Rubber monoculture(ID: 15)",
          "Rubber monoculture(ID: 15)",
          "Rubber monoculture(ID: 15)",
          "Rubber monoculture(ID: 15)",
          "Rubber monoculture(ID: 15)",
          "Rubber monoculture(ID: 15)",
          "Rubber monoculture(ID: 15)",
          "Rubber monoculture(ID: 15)",
          "Rubber monoculture(ID: 15)",
          "Rubber monoculture(ID: 15)",
          "Rubber monoculture(ID: 15)",
          "Rubber monoculture(ID: 15)",
          "Rubber monoculture(ID: 15)",
          "Rubber monoculture(ID: 15)",
          "Rubber monoculture(ID: 15)",
          "Rubber monoculture(ID: 15)",
          "Rubber monoculture(ID: 15)",
          "Rubber monoculture(ID: 15)",
          "Rubber monoculture(ID: 15)",
          "Rubber monoculture(ID: 15)",
          "Rubber monoculture(ID: 15)",
          "Rubber monoculture(ID: 15)",
          "Rubber monoculture(ID: 15)",
          "Rubber monoculture(ID: 15)",
          "Rubber monoculture(ID: 15)",
          "Rubber monoculture(ID: 15)",
          "Rubber monoculture(ID: 15)",
          "Rubber monoculture(ID: 15)",
          "Rubber monoculture(ID: 15)",
          "Rubber monoculture(ID: 15)",
          "Rubber monoculture(ID: 15)",
          "Rubber monoculture(ID: 15)",
          "Rubber monoculture(ID: 15)",
          "Rubber monoculture(ID: 15)",
          "Rubber monoculture(ID: 15)",
          "Rubber monoculture(ID: 15)",
          "Rubber monoculture(ID: 15)",
          "Rubber monoculture(ID: 15)",
          "Rubber monoculture(ID: 15)",
          "Rubber monoculture(ID: 15)",
          "Rubber monoculture(ID: 15)",
          "Rubber monoculture(ID: 15)",
          "Rubber monoculture(ID: 15)",
          "Rubber monoculture(ID: 15)",
          "Rubber monoculture(ID: 15)",
          "Rubber monoculture(ID: 15)",
          "Rubber monoculture(ID: 15)",
          "Rubber monoculture(ID: 15)",
          "Rubber monoculture(ID: 15)",
          "Rubber monoculture(ID: 15)",
          "Rubber monoculture(ID: 15)",
          "Rubber monoculture(ID: 15)",
          "Rubber monoculture(ID: 15)",
          "Rubber monoculture(ID: 15)",
          "Rubber monoculture(ID: 15)",
          "Rubber monoculture(ID: 15)",
          "Rubber monoculture(ID: 15)",
          "Rubber monoculture(ID: 15)",
          "Rubber monoculture(ID: 15)",
          "Rubber monoculture(ID: 15)",
          "Rubber monoculture(ID: 15)",
          "Rubber monoculture(ID: 15)",
          "Rubber monoculture(ID: 15)",
          "Rubber monoculture(ID: 15)",
          "Rubber monoculture(ID: 15)",
          "Rubber monoculture(ID: 15)",
          "Rubber monoculture(ID: 15)",
          "Rubber monoculture(ID: 15)",
          "Rubber monoculture(ID: 15)",
          "Rubber monoculture(ID: 15)",
          "Rubber monoculture(ID: 15)",
          "Rubber monoculture(ID: 15)",
          "Rubber monoculture(ID: 15)",
          "Rubber monoculture(ID: 15)",
          "Rubber monoculture(ID: 15)",
          "Rubber monoculture(ID: 15)",
          "Rubber monoculture(ID: 15)",
          "Rubber monoculture(ID: 15)",
          "Rubber monoculture(ID: 15)",
          "Rubber monoculture(ID: 15)",
          "Rubber monoculture(ID: 15)",
          "Rubber monoculture(ID: 15)",
          "Rubber monoculture(ID: 15)",
          "Rubber monoculture(ID: 15)",
          "Rubber monoculture(ID: 15)",
          "Rubber monoculture(ID: 15)",
          "Rubber monoculture(ID: 15)",
          "Rubber monoculture(ID: 15)",
          "Rubber monoculture(ID: 15)",
          "Rubber monoculture(ID: 15)",
          "Rubber monoculture(ID: 15)",
          "Rubber monoculture(ID: 15)",
          "Rubber monoculture(ID: 15)",
          "Rubber monoculture(ID: 15)",
          "Rubber monoculture(ID: 15)",
          "Rubber monoculture(ID: 15)",
          "Rubber monoculture(ID: 15)"
         ],
         "x0": " ",
         "xaxis": "x",
         "y": {
          "bdata": "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",
          "dtype": "f8"
         },
         "y0": " ",
         "yaxis": "y"
        },
        {
         "alignmentgroup": "True",
         "customdata": {
          "bdata": "EBAQEBAQEBAQEBAQEBAQEBAQEBAQEBAQEBAQEBAQEBAQEBAQEBAQEBAQEBAQEBAQEBAQEBAQEBAQEBAQEBAQEBAQEBAQEBAQEBAQEBAQEBAQEBAQEBAQEBAQEBAQEBAQEBAQEBAQEBAQEBAQEBAQEBAQEBAQEBAQEBAQEBAQEBAQEBAQEBAQEBAQEBAQEBAQEBAQEBAQEBAQEBAQEBAQEBAQEBAQEBAQEBAQEBAQEBAQEBAQEBAQEBAQEBAQEBAQEBA=",
          "dtype": "i1",
          "shape": "194, 1"
         },
         "hovertemplate": "<b>%{x}</b><br>GREEN: %{y:.4f}<br><extra></extra>",
         "legendgroup": "Settlement(ID: 16)",
         "marker": {
          "color": "#EF553B"
         },
         "name": "Settlement(ID: 16)",
         "notched": false,
         "offsetgroup": "Settlement(ID: 16)",
         "orientation": "v",
         "showlegend": true,
         "type": "box",
         "x": [
          "Settlement(ID: 16)",
          "Settlement(ID: 16)",
          "Settlement(ID: 16)",
          "Settlement(ID: 16)",
          "Settlement(ID: 16)",
          "Settlement(ID: 16)",
          "Settlement(ID: 16)",
          "Settlement(ID: 16)",
          "Settlement(ID: 16)",
          "Settlement(ID: 16)",
          "Settlement(ID: 16)",
          "Settlement(ID: 16)",
          "Settlement(ID: 16)",
          "Settlement(ID: 16)",
          "Settlement(ID: 16)",
          "Settlement(ID: 16)",
          "Settlement(ID: 16)",
          "Settlement(ID: 16)",
          "Settlement(ID: 16)",
          "Settlement(ID: 16)",
          "Settlement(ID: 16)",
          "Settlement(ID: 16)",
          "Settlement(ID: 16)",
          "Settlement(ID: 16)",
          "Settlement(ID: 16)",
          "Settlement(ID: 16)",
          "Settlement(ID: 16)",
          "Settlement(ID: 16)",
          "Settlement(ID: 16)",
          "Settlement(ID: 16)",
          "Settlement(ID: 16)",
          "Settlement(ID: 16)",
          "Settlement(ID: 16)",
          "Settlement(ID: 16)",
          "Settlement(ID: 16)",
          "Settlement(ID: 16)",
          "Settlement(ID: 16)",
          "Settlement(ID: 16)",
          "Settlement(ID: 16)",
          "Settlement(ID: 16)",
          "Settlement(ID: 16)",
          "Settlement(ID: 16)",
          "Settlement(ID: 16)",
          "Settlement(ID: 16)",
          "Settlement(ID: 16)",
          "Settlement(ID: 16)",
          "Settlement(ID: 16)",
          "Settlement(ID: 16)",
          "Settlement(ID: 16)",
          "Settlement(ID: 16)",
          "Settlement(ID: 16)",
          "Settlement(ID: 16)",
          "Settlement(ID: 16)",
          "Settlement(ID: 16)",
          "Settlement(ID: 16)",
          "Settlement(ID: 16)",
          "Settlement(ID: 16)",
          "Settlement(ID: 16)",
          "Settlement(ID: 16)",
          "Settlement(ID: 16)",
          "Settlement(ID: 16)",
          "Settlement(ID: 16)",
          "Settlement(ID: 16)",
          "Settlement(ID: 16)",
          "Settlement(ID: 16)",
          "Settlement(ID: 16)",
          "Settlement(ID: 16)",
          "Settlement(ID: 16)",
          "Settlement(ID: 16)",
          "Settlement(ID: 16)",
          "Settlement(ID: 16)",
          "Settlement(ID: 16)",
          "Settlement(ID: 16)",
          "Settlement(ID: 16)",
          "Settlement(ID: 16)",
          "Settlement(ID: 16)",
          "Settlement(ID: 16)",
          "Settlement(ID: 16)",
          "Settlement(ID: 16)",
          "Settlement(ID: 16)",
          "Settlement(ID: 16)",
          "Settlement(ID: 16)",
          "Settlement(ID: 16)",
          "Settlement(ID: 16)",
          "Settlement(ID: 16)",
          "Settlement(ID: 16)",
          "Settlement(ID: 16)",
          "Settlement(ID: 16)",
          "Settlement(ID: 16)",
          "Settlement(ID: 16)",
          "Settlement(ID: 16)",
          "Settlement(ID: 16)",
          "Settlement(ID: 16)",
          "Settlement(ID: 16)",
          "Settlement(ID: 16)",
          "Settlement(ID: 16)",
          "Settlement(ID: 16)",
          "Settlement(ID: 16)",
          "Settlement(ID: 16)",
          "Settlement(ID: 16)",
          "Settlement(ID: 16)",
          "Settlement(ID: 16)",
          "Settlement(ID: 16)",
          "Settlement(ID: 16)",
          "Settlement(ID: 16)",
          "Settlement(ID: 16)",
          "Settlement(ID: 16)",
          "Settlement(ID: 16)",
          "Settlement(ID: 16)",
          "Settlement(ID: 16)",
          "Settlement(ID: 16)",
          "Settlement(ID: 16)",
          "Settlement(ID: 16)",
          "Settlement(ID: 16)",
          "Settlement(ID: 16)",
          "Settlement(ID: 16)",
          "Settlement(ID: 16)",
          "Settlement(ID: 16)",
          "Settlement(ID: 16)",
          "Settlement(ID: 16)",
          "Settlement(ID: 16)",
          "Settlement(ID: 16)",
          "Settlement(ID: 16)",
          "Settlement(ID: 16)",
          "Settlement(ID: 16)",
          "Settlement(ID: 16)",
          "Settlement(ID: 16)",
          "Settlement(ID: 16)",
          "Settlement(ID: 16)",
          "Settlement(ID: 16)",
          "Settlement(ID: 16)",
          "Settlement(ID: 16)",
          "Settlement(ID: 16)",
          "Settlement(ID: 16)",
          "Settlement(ID: 16)",
          "Settlement(ID: 16)",
          "Settlement(ID: 16)",
          "Settlement(ID: 16)",
          "Settlement(ID: 16)",
          "Settlement(ID: 16)",
          "Settlement(ID: 16)",
          "Settlement(ID: 16)",
          "Settlement(ID: 16)",
          "Settlement(ID: 16)",
          "Settlement(ID: 16)",
          "Settlement(ID: 16)",
          "Settlement(ID: 16)",
          "Settlement(ID: 16)",
          "Settlement(ID: 16)",
          "Settlement(ID: 16)",
          "Settlement(ID: 16)",
          "Settlement(ID: 16)",
          "Settlement(ID: 16)",
          "Settlement(ID: 16)",
          "Settlement(ID: 16)",
          "Settlement(ID: 16)",
          "Settlement(ID: 16)",
          "Settlement(ID: 16)",
          "Settlement(ID: 16)",
          "Settlement(ID: 16)",
          "Settlement(ID: 16)",
          "Settlement(ID: 16)",
          "Settlement(ID: 16)",
          "Settlement(ID: 16)",
          "Settlement(ID: 16)",
          "Settlement(ID: 16)",
          "Settlement(ID: 16)",
          "Settlement(ID: 16)",
          "Settlement(ID: 16)",
          "Settlement(ID: 16)",
          "Settlement(ID: 16)",
          "Settlement(ID: 16)",
          "Settlement(ID: 16)",
          "Settlement(ID: 16)",
          "Settlement(ID: 16)",
          "Settlement(ID: 16)",
          "Settlement(ID: 16)",
          "Settlement(ID: 16)",
          "Settlement(ID: 16)",
          "Settlement(ID: 16)",
          "Settlement(ID: 16)",
          "Settlement(ID: 16)",
          "Settlement(ID: 16)",
          "Settlement(ID: 16)",
          "Settlement(ID: 16)",
          "Settlement(ID: 16)",
          "Settlement(ID: 16)",
          "Settlement(ID: 16)",
          "Settlement(ID: 16)",
          "Settlement(ID: 16)",
          "Settlement(ID: 16)",
          "Settlement(ID: 16)",
          "Settlement(ID: 16)",
          "Settlement(ID: 16)"
         ],
         "x0": " ",
         "xaxis": "x",
         "y": {
          "bdata": "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",
          "dtype": "f8"
         },
         "y0": " ",
         "yaxis": "y"
        },
        {
         "alignmentgroup": "True",
         "customdata": {
          "bdata": "CwsLCwsLCwsLCwsLCwsLCwsLCwsLCwsLCwsLCwsLCwsLCwsLCwsLCwsLCwsLCwsLCwsLCwsLCwsLCwsLCwsLCwsLCwsLCwsLCwsLCwsLCwsLCwsLCwsLCwsLCwsLCwsLCwsLCwsLCwsLCwsLCwsLCwsLCwsLCwsLCwsLCwsLCwsLCwsLCwsLCwsLCwsLCwsLCwsLCwsLCwsLCwsLCwsLCwsLCwsLCwsLCwsLCwsLCwsLCwsLCwsLCwsLCwsLCwsLCwsLCwsLCwsLCwsLCwsLCwsLCwsLCwsLCwsLCwsLCwsLCwsLCwsLCwsLCwsLCwsLCw==",
          "dtype": "i1",
          "shape": "241, 1"
         },
         "hovertemplate": "<b>%{x}</b><br>GREEN: %{y:.4f}<br><extra></extra>",
         "legendgroup": "Oil palm monoculture(ID: 11)",
         "marker": {
          "color": "#00cc96"
         },
         "name": "Oil palm monoculture(ID: 11)",
         "notched": false,
         "offsetgroup": "Oil palm monoculture(ID: 11)",
         "orientation": "v",
         "showlegend": true,
         "type": "box",
         "x": [
          "Oil palm monoculture(ID: 11)",
          "Oil palm monoculture(ID: 11)",
          "Oil palm monoculture(ID: 11)",
          "Oil palm monoculture(ID: 11)",
          "Oil palm monoculture(ID: 11)",
          "Oil palm monoculture(ID: 11)",
          "Oil palm monoculture(ID: 11)",
          "Oil palm monoculture(ID: 11)",
          "Oil palm monoculture(ID: 11)",
          "Oil palm monoculture(ID: 11)",
          "Oil palm monoculture(ID: 11)",
          "Oil palm monoculture(ID: 11)",
          "Oil palm monoculture(ID: 11)",
          "Oil palm monoculture(ID: 11)",
          "Oil palm monoculture(ID: 11)",
          "Oil palm monoculture(ID: 11)",
          "Oil palm monoculture(ID: 11)",
          "Oil palm monoculture(ID: 11)",
          "Oil palm monoculture(ID: 11)",
          "Oil palm monoculture(ID: 11)",
          "Oil palm monoculture(ID: 11)",
          "Oil palm monoculture(ID: 11)",
          "Oil palm monoculture(ID: 11)",
          "Oil palm monoculture(ID: 11)",
          "Oil palm monoculture(ID: 11)",
          "Oil palm monoculture(ID: 11)",
          "Oil palm monoculture(ID: 11)",
          "Oil palm monoculture(ID: 11)",
          "Oil palm monoculture(ID: 11)",
          "Oil palm monoculture(ID: 11)",
          "Oil palm monoculture(ID: 11)",
          "Oil palm monoculture(ID: 11)",
          "Oil palm monoculture(ID: 11)",
          "Oil palm monoculture(ID: 11)",
          "Oil palm monoculture(ID: 11)",
          "Oil palm monoculture(ID: 11)",
          "Oil palm monoculture(ID: 11)",
          "Oil palm monoculture(ID: 11)",
          "Oil palm monoculture(ID: 11)",
          "Oil palm monoculture(ID: 11)",
          "Oil palm monoculture(ID: 11)",
          "Oil palm monoculture(ID: 11)",
          "Oil palm monoculture(ID: 11)",
          "Oil palm monoculture(ID: 11)",
          "Oil palm monoculture(ID: 11)",
          "Oil palm monoculture(ID: 11)",
          "Oil palm monoculture(ID: 11)",
          "Oil palm monoculture(ID: 11)",
          "Oil palm monoculture(ID: 11)",
          "Oil palm monoculture(ID: 11)",
          "Oil palm monoculture(ID: 11)",
          "Oil palm monoculture(ID: 11)",
          "Oil palm monoculture(ID: 11)",
          "Oil palm monoculture(ID: 11)",
          "Oil palm monoculture(ID: 11)",
          "Oil palm monoculture(ID: 11)",
          "Oil palm monoculture(ID: 11)",
          "Oil palm monoculture(ID: 11)",
          "Oil palm monoculture(ID: 11)",
          "Oil palm monoculture(ID: 11)",
          "Oil palm monoculture(ID: 11)",
          "Oil palm monoculture(ID: 11)",
          "Oil palm monoculture(ID: 11)",
          "Oil palm monoculture(ID: 11)",
          "Oil palm monoculture(ID: 11)",
          "Oil palm monoculture(ID: 11)",
          "Oil palm monoculture(ID: 11)",
          "Oil palm monoculture(ID: 11)",
          "Oil palm monoculture(ID: 11)",
          "Oil palm monoculture(ID: 11)",
          "Oil palm monoculture(ID: 11)",
          "Oil palm monoculture(ID: 11)",
          "Oil palm monoculture(ID: 11)",
          "Oil palm monoculture(ID: 11)",
          "Oil palm monoculture(ID: 11)",
          "Oil palm monoculture(ID: 11)",
          "Oil palm monoculture(ID: 11)",
          "Oil palm monoculture(ID: 11)",
          "Oil palm monoculture(ID: 11)",
          "Oil palm monoculture(ID: 11)",
          "Oil palm monoculture(ID: 11)",
          "Oil palm monoculture(ID: 11)",
          "Oil palm monoculture(ID: 11)",
          "Oil palm monoculture(ID: 11)",
          "Oil palm monoculture(ID: 11)",
          "Oil palm monoculture(ID: 11)",
          "Oil palm monoculture(ID: 11)",
          "Oil palm monoculture(ID: 11)",
          "Oil palm monoculture(ID: 11)",
          "Oil palm monoculture(ID: 11)",
          "Oil palm monoculture(ID: 11)",
          "Oil palm monoculture(ID: 11)",
          "Oil palm monoculture(ID: 11)",
          "Oil palm monoculture(ID: 11)",
          "Oil palm monoculture(ID: 11)",
          "Oil palm monoculture(ID: 11)",
          "Oil palm monoculture(ID: 11)",
          "Oil palm monoculture(ID: 11)",
          "Oil palm monoculture(ID: 11)",
          "Oil palm monoculture(ID: 11)",
          "Oil palm monoculture(ID: 11)",
          "Oil palm monoculture(ID: 11)",
          "Oil palm monoculture(ID: 11)",
          "Oil palm monoculture(ID: 11)",
          "Oil palm monoculture(ID: 11)",
          "Oil palm monoculture(ID: 11)",
          "Oil palm monoculture(ID: 11)",
          "Oil palm monoculture(ID: 11)",
          "Oil palm monoculture(ID: 11)",
          "Oil palm monoculture(ID: 11)",
          "Oil palm monoculture(ID: 11)",
          "Oil palm monoculture(ID: 11)",
          "Oil palm monoculture(ID: 11)",
          "Oil palm monoculture(ID: 11)",
          "Oil palm monoculture(ID: 11)",
          "Oil palm monoculture(ID: 11)",
          "Oil palm monoculture(ID: 11)",
          "Oil palm monoculture(ID: 11)",
          "Oil palm monoculture(ID: 11)",
          "Oil palm monoculture(ID: 11)",
          "Oil palm monoculture(ID: 11)",
          "Oil palm monoculture(ID: 11)",
          "Oil palm monoculture(ID: 11)",
          "Oil palm monoculture(ID: 11)",
          "Oil palm monoculture(ID: 11)",
          "Oil palm monoculture(ID: 11)",
          "Oil palm monoculture(ID: 11)",
          "Oil palm monoculture(ID: 11)",
          "Oil palm monoculture(ID: 11)",
          "Oil palm monoculture(ID: 11)",
          "Oil palm monoculture(ID: 11)",
          "Oil palm monoculture(ID: 11)",
          "Oil palm monoculture(ID: 11)",
          "Oil palm monoculture(ID: 11)",
          "Oil palm monoculture(ID: 11)",
          "Oil palm monoculture(ID: 11)",
          "Oil palm monoculture(ID: 11)",
          "Oil palm monoculture(ID: 11)",
          "Oil palm monoculture(ID: 11)",
          "Oil palm monoculture(ID: 11)",
          "Oil palm monoculture(ID: 11)",
          "Oil palm monoculture(ID: 11)",
          "Oil palm monoculture(ID: 11)",
          "Oil palm monoculture(ID: 11)",
          "Oil palm monoculture(ID: 11)",
          "Oil palm monoculture(ID: 11)",
          "Oil palm monoculture(ID: 11)",
          "Oil palm monoculture(ID: 11)",
          "Oil palm monoculture(ID: 11)",
          "Oil palm monoculture(ID: 11)",
          "Oil palm monoculture(ID: 11)",
          "Oil palm monoculture(ID: 11)",
          "Oil palm monoculture(ID: 11)",
          "Oil palm monoculture(ID: 11)",
          "Oil palm monoculture(ID: 11)",
          "Oil palm monoculture(ID: 11)",
          "Oil palm monoculture(ID: 11)",
          "Oil palm monoculture(ID: 11)",
          "Oil palm monoculture(ID: 11)",
          "Oil palm monoculture(ID: 11)",
          "Oil palm monoculture(ID: 11)",
          "Oil palm monoculture(ID: 11)",
          "Oil palm monoculture(ID: 11)",
          "Oil palm monoculture(ID: 11)",
          "Oil palm monoculture(ID: 11)",
          "Oil palm monoculture(ID: 11)",
          "Oil palm monoculture(ID: 11)",
          "Oil palm monoculture(ID: 11)",
          "Oil palm monoculture(ID: 11)",
          "Oil palm monoculture(ID: 11)",
          "Oil palm monoculture(ID: 11)",
          "Oil palm monoculture(ID: 11)",
          "Oil palm monoculture(ID: 11)",
          "Oil palm monoculture(ID: 11)",
          "Oil palm monoculture(ID: 11)",
          "Oil palm monoculture(ID: 11)",
          "Oil palm monoculture(ID: 11)",
          "Oil palm monoculture(ID: 11)",
          "Oil palm monoculture(ID: 11)",
          "Oil palm monoculture(ID: 11)",
          "Oil palm monoculture(ID: 11)",
          "Oil palm monoculture(ID: 11)",
          "Oil palm monoculture(ID: 11)",
          "Oil palm monoculture(ID: 11)",
          "Oil palm monoculture(ID: 11)",
          "Oil palm monoculture(ID: 11)",
          "Oil palm monoculture(ID: 11)",
          "Oil palm monoculture(ID: 11)",
          "Oil palm monoculture(ID: 11)",
          "Oil palm monoculture(ID: 11)",
          "Oil palm monoculture(ID: 11)",
          "Oil palm monoculture(ID: 11)",
          "Oil palm monoculture(ID: 11)",
          "Oil palm monoculture(ID: 11)",
          "Oil palm monoculture(ID: 11)",
          "Oil palm monoculture(ID: 11)",
          "Oil palm monoculture(ID: 11)",
          "Oil palm monoculture(ID: 11)",
          "Oil palm monoculture(ID: 11)",
          "Oil palm monoculture(ID: 11)",
          "Oil palm monoculture(ID: 11)",
          "Oil palm monoculture(ID: 11)",
          "Oil palm monoculture(ID: 11)",
          "Oil palm monoculture(ID: 11)",
          "Oil palm monoculture(ID: 11)",
          "Oil palm monoculture(ID: 11)",
          "Oil palm monoculture(ID: 11)",
          "Oil palm monoculture(ID: 11)",
          "Oil palm monoculture(ID: 11)",
          "Oil palm monoculture(ID: 11)",
          "Oil palm monoculture(ID: 11)",
          "Oil palm monoculture(ID: 11)",
          "Oil palm monoculture(ID: 11)",
          "Oil palm monoculture(ID: 11)",
          "Oil palm monoculture(ID: 11)",
          "Oil palm monoculture(ID: 11)",
          "Oil palm monoculture(ID: 11)",
          "Oil palm monoculture(ID: 11)",
          "Oil palm monoculture(ID: 11)",
          "Oil palm monoculture(ID: 11)",
          "Oil palm monoculture(ID: 11)",
          "Oil palm monoculture(ID: 11)",
          "Oil palm monoculture(ID: 11)",
          "Oil palm monoculture(ID: 11)",
          "Oil palm monoculture(ID: 11)",
          "Oil palm monoculture(ID: 11)",
          "Oil palm monoculture(ID: 11)",
          "Oil palm monoculture(ID: 11)",
          "Oil palm monoculture(ID: 11)",
          "Oil palm monoculture(ID: 11)",
          "Oil palm monoculture(ID: 11)",
          "Oil palm monoculture(ID: 11)",
          "Oil palm monoculture(ID: 11)",
          "Oil palm monoculture(ID: 11)",
          "Oil palm monoculture(ID: 11)",
          "Oil palm monoculture(ID: 11)",
          "Oil palm monoculture(ID: 11)",
          "Oil palm monoculture(ID: 11)",
          "Oil palm monoculture(ID: 11)",
          "Oil palm monoculture(ID: 11)",
          "Oil palm monoculture(ID: 11)"
         ],
         "x0": " ",
         "xaxis": "x",
         "y": {
          "bdata": "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",
          "dtype": "f8"
         },
         "y0": " ",
         "yaxis": "y"
        },
        {
         "alignmentgroup": "True",
         "customdata": {
          "bdata": "ExMTExMTExMTExMTExMTExMTExMTExMTExMTExMTExMTExMTExMTExMTExMTExM=",
          "dtype": "i1",
          "shape": "47, 1"
         },
         "hovertemplate": "<b>%{x}</b><br>GREEN: %{y:.4f}<br><extra></extra>",
         "legendgroup": "Water Body(ID: 19)",
         "marker": {
          "color": "#ab63fa"
         },
         "name": "Water Body(ID: 19)",
         "notched": false,
         "offsetgroup": "Water Body(ID: 19)",
         "orientation": "v",
         "showlegend": true,
         "type": "box",
         "x": [
          "Water Body(ID: 19)",
          "Water Body(ID: 19)",
          "Water Body(ID: 19)",
          "Water Body(ID: 19)",
          "Water Body(ID: 19)",
          "Water Body(ID: 19)",
          "Water Body(ID: 19)",
          "Water Body(ID: 19)",
          "Water Body(ID: 19)",
          "Water Body(ID: 19)",
          "Water Body(ID: 19)",
          "Water Body(ID: 19)",
          "Water Body(ID: 19)",
          "Water Body(ID: 19)",
          "Water Body(ID: 19)",
          "Water Body(ID: 19)",
          "Water Body(ID: 19)",
          "Water Body(ID: 19)",
          "Water Body(ID: 19)",
          "Water Body(ID: 19)",
          "Water Body(ID: 19)",
          "Water Body(ID: 19)",
          "Water Body(ID: 19)",
          "Water Body(ID: 19)",
          "Water Body(ID: 19)",
          "Water Body(ID: 19)",
          "Water Body(ID: 19)",
          "Water Body(ID: 19)",
          "Water Body(ID: 19)",
          "Water Body(ID: 19)",
          "Water Body(ID: 19)",
          "Water Body(ID: 19)",
          "Water Body(ID: 19)",
          "Water Body(ID: 19)",
          "Water Body(ID: 19)",
          "Water Body(ID: 19)",
          "Water Body(ID: 19)",
          "Water Body(ID: 19)",
          "Water Body(ID: 19)",
          "Water Body(ID: 19)",
          "Water Body(ID: 19)",
          "Water Body(ID: 19)",
          "Water Body(ID: 19)",
          "Water Body(ID: 19)",
          "Water Body(ID: 19)",
          "Water Body(ID: 19)",
          "Water Body(ID: 19)"
         ],
         "x0": " ",
         "xaxis": "x",
         "y": {
          "bdata": "gCvZsRGIsT94Xb9gN2ywPzBpjNZR1bQ/lLcjnBa8tD9Y07zjFB2vP4Ar2bERiLE/8I/3qpUJtT+uLxLaci62P0ok0csolrU/WvrQBfUtpz8wEtpyLsWzPzpY/+cwX7U/9FmeB3dnsz+IVbyReeS2P+D42jNLAqw/WK1M+KV+tj/okT8YeO6rP2whyEEJM7U/KIOj5NU5uj+8UpYhjnWtP8Q4fxMKEbI/sMQDyqZcsz8MndfYJaqzP4iYEkn0MrY/cFXZd0Xwqz924JwRpb23P7hif9k9eaw/iCUeUDblrj/4qpUJv9SwPzjfT42Xbqo/wEhoy7kUsT9wKlJhbCGwP2jGounsZLE/kMcMVMa/sz8kT5KumXy5P46XbhKDwLU/MOauJeSDuD9ivrwA++i2P+gOYmcKna8/Is1YNJ2dsj8Q6bevA+e4P4JzRpT2BrQ/mJmZmZmZtz+Urpl8s82vP0henWNA9qQ/+I2vPbMktD+IokCfyJOxPw==",
          "dtype": "f8"
         },
         "y0": " ",
         "yaxis": "y"
        },
        {
         "alignmentgroup": "True",
         "customdata": {
          "bdata": "AQEBAQEBAQEBAQEBAQEBAQEBAQEBAQEBAQEBAQE=",
          "dtype": "i1",
          "shape": "29, 1"
         },
         "hovertemplate": "<b>%{x}</b><br>GREEN: %{y:.4f}<br><extra></extra>",
         "legendgroup": "Acacia plantation(ID: 1)",
         "marker": {
          "color": "#FFA15A"
         },
         "name": "Acacia plantation(ID: 1)",
         "notched": false,
         "offsetgroup": "Acacia plantation(ID: 1)",
         "orientation": "v",
         "showlegend": true,
         "type": "box",
         "x": [
          "Acacia plantation(ID: 1)",
          "Acacia plantation(ID: 1)",
          "Acacia plantation(ID: 1)",
          "Acacia plantation(ID: 1)",
          "Acacia plantation(ID: 1)",
          "Acacia plantation(ID: 1)",
          "Acacia plantation(ID: 1)",
          "Acacia plantation(ID: 1)",
          "Acacia plantation(ID: 1)",
          "Acacia plantation(ID: 1)",
          "Acacia plantation(ID: 1)",
          "Acacia plantation(ID: 1)",
          "Acacia plantation(ID: 1)",
          "Acacia plantation(ID: 1)",
          "Acacia plantation(ID: 1)",
          "Acacia plantation(ID: 1)",
          "Acacia plantation(ID: 1)",
          "Acacia plantation(ID: 1)",
          "Acacia plantation(ID: 1)",
          "Acacia plantation(ID: 1)",
          "Acacia plantation(ID: 1)",
          "Acacia plantation(ID: 1)",
          "Acacia plantation(ID: 1)",
          "Acacia plantation(ID: 1)",
          "Acacia plantation(ID: 1)",
          "Acacia plantation(ID: 1)",
          "Acacia plantation(ID: 1)",
          "Acacia plantation(ID: 1)",
          "Acacia plantation(ID: 1)"
         ],
         "x0": " ",
         "xaxis": "x",
         "y": {
          "bdata": "zNHj9zb9sT8Q5KCEmba1P3jWbrvQXLE/JCh+jLlrtj+e+dUcIJizP5huEoPAyrE/KH6MuWsJrT/YA63AkNWxP2qHvyZr1LQ/xObj2lAxtD/ADpwzorStP+j7qfHSTa4/KAaBlUOLrD/a4a/JGvW8P2AHzhlR2q8/mLw6x4DsrT+c19glqrezP6zFpwAYz7M/9GxWfa62qj8EFytqMA2rP3hYqDXNO64/CI82jliLqz9W5xiQvd6lP8yN6QlLPLI/CG05l+KqtT9s2VpfJLSyPwglzLT9K7M/4Ep2bATiqT9qYKsEi8OnPw==",
          "dtype": "f8"
         },
         "y0": " ",
         "yaxis": "y"
        },
        {
         "alignmentgroup": "True",
         "customdata": {
          "bdata": "DQ0NDQ0NDQ0NDQ0NDQ0NDQ0NDQ0NDQ0NDQ0NDQ0NDQ0NDQ0NDQ0NDQ0NDQ0NDQ0NDQ0NDQ0NDQ0NDQ0NDQ0NDQ0NDQ==",
          "dtype": "i1",
          "shape": "67, 1"
         },
         "hovertemplate": "<b>%{x}</b><br>GREEN: %{y:.4f}<br><extra></extra>",
         "legendgroup": "Rice Field(ID: 13)",
         "marker": {
          "color": "#19d3f3"
         },
         "name": "Rice Field(ID: 13)",
         "notched": false,
         "offsetgroup": "Rice Field(ID: 13)",
         "orientation": "v",
         "showlegend": true,
         "type": "box",
         "x": [
          "Rice Field(ID: 13)",
          "Rice Field(ID: 13)",
          "Rice Field(ID: 13)",
          "Rice Field(ID: 13)",
          "Rice Field(ID: 13)",
          "Rice Field(ID: 13)",
          "Rice Field(ID: 13)",
          "Rice Field(ID: 13)",
          "Rice Field(ID: 13)",
          "Rice Field(ID: 13)",
          "Rice Field(ID: 13)",
          "Rice Field(ID: 13)",
          "Rice Field(ID: 13)",
          "Rice Field(ID: 13)",
          "Rice Field(ID: 13)",
          "Rice Field(ID: 13)",
          "Rice Field(ID: 13)",
          "Rice Field(ID: 13)",
          "Rice Field(ID: 13)",
          "Rice Field(ID: 13)",
          "Rice Field(ID: 13)",
          "Rice Field(ID: 13)",
          "Rice Field(ID: 13)",
          "Rice Field(ID: 13)",
          "Rice Field(ID: 13)",
          "Rice Field(ID: 13)",
          "Rice Field(ID: 13)",
          "Rice Field(ID: 13)",
          "Rice Field(ID: 13)",
          "Rice Field(ID: 13)",
          "Rice Field(ID: 13)",
          "Rice Field(ID: 13)",
          "Rice Field(ID: 13)",
          "Rice Field(ID: 13)",
          "Rice Field(ID: 13)",
          "Rice Field(ID: 13)",
          "Rice Field(ID: 13)",
          "Rice Field(ID: 13)",
          "Rice Field(ID: 13)",
          "Rice Field(ID: 13)",
          "Rice Field(ID: 13)",
          "Rice Field(ID: 13)",
          "Rice Field(ID: 13)",
          "Rice Field(ID: 13)",
          "Rice Field(ID: 13)",
          "Rice Field(ID: 13)",
          "Rice Field(ID: 13)",
          "Rice Field(ID: 13)",
          "Rice Field(ID: 13)",
          "Rice Field(ID: 13)",
          "Rice Field(ID: 13)",
          "Rice Field(ID: 13)",
          "Rice Field(ID: 13)",
          "Rice Field(ID: 13)",
          "Rice Field(ID: 13)",
          "Rice Field(ID: 13)",
          "Rice Field(ID: 13)",
          "Rice Field(ID: 13)",
          "Rice Field(ID: 13)",
          "Rice Field(ID: 13)",
          "Rice Field(ID: 13)",
          "Rice Field(ID: 13)",
          "Rice Field(ID: 13)",
          "Rice Field(ID: 13)",
          "Rice Field(ID: 13)",
          "Rice Field(ID: 13)",
          "Rice Field(ID: 13)"
         ],
         "x0": " ",
         "xaxis": "x",
         "y": {
          "bdata": "sKjBNAwfrT9ICI82jlivP6gY529CIbI/SPXWwFYJrj/4/DBCeLSvPzgC8bp+wbQ/0K5Cyk+qsT9w5ldzgGCwP8oolltaDbM/7pklAWpqsD/wv5Xs2AizP4iAQ6hSs7E/0m9fB84ZtT/Y8PRKWYawP7ZsrS8S2rE/IB/0bFZ9sD9sYKsEi8OxP17cRgN4C7Q/kNWtnpPesT+wIM1YNJ2tP9iVz/I8uK0/7NgIxOv6rT9Uy9b6IqGzP+JYF7fRALI/gHTqymd5qj/UJk7udyiyPxhMw/ARMa0/qMtiYvNxrT9QnNzvUBSsP3TIzXADPrM/pPeNrz2zsj+QiCmRRC+3PxSuR+F6FLQ/JNbiUwCMuD8m32xzY3qzPzAvwD46dbA/NG3/ykqTtz+ojH+fceG6P2zKFd7lIrQ/rPpcbcX+tD/aUDHO34TEP2BUUiegibQ/kIMSZtr+sz/omsk329ywPxB/Tdaoh7Y/pO1fWWlSoj++8bVnlgSwP1Q1QdR9AKw/5Ojxe5v+tj+s7Lsi+N+2P5wWvOgrSLs/SAwCK4cWsT+o+wCkNnG1P2DXL9gN27A/2OJTAIxnsj9MH7qgvmWyPwjJAiZw67k/7GmHvyZrsj8n/FI/byqwP/RxbagY560/kML1KFyPpj8Me9rhr8mzP+BFX0GasbA/5AFlU67wsD+EX+rnTUWyPwjcupunOrA/HIaPiCmRsD8=",
          "dtype": "f8"
         },
         "y0": " ",
         "yaxis": "y"
        },
        {
         "alignmentgroup": "True",
         "customdata": {
          "bdata": "CgoKCgoKCgoKCgoKCgoKCgoKCgoKCgoKCgoKCgoKCgoKCgoKCgoKCgoKCgoKCgoKCgoKCgoKCgoKCgoKCgoKCgoKCgoKCgoKCgoKCgoKCgoKCgoKCgoKCgoKCgoKCgoKCgoKCgoKCgoKCgoKCgoKCgoKCgoKCgoKCgoKCgo=",
          "dtype": "i1",
          "shape": "125, 1"
         },
         "hovertemplate": "<b>%{x}</b><br>GREEN: %{y:.4f}<br><extra></extra>",
         "legendgroup": "Mixed Garden(ID: 10)",
         "marker": {
          "color": "#FF6692"
         },
         "name": "Mixed Garden(ID: 10)",
         "notched": false,
         "offsetgroup": "Mixed Garden(ID: 10)",
         "orientation": "v",
         "showlegend": true,
         "type": "box",
         "x": [
          "Mixed Garden(ID: 10)",
          "Mixed Garden(ID: 10)",
          "Mixed Garden(ID: 10)",
          "Mixed Garden(ID: 10)",
          "Mixed Garden(ID: 10)",
          "Mixed Garden(ID: 10)",
          "Mixed Garden(ID: 10)",
          "Mixed Garden(ID: 10)",
          "Mixed Garden(ID: 10)",
          "Mixed Garden(ID: 10)",
          "Mixed Garden(ID: 10)",
          "Mixed Garden(ID: 10)",
          "Mixed Garden(ID: 10)",
          "Mixed Garden(ID: 10)",
          "Mixed Garden(ID: 10)",
          "Mixed Garden(ID: 10)",
          "Mixed Garden(ID: 10)",
          "Mixed Garden(ID: 10)",
          "Mixed Garden(ID: 10)",
          "Mixed Garden(ID: 10)",
          "Mixed Garden(ID: 10)",
          "Mixed Garden(ID: 10)",
          "Mixed Garden(ID: 10)",
          "Mixed Garden(ID: 10)",
          "Mixed Garden(ID: 10)",
          "Mixed Garden(ID: 10)",
          "Mixed Garden(ID: 10)",
          "Mixed Garden(ID: 10)",
          "Mixed Garden(ID: 10)",
          "Mixed Garden(ID: 10)",
          "Mixed Garden(ID: 10)",
          "Mixed Garden(ID: 10)",
          "Mixed Garden(ID: 10)",
          "Mixed Garden(ID: 10)",
          "Mixed Garden(ID: 10)",
          "Mixed Garden(ID: 10)",
          "Mixed Garden(ID: 10)",
          "Mixed Garden(ID: 10)",
          "Mixed Garden(ID: 10)",
          "Mixed Garden(ID: 10)",
          "Mixed Garden(ID: 10)",
          "Mixed Garden(ID: 10)",
          "Mixed Garden(ID: 10)",
          "Mixed Garden(ID: 10)",
          "Mixed Garden(ID: 10)",
          "Mixed Garden(ID: 10)",
          "Mixed Garden(ID: 10)",
          "Mixed Garden(ID: 10)",
          "Mixed Garden(ID: 10)",
          "Mixed Garden(ID: 10)",
          "Mixed Garden(ID: 10)",
          "Mixed Garden(ID: 10)",
          "Mixed Garden(ID: 10)",
          "Mixed Garden(ID: 10)",
          "Mixed Garden(ID: 10)",
          "Mixed Garden(ID: 10)",
          "Mixed Garden(ID: 10)",
          "Mixed Garden(ID: 10)",
          "Mixed Garden(ID: 10)",
          "Mixed Garden(ID: 10)",
          "Mixed Garden(ID: 10)",
          "Mixed Garden(ID: 10)",
          "Mixed Garden(ID: 10)",
          "Mixed Garden(ID: 10)",
          "Mixed Garden(ID: 10)",
          "Mixed Garden(ID: 10)",
          "Mixed Garden(ID: 10)",
          "Mixed Garden(ID: 10)",
          "Mixed Garden(ID: 10)",
          "Mixed Garden(ID: 10)",
          "Mixed Garden(ID: 10)",
          "Mixed Garden(ID: 10)",
          "Mixed Garden(ID: 10)",
          "Mixed Garden(ID: 10)",
          "Mixed Garden(ID: 10)",
          "Mixed Garden(ID: 10)",
          "Mixed Garden(ID: 10)",
          "Mixed Garden(ID: 10)",
          "Mixed Garden(ID: 10)",
          "Mixed Garden(ID: 10)",
          "Mixed Garden(ID: 10)",
          "Mixed Garden(ID: 10)",
          "Mixed Garden(ID: 10)",
          "Mixed Garden(ID: 10)",
          "Mixed Garden(ID: 10)",
          "Mixed Garden(ID: 10)",
          "Mixed Garden(ID: 10)",
          "Mixed Garden(ID: 10)",
          "Mixed Garden(ID: 10)",
          "Mixed Garden(ID: 10)",
          "Mixed Garden(ID: 10)",
          "Mixed Garden(ID: 10)",
          "Mixed Garden(ID: 10)",
          "Mixed Garden(ID: 10)",
          "Mixed Garden(ID: 10)",
          "Mixed Garden(ID: 10)",
          "Mixed Garden(ID: 10)",
          "Mixed Garden(ID: 10)",
          "Mixed Garden(ID: 10)",
          "Mixed Garden(ID: 10)",
          "Mixed Garden(ID: 10)",
          "Mixed Garden(ID: 10)",
          "Mixed Garden(ID: 10)",
          "Mixed Garden(ID: 10)",
          "Mixed Garden(ID: 10)",
          "Mixed Garden(ID: 10)",
          "Mixed Garden(ID: 10)",
          "Mixed Garden(ID: 10)",
          "Mixed Garden(ID: 10)",
          "Mixed Garden(ID: 10)",
          "Mixed Garden(ID: 10)",
          "Mixed Garden(ID: 10)",
          "Mixed Garden(ID: 10)",
          "Mixed Garden(ID: 10)",
          "Mixed Garden(ID: 10)",
          "Mixed Garden(ID: 10)",
          "Mixed Garden(ID: 10)",
          "Mixed Garden(ID: 10)",
          "Mixed Garden(ID: 10)",
          "Mixed Garden(ID: 10)",
          "Mixed Garden(ID: 10)",
          "Mixed Garden(ID: 10)",
          "Mixed Garden(ID: 10)",
          "Mixed Garden(ID: 10)",
          "Mixed Garden(ID: 10)"
         ],
         "x0": " ",
         "xaxis": "x",
         "y": {
          "bdata": "zO7Jw0Ktrz92oblOIy2wP04jLZW3I7U/SmjLuRRXtT+YhuEjYkq2P7DOMSB7va8/7CWN0Tqqsj8wKqkT0ES4P7gQ5KCEma4/hs5r7BLVtz9EHOviNhqwP9haXyS05ag/UKVmD7QCsT9E+u3rwDmwPyARUyKJXrI/5Hlwd9Zupz/sL7snDwu5P4DZPXlYqKk/8KKvIM1YrD9wPQrXo3CnP4zbaABvgbU/+BQA4xk0vj8kl/+QfvuwP9R9AFKbOLM/MGR1q+eksT8Y4lgXt9G0Py457pQO1rY//vZ14JwRtj94LSEf9GyyP1ZWmpSCbrU/XMmOjUC8sj9oP1JEhlWyP/B3KAr0ibA/6E1FKowtrD9gIxCv6xesP2AVb2Qe+bc/ECOERxtHqD+wyRr1EI2sP/C1Z5YEqK0/oImw4emVrj8Qpb3BFyavPwxUxr/PuLA/4IlZL4ZysD/4LXO6LCauP3RjesISD7Q/KMsQx7q4sT8gPNo4Yi2uP/ZFQlvOpbw/vCcPC7WmsT8wW+uLhLasP5Axdy0hH6w/aERpb/CFtT/YDdsWZTa4P4hGdxA7U64/WLJjIxCvrz/QHcTOFDq3P0gRGVbxRrQ/KPIk6ZrJtD+8qUiFsYWuP/DYCMTr+q0/kDF3LSEfrD/oDmJnCp2vPyh0XmOXqKY/eITTghd9qT8srYbEPZa0P+zT8ZiByqo/eB+A1CZOqj94f7xXrUywP2TkLOxph68/GEM50a5CsT/Y0w5/TdazP6hc4V0u4qc/WP/nMF9etD+QMXctIR+sP0hQ/Bhz17A/RBzr4jYasD8IPZtVn6utP8DAc+/hkqc/wEhoy7kUpz9G9dbAVgm4P1jejnBa8Ko/eA+XHHdKqz++8bVnlgSwP1SH3Aw34Kk/fAqA8Qwasj+gY0D2everP5z0vvG1Z7A/4PjaM0sCrD9W2XdF8L+nP1x381SH3Ko/OBWpMLYQrD84/dmPFJGxP7BamfBL/bA/yF7v/nivqj8q3sg88gepPxjxnZj1YrM/3qtWJvxSsD8KaCJseHqyP5TP8jy4O68//LypSIWxsT8wiuWWVkOqPxJTIoleRrA/GvD5YYTwqD+M/WX35GGrP6jnpPeNr6k/lJ9U+3Q8sD/cJAaBlUOnP+SDns2qz60/wou+gjRjsD/IMsSxLm6vP8b5m1CIgLU/OlPovMYusj8Mq3gj88ixP2Ri83FtqKg/xqcAGM+gtz88XHLcKR2uP2iu00hL5a0/VN6OcFrwtD+8OseA7PWyP2pI3GPpQ7g/nNLB+j+Huz/owd1Zu+2zP+3O2m0XmrE/GIIclDDTrj/gufdwyXG5Pw==",
          "dtype": "f8"
         },
         "y0": " ",
         "yaxis": "y"
        },
        {
         "alignmentgroup": "True",
         "customdata": {
          "bdata": "Dg4ODg4ODg4ODg4ODg4ODg4ODg4ODg4O",
          "dtype": "i1",
          "shape": "24, 1"
         },
         "hovertemplate": "<b>%{x}</b><br>GREEN: %{y:.4f}<br><extra></extra>",
         "legendgroup": "Rubber agroforest(ID: 14)",
         "marker": {
          "color": "#B6E880"
         },
         "name": "Rubber agroforest(ID: 14)",
         "notched": false,
         "offsetgroup": "Rubber agroforest(ID: 14)",
         "orientation": "v",
         "showlegend": true,
         "type": "box",
         "x": [
          "Rubber agroforest(ID: 14)",
          "Rubber agroforest(ID: 14)",
          "Rubber agroforest(ID: 14)",
          "Rubber agroforest(ID: 14)",
          "Rubber agroforest(ID: 14)",
          "Rubber agroforest(ID: 14)",
          "Rubber agroforest(ID: 14)",
          "Rubber agroforest(ID: 14)",
          "Rubber agroforest(ID: 14)",
          "Rubber agroforest(ID: 14)",
          "Rubber agroforest(ID: 14)",
          "Rubber agroforest(ID: 14)",
          "Rubber agroforest(ID: 14)",
          "Rubber agroforest(ID: 14)",
          "Rubber agroforest(ID: 14)",
          "Rubber agroforest(ID: 14)",
          "Rubber agroforest(ID: 14)",
          "Rubber agroforest(ID: 14)",
          "Rubber agroforest(ID: 14)",
          "Rubber agroforest(ID: 14)",
          "Rubber agroforest(ID: 14)",
          "Rubber agroforest(ID: 14)",
          "Rubber agroforest(ID: 14)",
          "Rubber agroforest(ID: 14)"
         ],
         "x0": " ",
         "xaxis": "x",
         "y": {
          "bdata": "1IIXfQVptj8WTWcng6O3P3506spnebQ/GP8+48KBsT/2zJIANbWwP6pIhbGFILA/YJhMFYxKqj/8byU7NgKtP4S2nEtxVak/cJ7qkJvhrj+QuWsJ+aCrP4gVNZiG4a8/cOZXc4Bgpj+ob5nTZTGpP8CfGi/dJLI/AOgwX16ArT/oTUUqjC22P9wkBoGVQ7E/mJmZmZmZtz/WOQZkr3epP6CwxAPKprA/ZHrCEg8orT/Az7hwICSwP7xSliGOdbc/",
          "dtype": "f8"
         },
         "y0": " ",
         "yaxis": "y"
        },
        {
         "alignmentgroup": "True",
         "customdata": {
          "bdata": "CAgICAgICAgICAgICAgICAgICAgICAgICAgICAgICAgI",
          "dtype": "i1",
          "shape": "33, 1"
         },
         "hovertemplate": "<b>%{x}</b><br>GREEN: %{y:.4f}<br><extra></extra>",
         "legendgroup": "Logged Over Forest Low Density(ID: 8)",
         "marker": {
          "color": "#FF97FF"
         },
         "name": "Logged Over Forest Low Density(ID: 8)",
         "notched": false,
         "offsetgroup": "Logged Over Forest Low Density(ID: 8)",
         "orientation": "v",
         "showlegend": true,
         "type": "box",
         "x": [
          "Logged Over Forest Low Density(ID: 8)",
          "Logged Over Forest Low Density(ID: 8)",
          "Logged Over Forest Low Density(ID: 8)",
          "Logged Over Forest Low Density(ID: 8)",
          "Logged Over Forest Low Density(ID: 8)",
          "Logged Over Forest Low Density(ID: 8)",
          "Logged Over Forest Low Density(ID: 8)",
          "Logged Over Forest Low Density(ID: 8)",
          "Logged Over Forest Low Density(ID: 8)",
          "Logged Over Forest Low Density(ID: 8)",
          "Logged Over Forest Low Density(ID: 8)",
          "Logged Over Forest Low Density(ID: 8)",
          "Logged Over Forest Low Density(ID: 8)",
          "Logged Over Forest Low Density(ID: 8)",
          "Logged Over Forest Low Density(ID: 8)",
          "Logged Over Forest Low Density(ID: 8)",
          "Logged Over Forest Low Density(ID: 8)",
          "Logged Over Forest Low Density(ID: 8)",
          "Logged Over Forest Low Density(ID: 8)",
          "Logged Over Forest Low Density(ID: 8)",
          "Logged Over Forest Low Density(ID: 8)",
          "Logged Over Forest Low Density(ID: 8)",
          "Logged Over Forest Low Density(ID: 8)",
          "Logged Over Forest Low Density(ID: 8)",
          "Logged Over Forest Low Density(ID: 8)",
          "Logged Over Forest Low Density(ID: 8)",
          "Logged Over Forest Low Density(ID: 8)",
          "Logged Over Forest Low Density(ID: 8)",
          "Logged Over Forest Low Density(ID: 8)",
          "Logged Over Forest Low Density(ID: 8)",
          "Logged Over Forest Low Density(ID: 8)",
          "Logged Over Forest Low Density(ID: 8)",
          "Logged Over Forest Low Density(ID: 8)"
         ],
         "x0": " ",
         "xaxis": "x",
         "y": {
          "bdata": "5BQdyeU/sj8E/1vJjo2wPxzXhopx/q4/CAxZ3eo5rz/EpwAYz6CtPxwv3SQGgaU/2s73U+OlsD8MmMCtu3mwP/xl9+RhobA/SFoqb0c4rT9Ql8XE5uOyP8hQTrSrkKw/2Ey+2ebGqj/gufdwyXGvP5RliGNd3LY/uE/HYwYqqz8Y+ie4WFGvP/x9xoUDIas/DMNHxJRIrD8kl/+QfvuwP8yEX+rnTa0/vCL430p2pD8I4dHGEWupP2AQWDm0yKo/XkGasWg6qT8QQGoTJ/evP5B++zpwzrA/vqQxWkdVtT+oeccpOpKvP5ZgcTjzq7M/oKaWrfVFtT9Ol8XE5uOoPxjKiXYVUrA/",
          "dtype": "f8"
         },
         "y0": " ",
         "yaxis": "y"
        },
        {
         "alignmentgroup": "True",
         "customdata": {
          "bdata": "ERERERERERERERE=",
          "dtype": "i1",
          "shape": "11, 1"
         },
         "hovertemplate": "<b>%{x}</b><br>GREEN: %{y:.4f}<br><extra></extra>",
         "legendgroup": "Shrub(ID: 17)",
         "marker": {
          "color": "#FECB52"
         },
         "name": "Shrub(ID: 17)",
         "notched": false,
         "offsetgroup": "Shrub(ID: 17)",
         "orientation": "v",
         "showlegend": true,
         "type": "box",
         "x": [
          "Shrub(ID: 17)",
          "Shrub(ID: 17)",
          "Shrub(ID: 17)",
          "Shrub(ID: 17)",
          "Shrub(ID: 17)",
          "Shrub(ID: 17)",
          "Shrub(ID: 17)",
          "Shrub(ID: 17)",
          "Shrub(ID: 17)",
          "Shrub(ID: 17)",
          "Shrub(ID: 17)"
         ],
         "x0": " ",
         "xaxis": "x",
         "y": {
          "bdata": "EN+JWS+Gsj/EILByaJG4P4xiuaXVkLQ/0IcuqG+Zrz+UfVcE/1uwPyRFZFjFG6k/MOvFUE60uz9seHqlLEOsP0Twv5Xs2LQ/rCaIug9AsD/IVWXfFcGvPw==",
          "dtype": "f8"
         },
         "y0": " ",
         "yaxis": "y"
        },
        {
         "alignmentgroup": "True",
         "customdata": {
          "bdata": "BgYGBgYGBgYGBgYGBgYGBgYGBgYG",
          "dtype": "i1",
          "shape": "21, 1"
         },
         "hovertemplate": "<b>%{x}</b><br>GREEN: %{y:.4f}<br><extra></extra>",
         "legendgroup": "Grass(ID: 6)",
         "marker": {
          "color": "#636efa"
         },
         "name": "Grass(ID: 6)",
         "notched": false,
         "offsetgroup": "Grass(ID: 6)",
         "orientation": "v",
         "showlegend": true,
         "type": "box",
         "x": [
          "Grass(ID: 6)",
          "Grass(ID: 6)",
          "Grass(ID: 6)",
          "Grass(ID: 6)",
          "Grass(ID: 6)",
          "Grass(ID: 6)",
          "Grass(ID: 6)",
          "Grass(ID: 6)",
          "Grass(ID: 6)",
          "Grass(ID: 6)",
          "Grass(ID: 6)",
          "Grass(ID: 6)",
          "Grass(ID: 6)",
          "Grass(ID: 6)",
          "Grass(ID: 6)",
          "Grass(ID: 6)",
          "Grass(ID: 6)",
          "Grass(ID: 6)",
          "Grass(ID: 6)",
          "Grass(ID: 6)",
          "Grass(ID: 6)"
         ],
         "x0": " ",
         "xaxis": "x",
         "y": {
          "bdata": "9LBQa5p3tD8oBoGVQ4usPwinBS/6Cro/9sySADW1uz8sBDkoYaa1PxyjdVQ1Qbg/mNh8XBsqtD9WDi2yne+yP1KbOLnfobU/AN4CCYofsT/4wmSqYFS1P+A3vvbMkrI/9FSH3Aw3sD9Yn6ut2F+uPwxe9BWkGa0/WAT/W8mOrT8goS3nUlytPzAS2nIuxbM/WG5pNSTuuT8wgVt381SvP1KDaRg+IrE/",
          "dtype": "f8"
         },
         "y0": " ",
         "yaxis": "y"
        },
        {
         "alignmentgroup": "True",
         "customdata": {
          "bdata": "CQkJCQkJCQkJCQkJCQ==",
          "dtype": "i1",
          "shape": "13, 1"
         },
         "hovertemplate": "<b>%{x}</b><br>GREEN: %{y:.4f}<br><extra></extra>",
         "legendgroup": "Logged over swamp forest(ID: 9)",
         "marker": {
          "color": "#EF553B"
         },
         "name": "Logged over swamp forest(ID: 9)",
         "notched": false,
         "offsetgroup": "Logged over swamp forest(ID: 9)",
         "orientation": "v",
         "showlegend": true,
         "type": "box",
         "x": [
          "Logged over swamp forest(ID: 9)",
          "Logged over swamp forest(ID: 9)",
          "Logged over swamp forest(ID: 9)",
          "Logged over swamp forest(ID: 9)",
          "Logged over swamp forest(ID: 9)",
          "Logged over swamp forest(ID: 9)",
          "Logged over swamp forest(ID: 9)",
          "Logged over swamp forest(ID: 9)",
          "Logged over swamp forest(ID: 9)",
          "Logged over swamp forest(ID: 9)",
          "Logged over swamp forest(ID: 9)",
          "Logged over swamp forest(ID: 9)",
          "Logged over swamp forest(ID: 9)"
         ],
         "x0": " ",
         "xaxis": "x",
         "y": {
          "bdata": "vCwmNh/Xqj+QlsrbEU6rP4CCixU1mLI/gPYjRWRYsD/QHcTOFDq3P2BGsdzSarY/mIbhI2JKtj8oyxDHurixP2DXL9gN27A/UPwYc9cSsj9mg0wychayPyjHndLB+q8/wJF55A8Gqj8=",
          "dtype": "f8"
         },
         "y0": " ",
         "yaxis": "y"
        },
        {
         "alignmentgroup": "True",
         "customdata": {
          "bdata": "BwcH",
          "dtype": "i1",
          "shape": "3, 1"
         },
         "hovertemplate": "<b>%{x}</b><br>GREEN: %{y:.4f}<br><extra></extra>",
         "legendgroup": "Logged over forest-high density(ID: 7)",
         "marker": {
          "color": "#00cc96"
         },
         "name": "Logged over forest-high density(ID: 7)",
         "notched": false,
         "offsetgroup": "Logged over forest-high density(ID: 7)",
         "orientation": "v",
         "showlegend": true,
         "type": "box",
         "x": [
          "Logged over forest-high density(ID: 7)",
          "Logged over forest-high density(ID: 7)",
          "Logged over forest-high density(ID: 7)"
         ],
         "x0": " ",
         "xaxis": "x",
         "y": {
          "bdata": "UBToE3mSrD+8jGK5pdWwP6IG0zB8RLE/",
          "dtype": "f8"
         },
         "y0": " ",
         "yaxis": "y"
        },
        {
         "alignmentgroup": "True",
         "customdata": {
          "bdata": "BQUFBQUFBQUFBQUFBQUFBQUFBQUFBQUFBQUFBQUF",
          "dtype": "i1",
          "shape": "30, 1"
         },
         "hovertemplate": "<b>%{x}</b><br>GREEN: %{y:.4f}<br><extra></extra>",
         "legendgroup": "Coffee Agroforest(ID: 5)",
         "marker": {
          "color": "#ab63fa"
         },
         "name": "Coffee Agroforest(ID: 5)",
         "notched": false,
         "offsetgroup": "Coffee Agroforest(ID: 5)",
         "orientation": "v",
         "showlegend": true,
         "type": "box",
         "x": [
          "Coffee Agroforest(ID: 5)",
          "Coffee Agroforest(ID: 5)",
          "Coffee Agroforest(ID: 5)",
          "Coffee Agroforest(ID: 5)",
          "Coffee Agroforest(ID: 5)",
          "Coffee Agroforest(ID: 5)",
          "Coffee Agroforest(ID: 5)",
          "Coffee Agroforest(ID: 5)",
          "Coffee Agroforest(ID: 5)",
          "Coffee Agroforest(ID: 5)",
          "Coffee Agroforest(ID: 5)",
          "Coffee Agroforest(ID: 5)",
          "Coffee Agroforest(ID: 5)",
          "Coffee Agroforest(ID: 5)",
          "Coffee Agroforest(ID: 5)",
          "Coffee Agroforest(ID: 5)",
          "Coffee Agroforest(ID: 5)",
          "Coffee Agroforest(ID: 5)",
          "Coffee Agroforest(ID: 5)",
          "Coffee Agroforest(ID: 5)",
          "Coffee Agroforest(ID: 5)",
          "Coffee Agroforest(ID: 5)",
          "Coffee Agroforest(ID: 5)",
          "Coffee Agroforest(ID: 5)",
          "Coffee Agroforest(ID: 5)",
          "Coffee Agroforest(ID: 5)",
          "Coffee Agroforest(ID: 5)",
          "Coffee Agroforest(ID: 5)",
          "Coffee Agroforest(ID: 5)",
          "Coffee Agroforest(ID: 5)"
         ],
         "x0": " ",
         "xaxis": "x",
         "y": {
          "bdata": "6JrJN9vcpj+gceFASBaqP4bEPZY+dLE/THuDL0ymtj8AlpUmpaCvP1TGv8+4cLA/vs+4cCAksD98xoUDIVmoP/5g4Ln3cKM/uOnPfqSInD/EihpMw/ClP9L7xteeWaI/EAaeew+XoD/kpZvEILCiP24Sg8DKoaE/EBDM0eP3pj8ukKD4MeaiPzBkdavnpKc/MGR1q+ekpz9I4XoUrkehP7yHS447paM/bBMn9zsUrT+cPdAKDFmpP8QSDyibcqU/gqPk1TkGqD94/N6mP/upP3o7wmnBi6Y/8DhFR3L5sz+A7PXuj/eqPxiLprOTwak/",
          "dtype": "f8"
         },
         "y0": " ",
         "yaxis": "y"
        },
        {
         "alignmentgroup": "True",
         "customdata": {
          "bdata": "BAQEBA==",
          "dtype": "i1",
          "shape": "4, 1"
         },
         "hovertemplate": "<b>%{x}</b><br>GREEN: %{y:.4f}<br><extra></extra>",
         "legendgroup": "Coconut monoculture(ID: 4)",
         "marker": {
          "color": "#FFA15A"
         },
         "name": "Coconut monoculture(ID: 4)",
         "notched": false,
         "offsetgroup": "Coconut monoculture(ID: 4)",
         "orientation": "v",
         "showlegend": true,
         "type": "box",
         "x": [
          "Coconut monoculture(ID: 4)",
          "Coconut monoculture(ID: 4)",
          "Coconut monoculture(ID: 4)",
          "Coconut monoculture(ID: 4)"
         ],
         "x0": " ",
         "xaxis": "x",
         "y": {
          "bdata": "PN9PjZdutD8Este7P961P8SedvhrsrE/QpWaPdAKsT8=",
          "dtype": "f8"
         },
         "y0": " ",
         "yaxis": "y"
        },
        {
         "alignmentgroup": "True",
         "customdata": {
          "bdata": "DAwMDAwMDAwMDAwMDAw=",
          "dtype": "i1",
          "shape": "14, 1"
         },
         "hovertemplate": "<b>%{x}</b><br>GREEN: %{y:.4f}<br><extra></extra>",
         "legendgroup": "Other Crops(ID: 12)",
         "marker": {
          "color": "#19d3f3"
         },
         "name": "Other Crops(ID: 12)",
         "notched": false,
         "offsetgroup": "Other Crops(ID: 12)",
         "orientation": "v",
         "showlegend": true,
         "type": "box",
         "x": [
          "Other Crops(ID: 12)",
          "Other Crops(ID: 12)",
          "Other Crops(ID: 12)",
          "Other Crops(ID: 12)",
          "Other Crops(ID: 12)",
          "Other Crops(ID: 12)",
          "Other Crops(ID: 12)",
          "Other Crops(ID: 12)",
          "Other Crops(ID: 12)",
          "Other Crops(ID: 12)",
          "Other Crops(ID: 12)",
          "Other Crops(ID: 12)",
          "Other Crops(ID: 12)",
          "Other Crops(ID: 12)"
         ],
         "x0": " ",
         "xaxis": "x",
         "y": {
          "bdata": "0LhwICQLrj8Id2fttguxP+zO2m0XmrE/YEGasWg6sz9ENLqD2Jm0P3juPVxy3Ks/Cu9yEd+Jpz/Uc9L7xte3PwB5r1qZ8Kc/sLFLVG8Nsj+uPbMkQE20PyTusfShC7I/hCo1e6AVsT9AvK5fsBu0Pw==",
          "dtype": "f8"
         },
         "y0": " ",
         "yaxis": "y"
        },
        {
         "alignmentgroup": "True",
         "customdata": {
          "bdata": "AwMDAwMDAwMDAwMDAwM=",
          "dtype": "i1",
          "shape": "14, 1"
         },
         "hovertemplate": "<b>%{x}</b><br>GREEN: %{y:.4f}<br><extra></extra>",
         "legendgroup": "Cleared Land(ID: 3)",
         "marker": {
          "color": "#FF6692"
         },
         "name": "Cleared Land(ID: 3)",
         "notched": false,
         "offsetgroup": "Cleared Land(ID: 3)",
         "orientation": "v",
         "showlegend": true,
         "type": "box",
         "x": [
          "Cleared Land(ID: 3)",
          "Cleared Land(ID: 3)",
          "Cleared Land(ID: 3)",
          "Cleared Land(ID: 3)",
          "Cleared Land(ID: 3)",
          "Cleared Land(ID: 3)",
          "Cleared Land(ID: 3)",
          "Cleared Land(ID: 3)",
          "Cleared Land(ID: 3)",
          "Cleared Land(ID: 3)",
          "Cleared Land(ID: 3)",
          "Cleared Land(ID: 3)",
          "Cleared Land(ID: 3)",
          "Cleared Land(ID: 3)"
         ],
         "x0": " ",
         "xaxis": "x",
         "y": {
          "bdata": "MsnIWdjTsD+0ccRafAq1P4CHokCfyKs/rIvbaABvpT8QzNHj9zanPw7uztptF7E/xLq4jQbwrj/0iTxJumaxP4T/rWTHRrY//ACkNnFysT8g0m9fB861Pwg4hCo1e6o/cP4mFCLgtD9Qwkzbv7KuPw==",
          "dtype": "f8"
         },
         "y0": " ",
         "yaxis": "y"
        },
        {
         "alignmentgroup": "True",
         "customdata": {
          "bdata": "EhISEhI=",
          "dtype": "i1",
          "shape": "5, 1"
         },
         "hovertemplate": "<b>%{x}</b><br>GREEN: %{y:.4f}<br><extra></extra>",
         "legendgroup": "Tea plantation(ID: 18)",
         "marker": {
          "color": "#B6E880"
         },
         "name": "Tea plantation(ID: 18)",
         "notched": false,
         "offsetgroup": "Tea plantation(ID: 18)",
         "orientation": "v",
         "showlegend": true,
         "type": "box",
         "x": [
          "Tea plantation(ID: 18)",
          "Tea plantation(ID: 18)",
          "Tea plantation(ID: 18)",
          "Tea plantation(ID: 18)",
          "Tea plantation(ID: 18)"
         ],
         "x0": " ",
         "xaxis": "x",
         "y": {
          "bdata": "2IDPDyOEqz90djI4Sl6rP39N1qiHaLE/TNu/stKkqD8QiNf1C3anPw==",
          "dtype": "f8"
         },
         "y0": " ",
         "yaxis": "y"
        },
        {
         "alignmentgroup": "True",
         "customdata": {
          "bdata": "AgICAgICAgICAgICAgICAgICAgIC",
          "dtype": "i1",
          "shape": "21, 1"
         },
         "hovertemplate": "<b>%{x}</b><br>GREEN: %{y:.4f}<br><extra></extra>",
         "legendgroup": "Cane(ID: 2)",
         "marker": {
          "color": "#FF97FF"
         },
         "name": "Cane(ID: 2)",
         "notched": false,
         "offsetgroup": "Cane(ID: 2)",
         "orientation": "v",
         "showlegend": true,
         "type": "box",
         "x": [
          "Cane(ID: 2)",
          "Cane(ID: 2)",
          "Cane(ID: 2)",
          "Cane(ID: 2)",
          "Cane(ID: 2)",
          "Cane(ID: 2)",
          "Cane(ID: 2)",
          "Cane(ID: 2)",
          "Cane(ID: 2)",
          "Cane(ID: 2)",
          "Cane(ID: 2)",
          "Cane(ID: 2)",
          "Cane(ID: 2)",
          "Cane(ID: 2)",
          "Cane(ID: 2)",
          "Cane(ID: 2)",
          "Cane(ID: 2)",
          "Cane(ID: 2)",
          "Cane(ID: 2)",
          "Cane(ID: 2)",
          "Cane(ID: 2)"
         ],
         "x0": " ",
         "xaxis": "x",
         "y": {
          "bdata": "QLyuX7AbtD9MFYxK6gS3P+dXc4BgjrE/UK+UZYhjrT8YQznRrkK8P5isUQ/R6K4/SBYwgVt3tz/8qfHSTWKwP6x4I/PIH7k/vvbMkgA1vj94QNmUK7yzP0B9y5wui60/8OapDrkZtj+Kq8q+K4K3P0jcY+lDF74/wFsgQfFjsj8kfzDw3Hu3P6JinL8JhbU/VisTfqmfuj+YnrDEA8q6P4S7s3bbhbY/",
          "dtype": "f8"
         },
         "y0": " ",
         "yaxis": "y"
        }
       ],
       "layout": {
        "boxmode": "overlay",
        "height": 500,
        "hovermode": "closest",
        "legend": {
         "title": {
          "text": "Class"
         },
         "tracegroupgap": 0
        },
        "showlegend": false,
        "template": {
         "data": {
          "bar": [
           {
            "error_x": {
             "color": "#2a3f5f"
            },
            "error_y": {
             "color": "#2a3f5f"
            },
            "marker": {
             "line": {
              "color": "white",
              "width": 0.5
             },
             "pattern": {
              "fillmode": "overlay",
              "size": 10,
              "solidity": 0.2
             }
            },
            "type": "bar"
           }
          ],
          "barpolar": [
           {
            "marker": {
             "line": {
              "color": "white",
              "width": 0.5
             },
             "pattern": {
              "fillmode": "overlay",
              "size": 10,
              "solidity": 0.2
             }
            },
            "type": "barpolar"
           }
          ],
          "carpet": [
           {
            "aaxis": {
             "endlinecolor": "#2a3f5f",
             "gridcolor": "#C8D4E3",
             "linecolor": "#C8D4E3",
             "minorgridcolor": "#C8D4E3",
             "startlinecolor": "#2a3f5f"
            },
            "baxis": {
             "endlinecolor": "#2a3f5f",
             "gridcolor": "#C8D4E3",
             "linecolor": "#C8D4E3",
             "minorgridcolor": "#C8D4E3",
             "startlinecolor": "#2a3f5f"
            },
            "type": "carpet"
           }
          ],
          "choropleth": [
           {
            "colorbar": {
             "outlinewidth": 0,
             "ticks": ""
            },
            "type": "choropleth"
           }
          ],
          "contour": [
           {
            "colorbar": {
             "outlinewidth": 0,
             "ticks": ""
            },
            "colorscale": [
             [
              0,
              "#0d0887"
             ],
             [
              0.1111111111111111,
              "#46039f"
             ],
             [
              0.2222222222222222,
              "#7201a8"
             ],
             [
              0.3333333333333333,
              "#9c179e"
             ],
             [
              0.4444444444444444,
              "#bd3786"
             ],
             [
              0.5555555555555556,
              "#d8576b"
             ],
             [
              0.6666666666666666,
              "#ed7953"
             ],
             [
              0.7777777777777778,
              "#fb9f3a"
             ],
             [
              0.8888888888888888,
              "#fdca26"
             ],
             [
              1,
              "#f0f921"
             ]
            ],
            "type": "contour"
           }
          ],
          "contourcarpet": [
           {
            "colorbar": {
             "outlinewidth": 0,
             "ticks": ""
            },
            "type": "contourcarpet"
           }
          ],
          "heatmap": [
           {
            "colorbar": {
             "outlinewidth": 0,
             "ticks": ""
            },
            "colorscale": [
             [
              0,
              "#0d0887"
             ],
             [
              0.1111111111111111,
              "#46039f"
             ],
             [
              0.2222222222222222,
              "#7201a8"
             ],
             [
              0.3333333333333333,
              "#9c179e"
             ],
             [
              0.4444444444444444,
              "#bd3786"
             ],
             [
              0.5555555555555556,
              "#d8576b"
             ],
             [
              0.6666666666666666,
              "#ed7953"
             ],
             [
              0.7777777777777778,
              "#fb9f3a"
             ],
             [
              0.8888888888888888,
              "#fdca26"
             ],
             [
              1,
              "#f0f921"
             ]
            ],
            "type": "heatmap"
           }
          ],
          "histogram": [
           {
            "marker": {
             "pattern": {
              "fillmode": "overlay",
              "size": 10,
              "solidity": 0.2
             }
            },
            "type": "histogram"
           }
          ],
          "histogram2d": [
           {
            "colorbar": {
             "outlinewidth": 0,
             "ticks": ""
            },
            "colorscale": [
             [
              0,
              "#0d0887"
             ],
             [
              0.1111111111111111,
              "#46039f"
             ],
             [
              0.2222222222222222,
              "#7201a8"
             ],
             [
              0.3333333333333333,
              "#9c179e"
             ],
             [
              0.4444444444444444,
              "#bd3786"
             ],
             [
              0.5555555555555556,
              "#d8576b"
             ],
             [
              0.6666666666666666,
              "#ed7953"
             ],
             [
              0.7777777777777778,
              "#fb9f3a"
             ],
             [
              0.8888888888888888,
              "#fdca26"
             ],
             [
              1,
              "#f0f921"
             ]
            ],
            "type": "histogram2d"
           }
          ],
          "histogram2dcontour": [
           {
            "colorbar": {
             "outlinewidth": 0,
             "ticks": ""
            },
            "colorscale": [
             [
              0,
              "#0d0887"
             ],
             [
              0.1111111111111111,
              "#46039f"
             ],
             [
              0.2222222222222222,
              "#7201a8"
             ],
             [
              0.3333333333333333,
              "#9c179e"
             ],
             [
              0.4444444444444444,
              "#bd3786"
             ],
             [
              0.5555555555555556,
              "#d8576b"
             ],
             [
              0.6666666666666666,
              "#ed7953"
             ],
             [
              0.7777777777777778,
              "#fb9f3a"
             ],
             [
              0.8888888888888888,
              "#fdca26"
             ],
             [
              1,
              "#f0f921"
             ]
            ],
            "type": "histogram2dcontour"
           }
          ],
          "mesh3d": [
           {
            "colorbar": {
             "outlinewidth": 0,
             "ticks": ""
            },
            "type": "mesh3d"
           }
          ],
          "parcoords": [
           {
            "line": {
             "colorbar": {
              "outlinewidth": 0,
              "ticks": ""
             }
            },
            "type": "parcoords"
           }
          ],
          "pie": [
           {
            "automargin": true,
            "type": "pie"
           }
          ],
          "scatter": [
           {
            "fillpattern": {
             "fillmode": "overlay",
             "size": 10,
             "solidity": 0.2
            },
            "type": "scatter"
           }
          ],
          "scatter3d": [
           {
            "line": {
             "colorbar": {
              "outlinewidth": 0,
              "ticks": ""
             }
            },
            "marker": {
             "colorbar": {
              "outlinewidth": 0,
              "ticks": ""
             }
            },
            "type": "scatter3d"
           }
          ],
          "scattercarpet": [
           {
            "marker": {
             "colorbar": {
              "outlinewidth": 0,
              "ticks": ""
             }
            },
            "type": "scattercarpet"
           }
          ],
          "scattergeo": [
           {
            "marker": {
             "colorbar": {
              "outlinewidth": 0,
              "ticks": ""
             }
            },
            "type": "scattergeo"
           }
          ],
          "scattergl": [
           {
            "marker": {
             "colorbar": {
              "outlinewidth": 0,
              "ticks": ""
             }
            },
            "type": "scattergl"
           }
          ],
          "scattermap": [
           {
            "marker": {
             "colorbar": {
              "outlinewidth": 0,
              "ticks": ""
             }
            },
            "type": "scattermap"
           }
          ],
          "scattermapbox": [
           {
            "marker": {
             "colorbar": {
              "outlinewidth": 0,
              "ticks": ""
             }
            },
            "type": "scattermapbox"
           }
          ],
          "scatterpolar": [
           {
            "marker": {
             "colorbar": {
              "outlinewidth": 0,
              "ticks": ""
             }
            },
            "type": "scatterpolar"
           }
          ],
          "scatterpolargl": [
           {
            "marker": {
             "colorbar": {
              "outlinewidth": 0,
              "ticks": ""
             }
            },
            "type": "scatterpolargl"
           }
          ],
          "scatterternary": [
           {
            "marker": {
             "colorbar": {
              "outlinewidth": 0,
              "ticks": ""
             }
            },
            "type": "scatterternary"
           }
          ],
          "surface": [
           {
            "colorbar": {
             "outlinewidth": 0,
             "ticks": ""
            },
            "colorscale": [
             [
              0,
              "#0d0887"
             ],
             [
              0.1111111111111111,
              "#46039f"
             ],
             [
              0.2222222222222222,
              "#7201a8"
             ],
             [
              0.3333333333333333,
              "#9c179e"
             ],
             [
              0.4444444444444444,
              "#bd3786"
             ],
             [
              0.5555555555555556,
              "#d8576b"
             ],
             [
              0.6666666666666666,
              "#ed7953"
             ],
             [
              0.7777777777777778,
              "#fb9f3a"
             ],
             [
              0.8888888888888888,
              "#fdca26"
             ],
             [
              1,
              "#f0f921"
             ]
            ],
            "type": "surface"
           }
          ],
          "table": [
           {
            "cells": {
             "fill": {
              "color": "#EBF0F8"
             },
             "line": {
              "color": "white"
             }
            },
            "header": {
             "fill": {
              "color": "#C8D4E3"
             },
             "line": {
              "color": "white"
             }
            },
            "type": "table"
           }
          ]
         },
         "layout": {
          "annotationdefaults": {
           "arrowcolor": "#2a3f5f",
           "arrowhead": 0,
           "arrowwidth": 1
          },
          "autotypenumbers": "strict",
          "coloraxis": {
           "colorbar": {
            "outlinewidth": 0,
            "ticks": ""
           }
          },
          "colorscale": {
           "diverging": [
            [
             0,
             "#8e0152"
            ],
            [
             0.1,
             "#c51b7d"
            ],
            [
             0.2,
             "#de77ae"
            ],
            [
             0.3,
             "#f1b6da"
            ],
            [
             0.4,
             "#fde0ef"
            ],
            [
             0.5,
             "#f7f7f7"
            ],
            [
             0.6,
             "#e6f5d0"
            ],
            [
             0.7,
             "#b8e186"
            ],
            [
             0.8,
             "#7fbc41"
            ],
            [
             0.9,
             "#4d9221"
            ],
            [
             1,
             "#276419"
            ]
           ],
           "sequential": [
            [
             0,
             "#0d0887"
            ],
            [
             0.1111111111111111,
             "#46039f"
            ],
            [
             0.2222222222222222,
             "#7201a8"
            ],
            [
             0.3333333333333333,
             "#9c179e"
            ],
            [
             0.4444444444444444,
             "#bd3786"
            ],
            [
             0.5555555555555556,
             "#d8576b"
            ],
            [
             0.6666666666666666,
             "#ed7953"
            ],
            [
             0.7777777777777778,
             "#fb9f3a"
            ],
            [
             0.8888888888888888,
             "#fdca26"
            ],
            [
             1,
             "#f0f921"
            ]
           ],
           "sequentialminus": [
            [
             0,
             "#0d0887"
            ],
            [
             0.1111111111111111,
             "#46039f"
            ],
            [
             0.2222222222222222,
             "#7201a8"
            ],
            [
             0.3333333333333333,
             "#9c179e"
            ],
            [
             0.4444444444444444,
             "#bd3786"
            ],
            [
             0.5555555555555556,
             "#d8576b"
            ],
            [
             0.6666666666666666,
             "#ed7953"
            ],
            [
             0.7777777777777778,
             "#fb9f3a"
            ],
            [
             0.8888888888888888,
             "#fdca26"
            ],
            [
             1,
             "#f0f921"
            ]
           ]
          },
          "colorway": [
           "#636efa",
           "#EF553B",
           "#00cc96",
           "#ab63fa",
           "#FFA15A",
           "#19d3f3",
           "#FF6692",
           "#B6E880",
           "#FF97FF",
           "#FECB52"
          ],
          "font": {
           "color": "#2a3f5f"
          },
          "geo": {
           "bgcolor": "white",
           "lakecolor": "white",
           "landcolor": "white",
           "showlakes": true,
           "showland": true,
           "subunitcolor": "#C8D4E3"
          },
          "hoverlabel": {
           "align": "left"
          },
          "hovermode": "closest",
          "mapbox": {
           "style": "light"
          },
          "paper_bgcolor": "white",
          "plot_bgcolor": "white",
          "polar": {
           "angularaxis": {
            "gridcolor": "#EBF0F8",
            "linecolor": "#EBF0F8",
            "ticks": ""
           },
           "bgcolor": "white",
           "radialaxis": {
            "gridcolor": "#EBF0F8",
            "linecolor": "#EBF0F8",
            "ticks": ""
           }
          },
          "scene": {
           "xaxis": {
            "backgroundcolor": "white",
            "gridcolor": "#DFE8F3",
            "gridwidth": 2,
            "linecolor": "#EBF0F8",
            "showbackground": true,
            "ticks": "",
            "zerolinecolor": "#EBF0F8"
           },
           "yaxis": {
            "backgroundcolor": "white",
            "gridcolor": "#DFE8F3",
            "gridwidth": 2,
            "linecolor": "#EBF0F8",
            "showbackground": true,
            "ticks": "",
            "zerolinecolor": "#EBF0F8"
           },
           "zaxis": {
            "backgroundcolor": "white",
            "gridcolor": "#DFE8F3",
            "gridwidth": 2,
            "linecolor": "#EBF0F8",
            "showbackground": true,
            "ticks": "",
            "zerolinecolor": "#EBF0F8"
           }
          },
          "shapedefaults": {
           "line": {
            "color": "#2a3f5f"
           }
          },
          "ternary": {
           "aaxis": {
            "gridcolor": "#DFE8F3",
            "linecolor": "#A2B1C6",
            "ticks": ""
           },
           "baxis": {
            "gridcolor": "#DFE8F3",
            "linecolor": "#A2B1C6",
            "ticks": ""
           },
           "bgcolor": "white",
           "caxis": {
            "gridcolor": "#DFE8F3",
            "linecolor": "#A2B1C6",
            "ticks": ""
           }
          },
          "title": {
           "x": 0.05
          },
          "xaxis": {
           "automargin": true,
           "gridcolor": "#EBF0F8",
           "linecolor": "#EBF0F8",
           "ticks": "",
           "title": {
            "standoff": 15
           },
           "zerolinecolor": "#EBF0F8",
           "zerolinewidth": 2
          },
          "yaxis": {
           "automargin": true,
           "gridcolor": "#EBF0F8",
           "linecolor": "#EBF0F8",
           "ticks": "",
           "title": {
            "standoff": 15
           },
           "zerolinecolor": "#EBF0F8",
           "zerolinewidth": 2
          }
         }
        },
        "title": {
         "text": "Boxplot of GREEN by Class"
        },
        "xaxis": {
         "anchor": "y",
         "categoryarray": [
          "Rubber monoculture(ID: 15)",
          "Settlement(ID: 16)",
          "Oil palm monoculture(ID: 11)",
          "Water Body(ID: 19)",
          "Acacia plantation(ID: 1)",
          "Rice Field(ID: 13)",
          "Mixed Garden(ID: 10)",
          "Rubber agroforest(ID: 14)",
          "Logged Over Forest Low Density(ID: 8)",
          "Shrub(ID: 17)",
          "Grass(ID: 6)",
          "Logged over swamp forest(ID: 9)",
          "Logged over forest-high density(ID: 7)",
          "Coffee Agroforest(ID: 5)",
          "Coconut monoculture(ID: 4)",
          "Other Crops(ID: 12)",
          "Cleared Land(ID: 3)",
          "Tea plantation(ID: 18)",
          "Cane(ID: 2)"
         ],
         "categoryorder": "array",
         "domain": [
          0,
          1
         ],
         "tickangle": -45,
         "title": {
          "text": "Class"
         }
        },
        "yaxis": {
         "anchor": "x",
         "domain": [
          0,
          1
         ],
         "title": {
          "text": "GREEN Reflectance"
         }
        }
       }
      }
     },
     "metadata": {},
     "output_type": "display_data"
    },
    {
     "data": {
      "application/vnd.plotly.v1+json": {
       "config": {
        "plotlyServerURL": "https://plot.ly"
       },
       "data": [
        {
         "alignmentgroup": "True",
         "customdata": {
          "bdata": "Dw8PDw8PDw8PDw8PDw8PDw8PDw8PDw8PDw8PDw8PDw8PDw8PDw8PDw8PDw8PDw8PDw8PDw8PDw8PDw8PDw8PDw8PDw8PDw8PDw8PDw8PDw8PDw8PDw8PDw8PDw8PDw8PDw8PDw8PDw8PDw8PDw8PDw8PDw8PDw8PDw8PDw8PDw8PDw8PDw8PDw8PDw8PDw8PDw8PDw8PDw8PDw8PDw8PDw8PDw8PDw8PDw8PDw8PDw8PDw8PDw8PDw8PDw8PDw8PDw8PDw8PDw8PDw8PDw8PDw8PDw8PDw8PDw8PDw8PDw8PDw8PDw8PDw8PDw8PDw8PDw8PDw8PDw8PDw8PDw8PDw8PDw8PDw8PDw8PDw8PDw8PDw8PDw8PDw8PDw8PDw8PDw8PDw8PDw8PDw8PDw8PDw8PDw8PDw8PDw8PDw8PDw8PDw8PDw8PDw8PDw8PDw8PDw8PDw8PDw8PDw8PDw8PDw8PDw8PDw8PDw8PDw8PDw8PDw8PDw8PDw8PDw8PDw8PDw8PDw8PDw8PDw8PDw8PDw8PDw8PDw8PDw8PDw8PDw8PDw8PDw8PDw8PDw8PDw8PDw8PDw8PDw8PDw8PDw8PDw8PDw8PDw8PDw8PDw8PDw8PDw8PDw8PDw8PDw8PDw8PDw8PDw8PDw8PDw8PDw8PDw8PDw8PDw8PDw8PDw8PDw8PDw8PDw8PDw8PDw8PDw8PDw8PDw8PDw8PDw8PDw8PDw8PDw8PDw8PDw8PDw8PDw8PDw8PDw8PDw8PDw8PDw8PDw8PDw8PDw8PDw8PDw8PDw8PDw8PDw8PDw8PDw8PDw8PDw8PDw8PDw8PDw8PDw8PDw8PDw8PDw8PDw8PDw8PDw8PDw8PDw8PDw8PDw8PDw8PDw8PDw8PDw8PDw8PDw8PDw8PDw8PDw8PDw8PDw8PDw8PDw8PDw8PDw8PDw8PDw8PDw8PDw8PDw8PDw8PDw8PDw8P",
          "dtype": "i1",
          "shape": "723, 1"
         },
         "hovertemplate": "<b>%{x}</b><br>RED: %{y:.4f}<br><extra></extra>",
         "legendgroup": "Rubber monoculture(ID: 15)",
         "marker": {
          "color": "#636efa"
         },
         "name": "Rubber monoculture(ID: 15)",
         "notched": false,
         "offsetgroup": "Rubber monoculture(ID: 15)",
         "orientation": "v",
         "showlegend": true,
         "type": "box",
         "x": [
          "Rubber monoculture(ID: 15)",
          "Rubber monoculture(ID: 15)",
          "Rubber monoculture(ID: 15)",
          "Rubber monoculture(ID: 15)",
          "Rubber monoculture(ID: 15)",
          "Rubber monoculture(ID: 15)",
          "Rubber monoculture(ID: 15)",
          "Rubber monoculture(ID: 15)",
          "Rubber monoculture(ID: 15)",
          "Rubber monoculture(ID: 15)",
          "Rubber monoculture(ID: 15)",
          "Rubber monoculture(ID: 15)",
          "Rubber monoculture(ID: 15)",
          "Rubber monoculture(ID: 15)",
          "Rubber monoculture(ID: 15)",
          "Rubber monoculture(ID: 15)",
          "Rubber monoculture(ID: 15)",
          "Rubber monoculture(ID: 15)",
          "Rubber monoculture(ID: 15)",
          "Rubber monoculture(ID: 15)",
          "Rubber monoculture(ID: 15)",
          "Rubber monoculture(ID: 15)",
          "Rubber monoculture(ID: 15)",
          "Rubber monoculture(ID: 15)",
          "Rubber monoculture(ID: 15)",
          "Rubber monoculture(ID: 15)",
          "Rubber monoculture(ID: 15)",
          "Rubber monoculture(ID: 15)",
          "Rubber monoculture(ID: 15)",
          "Rubber monoculture(ID: 15)",
          "Rubber monoculture(ID: 15)",
          "Rubber monoculture(ID: 15)",
          "Rubber monoculture(ID: 15)",
          "Rubber monoculture(ID: 15)",
          "Rubber monoculture(ID: 15)",
          "Rubber monoculture(ID: 15)",
          "Rubber monoculture(ID: 15)",
          "Rubber monoculture(ID: 15)",
          "Rubber monoculture(ID: 15)",
          "Rubber monoculture(ID: 15)",
          "Rubber monoculture(ID: 15)",
          "Rubber monoculture(ID: 15)",
          "Rubber monoculture(ID: 15)",
          "Rubber monoculture(ID: 15)",
          "Rubber monoculture(ID: 15)",
          "Rubber monoculture(ID: 15)",
          "Rubber monoculture(ID: 15)",
          "Rubber monoculture(ID: 15)",
          "Rubber monoculture(ID: 15)",
          "Rubber monoculture(ID: 15)",
          "Rubber monoculture(ID: 15)",
          "Rubber monoculture(ID: 15)",
          "Rubber monoculture(ID: 15)",
          "Rubber monoculture(ID: 15)",
          "Rubber monoculture(ID: 15)",
          "Rubber monoculture(ID: 15)",
          "Rubber monoculture(ID: 15)",
          "Rubber monoculture(ID: 15)",
          "Rubber monoculture(ID: 15)",
          "Rubber monoculture(ID: 15)",
          "Rubber monoculture(ID: 15)",
          "Rubber monoculture(ID: 15)",
          "Rubber monoculture(ID: 15)",
          "Rubber monoculture(ID: 15)",
          "Rubber monoculture(ID: 15)",
          "Rubber monoculture(ID: 15)",
          "Rubber monoculture(ID: 15)",
          "Rubber monoculture(ID: 15)",
          "Rubber monoculture(ID: 15)",
          "Rubber monoculture(ID: 15)",
          "Rubber monoculture(ID: 15)",
          "Rubber monoculture(ID: 15)",
          "Rubber monoculture(ID: 15)",
          "Rubber monoculture(ID: 15)",
          "Rubber monoculture(ID: 15)",
          "Rubber monoculture(ID: 15)",
          "Rubber monoculture(ID: 15)",
          "Rubber monoculture(ID: 15)",
          "Rubber monoculture(ID: 15)",
          "Rubber monoculture(ID: 15)",
          "Rubber monoculture(ID: 15)",
          "Rubber monoculture(ID: 15)",
          "Rubber monoculture(ID: 15)",
          "Rubber monoculture(ID: 15)",
          "Rubber monoculture(ID: 15)",
          "Rubber monoculture(ID: 15)",
          "Rubber monoculture(ID: 15)",
          "Rubber monoculture(ID: 15)",
          "Rubber monoculture(ID: 15)",
          "Rubber monoculture(ID: 15)",
          "Rubber monoculture(ID: 15)",
          "Rubber monoculture(ID: 15)",
          "Rubber monoculture(ID: 15)",
          "Rubber monoculture(ID: 15)",
          "Rubber monoculture(ID: 15)",
          "Rubber monoculture(ID: 15)",
          "Rubber monoculture(ID: 15)",
          "Rubber monoculture(ID: 15)",
          "Rubber monoculture(ID: 15)",
          "Rubber monoculture(ID: 15)",
          "Rubber monoculture(ID: 15)",
          "Rubber monoculture(ID: 15)",
          "Rubber monoculture(ID: 15)",
          "Rubber monoculture(ID: 15)",
          "Rubber monoculture(ID: 15)",
          "Rubber monoculture(ID: 15)",
          "Rubber monoculture(ID: 15)",
          "Rubber monoculture(ID: 15)",
          "Rubber monoculture(ID: 15)",
          "Rubber monoculture(ID: 15)",
          "Rubber monoculture(ID: 15)",
          "Rubber monoculture(ID: 15)",
          "Rubber monoculture(ID: 15)",
          "Rubber monoculture(ID: 15)",
          "Rubber monoculture(ID: 15)",
          "Rubber monoculture(ID: 15)",
          "Rubber monoculture(ID: 15)",
          "Rubber monoculture(ID: 15)",
          "Rubber monoculture(ID: 15)",
          "Rubber monoculture(ID: 15)",
          "Rubber monoculture(ID: 15)",
          "Rubber monoculture(ID: 15)",
          "Rubber monoculture(ID: 15)",
          "Rubber monoculture(ID: 15)",
          "Rubber monoculture(ID: 15)",
          "Rubber monoculture(ID: 15)",
          "Rubber monoculture(ID: 15)",
          "Rubber monoculture(ID: 15)",
          "Rubber monoculture(ID: 15)",
          "Rubber monoculture(ID: 15)",
          "Rubber monoculture(ID: 15)",
          "Rubber monoculture(ID: 15)",
          "Rubber monoculture(ID: 15)",
          "Rubber monoculture(ID: 15)",
          "Rubber monoculture(ID: 15)",
          "Rubber monoculture(ID: 15)",
          "Rubber monoculture(ID: 15)",
          "Rubber monoculture(ID: 15)",
          "Rubber monoculture(ID: 15)",
          "Rubber monoculture(ID: 15)",
          "Rubber monoculture(ID: 15)",
          "Rubber monoculture(ID: 15)",
          "Rubber monoculture(ID: 15)",
          "Rubber monoculture(ID: 15)",
          "Rubber monoculture(ID: 15)",
          "Rubber monoculture(ID: 15)",
          "Rubber monoculture(ID: 15)",
          "Rubber monoculture(ID: 15)",
          "Rubber monoculture(ID: 15)",
          "Rubber monoculture(ID: 15)",
          "Rubber monoculture(ID: 15)",
          "Rubber monoculture(ID: 15)",
          "Rubber monoculture(ID: 15)",
          "Rubber monoculture(ID: 15)",
          "Rubber monoculture(ID: 15)",
          "Rubber monoculture(ID: 15)",
          "Rubber monoculture(ID: 15)",
          "Rubber monoculture(ID: 15)",
          "Rubber monoculture(ID: 15)",
          "Rubber monoculture(ID: 15)",
          "Rubber monoculture(ID: 15)",
          "Rubber monoculture(ID: 15)",
          "Rubber monoculture(ID: 15)",
          "Rubber monoculture(ID: 15)",
          "Rubber monoculture(ID: 15)",
          "Rubber monoculture(ID: 15)",
          "Rubber monoculture(ID: 15)",
          "Rubber monoculture(ID: 15)",
          "Rubber monoculture(ID: 15)",
          "Rubber monoculture(ID: 15)",
          "Rubber monoculture(ID: 15)",
          "Rubber monoculture(ID: 15)",
          "Rubber monoculture(ID: 15)",
          "Rubber monoculture(ID: 15)",
          "Rubber monoculture(ID: 15)",
          "Rubber monoculture(ID: 15)",
          "Rubber monoculture(ID: 15)",
          "Rubber monoculture(ID: 15)",
          "Rubber monoculture(ID: 15)",
          "Rubber monoculture(ID: 15)",
          "Rubber monoculture(ID: 15)",
          "Rubber monoculture(ID: 15)",
          "Rubber monoculture(ID: 15)",
          "Rubber monoculture(ID: 15)",
          "Rubber monoculture(ID: 15)",
          "Rubber monoculture(ID: 15)",
          "Rubber monoculture(ID: 15)",
          "Rubber monoculture(ID: 15)",
          "Rubber monoculture(ID: 15)",
          "Rubber monoculture(ID: 15)",
          "Rubber monoculture(ID: 15)",
          "Rubber monoculture(ID: 15)",
          "Rubber monoculture(ID: 15)",
          "Rubber monoculture(ID: 15)",
          "Rubber monoculture(ID: 15)",
          "Rubber monoculture(ID: 15)",
          "Rubber monoculture(ID: 15)",
          "Rubber monoculture(ID: 15)",
          "Rubber monoculture(ID: 15)",
          "Rubber monoculture(ID: 15)",
          "Rubber monoculture(ID: 15)",
          "Rubber monoculture(ID: 15)",
          "Rubber monoculture(ID: 15)",
          "Rubber monoculture(ID: 15)",
          "Rubber monoculture(ID: 15)",
          "Rubber monoculture(ID: 15)",
          "Rubber monoculture(ID: 15)",
          "Rubber monoculture(ID: 15)",
          "Rubber monoculture(ID: 15)",
          "Rubber monoculture(ID: 15)",
          "Rubber monoculture(ID: 15)",
          "Rubber monoculture(ID: 15)",
          "Rubber monoculture(ID: 15)",
          "Rubber monoculture(ID: 15)",
          "Rubber monoculture(ID: 15)",
          "Rubber monoculture(ID: 15)",
          "Rubber monoculture(ID: 15)",
          "Rubber monoculture(ID: 15)",
          "Rubber monoculture(ID: 15)",
          "Rubber monoculture(ID: 15)",
          "Rubber monoculture(ID: 15)",
          "Rubber monoculture(ID: 15)",
          "Rubber monoculture(ID: 15)",
          "Rubber monoculture(ID: 15)",
          "Rubber monoculture(ID: 15)",
          "Rubber monoculture(ID: 15)",
          "Rubber monoculture(ID: 15)",
          "Rubber monoculture(ID: 15)",
          "Rubber monoculture(ID: 15)",
          "Rubber monoculture(ID: 15)",
          "Rubber monoculture(ID: 15)",
          "Rubber monoculture(ID: 15)",
          "Rubber monoculture(ID: 15)",
          "Rubber monoculture(ID: 15)",
          "Rubber monoculture(ID: 15)",
          "Rubber monoculture(ID: 15)",
          "Rubber monoculture(ID: 15)",
          "Rubber monoculture(ID: 15)",
          "Rubber monoculture(ID: 15)",
          "Rubber monoculture(ID: 15)",
          "Rubber monoculture(ID: 15)",
          "Rubber monoculture(ID: 15)",
          "Rubber monoculture(ID: 15)",
          "Rubber monoculture(ID: 15)",
          "Rubber monoculture(ID: 15)",
          "Rubber monoculture(ID: 15)",
          "Rubber monoculture(ID: 15)",
          "Rubber monoculture(ID: 15)",
          "Rubber monoculture(ID: 15)",
          "Rubber monoculture(ID: 15)",
          "Rubber monoculture(ID: 15)",
          "Rubber monoculture(ID: 15)",
          "Rubber monoculture(ID: 15)",
          "Rubber monoculture(ID: 15)",
          "Rubber monoculture(ID: 15)",
          "Rubber monoculture(ID: 15)",
          "Rubber monoculture(ID: 15)",
          "Rubber monoculture(ID: 15)",
          "Rubber monoculture(ID: 15)",
          "Rubber monoculture(ID: 15)",
          "Rubber monoculture(ID: 15)",
          "Rubber monoculture(ID: 15)",
          "Rubber monoculture(ID: 15)",
          "Rubber monoculture(ID: 15)",
          "Rubber monoculture(ID: 15)",
          "Rubber monoculture(ID: 15)",
          "Rubber monoculture(ID: 15)",
          "Rubber monoculture(ID: 15)",
          "Rubber monoculture(ID: 15)",
          "Rubber monoculture(ID: 15)",
          "Rubber monoculture(ID: 15)",
          "Rubber monoculture(ID: 15)",
          "Rubber monoculture(ID: 15)",
          "Rubber monoculture(ID: 15)",
          "Rubber monoculture(ID: 15)",
          "Rubber monoculture(ID: 15)",
          "Rubber monoculture(ID: 15)",
          "Rubber monoculture(ID: 15)",
          "Rubber monoculture(ID: 15)",
          "Rubber monoculture(ID: 15)",
          "Rubber monoculture(ID: 15)",
          "Rubber monoculture(ID: 15)",
          "Rubber monoculture(ID: 15)",
          "Rubber monoculture(ID: 15)",
          "Rubber monoculture(ID: 15)",
          "Rubber monoculture(ID: 15)",
          "Rubber monoculture(ID: 15)",
          "Rubber monoculture(ID: 15)",
          "Rubber monoculture(ID: 15)",
          "Rubber monoculture(ID: 15)",
          "Rubber monoculture(ID: 15)",
          "Rubber monoculture(ID: 15)",
          "Rubber monoculture(ID: 15)",
          "Rubber monoculture(ID: 15)",
          "Rubber monoculture(ID: 15)",
          "Rubber monoculture(ID: 15)",
          "Rubber monoculture(ID: 15)",
          "Rubber monoculture(ID: 15)",
          "Rubber monoculture(ID: 15)",
          "Rubber monoculture(ID: 15)",
          "Rubber monoculture(ID: 15)",
          "Rubber monoculture(ID: 15)",
          "Rubber monoculture(ID: 15)",
          "Rubber monoculture(ID: 15)",
          "Rubber monoculture(ID: 15)",
          "Rubber monoculture(ID: 15)",
          "Rubber monoculture(ID: 15)",
          "Rubber monoculture(ID: 15)",
          "Rubber monoculture(ID: 15)",
          "Rubber monoculture(ID: 15)",
          "Rubber monoculture(ID: 15)",
          "Rubber monoculture(ID: 15)",
          "Rubber monoculture(ID: 15)",
          "Rubber monoculture(ID: 15)",
          "Rubber monoculture(ID: 15)",
          "Rubber monoculture(ID: 15)",
          "Rubber monoculture(ID: 15)",
          "Rubber monoculture(ID: 15)",
          "Rubber monoculture(ID: 15)",
          "Rubber monoculture(ID: 15)",
          "Rubber monoculture(ID: 15)",
          "Rubber monoculture(ID: 15)",
          "Rubber monoculture(ID: 15)",
          "Rubber monoculture(ID: 15)",
          "Rubber monoculture(ID: 15)",
          "Rubber monoculture(ID: 15)",
          "Rubber monoculture(ID: 15)",
          "Rubber monoculture(ID: 15)",
          "Rubber monoculture(ID: 15)",
          "Rubber monoculture(ID: 15)",
          "Rubber monoculture(ID: 15)",
          "Rubber monoculture(ID: 15)",
          "Rubber monoculture(ID: 15)",
          "Rubber monoculture(ID: 15)",
          "Rubber monoculture(ID: 15)",
          "Rubber monoculture(ID: 15)",
          "Rubber monoculture(ID: 15)",
          "Rubber monoculture(ID: 15)",
          "Rubber monoculture(ID: 15)",
          "Rubber monoculture(ID: 15)",
          "Rubber monoculture(ID: 15)",
          "Rubber monoculture(ID: 15)",
          "Rubber monoculture(ID: 15)",
          "Rubber monoculture(ID: 15)",
          "Rubber monoculture(ID: 15)",
          "Rubber monoculture(ID: 15)",
          "Rubber monoculture(ID: 15)",
          "Rubber monoculture(ID: 15)",
          "Rubber monoculture(ID: 15)",
          "Rubber monoculture(ID: 15)",
          "Rubber monoculture(ID: 15)",
          "Rubber monoculture(ID: 15)",
          "Rubber monoculture(ID: 15)",
          "Rubber monoculture(ID: 15)",
          "Rubber monoculture(ID: 15)",
          "Rubber monoculture(ID: 15)",
          "Rubber monoculture(ID: 15)",
          "Rubber monoculture(ID: 15)",
          "Rubber monoculture(ID: 15)",
          "Rubber monoculture(ID: 15)",
          "Rubber monoculture(ID: 15)",
          "Rubber monoculture(ID: 15)",
          "Rubber monoculture(ID: 15)",
          "Rubber monoculture(ID: 15)",
          "Rubber monoculture(ID: 15)",
          "Rubber monoculture(ID: 15)",
          "Rubber monoculture(ID: 15)",
          "Rubber monoculture(ID: 15)",
          "Rubber monoculture(ID: 15)",
          "Rubber monoculture(ID: 15)",
          "Rubber monoculture(ID: 15)",
          "Rubber monoculture(ID: 15)",
          "Rubber monoculture(ID: 15)",
          "Rubber monoculture(ID: 15)",
          "Rubber monoculture(ID: 15)",
          "Rubber monoculture(ID: 15)",
          "Rubber monoculture(ID: 15)",
          "Rubber monoculture(ID: 15)",
          "Rubber monoculture(ID: 15)",
          "Rubber monoculture(ID: 15)",
          "Rubber monoculture(ID: 15)",
          "Rubber monoculture(ID: 15)",
          "Rubber monoculture(ID: 15)",
          "Rubber monoculture(ID: 15)",
          "Rubber monoculture(ID: 15)",
          "Rubber monoculture(ID: 15)",
          "Rubber monoculture(ID: 15)",
          "Rubber monoculture(ID: 15)",
          "Rubber monoculture(ID: 15)",
          "Rubber monoculture(ID: 15)",
          "Rubber monoculture(ID: 15)",
          "Rubber monoculture(ID: 15)",
          "Rubber monoculture(ID: 15)",
          "Rubber monoculture(ID: 15)",
          "Rubber monoculture(ID: 15)",
          "Rubber monoculture(ID: 15)",
          "Rubber monoculture(ID: 15)",
          "Rubber monoculture(ID: 15)",
          "Rubber monoculture(ID: 15)",
          "Rubber monoculture(ID: 15)",
          "Rubber monoculture(ID: 15)",
          "Rubber monoculture(ID: 15)",
          "Rubber monoculture(ID: 15)",
          "Rubber monoculture(ID: 15)",
          "Rubber monoculture(ID: 15)",
          "Rubber monoculture(ID: 15)",
          "Rubber monoculture(ID: 15)",
          "Rubber monoculture(ID: 15)",
          "Rubber monoculture(ID: 15)",
          "Rubber monoculture(ID: 15)",
          "Rubber monoculture(ID: 15)",
          "Rubber monoculture(ID: 15)",
          "Rubber monoculture(ID: 15)",
          "Rubber monoculture(ID: 15)",
          "Rubber monoculture(ID: 15)",
          "Rubber monoculture(ID: 15)",
          "Rubber monoculture(ID: 15)",
          "Rubber monoculture(ID: 15)",
          "Rubber monoculture(ID: 15)",
          "Rubber monoculture(ID: 15)",
          "Rubber monoculture(ID: 15)",
          "Rubber monoculture(ID: 15)",
          "Rubber monoculture(ID: 15)",
          "Rubber monoculture(ID: 15)",
          "Rubber monoculture(ID: 15)",
          "Rubber monoculture(ID: 15)",
          "Rubber monoculture(ID: 15)",
          "Rubber monoculture(ID: 15)",
          "Rubber monoculture(ID: 15)",
          "Rubber monoculture(ID: 15)",
          "Rubber monoculture(ID: 15)",
          "Rubber monoculture(ID: 15)",
          "Rubber monoculture(ID: 15)",
          "Rubber monoculture(ID: 15)",
          "Rubber monoculture(ID: 15)",
          "Rubber monoculture(ID: 15)",
          "Rubber monoculture(ID: 15)",
          "Rubber monoculture(ID: 15)",
          "Rubber monoculture(ID: 15)",
          "Rubber monoculture(ID: 15)",
          "Rubber monoculture(ID: 15)",
          "Rubber monoculture(ID: 15)",
          "Rubber monoculture(ID: 15)",
          "Rubber monoculture(ID: 15)",
          "Rubber monoculture(ID: 15)",
          "Rubber monoculture(ID: 15)",
          "Rubber monoculture(ID: 15)",
          "Rubber monoculture(ID: 15)",
          "Rubber monoculture(ID: 15)",
          "Rubber monoculture(ID: 15)",
          "Rubber monoculture(ID: 15)",
          "Rubber monoculture(ID: 15)",
          "Rubber monoculture(ID: 15)",
          "Rubber monoculture(ID: 15)",
          "Rubber monoculture(ID: 15)",
          "Rubber monoculture(ID: 15)",
          "Rubber monoculture(ID: 15)",
          "Rubber monoculture(ID: 15)",
          "Rubber monoculture(ID: 15)",
          "Rubber monoculture(ID: 15)",
          "Rubber monoculture(ID: 15)",
          "Rubber monoculture(ID: 15)",
          "Rubber monoculture(ID: 15)",
          "Rubber monoculture(ID: 15)",
          "Rubber monoculture(ID: 15)",
          "Rubber monoculture(ID: 15)",
          "Rubber monoculture(ID: 15)",
          "Rubber monoculture(ID: 15)",
          "Rubber monoculture(ID: 15)",
          "Rubber monoculture(ID: 15)",
          "Rubber monoculture(ID: 15)",
          "Rubber monoculture(ID: 15)",
          "Rubber monoculture(ID: 15)",
          "Rubber monoculture(ID: 15)",
          "Rubber monoculture(ID: 15)",
          "Rubber monoculture(ID: 15)",
          "Rubber monoculture(ID: 15)",
          "Rubber monoculture(ID: 15)",
          "Rubber monoculture(ID: 15)",
          "Rubber monoculture(ID: 15)",
          "Rubber monoculture(ID: 15)",
          "Rubber monoculture(ID: 15)",
          "Rubber monoculture(ID: 15)",
          "Rubber monoculture(ID: 15)",
          "Rubber monoculture(ID: 15)",
          "Rubber monoculture(ID: 15)",
          "Rubber monoculture(ID: 15)",
          "Rubber monoculture(ID: 15)",
          "Rubber monoculture(ID: 15)",
          "Rubber monoculture(ID: 15)",
          "Rubber monoculture(ID: 15)",
          "Rubber monoculture(ID: 15)",
          "Rubber monoculture(ID: 15)",
          "Rubber monoculture(ID: 15)",
          "Rubber monoculture(ID: 15)",
          "Rubber monoculture(ID: 15)",
          "Rubber monoculture(ID: 15)",
          "Rubber monoculture(ID: 15)",
          "Rubber monoculture(ID: 15)",
          "Rubber monoculture(ID: 15)",
          "Rubber monoculture(ID: 15)",
          "Rubber monoculture(ID: 15)",
          "Rubber monoculture(ID: 15)",
          "Rubber monoculture(ID: 15)",
          "Rubber monoculture(ID: 15)",
          "Rubber monoculture(ID: 15)",
          "Rubber monoculture(ID: 15)",
          "Rubber monoculture(ID: 15)",
          "Rubber monoculture(ID: 15)",
          "Rubber monoculture(ID: 15)",
          "Rubber monoculture(ID: 15)",
          "Rubber monoculture(ID: 15)",
          "Rubber monoculture(ID: 15)",
          "Rubber monoculture(ID: 15)",
          "Rubber monoculture(ID: 15)",
          "Rubber monoculture(ID: 15)",
          "Rubber monoculture(ID: 15)",
          "Rubber monoculture(ID: 15)",
          "Rubber monoculture(ID: 15)",
          "Rubber monoculture(ID: 15)",
          "Rubber monoculture(ID: 15)",
          "Rubber monoculture(ID: 15)",
          "Rubber monoculture(ID: 15)",
          "Rubber monoculture(ID: 15)",
          "Rubber monoculture(ID: 15)",
          "Rubber monoculture(ID: 15)",
          "Rubber monoculture(ID: 15)",
          "Rubber monoculture(ID: 15)",
          "Rubber monoculture(ID: 15)",
          "Rubber monoculture(ID: 15)",
          "Rubber monoculture(ID: 15)",
          "Rubber monoculture(ID: 15)",
          "Rubber monoculture(ID: 15)",
          "Rubber monoculture(ID: 15)",
          "Rubber monoculture(ID: 15)",
          "Rubber monoculture(ID: 15)",
          "Rubber monoculture(ID: 15)",
          "Rubber monoculture(ID: 15)",
          "Rubber monoculture(ID: 15)",
          "Rubber monoculture(ID: 15)",
          "Rubber monoculture(ID: 15)",
          "Rubber monoculture(ID: 15)",
          "Rubber monoculture(ID: 15)",
          "Rubber monoculture(ID: 15)",
          "Rubber monoculture(ID: 15)",
          "Rubber monoculture(ID: 15)",
          "Rubber monoculture(ID: 15)",
          "Rubber monoculture(ID: 15)",
          "Rubber monoculture(ID: 15)",
          "Rubber monoculture(ID: 15)",
          "Rubber monoculture(ID: 15)",
          "Rubber monoculture(ID: 15)",
          "Rubber monoculture(ID: 15)",
          "Rubber monoculture(ID: 15)",
          "Rubber monoculture(ID: 15)",
          "Rubber monoculture(ID: 15)",
          "Rubber monoculture(ID: 15)",
          "Rubber monoculture(ID: 15)",
          "Rubber monoculture(ID: 15)",
          "Rubber monoculture(ID: 15)",
          "Rubber monoculture(ID: 15)",
          "Rubber monoculture(ID: 15)",
          "Rubber monoculture(ID: 15)",
          "Rubber monoculture(ID: 15)",
          "Rubber monoculture(ID: 15)",
          "Rubber monoculture(ID: 15)",
          "Rubber monoculture(ID: 15)",
          "Rubber monoculture(ID: 15)",
          "Rubber monoculture(ID: 15)",
          "Rubber monoculture(ID: 15)",
          "Rubber monoculture(ID: 15)",
          "Rubber monoculture(ID: 15)",
          "Rubber monoculture(ID: 15)",
          "Rubber monoculture(ID: 15)",
          "Rubber monoculture(ID: 15)",
          "Rubber monoculture(ID: 15)",
          "Rubber monoculture(ID: 15)",
          "Rubber monoculture(ID: 15)",
          "Rubber monoculture(ID: 15)",
          "Rubber monoculture(ID: 15)",
          "Rubber monoculture(ID: 15)",
          "Rubber monoculture(ID: 15)",
          "Rubber monoculture(ID: 15)",
          "Rubber monoculture(ID: 15)",
          "Rubber monoculture(ID: 15)",
          "Rubber monoculture(ID: 15)",
          "Rubber monoculture(ID: 15)",
          "Rubber monoculture(ID: 15)",
          "Rubber monoculture(ID: 15)",
          "Rubber monoculture(ID: 15)",
          "Rubber monoculture(ID: 15)",
          "Rubber monoculture(ID: 15)",
          "Rubber monoculture(ID: 15)",
          "Rubber monoculture(ID: 15)",
          "Rubber monoculture(ID: 15)",
          "Rubber monoculture(ID: 15)",
          "Rubber monoculture(ID: 15)",
          "Rubber monoculture(ID: 15)",
          "Rubber monoculture(ID: 15)",
          "Rubber monoculture(ID: 15)",
          "Rubber monoculture(ID: 15)",
          "Rubber monoculture(ID: 15)",
          "Rubber monoculture(ID: 15)",
          "Rubber monoculture(ID: 15)",
          "Rubber monoculture(ID: 15)",
          "Rubber monoculture(ID: 15)",
          "Rubber monoculture(ID: 15)",
          "Rubber monoculture(ID: 15)",
          "Rubber monoculture(ID: 15)",
          "Rubber monoculture(ID: 15)",
          "Rubber monoculture(ID: 15)",
          "Rubber monoculture(ID: 15)",
          "Rubber monoculture(ID: 15)",
          "Rubber monoculture(ID: 15)",
          "Rubber monoculture(ID: 15)",
          "Rubber monoculture(ID: 15)",
          "Rubber monoculture(ID: 15)",
          "Rubber monoculture(ID: 15)",
          "Rubber monoculture(ID: 15)",
          "Rubber monoculture(ID: 15)",
          "Rubber monoculture(ID: 15)",
          "Rubber monoculture(ID: 15)",
          "Rubber monoculture(ID: 15)",
          "Rubber monoculture(ID: 15)",
          "Rubber monoculture(ID: 15)",
          "Rubber monoculture(ID: 15)",
          "Rubber monoculture(ID: 15)",
          "Rubber monoculture(ID: 15)",
          "Rubber monoculture(ID: 15)",
          "Rubber monoculture(ID: 15)",
          "Rubber monoculture(ID: 15)",
          "Rubber monoculture(ID: 15)",
          "Rubber monoculture(ID: 15)",
          "Rubber monoculture(ID: 15)",
          "Rubber monoculture(ID: 15)",
          "Rubber monoculture(ID: 15)",
          "Rubber monoculture(ID: 15)",
          "Rubber monoculture(ID: 15)",
          "Rubber monoculture(ID: 15)",
          "Rubber monoculture(ID: 15)",
          "Rubber monoculture(ID: 15)",
          "Rubber monoculture(ID: 15)",
          "Rubber monoculture(ID: 15)",
          "Rubber monoculture(ID: 15)",
          "Rubber monoculture(ID: 15)",
          "Rubber monoculture(ID: 15)",
          "Rubber monoculture(ID: 15)",
          "Rubber monoculture(ID: 15)",
          "Rubber monoculture(ID: 15)",
          "Rubber monoculture(ID: 15)",
          "Rubber monoculture(ID: 15)",
          "Rubber monoculture(ID: 15)",
          "Rubber monoculture(ID: 15)",
          "Rubber monoculture(ID: 15)",
          "Rubber monoculture(ID: 15)",
          "Rubber monoculture(ID: 15)",
          "Rubber monoculture(ID: 15)",
          "Rubber monoculture(ID: 15)",
          "Rubber monoculture(ID: 15)",
          "Rubber monoculture(ID: 15)",
          "Rubber monoculture(ID: 15)",
          "Rubber monoculture(ID: 15)",
          "Rubber monoculture(ID: 15)",
          "Rubber monoculture(ID: 15)",
          "Rubber monoculture(ID: 15)",
          "Rubber monoculture(ID: 15)",
          "Rubber monoculture(ID: 15)",
          "Rubber monoculture(ID: 15)",
          "Rubber monoculture(ID: 15)",
          "Rubber monoculture(ID: 15)",
          "Rubber monoculture(ID: 15)",
          "Rubber monoculture(ID: 15)",
          "Rubber monoculture(ID: 15)",
          "Rubber monoculture(ID: 15)",
          "Rubber monoculture(ID: 15)",
          "Rubber monoculture(ID: 15)",
          "Rubber monoculture(ID: 15)",
          "Rubber monoculture(ID: 15)",
          "Rubber monoculture(ID: 15)",
          "Rubber monoculture(ID: 15)",
          "Rubber monoculture(ID: 15)",
          "Rubber monoculture(ID: 15)",
          "Rubber monoculture(ID: 15)",
          "Rubber monoculture(ID: 15)",
          "Rubber monoculture(ID: 15)",
          "Rubber monoculture(ID: 15)",
          "Rubber monoculture(ID: 15)",
          "Rubber monoculture(ID: 15)",
          "Rubber monoculture(ID: 15)",
          "Rubber monoculture(ID: 15)",
          "Rubber monoculture(ID: 15)",
          "Rubber monoculture(ID: 15)",
          "Rubber monoculture(ID: 15)",
          "Rubber monoculture(ID: 15)",
          "Rubber monoculture(ID: 15)",
          "Rubber monoculture(ID: 15)",
          "Rubber monoculture(ID: 15)",
          "Rubber monoculture(ID: 15)",
          "Rubber monoculture(ID: 15)",
          "Rubber monoculture(ID: 15)",
          "Rubber monoculture(ID: 15)",
          "Rubber monoculture(ID: 15)",
          "Rubber monoculture(ID: 15)",
          "Rubber monoculture(ID: 15)",
          "Rubber monoculture(ID: 15)",
          "Rubber monoculture(ID: 15)",
          "Rubber monoculture(ID: 15)",
          "Rubber monoculture(ID: 15)",
          "Rubber monoculture(ID: 15)",
          "Rubber monoculture(ID: 15)",
          "Rubber monoculture(ID: 15)",
          "Rubber monoculture(ID: 15)",
          "Rubber monoculture(ID: 15)",
          "Rubber monoculture(ID: 15)",
          "Rubber monoculture(ID: 15)",
          "Rubber monoculture(ID: 15)",
          "Rubber monoculture(ID: 15)",
          "Rubber monoculture(ID: 15)",
          "Rubber monoculture(ID: 15)",
          "Rubber monoculture(ID: 15)",
          "Rubber monoculture(ID: 15)",
          "Rubber monoculture(ID: 15)",
          "Rubber monoculture(ID: 15)"
         ],
         "x0": " ",
         "xaxis": "x",
         "y": {
          "bdata": "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",
          "dtype": "f8"
         },
         "y0": " ",
         "yaxis": "y"
        },
        {
         "alignmentgroup": "True",
         "customdata": {
          "bdata": "EBAQEBAQEBAQEBAQEBAQEBAQEBAQEBAQEBAQEBAQEBAQEBAQEBAQEBAQEBAQEBAQEBAQEBAQEBAQEBAQEBAQEBAQEBAQEBAQEBAQEBAQEBAQEBAQEBAQEBAQEBAQEBAQEBAQEBAQEBAQEBAQEBAQEBAQEBAQEBAQEBAQEBAQEBAQEBAQEBAQEBAQEBAQEBAQEBAQEBAQEBAQEBAQEBAQEBAQEBAQEBAQEBAQEBAQEBAQEBAQEBAQEBAQEBAQEBAQEBA=",
          "dtype": "i1",
          "shape": "194, 1"
         },
         "hovertemplate": "<b>%{x}</b><br>RED: %{y:.4f}<br><extra></extra>",
         "legendgroup": "Settlement(ID: 16)",
         "marker": {
          "color": "#EF553B"
         },
         "name": "Settlement(ID: 16)",
         "notched": false,
         "offsetgroup": "Settlement(ID: 16)",
         "orientation": "v",
         "showlegend": true,
         "type": "box",
         "x": [
          "Settlement(ID: 16)",
          "Settlement(ID: 16)",
          "Settlement(ID: 16)",
          "Settlement(ID: 16)",
          "Settlement(ID: 16)",
          "Settlement(ID: 16)",
          "Settlement(ID: 16)",
          "Settlement(ID: 16)",
          "Settlement(ID: 16)",
          "Settlement(ID: 16)",
          "Settlement(ID: 16)",
          "Settlement(ID: 16)",
          "Settlement(ID: 16)",
          "Settlement(ID: 16)",
          "Settlement(ID: 16)",
          "Settlement(ID: 16)",
          "Settlement(ID: 16)",
          "Settlement(ID: 16)",
          "Settlement(ID: 16)",
          "Settlement(ID: 16)",
          "Settlement(ID: 16)",
          "Settlement(ID: 16)",
          "Settlement(ID: 16)",
          "Settlement(ID: 16)",
          "Settlement(ID: 16)",
          "Settlement(ID: 16)",
          "Settlement(ID: 16)",
          "Settlement(ID: 16)",
          "Settlement(ID: 16)",
          "Settlement(ID: 16)",
          "Settlement(ID: 16)",
          "Settlement(ID: 16)",
          "Settlement(ID: 16)",
          "Settlement(ID: 16)",
          "Settlement(ID: 16)",
          "Settlement(ID: 16)",
          "Settlement(ID: 16)",
          "Settlement(ID: 16)",
          "Settlement(ID: 16)",
          "Settlement(ID: 16)",
          "Settlement(ID: 16)",
          "Settlement(ID: 16)",
          "Settlement(ID: 16)",
          "Settlement(ID: 16)",
          "Settlement(ID: 16)",
          "Settlement(ID: 16)",
          "Settlement(ID: 16)",
          "Settlement(ID: 16)",
          "Settlement(ID: 16)",
          "Settlement(ID: 16)",
          "Settlement(ID: 16)",
          "Settlement(ID: 16)",
          "Settlement(ID: 16)",
          "Settlement(ID: 16)",
          "Settlement(ID: 16)",
          "Settlement(ID: 16)",
          "Settlement(ID: 16)",
          "Settlement(ID: 16)",
          "Settlement(ID: 16)",
          "Settlement(ID: 16)",
          "Settlement(ID: 16)",
          "Settlement(ID: 16)",
          "Settlement(ID: 16)",
          "Settlement(ID: 16)",
          "Settlement(ID: 16)",
          "Settlement(ID: 16)",
          "Settlement(ID: 16)",
          "Settlement(ID: 16)",
          "Settlement(ID: 16)",
          "Settlement(ID: 16)",
          "Settlement(ID: 16)",
          "Settlement(ID: 16)",
          "Settlement(ID: 16)",
          "Settlement(ID: 16)",
          "Settlement(ID: 16)",
          "Settlement(ID: 16)",
          "Settlement(ID: 16)",
          "Settlement(ID: 16)",
          "Settlement(ID: 16)",
          "Settlement(ID: 16)",
          "Settlement(ID: 16)",
          "Settlement(ID: 16)",
          "Settlement(ID: 16)",
          "Settlement(ID: 16)",
          "Settlement(ID: 16)",
          "Settlement(ID: 16)",
          "Settlement(ID: 16)",
          "Settlement(ID: 16)",
          "Settlement(ID: 16)",
          "Settlement(ID: 16)",
          "Settlement(ID: 16)",
          "Settlement(ID: 16)",
          "Settlement(ID: 16)",
          "Settlement(ID: 16)",
          "Settlement(ID: 16)",
          "Settlement(ID: 16)",
          "Settlement(ID: 16)",
          "Settlement(ID: 16)",
          "Settlement(ID: 16)",
          "Settlement(ID: 16)",
          "Settlement(ID: 16)",
          "Settlement(ID: 16)",
          "Settlement(ID: 16)",
          "Settlement(ID: 16)",
          "Settlement(ID: 16)",
          "Settlement(ID: 16)",
          "Settlement(ID: 16)",
          "Settlement(ID: 16)",
          "Settlement(ID: 16)",
          "Settlement(ID: 16)",
          "Settlement(ID: 16)",
          "Settlement(ID: 16)",
          "Settlement(ID: 16)",
          "Settlement(ID: 16)",
          "Settlement(ID: 16)",
          "Settlement(ID: 16)",
          "Settlement(ID: 16)",
          "Settlement(ID: 16)",
          "Settlement(ID: 16)",
          "Settlement(ID: 16)",
          "Settlement(ID: 16)",
          "Settlement(ID: 16)",
          "Settlement(ID: 16)",
          "Settlement(ID: 16)",
          "Settlement(ID: 16)",
          "Settlement(ID: 16)",
          "Settlement(ID: 16)",
          "Settlement(ID: 16)",
          "Settlement(ID: 16)",
          "Settlement(ID: 16)",
          "Settlement(ID: 16)",
          "Settlement(ID: 16)",
          "Settlement(ID: 16)",
          "Settlement(ID: 16)",
          "Settlement(ID: 16)",
          "Settlement(ID: 16)",
          "Settlement(ID: 16)",
          "Settlement(ID: 16)",
          "Settlement(ID: 16)",
          "Settlement(ID: 16)",
          "Settlement(ID: 16)",
          "Settlement(ID: 16)",
          "Settlement(ID: 16)",
          "Settlement(ID: 16)",
          "Settlement(ID: 16)",
          "Settlement(ID: 16)",
          "Settlement(ID: 16)",
          "Settlement(ID: 16)",
          "Settlement(ID: 16)",
          "Settlement(ID: 16)",
          "Settlement(ID: 16)",
          "Settlement(ID: 16)",
          "Settlement(ID: 16)",
          "Settlement(ID: 16)",
          "Settlement(ID: 16)",
          "Settlement(ID: 16)",
          "Settlement(ID: 16)",
          "Settlement(ID: 16)",
          "Settlement(ID: 16)",
          "Settlement(ID: 16)",
          "Settlement(ID: 16)",
          "Settlement(ID: 16)",
          "Settlement(ID: 16)",
          "Settlement(ID: 16)",
          "Settlement(ID: 16)",
          "Settlement(ID: 16)",
          "Settlement(ID: 16)",
          "Settlement(ID: 16)",
          "Settlement(ID: 16)",
          "Settlement(ID: 16)",
          "Settlement(ID: 16)",
          "Settlement(ID: 16)",
          "Settlement(ID: 16)",
          "Settlement(ID: 16)",
          "Settlement(ID: 16)",
          "Settlement(ID: 16)",
          "Settlement(ID: 16)",
          "Settlement(ID: 16)",
          "Settlement(ID: 16)",
          "Settlement(ID: 16)",
          "Settlement(ID: 16)",
          "Settlement(ID: 16)",
          "Settlement(ID: 16)",
          "Settlement(ID: 16)",
          "Settlement(ID: 16)",
          "Settlement(ID: 16)",
          "Settlement(ID: 16)",
          "Settlement(ID: 16)",
          "Settlement(ID: 16)",
          "Settlement(ID: 16)",
          "Settlement(ID: 16)",
          "Settlement(ID: 16)",
          "Settlement(ID: 16)",
          "Settlement(ID: 16)"
         ],
         "x0": " ",
         "xaxis": "x",
         "y": {
          "bdata": "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",
          "dtype": "f8"
         },
         "y0": " ",
         "yaxis": "y"
        },
        {
         "alignmentgroup": "True",
         "customdata": {
          "bdata": "CwsLCwsLCwsLCwsLCwsLCwsLCwsLCwsLCwsLCwsLCwsLCwsLCwsLCwsLCwsLCwsLCwsLCwsLCwsLCwsLCwsLCwsLCwsLCwsLCwsLCwsLCwsLCwsLCwsLCwsLCwsLCwsLCwsLCwsLCwsLCwsLCwsLCwsLCwsLCwsLCwsLCwsLCwsLCwsLCwsLCwsLCwsLCwsLCwsLCwsLCwsLCwsLCwsLCwsLCwsLCwsLCwsLCwsLCwsLCwsLCwsLCwsLCwsLCwsLCwsLCwsLCwsLCwsLCwsLCwsLCwsLCwsLCwsLCwsLCwsLCwsLCwsLCwsLCwsLCwsLCw==",
          "dtype": "i1",
          "shape": "241, 1"
         },
         "hovertemplate": "<b>%{x}</b><br>RED: %{y:.4f}<br><extra></extra>",
         "legendgroup": "Oil palm monoculture(ID: 11)",
         "marker": {
          "color": "#00cc96"
         },
         "name": "Oil palm monoculture(ID: 11)",
         "notched": false,
         "offsetgroup": "Oil palm monoculture(ID: 11)",
         "orientation": "v",
         "showlegend": true,
         "type": "box",
         "x": [
          "Oil palm monoculture(ID: 11)",
          "Oil palm monoculture(ID: 11)",
          "Oil palm monoculture(ID: 11)",
          "Oil palm monoculture(ID: 11)",
          "Oil palm monoculture(ID: 11)",
          "Oil palm monoculture(ID: 11)",
          "Oil palm monoculture(ID: 11)",
          "Oil palm monoculture(ID: 11)",
          "Oil palm monoculture(ID: 11)",
          "Oil palm monoculture(ID: 11)",
          "Oil palm monoculture(ID: 11)",
          "Oil palm monoculture(ID: 11)",
          "Oil palm monoculture(ID: 11)",
          "Oil palm monoculture(ID: 11)",
          "Oil palm monoculture(ID: 11)",
          "Oil palm monoculture(ID: 11)",
          "Oil palm monoculture(ID: 11)",
          "Oil palm monoculture(ID: 11)",
          "Oil palm monoculture(ID: 11)",
          "Oil palm monoculture(ID: 11)",
          "Oil palm monoculture(ID: 11)",
          "Oil palm monoculture(ID: 11)",
          "Oil palm monoculture(ID: 11)",
          "Oil palm monoculture(ID: 11)",
          "Oil palm monoculture(ID: 11)",
          "Oil palm monoculture(ID: 11)",
          "Oil palm monoculture(ID: 11)",
          "Oil palm monoculture(ID: 11)",
          "Oil palm monoculture(ID: 11)",
          "Oil palm monoculture(ID: 11)",
          "Oil palm monoculture(ID: 11)",
          "Oil palm monoculture(ID: 11)",
          "Oil palm monoculture(ID: 11)",
          "Oil palm monoculture(ID: 11)",
          "Oil palm monoculture(ID: 11)",
          "Oil palm monoculture(ID: 11)",
          "Oil palm monoculture(ID: 11)",
          "Oil palm monoculture(ID: 11)",
          "Oil palm monoculture(ID: 11)",
          "Oil palm monoculture(ID: 11)",
          "Oil palm monoculture(ID: 11)",
          "Oil palm monoculture(ID: 11)",
          "Oil palm monoculture(ID: 11)",
          "Oil palm monoculture(ID: 11)",
          "Oil palm monoculture(ID: 11)",
          "Oil palm monoculture(ID: 11)",
          "Oil palm monoculture(ID: 11)",
          "Oil palm monoculture(ID: 11)",
          "Oil palm monoculture(ID: 11)",
          "Oil palm monoculture(ID: 11)",
          "Oil palm monoculture(ID: 11)",
          "Oil palm monoculture(ID: 11)",
          "Oil palm monoculture(ID: 11)",
          "Oil palm monoculture(ID: 11)",
          "Oil palm monoculture(ID: 11)",
          "Oil palm monoculture(ID: 11)",
          "Oil palm monoculture(ID: 11)",
          "Oil palm monoculture(ID: 11)",
          "Oil palm monoculture(ID: 11)",
          "Oil palm monoculture(ID: 11)",
          "Oil palm monoculture(ID: 11)",
          "Oil palm monoculture(ID: 11)",
          "Oil palm monoculture(ID: 11)",
          "Oil palm monoculture(ID: 11)",
          "Oil palm monoculture(ID: 11)",
          "Oil palm monoculture(ID: 11)",
          "Oil palm monoculture(ID: 11)",
          "Oil palm monoculture(ID: 11)",
          "Oil palm monoculture(ID: 11)",
          "Oil palm monoculture(ID: 11)",
          "Oil palm monoculture(ID: 11)",
          "Oil palm monoculture(ID: 11)",
          "Oil palm monoculture(ID: 11)",
          "Oil palm monoculture(ID: 11)",
          "Oil palm monoculture(ID: 11)",
          "Oil palm monoculture(ID: 11)",
          "Oil palm monoculture(ID: 11)",
          "Oil palm monoculture(ID: 11)",
          "Oil palm monoculture(ID: 11)",
          "Oil palm monoculture(ID: 11)",
          "Oil palm monoculture(ID: 11)",
          "Oil palm monoculture(ID: 11)",
          "Oil palm monoculture(ID: 11)",
          "Oil palm monoculture(ID: 11)",
          "Oil palm monoculture(ID: 11)",
          "Oil palm monoculture(ID: 11)",
          "Oil palm monoculture(ID: 11)",
          "Oil palm monoculture(ID: 11)",
          "Oil palm monoculture(ID: 11)",
          "Oil palm monoculture(ID: 11)",
          "Oil palm monoculture(ID: 11)",
          "Oil palm monoculture(ID: 11)",
          "Oil palm monoculture(ID: 11)",
          "Oil palm monoculture(ID: 11)",
          "Oil palm monoculture(ID: 11)",
          "Oil palm monoculture(ID: 11)",
          "Oil palm monoculture(ID: 11)",
          "Oil palm monoculture(ID: 11)",
          "Oil palm monoculture(ID: 11)",
          "Oil palm monoculture(ID: 11)",
          "Oil palm monoculture(ID: 11)",
          "Oil palm monoculture(ID: 11)",
          "Oil palm monoculture(ID: 11)",
          "Oil palm monoculture(ID: 11)",
          "Oil palm monoculture(ID: 11)",
          "Oil palm monoculture(ID: 11)",
          "Oil palm monoculture(ID: 11)",
          "Oil palm monoculture(ID: 11)",
          "Oil palm monoculture(ID: 11)",
          "Oil palm monoculture(ID: 11)",
          "Oil palm monoculture(ID: 11)",
          "Oil palm monoculture(ID: 11)",
          "Oil palm monoculture(ID: 11)",
          "Oil palm monoculture(ID: 11)",
          "Oil palm monoculture(ID: 11)",
          "Oil palm monoculture(ID: 11)",
          "Oil palm monoculture(ID: 11)",
          "Oil palm monoculture(ID: 11)",
          "Oil palm monoculture(ID: 11)",
          "Oil palm monoculture(ID: 11)",
          "Oil palm monoculture(ID: 11)",
          "Oil palm monoculture(ID: 11)",
          "Oil palm monoculture(ID: 11)",
          "Oil palm monoculture(ID: 11)",
          "Oil palm monoculture(ID: 11)",
          "Oil palm monoculture(ID: 11)",
          "Oil palm monoculture(ID: 11)",
          "Oil palm monoculture(ID: 11)",
          "Oil palm monoculture(ID: 11)",
          "Oil palm monoculture(ID: 11)",
          "Oil palm monoculture(ID: 11)",
          "Oil palm monoculture(ID: 11)",
          "Oil palm monoculture(ID: 11)",
          "Oil palm monoculture(ID: 11)",
          "Oil palm monoculture(ID: 11)",
          "Oil palm monoculture(ID: 11)",
          "Oil palm monoculture(ID: 11)",
          "Oil palm monoculture(ID: 11)",
          "Oil palm monoculture(ID: 11)",
          "Oil palm monoculture(ID: 11)",
          "Oil palm monoculture(ID: 11)",
          "Oil palm monoculture(ID: 11)",
          "Oil palm monoculture(ID: 11)",
          "Oil palm monoculture(ID: 11)",
          "Oil palm monoculture(ID: 11)",
          "Oil palm monoculture(ID: 11)",
          "Oil palm monoculture(ID: 11)",
          "Oil palm monoculture(ID: 11)",
          "Oil palm monoculture(ID: 11)",
          "Oil palm monoculture(ID: 11)",
          "Oil palm monoculture(ID: 11)",
          "Oil palm monoculture(ID: 11)",
          "Oil palm monoculture(ID: 11)",
          "Oil palm monoculture(ID: 11)",
          "Oil palm monoculture(ID: 11)",
          "Oil palm monoculture(ID: 11)",
          "Oil palm monoculture(ID: 11)",
          "Oil palm monoculture(ID: 11)",
          "Oil palm monoculture(ID: 11)",
          "Oil palm monoculture(ID: 11)",
          "Oil palm monoculture(ID: 11)",
          "Oil palm monoculture(ID: 11)",
          "Oil palm monoculture(ID: 11)",
          "Oil palm monoculture(ID: 11)",
          "Oil palm monoculture(ID: 11)",
          "Oil palm monoculture(ID: 11)",
          "Oil palm monoculture(ID: 11)",
          "Oil palm monoculture(ID: 11)",
          "Oil palm monoculture(ID: 11)",
          "Oil palm monoculture(ID: 11)",
          "Oil palm monoculture(ID: 11)",
          "Oil palm monoculture(ID: 11)",
          "Oil palm monoculture(ID: 11)",
          "Oil palm monoculture(ID: 11)",
          "Oil palm monoculture(ID: 11)",
          "Oil palm monoculture(ID: 11)",
          "Oil palm monoculture(ID: 11)",
          "Oil palm monoculture(ID: 11)",
          "Oil palm monoculture(ID: 11)",
          "Oil palm monoculture(ID: 11)",
          "Oil palm monoculture(ID: 11)",
          "Oil palm monoculture(ID: 11)",
          "Oil palm monoculture(ID: 11)",
          "Oil palm monoculture(ID: 11)",
          "Oil palm monoculture(ID: 11)",
          "Oil palm monoculture(ID: 11)",
          "Oil palm monoculture(ID: 11)",
          "Oil palm monoculture(ID: 11)",
          "Oil palm monoculture(ID: 11)",
          "Oil palm monoculture(ID: 11)",
          "Oil palm monoculture(ID: 11)",
          "Oil palm monoculture(ID: 11)",
          "Oil palm monoculture(ID: 11)",
          "Oil palm monoculture(ID: 11)",
          "Oil palm monoculture(ID: 11)",
          "Oil palm monoculture(ID: 11)",
          "Oil palm monoculture(ID: 11)",
          "Oil palm monoculture(ID: 11)",
          "Oil palm monoculture(ID: 11)",
          "Oil palm monoculture(ID: 11)",
          "Oil palm monoculture(ID: 11)",
          "Oil palm monoculture(ID: 11)",
          "Oil palm monoculture(ID: 11)",
          "Oil palm monoculture(ID: 11)",
          "Oil palm monoculture(ID: 11)",
          "Oil palm monoculture(ID: 11)",
          "Oil palm monoculture(ID: 11)",
          "Oil palm monoculture(ID: 11)",
          "Oil palm monoculture(ID: 11)",
          "Oil palm monoculture(ID: 11)",
          "Oil palm monoculture(ID: 11)",
          "Oil palm monoculture(ID: 11)",
          "Oil palm monoculture(ID: 11)",
          "Oil palm monoculture(ID: 11)",
          "Oil palm monoculture(ID: 11)",
          "Oil palm monoculture(ID: 11)",
          "Oil palm monoculture(ID: 11)",
          "Oil palm monoculture(ID: 11)",
          "Oil palm monoculture(ID: 11)",
          "Oil palm monoculture(ID: 11)",
          "Oil palm monoculture(ID: 11)",
          "Oil palm monoculture(ID: 11)",
          "Oil palm monoculture(ID: 11)",
          "Oil palm monoculture(ID: 11)",
          "Oil palm monoculture(ID: 11)",
          "Oil palm monoculture(ID: 11)",
          "Oil palm monoculture(ID: 11)",
          "Oil palm monoculture(ID: 11)",
          "Oil palm monoculture(ID: 11)",
          "Oil palm monoculture(ID: 11)",
          "Oil palm monoculture(ID: 11)",
          "Oil palm monoculture(ID: 11)",
          "Oil palm monoculture(ID: 11)",
          "Oil palm monoculture(ID: 11)",
          "Oil palm monoculture(ID: 11)",
          "Oil palm monoculture(ID: 11)",
          "Oil palm monoculture(ID: 11)",
          "Oil palm monoculture(ID: 11)",
          "Oil palm monoculture(ID: 11)",
          "Oil palm monoculture(ID: 11)",
          "Oil palm monoculture(ID: 11)"
         ],
         "x0": " ",
         "xaxis": "x",
         "y": {
          "bdata": "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",
          "dtype": "f8"
         },
         "y0": " ",
         "yaxis": "y"
        },
        {
         "alignmentgroup": "True",
         "customdata": {
          "bdata": "ExMTExMTExMTExMTExMTExMTExMTExMTExMTExMTExMTExMTExMTExMTExMTExM=",
          "dtype": "i1",
          "shape": "47, 1"
         },
         "hovertemplate": "<b>%{x}</b><br>RED: %{y:.4f}<br><extra></extra>",
         "legendgroup": "Water Body(ID: 19)",
         "marker": {
          "color": "#ab63fa"
         },
         "name": "Water Body(ID: 19)",
         "notched": false,
         "offsetgroup": "Water Body(ID: 19)",
         "orientation": "v",
         "showlegend": true,
         "type": "box",
         "x": [
          "Water Body(ID: 19)",
          "Water Body(ID: 19)",
          "Water Body(ID: 19)",
          "Water Body(ID: 19)",
          "Water Body(ID: 19)",
          "Water Body(ID: 19)",
          "Water Body(ID: 19)",
          "Water Body(ID: 19)",
          "Water Body(ID: 19)",
          "Water Body(ID: 19)",
          "Water Body(ID: 19)",
          "Water Body(ID: 19)",
          "Water Body(ID: 19)",
          "Water Body(ID: 19)",
          "Water Body(ID: 19)",
          "Water Body(ID: 19)",
          "Water Body(ID: 19)",
          "Water Body(ID: 19)",
          "Water Body(ID: 19)",
          "Water Body(ID: 19)",
          "Water Body(ID: 19)",
          "Water Body(ID: 19)",
          "Water Body(ID: 19)",
          "Water Body(ID: 19)",
          "Water Body(ID: 19)",
          "Water Body(ID: 19)",
          "Water Body(ID: 19)",
          "Water Body(ID: 19)",
          "Water Body(ID: 19)",
          "Water Body(ID: 19)",
          "Water Body(ID: 19)",
          "Water Body(ID: 19)",
          "Water Body(ID: 19)",
          "Water Body(ID: 19)",
          "Water Body(ID: 19)",
          "Water Body(ID: 19)",
          "Water Body(ID: 19)",
          "Water Body(ID: 19)",
          "Water Body(ID: 19)",
          "Water Body(ID: 19)",
          "Water Body(ID: 19)",
          "Water Body(ID: 19)",
          "Water Body(ID: 19)",
          "Water Body(ID: 19)",
          "Water Body(ID: 19)",
          "Water Body(ID: 19)",
          "Water Body(ID: 19)"
         ],
         "x0": " ",
         "xaxis": "x",
         "y": {
          "bdata": "rJDyk2qfsj+0EOSghJmuP6gwthDkoLY/nFWfq63Ytz/YtiizQSatP6yQ8pNqn7I/fCJPkq6Ztj8qHaz/c5i6PzzVITfDDbk/0ADeAgmKpT9cOBCSBUy4P667eapDbrg/GHjuPVxysj9aXyS05Vy7Pwb6RJ4kXaM/sKw0KQXduT+Ieyx96IKkP0hVE0TdB7Q/5JttbkxPvD9KH7qgvmWoP3CGG/D5YbQ/QGX8+4wLsz/E5uPaUDG0PxTB/1ayY7U/ApoIG55epz/S3uALk6m6PyrLEMe6uKc/+H8O8+UFrD+kD11Q3zKtPww89x4uOaI/VB1yM9yAsT9wVdl3RfCrPwRDVrd6TrA/arddaK7Tsj9AMEeP39u8P5b/kH77Orc/aKAy/n3GuT+uZMdGIF63P/ilft5UpK4/VsoyxLEusz/4uDZUjPO5P3oPlxx3SrU/1JrmHafouj+8fsFu2LaoP7TIdr6fGqE/1Bito6oJtD8IVWr2QCuxPw==",
          "dtype": "f8"
         },
         "y0": " ",
         "yaxis": "y"
        },
        {
         "alignmentgroup": "True",
         "customdata": {
          "bdata": "AQEBAQEBAQEBAQEBAQEBAQEBAQEBAQEBAQEBAQE=",
          "dtype": "i1",
          "shape": "29, 1"
         },
         "hovertemplate": "<b>%{x}</b><br>RED: %{y:.4f}<br><extra></extra>",
         "legendgroup": "Acacia plantation(ID: 1)",
         "marker": {
          "color": "#FFA15A"
         },
         "name": "Acacia plantation(ID: 1)",
         "notched": false,
         "offsetgroup": "Acacia plantation(ID: 1)",
         "orientation": "v",
         "showlegend": true,
         "type": "box",
         "x": [
          "Acacia plantation(ID: 1)",
          "Acacia plantation(ID: 1)",
          "Acacia plantation(ID: 1)",
          "Acacia plantation(ID: 1)",
          "Acacia plantation(ID: 1)",
          "Acacia plantation(ID: 1)",
          "Acacia plantation(ID: 1)",
          "Acacia plantation(ID: 1)",
          "Acacia plantation(ID: 1)",
          "Acacia plantation(ID: 1)",
          "Acacia plantation(ID: 1)",
          "Acacia plantation(ID: 1)",
          "Acacia plantation(ID: 1)",
          "Acacia plantation(ID: 1)",
          "Acacia plantation(ID: 1)",
          "Acacia plantation(ID: 1)",
          "Acacia plantation(ID: 1)",
          "Acacia plantation(ID: 1)",
          "Acacia plantation(ID: 1)",
          "Acacia plantation(ID: 1)",
          "Acacia plantation(ID: 1)",
          "Acacia plantation(ID: 1)",
          "Acacia plantation(ID: 1)",
          "Acacia plantation(ID: 1)",
          "Acacia plantation(ID: 1)",
          "Acacia plantation(ID: 1)",
          "Acacia plantation(ID: 1)",
          "Acacia plantation(ID: 1)",
          "Acacia plantation(ID: 1)"
         ],
         "x0": " ",
         "xaxis": "x",
         "y": {
          "bdata": "dBppqbwdsT+8eapDboa6P7Abti3KbLQ/jogpkUQvtz+M+E7MejGyP9TB+j+H+bI/9Ks5QDBHpz/kwoGQLGC0P1TBqKROQLg/nBGlvcEXuD8a2CrB4nCkP6Sl8naE06o/HObLC7CPoj+Gj4gpkcTCP+xph78ma6g/BENWt3pOsD888gcDz721P9Zz0vvG17c/ur2kMVpHpT+cyJOkayarP0C8rl+wG6o/hAg4hCo1pz/8h/Tb14GXP4glHlA25a4/HnIz3IDPuT+2+BQA4xm0P1itTPilfrY/UKVmD7QCpz/8kSIyrOKdPw==",
          "dtype": "f8"
         },
         "y0": " ",
         "yaxis": "y"
        },
        {
         "alignmentgroup": "True",
         "customdata": {
          "bdata": "DQ0NDQ0NDQ0NDQ0NDQ0NDQ0NDQ0NDQ0NDQ0NDQ0NDQ0NDQ0NDQ0NDQ0NDQ0NDQ0NDQ0NDQ0NDQ0NDQ0NDQ0NDQ0NDQ==",
          "dtype": "i1",
          "shape": "67, 1"
         },
         "hovertemplate": "<b>%{x}</b><br>RED: %{y:.4f}<br><extra></extra>",
         "legendgroup": "Rice Field(ID: 13)",
         "marker": {
          "color": "#19d3f3"
         },
         "name": "Rice Field(ID: 13)",
         "notched": false,
         "offsetgroup": "Rice Field(ID: 13)",
         "orientation": "v",
         "showlegend": true,
         "type": "box",
         "x": [
          "Rice Field(ID: 13)",
          "Rice Field(ID: 13)",
          "Rice Field(ID: 13)",
          "Rice Field(ID: 13)",
          "Rice Field(ID: 13)",
          "Rice Field(ID: 13)",
          "Rice Field(ID: 13)",
          "Rice Field(ID: 13)",
          "Rice Field(ID: 13)",
          "Rice Field(ID: 13)",
          "Rice Field(ID: 13)",
          "Rice Field(ID: 13)",
          "Rice Field(ID: 13)",
          "Rice Field(ID: 13)",
          "Rice Field(ID: 13)",
          "Rice Field(ID: 13)",
          "Rice Field(ID: 13)",
          "Rice Field(ID: 13)",
          "Rice Field(ID: 13)",
          "Rice Field(ID: 13)",
          "Rice Field(ID: 13)",
          "Rice Field(ID: 13)",
          "Rice Field(ID: 13)",
          "Rice Field(ID: 13)",
          "Rice Field(ID: 13)",
          "Rice Field(ID: 13)",
          "Rice Field(ID: 13)",
          "Rice Field(ID: 13)",
          "Rice Field(ID: 13)",
          "Rice Field(ID: 13)",
          "Rice Field(ID: 13)",
          "Rice Field(ID: 13)",
          "Rice Field(ID: 13)",
          "Rice Field(ID: 13)",
          "Rice Field(ID: 13)",
          "Rice Field(ID: 13)",
          "Rice Field(ID: 13)",
          "Rice Field(ID: 13)",
          "Rice Field(ID: 13)",
          "Rice Field(ID: 13)",
          "Rice Field(ID: 13)",
          "Rice Field(ID: 13)",
          "Rice Field(ID: 13)",
          "Rice Field(ID: 13)",
          "Rice Field(ID: 13)",
          "Rice Field(ID: 13)",
          "Rice Field(ID: 13)",
          "Rice Field(ID: 13)",
          "Rice Field(ID: 13)",
          "Rice Field(ID: 13)",
          "Rice Field(ID: 13)",
          "Rice Field(ID: 13)",
          "Rice Field(ID: 13)",
          "Rice Field(ID: 13)",
          "Rice Field(ID: 13)",
          "Rice Field(ID: 13)",
          "Rice Field(ID: 13)",
          "Rice Field(ID: 13)",
          "Rice Field(ID: 13)",
          "Rice Field(ID: 13)",
          "Rice Field(ID: 13)",
          "Rice Field(ID: 13)",
          "Rice Field(ID: 13)",
          "Rice Field(ID: 13)",
          "Rice Field(ID: 13)",
          "Rice Field(ID: 13)",
          "Rice Field(ID: 13)"
         ],
         "x0": " ",
         "xaxis": "x",
         "y": {
          "bdata": "aJHtfD81pj9gbCHIQQmvP6BsyhXe5bA/SFD8GHPXpj/kGTT0T3CrP6jZA63AkLU/9FSH3Aw3sD/IRiBe1y+wP4z4Tsx6MbI/tKFinL8JqT+ye/KwUGuwPxTLLa2GxLA/tqFinL8Jsz+wmNh8XBuuPygs8YCyKa8/uFhRg2kYsD/ollZD4h6vP9wpHaz/c7Q/8MgfDDz3rj+MSuoENBGmP5SfVPt0PKY/QiECDqFKqT/QSe8bX3uyP772zJIANbM/FKQZi6azoz+cOLnfoSiwP1wWE5uPa6M/ECOERxtHqD8gDDz3Hi6lP9yAzw8jhLU/WBe30QDerj+436Eo0Ce6P9Y+HY8ZqLY/QmDl0CLbuj8CwRw9fm+0P75gN2xblKs/DoRkARO4uT+ElJ9U+3S+P2ILQQ5KmLE/jE8BMJ5Bsz+8y0V8J2bFPzT0T3CxorY/jAsHQrKAsz/AlEiil1GsP3wiT5KumbY/EA8om3KFlz/IRiBe1y+wP6J6a2CrBKU/6AlLPKBstj/8byU7NgK3Py5W1GAahr4/AHP0+L1Nrz8Y4lgXt9G0P2ikpfJ2hLE/1H0AUps4sz80mIbhI2KyP1jFG5lH/ro/mOs00lJ5qz/qc7UV+8uuP3zQs1n1ua4/CLEzhc5rnD8MWd3qOemzP0SLbOf7qas/AOgwX16ArT/Anxov3SSyPyiRRC+jWK4/0A8jhEcbrz8=",
          "dtype": "f8"
         },
         "y0": " ",
         "yaxis": "y"
        },
        {
         "alignmentgroup": "True",
         "customdata": {
          "bdata": "CgoKCgoKCgoKCgoKCgoKCgoKCgoKCgoKCgoKCgoKCgoKCgoKCgoKCgoKCgoKCgoKCgoKCgoKCgoKCgoKCgoKCgoKCgoKCgoKCgoKCgoKCgoKCgoKCgoKCgoKCgoKCgoKCgoKCgoKCgoKCgoKCgoKCgoKCgoKCgoKCgoKCgo=",
          "dtype": "i1",
          "shape": "125, 1"
         },
         "hovertemplate": "<b>%{x}</b><br>RED: %{y:.4f}<br><extra></extra>",
         "legendgroup": "Mixed Garden(ID: 10)",
         "marker": {
          "color": "#FF6692"
         },
         "name": "Mixed Garden(ID: 10)",
         "notched": false,
         "offsetgroup": "Mixed Garden(ID: 10)",
         "orientation": "v",
         "showlegend": true,
         "type": "box",
         "x": [
          "Mixed Garden(ID: 10)",
          "Mixed Garden(ID: 10)",
          "Mixed Garden(ID: 10)",
          "Mixed Garden(ID: 10)",
          "Mixed Garden(ID: 10)",
          "Mixed Garden(ID: 10)",
          "Mixed Garden(ID: 10)",
          "Mixed Garden(ID: 10)",
          "Mixed Garden(ID: 10)",
          "Mixed Garden(ID: 10)",
          "Mixed Garden(ID: 10)",
          "Mixed Garden(ID: 10)",
          "Mixed Garden(ID: 10)",
          "Mixed Garden(ID: 10)",
          "Mixed Garden(ID: 10)",
          "Mixed Garden(ID: 10)",
          "Mixed Garden(ID: 10)",
          "Mixed Garden(ID: 10)",
          "Mixed Garden(ID: 10)",
          "Mixed Garden(ID: 10)",
          "Mixed Garden(ID: 10)",
          "Mixed Garden(ID: 10)",
          "Mixed Garden(ID: 10)",
          "Mixed Garden(ID: 10)",
          "Mixed Garden(ID: 10)",
          "Mixed Garden(ID: 10)",
          "Mixed Garden(ID: 10)",
          "Mixed Garden(ID: 10)",
          "Mixed Garden(ID: 10)",
          "Mixed Garden(ID: 10)",
          "Mixed Garden(ID: 10)",
          "Mixed Garden(ID: 10)",
          "Mixed Garden(ID: 10)",
          "Mixed Garden(ID: 10)",
          "Mixed Garden(ID: 10)",
          "Mixed Garden(ID: 10)",
          "Mixed Garden(ID: 10)",
          "Mixed Garden(ID: 10)",
          "Mixed Garden(ID: 10)",
          "Mixed Garden(ID: 10)",
          "Mixed Garden(ID: 10)",
          "Mixed Garden(ID: 10)",
          "Mixed Garden(ID: 10)",
          "Mixed Garden(ID: 10)",
          "Mixed Garden(ID: 10)",
          "Mixed Garden(ID: 10)",
          "Mixed Garden(ID: 10)",
          "Mixed Garden(ID: 10)",
          "Mixed Garden(ID: 10)",
          "Mixed Garden(ID: 10)",
          "Mixed Garden(ID: 10)",
          "Mixed Garden(ID: 10)",
          "Mixed Garden(ID: 10)",
          "Mixed Garden(ID: 10)",
          "Mixed Garden(ID: 10)",
          "Mixed Garden(ID: 10)",
          "Mixed Garden(ID: 10)",
          "Mixed Garden(ID: 10)",
          "Mixed Garden(ID: 10)",
          "Mixed Garden(ID: 10)",
          "Mixed Garden(ID: 10)",
          "Mixed Garden(ID: 10)",
          "Mixed Garden(ID: 10)",
          "Mixed Garden(ID: 10)",
          "Mixed Garden(ID: 10)",
          "Mixed Garden(ID: 10)",
          "Mixed Garden(ID: 10)",
          "Mixed Garden(ID: 10)",
          "Mixed Garden(ID: 10)",
          "Mixed Garden(ID: 10)",
          "Mixed Garden(ID: 10)",
          "Mixed Garden(ID: 10)",
          "Mixed Garden(ID: 10)",
          "Mixed Garden(ID: 10)",
          "Mixed Garden(ID: 10)",
          "Mixed Garden(ID: 10)",
          "Mixed Garden(ID: 10)",
          "Mixed Garden(ID: 10)",
          "Mixed Garden(ID: 10)",
          "Mixed Garden(ID: 10)",
          "Mixed Garden(ID: 10)",
          "Mixed Garden(ID: 10)",
          "Mixed Garden(ID: 10)",
          "Mixed Garden(ID: 10)",
          "Mixed Garden(ID: 10)",
          "Mixed Garden(ID: 10)",
          "Mixed Garden(ID: 10)",
          "Mixed Garden(ID: 10)",
          "Mixed Garden(ID: 10)",
          "Mixed Garden(ID: 10)",
          "Mixed Garden(ID: 10)",
          "Mixed Garden(ID: 10)",
          "Mixed Garden(ID: 10)",
          "Mixed Garden(ID: 10)",
          "Mixed Garden(ID: 10)",
          "Mixed Garden(ID: 10)",
          "Mixed Garden(ID: 10)",
          "Mixed Garden(ID: 10)",
          "Mixed Garden(ID: 10)",
          "Mixed Garden(ID: 10)",
          "Mixed Garden(ID: 10)",
          "Mixed Garden(ID: 10)",
          "Mixed Garden(ID: 10)",
          "Mixed Garden(ID: 10)",
          "Mixed Garden(ID: 10)",
          "Mixed Garden(ID: 10)",
          "Mixed Garden(ID: 10)",
          "Mixed Garden(ID: 10)",
          "Mixed Garden(ID: 10)",
          "Mixed Garden(ID: 10)",
          "Mixed Garden(ID: 10)",
          "Mixed Garden(ID: 10)",
          "Mixed Garden(ID: 10)",
          "Mixed Garden(ID: 10)",
          "Mixed Garden(ID: 10)",
          "Mixed Garden(ID: 10)",
          "Mixed Garden(ID: 10)",
          "Mixed Garden(ID: 10)",
          "Mixed Garden(ID: 10)",
          "Mixed Garden(ID: 10)",
          "Mixed Garden(ID: 10)",
          "Mixed Garden(ID: 10)",
          "Mixed Garden(ID: 10)",
          "Mixed Garden(ID: 10)",
          "Mixed Garden(ID: 10)"
         ],
         "x0": " ",
         "xaxis": "x",
         "y": {
          "bdata": "5Ga4AZ8fpj8yychZ2NOmPyDSb18HzrU/7Eyh8xq7tT8k88gfDDy1P1xfJLTlXKY/eFioNc07rj/kHksfuqC4P7zjFB3J5ac/Tjv8NVmjuT/IsIo3Mo+oP2g1JO6x9KE/jAsHQrKAqT9aZDvfT42pP3BQwkzbv7I/UMdjBirjlz9ob/CFyVS7P9QOf03WqKM/xooaTMPwpT8cjxmojH+hP5Cb4QZ8frg/bw1slWBxwD8A++jUlc+uPxg09E9wsbI/hhvw+WGEsj8kAWpq2VqzPxzTE5Z4QLY/RrHc0mpIuD+Iug9AahO2Pzi+9sySALU/zAaZZOQssz9E3QcgtYmzPzhnRGlv8Kk/zGd5HtydpT/gQEgWMIGjP7yuX7Abtrs/DOVEuwopoT9QjZduEoOiP9j1C3bDtqk/8DhFR3L5qT9QJ6CJsOGtP4iKcf4mFK4/uP0rK01KrT+YUIiAQ6iqP7ztQnOdRrg/cOZXc4BgsD9IERlW8UaqP478wcBz778/hm2LMhtksD/MejGUE+2mP8zMzMzMzKQ/3HIuxVVltz+w3NJqSNy3P1yFlJ9U+6g/LOxph78mpz8g14aKcf64PygUIuAQqrQ/ipP7HYoCsz8+AKlNnNypP8hUwaikTqQ/AG+BBMWPoT8kGTkLe9qtPzjfT42Xbqo/IB/0bFZ9pj9QATCeQUO1P8QzaOif4KQ/SOXtCKcFrz+wX7Abti20Pzj92Y8UkbE/ODKP/MHAsj86r7FLVG+2P8jvbfqzH6U/0LNZ9bnatD9WHXIz3ICnPxqojH+fcbA/yPmbUIiAqz941m670FynPxzmywuwj6I/NL+aAwRzoD+qfToeM1C8P5gEqKlla6U/COv/HObLrz/gufdwyXGvP5C4x9KHLqA/bMoV3uUitD8oLPGAsimvP3hYqDXNO64/tI6qJoi6pz/Uc9L7xteeP7pm8s02N6Q/cAM+P4wQrj9o6J/gYkWxP3yzzY3pCbE/JOmayTfbpD+Kzce1oWKiP5pyhXe5iLQ/MNP2r6w0rT8GNBE2PL2xP6SqCaLuA64//BNcrKjBsj/IAiZw626mPwCkNnFyv60/6Nms+lxtoz8Aea9amfCnP3jMQGX8+6A/gpAsYAK3sD84Sl6dY0CeP84eaAWGrKI/sBIsDmd+rz8WeO49XHKoP0ax3NJqSLg/DKt4I/PIsT8MmMCtu3mwP0QEHEKVmqE/6LevA+eMuD9Yngd3Z+2iP3ZsBOJ1/aQ/4LTgRV9Btj8Iih9j7lqyP3pwd9Zuu7w/3gcgtYmTwT+sHFpkO9+0P5kqGJXUCbI/Yk87/DVZpz8gByXMtP22Pw==",
          "dtype": "f8"
         },
         "y0": " ",
         "yaxis": "y"
        },
        {
         "alignmentgroup": "True",
         "customdata": {
          "bdata": "Dg4ODg4ODg4ODg4ODg4ODg4ODg4ODg4O",
          "dtype": "i1",
          "shape": "24, 1"
         },
         "hovertemplate": "<b>%{x}</b><br>RED: %{y:.4f}<br><extra></extra>",
         "legendgroup": "Rubber agroforest(ID: 14)",
         "marker": {
          "color": "#B6E880"
         },
         "name": "Rubber agroforest(ID: 14)",
         "notched": false,
         "offsetgroup": "Rubber agroforest(ID: 14)",
         "orientation": "v",
         "showlegend": true,
         "type": "box",
         "x": [
          "Rubber agroforest(ID: 14)",
          "Rubber agroforest(ID: 14)",
          "Rubber agroforest(ID: 14)",
          "Rubber agroforest(ID: 14)",
          "Rubber agroforest(ID: 14)",
          "Rubber agroforest(ID: 14)",
          "Rubber agroforest(ID: 14)",
          "Rubber agroforest(ID: 14)",
          "Rubber agroforest(ID: 14)",
          "Rubber agroforest(ID: 14)",
          "Rubber agroforest(ID: 14)",
          "Rubber agroforest(ID: 14)",
          "Rubber agroforest(ID: 14)",
          "Rubber agroforest(ID: 14)",
          "Rubber agroforest(ID: 14)",
          "Rubber agroforest(ID: 14)",
          "Rubber agroforest(ID: 14)",
          "Rubber agroforest(ID: 14)",
          "Rubber agroforest(ID: 14)",
          "Rubber agroforest(ID: 14)",
          "Rubber agroforest(ID: 14)",
          "Rubber agroforest(ID: 14)",
          "Rubber agroforest(ID: 14)",
          "Rubber agroforest(ID: 14)"
         ],
         "x0": " ",
         "xaxis": "x",
         "y": {
          "bdata": "lFLQ7SWNtT8qOpLLf0i3P/aqlQm/1LA/7BLVWwNbpz+owTQMHxGnPzyDhv4JLqY/mA0yychZoD/y6hwDstejPwhfmEwVjKI/zGd5HtydpT/IDFTGv8+sPyQyrOKNzKc/WBNE3QcgnT8skKD4MeaiP/wYc9cS8rU/+u3rwDkjpj+IRncQO1O4P9D8ag4QzK0/dL9DUaBPuD9M1qiHaHSlP3gtIR/0bLI/WFGDaRg+qD/meXB31m6nP2igMv59xrk/",
          "dtype": "f8"
         },
         "y0": " ",
         "yaxis": "y"
        },
        {
         "alignmentgroup": "True",
         "customdata": {
          "bdata": "CAgICAgICAgICAgICAgICAgICAgICAgICAgICAgICAgI",
          "dtype": "i1",
          "shape": "33, 1"
         },
         "hovertemplate": "<b>%{x}</b><br>RED: %{y:.4f}<br><extra></extra>",
         "legendgroup": "Logged Over Forest Low Density(ID: 8)",
         "marker": {
          "color": "#FF97FF"
         },
         "name": "Logged Over Forest Low Density(ID: 8)",
         "notched": false,
         "offsetgroup": "Logged Over Forest Low Density(ID: 8)",
         "orientation": "v",
         "showlegend": true,
         "type": "box",
         "x": [
          "Logged Over Forest Low Density(ID: 8)",
          "Logged Over Forest Low Density(ID: 8)",
          "Logged Over Forest Low Density(ID: 8)",
          "Logged Over Forest Low Density(ID: 8)",
          "Logged Over Forest Low Density(ID: 8)",
          "Logged Over Forest Low Density(ID: 8)",
          "Logged Over Forest Low Density(ID: 8)",
          "Logged Over Forest Low Density(ID: 8)",
          "Logged Over Forest Low Density(ID: 8)",
          "Logged Over Forest Low Density(ID: 8)",
          "Logged Over Forest Low Density(ID: 8)",
          "Logged Over Forest Low Density(ID: 8)",
          "Logged Over Forest Low Density(ID: 8)",
          "Logged Over Forest Low Density(ID: 8)",
          "Logged Over Forest Low Density(ID: 8)",
          "Logged Over Forest Low Density(ID: 8)",
          "Logged Over Forest Low Density(ID: 8)",
          "Logged Over Forest Low Density(ID: 8)",
          "Logged Over Forest Low Density(ID: 8)",
          "Logged Over Forest Low Density(ID: 8)",
          "Logged Over Forest Low Density(ID: 8)",
          "Logged Over Forest Low Density(ID: 8)",
          "Logged Over Forest Low Density(ID: 8)",
          "Logged Over Forest Low Density(ID: 8)",
          "Logged Over Forest Low Density(ID: 8)",
          "Logged Over Forest Low Density(ID: 8)",
          "Logged Over Forest Low Density(ID: 8)",
          "Logged Over Forest Low Density(ID: 8)",
          "Logged Over Forest Low Density(ID: 8)",
          "Logged Over Forest Low Density(ID: 8)",
          "Logged Over Forest Low Density(ID: 8)",
          "Logged Over Forest Low Density(ID: 8)",
          "Logged Over Forest Low Density(ID: 8)"
         ],
         "x0": " ",
         "xaxis": "x",
         "y": {
          "bdata": "UEATYcPTsT/YqIdodAevP1y77UJznao/7K2BrRIsqD8M/RNcrKilP2hhTzv8NZk/4Ln3cMlxrz9oP1JEhlWoP1iVfVcE/6c/oFkSoKaWpT+IcqJdhZSzP+jZrPpcbaM/PBQF+kSeoD/gpj/7kSKuP4KLFTWYhrg/wOyePCzUoj9A4h5LH7qsP4I0Y9F0dqI/qg65GW7AoT+Mrz2zJEClP2qfjscMVKQ/CLEzhc5rnD+aDTLJyFmgP9jr3R/vVaM/uA9AahMnnz9Ip658luexP4D2I0VkWLA/fHkB9tGptz/Arbt5qkOmP+zKZ3ke3K8/6PaSxmgdtT+EmbZ/ZaWdP4DZPXlYqKk/",
          "dtype": "f8"
         },
         "y0": " ",
         "yaxis": "y"
        },
        {
         "alignmentgroup": "True",
         "customdata": {
          "bdata": "ERERERERERERERE=",
          "dtype": "i1",
          "shape": "11, 1"
         },
         "hovertemplate": "<b>%{x}</b><br>RED: %{y:.4f}<br><extra></extra>",
         "legendgroup": "Shrub(ID: 17)",
         "marker": {
          "color": "#FECB52"
         },
         "name": "Shrub(ID: 17)",
         "notched": false,
         "offsetgroup": "Shrub(ID: 17)",
         "orientation": "v",
         "showlegend": true,
         "type": "box",
         "x": [
          "Shrub(ID: 17)",
          "Shrub(ID: 17)",
          "Shrub(ID: 17)",
          "Shrub(ID: 17)",
          "Shrub(ID: 17)",
          "Shrub(ID: 17)",
          "Shrub(ID: 17)",
          "Shrub(ID: 17)",
          "Shrub(ID: 17)",
          "Shrub(ID: 17)",
          "Shrub(ID: 17)"
         ],
         "x0": " ",
         "xaxis": "x",
         "y": {
          "bdata": "iO/ErBdDrT+COXr83qa6P+4IpwUv+rU/BENWt3pOpj/0bFZ9rraqP5p3nKIjuaI/mJAPejarvD+M8zehEAGlPzBLAtTUsq0/xCXHndLBpj+wzjEge72vPw==",
          "dtype": "f8"
         },
         "y0": " ",
         "yaxis": "y"
        },
        {
         "alignmentgroup": "True",
         "customdata": {
          "bdata": "BgYGBgYGBgYGBgYGBgYGBgYGBgYG",
          "dtype": "i1",
          "shape": "21, 1"
         },
         "hovertemplate": "<b>%{x}</b><br>RED: %{y:.4f}<br><extra></extra>",
         "legendgroup": "Grass(ID: 6)",
         "marker": {
          "color": "#636efa"
         },
         "name": "Grass(ID: 6)",
         "notched": false,
         "offsetgroup": "Grass(ID: 6)",
         "orientation": "v",
         "showlegend": true,
         "type": "box",
         "x": [
          "Grass(ID: 6)",
          "Grass(ID: 6)",
          "Grass(ID: 6)",
          "Grass(ID: 6)",
          "Grass(ID: 6)",
          "Grass(ID: 6)",
          "Grass(ID: 6)",
          "Grass(ID: 6)",
          "Grass(ID: 6)",
          "Grass(ID: 6)",
          "Grass(ID: 6)",
          "Grass(ID: 6)",
          "Grass(ID: 6)",
          "Grass(ID: 6)",
          "Grass(ID: 6)",
          "Grass(ID: 6)",
          "Grass(ID: 6)",
          "Grass(ID: 6)",
          "Grass(ID: 6)",
          "Grass(ID: 6)",
          "Grass(ID: 6)"
         ],
         "x0": " ",
         "xaxis": "x",
         "y": {
          "bdata": "YEGasWg6sz/Icad0sP6rPyaN0TqqmsI/T5KumXwzwj9Y2NMOf028P+ziNhrAW8A/qNTsgVZgsj94ieqtga2sP5ob0xOWeL4/3s1THXIzsD/yKQDGM2i1P6z1RUJbzrE/PNo4Yi0+sT+0zY3pCUukP+iHEcKjjaU/YFlpUgq6rT+oCkYldQKqP8w7TtGRXLQ/cAhVavZAuz+A2T15WKipP9gN2xZlNq4/",
          "dtype": "f8"
         },
         "y0": " ",
         "yaxis": "y"
        },
        {
         "alignmentgroup": "True",
         "customdata": {
          "bdata": "CQkJCQkJCQkJCQkJCQ==",
          "dtype": "i1",
          "shape": "13, 1"
         },
         "hovertemplate": "<b>%{x}</b><br>RED: %{y:.4f}<br><extra></extra>",
         "legendgroup": "Logged over swamp forest(ID: 9)",
         "marker": {
          "color": "#EF553B"
         },
         "name": "Logged over swamp forest(ID: 9)",
         "notched": false,
         "offsetgroup": "Logged over swamp forest(ID: 9)",
         "orientation": "v",
         "showlegend": true,
         "type": "box",
         "x": [
          "Logged over swamp forest(ID: 9)",
          "Logged over swamp forest(ID: 9)",
          "Logged over swamp forest(ID: 9)",
          "Logged over swamp forest(ID: 9)",
          "Logged over swamp forest(ID: 9)",
          "Logged over swamp forest(ID: 9)",
          "Logged over swamp forest(ID: 9)",
          "Logged over swamp forest(ID: 9)",
          "Logged over swamp forest(ID: 9)",
          "Logged over swamp forest(ID: 9)",
          "Logged over swamp forest(ID: 9)",
          "Logged over swamp forest(ID: 9)",
          "Logged over swamp forest(ID: 9)"
         ],
         "x0": " ",
         "xaxis": "x",
         "y": {
          "bdata": "tHHEWnwKoD84r7FLVG+hP1ZgyOpWz7A/HAOy17s/qj+I4SNiSiS5P8q5FFeVfbg/kN/b9Gc/uD/OjekJSzyyP+xWz0nvG7E/sMQDyqZcsz/I5T+k376zP2Az+WabG6s/5Ga4AZ8fpj8=",
          "dtype": "f8"
         },
         "y0": " ",
         "yaxis": "y"
        },
        {
         "alignmentgroup": "True",
         "customdata": {
          "bdata": "BwcH",
          "dtype": "i1",
          "shape": "3, 1"
         },
         "hovertemplate": "<b>%{x}</b><br>RED: %{y:.4f}<br><extra></extra>",
         "legendgroup": "Logged over forest-high density(ID: 7)",
         "marker": {
          "color": "#00cc96"
         },
         "name": "Logged over forest-high density(ID: 7)",
         "notched": false,
         "offsetgroup": "Logged over forest-high density(ID: 7)",
         "orientation": "v",
         "showlegend": true,
         "type": "box",
         "x": [
          "Logged over forest-high density(ID: 7)",
          "Logged over forest-high density(ID: 7)",
          "Logged over forest-high density(ID: 7)"
         ],
         "x0": " ",
         "xaxis": "x",
         "y": {
          "bdata": "QsAhVKnZoT9YaVIKur2sP5DMI38w8Kw/",
          "dtype": "f8"
         },
         "y0": " ",
         "yaxis": "y"
        },
        {
         "alignmentgroup": "True",
         "customdata": {
          "bdata": "BQUFBQUFBQUFBQUFBQUFBQUFBQUFBQUFBQUFBQUF",
          "dtype": "i1",
          "shape": "30, 1"
         },
         "hovertemplate": "<b>%{x}</b><br>RED: %{y:.4f}<br><extra></extra>",
         "legendgroup": "Coffee Agroforest(ID: 5)",
         "marker": {
          "color": "#ab63fa"
         },
         "name": "Coffee Agroforest(ID: 5)",
         "notched": false,
         "offsetgroup": "Coffee Agroforest(ID: 5)",
         "orientation": "v",
         "showlegend": true,
         "type": "box",
         "x": [
          "Coffee Agroforest(ID: 5)",
          "Coffee Agroforest(ID: 5)",
          "Coffee Agroforest(ID: 5)",
          "Coffee Agroforest(ID: 5)",
          "Coffee Agroforest(ID: 5)",
          "Coffee Agroforest(ID: 5)",
          "Coffee Agroforest(ID: 5)",
          "Coffee Agroforest(ID: 5)",
          "Coffee Agroforest(ID: 5)",
          "Coffee Agroforest(ID: 5)",
          "Coffee Agroforest(ID: 5)",
          "Coffee Agroforest(ID: 5)",
          "Coffee Agroforest(ID: 5)",
          "Coffee Agroforest(ID: 5)",
          "Coffee Agroforest(ID: 5)",
          "Coffee Agroforest(ID: 5)",
          "Coffee Agroforest(ID: 5)",
          "Coffee Agroforest(ID: 5)",
          "Coffee Agroforest(ID: 5)",
          "Coffee Agroforest(ID: 5)",
          "Coffee Agroforest(ID: 5)",
          "Coffee Agroforest(ID: 5)",
          "Coffee Agroforest(ID: 5)",
          "Coffee Agroforest(ID: 5)",
          "Coffee Agroforest(ID: 5)",
          "Coffee Agroforest(ID: 5)",
          "Coffee Agroforest(ID: 5)",
          "Coffee Agroforest(ID: 5)",
          "Coffee Agroforest(ID: 5)",
          "Coffee Agroforest(ID: 5)"
         ],
         "x0": " ",
         "xaxis": "x",
         "y": {
          "bdata": "zF1LyAc9mz9caK7TSEudP4aiQJ/Ik7E/2KiHaHQHuT8wSwLU1LKtP2CYTBWMSqo/eKpDboYbrD+AfXTqymelP4j029eBc5Y/oHHhQEgWkD/gfyvZsRGgP2S9GMqJdp0/OJLLf0i/lT9AaW/whcmcP9h8XBsqxpk/ZL0Yyol2oT8cti3KbJCVPwhyUMJM258/CHJQwkzbnz+cew+XHHeWP3jf+NozS54/GCE82jhipz+SIjKs4o2iP0gzFk1nJ5s/cCU7NgLxoj/YmULnNXalP2SqYFRSJ5w//LypSIWxsT8cQpWaPdCmP+CS407pYKE/",
          "dtype": "f8"
         },
         "y0": " ",
         "yaxis": "y"
        },
        {
         "alignmentgroup": "True",
         "customdata": {
          "bdata": "BAQEBA==",
          "dtype": "i1",
          "shape": "4, 1"
         },
         "hovertemplate": "<b>%{x}</b><br>RED: %{y:.4f}<br><extra></extra>",
         "legendgroup": "Coconut monoculture(ID: 4)",
         "marker": {
          "color": "#FFA15A"
         },
         "name": "Coconut monoculture(ID: 4)",
         "notched": false,
         "offsetgroup": "Coconut monoculture(ID: 4)",
         "orientation": "v",
         "showlegend": true,
         "type": "box",
         "x": [
          "Coconut monoculture(ID: 4)",
          "Coconut monoculture(ID: 4)",
          "Coconut monoculture(ID: 4)",
          "Coconut monoculture(ID: 4)"
         ],
         "x0": " ",
         "xaxis": "x",
         "y": {
          "bdata": "YJhMFYxKtD/gjnBa8KKzP9yTh4Va06w/ehnFckursD8=",
          "dtype": "f8"
         },
         "y0": " ",
         "yaxis": "y"
        },
        {
         "alignmentgroup": "True",
         "customdata": {
          "bdata": "DAwMDAwMDAwMDAwMDAw=",
          "dtype": "i1",
          "shape": "14, 1"
         },
         "hovertemplate": "<b>%{x}</b><br>RED: %{y:.4f}<br><extra></extra>",
         "legendgroup": "Other Crops(ID: 12)",
         "marker": {
          "color": "#19d3f3"
         },
         "name": "Other Crops(ID: 12)",
         "notched": false,
         "offsetgroup": "Other Crops(ID: 12)",
         "orientation": "v",
         "showlegend": true,
         "type": "box",
         "x": [
          "Other Crops(ID: 12)",
          "Other Crops(ID: 12)",
          "Other Crops(ID: 12)",
          "Other Crops(ID: 12)",
          "Other Crops(ID: 12)",
          "Other Crops(ID: 12)",
          "Other Crops(ID: 12)",
          "Other Crops(ID: 12)",
          "Other Crops(ID: 12)",
          "Other Crops(ID: 12)",
          "Other Crops(ID: 12)",
          "Other Crops(ID: 12)",
          "Other Crops(ID: 12)",
          "Other Crops(ID: 12)"
         ],
         "x0": " ",
         "xaxis": "x",
         "y": {
          "bdata": "UFPL1voiqT8opPyk2qevP0AOSphp+7E/qAUv+grSsD8MFeP8TSi0P4gkehnFcqM/ih9j7lpCoD/OMSB7vfu4P7gGtkqwOKg/COv/HObLrz9MWYY41sW2PzgQkgVM4LI/BNhHp658rj9Iv30dOGe2Pw==",
          "dtype": "f8"
         },
         "y0": " ",
         "yaxis": "y"
        },
        {
         "alignmentgroup": "True",
         "customdata": {
          "bdata": "AwMDAwMDAwMDAwMDAwM=",
          "dtype": "i1",
          "shape": "14, 1"
         },
         "hovertemplate": "<b>%{x}</b><br>RED: %{y:.4f}<br><extra></extra>",
         "legendgroup": "Cleared Land(ID: 3)",
         "marker": {
          "color": "#FF6692"
         },
         "name": "Cleared Land(ID: 3)",
         "notched": false,
         "offsetgroup": "Cleared Land(ID: 3)",
         "orientation": "v",
         "showlegend": true,
         "type": "box",
         "x": [
          "Cleared Land(ID: 3)",
          "Cleared Land(ID: 3)",
          "Cleared Land(ID: 3)",
          "Cleared Land(ID: 3)",
          "Cleared Land(ID: 3)",
          "Cleared Land(ID: 3)",
          "Cleared Land(ID: 3)",
          "Cleared Land(ID: 3)",
          "Cleared Land(ID: 3)",
          "Cleared Land(ID: 3)",
          "Cleared Land(ID: 3)",
          "Cleared Land(ID: 3)",
          "Cleared Land(ID: 3)",
          "Cleared Land(ID: 3)"
         ],
         "x0": " ",
         "xaxis": "x",
         "y": {
          "bdata": "LEgzFk1nqz9iesISDyi3P3RLqyFxj6U/6NSVz/I8oD+EPe3w12SZP3aE04IXfbM/7iWN0TqqqD80SwLU1LKtP7TviuB/K7k/uNqK/WX3rD8E8bp+wW6yP952oblOI6U/WBzO/GoOvD+4cCAkC5iqPw==",
          "dtype": "f8"
         },
         "y0": " ",
         "yaxis": "y"
        },
        {
         "alignmentgroup": "True",
         "customdata": {
          "bdata": "EhISEhI=",
          "dtype": "i1",
          "shape": "5, 1"
         },
         "hovertemplate": "<b>%{x}</b><br>RED: %{y:.4f}<br><extra></extra>",
         "legendgroup": "Tea plantation(ID: 18)",
         "marker": {
          "color": "#B6E880"
         },
         "name": "Tea plantation(ID: 18)",
         "notched": false,
         "offsetgroup": "Tea plantation(ID: 18)",
         "orientation": "v",
         "showlegend": true,
         "type": "box",
         "x": [
          "Tea plantation(ID: 18)",
          "Tea plantation(ID: 18)",
          "Tea plantation(ID: 18)",
          "Tea plantation(ID: 18)",
          "Tea plantation(ID: 18)"
         ],
         "x0": " ",
         "xaxis": "x",
         "y": {
          "bdata": "+HXgnBGlpT+a02UxsfmmP0asxacAGKs/TAfr/xzmoz8U4/xNKESgPw==",
          "dtype": "f8"
         },
         "y0": " ",
         "yaxis": "y"
        },
        {
         "alignmentgroup": "True",
         "customdata": {
          "bdata": "AgICAgICAgICAgICAgICAgICAgIC",
          "dtype": "i1",
          "shape": "21, 1"
         },
         "hovertemplate": "<b>%{x}</b><br>RED: %{y:.4f}<br><extra></extra>",
         "legendgroup": "Cane(ID: 2)",
         "marker": {
          "color": "#FF97FF"
         },
         "name": "Cane(ID: 2)",
         "notched": false,
         "offsetgroup": "Cane(ID: 2)",
         "orientation": "v",
         "showlegend": true,
         "type": "box",
         "x": [
          "Cane(ID: 2)",
          "Cane(ID: 2)",
          "Cane(ID: 2)",
          "Cane(ID: 2)",
          "Cane(ID: 2)",
          "Cane(ID: 2)",
          "Cane(ID: 2)",
          "Cane(ID: 2)",
          "Cane(ID: 2)",
          "Cane(ID: 2)",
          "Cane(ID: 2)",
          "Cane(ID: 2)",
          "Cane(ID: 2)",
          "Cane(ID: 2)",
          "Cane(ID: 2)",
          "Cane(ID: 2)",
          "Cane(ID: 2)",
          "Cane(ID: 2)",
          "Cane(ID: 2)",
          "Cane(ID: 2)",
          "Cane(ID: 2)"
         ],
         "x0": " ",
         "xaxis": "x",
         "y": {
          "bdata": "YO/+eK9atT+m8naE04K6PxhDOdGuQrE//FI/bypSpT9QU8vW+iLAPzCBW3fzVK8/sHd/vFetuD+YKhiV1AmoP2wJ+aBns7s/1A5/TdYowD/cFmU2yCSzP6yek943vqY/5MeYu5aQtz8w9fOmIhW3P71vfO2ZJcE/iBvw+WGEsj+qBIvDmV+7P1oSoKaWrbU/2hZlNsgkvj/gI2JKJNG7PwA/48KBkLg/",
          "dtype": "f8"
         },
         "y0": " ",
         "yaxis": "y"
        }
       ],
       "layout": {
        "boxmode": "overlay",
        "height": 500,
        "hovermode": "closest",
        "legend": {
         "title": {
          "text": "Class"
         },
         "tracegroupgap": 0
        },
        "showlegend": false,
        "template": {
         "data": {
          "bar": [
           {
            "error_x": {
             "color": "#2a3f5f"
            },
            "error_y": {
             "color": "#2a3f5f"
            },
            "marker": {
             "line": {
              "color": "white",
              "width": 0.5
             },
             "pattern": {
              "fillmode": "overlay",
              "size": 10,
              "solidity": 0.2
             }
            },
            "type": "bar"
           }
          ],
          "barpolar": [
           {
            "marker": {
             "line": {
              "color": "white",
              "width": 0.5
             },
             "pattern": {
              "fillmode": "overlay",
              "size": 10,
              "solidity": 0.2
             }
            },
            "type": "barpolar"
           }
          ],
          "carpet": [
           {
            "aaxis": {
             "endlinecolor": "#2a3f5f",
             "gridcolor": "#C8D4E3",
             "linecolor": "#C8D4E3",
             "minorgridcolor": "#C8D4E3",
             "startlinecolor": "#2a3f5f"
            },
            "baxis": {
             "endlinecolor": "#2a3f5f",
             "gridcolor": "#C8D4E3",
             "linecolor": "#C8D4E3",
             "minorgridcolor": "#C8D4E3",
             "startlinecolor": "#2a3f5f"
            },
            "type": "carpet"
           }
          ],
          "choropleth": [
           {
            "colorbar": {
             "outlinewidth": 0,
             "ticks": ""
            },
            "type": "choropleth"
           }
          ],
          "contour": [
           {
            "colorbar": {
             "outlinewidth": 0,
             "ticks": ""
            },
            "colorscale": [
             [
              0,
              "#0d0887"
             ],
             [
              0.1111111111111111,
              "#46039f"
             ],
             [
              0.2222222222222222,
              "#7201a8"
             ],
             [
              0.3333333333333333,
              "#9c179e"
             ],
             [
              0.4444444444444444,
              "#bd3786"
             ],
             [
              0.5555555555555556,
              "#d8576b"
             ],
             [
              0.6666666666666666,
              "#ed7953"
             ],
             [
              0.7777777777777778,
              "#fb9f3a"
             ],
             [
              0.8888888888888888,
              "#fdca26"
             ],
             [
              1,
              "#f0f921"
             ]
            ],
            "type": "contour"
           }
          ],
          "contourcarpet": [
           {
            "colorbar": {
             "outlinewidth": 0,
             "ticks": ""
            },
            "type": "contourcarpet"
           }
          ],
          "heatmap": [
           {
            "colorbar": {
             "outlinewidth": 0,
             "ticks": ""
            },
            "colorscale": [
             [
              0,
              "#0d0887"
             ],
             [
              0.1111111111111111,
              "#46039f"
             ],
             [
              0.2222222222222222,
              "#7201a8"
             ],
             [
              0.3333333333333333,
              "#9c179e"
             ],
             [
              0.4444444444444444,
              "#bd3786"
             ],
             [
              0.5555555555555556,
              "#d8576b"
             ],
             [
              0.6666666666666666,
              "#ed7953"
             ],
             [
              0.7777777777777778,
              "#fb9f3a"
             ],
             [
              0.8888888888888888,
              "#fdca26"
             ],
             [
              1,
              "#f0f921"
             ]
            ],
            "type": "heatmap"
           }
          ],
          "histogram": [
           {
            "marker": {
             "pattern": {
              "fillmode": "overlay",
              "size": 10,
              "solidity": 0.2
             }
            },
            "type": "histogram"
           }
          ],
          "histogram2d": [
           {
            "colorbar": {
             "outlinewidth": 0,
             "ticks": ""
            },
            "colorscale": [
             [
              0,
              "#0d0887"
             ],
             [
              0.1111111111111111,
              "#46039f"
             ],
             [
              0.2222222222222222,
              "#7201a8"
             ],
             [
              0.3333333333333333,
              "#9c179e"
             ],
             [
              0.4444444444444444,
              "#bd3786"
             ],
             [
              0.5555555555555556,
              "#d8576b"
             ],
             [
              0.6666666666666666,
              "#ed7953"
             ],
             [
              0.7777777777777778,
              "#fb9f3a"
             ],
             [
              0.8888888888888888,
              "#fdca26"
             ],
             [
              1,
              "#f0f921"
             ]
            ],
            "type": "histogram2d"
           }
          ],
          "histogram2dcontour": [
           {
            "colorbar": {
             "outlinewidth": 0,
             "ticks": ""
            },
            "colorscale": [
             [
              0,
              "#0d0887"
             ],
             [
              0.1111111111111111,
              "#46039f"
             ],
             [
              0.2222222222222222,
              "#7201a8"
             ],
             [
              0.3333333333333333,
              "#9c179e"
             ],
             [
              0.4444444444444444,
              "#bd3786"
             ],
             [
              0.5555555555555556,
              "#d8576b"
             ],
             [
              0.6666666666666666,
              "#ed7953"
             ],
             [
              0.7777777777777778,
              "#fb9f3a"
             ],
             [
              0.8888888888888888,
              "#fdca26"
             ],
             [
              1,
              "#f0f921"
             ]
            ],
            "type": "histogram2dcontour"
           }
          ],
          "mesh3d": [
           {
            "colorbar": {
             "outlinewidth": 0,
             "ticks": ""
            },
            "type": "mesh3d"
           }
          ],
          "parcoords": [
           {
            "line": {
             "colorbar": {
              "outlinewidth": 0,
              "ticks": ""
             }
            },
            "type": "parcoords"
           }
          ],
          "pie": [
           {
            "automargin": true,
            "type": "pie"
           }
          ],
          "scatter": [
           {
            "fillpattern": {
             "fillmode": "overlay",
             "size": 10,
             "solidity": 0.2
            },
            "type": "scatter"
           }
          ],
          "scatter3d": [
           {
            "line": {
             "colorbar": {
              "outlinewidth": 0,
              "ticks": ""
             }
            },
            "marker": {
             "colorbar": {
              "outlinewidth": 0,
              "ticks": ""
             }
            },
            "type": "scatter3d"
           }
          ],
          "scattercarpet": [
           {
            "marker": {
             "colorbar": {
              "outlinewidth": 0,
              "ticks": ""
             }
            },
            "type": "scattercarpet"
           }
          ],
          "scattergeo": [
           {
            "marker": {
             "colorbar": {
              "outlinewidth": 0,
              "ticks": ""
             }
            },
            "type": "scattergeo"
           }
          ],
          "scattergl": [
           {
            "marker": {
             "colorbar": {
              "outlinewidth": 0,
              "ticks": ""
             }
            },
            "type": "scattergl"
           }
          ],
          "scattermap": [
           {
            "marker": {
             "colorbar": {
              "outlinewidth": 0,
              "ticks": ""
             }
            },
            "type": "scattermap"
           }
          ],
          "scattermapbox": [
           {
            "marker": {
             "colorbar": {
              "outlinewidth": 0,
              "ticks": ""
             }
            },
            "type": "scattermapbox"
           }
          ],
          "scatterpolar": [
           {
            "marker": {
             "colorbar": {
              "outlinewidth": 0,
              "ticks": ""
             }
            },
            "type": "scatterpolar"
           }
          ],
          "scatterpolargl": [
           {
            "marker": {
             "colorbar": {
              "outlinewidth": 0,
              "ticks": ""
             }
            },
            "type": "scatterpolargl"
           }
          ],
          "scatterternary": [
           {
            "marker": {
             "colorbar": {
              "outlinewidth": 0,
              "ticks": ""
             }
            },
            "type": "scatterternary"
           }
          ],
          "surface": [
           {
            "colorbar": {
             "outlinewidth": 0,
             "ticks": ""
            },
            "colorscale": [
             [
              0,
              "#0d0887"
             ],
             [
              0.1111111111111111,
              "#46039f"
             ],
             [
              0.2222222222222222,
              "#7201a8"
             ],
             [
              0.3333333333333333,
              "#9c179e"
             ],
             [
              0.4444444444444444,
              "#bd3786"
             ],
             [
              0.5555555555555556,
              "#d8576b"
             ],
             [
              0.6666666666666666,
              "#ed7953"
             ],
             [
              0.7777777777777778,
              "#fb9f3a"
             ],
             [
              0.8888888888888888,
              "#fdca26"
             ],
             [
              1,
              "#f0f921"
             ]
            ],
            "type": "surface"
           }
          ],
          "table": [
           {
            "cells": {
             "fill": {
              "color": "#EBF0F8"
             },
             "line": {
              "color": "white"
             }
            },
            "header": {
             "fill": {
              "color": "#C8D4E3"
             },
             "line": {
              "color": "white"
             }
            },
            "type": "table"
           }
          ]
         },
         "layout": {
          "annotationdefaults": {
           "arrowcolor": "#2a3f5f",
           "arrowhead": 0,
           "arrowwidth": 1
          },
          "autotypenumbers": "strict",
          "coloraxis": {
           "colorbar": {
            "outlinewidth": 0,
            "ticks": ""
           }
          },
          "colorscale": {
           "diverging": [
            [
             0,
             "#8e0152"
            ],
            [
             0.1,
             "#c51b7d"
            ],
            [
             0.2,
             "#de77ae"
            ],
            [
             0.3,
             "#f1b6da"
            ],
            [
             0.4,
             "#fde0ef"
            ],
            [
             0.5,
             "#f7f7f7"
            ],
            [
             0.6,
             "#e6f5d0"
            ],
            [
             0.7,
             "#b8e186"
            ],
            [
             0.8,
             "#7fbc41"
            ],
            [
             0.9,
             "#4d9221"
            ],
            [
             1,
             "#276419"
            ]
           ],
           "sequential": [
            [
             0,
             "#0d0887"
            ],
            [
             0.1111111111111111,
             "#46039f"
            ],
            [
             0.2222222222222222,
             "#7201a8"
            ],
            [
             0.3333333333333333,
             "#9c179e"
            ],
            [
             0.4444444444444444,
             "#bd3786"
            ],
            [
             0.5555555555555556,
             "#d8576b"
            ],
            [
             0.6666666666666666,
             "#ed7953"
            ],
            [
             0.7777777777777778,
             "#fb9f3a"
            ],
            [
             0.8888888888888888,
             "#fdca26"
            ],
            [
             1,
             "#f0f921"
            ]
           ],
           "sequentialminus": [
            [
             0,
             "#0d0887"
            ],
            [
             0.1111111111111111,
             "#46039f"
            ],
            [
             0.2222222222222222,
             "#7201a8"
            ],
            [
             0.3333333333333333,
             "#9c179e"
            ],
            [
             0.4444444444444444,
             "#bd3786"
            ],
            [
             0.5555555555555556,
             "#d8576b"
            ],
            [
             0.6666666666666666,
             "#ed7953"
            ],
            [
             0.7777777777777778,
             "#fb9f3a"
            ],
            [
             0.8888888888888888,
             "#fdca26"
            ],
            [
             1,
             "#f0f921"
            ]
           ]
          },
          "colorway": [
           "#636efa",
           "#EF553B",
           "#00cc96",
           "#ab63fa",
           "#FFA15A",
           "#19d3f3",
           "#FF6692",
           "#B6E880",
           "#FF97FF",
           "#FECB52"
          ],
          "font": {
           "color": "#2a3f5f"
          },
          "geo": {
           "bgcolor": "white",
           "lakecolor": "white",
           "landcolor": "white",
           "showlakes": true,
           "showland": true,
           "subunitcolor": "#C8D4E3"
          },
          "hoverlabel": {
           "align": "left"
          },
          "hovermode": "closest",
          "mapbox": {
           "style": "light"
          },
          "paper_bgcolor": "white",
          "plot_bgcolor": "white",
          "polar": {
           "angularaxis": {
            "gridcolor": "#EBF0F8",
            "linecolor": "#EBF0F8",
            "ticks": ""
           },
           "bgcolor": "white",
           "radialaxis": {
            "gridcolor": "#EBF0F8",
            "linecolor": "#EBF0F8",
            "ticks": ""
           }
          },
          "scene": {
           "xaxis": {
            "backgroundcolor": "white",
            "gridcolor": "#DFE8F3",
            "gridwidth": 2,
            "linecolor": "#EBF0F8",
            "showbackground": true,
            "ticks": "",
            "zerolinecolor": "#EBF0F8"
           },
           "yaxis": {
            "backgroundcolor": "white",
            "gridcolor": "#DFE8F3",
            "gridwidth": 2,
            "linecolor": "#EBF0F8",
            "showbackground": true,
            "ticks": "",
            "zerolinecolor": "#EBF0F8"
           },
           "zaxis": {
            "backgroundcolor": "white",
            "gridcolor": "#DFE8F3",
            "gridwidth": 2,
            "linecolor": "#EBF0F8",
            "showbackground": true,
            "ticks": "",
            "zerolinecolor": "#EBF0F8"
           }
          },
          "shapedefaults": {
           "line": {
            "color": "#2a3f5f"
           }
          },
          "ternary": {
           "aaxis": {
            "gridcolor": "#DFE8F3",
            "linecolor": "#A2B1C6",
            "ticks": ""
           },
           "baxis": {
            "gridcolor": "#DFE8F3",
            "linecolor": "#A2B1C6",
            "ticks": ""
           },
           "bgcolor": "white",
           "caxis": {
            "gridcolor": "#DFE8F3",
            "linecolor": "#A2B1C6",
            "ticks": ""
           }
          },
          "title": {
           "x": 0.05
          },
          "xaxis": {
           "automargin": true,
           "gridcolor": "#EBF0F8",
           "linecolor": "#EBF0F8",
           "ticks": "",
           "title": {
            "standoff": 15
           },
           "zerolinecolor": "#EBF0F8",
           "zerolinewidth": 2
          },
          "yaxis": {
           "automargin": true,
           "gridcolor": "#EBF0F8",
           "linecolor": "#EBF0F8",
           "ticks": "",
           "title": {
            "standoff": 15
           },
           "zerolinecolor": "#EBF0F8",
           "zerolinewidth": 2
          }
         }
        },
        "title": {
         "text": "Boxplot of RED by Class"
        },
        "xaxis": {
         "anchor": "y",
         "categoryarray": [
          "Rubber monoculture(ID: 15)",
          "Settlement(ID: 16)",
          "Oil palm monoculture(ID: 11)",
          "Water Body(ID: 19)",
          "Acacia plantation(ID: 1)",
          "Rice Field(ID: 13)",
          "Mixed Garden(ID: 10)",
          "Rubber agroforest(ID: 14)",
          "Logged Over Forest Low Density(ID: 8)",
          "Shrub(ID: 17)",
          "Grass(ID: 6)",
          "Logged over swamp forest(ID: 9)",
          "Logged over forest-high density(ID: 7)",
          "Coffee Agroforest(ID: 5)",
          "Coconut monoculture(ID: 4)",
          "Other Crops(ID: 12)",
          "Cleared Land(ID: 3)",
          "Tea plantation(ID: 18)",
          "Cane(ID: 2)"
         ],
         "categoryorder": "array",
         "domain": [
          0,
          1
         ],
         "tickangle": -45,
         "title": {
          "text": "Class"
         }
        },
        "yaxis": {
         "anchor": "x",
         "domain": [
          0,
          1
         ],
         "title": {
          "text": "RED Reflectance"
         }
        }
       }
      }
     },
     "metadata": {},
     "output_type": "display_data"
    },
    {
     "data": {
      "application/vnd.plotly.v1+json": {
       "config": {
        "plotlyServerURL": "https://plot.ly"
       },
       "data": [
        {
         "alignmentgroup": "True",
         "customdata": {
          "bdata": "Dw8PDw8PDw8PDw8PDw8PDw8PDw8PDw8PDw8PDw8PDw8PDw8PDw8PDw8PDw8PDw8PDw8PDw8PDw8PDw8PDw8PDw8PDw8PDw8PDw8PDw8PDw8PDw8PDw8PDw8PDw8PDw8PDw8PDw8PDw8PDw8PDw8PDw8PDw8PDw8PDw8PDw8PDw8PDw8PDw8PDw8PDw8PDw8PDw8PDw8PDw8PDw8PDw8PDw8PDw8PDw8PDw8PDw8PDw8PDw8PDw8PDw8PDw8PDw8PDw8PDw8PDw8PDw8PDw8PDw8PDw8PDw8PDw8PDw8PDw8PDw8PDw8PDw8PDw8PDw8PDw8PDw8PDw8PDw8PDw8PDw8PDw8PDw8PDw8PDw8PDw8PDw8PDw8PDw8PDw8PDw8PDw8PDw8PDw8PDw8PDw8PDw8PDw8PDw8PDw8PDw8PDw8PDw8PDw8PDw8PDw8PDw8PDw8PDw8PDw8PDw8PDw8PDw8PDw8PDw8PDw8PDw8PDw8PDw8PDw8PDw8PDw8PDw8PDw8PDw8PDw8PDw8PDw8PDw8PDw8PDw8PDw8PDw8PDw8PDw8PDw8PDw8PDw8PDw8PDw8PDw8PDw8PDw8PDw8PDw8PDw8PDw8PDw8PDw8PDw8PDw8PDw8PDw8PDw8PDw8PDw8PDw8PDw8PDw8PDw8PDw8PDw8PDw8PDw8PDw8PDw8PDw8PDw8PDw8PDw8PDw8PDw8PDw8PDw8PDw8PDw8PDw8PDw8PDw8PDw8PDw8PDw8PDw8PDw8PDw8PDw8PDw8PDw8PDw8PDw8PDw8PDw8PDw8PDw8PDw8PDw8PDw8PDw8PDw8PDw8PDw8PDw8PDw8PDw8PDw8PDw8PDw8PDw8PDw8PDw8PDw8PDw8PDw8PDw8PDw8PDw8PDw8PDw8PDw8PDw8PDw8PDw8PDw8PDw8PDw8PDw8PDw8PDw8PDw8PDw8PDw8PDw8PDw8PDw8PDw8PDw8P",
          "dtype": "i1",
          "shape": "723, 1"
         },
         "hovertemplate": "<b>%{x}</b><br>NIR: %{y:.4f}<br><extra></extra>",
         "legendgroup": "Rubber monoculture(ID: 15)",
         "marker": {
          "color": "#636efa"
         },
         "name": "Rubber monoculture(ID: 15)",
         "notched": false,
         "offsetgroup": "Rubber monoculture(ID: 15)",
         "orientation": "v",
         "showlegend": true,
         "type": "box",
         "x": [
          "Rubber monoculture(ID: 15)",
          "Rubber monoculture(ID: 15)",
          "Rubber monoculture(ID: 15)",
          "Rubber monoculture(ID: 15)",
          "Rubber monoculture(ID: 15)",
          "Rubber monoculture(ID: 15)",
          "Rubber monoculture(ID: 15)",
          "Rubber monoculture(ID: 15)",
          "Rubber monoculture(ID: 15)",
          "Rubber monoculture(ID: 15)",
          "Rubber monoculture(ID: 15)",
          "Rubber monoculture(ID: 15)",
          "Rubber monoculture(ID: 15)",
          "Rubber monoculture(ID: 15)",
          "Rubber monoculture(ID: 15)",
          "Rubber monoculture(ID: 15)",
          "Rubber monoculture(ID: 15)",
          "Rubber monoculture(ID: 15)",
          "Rubber monoculture(ID: 15)",
          "Rubber monoculture(ID: 15)",
          "Rubber monoculture(ID: 15)",
          "Rubber monoculture(ID: 15)",
          "Rubber monoculture(ID: 15)",
          "Rubber monoculture(ID: 15)",
          "Rubber monoculture(ID: 15)",
          "Rubber monoculture(ID: 15)",
          "Rubber monoculture(ID: 15)",
          "Rubber monoculture(ID: 15)",
          "Rubber monoculture(ID: 15)",
          "Rubber monoculture(ID: 15)",
          "Rubber monoculture(ID: 15)",
          "Rubber monoculture(ID: 15)",
          "Rubber monoculture(ID: 15)",
          "Rubber monoculture(ID: 15)",
          "Rubber monoculture(ID: 15)",
          "Rubber monoculture(ID: 15)",
          "Rubber monoculture(ID: 15)",
          "Rubber monoculture(ID: 15)",
          "Rubber monoculture(ID: 15)",
          "Rubber monoculture(ID: 15)",
          "Rubber monoculture(ID: 15)",
          "Rubber monoculture(ID: 15)",
          "Rubber monoculture(ID: 15)",
          "Rubber monoculture(ID: 15)",
          "Rubber monoculture(ID: 15)",
          "Rubber monoculture(ID: 15)",
          "Rubber monoculture(ID: 15)",
          "Rubber monoculture(ID: 15)",
          "Rubber monoculture(ID: 15)",
          "Rubber monoculture(ID: 15)",
          "Rubber monoculture(ID: 15)",
          "Rubber monoculture(ID: 15)",
          "Rubber monoculture(ID: 15)",
          "Rubber monoculture(ID: 15)",
          "Rubber monoculture(ID: 15)",
          "Rubber monoculture(ID: 15)",
          "Rubber monoculture(ID: 15)",
          "Rubber monoculture(ID: 15)",
          "Rubber monoculture(ID: 15)",
          "Rubber monoculture(ID: 15)",
          "Rubber monoculture(ID: 15)",
          "Rubber monoculture(ID: 15)",
          "Rubber monoculture(ID: 15)",
          "Rubber monoculture(ID: 15)",
          "Rubber monoculture(ID: 15)",
          "Rubber monoculture(ID: 15)",
          "Rubber monoculture(ID: 15)",
          "Rubber monoculture(ID: 15)",
          "Rubber monoculture(ID: 15)",
          "Rubber monoculture(ID: 15)",
          "Rubber monoculture(ID: 15)",
          "Rubber monoculture(ID: 15)",
          "Rubber monoculture(ID: 15)",
          "Rubber monoculture(ID: 15)",
          "Rubber monoculture(ID: 15)",
          "Rubber monoculture(ID: 15)",
          "Rubber monoculture(ID: 15)",
          "Rubber monoculture(ID: 15)",
          "Rubber monoculture(ID: 15)",
          "Rubber monoculture(ID: 15)",
          "Rubber monoculture(ID: 15)",
          "Rubber monoculture(ID: 15)",
          "Rubber monoculture(ID: 15)",
          "Rubber monoculture(ID: 15)",
          "Rubber monoculture(ID: 15)",
          "Rubber monoculture(ID: 15)",
          "Rubber monoculture(ID: 15)",
          "Rubber monoculture(ID: 15)",
          "Rubber monoculture(ID: 15)",
          "Rubber monoculture(ID: 15)",
          "Rubber monoculture(ID: 15)",
          "Rubber monoculture(ID: 15)",
          "Rubber monoculture(ID: 15)",
          "Rubber monoculture(ID: 15)",
          "Rubber monoculture(ID: 15)",
          "Rubber monoculture(ID: 15)",
          "Rubber monoculture(ID: 15)",
          "Rubber monoculture(ID: 15)",
          "Rubber monoculture(ID: 15)",
          "Rubber monoculture(ID: 15)",
          "Rubber monoculture(ID: 15)",
          "Rubber monoculture(ID: 15)",
          "Rubber monoculture(ID: 15)",
          "Rubber monoculture(ID: 15)",
          "Rubber monoculture(ID: 15)",
          "Rubber monoculture(ID: 15)",
          "Rubber monoculture(ID: 15)",
          "Rubber monoculture(ID: 15)",
          "Rubber monoculture(ID: 15)",
          "Rubber monoculture(ID: 15)",
          "Rubber monoculture(ID: 15)",
          "Rubber monoculture(ID: 15)",
          "Rubber monoculture(ID: 15)",
          "Rubber monoculture(ID: 15)",
          "Rubber monoculture(ID: 15)",
          "Rubber monoculture(ID: 15)",
          "Rubber monoculture(ID: 15)",
          "Rubber monoculture(ID: 15)",
          "Rubber monoculture(ID: 15)",
          "Rubber monoculture(ID: 15)",
          "Rubber monoculture(ID: 15)",
          "Rubber monoculture(ID: 15)",
          "Rubber monoculture(ID: 15)",
          "Rubber monoculture(ID: 15)",
          "Rubber monoculture(ID: 15)",
          "Rubber monoculture(ID: 15)",
          "Rubber monoculture(ID: 15)",
          "Rubber monoculture(ID: 15)",
          "Rubber monoculture(ID: 15)",
          "Rubber monoculture(ID: 15)",
          "Rubber monoculture(ID: 15)",
          "Rubber monoculture(ID: 15)",
          "Rubber monoculture(ID: 15)",
          "Rubber monoculture(ID: 15)",
          "Rubber monoculture(ID: 15)",
          "Rubber monoculture(ID: 15)",
          "Rubber monoculture(ID: 15)",
          "Rubber monoculture(ID: 15)",
          "Rubber monoculture(ID: 15)",
          "Rubber monoculture(ID: 15)",
          "Rubber monoculture(ID: 15)",
          "Rubber monoculture(ID: 15)",
          "Rubber monoculture(ID: 15)",
          "Rubber monoculture(ID: 15)",
          "Rubber monoculture(ID: 15)",
          "Rubber monoculture(ID: 15)",
          "Rubber monoculture(ID: 15)",
          "Rubber monoculture(ID: 15)",
          "Rubber monoculture(ID: 15)",
          "Rubber monoculture(ID: 15)",
          "Rubber monoculture(ID: 15)",
          "Rubber monoculture(ID: 15)",
          "Rubber monoculture(ID: 15)",
          "Rubber monoculture(ID: 15)",
          "Rubber monoculture(ID: 15)",
          "Rubber monoculture(ID: 15)",
          "Rubber monoculture(ID: 15)",
          "Rubber monoculture(ID: 15)",
          "Rubber monoculture(ID: 15)",
          "Rubber monoculture(ID: 15)",
          "Rubber monoculture(ID: 15)",
          "Rubber monoculture(ID: 15)",
          "Rubber monoculture(ID: 15)",
          "Rubber monoculture(ID: 15)",
          "Rubber monoculture(ID: 15)",
          "Rubber monoculture(ID: 15)",
          "Rubber monoculture(ID: 15)",
          "Rubber monoculture(ID: 15)",
          "Rubber monoculture(ID: 15)",
          "Rubber monoculture(ID: 15)",
          "Rubber monoculture(ID: 15)",
          "Rubber monoculture(ID: 15)",
          "Rubber monoculture(ID: 15)",
          "Rubber monoculture(ID: 15)",
          "Rubber monoculture(ID: 15)",
          "Rubber monoculture(ID: 15)",
          "Rubber monoculture(ID: 15)",
          "Rubber monoculture(ID: 15)",
          "Rubber monoculture(ID: 15)",
          "Rubber monoculture(ID: 15)",
          "Rubber monoculture(ID: 15)",
          "Rubber monoculture(ID: 15)",
          "Rubber monoculture(ID: 15)",
          "Rubber monoculture(ID: 15)",
          "Rubber monoculture(ID: 15)",
          "Rubber monoculture(ID: 15)",
          "Rubber monoculture(ID: 15)",
          "Rubber monoculture(ID: 15)",
          "Rubber monoculture(ID: 15)",
          "Rubber monoculture(ID: 15)",
          "Rubber monoculture(ID: 15)",
          "Rubber monoculture(ID: 15)",
          "Rubber monoculture(ID: 15)",
          "Rubber monoculture(ID: 15)",
          "Rubber monoculture(ID: 15)",
          "Rubber monoculture(ID: 15)",
          "Rubber monoculture(ID: 15)",
          "Rubber monoculture(ID: 15)",
          "Rubber monoculture(ID: 15)",
          "Rubber monoculture(ID: 15)",
          "Rubber monoculture(ID: 15)",
          "Rubber monoculture(ID: 15)",
          "Rubber monoculture(ID: 15)",
          "Rubber monoculture(ID: 15)",
          "Rubber monoculture(ID: 15)",
          "Rubber monoculture(ID: 15)",
          "Rubber monoculture(ID: 15)",
          "Rubber monoculture(ID: 15)",
          "Rubber monoculture(ID: 15)",
          "Rubber monoculture(ID: 15)",
          "Rubber monoculture(ID: 15)",
          "Rubber monoculture(ID: 15)",
          "Rubber monoculture(ID: 15)",
          "Rubber monoculture(ID: 15)",
          "Rubber monoculture(ID: 15)",
          "Rubber monoculture(ID: 15)",
          "Rubber monoculture(ID: 15)",
          "Rubber monoculture(ID: 15)",
          "Rubber monoculture(ID: 15)",
          "Rubber monoculture(ID: 15)",
          "Rubber monoculture(ID: 15)",
          "Rubber monoculture(ID: 15)",
          "Rubber monoculture(ID: 15)",
          "Rubber monoculture(ID: 15)",
          "Rubber monoculture(ID: 15)",
          "Rubber monoculture(ID: 15)",
          "Rubber monoculture(ID: 15)",
          "Rubber monoculture(ID: 15)",
          "Rubber monoculture(ID: 15)",
          "Rubber monoculture(ID: 15)",
          "Rubber monoculture(ID: 15)",
          "Rubber monoculture(ID: 15)",
          "Rubber monoculture(ID: 15)",
          "Rubber monoculture(ID: 15)",
          "Rubber monoculture(ID: 15)",
          "Rubber monoculture(ID: 15)",
          "Rubber monoculture(ID: 15)",
          "Rubber monoculture(ID: 15)",
          "Rubber monoculture(ID: 15)",
          "Rubber monoculture(ID: 15)",
          "Rubber monoculture(ID: 15)",
          "Rubber monoculture(ID: 15)",
          "Rubber monoculture(ID: 15)",
          "Rubber monoculture(ID: 15)",
          "Rubber monoculture(ID: 15)",
          "Rubber monoculture(ID: 15)",
          "Rubber monoculture(ID: 15)",
          "Rubber monoculture(ID: 15)",
          "Rubber monoculture(ID: 15)",
          "Rubber monoculture(ID: 15)",
          "Rubber monoculture(ID: 15)",
          "Rubber monoculture(ID: 15)",
          "Rubber monoculture(ID: 15)",
          "Rubber monoculture(ID: 15)",
          "Rubber monoculture(ID: 15)",
          "Rubber monoculture(ID: 15)",
          "Rubber monoculture(ID: 15)",
          "Rubber monoculture(ID: 15)",
          "Rubber monoculture(ID: 15)",
          "Rubber monoculture(ID: 15)",
          "Rubber monoculture(ID: 15)",
          "Rubber monoculture(ID: 15)",
          "Rubber monoculture(ID: 15)",
          "Rubber monoculture(ID: 15)",
          "Rubber monoculture(ID: 15)",
          "Rubber monoculture(ID: 15)",
          "Rubber monoculture(ID: 15)",
          "Rubber monoculture(ID: 15)",
          "Rubber monoculture(ID: 15)",
          "Rubber monoculture(ID: 15)",
          "Rubber monoculture(ID: 15)",
          "Rubber monoculture(ID: 15)",
          "Rubber monoculture(ID: 15)",
          "Rubber monoculture(ID: 15)",
          "Rubber monoculture(ID: 15)",
          "Rubber monoculture(ID: 15)",
          "Rubber monoculture(ID: 15)",
          "Rubber monoculture(ID: 15)",
          "Rubber monoculture(ID: 15)",
          "Rubber monoculture(ID: 15)",
          "Rubber monoculture(ID: 15)",
          "Rubber monoculture(ID: 15)",
          "Rubber monoculture(ID: 15)",
          "Rubber monoculture(ID: 15)",
          "Rubber monoculture(ID: 15)",
          "Rubber monoculture(ID: 15)",
          "Rubber monoculture(ID: 15)",
          "Rubber monoculture(ID: 15)",
          "Rubber monoculture(ID: 15)",
          "Rubber monoculture(ID: 15)",
          "Rubber monoculture(ID: 15)",
          "Rubber monoculture(ID: 15)",
          "Rubber monoculture(ID: 15)",
          "Rubber monoculture(ID: 15)",
          "Rubber monoculture(ID: 15)",
          "Rubber monoculture(ID: 15)",
          "Rubber monoculture(ID: 15)",
          "Rubber monoculture(ID: 15)",
          "Rubber monoculture(ID: 15)",
          "Rubber monoculture(ID: 15)",
          "Rubber monoculture(ID: 15)",
          "Rubber monoculture(ID: 15)",
          "Rubber monoculture(ID: 15)",
          "Rubber monoculture(ID: 15)",
          "Rubber monoculture(ID: 15)",
          "Rubber monoculture(ID: 15)",
          "Rubber monoculture(ID: 15)",
          "Rubber monoculture(ID: 15)",
          "Rubber monoculture(ID: 15)",
          "Rubber monoculture(ID: 15)",
          "Rubber monoculture(ID: 15)",
          "Rubber monoculture(ID: 15)",
          "Rubber monoculture(ID: 15)",
          "Rubber monoculture(ID: 15)",
          "Rubber monoculture(ID: 15)",
          "Rubber monoculture(ID: 15)",
          "Rubber monoculture(ID: 15)",
          "Rubber monoculture(ID: 15)",
          "Rubber monoculture(ID: 15)",
          "Rubber monoculture(ID: 15)",
          "Rubber monoculture(ID: 15)",
          "Rubber monoculture(ID: 15)",
          "Rubber monoculture(ID: 15)",
          "Rubber monoculture(ID: 15)",
          "Rubber monoculture(ID: 15)",
          "Rubber monoculture(ID: 15)",
          "Rubber monoculture(ID: 15)",
          "Rubber monoculture(ID: 15)",
          "Rubber monoculture(ID: 15)",
          "Rubber monoculture(ID: 15)",
          "Rubber monoculture(ID: 15)",
          "Rubber monoculture(ID: 15)",
          "Rubber monoculture(ID: 15)",
          "Rubber monoculture(ID: 15)",
          "Rubber monoculture(ID: 15)",
          "Rubber monoculture(ID: 15)",
          "Rubber monoculture(ID: 15)",
          "Rubber monoculture(ID: 15)",
          "Rubber monoculture(ID: 15)",
          "Rubber monoculture(ID: 15)",
          "Rubber monoculture(ID: 15)",
          "Rubber monoculture(ID: 15)",
          "Rubber monoculture(ID: 15)",
          "Rubber monoculture(ID: 15)",
          "Rubber monoculture(ID: 15)",
          "Rubber monoculture(ID: 15)",
          "Rubber monoculture(ID: 15)",
          "Rubber monoculture(ID: 15)",
          "Rubber monoculture(ID: 15)",
          "Rubber monoculture(ID: 15)",
          "Rubber monoculture(ID: 15)",
          "Rubber monoculture(ID: 15)",
          "Rubber monoculture(ID: 15)",
          "Rubber monoculture(ID: 15)",
          "Rubber monoculture(ID: 15)",
          "Rubber monoculture(ID: 15)",
          "Rubber monoculture(ID: 15)",
          "Rubber monoculture(ID: 15)",
          "Rubber monoculture(ID: 15)",
          "Rubber monoculture(ID: 15)",
          "Rubber monoculture(ID: 15)",
          "Rubber monoculture(ID: 15)",
          "Rubber monoculture(ID: 15)",
          "Rubber monoculture(ID: 15)",
          "Rubber monoculture(ID: 15)",
          "Rubber monoculture(ID: 15)",
          "Rubber monoculture(ID: 15)",
          "Rubber monoculture(ID: 15)",
          "Rubber monoculture(ID: 15)",
          "Rubber monoculture(ID: 15)",
          "Rubber monoculture(ID: 15)",
          "Rubber monoculture(ID: 15)",
          "Rubber monoculture(ID: 15)",
          "Rubber monoculture(ID: 15)",
          "Rubber monoculture(ID: 15)",
          "Rubber monoculture(ID: 15)",
          "Rubber monoculture(ID: 15)",
          "Rubber monoculture(ID: 15)",
          "Rubber monoculture(ID: 15)",
          "Rubber monoculture(ID: 15)",
          "Rubber monoculture(ID: 15)",
          "Rubber monoculture(ID: 15)",
          "Rubber monoculture(ID: 15)",
          "Rubber monoculture(ID: 15)",
          "Rubber monoculture(ID: 15)",
          "Rubber monoculture(ID: 15)",
          "Rubber monoculture(ID: 15)",
          "Rubber monoculture(ID: 15)",
          "Rubber monoculture(ID: 15)",
          "Rubber monoculture(ID: 15)",
          "Rubber monoculture(ID: 15)",
          "Rubber monoculture(ID: 15)",
          "Rubber monoculture(ID: 15)",
          "Rubber monoculture(ID: 15)",
          "Rubber monoculture(ID: 15)",
          "Rubber monoculture(ID: 15)",
          "Rubber monoculture(ID: 15)",
          "Rubber monoculture(ID: 15)",
          "Rubber monoculture(ID: 15)",
          "Rubber monoculture(ID: 15)",
          "Rubber monoculture(ID: 15)",
          "Rubber monoculture(ID: 15)",
          "Rubber monoculture(ID: 15)",
          "Rubber monoculture(ID: 15)",
          "Rubber monoculture(ID: 15)",
          "Rubber monoculture(ID: 15)",
          "Rubber monoculture(ID: 15)",
          "Rubber monoculture(ID: 15)",
          "Rubber monoculture(ID: 15)",
          "Rubber monoculture(ID: 15)",
          "Rubber monoculture(ID: 15)",
          "Rubber monoculture(ID: 15)",
          "Rubber monoculture(ID: 15)",
          "Rubber monoculture(ID: 15)",
          "Rubber monoculture(ID: 15)",
          "Rubber monoculture(ID: 15)",
          "Rubber monoculture(ID: 15)",
          "Rubber monoculture(ID: 15)",
          "Rubber monoculture(ID: 15)",
          "Rubber monoculture(ID: 15)",
          "Rubber monoculture(ID: 15)",
          "Rubber monoculture(ID: 15)",
          "Rubber monoculture(ID: 15)",
          "Rubber monoculture(ID: 15)",
          "Rubber monoculture(ID: 15)",
          "Rubber monoculture(ID: 15)",
          "Rubber monoculture(ID: 15)",
          "Rubber monoculture(ID: 15)",
          "Rubber monoculture(ID: 15)",
          "Rubber monoculture(ID: 15)",
          "Rubber monoculture(ID: 15)",
          "Rubber monoculture(ID: 15)",
          "Rubber monoculture(ID: 15)",
          "Rubber monoculture(ID: 15)",
          "Rubber monoculture(ID: 15)",
          "Rubber monoculture(ID: 15)",
          "Rubber monoculture(ID: 15)",
          "Rubber monoculture(ID: 15)",
          "Rubber monoculture(ID: 15)",
          "Rubber monoculture(ID: 15)",
          "Rubber monoculture(ID: 15)",
          "Rubber monoculture(ID: 15)",
          "Rubber monoculture(ID: 15)",
          "Rubber monoculture(ID: 15)",
          "Rubber monoculture(ID: 15)",
          "Rubber monoculture(ID: 15)",
          "Rubber monoculture(ID: 15)",
          "Rubber monoculture(ID: 15)",
          "Rubber monoculture(ID: 15)",
          "Rubber monoculture(ID: 15)",
          "Rubber monoculture(ID: 15)",
          "Rubber monoculture(ID: 15)",
          "Rubber monoculture(ID: 15)",
          "Rubber monoculture(ID: 15)",
          "Rubber monoculture(ID: 15)",
          "Rubber monoculture(ID: 15)",
          "Rubber monoculture(ID: 15)",
          "Rubber monoculture(ID: 15)",
          "Rubber monoculture(ID: 15)",
          "Rubber monoculture(ID: 15)",
          "Rubber monoculture(ID: 15)",
          "Rubber monoculture(ID: 15)",
          "Rubber monoculture(ID: 15)",
          "Rubber monoculture(ID: 15)",
          "Rubber monoculture(ID: 15)",
          "Rubber monoculture(ID: 15)",
          "Rubber monoculture(ID: 15)",
          "Rubber monoculture(ID: 15)",
          "Rubber monoculture(ID: 15)",
          "Rubber monoculture(ID: 15)",
          "Rubber monoculture(ID: 15)",
          "Rubber monoculture(ID: 15)",
          "Rubber monoculture(ID: 15)",
          "Rubber monoculture(ID: 15)",
          "Rubber monoculture(ID: 15)",
          "Rubber monoculture(ID: 15)",
          "Rubber monoculture(ID: 15)",
          "Rubber monoculture(ID: 15)",
          "Rubber monoculture(ID: 15)",
          "Rubber monoculture(ID: 15)",
          "Rubber monoculture(ID: 15)",
          "Rubber monoculture(ID: 15)",
          "Rubber monoculture(ID: 15)",
          "Rubber monoculture(ID: 15)",
          "Rubber monoculture(ID: 15)",
          "Rubber monoculture(ID: 15)",
          "Rubber monoculture(ID: 15)",
          "Rubber monoculture(ID: 15)",
          "Rubber monoculture(ID: 15)",
          "Rubber monoculture(ID: 15)",
          "Rubber monoculture(ID: 15)",
          "Rubber monoculture(ID: 15)",
          "Rubber monoculture(ID: 15)",
          "Rubber monoculture(ID: 15)",
          "Rubber monoculture(ID: 15)",
          "Rubber monoculture(ID: 15)",
          "Rubber monoculture(ID: 15)",
          "Rubber monoculture(ID: 15)",
          "Rubber monoculture(ID: 15)",
          "Rubber monoculture(ID: 15)",
          "Rubber monoculture(ID: 15)",
          "Rubber monoculture(ID: 15)",
          "Rubber monoculture(ID: 15)",
          "Rubber monoculture(ID: 15)",
          "Rubber monoculture(ID: 15)",
          "Rubber monoculture(ID: 15)",
          "Rubber monoculture(ID: 15)",
          "Rubber monoculture(ID: 15)",
          "Rubber monoculture(ID: 15)",
          "Rubber monoculture(ID: 15)",
          "Rubber monoculture(ID: 15)",
          "Rubber monoculture(ID: 15)",
          "Rubber monoculture(ID: 15)",
          "Rubber monoculture(ID: 15)",
          "Rubber monoculture(ID: 15)",
          "Rubber monoculture(ID: 15)",
          "Rubber monoculture(ID: 15)",
          "Rubber monoculture(ID: 15)",
          "Rubber monoculture(ID: 15)",
          "Rubber monoculture(ID: 15)",
          "Rubber monoculture(ID: 15)",
          "Rubber monoculture(ID: 15)",
          "Rubber monoculture(ID: 15)",
          "Rubber monoculture(ID: 15)",
          "Rubber monoculture(ID: 15)",
          "Rubber monoculture(ID: 15)",
          "Rubber monoculture(ID: 15)",
          "Rubber monoculture(ID: 15)",
          "Rubber monoculture(ID: 15)",
          "Rubber monoculture(ID: 15)",
          "Rubber monoculture(ID: 15)",
          "Rubber monoculture(ID: 15)",
          "Rubber monoculture(ID: 15)",
          "Rubber monoculture(ID: 15)",
          "Rubber monoculture(ID: 15)",
          "Rubber monoculture(ID: 15)",
          "Rubber monoculture(ID: 15)",
          "Rubber monoculture(ID: 15)",
          "Rubber monoculture(ID: 15)",
          "Rubber monoculture(ID: 15)",
          "Rubber monoculture(ID: 15)",
          "Rubber monoculture(ID: 15)",
          "Rubber monoculture(ID: 15)",
          "Rubber monoculture(ID: 15)",
          "Rubber monoculture(ID: 15)",
          "Rubber monoculture(ID: 15)",
          "Rubber monoculture(ID: 15)",
          "Rubber monoculture(ID: 15)",
          "Rubber monoculture(ID: 15)",
          "Rubber monoculture(ID: 15)",
          "Rubber monoculture(ID: 15)",
          "Rubber monoculture(ID: 15)",
          "Rubber monoculture(ID: 15)",
          "Rubber monoculture(ID: 15)",
          "Rubber monoculture(ID: 15)",
          "Rubber monoculture(ID: 15)",
          "Rubber monoculture(ID: 15)",
          "Rubber monoculture(ID: 15)",
          "Rubber monoculture(ID: 15)",
          "Rubber monoculture(ID: 15)",
          "Rubber monoculture(ID: 15)",
          "Rubber monoculture(ID: 15)",
          "Rubber monoculture(ID: 15)",
          "Rubber monoculture(ID: 15)",
          "Rubber monoculture(ID: 15)",
          "Rubber monoculture(ID: 15)",
          "Rubber monoculture(ID: 15)",
          "Rubber monoculture(ID: 15)",
          "Rubber monoculture(ID: 15)",
          "Rubber monoculture(ID: 15)",
          "Rubber monoculture(ID: 15)",
          "Rubber monoculture(ID: 15)",
          "Rubber monoculture(ID: 15)",
          "Rubber monoculture(ID: 15)",
          "Rubber monoculture(ID: 15)",
          "Rubber monoculture(ID: 15)",
          "Rubber monoculture(ID: 15)",
          "Rubber monoculture(ID: 15)",
          "Rubber monoculture(ID: 15)",
          "Rubber monoculture(ID: 15)",
          "Rubber monoculture(ID: 15)",
          "Rubber monoculture(ID: 15)",
          "Rubber monoculture(ID: 15)",
          "Rubber monoculture(ID: 15)",
          "Rubber monoculture(ID: 15)",
          "Rubber monoculture(ID: 15)",
          "Rubber monoculture(ID: 15)",
          "Rubber monoculture(ID: 15)",
          "Rubber monoculture(ID: 15)",
          "Rubber monoculture(ID: 15)",
          "Rubber monoculture(ID: 15)",
          "Rubber monoculture(ID: 15)",
          "Rubber monoculture(ID: 15)",
          "Rubber monoculture(ID: 15)",
          "Rubber monoculture(ID: 15)",
          "Rubber monoculture(ID: 15)",
          "Rubber monoculture(ID: 15)",
          "Rubber monoculture(ID: 15)",
          "Rubber monoculture(ID: 15)",
          "Rubber monoculture(ID: 15)",
          "Rubber monoculture(ID: 15)",
          "Rubber monoculture(ID: 15)",
          "Rubber monoculture(ID: 15)",
          "Rubber monoculture(ID: 15)",
          "Rubber monoculture(ID: 15)",
          "Rubber monoculture(ID: 15)",
          "Rubber monoculture(ID: 15)",
          "Rubber monoculture(ID: 15)",
          "Rubber monoculture(ID: 15)",
          "Rubber monoculture(ID: 15)",
          "Rubber monoculture(ID: 15)",
          "Rubber monoculture(ID: 15)",
          "Rubber monoculture(ID: 15)",
          "Rubber monoculture(ID: 15)",
          "Rubber monoculture(ID: 15)",
          "Rubber monoculture(ID: 15)",
          "Rubber monoculture(ID: 15)",
          "Rubber monoculture(ID: 15)",
          "Rubber monoculture(ID: 15)",
          "Rubber monoculture(ID: 15)",
          "Rubber monoculture(ID: 15)",
          "Rubber monoculture(ID: 15)",
          "Rubber monoculture(ID: 15)",
          "Rubber monoculture(ID: 15)",
          "Rubber monoculture(ID: 15)",
          "Rubber monoculture(ID: 15)",
          "Rubber monoculture(ID: 15)",
          "Rubber monoculture(ID: 15)",
          "Rubber monoculture(ID: 15)",
          "Rubber monoculture(ID: 15)",
          "Rubber monoculture(ID: 15)",
          "Rubber monoculture(ID: 15)",
          "Rubber monoculture(ID: 15)",
          "Rubber monoculture(ID: 15)",
          "Rubber monoculture(ID: 15)",
          "Rubber monoculture(ID: 15)",
          "Rubber monoculture(ID: 15)",
          "Rubber monoculture(ID: 15)",
          "Rubber monoculture(ID: 15)",
          "Rubber monoculture(ID: 15)",
          "Rubber monoculture(ID: 15)",
          "Rubber monoculture(ID: 15)",
          "Rubber monoculture(ID: 15)",
          "Rubber monoculture(ID: 15)",
          "Rubber monoculture(ID: 15)",
          "Rubber monoculture(ID: 15)",
          "Rubber monoculture(ID: 15)",
          "Rubber monoculture(ID: 15)",
          "Rubber monoculture(ID: 15)",
          "Rubber monoculture(ID: 15)",
          "Rubber monoculture(ID: 15)",
          "Rubber monoculture(ID: 15)",
          "Rubber monoculture(ID: 15)",
          "Rubber monoculture(ID: 15)",
          "Rubber monoculture(ID: 15)",
          "Rubber monoculture(ID: 15)",
          "Rubber monoculture(ID: 15)",
          "Rubber monoculture(ID: 15)",
          "Rubber monoculture(ID: 15)",
          "Rubber monoculture(ID: 15)",
          "Rubber monoculture(ID: 15)",
          "Rubber monoculture(ID: 15)",
          "Rubber monoculture(ID: 15)",
          "Rubber monoculture(ID: 15)",
          "Rubber monoculture(ID: 15)",
          "Rubber monoculture(ID: 15)",
          "Rubber monoculture(ID: 15)",
          "Rubber monoculture(ID: 15)",
          "Rubber monoculture(ID: 15)",
          "Rubber monoculture(ID: 15)",
          "Rubber monoculture(ID: 15)",
          "Rubber monoculture(ID: 15)",
          "Rubber monoculture(ID: 15)",
          "Rubber monoculture(ID: 15)",
          "Rubber monoculture(ID: 15)",
          "Rubber monoculture(ID: 15)",
          "Rubber monoculture(ID: 15)",
          "Rubber monoculture(ID: 15)",
          "Rubber monoculture(ID: 15)",
          "Rubber monoculture(ID: 15)",
          "Rubber monoculture(ID: 15)",
          "Rubber monoculture(ID: 15)",
          "Rubber monoculture(ID: 15)",
          "Rubber monoculture(ID: 15)",
          "Rubber monoculture(ID: 15)",
          "Rubber monoculture(ID: 15)",
          "Rubber monoculture(ID: 15)",
          "Rubber monoculture(ID: 15)",
          "Rubber monoculture(ID: 15)",
          "Rubber monoculture(ID: 15)",
          "Rubber monoculture(ID: 15)",
          "Rubber monoculture(ID: 15)",
          "Rubber monoculture(ID: 15)",
          "Rubber monoculture(ID: 15)",
          "Rubber monoculture(ID: 15)",
          "Rubber monoculture(ID: 15)",
          "Rubber monoculture(ID: 15)",
          "Rubber monoculture(ID: 15)",
          "Rubber monoculture(ID: 15)",
          "Rubber monoculture(ID: 15)",
          "Rubber monoculture(ID: 15)",
          "Rubber monoculture(ID: 15)",
          "Rubber monoculture(ID: 15)",
          "Rubber monoculture(ID: 15)",
          "Rubber monoculture(ID: 15)",
          "Rubber monoculture(ID: 15)",
          "Rubber monoculture(ID: 15)",
          "Rubber monoculture(ID: 15)",
          "Rubber monoculture(ID: 15)",
          "Rubber monoculture(ID: 15)",
          "Rubber monoculture(ID: 15)",
          "Rubber monoculture(ID: 15)",
          "Rubber monoculture(ID: 15)",
          "Rubber monoculture(ID: 15)",
          "Rubber monoculture(ID: 15)",
          "Rubber monoculture(ID: 15)",
          "Rubber monoculture(ID: 15)",
          "Rubber monoculture(ID: 15)",
          "Rubber monoculture(ID: 15)",
          "Rubber monoculture(ID: 15)",
          "Rubber monoculture(ID: 15)",
          "Rubber monoculture(ID: 15)",
          "Rubber monoculture(ID: 15)"
         ],
         "x0": " ",
         "xaxis": "x",
         "y": {
          "bdata": "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",
          "dtype": "f8"
         },
         "y0": " ",
         "yaxis": "y"
        },
        {
         "alignmentgroup": "True",
         "customdata": {
          "bdata": "EBAQEBAQEBAQEBAQEBAQEBAQEBAQEBAQEBAQEBAQEBAQEBAQEBAQEBAQEBAQEBAQEBAQEBAQEBAQEBAQEBAQEBAQEBAQEBAQEBAQEBAQEBAQEBAQEBAQEBAQEBAQEBAQEBAQEBAQEBAQEBAQEBAQEBAQEBAQEBAQEBAQEBAQEBAQEBAQEBAQEBAQEBAQEBAQEBAQEBAQEBAQEBAQEBAQEBAQEBAQEBAQEBAQEBAQEBAQEBAQEBAQEBAQEBAQEBAQEBA=",
          "dtype": "i1",
          "shape": "194, 1"
         },
         "hovertemplate": "<b>%{x}</b><br>NIR: %{y:.4f}<br><extra></extra>",
         "legendgroup": "Settlement(ID: 16)",
         "marker": {
          "color": "#EF553B"
         },
         "name": "Settlement(ID: 16)",
         "notched": false,
         "offsetgroup": "Settlement(ID: 16)",
         "orientation": "v",
         "showlegend": true,
         "type": "box",
         "x": [
          "Settlement(ID: 16)",
          "Settlement(ID: 16)",
          "Settlement(ID: 16)",
          "Settlement(ID: 16)",
          "Settlement(ID: 16)",
          "Settlement(ID: 16)",
          "Settlement(ID: 16)",
          "Settlement(ID: 16)",
          "Settlement(ID: 16)",
          "Settlement(ID: 16)",
          "Settlement(ID: 16)",
          "Settlement(ID: 16)",
          "Settlement(ID: 16)",
          "Settlement(ID: 16)",
          "Settlement(ID: 16)",
          "Settlement(ID: 16)",
          "Settlement(ID: 16)",
          "Settlement(ID: 16)",
          "Settlement(ID: 16)",
          "Settlement(ID: 16)",
          "Settlement(ID: 16)",
          "Settlement(ID: 16)",
          "Settlement(ID: 16)",
          "Settlement(ID: 16)",
          "Settlement(ID: 16)",
          "Settlement(ID: 16)",
          "Settlement(ID: 16)",
          "Settlement(ID: 16)",
          "Settlement(ID: 16)",
          "Settlement(ID: 16)",
          "Settlement(ID: 16)",
          "Settlement(ID: 16)",
          "Settlement(ID: 16)",
          "Settlement(ID: 16)",
          "Settlement(ID: 16)",
          "Settlement(ID: 16)",
          "Settlement(ID: 16)",
          "Settlement(ID: 16)",
          "Settlement(ID: 16)",
          "Settlement(ID: 16)",
          "Settlement(ID: 16)",
          "Settlement(ID: 16)",
          "Settlement(ID: 16)",
          "Settlement(ID: 16)",
          "Settlement(ID: 16)",
          "Settlement(ID: 16)",
          "Settlement(ID: 16)",
          "Settlement(ID: 16)",
          "Settlement(ID: 16)",
          "Settlement(ID: 16)",
          "Settlement(ID: 16)",
          "Settlement(ID: 16)",
          "Settlement(ID: 16)",
          "Settlement(ID: 16)",
          "Settlement(ID: 16)",
          "Settlement(ID: 16)",
          "Settlement(ID: 16)",
          "Settlement(ID: 16)",
          "Settlement(ID: 16)",
          "Settlement(ID: 16)",
          "Settlement(ID: 16)",
          "Settlement(ID: 16)",
          "Settlement(ID: 16)",
          "Settlement(ID: 16)",
          "Settlement(ID: 16)",
          "Settlement(ID: 16)",
          "Settlement(ID: 16)",
          "Settlement(ID: 16)",
          "Settlement(ID: 16)",
          "Settlement(ID: 16)",
          "Settlement(ID: 16)",
          "Settlement(ID: 16)",
          "Settlement(ID: 16)",
          "Settlement(ID: 16)",
          "Settlement(ID: 16)",
          "Settlement(ID: 16)",
          "Settlement(ID: 16)",
          "Settlement(ID: 16)",
          "Settlement(ID: 16)",
          "Settlement(ID: 16)",
          "Settlement(ID: 16)",
          "Settlement(ID: 16)",
          "Settlement(ID: 16)",
          "Settlement(ID: 16)",
          "Settlement(ID: 16)",
          "Settlement(ID: 16)",
          "Settlement(ID: 16)",
          "Settlement(ID: 16)",
          "Settlement(ID: 16)",
          "Settlement(ID: 16)",
          "Settlement(ID: 16)",
          "Settlement(ID: 16)",
          "Settlement(ID: 16)",
          "Settlement(ID: 16)",
          "Settlement(ID: 16)",
          "Settlement(ID: 16)",
          "Settlement(ID: 16)",
          "Settlement(ID: 16)",
          "Settlement(ID: 16)",
          "Settlement(ID: 16)",
          "Settlement(ID: 16)",
          "Settlement(ID: 16)",
          "Settlement(ID: 16)",
          "Settlement(ID: 16)",
          "Settlement(ID: 16)",
          "Settlement(ID: 16)",
          "Settlement(ID: 16)",
          "Settlement(ID: 16)",
          "Settlement(ID: 16)",
          "Settlement(ID: 16)",
          "Settlement(ID: 16)",
          "Settlement(ID: 16)",
          "Settlement(ID: 16)",
          "Settlement(ID: 16)",
          "Settlement(ID: 16)",
          "Settlement(ID: 16)",
          "Settlement(ID: 16)",
          "Settlement(ID: 16)",
          "Settlement(ID: 16)",
          "Settlement(ID: 16)",
          "Settlement(ID: 16)",
          "Settlement(ID: 16)",
          "Settlement(ID: 16)",
          "Settlement(ID: 16)",
          "Settlement(ID: 16)",
          "Settlement(ID: 16)",
          "Settlement(ID: 16)",
          "Settlement(ID: 16)",
          "Settlement(ID: 16)",
          "Settlement(ID: 16)",
          "Settlement(ID: 16)",
          "Settlement(ID: 16)",
          "Settlement(ID: 16)",
          "Settlement(ID: 16)",
          "Settlement(ID: 16)",
          "Settlement(ID: 16)",
          "Settlement(ID: 16)",
          "Settlement(ID: 16)",
          "Settlement(ID: 16)",
          "Settlement(ID: 16)",
          "Settlement(ID: 16)",
          "Settlement(ID: 16)",
          "Settlement(ID: 16)",
          "Settlement(ID: 16)",
          "Settlement(ID: 16)",
          "Settlement(ID: 16)",
          "Settlement(ID: 16)",
          "Settlement(ID: 16)",
          "Settlement(ID: 16)",
          "Settlement(ID: 16)",
          "Settlement(ID: 16)",
          "Settlement(ID: 16)",
          "Settlement(ID: 16)",
          "Settlement(ID: 16)",
          "Settlement(ID: 16)",
          "Settlement(ID: 16)",
          "Settlement(ID: 16)",
          "Settlement(ID: 16)",
          "Settlement(ID: 16)",
          "Settlement(ID: 16)",
          "Settlement(ID: 16)",
          "Settlement(ID: 16)",
          "Settlement(ID: 16)",
          "Settlement(ID: 16)",
          "Settlement(ID: 16)",
          "Settlement(ID: 16)",
          "Settlement(ID: 16)",
          "Settlement(ID: 16)",
          "Settlement(ID: 16)",
          "Settlement(ID: 16)",
          "Settlement(ID: 16)",
          "Settlement(ID: 16)",
          "Settlement(ID: 16)",
          "Settlement(ID: 16)",
          "Settlement(ID: 16)",
          "Settlement(ID: 16)",
          "Settlement(ID: 16)",
          "Settlement(ID: 16)",
          "Settlement(ID: 16)",
          "Settlement(ID: 16)",
          "Settlement(ID: 16)",
          "Settlement(ID: 16)",
          "Settlement(ID: 16)",
          "Settlement(ID: 16)",
          "Settlement(ID: 16)",
          "Settlement(ID: 16)",
          "Settlement(ID: 16)",
          "Settlement(ID: 16)",
          "Settlement(ID: 16)",
          "Settlement(ID: 16)",
          "Settlement(ID: 16)",
          "Settlement(ID: 16)",
          "Settlement(ID: 16)",
          "Settlement(ID: 16)"
         ],
         "x0": " ",
         "xaxis": "x",
         "y": {
          "bdata": "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",
          "dtype": "f8"
         },
         "y0": " ",
         "yaxis": "y"
        },
        {
         "alignmentgroup": "True",
         "customdata": {
          "bdata": "CwsLCwsLCwsLCwsLCwsLCwsLCwsLCwsLCwsLCwsLCwsLCwsLCwsLCwsLCwsLCwsLCwsLCwsLCwsLCwsLCwsLCwsLCwsLCwsLCwsLCwsLCwsLCwsLCwsLCwsLCwsLCwsLCwsLCwsLCwsLCwsLCwsLCwsLCwsLCwsLCwsLCwsLCwsLCwsLCwsLCwsLCwsLCwsLCwsLCwsLCwsLCwsLCwsLCwsLCwsLCwsLCwsLCwsLCwsLCwsLCwsLCwsLCwsLCwsLCwsLCwsLCwsLCwsLCwsLCwsLCwsLCwsLCwsLCwsLCwsLCwsLCwsLCwsLCwsLCwsLCw==",
          "dtype": "i1",
          "shape": "241, 1"
         },
         "hovertemplate": "<b>%{x}</b><br>NIR: %{y:.4f}<br><extra></extra>",
         "legendgroup": "Oil palm monoculture(ID: 11)",
         "marker": {
          "color": "#00cc96"
         },
         "name": "Oil palm monoculture(ID: 11)",
         "notched": false,
         "offsetgroup": "Oil palm monoculture(ID: 11)",
         "orientation": "v",
         "showlegend": true,
         "type": "box",
         "x": [
          "Oil palm monoculture(ID: 11)",
          "Oil palm monoculture(ID: 11)",
          "Oil palm monoculture(ID: 11)",
          "Oil palm monoculture(ID: 11)",
          "Oil palm monoculture(ID: 11)",
          "Oil palm monoculture(ID: 11)",
          "Oil palm monoculture(ID: 11)",
          "Oil palm monoculture(ID: 11)",
          "Oil palm monoculture(ID: 11)",
          "Oil palm monoculture(ID: 11)",
          "Oil palm monoculture(ID: 11)",
          "Oil palm monoculture(ID: 11)",
          "Oil palm monoculture(ID: 11)",
          "Oil palm monoculture(ID: 11)",
          "Oil palm monoculture(ID: 11)",
          "Oil palm monoculture(ID: 11)",
          "Oil palm monoculture(ID: 11)",
          "Oil palm monoculture(ID: 11)",
          "Oil palm monoculture(ID: 11)",
          "Oil palm monoculture(ID: 11)",
          "Oil palm monoculture(ID: 11)",
          "Oil palm monoculture(ID: 11)",
          "Oil palm monoculture(ID: 11)",
          "Oil palm monoculture(ID: 11)",
          "Oil palm monoculture(ID: 11)",
          "Oil palm monoculture(ID: 11)",
          "Oil palm monoculture(ID: 11)",
          "Oil palm monoculture(ID: 11)",
          "Oil palm monoculture(ID: 11)",
          "Oil palm monoculture(ID: 11)",
          "Oil palm monoculture(ID: 11)",
          "Oil palm monoculture(ID: 11)",
          "Oil palm monoculture(ID: 11)",
          "Oil palm monoculture(ID: 11)",
          "Oil palm monoculture(ID: 11)",
          "Oil palm monoculture(ID: 11)",
          "Oil palm monoculture(ID: 11)",
          "Oil palm monoculture(ID: 11)",
          "Oil palm monoculture(ID: 11)",
          "Oil palm monoculture(ID: 11)",
          "Oil palm monoculture(ID: 11)",
          "Oil palm monoculture(ID: 11)",
          "Oil palm monoculture(ID: 11)",
          "Oil palm monoculture(ID: 11)",
          "Oil palm monoculture(ID: 11)",
          "Oil palm monoculture(ID: 11)",
          "Oil palm monoculture(ID: 11)",
          "Oil palm monoculture(ID: 11)",
          "Oil palm monoculture(ID: 11)",
          "Oil palm monoculture(ID: 11)",
          "Oil palm monoculture(ID: 11)",
          "Oil palm monoculture(ID: 11)",
          "Oil palm monoculture(ID: 11)",
          "Oil palm monoculture(ID: 11)",
          "Oil palm monoculture(ID: 11)",
          "Oil palm monoculture(ID: 11)",
          "Oil palm monoculture(ID: 11)",
          "Oil palm monoculture(ID: 11)",
          "Oil palm monoculture(ID: 11)",
          "Oil palm monoculture(ID: 11)",
          "Oil palm monoculture(ID: 11)",
          "Oil palm monoculture(ID: 11)",
          "Oil palm monoculture(ID: 11)",
          "Oil palm monoculture(ID: 11)",
          "Oil palm monoculture(ID: 11)",
          "Oil palm monoculture(ID: 11)",
          "Oil palm monoculture(ID: 11)",
          "Oil palm monoculture(ID: 11)",
          "Oil palm monoculture(ID: 11)",
          "Oil palm monoculture(ID: 11)",
          "Oil palm monoculture(ID: 11)",
          "Oil palm monoculture(ID: 11)",
          "Oil palm monoculture(ID: 11)",
          "Oil palm monoculture(ID: 11)",
          "Oil palm monoculture(ID: 11)",
          "Oil palm monoculture(ID: 11)",
          "Oil palm monoculture(ID: 11)",
          "Oil palm monoculture(ID: 11)",
          "Oil palm monoculture(ID: 11)",
          "Oil palm monoculture(ID: 11)",
          "Oil palm monoculture(ID: 11)",
          "Oil palm monoculture(ID: 11)",
          "Oil palm monoculture(ID: 11)",
          "Oil palm monoculture(ID: 11)",
          "Oil palm monoculture(ID: 11)",
          "Oil palm monoculture(ID: 11)",
          "Oil palm monoculture(ID: 11)",
          "Oil palm monoculture(ID: 11)",
          "Oil palm monoculture(ID: 11)",
          "Oil palm monoculture(ID: 11)",
          "Oil palm monoculture(ID: 11)",
          "Oil palm monoculture(ID: 11)",
          "Oil palm monoculture(ID: 11)",
          "Oil palm monoculture(ID: 11)",
          "Oil palm monoculture(ID: 11)",
          "Oil palm monoculture(ID: 11)",
          "Oil palm monoculture(ID: 11)",
          "Oil palm monoculture(ID: 11)",
          "Oil palm monoculture(ID: 11)",
          "Oil palm monoculture(ID: 11)",
          "Oil palm monoculture(ID: 11)",
          "Oil palm monoculture(ID: 11)",
          "Oil palm monoculture(ID: 11)",
          "Oil palm monoculture(ID: 11)",
          "Oil palm monoculture(ID: 11)",
          "Oil palm monoculture(ID: 11)",
          "Oil palm monoculture(ID: 11)",
          "Oil palm monoculture(ID: 11)",
          "Oil palm monoculture(ID: 11)",
          "Oil palm monoculture(ID: 11)",
          "Oil palm monoculture(ID: 11)",
          "Oil palm monoculture(ID: 11)",
          "Oil palm monoculture(ID: 11)",
          "Oil palm monoculture(ID: 11)",
          "Oil palm monoculture(ID: 11)",
          "Oil palm monoculture(ID: 11)",
          "Oil palm monoculture(ID: 11)",
          "Oil palm monoculture(ID: 11)",
          "Oil palm monoculture(ID: 11)",
          "Oil palm monoculture(ID: 11)",
          "Oil palm monoculture(ID: 11)",
          "Oil palm monoculture(ID: 11)",
          "Oil palm monoculture(ID: 11)",
          "Oil palm monoculture(ID: 11)",
          "Oil palm monoculture(ID: 11)",
          "Oil palm monoculture(ID: 11)",
          "Oil palm monoculture(ID: 11)",
          "Oil palm monoculture(ID: 11)",
          "Oil palm monoculture(ID: 11)",
          "Oil palm monoculture(ID: 11)",
          "Oil palm monoculture(ID: 11)",
          "Oil palm monoculture(ID: 11)",
          "Oil palm monoculture(ID: 11)",
          "Oil palm monoculture(ID: 11)",
          "Oil palm monoculture(ID: 11)",
          "Oil palm monoculture(ID: 11)",
          "Oil palm monoculture(ID: 11)",
          "Oil palm monoculture(ID: 11)",
          "Oil palm monoculture(ID: 11)",
          "Oil palm monoculture(ID: 11)",
          "Oil palm monoculture(ID: 11)",
          "Oil palm monoculture(ID: 11)",
          "Oil palm monoculture(ID: 11)",
          "Oil palm monoculture(ID: 11)",
          "Oil palm monoculture(ID: 11)",
          "Oil palm monoculture(ID: 11)",
          "Oil palm monoculture(ID: 11)",
          "Oil palm monoculture(ID: 11)",
          "Oil palm monoculture(ID: 11)",
          "Oil palm monoculture(ID: 11)",
          "Oil palm monoculture(ID: 11)",
          "Oil palm monoculture(ID: 11)",
          "Oil palm monoculture(ID: 11)",
          "Oil palm monoculture(ID: 11)",
          "Oil palm monoculture(ID: 11)",
          "Oil palm monoculture(ID: 11)",
          "Oil palm monoculture(ID: 11)",
          "Oil palm monoculture(ID: 11)",
          "Oil palm monoculture(ID: 11)",
          "Oil palm monoculture(ID: 11)",
          "Oil palm monoculture(ID: 11)",
          "Oil palm monoculture(ID: 11)",
          "Oil palm monoculture(ID: 11)",
          "Oil palm monoculture(ID: 11)",
          "Oil palm monoculture(ID: 11)",
          "Oil palm monoculture(ID: 11)",
          "Oil palm monoculture(ID: 11)",
          "Oil palm monoculture(ID: 11)",
          "Oil palm monoculture(ID: 11)",
          "Oil palm monoculture(ID: 11)",
          "Oil palm monoculture(ID: 11)",
          "Oil palm monoculture(ID: 11)",
          "Oil palm monoculture(ID: 11)",
          "Oil palm monoculture(ID: 11)",
          "Oil palm monoculture(ID: 11)",
          "Oil palm monoculture(ID: 11)",
          "Oil palm monoculture(ID: 11)",
          "Oil palm monoculture(ID: 11)",
          "Oil palm monoculture(ID: 11)",
          "Oil palm monoculture(ID: 11)",
          "Oil palm monoculture(ID: 11)",
          "Oil palm monoculture(ID: 11)",
          "Oil palm monoculture(ID: 11)",
          "Oil palm monoculture(ID: 11)",
          "Oil palm monoculture(ID: 11)",
          "Oil palm monoculture(ID: 11)",
          "Oil palm monoculture(ID: 11)",
          "Oil palm monoculture(ID: 11)",
          "Oil palm monoculture(ID: 11)",
          "Oil palm monoculture(ID: 11)",
          "Oil palm monoculture(ID: 11)",
          "Oil palm monoculture(ID: 11)",
          "Oil palm monoculture(ID: 11)",
          "Oil palm monoculture(ID: 11)",
          "Oil palm monoculture(ID: 11)",
          "Oil palm monoculture(ID: 11)",
          "Oil palm monoculture(ID: 11)",
          "Oil palm monoculture(ID: 11)",
          "Oil palm monoculture(ID: 11)",
          "Oil palm monoculture(ID: 11)",
          "Oil palm monoculture(ID: 11)",
          "Oil palm monoculture(ID: 11)",
          "Oil palm monoculture(ID: 11)",
          "Oil palm monoculture(ID: 11)",
          "Oil palm monoculture(ID: 11)",
          "Oil palm monoculture(ID: 11)",
          "Oil palm monoculture(ID: 11)",
          "Oil palm monoculture(ID: 11)",
          "Oil palm monoculture(ID: 11)",
          "Oil palm monoculture(ID: 11)",
          "Oil palm monoculture(ID: 11)",
          "Oil palm monoculture(ID: 11)",
          "Oil palm monoculture(ID: 11)",
          "Oil palm monoculture(ID: 11)",
          "Oil palm monoculture(ID: 11)",
          "Oil palm monoculture(ID: 11)",
          "Oil palm monoculture(ID: 11)",
          "Oil palm monoculture(ID: 11)",
          "Oil palm monoculture(ID: 11)",
          "Oil palm monoculture(ID: 11)",
          "Oil palm monoculture(ID: 11)",
          "Oil palm monoculture(ID: 11)",
          "Oil palm monoculture(ID: 11)",
          "Oil palm monoculture(ID: 11)",
          "Oil palm monoculture(ID: 11)",
          "Oil palm monoculture(ID: 11)",
          "Oil palm monoculture(ID: 11)",
          "Oil palm monoculture(ID: 11)",
          "Oil palm monoculture(ID: 11)",
          "Oil palm monoculture(ID: 11)",
          "Oil palm monoculture(ID: 11)",
          "Oil palm monoculture(ID: 11)",
          "Oil palm monoculture(ID: 11)",
          "Oil palm monoculture(ID: 11)",
          "Oil palm monoculture(ID: 11)",
          "Oil palm monoculture(ID: 11)",
          "Oil palm monoculture(ID: 11)",
          "Oil palm monoculture(ID: 11)",
          "Oil palm monoculture(ID: 11)",
          "Oil palm monoculture(ID: 11)",
          "Oil palm monoculture(ID: 11)"
         ],
         "x0": " ",
         "xaxis": "x",
         "y": {
          "bdata": "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",
          "dtype": "f8"
         },
         "y0": " ",
         "yaxis": "y"
        },
        {
         "alignmentgroup": "True",
         "customdata": {
          "bdata": "ExMTExMTExMTExMTExMTExMTExMTExMTExMTExMTExMTExMTExMTExMTExMTExM=",
          "dtype": "i1",
          "shape": "47, 1"
         },
         "hovertemplate": "<b>%{x}</b><br>NIR: %{y:.4f}<br><extra></extra>",
         "legendgroup": "Water Body(ID: 19)",
         "marker": {
          "color": "#ab63fa"
         },
         "name": "Water Body(ID: 19)",
         "notched": false,
         "offsetgroup": "Water Body(ID: 19)",
         "orientation": "v",
         "showlegend": true,
         "type": "box",
         "x": [
          "Water Body(ID: 19)",
          "Water Body(ID: 19)",
          "Water Body(ID: 19)",
          "Water Body(ID: 19)",
          "Water Body(ID: 19)",
          "Water Body(ID: 19)",
          "Water Body(ID: 19)",
          "Water Body(ID: 19)",
          "Water Body(ID: 19)",
          "Water Body(ID: 19)",
          "Water Body(ID: 19)",
          "Water Body(ID: 19)",
          "Water Body(ID: 19)",
          "Water Body(ID: 19)",
          "Water Body(ID: 19)",
          "Water Body(ID: 19)",
          "Water Body(ID: 19)",
          "Water Body(ID: 19)",
          "Water Body(ID: 19)",
          "Water Body(ID: 19)",
          "Water Body(ID: 19)",
          "Water Body(ID: 19)",
          "Water Body(ID: 19)",
          "Water Body(ID: 19)",
          "Water Body(ID: 19)",
          "Water Body(ID: 19)",
          "Water Body(ID: 19)",
          "Water Body(ID: 19)",
          "Water Body(ID: 19)",
          "Water Body(ID: 19)",
          "Water Body(ID: 19)",
          "Water Body(ID: 19)",
          "Water Body(ID: 19)",
          "Water Body(ID: 19)",
          "Water Body(ID: 19)",
          "Water Body(ID: 19)",
          "Water Body(ID: 19)",
          "Water Body(ID: 19)",
          "Water Body(ID: 19)",
          "Water Body(ID: 19)",
          "Water Body(ID: 19)",
          "Water Body(ID: 19)",
          "Water Body(ID: 19)",
          "Water Body(ID: 19)",
          "Water Body(ID: 19)",
          "Water Body(ID: 19)",
          "Water Body(ID: 19)"
         ],
         "x0": " ",
         "xaxis": "x",
         "y": {
          "bdata": "EOSghJm2tT+TdM3km+3HP9jJ4Ch5dbg/TI47pYP1xD/RrkLKTyrEPxDkoISZtrU/yM1wAz4/uj8u3SQGgZWyP3bzVIfcDLk/ZB75g4HnvT8ubqMBvAXFP/dAKzBk9cA/dhppqbwd0j9UVz7L8+DNP5T2Bl+YzNc/5ldzgGCOvD9MyAc9m1XSP+4ljdE6qso/Ft7lIr4Tyj+OQLyuX/DSP7jkuFM6WMo/dMjNcAM+sz/wVSsTfqm7P5zhBnx+GNA/2XdF8L9V0z+MbOf7qfHHPyz7rgj+d9M/Tpzc71AUzj9QNuUK7/LRP4m6D0BqE9c/0q5Cyk+qyT+unpPeN77RP46XbhKDQMg/4EVfQZqxsD9eY5eo3hrLP9L7xteeGdA/Rs7Cnnb4zD95Xb9gN2zIPwBXsmMjEMo/7BLVWwNb0j9agSGrWz3RPzIWTWcng7Y/AiuHFtlO0j9NhA1PrxTYP1/SGK2jKsA/ZCMQr+uX0T8l6ZrJN1vBPw==",
          "dtype": "f8"
         },
         "y0": " ",
         "yaxis": "y"
        },
        {
         "alignmentgroup": "True",
         "customdata": {
          "bdata": "AQEBAQEBAQEBAQEBAQEBAQEBAQEBAQEBAQEBAQE=",
          "dtype": "i1",
          "shape": "29, 1"
         },
         "hovertemplate": "<b>%{x}</b><br>NIR: %{y:.4f}<br><extra></extra>",
         "legendgroup": "Acacia plantation(ID: 1)",
         "marker": {
          "color": "#FFA15A"
         },
         "name": "Acacia plantation(ID: 1)",
         "notched": false,
         "offsetgroup": "Acacia plantation(ID: 1)",
         "orientation": "v",
         "showlegend": true,
         "type": "box",
         "x": [
          "Acacia plantation(ID: 1)",
          "Acacia plantation(ID: 1)",
          "Acacia plantation(ID: 1)",
          "Acacia plantation(ID: 1)",
          "Acacia plantation(ID: 1)",
          "Acacia plantation(ID: 1)",
          "Acacia plantation(ID: 1)",
          "Acacia plantation(ID: 1)",
          "Acacia plantation(ID: 1)",
          "Acacia plantation(ID: 1)",
          "Acacia plantation(ID: 1)",
          "Acacia plantation(ID: 1)",
          "Acacia plantation(ID: 1)",
          "Acacia plantation(ID: 1)",
          "Acacia plantation(ID: 1)",
          "Acacia plantation(ID: 1)",
          "Acacia plantation(ID: 1)",
          "Acacia plantation(ID: 1)",
          "Acacia plantation(ID: 1)",
          "Acacia plantation(ID: 1)",
          "Acacia plantation(ID: 1)",
          "Acacia plantation(ID: 1)",
          "Acacia plantation(ID: 1)",
          "Acacia plantation(ID: 1)",
          "Acacia plantation(ID: 1)",
          "Acacia plantation(ID: 1)",
          "Acacia plantation(ID: 1)",
          "Acacia plantation(ID: 1)",
          "Acacia plantation(ID: 1)"
         ],
         "x0": " ",
         "xaxis": "x",
         "y": {
          "bdata": "Zfz7jAsH1D/UZTGx+TjVPysYldQJ6NI/ELQCQ1b31T8plltaDQnXP74wmSoYFdM/O3DOiNJe1T9Zi08BMB7SP7iSHRuBuNI/WhKgppYt0T8Dste7P17cPzwUBfpEntY/5ZttbkzP1z9QpWYPtALSP3sxlBPtKtY/a7x0kxgE1z/K2xFOC57WPycZOQt7GtY/C53X2CWq1D+pjH+fcWHNP41iuaXVkNU/kQpjC0EO1D9/Tdaoh+jXPwm/1M+bitQ/fH4YITza0D/DgZAsYALNP0fOwp52+NU/iIBDqFKz0j+bd5yiI/nVPw==",
          "dtype": "f8"
         },
         "y0": " ",
         "yaxis": "y"
        },
        {
         "alignmentgroup": "True",
         "customdata": {
          "bdata": "DQ0NDQ0NDQ0NDQ0NDQ0NDQ0NDQ0NDQ0NDQ0NDQ0NDQ0NDQ0NDQ0NDQ0NDQ0NDQ0NDQ0NDQ0NDQ0NDQ0NDQ0NDQ0NDQ==",
          "dtype": "i1",
          "shape": "67, 1"
         },
         "hovertemplate": "<b>%{x}</b><br>NIR: %{y:.4f}<br><extra></extra>",
         "legendgroup": "Rice Field(ID: 13)",
         "marker": {
          "color": "#19d3f3"
         },
         "name": "Rice Field(ID: 13)",
         "notched": false,
         "offsetgroup": "Rice Field(ID: 13)",
         "orientation": "v",
         "showlegend": true,
         "type": "box",
         "x": [
          "Rice Field(ID: 13)",
          "Rice Field(ID: 13)",
          "Rice Field(ID: 13)",
          "Rice Field(ID: 13)",
          "Rice Field(ID: 13)",
          "Rice Field(ID: 13)",
          "Rice Field(ID: 13)",
          "Rice Field(ID: 13)",
          "Rice Field(ID: 13)",
          "Rice Field(ID: 13)",
          "Rice Field(ID: 13)",
          "Rice Field(ID: 13)",
          "Rice Field(ID: 13)",
          "Rice Field(ID: 13)",
          "Rice Field(ID: 13)",
          "Rice Field(ID: 13)",
          "Rice Field(ID: 13)",
          "Rice Field(ID: 13)",
          "Rice Field(ID: 13)",
          "Rice Field(ID: 13)",
          "Rice Field(ID: 13)",
          "Rice Field(ID: 13)",
          "Rice Field(ID: 13)",
          "Rice Field(ID: 13)",
          "Rice Field(ID: 13)",
          "Rice Field(ID: 13)",
          "Rice Field(ID: 13)",
          "Rice Field(ID: 13)",
          "Rice Field(ID: 13)",
          "Rice Field(ID: 13)",
          "Rice Field(ID: 13)",
          "Rice Field(ID: 13)",
          "Rice Field(ID: 13)",
          "Rice Field(ID: 13)",
          "Rice Field(ID: 13)",
          "Rice Field(ID: 13)",
          "Rice Field(ID: 13)",
          "Rice Field(ID: 13)",
          "Rice Field(ID: 13)",
          "Rice Field(ID: 13)",
          "Rice Field(ID: 13)",
          "Rice Field(ID: 13)",
          "Rice Field(ID: 13)",
          "Rice Field(ID: 13)",
          "Rice Field(ID: 13)",
          "Rice Field(ID: 13)",
          "Rice Field(ID: 13)",
          "Rice Field(ID: 13)",
          "Rice Field(ID: 13)",
          "Rice Field(ID: 13)",
          "Rice Field(ID: 13)",
          "Rice Field(ID: 13)",
          "Rice Field(ID: 13)",
          "Rice Field(ID: 13)",
          "Rice Field(ID: 13)",
          "Rice Field(ID: 13)",
          "Rice Field(ID: 13)",
          "Rice Field(ID: 13)",
          "Rice Field(ID: 13)",
          "Rice Field(ID: 13)",
          "Rice Field(ID: 13)",
          "Rice Field(ID: 13)",
          "Rice Field(ID: 13)",
          "Rice Field(ID: 13)",
          "Rice Field(ID: 13)",
          "Rice Field(ID: 13)",
          "Rice Field(ID: 13)"
         ],
         "x0": " ",
         "xaxis": "x",
         "y": {
          "bdata": "lSu8y0V80z9u2LYos0HKP3+kiAyreNM/O3DOiNJe1T9sskY9RKPHP/qDgefew8U/bHh6pSzD0T/ctYR80LPOP7kBnx9GCMc/8FAU6BO51j+hLedSXFXVP0KVmj3Qis4/CjNt/8rKwz9kdavnpPfLP7Q8D+7O2tQ/JPPIHww8zT8S34lZL4bKP6EVGLK61dA/rz2zJEBN1T/Ox7WhYhzSP6sJou4D0NE/QuxMofMa0z+KVBhbCHLDP1t8CoDxjMo/yFnY0w5/yT9jQPZ698fTP0nXTL7Z5tA/dcjNcAM+1D9mMbH5uHbSP8xFfCdmvcc/hxvw+WGE0z/6D+m3rwPRPzLmriXkQ9E/dEaU9gbf0j+AgosVNdjQP7ZKsDicec8/Mo/8wcAz0D9vL2mM1lHUP4+NQLyuH9M/8zehEAGH1D9zUMJM27/TP3i5iO/ErMw/qdkDrcAQ0T/ZlCu8y8XSP7ql1ZC4x80/Vft0PGag0j/FjzF3LSHLPxB6Nqs+l9E/7rH0oQtq0D8gRgiPNo7LPwjJAiZwa8w/jijtDb4wyD86evzepn/TPzoLe9rhr8c/yvj3GRcOzT8miLoPQOrPP8EhVKnZQ9c/J0nXTL7Z1j+V2SCTjBzHP7Abti3KbL8/2zhiLT4F1D+xUGuadxzRP4/C9ShcT9Q/ZoNMMnIW0z/iAWVTrvDIP16Kq8q+K84/fcucLosJ0T8=",
          "dtype": "f8"
         },
         "y0": " ",
         "yaxis": "y"
        },
        {
         "alignmentgroup": "True",
         "customdata": {
          "bdata": "CgoKCgoKCgoKCgoKCgoKCgoKCgoKCgoKCgoKCgoKCgoKCgoKCgoKCgoKCgoKCgoKCgoKCgoKCgoKCgoKCgoKCgoKCgoKCgoKCgoKCgoKCgoKCgoKCgoKCgoKCgoKCgoKCgoKCgoKCgoKCgoKCgoKCgoKCgoKCgoKCgoKCgo=",
          "dtype": "i1",
          "shape": "125, 1"
         },
         "hovertemplate": "<b>%{x}</b><br>NIR: %{y:.4f}<br><extra></extra>",
         "legendgroup": "Mixed Garden(ID: 10)",
         "marker": {
          "color": "#FF6692"
         },
         "name": "Mixed Garden(ID: 10)",
         "notched": false,
         "offsetgroup": "Mixed Garden(ID: 10)",
         "orientation": "v",
         "showlegend": true,
         "type": "box",
         "x": [
          "Mixed Garden(ID: 10)",
          "Mixed Garden(ID: 10)",
          "Mixed Garden(ID: 10)",
          "Mixed Garden(ID: 10)",
          "Mixed Garden(ID: 10)",
          "Mixed Garden(ID: 10)",
          "Mixed Garden(ID: 10)",
          "Mixed Garden(ID: 10)",
          "Mixed Garden(ID: 10)",
          "Mixed Garden(ID: 10)",
          "Mixed Garden(ID: 10)",
          "Mixed Garden(ID: 10)",
          "Mixed Garden(ID: 10)",
          "Mixed Garden(ID: 10)",
          "Mixed Garden(ID: 10)",
          "Mixed Garden(ID: 10)",
          "Mixed Garden(ID: 10)",
          "Mixed Garden(ID: 10)",
          "Mixed Garden(ID: 10)",
          "Mixed Garden(ID: 10)",
          "Mixed Garden(ID: 10)",
          "Mixed Garden(ID: 10)",
          "Mixed Garden(ID: 10)",
          "Mixed Garden(ID: 10)",
          "Mixed Garden(ID: 10)",
          "Mixed Garden(ID: 10)",
          "Mixed Garden(ID: 10)",
          "Mixed Garden(ID: 10)",
          "Mixed Garden(ID: 10)",
          "Mixed Garden(ID: 10)",
          "Mixed Garden(ID: 10)",
          "Mixed Garden(ID: 10)",
          "Mixed Garden(ID: 10)",
          "Mixed Garden(ID: 10)",
          "Mixed Garden(ID: 10)",
          "Mixed Garden(ID: 10)",
          "Mixed Garden(ID: 10)",
          "Mixed Garden(ID: 10)",
          "Mixed Garden(ID: 10)",
          "Mixed Garden(ID: 10)",
          "Mixed Garden(ID: 10)",
          "Mixed Garden(ID: 10)",
          "Mixed Garden(ID: 10)",
          "Mixed Garden(ID: 10)",
          "Mixed Garden(ID: 10)",
          "Mixed Garden(ID: 10)",
          "Mixed Garden(ID: 10)",
          "Mixed Garden(ID: 10)",
          "Mixed Garden(ID: 10)",
          "Mixed Garden(ID: 10)",
          "Mixed Garden(ID: 10)",
          "Mixed Garden(ID: 10)",
          "Mixed Garden(ID: 10)",
          "Mixed Garden(ID: 10)",
          "Mixed Garden(ID: 10)",
          "Mixed Garden(ID: 10)",
          "Mixed Garden(ID: 10)",
          "Mixed Garden(ID: 10)",
          "Mixed Garden(ID: 10)",
          "Mixed Garden(ID: 10)",
          "Mixed Garden(ID: 10)",
          "Mixed Garden(ID: 10)",
          "Mixed Garden(ID: 10)",
          "Mixed Garden(ID: 10)",
          "Mixed Garden(ID: 10)",
          "Mixed Garden(ID: 10)",
          "Mixed Garden(ID: 10)",
          "Mixed Garden(ID: 10)",
          "Mixed Garden(ID: 10)",
          "Mixed Garden(ID: 10)",
          "Mixed Garden(ID: 10)",
          "Mixed Garden(ID: 10)",
          "Mixed Garden(ID: 10)",
          "Mixed Garden(ID: 10)",
          "Mixed Garden(ID: 10)",
          "Mixed Garden(ID: 10)",
          "Mixed Garden(ID: 10)",
          "Mixed Garden(ID: 10)",
          "Mixed Garden(ID: 10)",
          "Mixed Garden(ID: 10)",
          "Mixed Garden(ID: 10)",
          "Mixed Garden(ID: 10)",
          "Mixed Garden(ID: 10)",
          "Mixed Garden(ID: 10)",
          "Mixed Garden(ID: 10)",
          "Mixed Garden(ID: 10)",
          "Mixed Garden(ID: 10)",
          "Mixed Garden(ID: 10)",
          "Mixed Garden(ID: 10)",
          "Mixed Garden(ID: 10)",
          "Mixed Garden(ID: 10)",
          "Mixed Garden(ID: 10)",
          "Mixed Garden(ID: 10)",
          "Mixed Garden(ID: 10)",
          "Mixed Garden(ID: 10)",
          "Mixed Garden(ID: 10)",
          "Mixed Garden(ID: 10)",
          "Mixed Garden(ID: 10)",
          "Mixed Garden(ID: 10)",
          "Mixed Garden(ID: 10)",
          "Mixed Garden(ID: 10)",
          "Mixed Garden(ID: 10)",
          "Mixed Garden(ID: 10)",
          "Mixed Garden(ID: 10)",
          "Mixed Garden(ID: 10)",
          "Mixed Garden(ID: 10)",
          "Mixed Garden(ID: 10)",
          "Mixed Garden(ID: 10)",
          "Mixed Garden(ID: 10)",
          "Mixed Garden(ID: 10)",
          "Mixed Garden(ID: 10)",
          "Mixed Garden(ID: 10)",
          "Mixed Garden(ID: 10)",
          "Mixed Garden(ID: 10)",
          "Mixed Garden(ID: 10)",
          "Mixed Garden(ID: 10)",
          "Mixed Garden(ID: 10)",
          "Mixed Garden(ID: 10)",
          "Mixed Garden(ID: 10)",
          "Mixed Garden(ID: 10)",
          "Mixed Garden(ID: 10)",
          "Mixed Garden(ID: 10)",
          "Mixed Garden(ID: 10)",
          "Mixed Garden(ID: 10)",
          "Mixed Garden(ID: 10)"
         ],
         "x0": " ",
         "xaxis": "x",
         "y": {
          "bdata": "fNrhr8na1z+rsu+K4D/WP28Sg8DKoc4/dAexM4VOzT8wF/GdmHXSPxMKEXAIVdk/paXydoTT1T8yj/zBwHPPP4u+gjRjUdQ/wARu3c1T0j/Nr+YAwZzYP8mOjUC8rtM/Se8bX3tm1T/+mqxRD5HVP8B4Bg39E9A/K4wtBDko1j+kMVpHVRPPPxU6r7FL1NE/N8MN+Pxw1j9Of/YjRSTSPyBGCI82ztE/CvmgZ7Nq0z91JJf/kH7YP6BU+3Q85tI/QIwQHm1c1D9gPIOG/gnRP6UUdHtJI9M/bTmX4qoyzD8QXVDfMqfOP2kibHh65dM/Cty6m6f60z9U6LzGLtHNP72kMVpHVdY/96+sNCkF1T9FhlW8kXnTPzy9UpYhDtA/V+wvuycP1D8Me9rhr4nXPyNseHqlrNE/5zV2iept1T+gvmVOl8XGP7kxPWGJh9M/BS/6CtIM1T+BrRIsDufTPzaOWItPAc8/Afvo1JVP1D9zgGCOHr/RP+i8xi5RvdE/HCWvzjFg0j803IDPDyPTPw/R6A5iZ9U/YTyDhv6J1j/H3LWEfFDUP+S9amXCL9I/hIHn3sMl0z8K3LqbpzrRP+i8xi5RvdE/u4PYmULnzT9UAIxn0BDTPxtpqbwd4dQ/l8rbEU4L1z+eXinLEMfKP2IyVTAqqcE/U0SGVbyR1T++qUiFsYXFPwJDVrd6TtE/8PlhhPBoxD9mLJrOTgbJP6kT0ETY8MY/LudSXFX2xT9hw9MrZZnBP3LcKR2s/8w/fJv+7EcK0z+6TiMtlbfVP2NKJNHLqNQ/H2PuWkK+1j8pyxDHunjVP6xzDMheb9E/xZRIopdR1z9hArfu5qnOP93NUx1ys9Y/NlmjHqLRwj8niLoPQOrPP+WbbW5Mz9c/pB6i0R3Ewj/+1HjpJjHDP3AIVWr2QNE/Pie9b3ztzj8mr84xILvTP1KWIY51cdM/+KqVCb/UyD/Az7hwICTIP6dc4V0u4tI/JemayTdb1T/h0cYRa/HTP0ku/yH99sg/Ekn0Mopl0D8UrkfhelTSP2r2QCsw5Mw/zhlR2ht8zD/m6PF7m/7OP5z51Rwg2NE/h/nyAuyj0z/C+j+H+TLUP1Est7QaktY/GVbxRuYRxT/7kSIyrGLSP8DnhxHCY9g/UfwYc9eSzz+7Jw8LtWbVP0rXTL7Z5tA//YLdsG3Ryj9GtvP91HjRPwWjkjoBzdI/04xF09lJzz9bKm9HOG3YPz6RJ0nXjNc/0VeQZiwa1z90tRX7y67VPxaMSuoENNU//5WVJqUg1T8Rpb3BF6bLP6TC2EKQA88/cJS8OsdA1j+skPKTat/QPw==",
          "dtype": "f8"
         },
         "y0": " ",
         "yaxis": "y"
        },
        {
         "alignmentgroup": "True",
         "customdata": {
          "bdata": "Dg4ODg4ODg4ODg4ODg4ODg4ODg4ODg4O",
          "dtype": "i1",
          "shape": "24, 1"
         },
         "hovertemplate": "<b>%{x}</b><br>NIR: %{y:.4f}<br><extra></extra>",
         "legendgroup": "Rubber agroforest(ID: 14)",
         "marker": {
          "color": "#B6E880"
         },
         "name": "Rubber agroforest(ID: 14)",
         "notched": false,
         "offsetgroup": "Rubber agroforest(ID: 14)",
         "orientation": "v",
         "showlegend": true,
         "type": "box",
         "x": [
          "Rubber agroforest(ID: 14)",
          "Rubber agroforest(ID: 14)",
          "Rubber agroforest(ID: 14)",
          "Rubber agroforest(ID: 14)",
          "Rubber agroforest(ID: 14)",
          "Rubber agroforest(ID: 14)",
          "Rubber agroforest(ID: 14)",
          "Rubber agroforest(ID: 14)",
          "Rubber agroforest(ID: 14)",
          "Rubber agroforest(ID: 14)",
          "Rubber agroforest(ID: 14)",
          "Rubber agroforest(ID: 14)",
          "Rubber agroforest(ID: 14)",
          "Rubber agroforest(ID: 14)",
          "Rubber agroforest(ID: 14)",
          "Rubber agroforest(ID: 14)",
          "Rubber agroforest(ID: 14)",
          "Rubber agroforest(ID: 14)",
          "Rubber agroforest(ID: 14)",
          "Rubber agroforest(ID: 14)",
          "Rubber agroforest(ID: 14)",
          "Rubber agroforest(ID: 14)",
          "Rubber agroforest(ID: 14)",
          "Rubber agroforest(ID: 14)"
         ],
         "x0": " ",
         "xaxis": "x",
         "y": {
          "bdata": "220Xmus01T8KgPEMGnrSP6FP5EnSNdU/Brth26IM2j9yGw3gLRDYPz/G3LWEvNg/DeVEuwop1z8TuHU3T/XVP29HOC14UdM/G2SSkbMw1z+fH0YIj7bRP7sKKT+p9tU/NV66SQyC1D/z6hwDslfUP78OnDOiNN4/ZoNMMnLW1T/T3uALkynWP7fu5qkOOdQ/vsEXJlMFyj/pmsk329zRP4fEPZY+dNI//oLdsG2R1j9Of/YjRWTaP2ACt+7mKdI/",
          "dtype": "f8"
         },
         "y0": " ",
         "yaxis": "y"
        },
        {
         "alignmentgroup": "True",
         "customdata": {
          "bdata": "CAgICAgICAgICAgICAgICAgICAgICAgICAgICAgICAgI",
          "dtype": "i1",
          "shape": "33, 1"
         },
         "hovertemplate": "<b>%{x}</b><br>NIR: %{y:.4f}<br><extra></extra>",
         "legendgroup": "Logged Over Forest Low Density(ID: 8)",
         "marker": {
          "color": "#FF97FF"
         },
         "name": "Logged Over Forest Low Density(ID: 8)",
         "notched": false,
         "offsetgroup": "Logged Over Forest Low Density(ID: 8)",
         "orientation": "v",
         "showlegend": true,
         "type": "box",
         "x": [
          "Logged Over Forest Low Density(ID: 8)",
          "Logged Over Forest Low Density(ID: 8)",
          "Logged Over Forest Low Density(ID: 8)",
          "Logged Over Forest Low Density(ID: 8)",
          "Logged Over Forest Low Density(ID: 8)",
          "Logged Over Forest Low Density(ID: 8)",
          "Logged Over Forest Low Density(ID: 8)",
          "Logged Over Forest Low Density(ID: 8)",
          "Logged Over Forest Low Density(ID: 8)",
          "Logged Over Forest Low Density(ID: 8)",
          "Logged Over Forest Low Density(ID: 8)",
          "Logged Over Forest Low Density(ID: 8)",
          "Logged Over Forest Low Density(ID: 8)",
          "Logged Over Forest Low Density(ID: 8)",
          "Logged Over Forest Low Density(ID: 8)",
          "Logged Over Forest Low Density(ID: 8)",
          "Logged Over Forest Low Density(ID: 8)",
          "Logged Over Forest Low Density(ID: 8)",
          "Logged Over Forest Low Density(ID: 8)",
          "Logged Over Forest Low Density(ID: 8)",
          "Logged Over Forest Low Density(ID: 8)",
          "Logged Over Forest Low Density(ID: 8)",
          "Logged Over Forest Low Density(ID: 8)",
          "Logged Over Forest Low Density(ID: 8)",
          "Logged Over Forest Low Density(ID: 8)",
          "Logged Over Forest Low Density(ID: 8)",
          "Logged Over Forest Low Density(ID: 8)",
          "Logged Over Forest Low Density(ID: 8)",
          "Logged Over Forest Low Density(ID: 8)",
          "Logged Over Forest Low Density(ID: 8)",
          "Logged Over Forest Low Density(ID: 8)",
          "Logged Over Forest Low Density(ID: 8)",
          "Logged Over Forest Low Density(ID: 8)"
         ],
         "x0": " ",
         "xaxis": "x",
         "y": {
          "bdata": "k5GzsKcd0z/CFyZTBaPTP37GhQMhWdM/g+LHmLsW1T+4BrZKsPjVPzerPldbsdQ/GOyGbYvy0z/tJY3ROqrTP00ao3VUtdU/nTOitDd40z/qkJvhBnzNPykF3V7SGNc/AHmvWplw2D/t9e6P9yrQP9p3RfC/ldA/GeJYF7fR1T+2hHzQs9nRP4JWYMjqltU/EEBqEyc32D/dgM8PIwTcP2rBi76C9NE/5Pc2/dmPzT8BTYQNT+/UP21RZoNMMtQ/n47HDFSG1D92ieqtga3DP1w9J71vfNE/Sx+6oL5lyj/MC7CPTl3XPzVj0XR2cto/n7DEA8qmyD/o2az6XK3WP1GlZg+0gtc/",
          "dtype": "f8"
         },
         "y0": " ",
         "yaxis": "y"
        },
        {
         "alignmentgroup": "True",
         "customdata": {
          "bdata": "ERERERERERERERE=",
          "dtype": "i1",
          "shape": "11, 1"
         },
         "hovertemplate": "<b>%{x}</b><br>NIR: %{y:.4f}<br><extra></extra>",
         "legendgroup": "Shrub(ID: 17)",
         "marker": {
          "color": "#FECB52"
         },
         "name": "Shrub(ID: 17)",
         "notched": false,
         "offsetgroup": "Shrub(ID: 17)",
         "orientation": "v",
         "showlegend": true,
         "type": "box",
         "x": [
          "Shrub(ID: 17)",
          "Shrub(ID: 17)",
          "Shrub(ID: 17)",
          "Shrub(ID: 17)",
          "Shrub(ID: 17)",
          "Shrub(ID: 17)",
          "Shrub(ID: 17)",
          "Shrub(ID: 17)",
          "Shrub(ID: 17)",
          "Shrub(ID: 17)",
          "Shrub(ID: 17)"
         ],
         "x0": " ",
         "xaxis": "x",
         "y": {
          "bdata": "PXlYqDXN1T866X3ja4/TP3dPHhZqzc8/Ic1YNJ0d2T/TTWIQWDnWP5olAWpqmdI/o6oJou6D0z96U5EKY8vYP9toAG+BhNc/V+wvuyeP2T+mft5UpMLSPw==",
          "dtype": "f8"
         },
         "y0": " ",
         "yaxis": "y"
        },
        {
         "alignmentgroup": "True",
         "customdata": {
          "bdata": "BgYGBgYGBgYGBgYGBgYGBgYGBgYG",
          "dtype": "i1",
          "shape": "21, 1"
         },
         "hovertemplate": "<b>%{x}</b><br>NIR: %{y:.4f}<br><extra></extra>",
         "legendgroup": "Grass(ID: 6)",
         "marker": {
          "color": "#636efa"
         },
         "name": "Grass(ID: 6)",
         "notched": false,
         "offsetgroup": "Grass(ID: 6)",
         "orientation": "v",
         "showlegend": true,
         "type": "box",
         "x": [
          "Grass(ID: 6)",
          "Grass(ID: 6)",
          "Grass(ID: 6)",
          "Grass(ID: 6)",
          "Grass(ID: 6)",
          "Grass(ID: 6)",
          "Grass(ID: 6)",
          "Grass(ID: 6)",
          "Grass(ID: 6)",
          "Grass(ID: 6)",
          "Grass(ID: 6)",
          "Grass(ID: 6)",
          "Grass(ID: 6)",
          "Grass(ID: 6)",
          "Grass(ID: 6)",
          "Grass(ID: 6)",
          "Grass(ID: 6)",
          "Grass(ID: 6)",
          "Grass(ID: 6)",
          "Grass(ID: 6)",
          "Grass(ID: 6)"
         ],
         "x0": " ",
         "xaxis": "x",
         "y": {
          "bdata": "j6UPXVDf1D+m8naE04LHPy6thsQ9FtA/dLosJjaf0D9dGyrG+ZvRP2wJ+aBns9E/dQKaCBse0z9798d71QraP27A54cRQss/qhPQRNiw0j8XSFD8GLPSP8aFAyFZwM8/DoRkARO4xj+VTbnCu9zYP2RA9nr3h9Y/YwtBDkqY0j+v5gDBHD3UPwWjkjoBzdI/cayL22gA2D/Lf0i/fR3VP7gehetRONI/",
          "dtype": "f8"
         },
         "y0": " ",
         "yaxis": "y"
        },
        {
         "alignmentgroup": "True",
         "customdata": {
          "bdata": "CQkJCQkJCQkJCQkJCQ==",
          "dtype": "i1",
          "shape": "13, 1"
         },
         "hovertemplate": "<b>%{x}</b><br>NIR: %{y:.4f}<br><extra></extra>",
         "legendgroup": "Logged over swamp forest(ID: 9)",
         "marker": {
          "color": "#EF553B"
         },
         "name": "Logged over swamp forest(ID: 9)",
         "notched": false,
         "offsetgroup": "Logged over swamp forest(ID: 9)",
         "orientation": "v",
         "showlegend": true,
         "type": "box",
         "x": [
          "Logged over swamp forest(ID: 9)",
          "Logged over swamp forest(ID: 9)",
          "Logged over swamp forest(ID: 9)",
          "Logged over swamp forest(ID: 9)",
          "Logged over swamp forest(ID: 9)",
          "Logged over swamp forest(ID: 9)",
          "Logged over swamp forest(ID: 9)",
          "Logged over swamp forest(ID: 9)",
          "Logged over swamp forest(ID: 9)",
          "Logged over swamp forest(ID: 9)",
          "Logged over swamp forest(ID: 9)",
          "Logged over swamp forest(ID: 9)",
          "Logged over swamp forest(ID: 9)"
         ],
         "x0": " ",
         "xaxis": "x",
         "y": {
          "bdata": "TIkkehmF2D9f7/54r1rWP7bbLjTX6dI/NkHUfQBS0j9j1ouhnGjRP0ZaKm9HOM8/GjkLe9rhzT/yH9JvXwfQP+v/HObLC9E/UFPL1voiyz+MLQQ5KGHLP3WTGARWDtM/wJXs2AjEzj8=",
          "dtype": "f8"
         },
         "y0": " ",
         "yaxis": "y"
        },
        {
         "alignmentgroup": "True",
         "customdata": {
          "bdata": "BwcH",
          "dtype": "i1",
          "shape": "3, 1"
         },
         "hovertemplate": "<b>%{x}</b><br>NIR: %{y:.4f}<br><extra></extra>",
         "legendgroup": "Logged over forest-high density(ID: 7)",
         "marker": {
          "color": "#00cc96"
         },
         "name": "Logged over forest-high density(ID: 7)",
         "notched": false,
         "offsetgroup": "Logged over forest-high density(ID: 7)",
         "orientation": "v",
         "showlegend": true,
         "type": "box",
         "x": [
          "Logged over forest-high density(ID: 7)",
          "Logged over forest-high density(ID: 7)",
          "Logged over forest-high density(ID: 7)"
         ],
         "x0": " ",
         "xaxis": "x",
         "y": {
          "bdata": "yTzyBwPP1T9+b9Of/UjSP5Uw0/avrNY/",
          "dtype": "f8"
         },
         "y0": " ",
         "yaxis": "y"
        },
        {
         "alignmentgroup": "True",
         "customdata": {
          "bdata": "BQUFBQUFBQUFBQUFBQUFBQUFBQUFBQUFBQUFBQUF",
          "dtype": "i1",
          "shape": "30, 1"
         },
         "hovertemplate": "<b>%{x}</b><br>NIR: %{y:.4f}<br><extra></extra>",
         "legendgroup": "Coffee Agroforest(ID: 5)",
         "marker": {
          "color": "#ab63fa"
         },
         "name": "Coffee Agroforest(ID: 5)",
         "notched": false,
         "offsetgroup": "Coffee Agroforest(ID: 5)",
         "orientation": "v",
         "showlegend": true,
         "type": "box",
         "x": [
          "Coffee Agroforest(ID: 5)",
          "Coffee Agroforest(ID: 5)",
          "Coffee Agroforest(ID: 5)",
          "Coffee Agroforest(ID: 5)",
          "Coffee Agroforest(ID: 5)",
          "Coffee Agroforest(ID: 5)",
          "Coffee Agroforest(ID: 5)",
          "Coffee Agroforest(ID: 5)",
          "Coffee Agroforest(ID: 5)",
          "Coffee Agroforest(ID: 5)",
          "Coffee Agroforest(ID: 5)",
          "Coffee Agroforest(ID: 5)",
          "Coffee Agroforest(ID: 5)",
          "Coffee Agroforest(ID: 5)",
          "Coffee Agroforest(ID: 5)",
          "Coffee Agroforest(ID: 5)",
          "Coffee Agroforest(ID: 5)",
          "Coffee Agroforest(ID: 5)",
          "Coffee Agroforest(ID: 5)",
          "Coffee Agroforest(ID: 5)",
          "Coffee Agroforest(ID: 5)",
          "Coffee Agroforest(ID: 5)",
          "Coffee Agroforest(ID: 5)",
          "Coffee Agroforest(ID: 5)",
          "Coffee Agroforest(ID: 5)",
          "Coffee Agroforest(ID: 5)",
          "Coffee Agroforest(ID: 5)",
          "Coffee Agroforest(ID: 5)",
          "Coffee Agroforest(ID: 5)",
          "Coffee Agroforest(ID: 5)"
         ],
         "x0": " ",
         "xaxis": "x",
         "y": {
          "bdata": "iCmRRC8j1z8I5ujxe5vXPyoYldQJ6NI/31SkwthC0D8sDmd+NQfSP5VliGNdHNU/cr9DUaDP0z/KplzhXa7SP5D3qpUJf9U/6rKY2Hzc0D+/z7hwIOTTP+1kcJS8+tI/4KEo0Cfy1T/zH9JvXwfQP/lJtU/Ho9I/5bM8D+7O1j8DDqFKzZ7VP6PuA5DaxNg/o+4DkNrE2D+oGOdvQiHTP2k6Oxkc5dI//MbXnlmS0z82zTtO0dHRP4l7LH3oAtU/umbyzTb30T+Rvd798d7TP9yF5jqNNNQ/6s9+pIgM0z9l3xXB/9bRP7WJk/sdCtU/",
          "dtype": "f8"
         },
         "y0": " ",
         "yaxis": "y"
        },
        {
         "alignmentgroup": "True",
         "customdata": {
          "bdata": "BAQEBA==",
          "dtype": "i1",
          "shape": "4, 1"
         },
         "hovertemplate": "<b>%{x}</b><br>NIR: %{y:.4f}<br><extra></extra>",
         "legendgroup": "Coconut monoculture(ID: 4)",
         "marker": {
          "color": "#FFA15A"
         },
         "name": "Coconut monoculture(ID: 4)",
         "notched": false,
         "offsetgroup": "Coconut monoculture(ID: 4)",
         "orientation": "v",
         "showlegend": true,
         "type": "box",
         "x": [
          "Coconut monoculture(ID: 4)",
          "Coconut monoculture(ID: 4)",
          "Coconut monoculture(ID: 4)",
          "Coconut monoculture(ID: 4)"
         ],
         "x0": " ",
         "xaxis": "x",
         "y": {
          "bdata": "fSJPkq6Z1z/DX5M16iHWP4v4Tsx6sdg/flcE/1tJ0z8=",
          "dtype": "f8"
         },
         "y0": " ",
         "yaxis": "y"
        },
        {
         "alignmentgroup": "True",
         "customdata": {
          "bdata": "DAwMDAwMDAwMDAwMDAw=",
          "dtype": "i1",
          "shape": "14, 1"
         },
         "hovertemplate": "<b>%{x}</b><br>NIR: %{y:.4f}<br><extra></extra>",
         "legendgroup": "Other Crops(ID: 12)",
         "marker": {
          "color": "#19d3f3"
         },
         "name": "Other Crops(ID: 12)",
         "notched": false,
         "offsetgroup": "Other Crops(ID: 12)",
         "orientation": "v",
         "showlegend": true,
         "type": "box",
         "x": [
          "Other Crops(ID: 12)",
          "Other Crops(ID: 12)",
          "Other Crops(ID: 12)",
          "Other Crops(ID: 12)",
          "Other Crops(ID: 12)",
          "Other Crops(ID: 12)",
          "Other Crops(ID: 12)",
          "Other Crops(ID: 12)",
          "Other Crops(ID: 12)",
          "Other Crops(ID: 12)",
          "Other Crops(ID: 12)",
          "Other Crops(ID: 12)",
          "Other Crops(ID: 12)",
          "Other Crops(ID: 12)"
         ],
         "x0": " ",
         "xaxis": "x",
         "y": {
          "bdata": "INeGinF+1D94l4v4TkzQP2LboswGmcs/WtjTDn9N0j9Lk1LQ7aXWP/sFu2HbYtg/++3rwDmj1j8JG55eKUvTP+yBVmDI6s4/3lm77UJzyj900vvG1x7VPyz2l92TB9M/v01/9iNF1T8CamrZWl/LPw==",
          "dtype": "f8"
         },
         "y0": " ",
         "yaxis": "y"
        },
        {
         "alignmentgroup": "True",
         "customdata": {
          "bdata": "AwMDAwMDAwMDAwMDAwM=",
          "dtype": "i1",
          "shape": "14, 1"
         },
         "hovertemplate": "<b>%{x}</b><br>NIR: %{y:.4f}<br><extra></extra>",
         "legendgroup": "Cleared Land(ID: 3)",
         "marker": {
          "color": "#FF6692"
         },
         "name": "Cleared Land(ID: 3)",
         "notched": false,
         "offsetgroup": "Cleared Land(ID: 3)",
         "orientation": "v",
         "showlegend": true,
         "type": "box",
         "x": [
          "Cleared Land(ID: 3)",
          "Cleared Land(ID: 3)",
          "Cleared Land(ID: 3)",
          "Cleared Land(ID: 3)",
          "Cleared Land(ID: 3)",
          "Cleared Land(ID: 3)",
          "Cleared Land(ID: 3)",
          "Cleared Land(ID: 3)",
          "Cleared Land(ID: 3)",
          "Cleared Land(ID: 3)",
          "Cleared Land(ID: 3)",
          "Cleared Land(ID: 3)",
          "Cleared Land(ID: 3)",
          "Cleared Land(ID: 3)"
         ],
         "x0": " ",
         "xaxis": "x",
         "y": {
          "bdata": "G4F4Xb/g0z9fnWNA9nrYPwzlRLsKqdE/WHOAYI4e0z/dmJ6wxEPYP/Qau0T1FtU/NQcI5uhx0z/Vlc/yPPjVPyeloNtLGtA/GVHaG3zh1T9hqwSLw5nWP1JJnYAmws8/KqkT0ETY0j8j4BCq1OzUPw==",
          "dtype": "f8"
         },
         "y0": " ",
         "yaxis": "y"
        },
        {
         "alignmentgroup": "True",
         "customdata": {
          "bdata": "EhISEhI=",
          "dtype": "i1",
          "shape": "5, 1"
         },
         "hovertemplate": "<b>%{x}</b><br>NIR: %{y:.4f}<br><extra></extra>",
         "legendgroup": "Tea plantation(ID: 18)",
         "marker": {
          "color": "#B6E880"
         },
         "name": "Tea plantation(ID: 18)",
         "notched": false,
         "offsetgroup": "Tea plantation(ID: 18)",
         "orientation": "v",
         "showlegend": true,
         "type": "box",
         "x": [
          "Tea plantation(ID: 18)",
          "Tea plantation(ID: 18)",
          "Tea plantation(ID: 18)",
          "Tea plantation(ID: 18)",
          "Tea plantation(ID: 18)"
         ],
         "x0": " ",
         "xaxis": "x",
         "y": {
          "bdata": "edFXkGas1D8uPgXAeIbVPxhDOdGuwtc/uVhRg2mY1j8VrkfhehTVPw==",
          "dtype": "f8"
         },
         "y0": " ",
         "yaxis": "y"
        },
        {
         "alignmentgroup": "True",
         "customdata": {
          "bdata": "AgICAgICAgICAgICAgICAgICAgIC",
          "dtype": "i1",
          "shape": "21, 1"
         },
         "hovertemplate": "<b>%{x}</b><br>NIR: %{y:.4f}<br><extra></extra>",
         "legendgroup": "Cane(ID: 2)",
         "marker": {
          "color": "#FF97FF"
         },
         "name": "Cane(ID: 2)",
         "notched": false,
         "offsetgroup": "Cane(ID: 2)",
         "orientation": "v",
         "showlegend": true,
         "type": "box",
         "x": [
          "Cane(ID: 2)",
          "Cane(ID: 2)",
          "Cane(ID: 2)",
          "Cane(ID: 2)",
          "Cane(ID: 2)",
          "Cane(ID: 2)",
          "Cane(ID: 2)",
          "Cane(ID: 2)",
          "Cane(ID: 2)",
          "Cane(ID: 2)",
          "Cane(ID: 2)",
          "Cane(ID: 2)",
          "Cane(ID: 2)",
          "Cane(ID: 2)",
          "Cane(ID: 2)",
          "Cane(ID: 2)",
          "Cane(ID: 2)",
          "Cane(ID: 2)",
          "Cane(ID: 2)",
          "Cane(ID: 2)",
          "Cane(ID: 2)"
         ],
         "x0": " ",
         "xaxis": "x",
         "y": {
          "bdata": "34lZL4Zy0T+yM4XOa6zRP2Y2yCQjZ88/+SzPg7sz0z+rPldbsT/QP30/NV66SdQ/9Bq7RPXWzj+H+fIC7KPTP7XgRV9BWtM/rD5XW7G/1T/3evfHe9XTP4fJVMGopNU/MrH5uDbU0j/dgM8PI4TWP8EcPX5v09Y/Nzy9Upah1D/+mqxRD9HSP0kzFk1nJ9U/gpAsYAJ31D9OC170FaTRP9BhvrwAe9I/",
          "dtype": "f8"
         },
         "y0": " ",
         "yaxis": "y"
        }
       ],
       "layout": {
        "boxmode": "overlay",
        "height": 500,
        "hovermode": "closest",
        "legend": {
         "title": {
          "text": "Class"
         },
         "tracegroupgap": 0
        },
        "showlegend": false,
        "template": {
         "data": {
          "bar": [
           {
            "error_x": {
             "color": "#2a3f5f"
            },
            "error_y": {
             "color": "#2a3f5f"
            },
            "marker": {
             "line": {
              "color": "white",
              "width": 0.5
             },
             "pattern": {
              "fillmode": "overlay",
              "size": 10,
              "solidity": 0.2
             }
            },
            "type": "bar"
           }
          ],
          "barpolar": [
           {
            "marker": {
             "line": {
              "color": "white",
              "width": 0.5
             },
             "pattern": {
              "fillmode": "overlay",
              "size": 10,
              "solidity": 0.2
             }
            },
            "type": "barpolar"
           }
          ],
          "carpet": [
           {
            "aaxis": {
             "endlinecolor": "#2a3f5f",
             "gridcolor": "#C8D4E3",
             "linecolor": "#C8D4E3",
             "minorgridcolor": "#C8D4E3",
             "startlinecolor": "#2a3f5f"
            },
            "baxis": {
             "endlinecolor": "#2a3f5f",
             "gridcolor": "#C8D4E3",
             "linecolor": "#C8D4E3",
             "minorgridcolor": "#C8D4E3",
             "startlinecolor": "#2a3f5f"
            },
            "type": "carpet"
           }
          ],
          "choropleth": [
           {
            "colorbar": {
             "outlinewidth": 0,
             "ticks": ""
            },
            "type": "choropleth"
           }
          ],
          "contour": [
           {
            "colorbar": {
             "outlinewidth": 0,
             "ticks": ""
            },
            "colorscale": [
             [
              0,
              "#0d0887"
             ],
             [
              0.1111111111111111,
              "#46039f"
             ],
             [
              0.2222222222222222,
              "#7201a8"
             ],
             [
              0.3333333333333333,
              "#9c179e"
             ],
             [
              0.4444444444444444,
              "#bd3786"
             ],
             [
              0.5555555555555556,
              "#d8576b"
             ],
             [
              0.6666666666666666,
              "#ed7953"
             ],
             [
              0.7777777777777778,
              "#fb9f3a"
             ],
             [
              0.8888888888888888,
              "#fdca26"
             ],
             [
              1,
              "#f0f921"
             ]
            ],
            "type": "contour"
           }
          ],
          "contourcarpet": [
           {
            "colorbar": {
             "outlinewidth": 0,
             "ticks": ""
            },
            "type": "contourcarpet"
           }
          ],
          "heatmap": [
           {
            "colorbar": {
             "outlinewidth": 0,
             "ticks": ""
            },
            "colorscale": [
             [
              0,
              "#0d0887"
             ],
             [
              0.1111111111111111,
              "#46039f"
             ],
             [
              0.2222222222222222,
              "#7201a8"
             ],
             [
              0.3333333333333333,
              "#9c179e"
             ],
             [
              0.4444444444444444,
              "#bd3786"
             ],
             [
              0.5555555555555556,
              "#d8576b"
             ],
             [
              0.6666666666666666,
              "#ed7953"
             ],
             [
              0.7777777777777778,
              "#fb9f3a"
             ],
             [
              0.8888888888888888,
              "#fdca26"
             ],
             [
              1,
              "#f0f921"
             ]
            ],
            "type": "heatmap"
           }
          ],
          "histogram": [
           {
            "marker": {
             "pattern": {
              "fillmode": "overlay",
              "size": 10,
              "solidity": 0.2
             }
            },
            "type": "histogram"
           }
          ],
          "histogram2d": [
           {
            "colorbar": {
             "outlinewidth": 0,
             "ticks": ""
            },
            "colorscale": [
             [
              0,
              "#0d0887"
             ],
             [
              0.1111111111111111,
              "#46039f"
             ],
             [
              0.2222222222222222,
              "#7201a8"
             ],
             [
              0.3333333333333333,
              "#9c179e"
             ],
             [
              0.4444444444444444,
              "#bd3786"
             ],
             [
              0.5555555555555556,
              "#d8576b"
             ],
             [
              0.6666666666666666,
              "#ed7953"
             ],
             [
              0.7777777777777778,
              "#fb9f3a"
             ],
             [
              0.8888888888888888,
              "#fdca26"
             ],
             [
              1,
              "#f0f921"
             ]
            ],
            "type": "histogram2d"
           }
          ],
          "histogram2dcontour": [
           {
            "colorbar": {
             "outlinewidth": 0,
             "ticks": ""
            },
            "colorscale": [
             [
              0,
              "#0d0887"
             ],
             [
              0.1111111111111111,
              "#46039f"
             ],
             [
              0.2222222222222222,
              "#7201a8"
             ],
             [
              0.3333333333333333,
              "#9c179e"
             ],
             [
              0.4444444444444444,
              "#bd3786"
             ],
             [
              0.5555555555555556,
              "#d8576b"
             ],
             [
              0.6666666666666666,
              "#ed7953"
             ],
             [
              0.7777777777777778,
              "#fb9f3a"
             ],
             [
              0.8888888888888888,
              "#fdca26"
             ],
             [
              1,
              "#f0f921"
             ]
            ],
            "type": "histogram2dcontour"
           }
          ],
          "mesh3d": [
           {
            "colorbar": {
             "outlinewidth": 0,
             "ticks": ""
            },
            "type": "mesh3d"
           }
          ],
          "parcoords": [
           {
            "line": {
             "colorbar": {
              "outlinewidth": 0,
              "ticks": ""
             }
            },
            "type": "parcoords"
           }
          ],
          "pie": [
           {
            "automargin": true,
            "type": "pie"
           }
          ],
          "scatter": [
           {
            "fillpattern": {
             "fillmode": "overlay",
             "size": 10,
             "solidity": 0.2
            },
            "type": "scatter"
           }
          ],
          "scatter3d": [
           {
            "line": {
             "colorbar": {
              "outlinewidth": 0,
              "ticks": ""
             }
            },
            "marker": {
             "colorbar": {
              "outlinewidth": 0,
              "ticks": ""
             }
            },
            "type": "scatter3d"
           }
          ],
          "scattercarpet": [
           {
            "marker": {
             "colorbar": {
              "outlinewidth": 0,
              "ticks": ""
             }
            },
            "type": "scattercarpet"
           }
          ],
          "scattergeo": [
           {
            "marker": {
             "colorbar": {
              "outlinewidth": 0,
              "ticks": ""
             }
            },
            "type": "scattergeo"
           }
          ],
          "scattergl": [
           {
            "marker": {
             "colorbar": {
              "outlinewidth": 0,
              "ticks": ""
             }
            },
            "type": "scattergl"
           }
          ],
          "scattermap": [
           {
            "marker": {
             "colorbar": {
              "outlinewidth": 0,
              "ticks": ""
             }
            },
            "type": "scattermap"
           }
          ],
          "scattermapbox": [
           {
            "marker": {
             "colorbar": {
              "outlinewidth": 0,
              "ticks": ""
             }
            },
            "type": "scattermapbox"
           }
          ],
          "scatterpolar": [
           {
            "marker": {
             "colorbar": {
              "outlinewidth": 0,
              "ticks": ""
             }
            },
            "type": "scatterpolar"
           }
          ],
          "scatterpolargl": [
           {
            "marker": {
             "colorbar": {
              "outlinewidth": 0,
              "ticks": ""
             }
            },
            "type": "scatterpolargl"
           }
          ],
          "scatterternary": [
           {
            "marker": {
             "colorbar": {
              "outlinewidth": 0,
              "ticks": ""
             }
            },
            "type": "scatterternary"
           }
          ],
          "surface": [
           {
            "colorbar": {
             "outlinewidth": 0,
             "ticks": ""
            },
            "colorscale": [
             [
              0,
              "#0d0887"
             ],
             [
              0.1111111111111111,
              "#46039f"
             ],
             [
              0.2222222222222222,
              "#7201a8"
             ],
             [
              0.3333333333333333,
              "#9c179e"
             ],
             [
              0.4444444444444444,
              "#bd3786"
             ],
             [
              0.5555555555555556,
              "#d8576b"
             ],
             [
              0.6666666666666666,
              "#ed7953"
             ],
             [
              0.7777777777777778,
              "#fb9f3a"
             ],
             [
              0.8888888888888888,
              "#fdca26"
             ],
             [
              1,
              "#f0f921"
             ]
            ],
            "type": "surface"
           }
          ],
          "table": [
           {
            "cells": {
             "fill": {
              "color": "#EBF0F8"
             },
             "line": {
              "color": "white"
             }
            },
            "header": {
             "fill": {
              "color": "#C8D4E3"
             },
             "line": {
              "color": "white"
             }
            },
            "type": "table"
           }
          ]
         },
         "layout": {
          "annotationdefaults": {
           "arrowcolor": "#2a3f5f",
           "arrowhead": 0,
           "arrowwidth": 1
          },
          "autotypenumbers": "strict",
          "coloraxis": {
           "colorbar": {
            "outlinewidth": 0,
            "ticks": ""
           }
          },
          "colorscale": {
           "diverging": [
            [
             0,
             "#8e0152"
            ],
            [
             0.1,
             "#c51b7d"
            ],
            [
             0.2,
             "#de77ae"
            ],
            [
             0.3,
             "#f1b6da"
            ],
            [
             0.4,
             "#fde0ef"
            ],
            [
             0.5,
             "#f7f7f7"
            ],
            [
             0.6,
             "#e6f5d0"
            ],
            [
             0.7,
             "#b8e186"
            ],
            [
             0.8,
             "#7fbc41"
            ],
            [
             0.9,
             "#4d9221"
            ],
            [
             1,
             "#276419"
            ]
           ],
           "sequential": [
            [
             0,
             "#0d0887"
            ],
            [
             0.1111111111111111,
             "#46039f"
            ],
            [
             0.2222222222222222,
             "#7201a8"
            ],
            [
             0.3333333333333333,
             "#9c179e"
            ],
            [
             0.4444444444444444,
             "#bd3786"
            ],
            [
             0.5555555555555556,
             "#d8576b"
            ],
            [
             0.6666666666666666,
             "#ed7953"
            ],
            [
             0.7777777777777778,
             "#fb9f3a"
            ],
            [
             0.8888888888888888,
             "#fdca26"
            ],
            [
             1,
             "#f0f921"
            ]
           ],
           "sequentialminus": [
            [
             0,
             "#0d0887"
            ],
            [
             0.1111111111111111,
             "#46039f"
            ],
            [
             0.2222222222222222,
             "#7201a8"
            ],
            [
             0.3333333333333333,
             "#9c179e"
            ],
            [
             0.4444444444444444,
             "#bd3786"
            ],
            [
             0.5555555555555556,
             "#d8576b"
            ],
            [
             0.6666666666666666,
             "#ed7953"
            ],
            [
             0.7777777777777778,
             "#fb9f3a"
            ],
            [
             0.8888888888888888,
             "#fdca26"
            ],
            [
             1,
             "#f0f921"
            ]
           ]
          },
          "colorway": [
           "#636efa",
           "#EF553B",
           "#00cc96",
           "#ab63fa",
           "#FFA15A",
           "#19d3f3",
           "#FF6692",
           "#B6E880",
           "#FF97FF",
           "#FECB52"
          ],
          "font": {
           "color": "#2a3f5f"
          },
          "geo": {
           "bgcolor": "white",
           "lakecolor": "white",
           "landcolor": "white",
           "showlakes": true,
           "showland": true,
           "subunitcolor": "#C8D4E3"
          },
          "hoverlabel": {
           "align": "left"
          },
          "hovermode": "closest",
          "mapbox": {
           "style": "light"
          },
          "paper_bgcolor": "white",
          "plot_bgcolor": "white",
          "polar": {
           "angularaxis": {
            "gridcolor": "#EBF0F8",
            "linecolor": "#EBF0F8",
            "ticks": ""
           },
           "bgcolor": "white",
           "radialaxis": {
            "gridcolor": "#EBF0F8",
            "linecolor": "#EBF0F8",
            "ticks": ""
           }
          },
          "scene": {
           "xaxis": {
            "backgroundcolor": "white",
            "gridcolor": "#DFE8F3",
            "gridwidth": 2,
            "linecolor": "#EBF0F8",
            "showbackground": true,
            "ticks": "",
            "zerolinecolor": "#EBF0F8"
           },
           "yaxis": {
            "backgroundcolor": "white",
            "gridcolor": "#DFE8F3",
            "gridwidth": 2,
            "linecolor": "#EBF0F8",
            "showbackground": true,
            "ticks": "",
            "zerolinecolor": "#EBF0F8"
           },
           "zaxis": {
            "backgroundcolor": "white",
            "gridcolor": "#DFE8F3",
            "gridwidth": 2,
            "linecolor": "#EBF0F8",
            "showbackground": true,
            "ticks": "",
            "zerolinecolor": "#EBF0F8"
           }
          },
          "shapedefaults": {
           "line": {
            "color": "#2a3f5f"
           }
          },
          "ternary": {
           "aaxis": {
            "gridcolor": "#DFE8F3",
            "linecolor": "#A2B1C6",
            "ticks": ""
           },
           "baxis": {
            "gridcolor": "#DFE8F3",
            "linecolor": "#A2B1C6",
            "ticks": ""
           },
           "bgcolor": "white",
           "caxis": {
            "gridcolor": "#DFE8F3",
            "linecolor": "#A2B1C6",
            "ticks": ""
           }
          },
          "title": {
           "x": 0.05
          },
          "xaxis": {
           "automargin": true,
           "gridcolor": "#EBF0F8",
           "linecolor": "#EBF0F8",
           "ticks": "",
           "title": {
            "standoff": 15
           },
           "zerolinecolor": "#EBF0F8",
           "zerolinewidth": 2
          },
          "yaxis": {
           "automargin": true,
           "gridcolor": "#EBF0F8",
           "linecolor": "#EBF0F8",
           "ticks": "",
           "title": {
            "standoff": 15
           },
           "zerolinecolor": "#EBF0F8",
           "zerolinewidth": 2
          }
         }
        },
        "title": {
         "text": "Boxplot of NIR by Class"
        },
        "xaxis": {
         "anchor": "y",
         "categoryarray": [
          "Rubber monoculture(ID: 15)",
          "Settlement(ID: 16)",
          "Oil palm monoculture(ID: 11)",
          "Water Body(ID: 19)",
          "Acacia plantation(ID: 1)",
          "Rice Field(ID: 13)",
          "Mixed Garden(ID: 10)",
          "Rubber agroforest(ID: 14)",
          "Logged Over Forest Low Density(ID: 8)",
          "Shrub(ID: 17)",
          "Grass(ID: 6)",
          "Logged over swamp forest(ID: 9)",
          "Logged over forest-high density(ID: 7)",
          "Coffee Agroforest(ID: 5)",
          "Coconut monoculture(ID: 4)",
          "Other Crops(ID: 12)",
          "Cleared Land(ID: 3)",
          "Tea plantation(ID: 18)",
          "Cane(ID: 2)"
         ],
         "categoryorder": "array",
         "domain": [
          0,
          1
         ],
         "tickangle": -45,
         "title": {
          "text": "Class"
         }
        },
        "yaxis": {
         "anchor": "x",
         "domain": [
          0,
          1
         ],
         "title": {
          "text": "NIR Reflectance"
         }
        }
       }
      }
     },
     "metadata": {},
     "output_type": "display_data"
    }
   ],
   "source": [
    "#Box plot to detect outlier\n",
    "ploter = spectral_plotter(analyzer)\n",
    "box = ploter.plot_boxplot(pixel_extract)\n",
    "for fig in box:\n",
    "    fig.show()"
   ]
  },
  {
   "cell_type": "code",
   "execution_count": null,
   "id": "f5d4625e",
   "metadata": {},
   "outputs": [],
   "source": [
    "#static scatter plot\n",
    "stat_plot = ploter.static_scatter_plot(pixel_extract, x_band='NIR', y_band='RED', add_ellipse=True)"
   ]
  },
  {
   "cell_type": "code",
   "execution_count": null,
   "id": "d21da65f",
   "metadata": {},
   "outputs": [],
   "source": [
    "#3D scatter plot\n",
    "multi_d_scater = ploter.scatter_plot_3d(pixel_extract)\n",
    "multi_d_scater"
   ]
  },
  {
   "cell_type": "markdown",
   "id": "1c4302b3",
   "metadata": {},
   "source": [
    "# Module 6: Land Cover Classification"
   ]
  },
  {
   "cell_type": "markdown",
   "id": "6182fbfa",
   "metadata": {},
   "source": [
    "## Library Import"
   ]
  },
  {
   "cell_type": "code",
   "execution_count": 28,
   "id": "bac11b30",
   "metadata": {},
   "outputs": [
    {
     "data": {
      "text/html": [
       "\n",
       "            <style>\n",
       "                .geemap-dark {\n",
       "                    --jp-widgets-color: white;\n",
       "                    --jp-widgets-label-color: white;\n",
       "                    --jp-ui-font-color1: white;\n",
       "                    --jp-layout-color2: #454545;\n",
       "                    background-color: #383838;\n",
       "                }\n",
       "\n",
       "                .geemap-dark .jupyter-button {\n",
       "                    --jp-layout-color3: #383838;\n",
       "                }\n",
       "\n",
       "                .geemap-colab {\n",
       "                    background-color: var(--colab-primary-surface-color, white);\n",
       "                }\n",
       "\n",
       "                .geemap-colab .jupyter-button {\n",
       "                    --jp-layout-color3: var(--colab-primary-surface-color, white);\n",
       "                }\n",
       "            </style>\n",
       "            "
      ],
      "text/plain": [
       "<IPython.core.display.HTML object>"
      ]
     },
     "metadata": {},
     "output_type": "display_data"
    }
   ],
   "source": [
    "from epistemx.module_6_phase1 import FeatureExtraction, Generate_LULC\n",
    "import numpy as np\n",
    "import matplotlib.pyplot as plt\n",
    "import seaborn as sns"
   ]
  },
  {
   "cell_type": "markdown",
   "id": "1da710a2",
   "metadata": {},
   "source": [
    "## System Response 6.2 Classification"
   ]
  },
  {
   "cell_type": "code",
   "execution_count": 29,
   "id": "6253ee61",
   "metadata": {},
   "outputs": [
    {
     "data": {
      "text/html": [
       "\n",
       "            <style>\n",
       "                .geemap-dark {\n",
       "                    --jp-widgets-color: white;\n",
       "                    --jp-widgets-label-color: white;\n",
       "                    --jp-ui-font-color1: white;\n",
       "                    --jp-layout-color2: #454545;\n",
       "                    background-color: #383838;\n",
       "                }\n",
       "\n",
       "                .geemap-dark .jupyter-button {\n",
       "                    --jp-layout-color3: #383838;\n",
       "                }\n",
       "\n",
       "                .geemap-colab {\n",
       "                    background-color: var(--colab-primary-surface-color, white);\n",
       "                }\n",
       "\n",
       "                .geemap-colab .jupyter-button {\n",
       "                    --jp-layout-color3: var(--colab-primary-surface-color, white);\n",
       "                }\n",
       "            </style>\n",
       "            "
      ],
      "text/plain": [
       "<IPython.core.display.HTML object>"
      ]
     },
     "metadata": {},
     "output_type": "display_data"
    },
    {
     "name": "stdout",
     "output_type": "stream",
     "text": [
      "Stratified Random Split Training Pixel Size: 814\n",
      "Stratified Random Split Testing Pixel Size: 808\n",
      "Performing Classification...\n",
      "Evaluating model performance...\n",
      "✓ Model evaluation completed\n"
     ]
    }
   ],
   "source": [
    "#Perform Training Test Split\n",
    "features = FeatureExtraction()\n",
    "strafied_train, stratified_test = features.stratified_split(labeled_roi, stacked_landsat, \n",
    "                            class_prop='ID', train_ratio=0.5)\n",
    "classifier = Generate_LULC()\n",
    "print(\"Performing Classification...\")\n",
    "#Multiclass hard classification\n",
    "classification_map, trained_model = classifier.hard_classification(strafied_train, class_property='ID', image=stacked_landsat,\n",
    "                                                          ntrees=300, min_leaf=2, return_model=True)\n",
    "# Evaluate model performance\n",
    "print(\"Evaluating model performance...\")\n",
    "\n",
    "try:\n",
    "    accuracy_metrics = classifier.evaluate_model(\n",
    "        trained_model=trained_model,\n",
    "        test_data=stratified_test,\n",
    "        class_property='ID'\n",
    "    )\n",
    "    \n",
    "    print(\"✓ Model evaluation completed\")\n",
    "    \n",
    "except Exception as e:\n",
    "    print(f\"❌ Error in model evaluation: {e}\")                                                    \n"
   ]
  },
  {
   "cell_type": "markdown",
   "id": "fb49859f",
   "metadata": {},
   "source": [
    "## System Response 6.3 Model Evaluation"
   ]
  },
  {
   "cell_type": "code",
   "execution_count": 30,
   "id": "592b48ea",
   "metadata": {},
   "outputs": [
    {
     "data": {
      "text/html": [
       "\n",
       "            <style>\n",
       "                .geemap-dark {\n",
       "                    --jp-widgets-color: white;\n",
       "                    --jp-widgets-label-color: white;\n",
       "                    --jp-ui-font-color1: white;\n",
       "                    --jp-layout-color2: #454545;\n",
       "                    background-color: #383838;\n",
       "                }\n",
       "\n",
       "                .geemap-dark .jupyter-button {\n",
       "                    --jp-layout-color3: #383838;\n",
       "                }\n",
       "\n",
       "                .geemap-colab {\n",
       "                    background-color: var(--colab-primary-surface-color, white);\n",
       "                }\n",
       "\n",
       "                .geemap-colab .jupyter-button {\n",
       "                    --jp-layout-color3: var(--colab-primary-surface-color, white);\n",
       "                }\n",
       "            </style>\n",
       "            "
      ],
      "text/plain": [
       "<IPython.core.display.HTML object>"
      ]
     },
     "metadata": {},
     "output_type": "display_data"
    },
    {
     "name": "stdout",
     "output_type": "stream",
     "text": [
      "=== Model Performance Summary ===\n",
      "Overall Accuracy: 0.5353 (53.53%)\n",
      "Kappa Coefficient: 0.3073\n",
      "Overall G-Mean: 0.3817\n",
      "\n",
      "=== Per-Class Metrics ===\n"
     ]
    },
    {
     "data": {
      "text/html": [
       "<div>\n",
       "<style scoped>\n",
       "    .dataframe tbody tr th:only-of-type {\n",
       "        vertical-align: middle;\n",
       "    }\n",
       "\n",
       "    .dataframe tbody tr th {\n",
       "        vertical-align: top;\n",
       "    }\n",
       "\n",
       "    .dataframe thead th {\n",
       "        text-align: right;\n",
       "    }\n",
       "</style>\n",
       "<table border=\"1\" class=\"dataframe\">\n",
       "  <thead>\n",
       "    <tr style=\"text-align: right;\">\n",
       "      <th></th>\n",
       "      <th>Precision</th>\n",
       "      <th>Recall</th>\n",
       "      <th>F1-Score</th>\n",
       "      <th>G-Mean</th>\n",
       "    </tr>\n",
       "  </thead>\n",
       "  <tbody>\n",
       "    <tr>\n",
       "      <th>0</th>\n",
       "      <td>0.0000</td>\n",
       "      <td>0.0000</td>\n",
       "      <td>0.0000</td>\n",
       "      <td>0.0000</td>\n",
       "    </tr>\n",
       "    <tr>\n",
       "      <th>1</th>\n",
       "      <td>0.0000</td>\n",
       "      <td>0.0000</td>\n",
       "      <td>0.0000</td>\n",
       "      <td>0.0000</td>\n",
       "    </tr>\n",
       "    <tr>\n",
       "      <th>2</th>\n",
       "      <td>0.0000</td>\n",
       "      <td>0.0000</td>\n",
       "      <td>0.0000</td>\n",
       "      <td>0.0000</td>\n",
       "    </tr>\n",
       "    <tr>\n",
       "      <th>3</th>\n",
       "      <td>0.0000</td>\n",
       "      <td>0.0000</td>\n",
       "      <td>0.0000</td>\n",
       "      <td>0.0000</td>\n",
       "    </tr>\n",
       "    <tr>\n",
       "      <th>4</th>\n",
       "      <td>0.0000</td>\n",
       "      <td>0.0000</td>\n",
       "      <td>0.0000</td>\n",
       "      <td>0.0000</td>\n",
       "    </tr>\n",
       "    <tr>\n",
       "      <th>5</th>\n",
       "      <td>0.2500</td>\n",
       "      <td>0.3077</td>\n",
       "      <td>0.2759</td>\n",
       "      <td>0.2774</td>\n",
       "    </tr>\n",
       "    <tr>\n",
       "      <th>6</th>\n",
       "      <td>0.0000</td>\n",
       "      <td>0.0000</td>\n",
       "      <td>0.0000</td>\n",
       "      <td>0.0000</td>\n",
       "    </tr>\n",
       "    <tr>\n",
       "      <th>7</th>\n",
       "      <td>0.0000</td>\n",
       "      <td>0.0000</td>\n",
       "      <td>0.0000</td>\n",
       "      <td>0.0000</td>\n",
       "    </tr>\n",
       "    <tr>\n",
       "      <th>8</th>\n",
       "      <td>0.0000</td>\n",
       "      <td>0.0000</td>\n",
       "      <td>0.0000</td>\n",
       "      <td>0.0000</td>\n",
       "    </tr>\n",
       "    <tr>\n",
       "      <th>9</th>\n",
       "      <td>0.0000</td>\n",
       "      <td>0.0000</td>\n",
       "      <td>0.0000</td>\n",
       "      <td>0.0000</td>\n",
       "    </tr>\n",
       "    <tr>\n",
       "      <th>10</th>\n",
       "      <td>0.2105</td>\n",
       "      <td>0.1481</td>\n",
       "      <td>0.1739</td>\n",
       "      <td>0.1766</td>\n",
       "    </tr>\n",
       "    <tr>\n",
       "      <th>11</th>\n",
       "      <td>0.3981</td>\n",
       "      <td>0.3694</td>\n",
       "      <td>0.3832</td>\n",
       "      <td>0.3834</td>\n",
       "    </tr>\n",
       "    <tr>\n",
       "      <th>12</th>\n",
       "      <td>0.0000</td>\n",
       "      <td>0.0000</td>\n",
       "      <td>0.0000</td>\n",
       "      <td>0.0000</td>\n",
       "    </tr>\n",
       "    <tr>\n",
       "      <th>13</th>\n",
       "      <td>0.5000</td>\n",
       "      <td>0.2059</td>\n",
       "      <td>0.2917</td>\n",
       "      <td>0.3208</td>\n",
       "    </tr>\n",
       "    <tr>\n",
       "      <th>14</th>\n",
       "      <td>0.0000</td>\n",
       "      <td>0.0000</td>\n",
       "      <td>0.0000</td>\n",
       "      <td>0.0000</td>\n",
       "    </tr>\n",
       "    <tr>\n",
       "      <th>15</th>\n",
       "      <td>0.6091</td>\n",
       "      <td>0.8122</td>\n",
       "      <td>0.6961</td>\n",
       "      <td>0.7034</td>\n",
       "    </tr>\n",
       "    <tr>\n",
       "      <th>16</th>\n",
       "      <td>0.5644</td>\n",
       "      <td>0.6196</td>\n",
       "      <td>0.5907</td>\n",
       "      <td>0.5913</td>\n",
       "    </tr>\n",
       "    <tr>\n",
       "      <th>17</th>\n",
       "      <td>0.0000</td>\n",
       "      <td>0.0000</td>\n",
       "      <td>0.0000</td>\n",
       "      <td>0.0000</td>\n",
       "    </tr>\n",
       "    <tr>\n",
       "      <th>18</th>\n",
       "      <td>0.0000</td>\n",
       "      <td>0.0000</td>\n",
       "      <td>0.0000</td>\n",
       "      <td>0.0000</td>\n",
       "    </tr>\n",
       "    <tr>\n",
       "      <th>19</th>\n",
       "      <td>0.4444</td>\n",
       "      <td>0.5000</td>\n",
       "      <td>0.4706</td>\n",
       "      <td>0.4714</td>\n",
       "    </tr>\n",
       "  </tbody>\n",
       "</table>\n",
       "</div>"
      ],
      "text/plain": [
       "    Precision  Recall  F1-Score  G-Mean\n",
       "0      0.0000  0.0000    0.0000  0.0000\n",
       "1      0.0000  0.0000    0.0000  0.0000\n",
       "2      0.0000  0.0000    0.0000  0.0000\n",
       "3      0.0000  0.0000    0.0000  0.0000\n",
       "4      0.0000  0.0000    0.0000  0.0000\n",
       "5      0.2500  0.3077    0.2759  0.2774\n",
       "6      0.0000  0.0000    0.0000  0.0000\n",
       "7      0.0000  0.0000    0.0000  0.0000\n",
       "8      0.0000  0.0000    0.0000  0.0000\n",
       "9      0.0000  0.0000    0.0000  0.0000\n",
       "10     0.2105  0.1481    0.1739  0.1766\n",
       "11     0.3981  0.3694    0.3832  0.3834\n",
       "12     0.0000  0.0000    0.0000  0.0000\n",
       "13     0.5000  0.2059    0.2917  0.3208\n",
       "14     0.0000  0.0000    0.0000  0.0000\n",
       "15     0.6091  0.8122    0.6961  0.7034\n",
       "16     0.5644  0.6196    0.5907  0.5913\n",
       "17     0.0000  0.0000    0.0000  0.0000\n",
       "18     0.0000  0.0000    0.0000  0.0000\n",
       "19     0.4444  0.5000    0.4706  0.4714"
      ]
     },
     "metadata": {},
     "output_type": "display_data"
    }
   ],
   "source": [
    "# Display accuracy results\n",
    "print(\"=== Model Performance Summary ===\")\n",
    "print(f\"Overall Accuracy: {accuracy_metrics['overall_accuracy']:.4f} ({accuracy_metrics['overall_accuracy']*100:.2f}%)\")\n",
    "print(f\"Kappa Coefficient: {accuracy_metrics['kappa']:.4f}\")\n",
    "print(f\"Overall G-Mean: {accuracy_metrics['overall_gmean']:.4f}\")\n",
    "\n",
    "print(\"\\n=== Per-Class Metrics ===\")\n",
    "#Class Dataframe\n",
    "metrics_df = pd.DataFrame({\n",
    "    'Precision': accuracy_metrics['precision'],\n",
    "    'Recall': accuracy_metrics['recall'],\n",
    "    'F1-Score': accuracy_metrics['f1_scores'],\n",
    "    'G-Mean': accuracy_metrics['gmean_per_class']\n",
    "})\n",
    "\n",
    "# Round to 4 decimal places\n",
    "metrics_df = metrics_df.round(4)\n",
    "\n",
    "display(metrics_df)"
   ]
  },
  {
   "cell_type": "code",
   "execution_count": 31,
   "id": "a32e88e6",
   "metadata": {},
   "outputs": [
    {
     "data": {
      "text/html": [
       "\n",
       "            <style>\n",
       "                .geemap-dark {\n",
       "                    --jp-widgets-color: white;\n",
       "                    --jp-widgets-label-color: white;\n",
       "                    --jp-ui-font-color1: white;\n",
       "                    --jp-layout-color2: #454545;\n",
       "                    background-color: #383838;\n",
       "                }\n",
       "\n",
       "                .geemap-dark .jupyter-button {\n",
       "                    --jp-layout-color3: #383838;\n",
       "                }\n",
       "\n",
       "                .geemap-colab {\n",
       "                    background-color: var(--colab-primary-surface-color, white);\n",
       "                }\n",
       "\n",
       "                .geemap-colab .jupyter-button {\n",
       "                    --jp-layout-color3: var(--colab-primary-surface-color, white);\n",
       "                }\n",
       "            </style>\n",
       "            "
      ],
      "text/plain": [
       "<IPython.core.display.HTML object>"
      ]
     },
     "metadata": {},
     "output_type": "display_data"
    },
    {
     "data": {
      "image/png": "[encoded data removed]",
      "text/plain": [
       "<Figure size 800x600 with 2 Axes>"
      ]
     },
     "metadata": {},
     "output_type": "display_data"
    }
   ],
   "source": [
    "# Visualize confusion matrix\n",
    "confusion_matrix = np.array(accuracy_metrics['confusion_matrix'])\n",
    "plt.figure(figsize=(8, 6))\n",
    "sns.heatmap(confusion_matrix, \n",
    "            annot=True, \n",
    "            fmt='d', \n",
    "            cmap='Blues')\n",
    "plt.title('Confusion Matrix')\n",
    "plt.xlabel('Predicted Class')\n",
    "plt.ylabel('Actual Class')\n",
    "plt.tight_layout()\n",
    "plt.show()"
   ]
  },
  {
   "cell_type": "code",
   "execution_count": null,
   "id": "4f7077f3",
   "metadata": {},
   "outputs": [],
   "source": [
    "# Get feature importance\n",
    "print(\"Analyzing feature importance...\")\n",
    "\n",
    "try:\n",
    "    importance_df = classifier.get_feature_importance(trained_model)\n",
    "    print(\"✓ Feature importance analysis completed\")\n",
    "    \n",
    "    display(importance_df)\n",
    "    \n",
    "except Exception as e:\n",
    "    print(f\"❌ Error in feature importance analysis: {e}\")\n",
    "# Visualize feature importance\n",
    "plt.figure(figsize=(10, 6))\n",
    "\n",
    "# Create bar plot\n",
    "bars = plt.bar(importance_df['Band'], importance_df['Importance (%)'])\n",
    "\n",
    "# Add value labels on bars\n",
    "for bar, value in zip(bars, importance_df['Importance (%)']):\n",
    "    plt.text(bar.get_x() + bar.get_width()/2, bar.get_height() + 0.5, \n",
    "             f'{value:.1f}%', ha='center', va='bottom')\n",
    "\n",
    "plt.title('Feature Importance by Spectral Band')\n",
    "plt.xlabel('Landsat 8 Bands')\n",
    "plt.ylabel('Importance (%)')\n",
    "plt.xticks(rotation=45)\n",
    "plt.grid(axis='y', alpha=0.3)\n",
    "plt.tight_layout()\n",
    "plt.show()"
   ]
  },
  {
   "cell_type": "markdown",
   "id": "0d8b2adb",
   "metadata": {},
   "source": [
    "## Visualization"
   ]
  },
  {
   "cell_type": "code",
   "execution_count": 32,
   "id": "536ab3fe",
   "metadata": {},
   "outputs": [
    {
     "data": {
      "text/html": [
       "\n",
       "            <style>\n",
       "                .geemap-dark {\n",
       "                    --jp-widgets-color: white;\n",
       "                    --jp-widgets-label-color: white;\n",
       "                    --jp-ui-font-color1: white;\n",
       "                    --jp-layout-color2: #454545;\n",
       "                    background-color: #383838;\n",
       "                }\n",
       "\n",
       "                .geemap-dark .jupyter-button {\n",
       "                    --jp-layout-color3: #383838;\n",
       "                }\n",
       "\n",
       "                .geemap-colab {\n",
       "                    background-color: var(--colab-primary-surface-color, white);\n",
       "                }\n",
       "\n",
       "                .geemap-colab .jupyter-button {\n",
       "                    --jp-layout-color3: var(--colab-primary-surface-color, white);\n",
       "                }\n",
       "            </style>\n",
       "            "
      ],
      "text/plain": [
       "<IPython.core.display.HTML object>"
      ]
     },
     "metadata": {},
     "output_type": "display_data"
    },
    {
     "data": {
      "application/vnd.jupyter.widget-view+json": {
       "model_id": "250ad03f9a3c4c7297adb7b609d91f08",
       "version_major": 2,
       "version_minor": 0
      },
      "text/plain": [
       "Map(center=[-3.2210694545062024, 104.16355582426586], controls=(WidgetControl(options=['position', 'transparen…"
      ]
     },
     "execution_count": 32,
     "metadata": {},
     "output_type": "execute_result"
    }
   ],
   "source": [
    "# === Load Classification Scheme ===\n",
    "scheme = pd.read_csv(\"../Selected_LC_Classification_Scheme.csv\", sep=None, engine=\"python\")\n",
    "classes = [str(x).strip() for x in scheme[\"Land Cover Class\"].tolist()]\n",
    "palette = [str(x).strip() for x in scheme[\"Color Palette\"].tolist()]\n",
    "ids = scheme[\"ID\"].tolist()\n",
    "legend_dict = dict(zip(classes, palette))\n",
    "\n",
    "# === Visualization Parameters ===\n",
    "vis_params = {\n",
    "    \"min\": min(ids),\n",
    "    \"max\": max(ids),\n",
    "    \"palette\": palette\n",
    "}\n",
    "\n",
    "# === Create geemap Map ===\n",
    "Map = geemap.Map() \n",
    "Map.centerObject(aoi, 7)\n",
    "Map.addLayer(classification_map, vis_params, \"LULC Classification\")\n",
    "\n",
    "# # === Add Legend ===\n",
    "Map.add_legend(\n",
    "    title=\"Land Cover Classification\", \n",
    "    legend_dict=legend_dict\n",
    "    )\n",
    "\n",
    "# Display\n",
    "Map\n"
   ]
  },
  {
   "cell_type": "markdown",
   "id": "8a8c0377",
   "metadata": {},
   "source": [
    "# Module 7: Thematic Accuracy Assessment"
   ]
  },
  {
   "cell_type": "markdown",
   "id": "6ad7a4dc",
   "metadata": {},
   "source": [
    "## System Response 7.3 Thematic Accuracy Assessment"
   ]
  },
  {
   "cell_type": "code",
   "execution_count": 33,
   "id": "9232a519",
   "metadata": {},
   "outputs": [
    {
     "data": {
      "text/html": [
       "\n",
       "            <style>\n",
       "                .geemap-dark {\n",
       "                    --jp-widgets-color: white;\n",
       "                    --jp-widgets-label-color: white;\n",
       "                    --jp-ui-font-color1: white;\n",
       "                    --jp-layout-color2: #454545;\n",
       "                    background-color: #383838;\n",
       "                }\n",
       "\n",
       "                .geemap-dark .jupyter-button {\n",
       "                    --jp-layout-color3: #383838;\n",
       "                }\n",
       "\n",
       "                .geemap-colab {\n",
       "                    background-color: var(--colab-primary-surface-color, white);\n",
       "                }\n",
       "\n",
       "                .geemap-colab .jupyter-button {\n",
       "                    --jp-layout-color3: var(--colab-primary-surface-color, white);\n",
       "                }\n",
       "            </style>\n",
       "            "
      ],
      "text/plain": [
       "<IPython.core.display.HTML object>"
      ]
     },
     "metadata": {},
     "output_type": "display_data"
    },
    {
     "name": "stdout",
     "output_type": "stream",
     "text": [
      "✓ Thematic Accuracy Assessment class initialized\n",
      "Supported metrics: ['overall_accuracy', 'kappa', 'producer_accuracy', 'user_accuracy', 'f1_scores', 'confusion_matrix']\n"
     ]
    }
   ],
   "source": [
    "from epistemx.module_7 import Thematic_Accuracy_Assessment\n",
    "from scipy import stats\n",
    "from IPython.display import display, HTML\n",
    "# Initialize the accuracy assessment class\n",
    "accuracy_assessor = Thematic_Accuracy_Assessment()\n",
    "print(\"✓ Thematic Accuracy Assessment class initialized\")\n",
    "print(f\"Supported metrics: {accuracy_assessor.supported_metrics}\")"
   ]
  },
  {
   "cell_type": "code",
   "execution_count": 34,
   "id": "6f505ccf",
   "metadata": {},
   "outputs": [
    {
     "data": {
      "text/html": [
       "\n",
       "            <style>\n",
       "                .geemap-dark {\n",
       "                    --jp-widgets-color: white;\n",
       "                    --jp-widgets-label-color: white;\n",
       "                    --jp-ui-font-color1: white;\n",
       "                    --jp-layout-color2: #454545;\n",
       "                    background-color: #383838;\n",
       "                }\n",
       "\n",
       "                .geemap-dark .jupyter-button {\n",
       "                    --jp-layout-color3: #383838;\n",
       "                }\n",
       "\n",
       "                .geemap-colab {\n",
       "                    background-color: var(--colab-primary-surface-color, white);\n",
       "                }\n",
       "\n",
       "                .geemap-colab .jupyter-button {\n",
       "                    --jp-layout-color3: var(--colab-primary-surface-color, white);\n",
       "                }\n",
       "            </style>\n",
       "            "
      ],
      "text/plain": [
       "<IPython.core.display.HTML object>"
      ]
     },
     "metadata": {},
     "output_type": "display_data"
    },
    {
     "name": "stderr",
     "output_type": "stream",
     "text": [
      "2025-10-28 06:52:50,205 - epistemx.module_7 - INFO - Starting accuracy assessment...\n",
      "2025-10-28 06:53:30,200 - epistemx.module_7 - INFO - Accuracy assessment completed successfully\n"
     ]
    },
    {
     "name": "stdout",
     "output_type": "stream",
     "text": [
      "=== Thematic Accuracy Results ===\n",
      "Overall Accuracy : 53.07%\n",
      "Kappa Coefficient: 0.310\n",
      "95% CI          : 50.09% - 56.05%\n",
      "Samples Used     : 1076\n"
     ]
    }
   ],
   "source": [
    "validation_data = geemap.shp_to_ee(\"../test_data/Evaluation_Sumsel_data.shp\") \n",
    "\n",
    "# === 2. Create Assessment Object ===\n",
    "assessor = Thematic_Accuracy_Assessment()\n",
    "\n",
    "# === 3. Run Accuracy Assessment ===\n",
    "success, results = assessor.run_accuracy_assessment(\n",
    "    lcmap=classification_map,\n",
    "    validation_data=validation_data,\n",
    "    class_property='LULC_ID',   #Validation ID column\n",
    "    scale=30\n",
    ")\n",
    "\n",
    "# === 4. Display Results ===\n",
    "if success:\n",
    "    print(\"=== Thematic Accuracy Results ===\")\n",
    "    summary = assessor.format_accuracy_summary(results)\n",
    "    print(\"Overall Accuracy :\", summary['overall_accuracy'])\n",
    "    print(\"Kappa Coefficient:\", summary['kappa'])\n",
    "    print(\"95% CI          :\", summary['confidence_interval'])\n",
    "    print(\"Samples Used     :\", summary['sample_size'])\n",
    "else:\n",
    "    print(\"Error:\", results[\"error\"])\n"
   ]
  }
 ],
 "metadata": {
  "kernelspec": {
   "display_name": "Python 3",
   "language": "python",
   "name": "python3"
  },
  "language_info": {
   "codemirror_mode": {
    "name": "ipython",
    "version": 3
   },
   "file_extension": ".py",
   "mimetype": "text/x-python",
   "name": "python",
   "nbconvert_exporter": "python",
   "pygments_lexer": "ipython3",
   "version": "3.12.1"
  }
 },
 "nbformat": 4,
 "nbformat_minor": 5
}
